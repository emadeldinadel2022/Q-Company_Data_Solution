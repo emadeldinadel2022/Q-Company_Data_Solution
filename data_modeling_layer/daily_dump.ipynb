{
 "cells": [
  {
   "cell_type": "code",
   "execution_count": 1,
   "id": "daec7501-b35e-4166-a14e-51f188e1ae62",
   "metadata": {},
   "outputs": [],
   "source": [
    "from pyspark.sql import SparkSession, DataFrame\n",
    "from pyspark.sql.types import *\n",
    "from pyspark.sql.functions import col, sum\n",
    "\n"
   ]
  },
  {
   "cell_type": "code",
   "execution_count": 2,
   "id": "1e3ea546-1a66-4af5-aff5-bcaea53a647f",
   "metadata": {},
   "outputs": [],
   "source": [
    "spark = SparkSession\\\n",
    "    .builder\\\n",
    "    .appName(\"B2B_daily_sales_dump\")\\\n",
    "    .getOrCreate()\n"
   ]
  },
  {
   "cell_type": "code",
   "execution_count": 4,
   "id": "f3012a0d-1795-4ec2-a854-1268469dff2a",
   "metadata": {},
   "outputs": [
    {
     "data": {
      "text/html": [
       "<table border='1'>\n",
       "<tr><th>transaction_date</th><th>customer_id</th><th>sales_agent_id</th><th>branch_id</th><th>product_id</th><th>product_name</th><th>product_category</th><th>units</th><th>is_online</th><th>payment_method</th><th>sales_agent_name</th><th>sales_agent_hire_date</th><th>branch_location</th><th>branch_establish_date</th><th>branch_class</th><th>group</th><th>row_index</th><th>discount</th><th>customer_name</th><th>cleaned_email</th><th>transaction_id</th><th>unit_price</th></tr>\n",
       "<tr><td>2022-07-19</td><td>85513</td><td>10.0</td><td>6.0</td><td>27</td><td>Iron</td><td>Appliances</td><td>7</td><td>no</td><td>Cash</td><td>Sophia Moore</td><td>2019-11-10</td><td>Oklahoma</td><td>2016-09-20</td><td>A</td><td>6</td><td>0</td><td>0.0</td><td>Alexander Johnson</td><td>alexander.johnson...</td><td>trx-878108770002</td><td>29.99</td></tr>\n",
       "<tr><td>2023-08-06</td><td>85510</td><td>2.0</td><td>6.0</td><td>28</td><td>Hair Dryer</td><td>Appliances</td><td>10</td><td>no</td><td>Cash</td><td>Jane Smith</td><td>2021-06-08</td><td>Oklahoma</td><td>2016-09-20</td><td>A</td><td>6</td><td>1</td><td>0.1</td><td>Ava Smith</td><td>ava.smith@gmail.com</td><td>trx-349443438637</td><td>19.99</td></tr>\n",
       "<tr><td>2022-12-28</td><td>85553</td><td>6.0</td><td>4.0</td><td>13</td><td>Printer</td><td>Electronics</td><td>2</td><td>no</td><td>Credit Card</td><td>Emma Taylor</td><td>2018-08-09</td><td>Houston</td><td>2016-11-05</td><td>D</td><td>6</td><td>2</td><td>0.15</td><td>Mia Brown</td><td>mia.brown@hotmail...</td><td>trx-045891300294</td><td>149.99</td></tr>\n",
       "<tr><td>2023-06-28</td><td>85520</td><td>3.0</td><td>2.0</td><td>12</td><td>Monitor</td><td>Electronics</td><td>6</td><td>no</td><td>Credit Card</td><td>Michael Johnson</td><td>2019-07-22</td><td>Los Angeles</td><td>2016-07-28</td><td>B</td><td>6</td><td>3</td><td>0.0</td><td>Olivia Taylor</td><td>olivia.taylor@out...</td><td>trx-756996252944</td><td>299.99</td></tr>\n",
       "<tr><td>2023-09-05</td><td>85539</td><td>8.0</td><td>3.0</td><td>5</td><td>T-Shirt</td><td>Clothing</td><td>1</td><td>no</td><td>Credit Card</td><td>Olivia Davis</td><td>2019-12-08</td><td>Chicago</td><td>2015-03-10</td><td>A</td><td>6</td><td>4</td><td>0.05</td><td>John Moore</td><td>john.moore@gmail.com</td><td>trx-491216466700</td><td>19.99</td></tr>\n",
       "<tr><td>2023-03-16</td><td>85517</td><td>7.0</td><td>4.0</td><td>15</td><td>Hoodie</td><td>Clothing</td><td>3</td><td>no</td><td>Credit Card</td><td>Christopher Miller</td><td>2018-07-05</td><td>Houston</td><td>2016-11-05</td><td>D</td><td>6</td><td>5</td><td>0.2</td><td>John Brown</td><td>john.brown@hotmai...</td><td>trx-274239612034</td><td>29.99</td></tr>\n",
       "<tr><td>2022-09-15</td><td>85496</td><td>11.0</td><td>1.0</td><td>19</td><td>Sandals</td><td>Footwear</td><td>7</td><td>no</td><td>Credit Card</td><td>john wick</td><td>2018-07-10</td><td>New York</td><td>2017-01-15</td><td>A</td><td>6</td><td>6</td><td>0.0</td><td>Emma Smith</td><td>emma.smith@gmail.com</td><td>trx-054194579945</td><td>29.99</td></tr>\n",
       "<tr><td>2022-09-24</td><td>85469</td><td>6.0</td><td>3.0</td><td>13</td><td>Printer</td><td>Electronics</td><td>3</td><td>no</td><td>Cash</td><td>Emma Taylor</td><td>2018-08-09</td><td>Chicago</td><td>2015-03-10</td><td>A</td><td>6</td><td>7</td><td>0.0</td><td>Emma Miller</td><td>emma.miller@outlo...</td><td>trx-217671445546</td><td>149.99</td></tr>\n",
       "<tr><td>2022-09-08</td><td>85529</td><td>10.0</td><td>3.0</td><td>23</td><td>Toaster</td><td>Appliances</td><td>9</td><td>no</td><td>Credit Card</td><td>Sophia Moore</td><td>2019-11-10</td><td>Chicago</td><td>2015-03-10</td><td>A</td><td>6</td><td>8</td><td>0.0</td><td>Mia Williams</td><td>mia.williams@yaho...</td><td>trx-765298457963</td><td>39.99</td></tr>\n",
       "<tr><td>2022-12-09</td><td>85523</td><td>7.0</td><td>1.0</td><td>25</td><td>Washing Machine</td><td>Appliances</td><td>1</td><td>no</td><td>Cash</td><td>Christopher Miller</td><td>2018-07-05</td><td>New York</td><td>2017-01-15</td><td>A</td><td>6</td><td>9</td><td>0.0</td><td>William Brown</td><td>william.brown@hot...</td><td>trx-469050698996</td><td>499.99</td></tr>\n",
       "<tr><td>2023-04-27</td><td>85471</td><td>7.0</td><td>2.0</td><td>6</td><td>Jeans</td><td>Clothing</td><td>1</td><td>no</td><td>Cash</td><td>Christopher Miller</td><td>2018-07-05</td><td>Los Angeles</td><td>2016-07-28</td><td>B</td><td>6</td><td>10</td><td>0.0</td><td>Olivia Smith</td><td>olivia.smith@yaho...</td><td>trx-809046673246</td><td>49.99</td></tr>\n",
       "<tr><td>2022-04-17</td><td>85550</td><td>11.0</td><td>6.0</td><td>26</td><td>Vacuum Cleaner</td><td>Appliances</td><td>5</td><td>no</td><td>Credit Card</td><td>john wick</td><td>2018-07-10</td><td>Oklahoma</td><td>2016-09-20</td><td>A</td><td>6</td><td>11</td><td>0.0</td><td>Sophia Davis</td><td>sophia.davis@yaho...</td><td>trx-718592019332</td><td>199.99</td></tr>\n",
       "<tr><td>2022-06-11</td><td>85499</td><td>7.0</td><td>5.0</td><td>6</td><td>Jeans</td><td>Clothing</td><td>5</td><td>no</td><td>Credit Card</td><td>Christopher Miller</td><td>2018-07-05</td><td>Phoenix</td><td>2017-09-20</td><td>C</td><td>6</td><td>12</td><td>0.0</td><td>Michael Johnson</td><td>michael.johnson@h...</td><td>trx-787616785970</td><td>49.99</td></tr>\n",
       "<tr><td>2023-03-13</td><td>85505</td><td>10.0</td><td>6.0</td><td>4</td><td>Headphones</td><td>Electronics</td><td>7</td><td>no</td><td>Credit Card</td><td>Sophia Moore</td><td>2019-11-10</td><td>Oklahoma</td><td>2016-09-20</td><td>A</td><td>6</td><td>13</td><td>0.2</td><td>Emma Davis</td><td>emma.davis@gmail.com</td><td>trx-323623959597</td><td>99.99</td></tr>\n",
       "<tr><td>2023-01-11</td><td>85554</td><td>10.0</td><td>5.0</td><td>8</td><td>Sneakers</td><td>Footwear</td><td>10</td><td>no</td><td>Cash</td><td>Sophia Moore</td><td>2019-11-10</td><td>Phoenix</td><td>2017-09-20</td><td>C</td><td>6</td><td>14</td><td>0.15</td><td>William Wilson</td><td>william.wilson@ho...</td><td>trx-596764527661</td><td>79.99</td></tr>\n",
       "<tr><td>2023-07-06</td><td>85487</td><td>9.0</td><td>5.0</td><td>16</td><td>Skirt</td><td>Clothing</td><td>2</td><td>no</td><td>Credit Card</td><td>Daniel Martinez</td><td>2019-07-19</td><td>Phoenix</td><td>2017-09-20</td><td>C</td><td>6</td><td>15</td><td>0.0</td><td>John Miller</td><td>john.miller@hotma...</td><td>trx-889004599286</td><td>39.99</td></tr>\n",
       "<tr><td>2022-09-18</td><td>85546</td><td>10.0</td><td>4.0</td><td>5</td><td>T-Shirt</td><td>Clothing</td><td>8</td><td>no</td><td>Cash</td><td>Sophia Moore</td><td>2019-11-10</td><td>Houston</td><td>2016-11-05</td><td>D</td><td>6</td><td>16</td><td>0.0</td><td>William Moore</td><td>william.moore@out...</td><td>trx-335344321669</td><td>19.99</td></tr>\n",
       "<tr><td>2022-11-07</td><td>85497</td><td>1.0</td><td>4.0</td><td>28</td><td>Hair Dryer</td><td>Appliances</td><td>5</td><td>no</td><td>Cash</td><td>John Doe</td><td>2020-06-10</td><td>Houston</td><td>2016-11-05</td><td>D</td><td>6</td><td>17</td><td>0.2</td><td>Emma Brown</td><td>emma.brown@gmail.com</td><td>trx-578892449561</td><td>19.99</td></tr>\n",
       "<tr><td>2023-08-01</td><td>85462</td><td>3.0</td><td>1.0</td><td>4</td><td>Headphones</td><td>Electronics</td><td>4</td><td>no</td><td>Credit Card</td><td>Michael Johnson</td><td>2019-07-22</td><td>New York</td><td>2017-01-15</td><td>A</td><td>6</td><td>18</td><td>0.15</td><td>Mia Davis</td><td>mia.davis@outlook...</td><td>trx-187203915482</td><td>99.99</td></tr>\n",
       "<tr><td>2022-09-01</td><td>85495</td><td>6.0</td><td>5.0</td><td>25</td><td>Washing Machine</td><td>Appliances</td><td>4</td><td>no</td><td>Cash</td><td>Emma Taylor</td><td>2018-08-09</td><td>Phoenix</td><td>2017-09-20</td><td>C</td><td>6</td><td>19</td><td>0.0</td><td>William Moore</td><td>william.moore@gma...</td><td>trx-358648761834</td><td>499.99</td></tr>\n",
       "</table>\n",
       "only showing top 20 rows\n"
      ],
      "text/plain": [
       "+----------------+-----------+--------------+---------+----------+---------------+----------------+-----+---------+--------------+------------------+---------------------+---------------+---------------------+------------+-----+---------+--------+-----------------+--------------------+----------------+----------+\n",
       "|transaction_date|customer_id|sales_agent_id|branch_id|product_id|   product_name|product_category|units|is_online|payment_method|  sales_agent_name|sales_agent_hire_date|branch_location|branch_establish_date|branch_class|group|row_index|discount|    customer_name|       cleaned_email|  transaction_id|unit_price|\n",
       "+----------------+-----------+--------------+---------+----------+---------------+----------------+-----+---------+--------------+------------------+---------------------+---------------+---------------------+------------+-----+---------+--------+-----------------+--------------------+----------------+----------+\n",
       "|      2022-07-19|      85513|          10.0|      6.0|        27|           Iron|      Appliances|    7|       no|          Cash|      Sophia Moore|           2019-11-10|       Oklahoma|           2016-09-20|           A|    6|        0|     0.0|Alexander Johnson|alexander.johnson...|trx-878108770002|     29.99|\n",
       "|      2023-08-06|      85510|           2.0|      6.0|        28|     Hair Dryer|      Appliances|   10|       no|          Cash|        Jane Smith|           2021-06-08|       Oklahoma|           2016-09-20|           A|    6|        1|     0.1|        Ava Smith| ava.smith@gmail.com|trx-349443438637|     19.99|\n",
       "|      2022-12-28|      85553|           6.0|      4.0|        13|        Printer|     Electronics|    2|       no|   Credit Card|       Emma Taylor|           2018-08-09|        Houston|           2016-11-05|           D|    6|        2|    0.15|        Mia Brown|mia.brown@hotmail...|trx-045891300294|    149.99|\n",
       "|      2023-06-28|      85520|           3.0|      2.0|        12|        Monitor|     Electronics|    6|       no|   Credit Card|   Michael Johnson|           2019-07-22|    Los Angeles|           2016-07-28|           B|    6|        3|     0.0|    Olivia Taylor|olivia.taylor@out...|trx-756996252944|    299.99|\n",
       "|      2023-09-05|      85539|           8.0|      3.0|         5|        T-Shirt|        Clothing|    1|       no|   Credit Card|      Olivia Davis|           2019-12-08|        Chicago|           2015-03-10|           A|    6|        4|    0.05|       John Moore|john.moore@gmail.com|trx-491216466700|     19.99|\n",
       "|      2023-03-16|      85517|           7.0|      4.0|        15|         Hoodie|        Clothing|    3|       no|   Credit Card|Christopher Miller|           2018-07-05|        Houston|           2016-11-05|           D|    6|        5|     0.2|       John Brown|john.brown@hotmai...|trx-274239612034|     29.99|\n",
       "|      2022-09-15|      85496|          11.0|      1.0|        19|        Sandals|        Footwear|    7|       no|   Credit Card|         john wick|           2018-07-10|       New York|           2017-01-15|           A|    6|        6|     0.0|       Emma Smith|emma.smith@gmail.com|trx-054194579945|     29.99|\n",
       "|      2022-09-24|      85469|           6.0|      3.0|        13|        Printer|     Electronics|    3|       no|          Cash|       Emma Taylor|           2018-08-09|        Chicago|           2015-03-10|           A|    6|        7|     0.0|      Emma Miller|emma.miller@outlo...|trx-217671445546|    149.99|\n",
       "|      2022-09-08|      85529|          10.0|      3.0|        23|        Toaster|      Appliances|    9|       no|   Credit Card|      Sophia Moore|           2019-11-10|        Chicago|           2015-03-10|           A|    6|        8|     0.0|     Mia Williams|mia.williams@yaho...|trx-765298457963|     39.99|\n",
       "|      2022-12-09|      85523|           7.0|      1.0|        25|Washing Machine|      Appliances|    1|       no|          Cash|Christopher Miller|           2018-07-05|       New York|           2017-01-15|           A|    6|        9|     0.0|    William Brown|william.brown@hot...|trx-469050698996|    499.99|\n",
       "|      2023-04-27|      85471|           7.0|      2.0|         6|          Jeans|        Clothing|    1|       no|          Cash|Christopher Miller|           2018-07-05|    Los Angeles|           2016-07-28|           B|    6|       10|     0.0|     Olivia Smith|olivia.smith@yaho...|trx-809046673246|     49.99|\n",
       "|      2022-04-17|      85550|          11.0|      6.0|        26| Vacuum Cleaner|      Appliances|    5|       no|   Credit Card|         john wick|           2018-07-10|       Oklahoma|           2016-09-20|           A|    6|       11|     0.0|     Sophia Davis|sophia.davis@yaho...|trx-718592019332|    199.99|\n",
       "|      2022-06-11|      85499|           7.0|      5.0|         6|          Jeans|        Clothing|    5|       no|   Credit Card|Christopher Miller|           2018-07-05|        Phoenix|           2017-09-20|           C|    6|       12|     0.0|  Michael Johnson|michael.johnson@h...|trx-787616785970|     49.99|\n",
       "|      2023-03-13|      85505|          10.0|      6.0|         4|     Headphones|     Electronics|    7|       no|   Credit Card|      Sophia Moore|           2019-11-10|       Oklahoma|           2016-09-20|           A|    6|       13|     0.2|       Emma Davis|emma.davis@gmail.com|trx-323623959597|     99.99|\n",
       "|      2023-01-11|      85554|          10.0|      5.0|         8|       Sneakers|        Footwear|   10|       no|          Cash|      Sophia Moore|           2019-11-10|        Phoenix|           2017-09-20|           C|    6|       14|    0.15|   William Wilson|william.wilson@ho...|trx-596764527661|     79.99|\n",
       "|      2023-07-06|      85487|           9.0|      5.0|        16|          Skirt|        Clothing|    2|       no|   Credit Card|   Daniel Martinez|           2019-07-19|        Phoenix|           2017-09-20|           C|    6|       15|     0.0|      John Miller|john.miller@hotma...|trx-889004599286|     39.99|\n",
       "|      2022-09-18|      85546|          10.0|      4.0|         5|        T-Shirt|        Clothing|    8|       no|          Cash|      Sophia Moore|           2019-11-10|        Houston|           2016-11-05|           D|    6|       16|     0.0|    William Moore|william.moore@out...|trx-335344321669|     19.99|\n",
       "|      2022-11-07|      85497|           1.0|      4.0|        28|     Hair Dryer|      Appliances|    5|       no|          Cash|          John Doe|           2020-06-10|        Houston|           2016-11-05|           D|    6|       17|     0.2|       Emma Brown|emma.brown@gmail.com|trx-578892449561|     19.99|\n",
       "|      2023-08-01|      85462|           3.0|      1.0|         4|     Headphones|     Electronics|    4|       no|   Credit Card|   Michael Johnson|           2019-07-22|       New York|           2017-01-15|           A|    6|       18|    0.15|        Mia Davis|mia.davis@outlook...|trx-187203915482|     99.99|\n",
       "|      2022-09-01|      85495|           6.0|      5.0|        25|Washing Machine|      Appliances|    4|       no|          Cash|       Emma Taylor|           2018-08-09|        Phoenix|           2017-09-20|           C|    6|       19|     0.0|    William Moore|william.moore@gma...|trx-358648761834|    499.99|\n",
       "+----------------+-----------+--------------+---------+----------+---------------+----------------+-----+---------+--------------+------------------+---------------------+---------------+---------------------+------------+-----+---------+--------+-----------------+--------------------+----------------+----------+\n",
       "only showing top 20 rows"
      ]
     },
     "execution_count": 4,
     "metadata": {},
     "output_type": "execute_result"
    }
   ],
   "source": [
    "#Offline Transactions Schema\n",
    "offline_transactions = StructType([\n",
    "    StructField(\"transaction_date\", StringType(), nullable=False),\n",
    "    StructField(\"customer_id\", LongType(), nullable=False),\n",
    "    StructField(\"sales_agent_id\", StringType(), nullable=False),\n",
    "    StructField(\"branch_id\", StringType(), nullable=False),\n",
    "    StructField(\"product_id\", IntegerType(), nullable=False),\n",
    "    StructField(\"product_name\", StringType(), nullable=False),\n",
    "    StructField(\"product_category\", StringType(), nullable=False),\n",
    "    StructField(\"units\", IntegerType(), nullable=False),\n",
    "    StructField(\"is_online\", StringType(), nullable=False),\n",
    "    StructField(\"payment_method\", StringType(), nullable=False),\n",
    "    StructField(\"sales_agent_name\", StringType(), nullable=False),\n",
    "    StructField(\"sales_agent_hire_date\", StringType(), nullable=False),\n",
    "    StructField(\"branch_location\", StringType(), nullable=False),\n",
    "    StructField(\"branch_establish_date\", StringType(), nullable=False),\n",
    "    StructField(\"branch_class\", StringType(), nullable=False),\n",
    "    StructField(\"group\", StringType(), nullable=False),\n",
    "    StructField(\"row_index\", StringType(), nullable=False),\n",
    "    StructField(\"discount\", FloatType(), nullable=False),\n",
    "    StructField(\"customer_name\", StringType(), nullable=False),\n",
    "    StructField(\"cleaned_email\", StringType(), nullable=False),\n",
    "    StructField(\"transaction_id\", StringType(), nullable=False),\n",
    "    StructField(\"unit_price\", DoubleType(), nullable=False)\n",
    "])\n",
    "\n",
    "# Path to the directory containing the CSV files\n",
    "offline_merged = \"/Graduation_Project/cleaned_data/offline/*/*.csv\"\n",
    "\n",
    "# Read all CSV files in the directory into a single DataFrame without schema for verification\n",
    "offline_merged_df = spark.read.option(\"header\", \"true\").schema(offline_transactions).csv(offline_merged)\n",
    "offline_merged_df.coalesce(1)"
   ]
  },
  {
   "cell_type": "code",
   "execution_count": 5,
   "id": "c3c87415-6ca6-49f6-8c8a-67626dcdd7db",
   "metadata": {},
   "outputs": [
    {
     "data": {
      "text/plain": [
       "505000"
      ]
     },
     "execution_count": 5,
     "metadata": {},
     "output_type": "execute_result"
    }
   ],
   "source": [
    "offline_merged_df.count()"
   ]
  },
  {
   "cell_type": "code",
   "execution_count": 18,
   "id": "c1738fa7-7483-4cfb-857c-68996f66c8e3",
   "metadata": {},
   "outputs": [],
   "source": [
    "daily_sales_dump_df=offline_merged_df.select(\n",
    "    col(\"sales_agent_name\"),\n",
    "    col(\"product_name\"),\n",
    "    col(\"units\"))\n",
    "\n"
   ]
  },
  {
   "cell_type": "code",
   "execution_count": 19,
   "id": "83c11139-f8d1-4193-990d-98643940a469",
   "metadata": {},
   "outputs": [
    {
     "data": {
      "text/html": [
       "<table border='1'>\n",
       "<tr><th>sales_agent_name</th><th>product_name</th><th>total_sold_units</th></tr>\n",
       "<tr><td>Christopher Miller</td><td>Heels</td><td>8567</td></tr>\n",
       "<tr><td>Christopher Miller</td><td>Hair Dryer</td><td>8501</td></tr>\n",
       "<tr><td>Christopher Miller</td><td>Smartphone</td><td>9052</td></tr>\n",
       "<tr><td>Christopher Miller</td><td>Headphones</td><td>8500</td></tr>\n",
       "<tr><td>Christopher Miller</td><td>Microwave</td><td>8649</td></tr>\n",
       "<tr><td>Christopher Miller</td><td>Coffee Maker</td><td>7978</td></tr>\n",
       "<tr><td>Christopher Miller</td><td>T-Shirt</td><td>8343</td></tr>\n",
       "<tr><td>Christopher Miller</td><td>Camera</td><td>8544</td></tr>\n",
       "<tr><td>Christopher Miller</td><td>Electric Kettle</td><td>8562</td></tr>\n",
       "<tr><td>Christopher Miller</td><td>Washing Machine</td><td>8716</td></tr>\n",
       "<tr><td>Christopher Miller</td><td>Skirt</td><td>8349</td></tr>\n",
       "<tr><td>Christopher Miller</td><td>Hoodie</td><td>8276</td></tr>\n",
       "<tr><td>Christopher Miller</td><td>Jeans</td><td>8187</td></tr>\n",
       "<tr><td>Christopher Miller</td><td>Iron</td><td>8160</td></tr>\n",
       "<tr><td>Christopher Miller</td><td>Dress</td><td>8663</td></tr>\n",
       "<tr><td>Christopher Miller</td><td>Monitor</td><td>8239</td></tr>\n",
       "<tr><td>Christopher Miller</td><td>Hair Straightener</td><td>8374</td></tr>\n",
       "<tr><td>Christopher Miller</td><td>Printer</td><td>7999</td></tr>\n",
       "<tr><td>Christopher Miller</td><td>Blender</td><td>8572</td></tr>\n",
       "<tr><td>Christopher Miller</td><td>Tablet</td><td>8462</td></tr>\n",
       "</table>\n",
       "only showing top 20 rows\n"
      ],
      "text/plain": [
       "+------------------+-----------------+----------------+\n",
       "|  sales_agent_name|     product_name|total_sold_units|\n",
       "+------------------+-----------------+----------------+\n",
       "|Christopher Miller|            Heels|            8567|\n",
       "|Christopher Miller|       Hair Dryer|            8501|\n",
       "|Christopher Miller|       Smartphone|            9052|\n",
       "|Christopher Miller|          Printer|            7999|\n",
       "|Christopher Miller|           Tablet|            8462|\n",
       "|Christopher Miller|   Vacuum Cleaner|            8462|\n",
       "|Christopher Miller|            Boots|           17101|\n",
       "|Christopher Miller|     Coffee Maker|            7978|\n",
       "|Christopher Miller|         Sneakers|            7867|\n",
       "|Christopher Miller|          Sandals|           17225|\n",
       "|Christopher Miller|            Jeans|            8187|\n",
       "|Christopher Miller|             Iron|            8160|\n",
       "|Christopher Miller|               TV|            8239|\n",
       "|Christopher Miller|          Monitor|            8239|\n",
       "|Christopher Miller|Hair Straightener|            8374|\n",
       "|Christopher Miller|          Blender|            8572|\n",
       "|Christopher Miller|       Headphones|            8500|\n",
       "|Christopher Miller|           Blouse|            8493|\n",
       "|Christopher Miller|        Microwave|            8649|\n",
       "|Christopher Miller|          Toaster|            8341|\n",
       "+------------------+-----------------+----------------+\n",
       "only showing top 20 rows"
      ]
     },
     "execution_count": 19,
     "metadata": {},
     "output_type": "execute_result"
    }
   ],
   "source": [
    "daily_sales_dump_df = daily_sales_dump_df.groupBy(\"sales_agent_name\", \"product_name\") \\\n",
    "              .agg(sum(col(\"units\")).alias(\"total_sold_units\")).orderBy(\"sales_agent_name\")\n",
    "\n",
    "\n",
    "daily_sales_dump_df.coalesce(1)"
   ]
  },
  {
   "cell_type": "code",
   "execution_count": 21,
   "id": "90eebcd4-d806-4927-b051-e5b09113cbcd",
   "metadata": {},
   "outputs": [],
   "source": [
    "output_path = \"file:///data/daily_sales_dump\"\n",
    "daily_sales_dump_df.coalesce(1).write.option(\"header\", \"true\").mode(\"overwrite\").csv(output_path)\n",
    "\n"
   ]
  },
  {
   "cell_type": "code",
   "execution_count": null,
   "id": "6b12ccc3-9ad0-4710-aef7-297673ea0159",
   "metadata": {},
   "outputs": [],
   "source": [
    "spark.stop()\n"
   ]
  }
 ],
 "metadata": {
  "kernelspec": {
   "display_name": "Pyspark 2",
   "language": "python",
   "name": "pyspark2"
  },
  "language_info": {
   "codemirror_mode": {
    "name": "ipython",
    "version": 3
   },
   "file_extension": ".py",
   "mimetype": "text/x-python",
   "name": "python",
   "nbconvert_exporter": "python",
   "pygments_lexer": "ipython3",
   "version": "3.6.9"
  }
 },
 "nbformat": 4,
 "nbformat_minor": 5
}
