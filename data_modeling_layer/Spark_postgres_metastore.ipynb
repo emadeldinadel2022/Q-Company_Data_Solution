{
 "cells": [
  {
   "cell_type": "code",
   "execution_count": null,
   "id": "4a18cb79-c99a-437c-928e-9c334d1dddd2",
   "metadata": {},
   "outputs": [],
   "source": [
    "from pyspark.sql import SparkSession, DataFrame\n",
    "from pyspark.sql.types import *\n",
    "from pyspark.sql.functions import col, concat_ws, row_number\n",
    "from pyspark.sql.window import Window\n",
    "from itertools import chain\n",
    "from typing import Dict\n",
    "import re \n",
    "from pyspark.sql.functions import col, lit, when, coalesce, split, concat, udf, \\\n",
    "                                    regexp_replace, lower, monotonically_increasing_id, regexp_extract, create_map\n",
    "from pyspark.sql.functions import sum, col, month, year, format_number \n"
   ]
  },
  {
   "cell_type": "code",
   "execution_count": null,
   "id": "aee7d827-99e5-4190-a9e6-8c7dfa94f5ef",
   "metadata": {},
   "outputs": [],
   "source": [
    "# Add PostgreSQL JDBC driver to the Spark session\n",
    "spark = SparkSession.builder \\\n",
    "    .appName(\"Spark_postgres_metastore\") \\\n",
    "    .config(\"spark.jars\", \"/opt/spark3/jars/postgresql-42.2.19.jar\") \\\n",
    "    .getOrCreate()\n"
   ]
  },
  {
   "cell_type": "code",
   "execution_count": null,
   "id": "6ccacf76-653d-481c-a542-d3ce7a074a2c",
   "metadata": {},
   "outputs": [],
   "source": [
    "# JDBC connection properties\n",
    "jdbc_url = \"jdbc:postgresql://metabase_db:5432/metabase\"\n",
    "connection_properties = {\n",
    "    \"user\": \"metabase\",\n",
    "    \"password\": \"metabasepassword\",\n",
    "    \"driver\": \"org.postgresql.Driver\"\n",
    "}"
   ]
  },
  {
   "cell_type": "code",
   "execution_count": null,
   "id": "0e18be6d-f903-4329-9dc1-93a9a1a69871",
   "metadata": {},
   "outputs": [],
   "source": [
    "# Define schema for date_dim\n",
    "date_dim_schema = StructType([\n",
    "    StructField(\"datee\", DateType(), True),\n",
    "    StructField(\"date_key\", LongType(), True),\n",
    "    StructField(\"day\", IntegerType(), True),\n",
    "    StructField(\"day_of_week\", IntegerType(), True),\n",
    "    StructField(\"day_of_year\", IntegerType(), True),\n",
    "    StructField(\"week_of_year\", IntegerType(), True),\n",
    "    StructField(\"month\", IntegerType(), True),\n",
    "    StructField(\"quarter\", IntegerType(), True),\n",
    "    StructField(\"year\", IntegerType(), True),\n",
    "    StructField(\"is_weekend\", IntegerType(), True),\n",
    "    StructField(\"month_name\", StringType(), True),\n",
    "    StructField(\"day_name\", StringType(), True),\n",
    "    StructField(\"year_month\", StringType(), True)\n",
    "])\n",
    "\n",
    "# Load date_dim data\n",
    "date_dim_df = spark.read.csv(\"/Graduation_Project/transformed_data/schema/date_dim.csv/\", \n",
    "                             schema=date_dim_schema, header=True)"
   ]
  },
  {
   "cell_type": "code",
   "execution_count": null,
   "id": "9fcfcc4d-d5ac-4430-8a7c-39d5e9aed399",
   "metadata": {},
   "outputs": [],
   "source": [
    "# Define schema for branches_dim\n",
    "branches_dim_schema = StructType([\n",
    "    StructField(\"branch_id\", DoubleType(), True),\n",
    "    StructField(\"branch_location\", StringType(), True),\n",
    "    StructField(\"branch_establish_date\", DateType(), True),\n",
    "    StructField(\"branch_class\", StringType(), True),\n",
    "    StructField(\"branch_key\", IntegerType(), True)\n",
    "])\n",
    "\n",
    "# Load branches_dim data\n",
    "branches_dim_df = spark.read.csv(\"/Graduation_Project/transformed_data/schema/branches_dim.csv/\", \n",
    "                                 schema=branches_dim_schema, header=True)"
   ]
  },
  {
   "cell_type": "code",
   "execution_count": null,
   "id": "3b626195-32e3-4904-b644-95f620e14674",
   "metadata": {},
   "outputs": [],
   "source": [
    "# Define schema for sales_agent_dim\n",
    "sales_agent_dim_schema = StructType([\n",
    "    StructField(\"sales_agent_id\", DoubleType(), True),\n",
    "    StructField(\"sales_agent_hire_date\", DateType(), True),\n",
    "    StructField(\"sales_agent_name\", StringType(), True),\n",
    "    StructField(\"sales_agent_key\", IntegerType(), True)\n",
    "])\n",
    "\n",
    "# Load sales_agent_dim data\n",
    "sales_agent_dim_df = spark.read.csv(\"/Graduation_Project/transformed_data/schema/sales_agent_dim.csv/\", \n",
    "                                    schema=sales_agent_dim_schema, header=True)"
   ]
  },
  {
   "cell_type": "code",
   "execution_count": null,
   "id": "a9406f3a-cca0-4e02-a165-4baaaf7764d1",
   "metadata": {},
   "outputs": [],
   "source": [
    "# Define schema for customer_dim\n",
    "customer_dim_schema = StructType([\n",
    "    StructField(\"customer_id\", StringType(), True),\n",
    "    StructField(\"customer_name\", StringType(), True),\n",
    "    StructField(\"cleaned_email\", StringType(), True),\n",
    "    StructField(\"customer_key\", IntegerType(), True)\n",
    "])\n",
    "\n",
    "# Load customer_dim data\n",
    "customer_dim_df = spark.read.csv(\"/Graduation_Project/transformed_data/schema/customer_dim.csv/\", \n",
    "                                 schema=customer_dim_schema, header=True)"
   ]
  },
  {
   "cell_type": "code",
   "execution_count": null,
   "id": "406e9ba4-c788-4eec-b92b-40c9e0cf6170",
   "metadata": {},
   "outputs": [],
   "source": [
    "# Define schema for product_dim\n",
    "product_dim_schema = StructType([\n",
    "    StructField(\"product_id\", StringType(), True),\n",
    "    StructField(\"product_name\", StringType(), True),\n",
    "    StructField(\"product_category\", StringType(), True),\n",
    "    StructField(\"unit_price\", DoubleType(), True),\n",
    "    StructField(\"product_key\", IntegerType(), True)\n",
    "])\n",
    "\n",
    "# Load product_dim data\n",
    "product_dim_df = spark.read.csv(\"/Graduation_Project/transformed_data/schema/products_dim.csv/\", \n",
    "                                schema=product_dim_schema, header=True)"
   ]
  },
  {
   "cell_type": "code",
   "execution_count": null,
   "id": "fb7234fc-67ce-475f-adbf-e8c5904afd96",
   "metadata": {},
   "outputs": [],
   "source": [
    "# Define schema for offline_transactions_fact\n",
    "offline_transactions_fact_schema = StructType([\n",
    "    StructField(\"transaction_id\", StringType(), True),\n",
    "    StructField(\"units\", IntegerType(), True),\n",
    "    StructField(\"discount\", DoubleType(), True),\n",
    "    StructField(\"payment_method\", StringType(), True),\n",
    "    StructField(\"total_price\", DoubleType(), True),\n",
    "    StructField(\"date_key\", LongType(), True),\n",
    "    StructField(\"product_key\", IntegerType(), True),\n",
    "    StructField(\"customer_name\", StringType(), True),\n",
    "    StructField(\"cleaned_email\", StringType(), True),\n",
    "    StructField(\"customer_key\", IntegerType(), True),\n",
    "    StructField(\"branch_key\", IntegerType(), True),\n",
    "    StructField(\"sales_agent_key\", IntegerType(), True)\n",
    "])\n",
    "\n",
    "# Load offline_transactions_fact data\n",
    "offline_transactions_fact_df = spark.read.csv(\"/Graduation_Project/transformed_data/schema/offline_transactions_fact.csv/\", \n",
    "                                              schema=offline_transactions_fact_schema, header=True)"
   ]
  },
  {
   "cell_type": "code",
   "execution_count": null,
   "id": "08d9d20e-a1f0-4f60-b782-3b2fb3d7aeba",
   "metadata": {
    "tags": []
   },
   "outputs": [],
   "source": [
    "# Define schema for online_transactions_fact\n",
    "online_transactions_fact_schema = StructType([\n",
    "    StructField(\"transaction_id\", StringType(), True),\n",
    "    StructField(\"units\", IntegerType(), True),\n",
    "    StructField(\"discount\", DoubleType(), True),\n",
    "    StructField(\"payment_method\", StringType(), True),\n",
    "    StructField(\"group_from\", IntegerType(), True),\n",
    "    StructField(\"total_price\", DoubleType(), True),\n",
    "    StructField(\"date_key\", LongType(), True),\n",
    "    StructField(\"shipping_zip_code\", StringType(), True),\n",
    "    StructField(\"shipping_state\", StringType(), True),\n",
    "    StructField(\"shipping_city\", StringType(), True),\n",
    "    StructField(\"shipping_street_name\", StringType(), True),\n",
    "    StructField(\"product_key\", IntegerType(), True),\n",
    "    StructField(\"customer_key\", IntegerType(), True)\n",
    "])\n",
    "\n",
    "# Load online_transactions_fact data\n",
    "online_transactions_fact_df = spark.read.csv(\"/Graduation_Project/transformed_data/schema/online_transactions_fact.csv/\", \n",
    "                                             schema=online_transactions_fact_schema, header=True)"
   ]
  },
  {
   "cell_type": "code",
   "execution_count": 178,
   "id": "c080997a-f61d-406b-a901-4ff4d4f1b213",
   "metadata": {
    "tags": []
   },
   "outputs": [
    {
     "name": "stdout",
     "output_type": "stream",
     "text": [
      "+----+-----+--------------------+\n",
      "|year|month|         total_sales|\n",
      "+----+-----+--------------------+\n",
      "|2022|    1| 2.240577144306126E7|\n",
      "|2022|    2| 2.250910127161768E7|\n",
      "|2022|    3| 2.201956558332828E7|\n",
      "|2022|    4| 2.188690018374264E7|\n",
      "|2022|    5|2.2693279069808323E7|\n",
      "|2022|    6|2.2266633558739174E7|\n",
      "|2022|    7|2.3118430164284844E7|\n",
      "|2022|    8|2.2497213684118897E7|\n",
      "|2022|    9|2.2234833784322567E7|\n",
      "|2022|   10| 2.267815755658198E7|\n",
      "|2022|   11|2.2267563414613158E7|\n",
      "|2022|   12|2.2834241794397544E7|\n",
      "|2023|    1|2.2466372007944487E7|\n",
      "|2023|    2| 2.247959145307955E7|\n",
      "|2023|    3| 2.270246326197837E7|\n",
      "|2023|    4|2.2601553327856522E7|\n",
      "|2023|    5|2.2439523122745883E7|\n",
      "|2023|    6|2.2933544736905064E7|\n",
      "|2023|    7| 2.244627951684256E7|\n",
      "|2023|    8|2.2465396811820537E7|\n",
      "+----+-----+--------------------+\n",
      "only showing top 20 rows\n",
      "\n"
     ]
    }
   ],
   "source": [
    "# Join online and offline transactions with date_dim to get the month and year\n",
    "online_sales_with_date = online_transactions_fact_df.join(date_dim_df, online_transactions_fact_df['date_key'] == date_dim_df['date_key'])\n",
    "offline_sales_with_date = offline_transactions_fact_df.join(date_dim_df, offline_transactions_fact_df['date_key'] == date_dim_df['date_key'])\n",
    "\n",
    "# Calculate total sales by month for online transactions \n",
    "online_monthly_sales = online_sales_with_date.groupBy(year('datee').alias('year'), month('datee').alias('month')).agg(sum('total_price').alias('total_sales'))\n",
    "\n",
    "# Calculate total sales by month for offline transactions\n",
    "offline_monthly_sales = offline_sales_with_date.groupBy(year('datee').alias('year'), month('datee').alias('month')).agg(sum('total_price').alias('total_sales'))\n",
    "\n",
    "# Combine both online and offline sales\n",
    "total_monthly_sales_2 = online_monthly_sales.union(offline_monthly_sales).groupBy('year', 'month').agg(sum('total_sales').alias('total_sales')).orderBy('year', 'month')\n",
    "\n",
    "\n",
    "# Show the result\n",
    "total_monthly_sales_2.show()\n"
   ]
  },
  {
   "cell_type": "code",
   "execution_count": null,
   "id": "96e115a3-18f2-4cd2-bcbb-26dfcc61d344",
   "metadata": {},
   "outputs": [],
   "source": [
    "# Format the total_sales column\n",
    "total_monthly_sales = total_monthly_sales_2.withColumn('total_sales', format_number('total_sales', 2))\n",
    "total_monthly_sales.show()\n",
    "\n"
   ]
  },
  {
   "cell_type": "code",
   "execution_count": 162,
   "id": "5afd3561-2a3c-4383-9a13-075049a5e32f",
   "metadata": {},
   "outputs": [],
   "source": [
    "# Write DataFrame to PostgreSQL\n",
    "total_monthly_sales.write.jdbc(url=jdbc_url, table=\"total_monthly_sales\", mode=\"overwrite\", properties=connection_properties)"
   ]
  },
  {
   "cell_type": "code",
   "execution_count": 179,
   "id": "ac32d005-8dfd-4f6f-9c7f-f38b8c204272",
   "metadata": {},
   "outputs": [
    {
     "name": "stdout",
     "output_type": "stream",
     "text": [
      "+-----------------+-------------+\n",
      "|     product_name|  total_sales|\n",
      "+-----------------+-------------+\n",
      "|           Laptop|96,558,184.53|\n",
      "|               TV|84,177,639.80|\n",
      "|       Smartphone|67,389,192.37|\n",
      "|  Washing Machine|47,582,798.38|\n",
      "|           Camera|37,987,410.34|\n",
      "|           Tablet|28,426,137.47|\n",
      "|          Monitor|28,305,661.48|\n",
      "|            Boots|26,670,636.36|\n",
      "|   Vacuum Cleaner|18,980,950.93|\n",
      "|          Printer|14,240,140.61|\n",
      "|        Microwave|12,448,407.87|\n",
      "|       Headphones| 9,564,033.51|\n",
      "|         Sneakers| 7,623,151.00|\n",
      "|     Coffee Maker| 7,494,055.14|\n",
      "|          Sandals| 6,664,337.03|\n",
      "|            Dress| 5,715,028.34|\n",
      "|            Heels| 5,710,850.04|\n",
      "|          Blender| 4,771,288.06|\n",
      "|            Jeans| 4,715,621.69|\n",
      "|Hair Straightener| 3,847,495.89|\n",
      "+-----------------+-------------+\n",
      "only showing top 20 rows\n",
      "\n"
     ]
    }
   ],
   "source": [
    "# Join transactions with product_dim\n",
    "online_sales_with_product = online_transactions_fact_df.join(product_dim_df, online_transactions_fact_df['product_key'] == product_dim_df['product_key'])\n",
    "offline_sales_with_product = offline_transactions_fact_df.join(product_dim_df, offline_transactions_fact_df['product_key'] == product_dim_df['product_key'])\n",
    "\n",
    "# Calculate total sales by product for online transactions\n",
    "online_product_sales = online_sales_with_product.groupBy('product_name').agg(sum('total_price').alias('total_sales'))\n",
    "\n",
    "# Calculate total sales by product for offline transactions\n",
    "offline_product_sales = offline_sales_with_product.groupBy('product_name').agg(sum('total_price').alias('total_sales'))\n",
    "\n",
    "# Combine both online and offline sales\n",
    "total_product_sales = online_product_sales.union(offline_product_sales).groupBy('product_name').agg(sum('total_sales').alias('total_sales')).orderBy('total_sales', ascending=False)\n",
    "\n",
    "# Format the total_sales column\n",
    "total_product_sales = total_product_sales.withColumn('total_sales', format_number('total_sales', 2))\n",
    "\n",
    "# Show the result\n",
    "total_product_sales.show()\n"
   ]
  },
  {
   "cell_type": "code",
   "execution_count": 163,
   "id": "dd945f25-07ad-40d8-a82d-8f03e6994d26",
   "metadata": {},
   "outputs": [],
   "source": [
    "# Write DataFrame to PostgreSQL\n",
    "total_product_sales.write.jdbc(url=jdbc_url, table=\"total_product_sales\", mode=\"overwrite\", properties=connection_properties)"
   ]
  },
  {
   "cell_type": "code",
   "execution_count": 180,
   "id": "dc2e8299-276d-4b26-8683-c215c94ad625",
   "metadata": {},
   "outputs": [
    {
     "name": "stdout",
     "output_type": "stream",
     "text": [
      "+--------------+--------------+\n",
      "|payment_method|   total_sales|\n",
      "+--------------+--------------+\n",
      "|   Credit Card|262,511,822.18|\n",
      "|          Cash|245,202,090.97|\n",
      "|        PayPal| 16,836,704.48|\n",
      "|        Stripe| 16,698,372.44|\n",
      "+--------------+--------------+\n",
      "\n"
     ]
    }
   ],
   "source": [
    "# Calculate total sales by payment method for online transactions\n",
    "online_payment_method_sales = online_transactions_fact_df.groupBy('payment_method').agg(sum('total_price').alias('total_sales'))\n",
    "\n",
    "# Calculate total sales by payment method for offline transactions\n",
    "offline_payment_method_sales = offline_transactions_fact_df.groupBy('payment_method').agg(sum('total_price').alias('total_sales'))\n",
    "\n",
    "# Combine both online and offline sales\n",
    "total_payment_method_sales = online_payment_method_sales.union(offline_payment_method_sales).groupBy('payment_method').agg(sum('total_sales').alias('total_sales')).orderBy('total_sales', ascending=False)\n",
    "\n",
    "# Format the total_sales column\n",
    "total_payment_method_sales = total_payment_method_sales.withColumn('total_sales', format_number('total_sales', 2))\n",
    "\n",
    "\n",
    "total_payment_method_sales.show()\n"
   ]
  },
  {
   "cell_type": "code",
   "execution_count": 164,
   "id": "c39d3204-5a29-4aa4-b379-5a33104bda4e",
   "metadata": {},
   "outputs": [],
   "source": [
    "# Write DataFrame to PostgreSQL\n",
    "total_payment_method_sales.write.jdbc(url=jdbc_url, table=\"total_payment_method_sales\", mode=\"overwrite\", properties=connection_properties)"
   ]
  },
  {
   "cell_type": "code",
   "execution_count": null,
   "id": "101f46c4-45ea-480c-9621-6020d0c9fd00",
   "metadata": {},
   "outputs": [],
   "source": [
    "# Join transactions with customer_dim\n",
    "offline_transactions_fact_df_e=offline_transactions_fact_df.drop(\"customer_name\")\n",
    "online_sales_with_customer = online_transactions_fact_df.join(customer_dim_df, online_transactions_fact_df['customer_key'] == customer_dim_df['customer_key'])\n",
    "offline_sales_with_customer = offline_transactions_fact_df_e.join(customer_dim_df, offline_transactions_fact_df['customer_key'] == customer_dim_df['customer_key'])\n",
    "\n",
    "# Calculate total sales by customer for online transactions\n",
    "online_customer_sales = online_sales_with_customer.groupBy('customer_id').agg(sum('total_price').alias('total_sales'))\n",
    "\n",
    "# Calculate total sales by customer for offline transactions\n",
    "offline_customer_sales = offline_sales_with_customer.groupBy('customer_id').agg(sum('total_price').alias('total_sales'))\n",
    "\n",
    "# Combine both online and offline sales\n",
    "total_customer_sales = online_customer_sales.union(offline_customer_sales).groupBy('customer_id').agg(sum('total_sales').alias('total_sales')).orderBy('total_sales', ascending=False)\n",
    "\n",
    "# Format the total_sales column\n",
    "total_customer_sales = total_customer_sales.withColumn('total_sales', format_number('total_sales', 2))\n",
    "\n",
    "total_customer_sales.show(101)"
   ]
  },
  {
   "cell_type": "code",
   "execution_count": 165,
   "id": "94de4666-ee24-4766-92db-38762bdb0038",
   "metadata": {},
   "outputs": [],
   "source": [
    "# Write DataFrame to PostgreSQL\n",
    "total_customer_sales.write.jdbc(url=jdbc_url, table=\"total_customer_sales\", mode=\"overwrite\", properties=connection_properties)"
   ]
  },
  {
   "cell_type": "code",
   "execution_count": null,
   "id": "d0d7fe72-53db-408a-bb44-e70d3051877a",
   "metadata": {},
   "outputs": [],
   "source": [
    "# Join offline transactions with branches_dim\n",
    "offline_sales_with_branch = offline_transactions_fact_df.join(branches_dim_df, offline_transactions_fact_df['branch_key'] == branches_dim_df['branch_key'])\n",
    "\n",
    "# Calculate total sales by branch\n",
    "branch_sales = offline_sales_with_branch.groupBy('branch_id').agg(sum('total_price').alias('total_sales')).orderBy('total_sales', ascending=False)\n",
    "\n",
    "# Format the total_sales column\n",
    "branch_sales = branch_sales.withColumn('total_sales', format_number('total_sales', 2))\n",
    "\n",
    "branch_sales.show()\n"
   ]
  },
  {
   "cell_type": "code",
   "execution_count": 166,
   "id": "85e90e71-cd0f-4c94-9625-8f12280c4503",
   "metadata": {},
   "outputs": [],
   "source": [
    "# Write DataFrame to PostgreSQL\n",
    "branch_sales.write.jdbc(url=jdbc_url, table=\"branch_sales\", mode=\"overwrite\", properties=connection_properties)"
   ]
  },
  {
   "cell_type": "code",
   "execution_count": null,
   "id": "a89a1d44-7417-4271-a3e7-4720c329098d",
   "metadata": {},
   "outputs": [],
   "source": [
    "# Join offline transactions with sales_agent_dim\n",
    "offline_sales_with_agent = offline_transactions_fact_df.join(sales_agent_dim_df, offline_transactions_fact_df['sales_agent_key'] == sales_agent_dim_df['sales_agent_key'])\n",
    "\n",
    "# Calculate total sales by sales agent\n",
    "agent_sales = offline_sales_with_agent.groupBy('sales_agent_name').agg(sum('total_price').alias('total_sales')).orderBy('total_sales', ascending=False)\n",
    "\n",
    "# Format the total_sales column\n",
    "agent_sales = agent_sales.withColumn('total_sales', format_number('total_sales', 2))\n",
    "\n",
    "agent_sales.show()\n"
   ]
  },
  {
   "cell_type": "code",
   "execution_count": 167,
   "id": "33751228-16d5-49a3-a39c-cd5285f8f453",
   "metadata": {},
   "outputs": [],
   "source": [
    "# Write DataFrame to PostgreSQL\n",
    "agent_sales.write.jdbc(url=jdbc_url, table=\"agent_sales\", mode=\"overwrite\", properties=connection_properties)"
   ]
  },
  {
   "cell_type": "code",
   "execution_count": null,
   "id": "80908779-cd08-4853-acf7-12da37bd336a",
   "metadata": {},
   "outputs": [],
   "source": [
    "# Calculate units sold by product for online transactions\n",
    "online_units_by_product = online_transactions_fact_df.groupBy('product_key').agg(sum('units').alias('total_units'))\n",
    "\n",
    "# Calculate units sold by product for offline transactions\n",
    "offline_units_by_product = offline_transactions_fact_df.groupBy('product_key').agg(sum('units').alias('total_units'))\n",
    "\n",
    "# Combine both online and offline units sold\n",
    "total_units_by_product = online_units_by_product.union(offline_units_by_product).groupBy('product_key').agg(sum('total_units').alias('total_units')).orderBy('total_units', ascending=False).limit(10)\n",
    "\n",
    "# Join with product_dim to get product names\n",
    "top_products = total_units_by_product.join(product_dim_df, total_units_by_product['product_key'] == product_dim_df['product_key']).select('product_name', 'total_units').orderBy('total_units', ascending=False)\n",
    "\n",
    "# Format the total_sales column\n",
    "top_products = top_products.withColumn('total_units', format_number('total_units', 2))\n",
    "\n",
    "top_products.show()\n"
   ]
  },
  {
   "cell_type": "code",
   "execution_count": 168,
   "id": "9ffb9712-14f1-4680-9040-8d539aa03402",
   "metadata": {},
   "outputs": [],
   "source": [
    "# Write DataFrame to PostgreSQL\n",
    "top_products.write.jdbc(url=jdbc_url, table=\"top_products\", mode=\"overwrite\", properties=connection_properties)"
   ]
  },
  {
   "cell_type": "code",
   "execution_count": null,
   "id": "07b74394-9e25-4737-90a2-c82a3f481294",
   "metadata": {},
   "outputs": [],
   "source": [
    "# Calculate average discount by product for online transactions\n",
    "online_discount_by_product = online_transactions_fact_df.groupBy('product_key').agg(avg('discount').alias('average_discount'))\n",
    "\n",
    "# Calculate average discount by product for offline transactions\n",
    "offline_discount_by_product = offline_transactions_fact_df.groupBy('product_key').agg(avg('discount').alias('average_discount'))\n",
    "\n",
    "# Combine both online and offline average discounts\n",
    "total_discount_by_product = online_discount_by_product.union(offline_discount_by_product).groupBy('product_key').agg(avg('average_discount').alias('average_discount')).orderBy('average_discount', ascending=False)\n",
    "\n",
    "# Join with product_dim to get product names\n",
    "discount_by_product = total_discount_by_product.join(product_dim_df, total_discount_by_product['product_key'] == product_dim_df['product_key']).select('product_name', 'average_discount').orderBy('average_discount', ascending=False)\n",
    "\n",
    "# Format the total_sales column\n",
    "discount_by_product = discount_by_product.withColumn('average_discount', format_number('average_discount', 5))\n",
    "\n",
    "\n",
    "discount_by_product.show()\n"
   ]
  },
  {
   "cell_type": "code",
   "execution_count": 169,
   "id": "55b3137d-a80e-4601-a2d0-bceba4ca4d67",
   "metadata": {},
   "outputs": [],
   "source": [
    "# Write DataFrame to PostgreSQL\n",
    "discount_by_product.write.jdbc(url=jdbc_url, table=\"discount_by_product\", mode=\"overwrite\", properties=connection_properties)"
   ]
  },
  {
   "cell_type": "code",
   "execution_count": null,
   "id": "161e92fd-ef94-43ca-a015-9845cc75b668",
   "metadata": {},
   "outputs": [],
   "source": [
    "# Calculate sales trend over time for online transactions\n",
    "online_sales_trend = online_transactions_fact_df.join(date_dim_df, online_transactions_fact_df['date_key'] == date_dim_df['date_key']).groupBy('datee').agg(sum('total_price').alias('total_sales')).orderBy('datee')\n",
    "\n",
    "# Calculate sales trend over time for offline transactions\n",
    "offline_sales_trend = offline_transactions_fact_df.join(date_dim_df, offline_transactions_fact_df['date_key'] == date_dim_df['date_key']).groupBy('datee').agg(sum('total_price').alias('total_sales')).orderBy('datee')\n",
    "\n",
    "# Combine both online and offline sales trends\n",
    "total_sales_trend = online_sales_trend.union(offline_sales_trend).groupBy('datee').agg(sum('total_sales').alias('total_sales')).orderBy('datee')\n",
    "\n",
    "# Format the total_sales column\n",
    "total_sales_trend = total_sales_trend.withColumn('total_sales', format_number('total_sales', 2))\n",
    "\n",
    "\n",
    "\n",
    "total_sales_trend.show()\n"
   ]
  },
  {
   "cell_type": "code",
   "execution_count": 170,
   "id": "0622b5dd-4aa8-420c-9d80-4836c031b4d0",
   "metadata": {},
   "outputs": [],
   "source": [
    "# Write DataFrame to PostgreSQL\n",
    "total_sales_trend.write.jdbc(url=jdbc_url, table=\"total_sales_trend\", mode=\"overwrite\", properties=connection_properties)"
   ]
  },
  {
   "cell_type": "code",
   "execution_count": null,
   "id": "c0f097e9-0208-44a3-a84c-d0e0b6de063f",
   "metadata": {},
   "outputs": [],
   "source": [
    "# Join transactions with product_dim\n",
    "online_sales_with_category = online_transactions_fact_df.join(product_dim_df, online_transactions_fact_df['product_key'] == product_dim_df['product_key'])\n",
    "offline_sales_with_category = offline_transactions_fact_df.join(product_dim_df, offline_transactions_fact_df['product_key'] == product_dim_df['product_key'])\n",
    "\n",
    "# Calculate total sales by product category for online transactions\n",
    "online_category_sales = online_sales_with_category.groupBy('product_category').agg(sum('total_price').alias('total_sales'))\n",
    "\n",
    "# Calculate total sales by product category for offline transactions\n",
    "offline_category_sales = offline_sales_with_category.groupBy('product_category').agg(sum('total_price').alias('total_sales'))\n",
    "\n",
    "# Combine both online and offline sales\n",
    "total_category_sales = online_category_sales.union(offline_category_sales).groupBy('product_category').agg(sum('total_sales').alias('total_sales')).orderBy('total_sales', ascending=False)\n",
    "\n",
    "# Format the total_sales column\n",
    "total_category_sales = total_category_sales.withColumn('total_sales', format_number('total_sales', 2))\n",
    "\n",
    "\n",
    "total_category_sales.show()\n"
   ]
  },
  {
   "cell_type": "code",
   "execution_count": 171,
   "id": "a109985d-c824-440b-8f71-3d3c5d1ed093",
   "metadata": {},
   "outputs": [],
   "source": [
    "# Write DataFrame to PostgreSQL\n",
    "total_category_sales.write.jdbc(url=jdbc_url, table=\"total_category_sales\", mode=\"overwrite\", properties=connection_properties)"
   ]
  },
  {
   "cell_type": "code",
   "execution_count": null,
   "id": "e8986379-18ea-4382-9b79-504ff77646cf",
   "metadata": {},
   "outputs": [],
   "source": [
    "# Calculate average sales per customer for online transactions\n",
    "online_avg_sales_per_customer = online_transactions_fact_df.groupBy('customer_key').agg(avg('total_price').alias('average_sales'))\n",
    "\n",
    "# Calculate average sales per customer for offline transactions\n",
    "offline_avg_sales_per_customer = offline_transactions_fact_df.groupBy('customer_key').agg(avg('total_price').alias('average_sales'))\n",
    "\n",
    "# Combine both online and offline average sales per customer\n",
    "total_avg_sales_per_customer = online_avg_sales_per_customer.union(offline_avg_sales_per_customer).groupBy('customer_key').agg(avg('average_sales').alias('average_sales')).orderBy('average_sales', ascending=False)\n",
    "\n",
    "# Join with customer_dim to get customer names\n",
    "avg_sales_per_customer = total_avg_sales_per_customer.join(customer_dim_df, total_avg_sales_per_customer['customer_key'] == customer_dim_df['customer_key']).select('customer_name', 'average_sales').orderBy('average_sales', ascending=False)\n",
    "\n",
    "# Format the total_sales column\n",
    "avg_sales_per_customer = avg_sales_per_customer.withColumn('average_sales', format_number('average_sales', 2))\n",
    "\n",
    "\n",
    "avg_sales_per_customer.show()\n"
   ]
  },
  {
   "cell_type": "code",
   "execution_count": 172,
   "id": "b6002468-35fd-44a0-8e3f-5fa087bd33d2",
   "metadata": {},
   "outputs": [],
   "source": [
    "# Write DataFrame to PostgreSQL\n",
    "avg_sales_per_customer.write.jdbc(url=jdbc_url, table=\"avg_sales_per_customer\", mode=\"overwrite\", properties=connection_properties)"
   ]
  },
  {
   "cell_type": "code",
   "execution_count": null,
   "id": "f3b5b818-ac09-47c5-aec0-1d3d393c1ff0",
   "metadata": {},
   "outputs": [],
   "source": [
    "# Calculate frequency of transactions by customer for online transactions\n",
    "online_freq_customers = online_transactions_fact_df.groupBy('customer_key').count()\n",
    "\n",
    "# Calculate frequency of transactions by customer for offline transactions\n",
    "offline_freq_customers = offline_transactions_fact_df.groupBy('customer_key').count()\n",
    "\n",
    "# Combine both online and offline frequency of transactions\n",
    "total_freq_customers = online_freq_customers.union(offline_freq_customers).groupBy('customer_key').agg(sum('count').alias('total_transactions'))\n",
    "\n",
    "# Join with customer_dim to get customer names\n",
    "freq_customers = total_freq_customers.join(customer_dim_df, 'customer_key').select('customer_name', 'total_transactions').orderBy('total_transactions', ascending=False)\n",
    "\n",
    "# Show the result\n",
    "freq_customers.show()\n"
   ]
  },
  {
   "cell_type": "code",
   "execution_count": 173,
   "id": "114b0de6-425f-456c-8e33-a79bc77c3ce7",
   "metadata": {},
   "outputs": [],
   "source": [
    "# Write DataFrame to PostgreSQL\n",
    "freq_customers.write.jdbc(url=jdbc_url, table=\"freq_customers\", mode=\"overwrite\", properties=connection_properties)"
   ]
  },
  {
   "cell_type": "code",
   "execution_count": null,
   "id": "7b2478a3-a3bd-46e2-87ef-b4a5049c8ea5",
   "metadata": {},
   "outputs": [],
   "source": [
    "# Calculate total sales by state for online transactions\n",
    "online_sales_by_state = online_transactions_fact_df.groupBy('shipping_state').agg(sum('total_price').alias('total_sales'))\n",
    "\n",
    "# Calculate total sales by state for offline transactions\n",
    "offline_sales_by_state = offline_transactions_fact_df.join(branches_dim_df, offline_transactions_fact_df['branch_key'] == branches_dim_df['branch_key']).groupBy('branch_location').agg(sum('total_price').alias('total_sales'))\n",
    "\n",
    "# Combine both online and offline sales by state\n",
    "total_sales_by_state = online_sales_by_state.union(offline_sales_by_state).groupBy('shipping_state').agg(sum('total_sales').alias('total_sales')).orderBy('total_sales', ascending=False).limit(10)\n",
    "\n",
    "# Format the total_sales column\n",
    "total_sales_by_state = total_sales_by_state.withColumn('total_sales', format_number('total_sales', 2))\n",
    "\n",
    "total_sales_by_state.show()\n"
   ]
  },
  {
   "cell_type": "code",
   "execution_count": 174,
   "id": "79f74e25-a284-4eb2-ae3f-09cdc7e48e03",
   "metadata": {},
   "outputs": [],
   "source": [
    "# Write DataFrame to PostgreSQL\n",
    "total_sales_by_state.write.jdbc(url=jdbc_url, table=\"total_sales_by_state\", mode=\"overwrite\", properties=connection_properties)"
   ]
  },
  {
   "cell_type": "code",
   "execution_count": null,
   "id": "fb94c072-0a69-45ba-9edf-0be3f15adcae",
   "metadata": {},
   "outputs": [],
   "source": [
    "# Calculate total sales and total units by customer for online transactions\n",
    "online_clv = online_transactions_fact_df.groupBy('customer_key').agg(sum('total_price').alias('total_sales'), sum('units').alias('total_units'))\n",
    "\n",
    "# Calculate total sales and total units by customer for offline transactions\n",
    "offline_clv = offline_transactions_fact_df.groupBy('customer_key').agg(sum('total_price').alias('total_sales'), sum('units').alias('total_units'))\n",
    "\n",
    "# Combine both online and offline CLV\n",
    "total_clv = online_clv.union(offline_clv).groupBy('customer_key').agg(sum('total_sales').alias('total_sales'), sum('total_units').alias('total_units')).orderBy('total_sales', ascending=False)\n",
    "\n",
    "# Join with customer_dim to get customer names\n",
    "clv = total_clv.join(customer_dim_df, total_clv['customer_key'] == customer_dim_df['customer_key']).select('customer_name', 'total_sales', 'total_units').orderBy('total_sales', ascending=False)\n",
    "\n",
    "# Format the total_sales column\n",
    "clv = clv.withColumn('total_sales', format_number('total_sales', 2))\n",
    "\n",
    "\n",
    "clv.show()\n"
   ]
  },
  {
   "cell_type": "code",
   "execution_count": 175,
   "id": "b97e1471-1639-4bad-ac70-d05f8476ab95",
   "metadata": {},
   "outputs": [],
   "source": [
    "# Write DataFrame to PostgreSQL\n",
    "clv.write.jdbc(url=jdbc_url, table=\"clv\", mode=\"overwrite\", properties=connection_properties)"
   ]
  },
  {
   "cell_type": "code",
   "execution_count": null,
   "id": "8556557d-85c8-449e-af75-de9c975155af",
   "metadata": {},
   "outputs": [],
   "source": [
    "from pyspark.sql.functions import lag\n",
    "from pyspark.sql.window import Window\n",
    "\n",
    "# Calculate total sales by month\n",
    "monthly_sales = total_monthly_sales_2\n",
    "\n",
    "# Add a column for the previous month's sales\n",
    "window_spec = Window.orderBy('year', 'month')\n",
    "monthly_sales = monthly_sales.withColumn('prev_month_sales', lag('total_sales').over(window_spec))\n",
    "\n",
    "# Calculate the growth rate\n",
    "monthly_sales = monthly_sales.withColumn('growth_rate', (col('total_sales') - col('prev_month_sales')) / col('prev_month_sales') * 100)\n",
    "\n",
    "# Format the total_sales column\n",
    "monthly_sales = monthly_sales.withColumn('growth_rate', format_number('growth_rate', 2))\n",
    "\n",
    "monthly_sales.show()\n"
   ]
  },
  {
   "cell_type": "code",
   "execution_count": 177,
   "id": "911ea8c8-647b-488f-a461-296c61f7d849",
   "metadata": {},
   "outputs": [],
   "source": [
    "# Write DataFrame to PostgreSQL\n",
    "monthly_sales.write.jdbc(url=jdbc_url, table=\"monthly_sales\", mode=\"overwrite\", properties=connection_properties)"
   ]
  },
  {
   "cell_type": "code",
   "execution_count": null,
   "id": "4f0116c8-52b8-4049-a8cc-e3a82ae50848",
   "metadata": {},
   "outputs": [],
   "source": []
  }
 ],
 "metadata": {
  "kernelspec": {
   "display_name": "Pyspark 2",
   "language": "python",
   "name": "pyspark2"
  },
  "language_info": {
   "codemirror_mode": {
    "name": "ipython",
    "version": 3
   },
   "file_extension": ".py",
   "mimetype": "text/x-python",
   "name": "python",
   "nbconvert_exporter": "python",
   "pygments_lexer": "ipython3",
   "version": "3.6.9"
  }
 },
 "nbformat": 4,
 "nbformat_minor": 5
}
