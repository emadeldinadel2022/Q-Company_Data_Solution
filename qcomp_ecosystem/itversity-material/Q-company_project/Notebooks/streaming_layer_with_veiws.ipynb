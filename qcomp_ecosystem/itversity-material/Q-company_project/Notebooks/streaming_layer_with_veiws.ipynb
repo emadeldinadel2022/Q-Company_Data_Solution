{
 "cells": [
  {
   "cell_type": "code",
   "execution_count": 132,
   "id": "555c3d3d-e890-4f2d-a3e2-cb15e2f9bc92",
   "metadata": {},
   "outputs": [],
   "source": [
    "from pyspark.sql import SparkSession\n",
    "from pyspark.sql.functions import from_json, col, window, when, lit, approx_count_distinct, count, \\\n",
    "                                    avg, sum as spark_sum, expr\n",
    "from pyspark.sql.types import StructType, StringType, IntegerType, TimestampType, DoubleType"
   ]
  },
  {
   "cell_type": "code",
   "execution_count": 133,
   "id": "c297462e-cc6b-4d3b-97ee-05deadf3536d",
   "metadata": {},
   "outputs": [
    {
     "data": {
      "text/html": [
       "\n",
       "            <div>\n",
       "                <p><b>SparkSession - in-memory</b></p>\n",
       "                \n",
       "        <div>\n",
       "            <p><b>SparkContext</b></p>\n",
       "\n",
       "            <p><a href=\"http://itvdelab:4040\">Spark UI</a></p>\n",
       "\n",
       "            <dl>\n",
       "              <dt>Version</dt>\n",
       "                <dd><code>v2.4.8</code></dd>\n",
       "              <dt>Master</dt>\n",
       "                <dd><code>yarn</code></dd>\n",
       "              <dt>AppName</dt>\n",
       "                <dd><code>KafkaStreamingExample</code></dd>\n",
       "            </dl>\n",
       "        </div>\n",
       "        \n",
       "            </div>\n",
       "        "
      ],
      "text/plain": [
       "<pyspark.sql.session.SparkSession at 0x7fb49cf02470>"
      ]
     },
     "execution_count": 133,
     "metadata": {},
     "output_type": "execute_result"
    }
   ],
   "source": [
    "spark = SparkSession.builder \\\n",
    "    .appName(\"KafkaStreamingExample\") \\\n",
    "    .config(\"spark.jars.packages\", \"org.apache.spark:spark-sql-kafka-0-10_2.11:2.4.8\") \\\n",
    "    .getOrCreate()\n",
    "\n",
    "spark"
   ]
  },
  {
   "cell_type": "code",
   "execution_count": 134,
   "id": "78c5f1c7-f726-4519-8811-6c68bc1ae518",
   "metadata": {},
   "outputs": [],
   "source": [
    "def create_hdfs_dir(path):\n",
    "    fs = spark._jvm.org.apache.hadoop.fs.FileSystem.get(spark._jsc.hadoopConfiguration())\n",
    "    if not fs.exists(spark._jvm.org.apache.hadoop.fs.Path(path)):\n",
    "        fs.mkdirs(spark._jvm.org.apache.hadoop.fs.Path(path))\n",
    "        print(f\"Created directory: {path}\")\n",
    "    else:\n",
    "        print(f\"Directory already exists: {path}\")\n"
   ]
  },
  {
   "cell_type": "code",
   "execution_count": 135,
   "id": "758956a1-b0bf-4b22-8095-37719174b112",
   "metadata": {},
   "outputs": [
    {
     "name": "stdout",
     "output_type": "stream",
     "text": [
      "Created directory: hdfs://localhost:9000/user/itversity/q-company_customer_events\n",
      "Created directory: hdfs://localhost:9000/user/itversity/checkpoints_custevents/\n",
      "Created directory: hdfs://localhost:9000/user/itversity/q-company_customer_events/views\n",
      "Created directory: hdfs://localhost:9000/user/itversity/q-company_customer_events/views/hourly_sales\n",
      "Created directory: hdfs://localhost:9000/user/itversity/checkpoints_custevents/hourly_sales\n",
      "Created directory: hdfs://localhost:9000/user/itversity/q-company_customer_events/views/category_performance\n",
      "Created directory: hdfs://localhost:9000/user/itversity/checkpoints_custevents/category_performance\n",
      "Created directory: hdfs://localhost:9000/user/itversity/q-company_customer_events/views/payment_method_trends\n",
      "Created directory: hdfs://localhost:9000/user/itversity/checkpoints_custevents/payment_method_trends\n",
      "Created directory: hdfs://localhost:9000/user/itversity/q-company_customer_events/views/customer_segmentation\n",
      "Created directory: hdfs://localhost:9000/user/itversity/checkpoints_custevents/customer_segmentation\n",
      "Created directory: hdfs://localhost:9000/user/itversity/q-company_customer_events/views/product_inventory\n",
      "Created directory: hdfs://localhost:9000/user/itversity/checkpoints_custevents/product_inventory\n"
     ]
    }
   ],
   "source": [
    "directories = [\n",
    "    \"hdfs://localhost:9000/user/itversity/q-company_raw_layer\",\n",
    "    \"hdfs://localhost:9000/user/itversity/q-company_standardized_layer\",\n",
    "    \"hdfs://localhost:9000/user/itversity/q-company_conformed_layer\",\n",
    "    \"hdfs://localhost:9000/user/itversity/q-company_conformed_layer/denormalized_model\",\n",
    "    \"hdfs://localhost:9000/user/itversity/q-company_conformed_layer/normalized_model\",\n",
    "    \"hdfs://localhost:9000/user/itversity/q-company_conformed_layer/denormalized_model/all_sales_fact_table\",\n",
    "    \"hdfs://localhost:9000/user/itversity/q-company_conformed_layer/denormalized_model/offline_sales_fact_table\",\n",
    "    \"hdfs://localhost:9000/user/itversity/q-company_conformed_layer/denormalized_model/online_fact_table\",\n",
    "    \"hdfs://localhost:9000/user/itversity/q-company_conformed_layer/normalized_model/branch_dim\",\n",
    "    \"hdfs://localhost:9000/user/itversity/q-company_conformed_layer/normalized_model/customer_dim\",\n",
    "    \"hdfs://localhost:9000/user/itversity/q-company_conformed_layer/normalized_model/product_dim\",\n",
    "    \"hdfs://localhost:9000/user/itversity/q-company_conformed_layer/normalized_model/sales_agent_dim\",\n",
    "    \"hdfs://localhost:9000/user/itversity/q-company_conformed_layer/normalized_model/date_dim\",\n",
    "    \"hdfs://localhost:9000/user/itversity/q-company_conformed_layer/normalized_model/online_sales_fact\",\n",
    "    \"hdfs://localhost:9000/user/itversity/q-company_conformed_layer/normalized_model/offline_sales_fa\",\n",
    "    \"hdfs://localhost:9000/user/itversity/q-company_customer_events\",\n",
    "    \"hdfs://localhost:9000/user/itversity/checkpoints_custevents/\",\n",
    "    \"hdfs://localhost:9000/user/itversity/q-company_customer_events/views\",\n",
    "    \"hdfs://localhost:9000/user/itversity/q-company_customer_events/views/hourly_sales\",\n",
    "    \"hdfs://localhost:9000/user/itversity/checkpoints_custevents/hourly_sales\",\n",
    "    \"hdfs://localhost:9000/user/itversity/q-company_customer_events/views/category_performance\",\n",
    "    \"hdfs://localhost:9000/user/itversity/checkpoints_custevents/category_performance\",\n",
    "    \"hdfs://localhost:9000/user/itversity/q-company_customer_events/views/payment_method_trends\",\n",
    "    \"hdfs://localhost:9000/user/itversity/checkpoints_custevents/payment_method_trends\",\n",
    "    \"hdfs://localhost:9000/user/itversity/q-company_customer_events/views/customer_segmentation\",\n",
    "    \"hdfs://localhost:9000/user/itversity/checkpoints_custevents/customer_segmentation\",\n",
    "    \"hdfs://localhost:9000/user/itversity/q-company_customer_events/views/product_inventory\",\n",
    "    \"hdfs://localhost:9000/user/itversity/checkpoints_custevents/product_inventory\"\n",
    "]\n",
    "\n",
    "for directory in directories:\n",
    "    create_hdfs_dir(directory)\n"
   ]
  },
  {
   "cell_type": "code",
   "execution_count": 136,
   "id": "79a23123-1dc0-4870-ad31-f6b40c75d76e",
   "metadata": {},
   "outputs": [],
   "source": [
    "schema = StructType() \\\n",
    "    .add(\"eventType\", StringType()) \\\n",
    "    .add(\"customerId\", StringType()) \\\n",
    "    .add(\"productId\", StringType()) \\\n",
    "    .add(\"timestamp\", TimestampType()) \\\n",
    "    .add(\"metadata\", StructType()\n",
    "        .add(\"category\", StringType())\n",
    "        .add(\"source\", StringType())\n",
    "    ) \\\n",
    "    .add(\"quantity\", IntegerType()) \\\n",
    "    .add(\"totalAmount\", DoubleType()) \\\n",
    "    .add(\"paymentMethod\", StringType()) \\\n",
    "    .add(\"recommendedProductId\", StringType()) \\\n",
    "    .add(\"algorithm\", StringType())\n",
    "\n"
   ]
  },
  {
   "cell_type": "code",
   "execution_count": 137,
   "id": "e0b8201e-3344-4c10-b2f7-e21f8940a949",
   "metadata": {},
   "outputs": [],
   "source": [
    "bootstrap_servers = \"pkc-56d1g.eastus.azure.confluent.cloud:9092\"\n",
    "kafka_topic = \"Emad_topic\" # add topic name\n",
    "kafka_username = \"JUKQQM4ZM632RECA\"\n",
    "kafka_password = \"UUkrPuSttgOC0U9lY3ZansNsKfN9fbxZPFwrGxudDrfv+knTD4rCwK+KdIzVPX0D\""
   ]
  },
  {
   "cell_type": "code",
   "execution_count": 138,
   "id": "553856e3-beb6-43df-b799-5408e0521ca2",
   "metadata": {},
   "outputs": [],
   "source": [
    "df = spark \\\n",
    "    .readStream \\\n",
    "    .format(\"kafka\") \\\n",
    "    .option(\"kafka.bootstrap.servers\", bootstrap_servers) \\\n",
    "    .option(\"subscribe\", kafka_topic) \\\n",
    "    .option(\"startingOffsets\", \"earliest\") \\\n",
    "    .option(\"kafka.security.protocol\", \"SASL_SSL\") \\\n",
    "    .option(\"kafka.sasl.mechanism\", \"PLAIN\") \\\n",
    "    .option(\"kafka.sasl.jaas.config\",\n",
    "            f'org.apache.kafka.common.security.plain.PlainLoginModule required username=\"{kafka_username}\" password=\"{kafka_password}\";') \\\n",
    "    .load()\n",
    "\n"
   ]
  },
  {
   "cell_type": "code",
   "execution_count": 139,
   "id": "6f8bb227-fc06-4fae-b2ec-a3f96e806d55",
   "metadata": {},
   "outputs": [],
   "source": [
    "json_df = df.selectExpr(\"CAST(value AS STRING)\").select(from_json(\"value\", schema).alias(\"data\")).select(\"data.*\")\n",
    "\n",
    "json_df = json_df.withColumn(\"date\", col(\"timestamp\").cast(\"date\"))\n"
   ]
  },
  {
   "cell_type": "code",
   "execution_count": 140,
   "id": "14d4ab94-b104-470d-b9f9-9ee923ca277d",
   "metadata": {},
   "outputs": [],
   "source": [
    "query_stream = json_df \\\n",
    "    .writeStream \\\n",
    "    .outputMode(\"append\") \\\n",
    "    .format(\"parquet\") \\\n",
    "    .option(\"path\", \"hdfs://localhost:9000//user/itversity/q-company_customer_events\") \\\n",
    "    .option(\"checkpointLocation\", \"hdfs://localhost:9000/user/itversity/checkpoints_custevents\") \\\n",
    "    .option(\"maxRecordsPerFile\", 1000000) \\\n",
    "    .partitionBy(\"eventType\", \"date\") \\\n",
    "    .trigger(processingTime='1 minutes') \\\n",
    "    .start()\n"
   ]
  },
  {
   "cell_type": "code",
   "execution_count": 141,
   "id": "f4ef250b-0ae1-4da6-98c9-ccedf359f103",
   "metadata": {
    "tags": []
   },
   "outputs": [
    {
     "ename": "KeyboardInterrupt",
     "evalue": "",
     "output_type": "error",
     "traceback": [
      "\u001b[0;31m---------------------------------------------------------------------------\u001b[0m",
      "\u001b[0;31mKeyboardInterrupt\u001b[0m                         Traceback (most recent call last)",
      "\u001b[0;32m<ipython-input-141-f892fd3f454f>\u001b[0m in \u001b[0;36m<module>\u001b[0;34m\u001b[0m\n\u001b[0;32m----> 1\u001b[0;31m \u001b[0mquery_stream\u001b[0m\u001b[0;34m.\u001b[0m\u001b[0mawaitTermination\u001b[0m\u001b[0;34m(\u001b[0m\u001b[0;34m)\u001b[0m\u001b[0;34m\u001b[0m\u001b[0;34m\u001b[0m\u001b[0m\n\u001b[0m",
      "\u001b[0;32m/opt/spark2/python/pyspark/sql/streaming.py\u001b[0m in \u001b[0;36mawaitTermination\u001b[0;34m(self, timeout)\u001b[0m\n\u001b[1;32m    101\u001b[0m             \u001b[0;32mreturn\u001b[0m \u001b[0mself\u001b[0m\u001b[0;34m.\u001b[0m\u001b[0m_jsq\u001b[0m\u001b[0;34m.\u001b[0m\u001b[0mawaitTermination\u001b[0m\u001b[0;34m(\u001b[0m\u001b[0mint\u001b[0m\u001b[0;34m(\u001b[0m\u001b[0mtimeout\u001b[0m \u001b[0;34m*\u001b[0m \u001b[0;36m1000\u001b[0m\u001b[0;34m)\u001b[0m\u001b[0;34m)\u001b[0m\u001b[0;34m\u001b[0m\u001b[0;34m\u001b[0m\u001b[0m\n\u001b[1;32m    102\u001b[0m         \u001b[0;32melse\u001b[0m\u001b[0;34m:\u001b[0m\u001b[0;34m\u001b[0m\u001b[0;34m\u001b[0m\u001b[0m\n\u001b[0;32m--> 103\u001b[0;31m             \u001b[0;32mreturn\u001b[0m \u001b[0mself\u001b[0m\u001b[0;34m.\u001b[0m\u001b[0m_jsq\u001b[0m\u001b[0;34m.\u001b[0m\u001b[0mawaitTermination\u001b[0m\u001b[0;34m(\u001b[0m\u001b[0;34m)\u001b[0m\u001b[0;34m\u001b[0m\u001b[0;34m\u001b[0m\u001b[0m\n\u001b[0m\u001b[1;32m    104\u001b[0m \u001b[0;34m\u001b[0m\u001b[0m\n\u001b[1;32m    105\u001b[0m     \u001b[0;34m@\u001b[0m\u001b[0mproperty\u001b[0m\u001b[0;34m\u001b[0m\u001b[0;34m\u001b[0m\u001b[0m\n",
      "\u001b[0;32m/opt/spark2/python/lib/py4j-0.10.7-src.zip/py4j/java_gateway.py\u001b[0m in \u001b[0;36m__call__\u001b[0;34m(self, *args)\u001b[0m\n\u001b[1;32m   1253\u001b[0m             \u001b[0mproto\u001b[0m\u001b[0;34m.\u001b[0m\u001b[0mEND_COMMAND_PART\u001b[0m\u001b[0;34m\u001b[0m\u001b[0;34m\u001b[0m\u001b[0m\n\u001b[1;32m   1254\u001b[0m \u001b[0;34m\u001b[0m\u001b[0m\n\u001b[0;32m-> 1255\u001b[0;31m         \u001b[0manswer\u001b[0m \u001b[0;34m=\u001b[0m \u001b[0mself\u001b[0m\u001b[0;34m.\u001b[0m\u001b[0mgateway_client\u001b[0m\u001b[0;34m.\u001b[0m\u001b[0msend_command\u001b[0m\u001b[0;34m(\u001b[0m\u001b[0mcommand\u001b[0m\u001b[0;34m)\u001b[0m\u001b[0;34m\u001b[0m\u001b[0;34m\u001b[0m\u001b[0m\n\u001b[0m\u001b[1;32m   1256\u001b[0m         return_value = get_return_value(\n\u001b[1;32m   1257\u001b[0m             answer, self.gateway_client, self.target_id, self.name)\n",
      "\u001b[0;32m/opt/spark2/python/lib/py4j-0.10.7-src.zip/py4j/java_gateway.py\u001b[0m in \u001b[0;36msend_command\u001b[0;34m(self, command, retry, binary)\u001b[0m\n\u001b[1;32m    983\u001b[0m         \u001b[0mconnection\u001b[0m \u001b[0;34m=\u001b[0m \u001b[0mself\u001b[0m\u001b[0;34m.\u001b[0m\u001b[0m_get_connection\u001b[0m\u001b[0;34m(\u001b[0m\u001b[0;34m)\u001b[0m\u001b[0;34m\u001b[0m\u001b[0;34m\u001b[0m\u001b[0m\n\u001b[1;32m    984\u001b[0m         \u001b[0;32mtry\u001b[0m\u001b[0;34m:\u001b[0m\u001b[0;34m\u001b[0m\u001b[0;34m\u001b[0m\u001b[0m\n\u001b[0;32m--> 985\u001b[0;31m             \u001b[0mresponse\u001b[0m \u001b[0;34m=\u001b[0m \u001b[0mconnection\u001b[0m\u001b[0;34m.\u001b[0m\u001b[0msend_command\u001b[0m\u001b[0;34m(\u001b[0m\u001b[0mcommand\u001b[0m\u001b[0;34m)\u001b[0m\u001b[0;34m\u001b[0m\u001b[0;34m\u001b[0m\u001b[0m\n\u001b[0m\u001b[1;32m    986\u001b[0m             \u001b[0;32mif\u001b[0m \u001b[0mbinary\u001b[0m\u001b[0;34m:\u001b[0m\u001b[0;34m\u001b[0m\u001b[0;34m\u001b[0m\u001b[0m\n\u001b[1;32m    987\u001b[0m                 \u001b[0;32mreturn\u001b[0m \u001b[0mresponse\u001b[0m\u001b[0;34m,\u001b[0m \u001b[0mself\u001b[0m\u001b[0;34m.\u001b[0m\u001b[0m_create_connection_guard\u001b[0m\u001b[0;34m(\u001b[0m\u001b[0mconnection\u001b[0m\u001b[0;34m)\u001b[0m\u001b[0;34m\u001b[0m\u001b[0;34m\u001b[0m\u001b[0m\n",
      "\u001b[0;32m/opt/spark2/python/lib/py4j-0.10.7-src.zip/py4j/java_gateway.py\u001b[0m in \u001b[0;36msend_command\u001b[0;34m(self, command)\u001b[0m\n\u001b[1;32m   1150\u001b[0m \u001b[0;34m\u001b[0m\u001b[0m\n\u001b[1;32m   1151\u001b[0m         \u001b[0;32mtry\u001b[0m\u001b[0;34m:\u001b[0m\u001b[0;34m\u001b[0m\u001b[0;34m\u001b[0m\u001b[0m\n\u001b[0;32m-> 1152\u001b[0;31m             \u001b[0manswer\u001b[0m \u001b[0;34m=\u001b[0m \u001b[0msmart_decode\u001b[0m\u001b[0;34m(\u001b[0m\u001b[0mself\u001b[0m\u001b[0;34m.\u001b[0m\u001b[0mstream\u001b[0m\u001b[0;34m.\u001b[0m\u001b[0mreadline\u001b[0m\u001b[0;34m(\u001b[0m\u001b[0;34m)\u001b[0m\u001b[0;34m[\u001b[0m\u001b[0;34m:\u001b[0m\u001b[0;34m-\u001b[0m\u001b[0;36m1\u001b[0m\u001b[0;34m]\u001b[0m\u001b[0;34m)\u001b[0m\u001b[0;34m\u001b[0m\u001b[0;34m\u001b[0m\u001b[0m\n\u001b[0m\u001b[1;32m   1153\u001b[0m             \u001b[0mlogger\u001b[0m\u001b[0;34m.\u001b[0m\u001b[0mdebug\u001b[0m\u001b[0;34m(\u001b[0m\u001b[0;34m\"Answer received: {0}\"\u001b[0m\u001b[0;34m.\u001b[0m\u001b[0mformat\u001b[0m\u001b[0;34m(\u001b[0m\u001b[0manswer\u001b[0m\u001b[0;34m)\u001b[0m\u001b[0;34m)\u001b[0m\u001b[0;34m\u001b[0m\u001b[0;34m\u001b[0m\u001b[0m\n\u001b[1;32m   1154\u001b[0m             \u001b[0;32mif\u001b[0m \u001b[0manswer\u001b[0m\u001b[0;34m.\u001b[0m\u001b[0mstartswith\u001b[0m\u001b[0;34m(\u001b[0m\u001b[0mproto\u001b[0m\u001b[0;34m.\u001b[0m\u001b[0mRETURN_MESSAGE\u001b[0m\u001b[0;34m)\u001b[0m\u001b[0;34m:\u001b[0m\u001b[0;34m\u001b[0m\u001b[0;34m\u001b[0m\u001b[0m\n",
      "\u001b[0;32m/usr/lib/python3.6/socket.py\u001b[0m in \u001b[0;36mreadinto\u001b[0;34m(self, b)\u001b[0m\n\u001b[1;32m    584\u001b[0m         \u001b[0;32mwhile\u001b[0m \u001b[0;32mTrue\u001b[0m\u001b[0;34m:\u001b[0m\u001b[0;34m\u001b[0m\u001b[0;34m\u001b[0m\u001b[0m\n\u001b[1;32m    585\u001b[0m             \u001b[0;32mtry\u001b[0m\u001b[0;34m:\u001b[0m\u001b[0;34m\u001b[0m\u001b[0;34m\u001b[0m\u001b[0m\n\u001b[0;32m--> 586\u001b[0;31m                 \u001b[0;32mreturn\u001b[0m \u001b[0mself\u001b[0m\u001b[0;34m.\u001b[0m\u001b[0m_sock\u001b[0m\u001b[0;34m.\u001b[0m\u001b[0mrecv_into\u001b[0m\u001b[0;34m(\u001b[0m\u001b[0mb\u001b[0m\u001b[0;34m)\u001b[0m\u001b[0;34m\u001b[0m\u001b[0;34m\u001b[0m\u001b[0m\n\u001b[0m\u001b[1;32m    587\u001b[0m             \u001b[0;32mexcept\u001b[0m \u001b[0mtimeout\u001b[0m\u001b[0;34m:\u001b[0m\u001b[0;34m\u001b[0m\u001b[0;34m\u001b[0m\u001b[0m\n\u001b[1;32m    588\u001b[0m                 \u001b[0mself\u001b[0m\u001b[0;34m.\u001b[0m\u001b[0m_timeout_occurred\u001b[0m \u001b[0;34m=\u001b[0m \u001b[0;32mTrue\u001b[0m\u001b[0;34m\u001b[0m\u001b[0;34m\u001b[0m\u001b[0m\n",
      "\u001b[0;31mKeyboardInterrupt\u001b[0m: "
     ]
    }
   ],
   "source": [
    "query_stream.awaitTermination()"
   ]
  },
  {
   "cell_type": "code",
   "execution_count": 121,
   "id": "4a97846b-7833-4962-a38a-7b30be43c32e",
   "metadata": {},
   "outputs": [],
   "source": [
    "#This view aggregates hourly sales by product measures\n",
    "hourly_sales = json_df \\\n",
    "    .withWatermark(\"timestamp\", \"2 hours\") \\\n",
    "    .filter(col(\"eventType\") == \"purchase\") \\\n",
    "    .groupBy(\n",
    "        window(\"timestamp\", \"1 hour\"),\n",
    "        \"productId\"\n",
    "    ) \\\n",
    "    .agg(\n",
    "        count(\"*\").alias(\"num_purchases\"),\n",
    "        spark_sum(\"totalAmount\").alias(\"total_sales\"),\n",
    "        avg(\"totalAmount\").alias(\"avg_sale_value\")\n",
    "    ) \\\n",
    "    .select(\n",
    "        \"productId\",\n",
    "        expr(\"window.start\").alias(\"window_start\"),\n",
    "        expr(\"window.end\").alias(\"window_end\"),\n",
    "        \"num_purchases\",\n",
    "        \"total_sales\",\n",
    "        \"avg_sale_value\"\n",
    "    )"
   ]
  },
  {
   "cell_type": "code",
   "execution_count": 122,
   "id": "e8f3e136-6276-4e1d-adb4-aec34f95ab8b",
   "metadata": {},
   "outputs": [],
   "source": [
    "#This view aggregates sales data by product category over different time windows\n",
    "category_performance = json_df \\\n",
    "    .withWatermark(\"timestamp\", \"2 hours\") \\\n",
    "    .filter(col(\"eventType\") == \"purchase\") \\\n",
    "    .groupBy(\n",
    "        col(\"metadata.category\"),\n",
    "        window(\"timestamp\", \"1 hour\")\n",
    "    ) \\\n",
    "    .agg(\n",
    "        count(\"*\").alias(\"num_purchases\"),\n",
    "        spark_sum(\"totalAmount\").alias(\"total_sales\"),\n",
    "        avg(\"totalAmount\").alias(\"avg_sale_value\"),\n",
    "        approx_count_distinct(\"customerId\").alias(\"unique_customers\")\n",
    "    ) \\\n",
    "    .select(\n",
    "        \"category\",\n",
    "        expr(\"window.start\").alias(\"window_start\"),\n",
    "        expr(\"window.end\").alias(\"window_end\"),\n",
    "        \"num_purchases\",\n",
    "        \"total_sales\",\n",
    "        \"avg_sale_value\",\n",
    "        \"unique_customers\"\n",
    "    )"
   ]
  },
  {
   "cell_type": "code",
   "execution_count": 123,
   "id": "2eef6d6e-f8b2-40ab-9643-d57b997c8de3",
   "metadata": {},
   "outputs": [],
   "source": [
    "#This view tracks the usage of different payment methods over time\n",
    "payment_method_trends = json_df \\\n",
    "    .withWatermark(\"timestamp\", \"48 hours\") \\\n",
    "    .filter(col(\"eventType\") == \"purchase\") \\\n",
    "    .groupBy(\n",
    "        \"paymentMethod\",\n",
    "        window(\"timestamp\", \"1 day\")\n",
    "    ) \\\n",
    "    .agg(\n",
    "        count(\"*\").alias(\"num_transactions\"),\n",
    "        spark_sum(\"totalAmount\").alias(\"total_amount\"),\n",
    "        avg(\"totalAmount\").alias(\"avg_transaction_value\")\n",
    "    ) \\\n",
    "    .select(\n",
    "        \"paymentMethod\",\n",
    "        expr(\"window.start\").alias(\"window_start\"),\n",
    "        expr(\"window.end\").alias(\"window_end\"),\n",
    "        \"num_transactions\",\n",
    "        \"total_amount\",\n",
    "        \"avg_transaction_value\"\n",
    "    )"
   ]
  },
  {
   "cell_type": "code",
   "execution_count": 124,
   "id": "0395c377-7d1d-4495-a267-41844d05825d",
   "metadata": {},
   "outputs": [],
   "source": [
    "#This view measures the effectiveness of product recommendations\n",
    "customer_segmentation = json_df \\\n",
    "    .withWatermark(\"timestamp\", \"30 days\") \\\n",
    "    .filter(col(\"eventType\") == \"purchase\") \\\n",
    "    .groupBy(\n",
    "        \"customerId\",\n",
    "        window(\"timestamp\", \"30 days\")\n",
    "    ) \\\n",
    "    .agg(\n",
    "        count(\"*\").alias(\"purchase_frequency\"),\n",
    "        spark_sum(\"totalAmount\").alias(\"total_spend\")\n",
    "    ) \\\n",
    "    .withColumn(\"segment\", \n",
    "        when((col(\"purchase_frequency\") > 10) & (col(\"total_spend\") > 1000), \"High Value\")\n",
    "        .when((col(\"purchase_frequency\") > 5) & (col(\"total_spend\") > 500), \"Medium Value\")\n",
    "        .otherwise(\"Low Value\")\n",
    "    ) \\\n",
    "    .select(\n",
    "        \"customerId\",\n",
    "        expr(\"window.start\").alias(\"window_start\"),\n",
    "        expr(\"window.end\").alias(\"window_end\"),\n",
    "        \"purchase_frequency\",\n",
    "        \"total_spend\",\n",
    "        \"segment\"\n",
    "    )"
   ]
  },
  {
   "cell_type": "code",
   "execution_count": 125,
   "id": "8a9ff186-ca2a-485b-872a-bc06abbdf2f5",
   "metadata": {},
   "outputs": [],
   "source": [
    "#This view keeps track of product inventory levels based on purchases\n",
    "product_inventory = json_df \\\n",
    "    .withWatermark(\"timestamp\", \"2 hours\") \\\n",
    "    .filter(col(\"eventType\") == \"purchase\") \\\n",
    "    .groupBy(\n",
    "        \"productId\",\n",
    "        window(\"timestamp\", \"1 hour\")\n",
    "    ) \\\n",
    "    .agg(spark_sum(\"quantity\").alias(\"quantity_sold\")) \\\n",
    "    .select(\n",
    "        \"productId\",\n",
    "        expr(\"window.start\").alias(\"window_start\"),\n",
    "        expr(\"window.end\").alias(\"window_end\"),\n",
    "        \"quantity_sold\"\n",
    "    )"
   ]
  },
  {
   "cell_type": "code",
   "execution_count": 126,
   "id": "56afd40f-86d3-4cc7-916d-f90359ee2b68",
   "metadata": {},
   "outputs": [],
   "source": [
    "def write_stream_view_to_hdfs(df, path, checkpoint_path):\n",
    "    return df.writeStream \\\n",
    "        .outputMode(\"append\") \\\n",
    "        .format(\"parquet\") \\\n",
    "        .option(\"path\", path) \\\n",
    "        .option(\"checkpointLocation\", checkpoint_path) \\\n",
    "        .trigger(processingTime='5 minutes') \\\n",
    "        .option(\"maxRecordsPerFile\", 100000) \\\n",
    "        .option(\"maxFilesPerTrigger\", 10) \\\n",
    "        .option(\"compression\", \"snappy\") \\\n",
    "        .start()\n"
   ]
  },
  {
   "cell_type": "code",
   "execution_count": 127,
   "id": "95633888-719e-4078-87fd-ea888bf1d134",
   "metadata": {
    "tags": []
   },
   "outputs": [],
   "source": [
    "views = [\n",
    "    (hourly_sales, \"hourly_sales\"),\n",
    "    (category_performance, \"category_performance\"),\n",
    "    (payment_method_trends, \"payment_method_trends\"),\n",
    "    (customer_segmentation, \"customer_segmentation\"),\n",
    "    (product_inventory, \"product_inventory\")\n",
    "]\n",
    "\n",
    "queries_views = [query_stream]\n",
    "for view, name in views:\n",
    "    query = write_stream_view_to_hdfs(\n",
    "        view,\n",
    "        f\"hdfs://localhost:9000/user/itversity/q-company_customer_events/{name}\",\n",
    "        f\"hdfs://localhost:9000/user/itversity/checkpoints_custevents/{name}\"\n",
    "    )\n",
    "    queries_views.append(query)"
   ]
  },
  {
   "cell_type": "code",
   "execution_count": 128,
   "id": "00cb2931-efc5-4b79-a06e-1024cb51589a",
   "metadata": {},
   "outputs": [
    {
     "ename": "KeyboardInterrupt",
     "evalue": "",
     "output_type": "error",
     "traceback": [
      "\u001b[0;31m---------------------------------------------------------------------------\u001b[0m",
      "\u001b[0;31mKeyboardInterrupt\u001b[0m                         Traceback (most recent call last)",
      "\u001b[0;32m<ipython-input-128-154dc5987a50>\u001b[0m in \u001b[0;36m<module>\u001b[0;34m\u001b[0m\n\u001b[1;32m      1\u001b[0m \u001b[0;32mfor\u001b[0m \u001b[0mquery\u001b[0m \u001b[0;32min\u001b[0m \u001b[0mqueries_views\u001b[0m\u001b[0;34m:\u001b[0m\u001b[0;34m\u001b[0m\u001b[0;34m\u001b[0m\u001b[0m\n\u001b[0;32m----> 2\u001b[0;31m     \u001b[0mquery\u001b[0m\u001b[0;34m.\u001b[0m\u001b[0mawaitTermination\u001b[0m\u001b[0;34m(\u001b[0m\u001b[0;34m)\u001b[0m\u001b[0;34m\u001b[0m\u001b[0;34m\u001b[0m\u001b[0m\n\u001b[0m",
      "\u001b[0;32m/opt/spark2/python/pyspark/sql/streaming.py\u001b[0m in \u001b[0;36mawaitTermination\u001b[0;34m(self, timeout)\u001b[0m\n\u001b[1;32m    101\u001b[0m             \u001b[0;32mreturn\u001b[0m \u001b[0mself\u001b[0m\u001b[0;34m.\u001b[0m\u001b[0m_jsq\u001b[0m\u001b[0;34m.\u001b[0m\u001b[0mawaitTermination\u001b[0m\u001b[0;34m(\u001b[0m\u001b[0mint\u001b[0m\u001b[0;34m(\u001b[0m\u001b[0mtimeout\u001b[0m \u001b[0;34m*\u001b[0m \u001b[0;36m1000\u001b[0m\u001b[0;34m)\u001b[0m\u001b[0;34m)\u001b[0m\u001b[0;34m\u001b[0m\u001b[0;34m\u001b[0m\u001b[0m\n\u001b[1;32m    102\u001b[0m         \u001b[0;32melse\u001b[0m\u001b[0;34m:\u001b[0m\u001b[0;34m\u001b[0m\u001b[0;34m\u001b[0m\u001b[0m\n\u001b[0;32m--> 103\u001b[0;31m             \u001b[0;32mreturn\u001b[0m \u001b[0mself\u001b[0m\u001b[0;34m.\u001b[0m\u001b[0m_jsq\u001b[0m\u001b[0;34m.\u001b[0m\u001b[0mawaitTermination\u001b[0m\u001b[0;34m(\u001b[0m\u001b[0;34m)\u001b[0m\u001b[0;34m\u001b[0m\u001b[0;34m\u001b[0m\u001b[0m\n\u001b[0m\u001b[1;32m    104\u001b[0m \u001b[0;34m\u001b[0m\u001b[0m\n\u001b[1;32m    105\u001b[0m     \u001b[0;34m@\u001b[0m\u001b[0mproperty\u001b[0m\u001b[0;34m\u001b[0m\u001b[0;34m\u001b[0m\u001b[0m\n",
      "\u001b[0;32m/opt/spark2/python/lib/py4j-0.10.7-src.zip/py4j/java_gateway.py\u001b[0m in \u001b[0;36m__call__\u001b[0;34m(self, *args)\u001b[0m\n\u001b[1;32m   1253\u001b[0m             \u001b[0mproto\u001b[0m\u001b[0;34m.\u001b[0m\u001b[0mEND_COMMAND_PART\u001b[0m\u001b[0;34m\u001b[0m\u001b[0;34m\u001b[0m\u001b[0m\n\u001b[1;32m   1254\u001b[0m \u001b[0;34m\u001b[0m\u001b[0m\n\u001b[0;32m-> 1255\u001b[0;31m         \u001b[0manswer\u001b[0m \u001b[0;34m=\u001b[0m \u001b[0mself\u001b[0m\u001b[0;34m.\u001b[0m\u001b[0mgateway_client\u001b[0m\u001b[0;34m.\u001b[0m\u001b[0msend_command\u001b[0m\u001b[0;34m(\u001b[0m\u001b[0mcommand\u001b[0m\u001b[0;34m)\u001b[0m\u001b[0;34m\u001b[0m\u001b[0;34m\u001b[0m\u001b[0m\n\u001b[0m\u001b[1;32m   1256\u001b[0m         return_value = get_return_value(\n\u001b[1;32m   1257\u001b[0m             answer, self.gateway_client, self.target_id, self.name)\n",
      "\u001b[0;32m/opt/spark2/python/lib/py4j-0.10.7-src.zip/py4j/java_gateway.py\u001b[0m in \u001b[0;36msend_command\u001b[0;34m(self, command, retry, binary)\u001b[0m\n\u001b[1;32m    983\u001b[0m         \u001b[0mconnection\u001b[0m \u001b[0;34m=\u001b[0m \u001b[0mself\u001b[0m\u001b[0;34m.\u001b[0m\u001b[0m_get_connection\u001b[0m\u001b[0;34m(\u001b[0m\u001b[0;34m)\u001b[0m\u001b[0;34m\u001b[0m\u001b[0;34m\u001b[0m\u001b[0m\n\u001b[1;32m    984\u001b[0m         \u001b[0;32mtry\u001b[0m\u001b[0;34m:\u001b[0m\u001b[0;34m\u001b[0m\u001b[0;34m\u001b[0m\u001b[0m\n\u001b[0;32m--> 985\u001b[0;31m             \u001b[0mresponse\u001b[0m \u001b[0;34m=\u001b[0m \u001b[0mconnection\u001b[0m\u001b[0;34m.\u001b[0m\u001b[0msend_command\u001b[0m\u001b[0;34m(\u001b[0m\u001b[0mcommand\u001b[0m\u001b[0;34m)\u001b[0m\u001b[0;34m\u001b[0m\u001b[0;34m\u001b[0m\u001b[0m\n\u001b[0m\u001b[1;32m    986\u001b[0m             \u001b[0;32mif\u001b[0m \u001b[0mbinary\u001b[0m\u001b[0;34m:\u001b[0m\u001b[0;34m\u001b[0m\u001b[0;34m\u001b[0m\u001b[0m\n\u001b[1;32m    987\u001b[0m                 \u001b[0;32mreturn\u001b[0m \u001b[0mresponse\u001b[0m\u001b[0;34m,\u001b[0m \u001b[0mself\u001b[0m\u001b[0;34m.\u001b[0m\u001b[0m_create_connection_guard\u001b[0m\u001b[0;34m(\u001b[0m\u001b[0mconnection\u001b[0m\u001b[0;34m)\u001b[0m\u001b[0;34m\u001b[0m\u001b[0;34m\u001b[0m\u001b[0m\n",
      "\u001b[0;32m/opt/spark2/python/lib/py4j-0.10.7-src.zip/py4j/java_gateway.py\u001b[0m in \u001b[0;36msend_command\u001b[0;34m(self, command)\u001b[0m\n\u001b[1;32m   1150\u001b[0m \u001b[0;34m\u001b[0m\u001b[0m\n\u001b[1;32m   1151\u001b[0m         \u001b[0;32mtry\u001b[0m\u001b[0;34m:\u001b[0m\u001b[0;34m\u001b[0m\u001b[0;34m\u001b[0m\u001b[0m\n\u001b[0;32m-> 1152\u001b[0;31m             \u001b[0manswer\u001b[0m \u001b[0;34m=\u001b[0m \u001b[0msmart_decode\u001b[0m\u001b[0;34m(\u001b[0m\u001b[0mself\u001b[0m\u001b[0;34m.\u001b[0m\u001b[0mstream\u001b[0m\u001b[0;34m.\u001b[0m\u001b[0mreadline\u001b[0m\u001b[0;34m(\u001b[0m\u001b[0;34m)\u001b[0m\u001b[0;34m[\u001b[0m\u001b[0;34m:\u001b[0m\u001b[0;34m-\u001b[0m\u001b[0;36m1\u001b[0m\u001b[0;34m]\u001b[0m\u001b[0;34m)\u001b[0m\u001b[0;34m\u001b[0m\u001b[0;34m\u001b[0m\u001b[0m\n\u001b[0m\u001b[1;32m   1153\u001b[0m             \u001b[0mlogger\u001b[0m\u001b[0;34m.\u001b[0m\u001b[0mdebug\u001b[0m\u001b[0;34m(\u001b[0m\u001b[0;34m\"Answer received: {0}\"\u001b[0m\u001b[0;34m.\u001b[0m\u001b[0mformat\u001b[0m\u001b[0;34m(\u001b[0m\u001b[0manswer\u001b[0m\u001b[0;34m)\u001b[0m\u001b[0;34m)\u001b[0m\u001b[0;34m\u001b[0m\u001b[0;34m\u001b[0m\u001b[0m\n\u001b[1;32m   1154\u001b[0m             \u001b[0;32mif\u001b[0m \u001b[0manswer\u001b[0m\u001b[0;34m.\u001b[0m\u001b[0mstartswith\u001b[0m\u001b[0;34m(\u001b[0m\u001b[0mproto\u001b[0m\u001b[0;34m.\u001b[0m\u001b[0mRETURN_MESSAGE\u001b[0m\u001b[0;34m)\u001b[0m\u001b[0;34m:\u001b[0m\u001b[0;34m\u001b[0m\u001b[0;34m\u001b[0m\u001b[0m\n",
      "\u001b[0;32m/usr/lib/python3.6/socket.py\u001b[0m in \u001b[0;36mreadinto\u001b[0;34m(self, b)\u001b[0m\n\u001b[1;32m    584\u001b[0m         \u001b[0;32mwhile\u001b[0m \u001b[0;32mTrue\u001b[0m\u001b[0;34m:\u001b[0m\u001b[0;34m\u001b[0m\u001b[0;34m\u001b[0m\u001b[0m\n\u001b[1;32m    585\u001b[0m             \u001b[0;32mtry\u001b[0m\u001b[0;34m:\u001b[0m\u001b[0;34m\u001b[0m\u001b[0;34m\u001b[0m\u001b[0m\n\u001b[0;32m--> 586\u001b[0;31m                 \u001b[0;32mreturn\u001b[0m \u001b[0mself\u001b[0m\u001b[0;34m.\u001b[0m\u001b[0m_sock\u001b[0m\u001b[0;34m.\u001b[0m\u001b[0mrecv_into\u001b[0m\u001b[0;34m(\u001b[0m\u001b[0mb\u001b[0m\u001b[0;34m)\u001b[0m\u001b[0;34m\u001b[0m\u001b[0;34m\u001b[0m\u001b[0m\n\u001b[0m\u001b[1;32m    587\u001b[0m             \u001b[0;32mexcept\u001b[0m \u001b[0mtimeout\u001b[0m\u001b[0;34m:\u001b[0m\u001b[0;34m\u001b[0m\u001b[0;34m\u001b[0m\u001b[0m\n\u001b[1;32m    588\u001b[0m                 \u001b[0mself\u001b[0m\u001b[0;34m.\u001b[0m\u001b[0m_timeout_occurred\u001b[0m \u001b[0;34m=\u001b[0m \u001b[0;32mTrue\u001b[0m\u001b[0;34m\u001b[0m\u001b[0;34m\u001b[0m\u001b[0m\n",
      "\u001b[0;31mKeyboardInterrupt\u001b[0m: "
     ]
    }
   ],
   "source": [
    "for query in queries_views:\n",
    "    query.awaitTermination()"
   ]
  },
  {
   "cell_type": "code",
   "execution_count": 142,
   "id": "53c08c16-9548-4ee7-ab81-6fb558f93649",
   "metadata": {},
   "outputs": [],
   "source": [
    "spark.stop()\n"
   ]
  },
  {
   "cell_type": "code",
   "execution_count": null,
   "id": "bb276d91-8dc6-4e32-90cd-4a1038e48905",
   "metadata": {},
   "outputs": [],
   "source": []
  }
 ],
 "metadata": {
  "kernelspec": {
   "display_name": "Pyspark 2",
   "language": "python",
   "name": "pyspark2"
  },
  "language_info": {
   "codemirror_mode": {
    "name": "ipython",
    "version": 3
   },
   "file_extension": ".py",
   "mimetype": "text/x-python",
   "name": "python",
   "nbconvert_exporter": "python",
   "pygments_lexer": "ipython3",
   "version": "3.6.9"
  }
 },
 "nbformat": 4,
 "nbformat_minor": 5
}
