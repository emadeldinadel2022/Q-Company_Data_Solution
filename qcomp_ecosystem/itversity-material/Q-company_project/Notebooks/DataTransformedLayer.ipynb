{
 "cells": [
  {
   "cell_type": "code",
   "execution_count": 59,
   "id": "dc98cb24-2383-45ea-a2a7-0978c991108d",
   "metadata": {
    "tags": []
   },
   "outputs": [],
   "source": [
    "from pyspark.sql import SparkSession, DataFrame\n",
    "from pyspark.sql.types import *\n",
    "from pyspark.sql.window import Window\n",
    "from itertools import chain \n",
    "from typing import Dict\n",
    "from pyspark.sql.functions import col, lit, when, coalesce, split, concat, udf, concat_ws, row_number, \\\n",
    "                                    regexp_replace, lower, monotonically_increasing_id, regexp_extract, create_map\n",
    "import re "
   ]
  },
  {
   "cell_type": "code",
   "execution_count": 60,
   "id": "54493d95-e21b-4177-b122-db0256a24584",
   "metadata": {},
   "outputs": [],
   "source": [
    "spark = SparkSession\\\n",
    "    .builder\\\n",
    "    .appName(\"DataTransformedLayer\")\\\n",
    "    .getOrCreate()\n"
   ]
  },
  {
   "cell_type": "code",
   "execution_count": 61,
   "id": "3c254ec3-59ab-4db2-9562-d538eda36d4c",
   "metadata": {},
   "outputs": [
    {
     "data": {
      "text/html": [
       "<table border='1'>\n",
       "<tr><th>transaction_date</th><th>customer_id</th><th>product_id</th><th>product_name</th><th>product_category</th><th>units</th><th>is_online</th><th>payment_method</th><th>group</th><th>row_index</th><th>shipping_street_name</th><th>shipping_city</th><th>shipping_zip_code</th><th>shipping_state</th><th>discount</th><th>customer_name</th><th>cleaned_email</th><th>transaction_id</th><th>unit_price</th></tr>\n",
       "<tr><td>2023-06-02</td><td>85513</td><td>19</td><td>Sandals</td><td>Footwear</td><td>7</td><td>yes</td><td>Stripe</td><td>6</td><td>25769875038</td><td>700 Towering Oak ...</td><td>Glen Burnie</td><td>21061</td><td>Maryland</td><td>0.0</td><td>Alexander Johnson</td><td>alexander.johnson...</td><td>trx-035992640061</td><td>29.99</td></tr>\n",
       "<tr><td>2022-12-13</td><td>85492</td><td>28</td><td>Hair Dryer</td><td>Appliances</td><td>8</td><td>yes</td><td>Stripe</td><td>6</td><td>25769875039</td><td>4728 Rockland Trail</td><td>Nashville</td><td>37013</td><td>Tennessee</td><td>0.0</td><td>Emma Taylor</td><td>emma.taylor@outlo...</td><td>trx-450105704924</td><td>19.99</td></tr>\n",
       "<tr><td>2023-05-27</td><td>85556</td><td>16</td><td>Skirt</td><td>Clothing</td><td>7</td><td>yes</td><td>Credit Card</td><td>6</td><td>25769875040</td><td>44 Downey Drive</td><td>Manchester</td><td>06040</td><td>Connecticut</td><td>0.0</td><td>Ava Brown</td><td>ava.brown@yahoo.com</td><td>trx-184986835512</td><td>39.99</td></tr>\n",
       "<tr><td>2022-03-23</td><td>85550</td><td>28</td><td>Hair Dryer</td><td>Appliances</td><td>9</td><td>yes</td><td>Credit Card</td><td>6</td><td>25769875041</td><td>3612 Jim Robison ...</td><td>Edmond</td><td>73013</td><td>Oklahoma</td><td>0.2</td><td>Sophia Davis</td><td>sophia.davis@yaho...</td><td>trx-934277502808</td><td>19.99</td></tr>\n",
       "<tr><td>2022-03-06</td><td>85518</td><td>28</td><td>Hair Dryer</td><td>Appliances</td><td>10</td><td>yes</td><td>PayPal</td><td>6</td><td>25769875042</td><td>622 Elaine Drive</td><td>Nashville</td><td>37211</td><td>Tennessee</td><td>0.05</td><td>Alexander Davis</td><td>alexander.davis@o...</td><td>trx-420381525195</td><td>19.99</td></tr>\n",
       "<tr><td>2022-08-21</td><td>85529</td><td>1</td><td>Laptop</td><td>Electronics</td><td>2</td><td>yes</td><td>PayPal</td><td>6</td><td>25769875043</td><td>129 Glen Street</td><td>West Brattleboro</td><td>05301</td><td>Vermont</td><td>0.2</td><td>Mia Williams</td><td>mia.williams@yaho...</td><td>trx-633490862447</td><td>999.99</td></tr>\n",
       "<tr><td>2022-01-02</td><td>85538</td><td>22</td><td>Coffee Maker</td><td>Appliances</td><td>9</td><td>yes</td><td>PayPal</td><td>6</td><td>25769875044</td><td>88 Florence Street</td><td>New Bedford</td><td>02740</td><td>Massachusetts</td><td>0.0</td><td>Mia Johnson</td><td>mia.johnson@outlo...</td><td>trx-349483175929</td><td>79.99</td></tr>\n",
       "<tr><td>2023-04-26</td><td>85557</td><td>22</td><td>Coffee Maker</td><td>Appliances</td><td>10</td><td>yes</td><td>PayPal</td><td>6</td><td>25769875045</td><td>8101 Vaughn Road</td><td>Montgomery</td><td>36117</td><td>Alabama</td><td>0.1</td><td>Olivia Davis</td><td>olivia.davis@gmai...</td><td>trx-157422050098</td><td>79.99</td></tr>\n",
       "<tr><td>2022-09-22</td><td>85560</td><td>9</td><td>Boots</td><td>Footwear</td><td>10</td><td>yes</td><td>PayPal</td><td>6</td><td>25769875046</td><td>115 Maple Street</td><td>Manchester</td><td>06040</td><td>Connecticut</td><td>0.05</td><td>Emma Wilson</td><td>emma.wilson@gmail...</td><td>trx-732921927457</td><td>129.99</td></tr>\n",
       "<tr><td>2022-09-22</td><td>85484</td><td>18</td><td>Boots</td><td>Footwear</td><td>7</td><td>yes</td><td>Credit Card</td><td>6</td><td>25769875047</td><td>169 Avenida Drive</td><td>Berkeley</td><td>94708</td><td>California</td><td>0.0</td><td>Olivia Wilson</td><td>olivia.wilson@yah...</td><td>trx-777834732693</td><td>149.99</td></tr>\n",
       "<tr><td>2023-07-01</td><td>85549</td><td>24</td><td>Blender</td><td>Appliances</td><td>7</td><td>yes</td><td>Stripe</td><td>6</td><td>25769875048</td><td>3111 Gentilly Court</td><td>Montgomery</td><td>36116</td><td>Alabama</td><td>0.2</td><td>Olivia Brown</td><td>olivia.brown@hotm...</td><td>trx-757967298529</td><td>49.99</td></tr>\n",
       "<tr><td>2023-09-13</td><td>85507</td><td>15</td><td>Hoodie</td><td>Clothing</td><td>2</td><td>yes</td><td>PayPal</td><td>6</td><td>25769875049</td><td>6622 West Altaden...</td><td>Glendale</td><td>85304</td><td>Arizona</td><td>0.2</td><td>Olivia Moore</td><td>olivia.moore@hotm...</td><td>trx-929818735761</td><td>29.99</td></tr>\n",
       "<tr><td>2022-06-04</td><td>85562</td><td>4</td><td>Headphones</td><td>Electronics</td><td>10</td><td>yes</td><td>Credit Card</td><td>6</td><td>25769875050</td><td>721 South Jackson...</td><td>Louisville</td><td>40203</td><td>Kentucky</td><td>0.0</td><td>Mia Brown</td><td>mia.brown@outlook...</td><td>trx-473845951725</td><td>99.99</td></tr>\n",
       "<tr><td>2023-01-10</td><td>85506</td><td>7</td><td>Dress</td><td>Clothing</td><td>9</td><td>yes</td><td>Stripe</td><td>6</td><td>25769875051</td><td>8935 Cole Drive</td><td>Arvada</td><td>80004</td><td>Colorado</td><td>0.2</td><td>Mia Williams</td><td>mia.williams@hotm...</td><td>trx-183951121559</td><td>59.99</td></tr>\n",
       "<tr><td>2022-10-28</td><td>85562</td><td>22</td><td>Coffee Maker</td><td>Appliances</td><td>10</td><td>yes</td><td>PayPal</td><td>6</td><td>25769875052</td><td>116 9th Street So...</td><td>Washington</td><td>20003</td><td>District of Columbia</td><td>0.0</td><td>Mia Brown</td><td>mia.brown@outlook...</td><td>trx-144866543087</td><td>79.99</td></tr>\n",
       "<tr><td>2022-08-19</td><td>85513</td><td>4</td><td>Headphones</td><td>Electronics</td><td>8</td><td>yes</td><td>PayPal</td><td>6</td><td>25769875053</td><td>5311 Chenoweth Pa...</td><td>Louisville</td><td>40291</td><td>Kentucky</td><td>0.0</td><td>Alexander Johnson</td><td>alexander.johnson...</td><td>trx-622711375270</td><td>99.99</td></tr>\n",
       "<tr><td>2022-12-26</td><td>85558</td><td>8</td><td>Sneakers</td><td>Footwear</td><td>7</td><td>yes</td><td>PayPal</td><td>6</td><td>25769875054</td><td>1101 Lotus Avenue</td><td>Glen Burnie</td><td>21061</td><td>Maryland</td><td>0.0</td><td>Alexander Jones</td><td>alexander.jones@y...</td><td>trx-353388663896</td><td>79.99</td></tr>\n",
       "<tr><td>2023-10-24</td><td>85528</td><td>25</td><td>Washing Machine</td><td>Appliances</td><td>4</td><td>yes</td><td>Credit Card</td><td>6</td><td>25769875055</td><td>718 Newhall Drive</td><td>Nashville</td><td>37206</td><td>Tennessee</td><td>0.15</td><td>John Jones</td><td>john.jones@yahoo....</td><td>trx-404513631071</td><td>499.99</td></tr>\n",
       "<tr><td>2023-03-13</td><td>85485</td><td>22</td><td>Coffee Maker</td><td>Appliances</td><td>4</td><td>yes</td><td>PayPal</td><td>6</td><td>25769875056</td><td>5754 Belleau Drive</td><td>Montgomery</td><td>36117</td><td>Alabama</td><td>0.2</td><td>Emma Williams</td><td>emma.williams@hot...</td><td>trx-260309893474</td><td>79.99</td></tr>\n",
       "<tr><td>2022-01-12</td><td>85483</td><td>7</td><td>Dress</td><td>Clothing</td><td>7</td><td>yes</td><td>Credit Card</td><td>6</td><td>25769875057</td><td>22538 6th Street</td><td>Hayward</td><td>94541</td><td>California</td><td>0.05</td><td>Ava Wilson</td><td>ava.wilson@hotmai...</td><td>trx-045523850063</td><td>59.99</td></tr>\n",
       "</table>\n",
       "only showing top 20 rows\n"
      ],
      "text/plain": [
       "+----------------+-----------+----------+---------------+----------------+-----+---------+--------------+-----+-----------+--------------------+----------------+-----------------+--------------------+--------+-----------------+--------------------+----------------+----------+\n",
       "|transaction_date|customer_id|product_id|   product_name|product_category|units|is_online|payment_method|group|  row_index|shipping_street_name|   shipping_city|shipping_zip_code|      shipping_state|discount|    customer_name|       cleaned_email|  transaction_id|unit_price|\n",
       "+----------------+-----------+----------+---------------+----------------+-----+---------+--------------+-----+-----------+--------------------+----------------+-----------------+--------------------+--------+-----------------+--------------------+----------------+----------+\n",
       "|      2023-06-02|      85513|        19|        Sandals|        Footwear|    7|      yes|        Stripe|    6|25769875038|700 Towering Oak ...|     Glen Burnie|            21061|            Maryland|     0.0|Alexander Johnson|alexander.johnson...|trx-035992640061|     29.99|\n",
       "|      2022-12-13|      85492|        28|     Hair Dryer|      Appliances|    8|      yes|        Stripe|    6|25769875039| 4728 Rockland Trail|       Nashville|            37013|           Tennessee|     0.0|      Emma Taylor|emma.taylor@outlo...|trx-450105704924|     19.99|\n",
       "|      2023-05-27|      85556|        16|          Skirt|        Clothing|    7|      yes|   Credit Card|    6|25769875040|     44 Downey Drive|      Manchester|            06040|         Connecticut|     0.0|        Ava Brown| ava.brown@yahoo.com|trx-184986835512|     39.99|\n",
       "|      2022-03-23|      85550|        28|     Hair Dryer|      Appliances|    9|      yes|   Credit Card|    6|25769875041|3612 Jim Robison ...|          Edmond|            73013|            Oklahoma|     0.2|     Sophia Davis|sophia.davis@yaho...|trx-934277502808|     19.99|\n",
       "|      2022-03-06|      85518|        28|     Hair Dryer|      Appliances|   10|      yes|        PayPal|    6|25769875042|    622 Elaine Drive|       Nashville|            37211|           Tennessee|    0.05|  Alexander Davis|alexander.davis@o...|trx-420381525195|     19.99|\n",
       "|      2022-08-21|      85529|         1|         Laptop|     Electronics|    2|      yes|        PayPal|    6|25769875043|     129 Glen Street|West Brattleboro|            05301|             Vermont|     0.2|     Mia Williams|mia.williams@yaho...|trx-633490862447|    999.99|\n",
       "|      2022-01-02|      85538|        22|   Coffee Maker|      Appliances|    9|      yes|        PayPal|    6|25769875044|  88 Florence Street|     New Bedford|            02740|       Massachusetts|     0.0|      Mia Johnson|mia.johnson@outlo...|trx-349483175929|     79.99|\n",
       "|      2023-04-26|      85557|        22|   Coffee Maker|      Appliances|   10|      yes|        PayPal|    6|25769875045|    8101 Vaughn Road|      Montgomery|            36117|             Alabama|     0.1|     Olivia Davis|olivia.davis@gmai...|trx-157422050098|     79.99|\n",
       "|      2022-09-22|      85560|         9|          Boots|        Footwear|   10|      yes|        PayPal|    6|25769875046|    115 Maple Street|      Manchester|            06040|         Connecticut|    0.05|      Emma Wilson|emma.wilson@gmail...|trx-732921927457|    129.99|\n",
       "|      2022-09-22|      85484|        18|          Boots|        Footwear|    7|      yes|   Credit Card|    6|25769875047|   169 Avenida Drive|        Berkeley|            94708|          California|     0.0|    Olivia Wilson|olivia.wilson@yah...|trx-777834732693|    149.99|\n",
       "|      2023-07-01|      85549|        24|        Blender|      Appliances|    7|      yes|        Stripe|    6|25769875048| 3111 Gentilly Court|      Montgomery|            36116|             Alabama|     0.2|     Olivia Brown|olivia.brown@hotm...|trx-757967298529|     49.99|\n",
       "|      2023-09-13|      85507|        15|         Hoodie|        Clothing|    2|      yes|        PayPal|    6|25769875049|6622 West Altaden...|        Glendale|            85304|             Arizona|     0.2|     Olivia Moore|olivia.moore@hotm...|trx-929818735761|     29.99|\n",
       "|      2022-06-04|      85562|         4|     Headphones|     Electronics|   10|      yes|   Credit Card|    6|25769875050|721 South Jackson...|      Louisville|            40203|            Kentucky|     0.0|        Mia Brown|mia.brown@outlook...|trx-473845951725|     99.99|\n",
       "|      2023-01-10|      85506|         7|          Dress|        Clothing|    9|      yes|        Stripe|    6|25769875051|     8935 Cole Drive|          Arvada|            80004|            Colorado|     0.2|     Mia Williams|mia.williams@hotm...|trx-183951121559|     59.99|\n",
       "|      2022-10-28|      85562|        22|   Coffee Maker|      Appliances|   10|      yes|        PayPal|    6|25769875052|116 9th Street So...|      Washington|            20003|District of Columbia|     0.0|        Mia Brown|mia.brown@outlook...|trx-144866543087|     79.99|\n",
       "|      2022-08-19|      85513|         4|     Headphones|     Electronics|    8|      yes|        PayPal|    6|25769875053|5311 Chenoweth Pa...|      Louisville|            40291|            Kentucky|     0.0|Alexander Johnson|alexander.johnson...|trx-622711375270|     99.99|\n",
       "|      2022-12-26|      85558|         8|       Sneakers|        Footwear|    7|      yes|        PayPal|    6|25769875054|   1101 Lotus Avenue|     Glen Burnie|            21061|            Maryland|     0.0|  Alexander Jones|alexander.jones@y...|trx-353388663896|     79.99|\n",
       "|      2023-10-24|      85528|        25|Washing Machine|      Appliances|    4|      yes|   Credit Card|    6|25769875055|   718 Newhall Drive|       Nashville|            37206|           Tennessee|    0.15|       John Jones|john.jones@yahoo....|trx-404513631071|    499.99|\n",
       "|      2023-03-13|      85485|        22|   Coffee Maker|      Appliances|    4|      yes|        PayPal|    6|25769875056|  5754 Belleau Drive|      Montgomery|            36117|             Alabama|     0.2|    Emma Williams|emma.williams@hot...|trx-260309893474|     79.99|\n",
       "|      2022-01-12|      85483|         7|          Dress|        Clothing|    7|      yes|   Credit Card|    6|25769875057|    22538 6th Street|         Hayward|            94541|          California|    0.05|       Ava Wilson|ava.wilson@hotmai...|trx-045523850063|     59.99|\n",
       "+----------------+-----------+----------+---------------+----------------+-----+---------+--------------+-----+-----------+--------------------+----------------+-----------------+--------------------+--------+-----------------+--------------------+----------------+----------+\n",
       "only showing top 20 rows"
      ]
     },
     "execution_count": 61,
     "metadata": {},
     "output_type": "execute_result"
    }
   ],
   "source": [
    "# Online Transactions Schema\n",
    "online_transactions = StructType([\n",
    "    StructField(\"transaction_date\", StringType(), nullable=False),\n",
    "    StructField(\"customer_id\", LongType(), nullable=False),\n",
    "    StructField(\"product_id\", LongType(), nullable=False),\n",
    "    StructField(\"product_name\", StringType(), nullable=False),\n",
    "    StructField(\"product_category\", StringType(), nullable=False),\n",
    "    StructField(\"units\", IntegerType(), nullable=False),\n",
    "    StructField(\"is_online\", StringType(), nullable=False),\n",
    "    StructField(\"payment_method\", StringType(), nullable=False),\n",
    "    StructField(\"group\", StringType(), nullable=False),\n",
    "    StructField(\"row_index\", LongType(), nullable=False),\n",
    "    StructField(\"shipping_street_name\", StringType(), nullable=False),\n",
    "    StructField(\"shipping_city\", StringType(), nullable=False),\n",
    "    StructField(\"shipping_zip_code\", StringType(), nullable=False),\n",
    "    StructField(\"shipping_state\", StringType(), nullable=False),\n",
    "    StructField(\"discount\", FloatType(), nullable=False),\n",
    "    StructField(\"customer_name\", StringType(), nullable=False),\n",
    "    StructField(\"cleaned_email\", StringType(), nullable=False),\n",
    "    StructField(\"transaction_id\", StringType(), nullable=False),\n",
    "    StructField(\"unit_price\", DoubleType(), nullable=False)\n",
    "])\n",
    "\n",
    "# Path to the directory containing the CSV files\n",
    "online_merged = \"/Graduation_Project/cleaned_data/online/*/*.csv\"\n",
    "online_merged_df = spark.read.option(\"header\", \"true\").schema(online_transactions).csv(online_merged)\n",
    "online_merged_df.coalesce(1)"
   ]
  },
  {
   "cell_type": "code",
   "execution_count": 62,
   "id": "3960f7a3-7741-4789-9051-5e8ac2a84538",
   "metadata": {},
   "outputs": [
    {
     "name": "stdout",
     "output_type": "stream",
     "text": [
      "-RECORD 0-------------------------------------------\n",
      " transaction_date     | 2023-06-02                  \n",
      " customer_id          | 85513                       \n",
      " product_id           | 19                          \n",
      " product_name         | Sandals                     \n",
      " product_category     | Footwear                    \n",
      " units                | 7                           \n",
      " is_online            | yes                         \n",
      " payment_method       | Stripe                      \n",
      " group                | 6                           \n",
      " row_index            | 25769875038                 \n",
      " shipping_street_name | 700 Towering Oak Court      \n",
      " shipping_city        | Glen Burnie                 \n",
      " shipping_zip_code    | 21061                       \n",
      " shipping_state       | Maryland                    \n",
      " discount             | 0.0                         \n",
      " customer_name        | Alexander Johnson           \n",
      " cleaned_email        | alexander.johnson@yahoo.com \n",
      " transaction_id       | trx-035992640061            \n",
      " unit_price           | 29.99                       \n",
      " total_price          | 209.92999999999998          \n",
      "-RECORD 1-------------------------------------------\n",
      " transaction_date     | 2022-12-13                  \n",
      " customer_id          | 85492                       \n",
      " product_id           | 28                          \n",
      " product_name         | Hair Dryer                  \n",
      " product_category     | Appliances                  \n",
      " units                | 8                           \n",
      " is_online            | yes                         \n",
      " payment_method       | Stripe                      \n",
      " group                | 6                           \n",
      " row_index            | 25769875039                 \n",
      " shipping_street_name | 4728 Rockland Trail         \n",
      " shipping_city        | Nashville                   \n",
      " shipping_zip_code    | 37013                       \n",
      " shipping_state       | Tennessee                   \n",
      " discount             | 0.0                         \n",
      " customer_name        | Emma Taylor                 \n",
      " cleaned_email        | emma.taylor@outlook.com     \n",
      " transaction_id       | trx-450105704924            \n",
      " unit_price           | 19.99                       \n",
      " total_price          | 159.92                      \n",
      "-RECORD 2-------------------------------------------\n",
      " transaction_date     | 2023-05-27                  \n",
      " customer_id          | 85556                       \n",
      " product_id           | 16                          \n",
      " product_name         | Skirt                       \n",
      " product_category     | Clothing                    \n",
      " units                | 7                           \n",
      " is_online            | yes                         \n",
      " payment_method       | Credit Card                 \n",
      " group                | 6                           \n",
      " row_index            | 25769875040                 \n",
      " shipping_street_name | 44 Downey Drive             \n",
      " shipping_city        | Manchester                  \n",
      " shipping_zip_code    | 06040                       \n",
      " shipping_state       | Connecticut                 \n",
      " discount             | 0.0                         \n",
      " customer_name        | Ava Brown                   \n",
      " cleaned_email        | ava.brown@yahoo.com         \n",
      " transaction_id       | trx-184986835512            \n",
      " unit_price           | 39.99                       \n",
      " total_price          | 279.93                      \n",
      "-RECORD 3-------------------------------------------\n",
      " transaction_date     | 2022-03-23                  \n",
      " customer_id          | 85550                       \n",
      " product_id           | 28                          \n",
      " product_name         | Hair Dryer                  \n",
      " product_category     | Appliances                  \n",
      " units                | 9                           \n",
      " is_online            | yes                         \n",
      " payment_method       | Credit Card                 \n",
      " group                | 6                           \n",
      " row_index            | 25769875041                 \n",
      " shipping_street_name | 3612 Jim Robison Drive      \n",
      " shipping_city        | Edmond                      \n",
      " shipping_zip_code    | 73013                       \n",
      " shipping_state       | Oklahoma                    \n",
      " discount             | 0.2                         \n",
      " customer_name        | Sophia Davis                \n",
      " cleaned_email        | sophia.davis@yahoo.com      \n",
      " transaction_id       | trx-934277502808            \n",
      " unit_price           | 19.99                       \n",
      " total_price          | 143.92800214469432          \n",
      "-RECORD 4-------------------------------------------\n",
      " transaction_date     | 2022-03-06                  \n",
      " customer_id          | 85518                       \n",
      " product_id           | 28                          \n",
      " product_name         | Hair Dryer                  \n",
      " product_category     | Appliances                  \n",
      " units                | 10                          \n",
      " is_online            | yes                         \n",
      " payment_method       | PayPal                      \n",
      " group                | 6                           \n",
      " row_index            | 25769875042                 \n",
      " shipping_street_name | 622 Elaine Drive            \n",
      " shipping_city        | Nashville                   \n",
      " shipping_zip_code    | 37211                       \n",
      " shipping_state       | Tennessee                   \n",
      " discount             | 0.05                        \n",
      " customer_name        | Alexander Davis             \n",
      " cleaned_email        | alexander.davis@outlook.com \n",
      " transaction_id       | trx-420381525195            \n",
      " unit_price           | 19.99                       \n",
      " total_price          | 189.90499761700627          \n",
      "only showing top 5 rows\n",
      "\n"
     ]
    }
   ],
   "source": [
    "# Calculate total price\n",
    "online_merged_df = online_merged_df.withColumn(\"total_price\", col(\"units\") * col(\"unit_price\") * (1 - col(\"discount\")))\n",
    "\n",
    "# Show updated DataFrame\n",
    "online_merged_df.show(5, False, True)"
   ]
  },
  {
   "cell_type": "code",
   "execution_count": 63,
   "id": "8bf9c9ff-f5b4-4194-a701-cf643d379cd0",
   "metadata": {},
   "outputs": [],
   "source": [
    "# Write the merged DataFrame to a single CSV file\n",
    "output_path = \"/Graduation_Project/transformed_data/online/merged_data.csv\"\n",
    "online_merged_df.coalesce(1).write.mode('overwrite').csv(output_path, header=True)"
   ]
  },
  {
   "cell_type": "code",
   "execution_count": null,
   "id": "0b279976-5143-4f20-bfa6-62296fa2737e",
   "metadata": {},
   "outputs": [],
   "source": []
  },
  {
   "cell_type": "code",
   "execution_count": null,
   "id": "6ac6ea3c-2b03-4704-a06b-c4ffd9dbdcf4",
   "metadata": {},
   "outputs": [],
   "source": []
  },
  {
   "cell_type": "code",
   "execution_count": null,
   "id": "904ae7a9-f68b-4159-b534-82bdcae57ea8",
   "metadata": {},
   "outputs": [],
   "source": []
  },
  {
   "cell_type": "code",
   "execution_count": 64,
   "id": "b4650071-e114-4d27-99f6-31ad65ff152e",
   "metadata": {},
   "outputs": [
    {
     "data": {
      "text/html": [
       "<table border='1'>\n",
       "<tr><th>transaction_date</th><th>customer_id</th><th>sales_agent_id</th><th>branch_id</th><th>product_id</th><th>product_name</th><th>product_category</th><th>units</th><th>is_online</th><th>payment_method</th><th>sales_agent_name</th><th>sales_agent_hire_date</th><th>branch_location</th><th>branch_establish_date</th><th>branch_class</th><th>group</th><th>row_index</th><th>discount</th><th>customer_name</th><th>cleaned_email</th><th>transaction_id</th><th>unit_price</th></tr>\n",
       "<tr><td>2022-07-19</td><td>85513</td><td>10.0</td><td>6.0</td><td>27</td><td>Iron</td><td>Appliances</td><td>7</td><td>no</td><td>Cash</td><td>Sophia Moore</td><td>2019-11-10</td><td>Oklahoma</td><td>2016-09-20</td><td>A</td><td>6</td><td>0</td><td>0.0</td><td>Alexander Johnson</td><td>alexander.johnson...</td><td>trx-878108770002</td><td>29.99</td></tr>\n",
       "<tr><td>2023-08-06</td><td>85510</td><td>2.0</td><td>6.0</td><td>28</td><td>Hair Dryer</td><td>Appliances</td><td>10</td><td>no</td><td>Cash</td><td>Jane Smith</td><td>2021-06-08</td><td>Oklahoma</td><td>2016-09-20</td><td>A</td><td>6</td><td>1</td><td>0.1</td><td>Ava Smith</td><td>ava.smith@gmail.com</td><td>trx-349443438637</td><td>19.99</td></tr>\n",
       "<tr><td>2022-12-28</td><td>85553</td><td>6.0</td><td>4.0</td><td>13</td><td>Printer</td><td>Electronics</td><td>2</td><td>no</td><td>Credit Card</td><td>Emma Taylor</td><td>2018-08-09</td><td>Houston</td><td>2016-11-05</td><td>D</td><td>6</td><td>2</td><td>0.15</td><td>Mia Brown</td><td>mia.brown@hotmail...</td><td>trx-045891300294</td><td>149.99</td></tr>\n",
       "<tr><td>2023-06-28</td><td>85520</td><td>3.0</td><td>2.0</td><td>12</td><td>Monitor</td><td>Electronics</td><td>6</td><td>no</td><td>Credit Card</td><td>Michael Johnson</td><td>2019-07-22</td><td>Los Angeles</td><td>2016-07-28</td><td>B</td><td>6</td><td>3</td><td>0.0</td><td>Olivia Taylor</td><td>olivia.taylor@out...</td><td>trx-756996252944</td><td>299.99</td></tr>\n",
       "<tr><td>2023-09-05</td><td>85539</td><td>8.0</td><td>3.0</td><td>5</td><td>T-Shirt</td><td>Clothing</td><td>1</td><td>no</td><td>Credit Card</td><td>Olivia Davis</td><td>2019-12-08</td><td>Chicago</td><td>2015-03-10</td><td>A</td><td>6</td><td>4</td><td>0.05</td><td>John Moore</td><td>john.moore@gmail.com</td><td>trx-491216466700</td><td>19.99</td></tr>\n",
       "<tr><td>2023-03-16</td><td>85517</td><td>7.0</td><td>4.0</td><td>15</td><td>Hoodie</td><td>Clothing</td><td>3</td><td>no</td><td>Credit Card</td><td>Christopher Miller</td><td>2018-07-05</td><td>Houston</td><td>2016-11-05</td><td>D</td><td>6</td><td>5</td><td>0.2</td><td>John Brown</td><td>john.brown@hotmai...</td><td>trx-274239612034</td><td>29.99</td></tr>\n",
       "<tr><td>2022-09-15</td><td>85496</td><td>11.0</td><td>1.0</td><td>19</td><td>Sandals</td><td>Footwear</td><td>7</td><td>no</td><td>Credit Card</td><td>john wick</td><td>2018-07-10</td><td>New York</td><td>2017-01-15</td><td>A</td><td>6</td><td>6</td><td>0.0</td><td>Emma Smith</td><td>emma.smith@gmail.com</td><td>trx-054194579945</td><td>29.99</td></tr>\n",
       "<tr><td>2022-09-24</td><td>85469</td><td>6.0</td><td>3.0</td><td>13</td><td>Printer</td><td>Electronics</td><td>3</td><td>no</td><td>Cash</td><td>Emma Taylor</td><td>2018-08-09</td><td>Chicago</td><td>2015-03-10</td><td>A</td><td>6</td><td>7</td><td>0.0</td><td>Emma Miller</td><td>emma.miller@outlo...</td><td>trx-217671445546</td><td>149.99</td></tr>\n",
       "<tr><td>2022-09-08</td><td>85529</td><td>10.0</td><td>3.0</td><td>23</td><td>Toaster</td><td>Appliances</td><td>9</td><td>no</td><td>Credit Card</td><td>Sophia Moore</td><td>2019-11-10</td><td>Chicago</td><td>2015-03-10</td><td>A</td><td>6</td><td>8</td><td>0.0</td><td>Mia Williams</td><td>mia.williams@yaho...</td><td>trx-765298457963</td><td>39.99</td></tr>\n",
       "<tr><td>2022-12-09</td><td>85523</td><td>7.0</td><td>1.0</td><td>25</td><td>Washing Machine</td><td>Appliances</td><td>1</td><td>no</td><td>Cash</td><td>Christopher Miller</td><td>2018-07-05</td><td>New York</td><td>2017-01-15</td><td>A</td><td>6</td><td>9</td><td>0.0</td><td>William Brown</td><td>william.brown@hot...</td><td>trx-469050698996</td><td>499.99</td></tr>\n",
       "<tr><td>2023-04-27</td><td>85471</td><td>7.0</td><td>2.0</td><td>6</td><td>Jeans</td><td>Clothing</td><td>1</td><td>no</td><td>Cash</td><td>Christopher Miller</td><td>2018-07-05</td><td>Los Angeles</td><td>2016-07-28</td><td>B</td><td>6</td><td>10</td><td>0.0</td><td>Olivia Smith</td><td>olivia.smith@yaho...</td><td>trx-809046673246</td><td>49.99</td></tr>\n",
       "<tr><td>2022-04-17</td><td>85550</td><td>11.0</td><td>6.0</td><td>26</td><td>Vacuum Cleaner</td><td>Appliances</td><td>5</td><td>no</td><td>Credit Card</td><td>john wick</td><td>2018-07-10</td><td>Oklahoma</td><td>2016-09-20</td><td>A</td><td>6</td><td>11</td><td>0.0</td><td>Sophia Davis</td><td>sophia.davis@yaho...</td><td>trx-718592019332</td><td>199.99</td></tr>\n",
       "<tr><td>2022-06-11</td><td>85499</td><td>7.0</td><td>5.0</td><td>6</td><td>Jeans</td><td>Clothing</td><td>5</td><td>no</td><td>Credit Card</td><td>Christopher Miller</td><td>2018-07-05</td><td>Phoenix</td><td>2017-09-20</td><td>C</td><td>6</td><td>12</td><td>0.0</td><td>Michael Johnson</td><td>michael.johnson@h...</td><td>trx-787616785970</td><td>49.99</td></tr>\n",
       "<tr><td>2023-03-13</td><td>85505</td><td>10.0</td><td>6.0</td><td>4</td><td>Headphones</td><td>Electronics</td><td>7</td><td>no</td><td>Credit Card</td><td>Sophia Moore</td><td>2019-11-10</td><td>Oklahoma</td><td>2016-09-20</td><td>A</td><td>6</td><td>13</td><td>0.2</td><td>Emma Davis</td><td>emma.davis@gmail.com</td><td>trx-323623959597</td><td>99.99</td></tr>\n",
       "<tr><td>2023-01-11</td><td>85554</td><td>10.0</td><td>5.0</td><td>8</td><td>Sneakers</td><td>Footwear</td><td>10</td><td>no</td><td>Cash</td><td>Sophia Moore</td><td>2019-11-10</td><td>Phoenix</td><td>2017-09-20</td><td>C</td><td>6</td><td>14</td><td>0.15</td><td>William Wilson</td><td>william.wilson@ho...</td><td>trx-596764527661</td><td>79.99</td></tr>\n",
       "<tr><td>2023-07-06</td><td>85487</td><td>9.0</td><td>5.0</td><td>16</td><td>Skirt</td><td>Clothing</td><td>2</td><td>no</td><td>Credit Card</td><td>Daniel Martinez</td><td>2019-07-19</td><td>Phoenix</td><td>2017-09-20</td><td>C</td><td>6</td><td>15</td><td>0.0</td><td>John Miller</td><td>john.miller@hotma...</td><td>trx-889004599286</td><td>39.99</td></tr>\n",
       "<tr><td>2022-09-18</td><td>85546</td><td>10.0</td><td>4.0</td><td>5</td><td>T-Shirt</td><td>Clothing</td><td>8</td><td>no</td><td>Cash</td><td>Sophia Moore</td><td>2019-11-10</td><td>Houston</td><td>2016-11-05</td><td>D</td><td>6</td><td>16</td><td>0.0</td><td>William Moore</td><td>william.moore@out...</td><td>trx-335344321669</td><td>19.99</td></tr>\n",
       "<tr><td>2022-11-07</td><td>85497</td><td>1.0</td><td>4.0</td><td>28</td><td>Hair Dryer</td><td>Appliances</td><td>5</td><td>no</td><td>Cash</td><td>John Doe</td><td>2020-06-10</td><td>Houston</td><td>2016-11-05</td><td>D</td><td>6</td><td>17</td><td>0.2</td><td>Emma Brown</td><td>emma.brown@gmail.com</td><td>trx-578892449561</td><td>19.99</td></tr>\n",
       "<tr><td>2023-08-01</td><td>85462</td><td>3.0</td><td>1.0</td><td>4</td><td>Headphones</td><td>Electronics</td><td>4</td><td>no</td><td>Credit Card</td><td>Michael Johnson</td><td>2019-07-22</td><td>New York</td><td>2017-01-15</td><td>A</td><td>6</td><td>18</td><td>0.15</td><td>Mia Davis</td><td>mia.davis@outlook...</td><td>trx-187203915482</td><td>99.99</td></tr>\n",
       "<tr><td>2022-09-01</td><td>85495</td><td>6.0</td><td>5.0</td><td>25</td><td>Washing Machine</td><td>Appliances</td><td>4</td><td>no</td><td>Cash</td><td>Emma Taylor</td><td>2018-08-09</td><td>Phoenix</td><td>2017-09-20</td><td>C</td><td>6</td><td>19</td><td>0.0</td><td>William Moore</td><td>william.moore@gma...</td><td>trx-358648761834</td><td>499.99</td></tr>\n",
       "</table>\n",
       "only showing top 20 rows\n"
      ],
      "text/plain": [
       "+----------------+-----------+--------------+---------+----------+---------------+----------------+-----+---------+--------------+------------------+---------------------+---------------+---------------------+------------+-----+---------+--------+-----------------+--------------------+----------------+----------+\n",
       "|transaction_date|customer_id|sales_agent_id|branch_id|product_id|   product_name|product_category|units|is_online|payment_method|  sales_agent_name|sales_agent_hire_date|branch_location|branch_establish_date|branch_class|group|row_index|discount|    customer_name|       cleaned_email|  transaction_id|unit_price|\n",
       "+----------------+-----------+--------------+---------+----------+---------------+----------------+-----+---------+--------------+------------------+---------------------+---------------+---------------------+------------+-----+---------+--------+-----------------+--------------------+----------------+----------+\n",
       "|      2022-07-19|      85513|          10.0|      6.0|        27|           Iron|      Appliances|    7|       no|          Cash|      Sophia Moore|           2019-11-10|       Oklahoma|           2016-09-20|           A|    6|        0|     0.0|Alexander Johnson|alexander.johnson...|trx-878108770002|     29.99|\n",
       "|      2023-08-06|      85510|           2.0|      6.0|        28|     Hair Dryer|      Appliances|   10|       no|          Cash|        Jane Smith|           2021-06-08|       Oklahoma|           2016-09-20|           A|    6|        1|     0.1|        Ava Smith| ava.smith@gmail.com|trx-349443438637|     19.99|\n",
       "|      2022-12-28|      85553|           6.0|      4.0|        13|        Printer|     Electronics|    2|       no|   Credit Card|       Emma Taylor|           2018-08-09|        Houston|           2016-11-05|           D|    6|        2|    0.15|        Mia Brown|mia.brown@hotmail...|trx-045891300294|    149.99|\n",
       "|      2023-06-28|      85520|           3.0|      2.0|        12|        Monitor|     Electronics|    6|       no|   Credit Card|   Michael Johnson|           2019-07-22|    Los Angeles|           2016-07-28|           B|    6|        3|     0.0|    Olivia Taylor|olivia.taylor@out...|trx-756996252944|    299.99|\n",
       "|      2023-09-05|      85539|           8.0|      3.0|         5|        T-Shirt|        Clothing|    1|       no|   Credit Card|      Olivia Davis|           2019-12-08|        Chicago|           2015-03-10|           A|    6|        4|    0.05|       John Moore|john.moore@gmail.com|trx-491216466700|     19.99|\n",
       "|      2023-03-16|      85517|           7.0|      4.0|        15|         Hoodie|        Clothing|    3|       no|   Credit Card|Christopher Miller|           2018-07-05|        Houston|           2016-11-05|           D|    6|        5|     0.2|       John Brown|john.brown@hotmai...|trx-274239612034|     29.99|\n",
       "|      2022-09-15|      85496|          11.0|      1.0|        19|        Sandals|        Footwear|    7|       no|   Credit Card|         john wick|           2018-07-10|       New York|           2017-01-15|           A|    6|        6|     0.0|       Emma Smith|emma.smith@gmail.com|trx-054194579945|     29.99|\n",
       "|      2022-09-24|      85469|           6.0|      3.0|        13|        Printer|     Electronics|    3|       no|          Cash|       Emma Taylor|           2018-08-09|        Chicago|           2015-03-10|           A|    6|        7|     0.0|      Emma Miller|emma.miller@outlo...|trx-217671445546|    149.99|\n",
       "|      2022-09-08|      85529|          10.0|      3.0|        23|        Toaster|      Appliances|    9|       no|   Credit Card|      Sophia Moore|           2019-11-10|        Chicago|           2015-03-10|           A|    6|        8|     0.0|     Mia Williams|mia.williams@yaho...|trx-765298457963|     39.99|\n",
       "|      2022-12-09|      85523|           7.0|      1.0|        25|Washing Machine|      Appliances|    1|       no|          Cash|Christopher Miller|           2018-07-05|       New York|           2017-01-15|           A|    6|        9|     0.0|    William Brown|william.brown@hot...|trx-469050698996|    499.99|\n",
       "|      2023-04-27|      85471|           7.0|      2.0|         6|          Jeans|        Clothing|    1|       no|          Cash|Christopher Miller|           2018-07-05|    Los Angeles|           2016-07-28|           B|    6|       10|     0.0|     Olivia Smith|olivia.smith@yaho...|trx-809046673246|     49.99|\n",
       "|      2022-04-17|      85550|          11.0|      6.0|        26| Vacuum Cleaner|      Appliances|    5|       no|   Credit Card|         john wick|           2018-07-10|       Oklahoma|           2016-09-20|           A|    6|       11|     0.0|     Sophia Davis|sophia.davis@yaho...|trx-718592019332|    199.99|\n",
       "|      2022-06-11|      85499|           7.0|      5.0|         6|          Jeans|        Clothing|    5|       no|   Credit Card|Christopher Miller|           2018-07-05|        Phoenix|           2017-09-20|           C|    6|       12|     0.0|  Michael Johnson|michael.johnson@h...|trx-787616785970|     49.99|\n",
       "|      2023-03-13|      85505|          10.0|      6.0|         4|     Headphones|     Electronics|    7|       no|   Credit Card|      Sophia Moore|           2019-11-10|       Oklahoma|           2016-09-20|           A|    6|       13|     0.2|       Emma Davis|emma.davis@gmail.com|trx-323623959597|     99.99|\n",
       "|      2023-01-11|      85554|          10.0|      5.0|         8|       Sneakers|        Footwear|   10|       no|          Cash|      Sophia Moore|           2019-11-10|        Phoenix|           2017-09-20|           C|    6|       14|    0.15|   William Wilson|william.wilson@ho...|trx-596764527661|     79.99|\n",
       "|      2023-07-06|      85487|           9.0|      5.0|        16|          Skirt|        Clothing|    2|       no|   Credit Card|   Daniel Martinez|           2019-07-19|        Phoenix|           2017-09-20|           C|    6|       15|     0.0|      John Miller|john.miller@hotma...|trx-889004599286|     39.99|\n",
       "|      2022-09-18|      85546|          10.0|      4.0|         5|        T-Shirt|        Clothing|    8|       no|          Cash|      Sophia Moore|           2019-11-10|        Houston|           2016-11-05|           D|    6|       16|     0.0|    William Moore|william.moore@out...|trx-335344321669|     19.99|\n",
       "|      2022-11-07|      85497|           1.0|      4.0|        28|     Hair Dryer|      Appliances|    5|       no|          Cash|          John Doe|           2020-06-10|        Houston|           2016-11-05|           D|    6|       17|     0.2|       Emma Brown|emma.brown@gmail.com|trx-578892449561|     19.99|\n",
       "|      2023-08-01|      85462|           3.0|      1.0|         4|     Headphones|     Electronics|    4|       no|   Credit Card|   Michael Johnson|           2019-07-22|       New York|           2017-01-15|           A|    6|       18|    0.15|        Mia Davis|mia.davis@outlook...|trx-187203915482|     99.99|\n",
       "|      2022-09-01|      85495|           6.0|      5.0|        25|Washing Machine|      Appliances|    4|       no|          Cash|       Emma Taylor|           2018-08-09|        Phoenix|           2017-09-20|           C|    6|       19|     0.0|    William Moore|william.moore@gma...|trx-358648761834|    499.99|\n",
       "+----------------+-----------+--------------+---------+----------+---------------+----------------+-----+---------+--------------+------------------+---------------------+---------------+---------------------+------------+-----+---------+--------+-----------------+--------------------+----------------+----------+\n",
       "only showing top 20 rows"
      ]
     },
     "execution_count": 64,
     "metadata": {},
     "output_type": "execute_result"
    }
   ],
   "source": [
    "#Offline Transactions Schema\n",
    "offline_transactions = StructType([\n",
    "    StructField(\"transaction_date\", StringType(), nullable=False),\n",
    "    StructField(\"customer_id\", LongType(), nullable=False),\n",
    "    StructField(\"sales_agent_id\", StringType(), nullable=False),\n",
    "    StructField(\"branch_id\", StringType(), nullable=False),\n",
    "    StructField(\"product_id\", IntegerType(), nullable=False),\n",
    "    StructField(\"product_name\", StringType(), nullable=False),\n",
    "    StructField(\"product_category\", StringType(), nullable=False),\n",
    "    StructField(\"units\", IntegerType(), nullable=False),\n",
    "    StructField(\"is_online\", StringType(), nullable=False),\n",
    "    StructField(\"payment_method\", StringType(), nullable=False),\n",
    "    StructField(\"sales_agent_name\", StringType(), nullable=False),\n",
    "    StructField(\"sales_agent_hire_date\", StringType(), nullable=False),\n",
    "    StructField(\"branch_location\", StringType(), nullable=False),\n",
    "    StructField(\"branch_establish_date\", StringType(), nullable=False),\n",
    "    StructField(\"branch_class\", StringType(), nullable=False),\n",
    "    StructField(\"group\", StringType(), nullable=False),\n",
    "    StructField(\"row_index\", StringType(), nullable=False),\n",
    "    StructField(\"discount\", FloatType(), nullable=False),\n",
    "    StructField(\"customer_name\", StringType(), nullable=False),\n",
    "    StructField(\"cleaned_email\", StringType(), nullable=False),\n",
    "    StructField(\"transaction_id\", StringType(), nullable=False),\n",
    "    StructField(\"unit_price\", DoubleType(), nullable=False)\n",
    "])\n",
    "\n",
    "# Path to the directory containing the CSV files\n",
    "offline_merged = \"/Graduation_Project/cleaned_data/offline/*/*.csv\"\n",
    "\n",
    "# Read all CSV files in the directory into a single DataFrame without schema for verification\n",
    "test2_df = spark.read.option(\"header\", \"true\").csv(offline_merged)\n",
    "offline_merged_df = spark.read.option(\"header\", \"true\").schema(offline_transactions).csv(offline_merged)\n",
    "offline_merged_df.coalesce(1)"
   ]
  },
  {
   "cell_type": "code",
   "execution_count": 65,
   "id": "194dae60-e9da-416d-9fdd-5fd058fe2bd1",
   "metadata": {},
   "outputs": [
    {
     "name": "stdout",
     "output_type": "stream",
     "text": [
      "-RECORD 0--------------------------------------------\n",
      " transaction_date      | 2022-07-19                  \n",
      " customer_id           | 85513                       \n",
      " sales_agent_id        | 10.0                        \n",
      " branch_id             | 6.0                         \n",
      " product_id            | 27                          \n",
      " product_name          | Iron                        \n",
      " product_category      | Appliances                  \n",
      " units                 | 7                           \n",
      " is_online             | no                          \n",
      " payment_method        | Cash                        \n",
      " sales_agent_name      | Sophia Moore                \n",
      " sales_agent_hire_date | 2019-11-10                  \n",
      " branch_location       | Oklahoma                    \n",
      " branch_establish_date | 2016-09-20                  \n",
      " branch_class          | A                           \n",
      " group                 | 6                           \n",
      " row_index             | 0                           \n",
      " discount              | 0.0                         \n",
      " customer_name         | Alexander Johnson           \n",
      " cleaned_email         | alexander.johnson@yahoo.com \n",
      " transaction_id        | trx-878108770002            \n",
      " unit_price            | 29.99                       \n",
      " total_price           | 209.92999999999998          \n",
      "-RECORD 1--------------------------------------------\n",
      " transaction_date      | 2023-08-06                  \n",
      " customer_id           | 85510                       \n",
      " sales_agent_id        | 2.0                         \n",
      " branch_id             | 6.0                         \n",
      " product_id            | 28                          \n",
      " product_name          | Hair Dryer                  \n",
      " product_category      | Appliances                  \n",
      " units                 | 10                          \n",
      " is_online             | no                          \n",
      " payment_method        | Cash                        \n",
      " sales_agent_name      | Jane Smith                  \n",
      " sales_agent_hire_date | 2021-06-08                  \n",
      " branch_location       | Oklahoma                    \n",
      " branch_establish_date | 2016-09-20                  \n",
      " branch_class          | A                           \n",
      " group                 | 6                           \n",
      " row_index             | 1                           \n",
      " discount              | 0.1                         \n",
      " customer_name         | Ava Smith                   \n",
      " cleaned_email         | ava.smith@gmail.com         \n",
      " transaction_id        | trx-349443438637            \n",
      " unit_price            | 19.99                       \n",
      " total_price           | 179.90999523401257          \n",
      "-RECORD 2--------------------------------------------\n",
      " transaction_date      | 2022-12-28                  \n",
      " customer_id           | 85553                       \n",
      " sales_agent_id        | 6.0                         \n",
      " branch_id             | 4.0                         \n",
      " product_id            | 13                          \n",
      " product_name          | Printer                     \n",
      " product_category      | Electronics                 \n",
      " units                 | 2                           \n",
      " is_online             | no                          \n",
      " payment_method        | Credit Card                 \n",
      " sales_agent_name      | Emma Taylor                 \n",
      " sales_agent_hire_date | 2018-08-09                  \n",
      " branch_location       | Houston                     \n",
      " branch_establish_date | 2016-11-05                  \n",
      " branch_class          | D                           \n",
      " group                 | 6                           \n",
      " row_index             | 2                           \n",
      " discount              | 0.15                        \n",
      " customer_name         | Mia Brown                   \n",
      " cleaned_email         | mia.brown@hotmail.com       \n",
      " transaction_id        | trx-045891300294            \n",
      " unit_price            | 149.99                      \n",
      " total_price           | 254.98300715208055          \n",
      "-RECORD 3--------------------------------------------\n",
      " transaction_date      | 2023-06-28                  \n",
      " customer_id           | 85520                       \n",
      " sales_agent_id        | 3.0                         \n",
      " branch_id             | 2.0                         \n",
      " product_id            | 12                          \n",
      " product_name          | Monitor                     \n",
      " product_category      | Electronics                 \n",
      " units                 | 6                           \n",
      " is_online             | no                          \n",
      " payment_method        | Credit Card                 \n",
      " sales_agent_name      | Michael Johnson             \n",
      " sales_agent_hire_date | 2019-07-22                  \n",
      " branch_location       | Los Angeles                 \n",
      " branch_establish_date | 2016-07-28                  \n",
      " branch_class          | B                           \n",
      " group                 | 6                           \n",
      " row_index             | 3                           \n",
      " discount              | 0.0                         \n",
      " customer_name         | Olivia Taylor               \n",
      " cleaned_email         | olivia.taylor@outlook.com   \n",
      " transaction_id        | trx-756996252944            \n",
      " unit_price            | 299.99                      \n",
      " total_price           | 1799.94                     \n",
      "-RECORD 4--------------------------------------------\n",
      " transaction_date      | 2023-09-05                  \n",
      " customer_id           | 85539                       \n",
      " sales_agent_id        | 8.0                         \n",
      " branch_id             | 3.0                         \n",
      " product_id            | 5                           \n",
      " product_name          | T-Shirt                     \n",
      " product_category      | Clothing                    \n",
      " units                 | 1                           \n",
      " is_online             | no                          \n",
      " payment_method        | Credit Card                 \n",
      " sales_agent_name      | Olivia Davis                \n",
      " sales_agent_hire_date | 2019-12-08                  \n",
      " branch_location       | Chicago                     \n",
      " branch_establish_date | 2015-03-10                  \n",
      " branch_class          | A                           \n",
      " group                 | 6                           \n",
      " row_index             | 4                           \n",
      " discount              | 0.05                        \n",
      " customer_name         | John Moore                  \n",
      " cleaned_email         | john.moore@gmail.com        \n",
      " transaction_id        | trx-491216466700            \n",
      " unit_price            | 19.99                       \n",
      " total_price           | 18.99049976170063           \n",
      "only showing top 5 rows\n",
      "\n"
     ]
    }
   ],
   "source": [
    "# Calculate total price\n",
    "offline_merged_df = offline_merged_df.withColumn(\"total_price\", col(\"units\") * col(\"unit_price\") * (1 - col(\"discount\")))\n",
    "\n",
    "offline_merged_df.show(5, False, True)"
   ]
  },
  {
   "cell_type": "code",
   "execution_count": 66,
   "id": "041f984d-9c5e-4e42-b594-ef82e9695dfb",
   "metadata": {},
   "outputs": [],
   "source": [
    "# Write the merged DataFrame to a single CSV file\n",
    "output_path = \"/Graduation_Project/transformed_data/offline/merged_data.csv\"\n",
    "offline_merged_df.coalesce(1).write.mode('overwrite').csv(output_path, header=True)"
   ]
  },
  {
   "cell_type": "code",
   "execution_count": null,
   "id": "e1dd31ed-ea85-47b0-b341-802a4a40affd",
   "metadata": {},
   "outputs": [],
   "source": []
  },
  {
   "cell_type": "code",
   "execution_count": null,
   "id": "fa853fdf-1794-424c-98c6-2ed675a49047",
   "metadata": {},
   "outputs": [],
   "source": []
  },
  {
   "cell_type": "code",
   "execution_count": null,
   "id": "2103d460-89d8-4901-ba82-9ebb655b37b5",
   "metadata": {},
   "outputs": [],
   "source": []
  },
  {
   "cell_type": "code",
   "execution_count": 67,
   "id": "c9cf8678-2c38-4791-b78a-479b8c3548b2",
   "metadata": {},
   "outputs": [
    {
     "data": {
      "text/html": [
       "<table border='1'>\n",
       "<tr><th>transaction_date</th><th>customer_id</th><th>sales_agent_id</th><th>branch_id</th><th>product_id</th><th>product_name</th><th>product_category</th><th>units</th><th>is_online</th><th>payment_method</th><th>sales_agent_name</th><th>sales_agent_hire_date</th><th>branch_location</th><th>branch_establish_date</th><th>branch_class</th><th>group</th><th>row_index</th><th>shipping_street_name</th><th>shipping_city</th><th>shipping_zip_code</th><th>shipping_state</th><th>discount</th><th>customer_name</th><th>cleaned_email</th><th>transaction_id</th><th>unit_price</th></tr>\n",
       "<tr><td>2023-05-20</td><td>85469</td><td>1.0</td><td>2.0</td><td>22</td><td>Coffee Maker</td><td>Appliances</td><td>10</td><td>no</td><td>Cash</td><td>John Doe</td><td>2020-06-03</td><td>Los Angeles</td><td>2016-07-28</td><td>B</td><td>1</td><td>0</td><td>null</td><td>null</td><td>null</td><td>null</td><td>0.0</td><td>Alexander Brown</td><td>alexander.brown@g...</td><td>trx-152546429674</td><td>79.99</td></tr>\n",
       "<tr><td>2022-10-25</td><td>85512</td><td>3.0</td><td>1.0</td><td>24</td><td>Blender</td><td>Appliances</td><td>5</td><td>no</td><td>Cash</td><td>Michael Johnson</td><td>2021-10-03</td><td>New York</td><td>2017-01-15</td><td>A</td><td>1</td><td>1</td><td>null</td><td>null</td><td>null</td><td>null</td><td>0.2</td><td>William Brown</td><td>william.brown@gma...</td><td>trx-291375327542</td><td>49.99</td></tr>\n",
       "<tr><td>2022-02-05</td><td>85484</td><td>10.0</td><td>3.0</td><td>4</td><td>Headphones</td><td>Electronics</td><td>1</td><td>no</td><td>Credit Card</td><td>Sophia Moore</td><td>2019-05-25</td><td>Chicago</td><td>2015-03-10</td><td>A</td><td>1</td><td>2</td><td>null</td><td>null</td><td>null</td><td>null</td><td>0.0</td><td>John Williams</td><td>john.williams@gma...</td><td>trx-312507679871</td><td>99.99</td></tr>\n",
       "<tr><td>2023-10-20</td><td>85528</td><td>7.0</td><td>2.0</td><td>25</td><td>Washing Machine</td><td>Appliances</td><td>8</td><td>no</td><td>Cash</td><td>Christopher Miller</td><td>2020-01-11</td><td>Los Angeles</td><td>2016-07-28</td><td>B</td><td>1</td><td>3</td><td>null</td><td>null</td><td>null</td><td>null</td><td>0.0</td><td>Alexander Miller</td><td>alexander.miller@...</td><td>trx-193384855491</td><td>499.99</td></tr>\n",
       "<tr><td>2022-11-17</td><td>85500</td><td>5.0</td><td>1.0</td><td>14</td><td>Camera</td><td>Electronics</td><td>10</td><td>no</td><td>Cash</td><td>David Wilson</td><td>2021-04-08</td><td>New York</td><td>2017-01-15</td><td>A</td><td>1</td><td>4</td><td>null</td><td>null</td><td>null</td><td>null</td><td>0.15</td><td>John Brown</td><td>john.brown@hotmai...</td><td>trx-831626097654</td><td>399.99</td></tr>\n",
       "<tr><td>2022-09-27</td><td>85545</td><td>4.0</td><td>5.0</td><td>14</td><td>Camera</td><td>Electronics</td><td>6</td><td>no</td><td>Credit Card</td><td>Emily Brown</td><td>2020-10-25</td><td>Phoenix</td><td>2017-09-20</td><td>C</td><td>1</td><td>5</td><td>null</td><td>null</td><td>null</td><td>null</td><td>0.2</td><td>Sophia Wilson</td><td>sophia.wilson@hot...</td><td>trx-158496122054</td><td>399.99</td></tr>\n",
       "<tr><td>2022-04-21</td><td>85561</td><td>4.0</td><td>1.0</td><td>30</td><td>Electric Kettle</td><td>Appliances</td><td>6</td><td>no</td><td>Credit Card</td><td>Emily Brown</td><td>2020-10-25</td><td>New York</td><td>2017-01-15</td><td>A</td><td>1</td><td>6</td><td>null</td><td>null</td><td>null</td><td>null</td><td>0.2</td><td>Alexander Moore</td><td>alexander.moore@y...</td><td>trx-722817999024</td><td>24.99</td></tr>\n",
       "<tr><td>2023-04-28</td><td>85520</td><td>1.0</td><td>1.0</td><td>26</td><td>Vacuum Cleaner</td><td>Appliances</td><td>4</td><td>no</td><td>Cash</td><td>John Doe</td><td>2020-06-03</td><td>New York</td><td>2017-01-15</td><td>A</td><td>1</td><td>7</td><td>null</td><td>null</td><td>null</td><td>null</td><td>0.0</td><td>Alexander Wilson</td><td>alexander.wilson@...</td><td>trx-813287633702</td><td>199.99</td></tr>\n",
       "<tr><td>2023-03-08</td><td>85488</td><td>6.0</td><td>2.0</td><td>18</td><td>Boots</td><td>Footwear</td><td>10</td><td>no</td><td>Credit Card</td><td>Emma Taylor</td><td>2019-03-28</td><td>Los Angeles</td><td>2016-07-28</td><td>B</td><td>1</td><td>8</td><td>null</td><td>null</td><td>null</td><td>null</td><td>0.0</td><td>Michael Miller</td><td>michael.miller@ya...</td><td>trx-219568257432</td><td>149.99</td></tr>\n",
       "<tr><td>2023-06-17</td><td>85466</td><td>5.0</td><td>2.0</td><td>16</td><td>Skirt</td><td>Clothing</td><td>8</td><td>no</td><td>Cash</td><td>David Wilson</td><td>2021-04-08</td><td>Los Angeles</td><td>2016-07-28</td><td>B</td><td>1</td><td>9</td><td>null</td><td>null</td><td>null</td><td>null</td><td>0.0</td><td>Michael Brown</td><td>michael.brown@yah...</td><td>trx-352160720823</td><td>39.99</td></tr>\n",
       "<tr><td>2022-08-28</td><td>85559</td><td>6.0</td><td>5.0</td><td>14</td><td>Camera</td><td>Electronics</td><td>6</td><td>no</td><td>Cash</td><td>Emma Taylor</td><td>2019-03-28</td><td>Phoenix</td><td>2017-09-20</td><td>C</td><td>1</td><td>10</td><td>null</td><td>null</td><td>null</td><td>null</td><td>0.0</td><td>John Taylor</td><td>john.taylor@yahoo...</td><td>trx-895389231641</td><td>399.99</td></tr>\n",
       "<tr><td>2023-11-19</td><td>85527</td><td>7.0</td><td>2.0</td><td>22</td><td>Coffee Maker</td><td>Appliances</td><td>6</td><td>no</td><td>Credit Card</td><td>Christopher Miller</td><td>2020-01-11</td><td>Los Angeles</td><td>2016-07-28</td><td>B</td><td>1</td><td>11</td><td>null</td><td>null</td><td>null</td><td>null</td><td>0.0</td><td>Alexander Davis</td><td>alexander.davis@y...</td><td>trx-820309386661</td><td>79.99</td></tr>\n",
       "<tr><td>2022-03-22</td><td>85502</td><td>4.0</td><td>5.0</td><td>5</td><td>T-Shirt</td><td>Clothing</td><td>10</td><td>no</td><td>Cash</td><td>Emily Brown</td><td>2020-10-25</td><td>Phoenix</td><td>2017-09-20</td><td>C</td><td>1</td><td>12</td><td>null</td><td>null</td><td>null</td><td>null</td><td>0.05</td><td>Michael Brown</td><td>michael.brown@hot...</td><td>trx-974983174642</td><td>19.99</td></tr>\n",
       "<tr><td>2022-09-27</td><td>85508</td><td>1.0</td><td>3.0</td><td>9</td><td>Boots</td><td>Footwear</td><td>1</td><td>no</td><td>Credit Card</td><td>John Doe</td><td>2020-06-03</td><td>Chicago</td><td>2015-03-10</td><td>A</td><td>1</td><td>13</td><td>null</td><td>null</td><td>null</td><td>null</td><td>0.0</td><td>James Smith</td><td>james.smith@yahoo...</td><td>trx-119174604031</td><td>129.99</td></tr>\n",
       "<tr><td>2022-04-03</td><td>85549</td><td>2.0</td><td>3.0</td><td>2</td><td>Smartphone</td><td>Electronics</td><td>9</td><td>no</td><td>Credit Card</td><td>Jane Smith</td><td>2018-05-13</td><td>Chicago</td><td>2015-03-10</td><td>A</td><td>1</td><td>14</td><td>null</td><td>null</td><td>null</td><td>null</td><td>0.0</td><td>Emma Johnson</td><td>emma.johnson@hotm...</td><td>trx-474525094645</td><td>699.99</td></tr>\n",
       "<tr><td>2022-12-14</td><td>85483</td><td>9.0</td><td>5.0</td><td>27</td><td>Iron</td><td>Appliances</td><td>9</td><td>no</td><td>Credit Card</td><td>Daniel Martinez</td><td>2018-10-08</td><td>Phoenix</td><td>2017-09-20</td><td>C</td><td>1</td><td>15</td><td>null</td><td>null</td><td>null</td><td>null</td><td>0.1</td><td>John Johnson</td><td>john.johnson@yaho...</td><td>trx-355633008132</td><td>29.99</td></tr>\n",
       "<tr><td>2023-04-14</td><td>85496</td><td>8.0</td><td>2.0</td><td>19</td><td>Sandals</td><td>Footwear</td><td>2</td><td>no</td><td>Credit Card</td><td>Olivia Davis</td><td>2021-10-24</td><td>Los Angeles</td><td>2016-07-28</td><td>B</td><td>1</td><td>16</td><td>null</td><td>null</td><td>null</td><td>null</td><td>0.1</td><td>James Davis</td><td>james.davis@yahoo...</td><td>trx-490311940006</td><td>29.99</td></tr>\n",
       "<tr><td>2023-01-19</td><td>85507</td><td>2.0</td><td>2.0</td><td>28</td><td>Hair Dryer</td><td>Appliances</td><td>3</td><td>no</td><td>Cash</td><td>Jane Smith</td><td>2018-05-13</td><td>Los Angeles</td><td>2016-07-28</td><td>B</td><td>1</td><td>17</td><td>null</td><td>null</td><td>null</td><td>null</td><td>0.0</td><td>Ava Miller</td><td>ava.miller@outloo...</td><td>trx-132205124356</td><td>19.99</td></tr>\n",
       "<tr><td>2023-10-14</td><td>85543</td><td>10.0</td><td>5.0</td><td>24</td><td>Blender</td><td>Appliances</td><td>10</td><td>no</td><td>Cash</td><td>Sophia Moore</td><td>2019-05-25</td><td>Phoenix</td><td>2017-09-20</td><td>C</td><td>1</td><td>18</td><td>null</td><td>null</td><td>null</td><td>null</td><td>0.0</td><td>Olivia Brown</td><td>olivia.brown@outl...</td><td>trx-276319959382</td><td>49.99</td></tr>\n",
       "<tr><td>2022-03-24</td><td>85518</td><td>1.0</td><td>4.0</td><td>3</td><td>Tablet</td><td>Electronics</td><td>1</td><td>no</td><td>Cash</td><td>John Doe</td><td>2020-06-03</td><td>Houston</td><td>2016-11-05</td><td>D</td><td>1</td><td>19</td><td>null</td><td>null</td><td>null</td><td>null</td><td>0.15</td><td>Sophia Brown</td><td>sophia.brown@gmai...</td><td>trx-024853282614</td><td>299.99</td></tr>\n",
       "</table>\n",
       "only showing top 20 rows\n"
      ],
      "text/plain": [
       "+----------------+-----------+--------------+---------+----------+---------------+----------------+-----+---------+--------------+------------------+---------------------+---------------+---------------------+------------+-----+---------+--------------------+-------------+-----------------+--------------+--------+----------------+--------------------+----------------+----------+\n",
       "|transaction_date|customer_id|sales_agent_id|branch_id|product_id|   product_name|product_category|units|is_online|payment_method|  sales_agent_name|sales_agent_hire_date|branch_location|branch_establish_date|branch_class|group|row_index|shipping_street_name|shipping_city|shipping_zip_code|shipping_state|discount|   customer_name|       cleaned_email|  transaction_id|unit_price|\n",
       "+----------------+-----------+--------------+---------+----------+---------------+----------------+-----+---------+--------------+------------------+---------------------+---------------+---------------------+------------+-----+---------+--------------------+-------------+-----------------+--------------+--------+----------------+--------------------+----------------+----------+\n",
       "|      2023-05-20|      85469|           1.0|      2.0|        22|   Coffee Maker|      Appliances|   10|       no|          Cash|          John Doe|           2020-06-03|    Los Angeles|           2016-07-28|           B|    1|        0|                null|         null|             null|          null|     0.0| Alexander Brown|alexander.brown@g...|trx-152546429674|     79.99|\n",
       "|      2022-10-25|      85512|           3.0|      1.0|        24|        Blender|      Appliances|    5|       no|          Cash|   Michael Johnson|           2021-10-03|       New York|           2017-01-15|           A|    1|        1|                null|         null|             null|          null|     0.2|   William Brown|william.brown@gma...|trx-291375327542|     49.99|\n",
       "|      2022-02-05|      85484|          10.0|      3.0|         4|     Headphones|     Electronics|    1|       no|   Credit Card|      Sophia Moore|           2019-05-25|        Chicago|           2015-03-10|           A|    1|        2|                null|         null|             null|          null|     0.0|   John Williams|john.williams@gma...|trx-312507679871|     99.99|\n",
       "|      2023-10-20|      85528|           7.0|      2.0|        25|Washing Machine|      Appliances|    8|       no|          Cash|Christopher Miller|           2020-01-11|    Los Angeles|           2016-07-28|           B|    1|        3|                null|         null|             null|          null|     0.0|Alexander Miller|alexander.miller@...|trx-193384855491|    499.99|\n",
       "|      2022-11-17|      85500|           5.0|      1.0|        14|         Camera|     Electronics|   10|       no|          Cash|      David Wilson|           2021-04-08|       New York|           2017-01-15|           A|    1|        4|                null|         null|             null|          null|    0.15|      John Brown|john.brown@hotmai...|trx-831626097654|    399.99|\n",
       "|      2022-09-27|      85545|           4.0|      5.0|        14|         Camera|     Electronics|    6|       no|   Credit Card|       Emily Brown|           2020-10-25|        Phoenix|           2017-09-20|           C|    1|        5|                null|         null|             null|          null|     0.2|   Sophia Wilson|sophia.wilson@hot...|trx-158496122054|    399.99|\n",
       "|      2022-04-21|      85561|           4.0|      1.0|        30|Electric Kettle|      Appliances|    6|       no|   Credit Card|       Emily Brown|           2020-10-25|       New York|           2017-01-15|           A|    1|        6|                null|         null|             null|          null|     0.2| Alexander Moore|alexander.moore@y...|trx-722817999024|     24.99|\n",
       "|      2023-04-28|      85520|           1.0|      1.0|        26| Vacuum Cleaner|      Appliances|    4|       no|          Cash|          John Doe|           2020-06-03|       New York|           2017-01-15|           A|    1|        7|                null|         null|             null|          null|     0.0|Alexander Wilson|alexander.wilson@...|trx-813287633702|    199.99|\n",
       "|      2023-03-08|      85488|           6.0|      2.0|        18|          Boots|        Footwear|   10|       no|   Credit Card|       Emma Taylor|           2019-03-28|    Los Angeles|           2016-07-28|           B|    1|        8|                null|         null|             null|          null|     0.0|  Michael Miller|michael.miller@ya...|trx-219568257432|    149.99|\n",
       "|      2023-06-17|      85466|           5.0|      2.0|        16|          Skirt|        Clothing|    8|       no|          Cash|      David Wilson|           2021-04-08|    Los Angeles|           2016-07-28|           B|    1|        9|                null|         null|             null|          null|     0.0|   Michael Brown|michael.brown@yah...|trx-352160720823|     39.99|\n",
       "|      2022-08-28|      85559|           6.0|      5.0|        14|         Camera|     Electronics|    6|       no|          Cash|       Emma Taylor|           2019-03-28|        Phoenix|           2017-09-20|           C|    1|       10|                null|         null|             null|          null|     0.0|     John Taylor|john.taylor@yahoo...|trx-895389231641|    399.99|\n",
       "|      2023-11-19|      85527|           7.0|      2.0|        22|   Coffee Maker|      Appliances|    6|       no|   Credit Card|Christopher Miller|           2020-01-11|    Los Angeles|           2016-07-28|           B|    1|       11|                null|         null|             null|          null|     0.0| Alexander Davis|alexander.davis@y...|trx-820309386661|     79.99|\n",
       "|      2022-03-22|      85502|           4.0|      5.0|         5|        T-Shirt|        Clothing|   10|       no|          Cash|       Emily Brown|           2020-10-25|        Phoenix|           2017-09-20|           C|    1|       12|                null|         null|             null|          null|    0.05|   Michael Brown|michael.brown@hot...|trx-974983174642|     19.99|\n",
       "|      2022-09-27|      85508|           1.0|      3.0|         9|          Boots|        Footwear|    1|       no|   Credit Card|          John Doe|           2020-06-03|        Chicago|           2015-03-10|           A|    1|       13|                null|         null|             null|          null|     0.0|     James Smith|james.smith@yahoo...|trx-119174604031|    129.99|\n",
       "|      2022-04-03|      85549|           2.0|      3.0|         2|     Smartphone|     Electronics|    9|       no|   Credit Card|        Jane Smith|           2018-05-13|        Chicago|           2015-03-10|           A|    1|       14|                null|         null|             null|          null|     0.0|    Emma Johnson|emma.johnson@hotm...|trx-474525094645|    699.99|\n",
       "|      2022-12-14|      85483|           9.0|      5.0|        27|           Iron|      Appliances|    9|       no|   Credit Card|   Daniel Martinez|           2018-10-08|        Phoenix|           2017-09-20|           C|    1|       15|                null|         null|             null|          null|     0.1|    John Johnson|john.johnson@yaho...|trx-355633008132|     29.99|\n",
       "|      2023-04-14|      85496|           8.0|      2.0|        19|        Sandals|        Footwear|    2|       no|   Credit Card|      Olivia Davis|           2021-10-24|    Los Angeles|           2016-07-28|           B|    1|       16|                null|         null|             null|          null|     0.1|     James Davis|james.davis@yahoo...|trx-490311940006|     29.99|\n",
       "|      2023-01-19|      85507|           2.0|      2.0|        28|     Hair Dryer|      Appliances|    3|       no|          Cash|        Jane Smith|           2018-05-13|    Los Angeles|           2016-07-28|           B|    1|       17|                null|         null|             null|          null|     0.0|      Ava Miller|ava.miller@outloo...|trx-132205124356|     19.99|\n",
       "|      2023-10-14|      85543|          10.0|      5.0|        24|        Blender|      Appliances|   10|       no|          Cash|      Sophia Moore|           2019-05-25|        Phoenix|           2017-09-20|           C|    1|       18|                null|         null|             null|          null|     0.0|    Olivia Brown|olivia.brown@outl...|trx-276319959382|     49.99|\n",
       "|      2022-03-24|      85518|           1.0|      4.0|         3|         Tablet|     Electronics|    1|       no|          Cash|          John Doe|           2020-06-03|        Houston|           2016-11-05|           D|    1|       19|                null|         null|             null|          null|    0.15|    Sophia Brown|sophia.brown@gmai...|trx-024853282614|    299.99|\n",
       "+----------------+-----------+--------------+---------+----------+---------------+----------------+-----+---------+--------------+------------------+---------------------+---------------+---------------------+------------+-----+---------+--------------------+-------------+-----------------+--------------+--------+----------------+--------------------+----------------+----------+\n",
       "only showing top 20 rows"
      ]
     },
     "execution_count": 67,
     "metadata": {},
     "output_type": "execute_result"
    }
   ],
   "source": [
    "# Define the schema\n",
    "Alldata_transactions_schema = StructType([\n",
    "    StructField(\"transaction_date\", StringType(), nullable=False),\n",
    "    StructField(\"customer_id\", LongType(), nullable=False),\n",
    "    StructField(\"sales_agent_id\", DoubleType(), nullable=True),  \n",
    "    StructField(\"branch_id\", DoubleType(), nullable=True),       \n",
    "    StructField(\"product_id\", LongType(), nullable=False),\n",
    "    StructField(\"product_name\", StringType(), nullable=False),\n",
    "    StructField(\"product_category\", StringType(), nullable=False),\n",
    "    StructField(\"units\", IntegerType(), nullable=False),\n",
    "    StructField(\"is_online\", StringType(), nullable=False),\n",
    "    StructField(\"payment_method\", StringType(), nullable=False),\n",
    "    StructField(\"sales_agent_name\", StringType(), nullable=False),\n",
    "    StructField(\"sales_agent_hire_date\", StringType(), nullable=False), \n",
    "    StructField(\"branch_location\", StringType(), nullable=False),\n",
    "    StructField(\"branch_establish_date\", StringType(), nullable=False),  \n",
    "    StructField(\"branch_class\", StringType(), nullable=False),\n",
    "    StructField(\"group\", StringType(), nullable=False),\n",
    "    StructField(\"row_index\", LongType(), nullable=False),\n",
    "    StructField(\"shipping_street_name\", StringType(), nullable=True),   \n",
    "    StructField(\"shipping_city\", StringType(), nullable=True),\n",
    "    StructField(\"shipping_zip_code\", StringType(), nullable=True),\n",
    "    StructField(\"shipping_state\", StringType(), nullable=True),\n",
    "    StructField(\"discount\", FloatType(), nullable=False),\n",
    "    StructField(\"customer_name\", StringType(), nullable=False),\n",
    "    StructField(\"cleaned_email\", StringType(), nullable=False),\n",
    "    StructField(\"transaction_id\", StringType(), nullable=False),\n",
    "    StructField(\"unit_price\", DoubleType(), nullable=False)\n",
    "])\n",
    "\n",
    "# Now you can read the CSV file with this schema in Spark\n",
    "all_groups_merged_df = spark.read.csv(\"/Graduation_Project/cleaned_data/all_groups_merged.csv\", schema=Alldata_transactions_schema ,header=True)\n",
    "\n",
    "all_groups_merged_df.coalesce(1)"
   ]
  },
  {
   "cell_type": "code",
   "execution_count": 68,
   "id": "9e015e3b-9b35-4a84-acdf-02cd677b55da",
   "metadata": {},
   "outputs": [
    {
     "data": {
      "text/html": [
       "<table border='1'>\n",
       "<tr><th>transaction_date</th><th>customer_id</th><th>sales_agent_id</th><th>branch_id</th><th>product_id</th><th>product_name</th><th>product_category</th><th>units</th><th>is_online</th><th>payment_method</th><th>sales_agent_name</th><th>sales_agent_hire_date</th><th>branch_location</th><th>branch_establish_date</th><th>branch_class</th><th>group</th><th>row_index</th><th>shipping_street_name</th><th>shipping_city</th><th>shipping_zip_code</th><th>shipping_state</th><th>discount</th><th>customer_name</th><th>cleaned_email</th><th>transaction_id</th><th>unit_price</th><th>total_price</th></tr>\n",
       "<tr><td>2023-05-20</td><td>85469</td><td>1.0</td><td>2.0</td><td>22</td><td>Coffee Maker</td><td>Appliances</td><td>10</td><td>no</td><td>Cash</td><td>John Doe</td><td>2020-06-03</td><td>Los Angeles</td><td>2016-07-28</td><td>B</td><td>1</td><td>0</td><td>null</td><td>null</td><td>null</td><td>null</td><td>0.0</td><td>Alexander Brown</td><td>alexander.brown@g...</td><td>trx-152546429674</td><td>79.99</td><td>799.9</td></tr>\n",
       "<tr><td>2022-10-25</td><td>85512</td><td>3.0</td><td>1.0</td><td>24</td><td>Blender</td><td>Appliances</td><td>5</td><td>no</td><td>Cash</td><td>Michael Johnson</td><td>2021-10-03</td><td>New York</td><td>2017-01-15</td><td>A</td><td>1</td><td>1</td><td>null</td><td>null</td><td>null</td><td>null</td><td>0.2</td><td>William Brown</td><td>william.brown@gma...</td><td>trx-291375327542</td><td>49.99</td><td>199.96000297963622</td></tr>\n",
       "<tr><td>2022-02-05</td><td>85484</td><td>10.0</td><td>3.0</td><td>4</td><td>Headphones</td><td>Electronics</td><td>1</td><td>no</td><td>Credit Card</td><td>Sophia Moore</td><td>2019-05-25</td><td>Chicago</td><td>2015-03-10</td><td>A</td><td>1</td><td>2</td><td>null</td><td>null</td><td>null</td><td>null</td><td>0.0</td><td>John Williams</td><td>john.williams@gma...</td><td>trx-312507679871</td><td>99.99</td><td>99.99</td></tr>\n",
       "<tr><td>2023-10-20</td><td>85528</td><td>7.0</td><td>2.0</td><td>25</td><td>Washing Machine</td><td>Appliances</td><td>8</td><td>no</td><td>Cash</td><td>Christopher Miller</td><td>2020-01-11</td><td>Los Angeles</td><td>2016-07-28</td><td>B</td><td>1</td><td>3</td><td>null</td><td>null</td><td>null</td><td>null</td><td>0.0</td><td>Alexander Miller</td><td>alexander.miller@...</td><td>trx-193384855491</td><td>499.99</td><td>3999.92</td></tr>\n",
       "<tr><td>2022-11-17</td><td>85500</td><td>5.0</td><td>1.0</td><td>14</td><td>Camera</td><td>Electronics</td><td>10</td><td>no</td><td>Cash</td><td>David Wilson</td><td>2021-04-08</td><td>New York</td><td>2017-01-15</td><td>A</td><td>1</td><td>4</td><td>null</td><td>null</td><td>null</td><td>null</td><td>0.15</td><td>John Brown</td><td>john.brown@hotmai...</td><td>trx-831626097654</td><td>399.99</td><td>3399.9150953650474</td></tr>\n",
       "<tr><td>2022-09-27</td><td>85545</td><td>4.0</td><td>5.0</td><td>14</td><td>Camera</td><td>Electronics</td><td>6</td><td>no</td><td>Credit Card</td><td>Emily Brown</td><td>2020-10-25</td><td>Phoenix</td><td>2017-09-20</td><td>C</td><td>1</td><td>5</td><td>null</td><td>null</td><td>null</td><td>null</td><td>0.2</td><td>Sophia Wilson</td><td>sophia.wilson@hot...</td><td>trx-158496122054</td><td>399.99</td><td>1919.9520286095142</td></tr>\n",
       "<tr><td>2022-04-21</td><td>85561</td><td>4.0</td><td>1.0</td><td>30</td><td>Electric Kettle</td><td>Appliances</td><td>6</td><td>no</td><td>Credit Card</td><td>Emily Brown</td><td>2020-10-25</td><td>New York</td><td>2017-01-15</td><td>A</td><td>1</td><td>6</td><td>null</td><td>null</td><td>null</td><td>null</td><td>0.2</td><td>Alexander Moore</td><td>alexander.moore@y...</td><td>trx-722817999024</td><td>24.99</td><td>119.95200178742408</td></tr>\n",
       "<tr><td>2023-04-28</td><td>85520</td><td>1.0</td><td>1.0</td><td>26</td><td>Vacuum Cleaner</td><td>Appliances</td><td>4</td><td>no</td><td>Cash</td><td>John Doe</td><td>2020-06-03</td><td>New York</td><td>2017-01-15</td><td>A</td><td>1</td><td>7</td><td>null</td><td>null</td><td>null</td><td>null</td><td>0.0</td><td>Alexander Wilson</td><td>alexander.wilson@...</td><td>trx-813287633702</td><td>199.99</td><td>799.96</td></tr>\n",
       "<tr><td>2023-03-08</td><td>85488</td><td>6.0</td><td>2.0</td><td>18</td><td>Boots</td><td>Footwear</td><td>10</td><td>no</td><td>Credit Card</td><td>Emma Taylor</td><td>2019-03-28</td><td>Los Angeles</td><td>2016-07-28</td><td>B</td><td>1</td><td>8</td><td>null</td><td>null</td><td>null</td><td>null</td><td>0.0</td><td>Michael Miller</td><td>michael.miller@ya...</td><td>trx-219568257432</td><td>149.99</td><td>1499.9</td></tr>\n",
       "<tr><td>2023-06-17</td><td>85466</td><td>5.0</td><td>2.0</td><td>16</td><td>Skirt</td><td>Clothing</td><td>8</td><td>no</td><td>Cash</td><td>David Wilson</td><td>2021-04-08</td><td>Los Angeles</td><td>2016-07-28</td><td>B</td><td>1</td><td>9</td><td>null</td><td>null</td><td>null</td><td>null</td><td>0.0</td><td>Michael Brown</td><td>michael.brown@yah...</td><td>trx-352160720823</td><td>39.99</td><td>319.92</td></tr>\n",
       "<tr><td>2022-08-28</td><td>85559</td><td>6.0</td><td>5.0</td><td>14</td><td>Camera</td><td>Electronics</td><td>6</td><td>no</td><td>Cash</td><td>Emma Taylor</td><td>2019-03-28</td><td>Phoenix</td><td>2017-09-20</td><td>C</td><td>1</td><td>10</td><td>null</td><td>null</td><td>null</td><td>null</td><td>0.0</td><td>John Taylor</td><td>john.taylor@yahoo...</td><td>trx-895389231641</td><td>399.99</td><td>2399.94</td></tr>\n",
       "<tr><td>2023-11-19</td><td>85527</td><td>7.0</td><td>2.0</td><td>22</td><td>Coffee Maker</td><td>Appliances</td><td>6</td><td>no</td><td>Credit Card</td><td>Christopher Miller</td><td>2020-01-11</td><td>Los Angeles</td><td>2016-07-28</td><td>B</td><td>1</td><td>11</td><td>null</td><td>null</td><td>null</td><td>null</td><td>0.0</td><td>Alexander Davis</td><td>alexander.davis@y...</td><td>trx-820309386661</td><td>79.99</td><td>479.93999999999994</td></tr>\n",
       "<tr><td>2022-03-22</td><td>85502</td><td>4.0</td><td>5.0</td><td>5</td><td>T-Shirt</td><td>Clothing</td><td>10</td><td>no</td><td>Cash</td><td>Emily Brown</td><td>2020-10-25</td><td>Phoenix</td><td>2017-09-20</td><td>C</td><td>1</td><td>12</td><td>null</td><td>null</td><td>null</td><td>null</td><td>0.05</td><td>Michael Brown</td><td>michael.brown@hot...</td><td>trx-974983174642</td><td>19.99</td><td>189.90499761700627</td></tr>\n",
       "<tr><td>2022-09-27</td><td>85508</td><td>1.0</td><td>3.0</td><td>9</td><td>Boots</td><td>Footwear</td><td>1</td><td>no</td><td>Credit Card</td><td>John Doe</td><td>2020-06-03</td><td>Chicago</td><td>2015-03-10</td><td>A</td><td>1</td><td>13</td><td>null</td><td>null</td><td>null</td><td>null</td><td>0.0</td><td>James Smith</td><td>james.smith@yahoo...</td><td>trx-119174604031</td><td>129.99</td><td>129.99</td></tr>\n",
       "<tr><td>2022-04-03</td><td>85549</td><td>2.0</td><td>3.0</td><td>2</td><td>Smartphone</td><td>Electronics</td><td>9</td><td>no</td><td>Credit Card</td><td>Jane Smith</td><td>2018-05-13</td><td>Chicago</td><td>2015-03-10</td><td>A</td><td>1</td><td>14</td><td>null</td><td>null</td><td>null</td><td>null</td><td>0.0</td><td>Emma Johnson</td><td>emma.johnson@hotm...</td><td>trx-474525094645</td><td>699.99</td><td>6299.91</td></tr>\n",
       "<tr><td>2022-12-14</td><td>85483</td><td>9.0</td><td>5.0</td><td>27</td><td>Iron</td><td>Appliances</td><td>9</td><td>no</td><td>Credit Card</td><td>Daniel Martinez</td><td>2018-10-08</td><td>Phoenix</td><td>2017-09-20</td><td>C</td><td>1</td><td>15</td><td>null</td><td>null</td><td>null</td><td>null</td><td>0.1</td><td>John Johnson</td><td>john.johnson@yaho...</td><td>trx-355633008132</td><td>29.99</td><td>242.9189935648441</td></tr>\n",
       "<tr><td>2023-04-14</td><td>85496</td><td>8.0</td><td>2.0</td><td>19</td><td>Sandals</td><td>Footwear</td><td>2</td><td>no</td><td>Credit Card</td><td>Olivia Davis</td><td>2021-10-24</td><td>Los Angeles</td><td>2016-07-28</td><td>B</td><td>1</td><td>16</td><td>null</td><td>null</td><td>null</td><td>null</td><td>0.1</td><td>James Davis</td><td>james.davis@yahoo...</td><td>trx-490311940006</td><td>29.99</td><td>53.98199856996536</td></tr>\n",
       "<tr><td>2023-01-19</td><td>85507</td><td>2.0</td><td>2.0</td><td>28</td><td>Hair Dryer</td><td>Appliances</td><td>3</td><td>no</td><td>Cash</td><td>Jane Smith</td><td>2018-05-13</td><td>Los Angeles</td><td>2016-07-28</td><td>B</td><td>1</td><td>17</td><td>null</td><td>null</td><td>null</td><td>null</td><td>0.0</td><td>Ava Miller</td><td>ava.miller@outloo...</td><td>trx-132205124356</td><td>19.99</td><td>59.97</td></tr>\n",
       "<tr><td>2023-10-14</td><td>85543</td><td>10.0</td><td>5.0</td><td>24</td><td>Blender</td><td>Appliances</td><td>10</td><td>no</td><td>Cash</td><td>Sophia Moore</td><td>2019-05-25</td><td>Phoenix</td><td>2017-09-20</td><td>C</td><td>1</td><td>18</td><td>null</td><td>null</td><td>null</td><td>null</td><td>0.0</td><td>Olivia Brown</td><td>olivia.brown@outl...</td><td>trx-276319959382</td><td>49.99</td><td>499.90000000000003</td></tr>\n",
       "<tr><td>2022-03-24</td><td>85518</td><td>1.0</td><td>4.0</td><td>3</td><td>Tablet</td><td>Electronics</td><td>1</td><td>no</td><td>Cash</td><td>John Doe</td><td>2020-06-03</td><td>Houston</td><td>2016-11-05</td><td>D</td><td>1</td><td>19</td><td>null</td><td>null</td><td>null</td><td>null</td><td>0.15</td><td>Sophia Brown</td><td>sophia.brown@gmai...</td><td>trx-024853282614</td><td>299.99</td><td>254.99150715231897</td></tr>\n",
       "</table>\n",
       "only showing top 20 rows\n"
      ],
      "text/plain": [
       "+----------------+-----------+--------------+---------+----------+---------------+----------------+-----+---------+--------------+------------------+---------------------+---------------+---------------------+------------+-----+---------+--------------------+-------------+-----------------+--------------+--------+----------------+--------------------+----------------+----------+------------------+\n",
       "|transaction_date|customer_id|sales_agent_id|branch_id|product_id|   product_name|product_category|units|is_online|payment_method|  sales_agent_name|sales_agent_hire_date|branch_location|branch_establish_date|branch_class|group|row_index|shipping_street_name|shipping_city|shipping_zip_code|shipping_state|discount|   customer_name|       cleaned_email|  transaction_id|unit_price|       total_price|\n",
       "+----------------+-----------+--------------+---------+----------+---------------+----------------+-----+---------+--------------+------------------+---------------------+---------------+---------------------+------------+-----+---------+--------------------+-------------+-----------------+--------------+--------+----------------+--------------------+----------------+----------+------------------+\n",
       "|      2023-05-20|      85469|           1.0|      2.0|        22|   Coffee Maker|      Appliances|   10|       no|          Cash|          John Doe|           2020-06-03|    Los Angeles|           2016-07-28|           B|    1|        0|                null|         null|             null|          null|     0.0| Alexander Brown|alexander.brown@g...|trx-152546429674|     79.99|             799.9|\n",
       "|      2022-10-25|      85512|           3.0|      1.0|        24|        Blender|      Appliances|    5|       no|          Cash|   Michael Johnson|           2021-10-03|       New York|           2017-01-15|           A|    1|        1|                null|         null|             null|          null|     0.2|   William Brown|william.brown@gma...|trx-291375327542|     49.99|199.96000297963622|\n",
       "|      2022-02-05|      85484|          10.0|      3.0|         4|     Headphones|     Electronics|    1|       no|   Credit Card|      Sophia Moore|           2019-05-25|        Chicago|           2015-03-10|           A|    1|        2|                null|         null|             null|          null|     0.0|   John Williams|john.williams@gma...|trx-312507679871|     99.99|             99.99|\n",
       "|      2023-10-20|      85528|           7.0|      2.0|        25|Washing Machine|      Appliances|    8|       no|          Cash|Christopher Miller|           2020-01-11|    Los Angeles|           2016-07-28|           B|    1|        3|                null|         null|             null|          null|     0.0|Alexander Miller|alexander.miller@...|trx-193384855491|    499.99|           3999.92|\n",
       "|      2022-11-17|      85500|           5.0|      1.0|        14|         Camera|     Electronics|   10|       no|          Cash|      David Wilson|           2021-04-08|       New York|           2017-01-15|           A|    1|        4|                null|         null|             null|          null|    0.15|      John Brown|john.brown@hotmai...|trx-831626097654|    399.99|3399.9150953650474|\n",
       "|      2022-09-27|      85545|           4.0|      5.0|        14|         Camera|     Electronics|    6|       no|   Credit Card|       Emily Brown|           2020-10-25|        Phoenix|           2017-09-20|           C|    1|        5|                null|         null|             null|          null|     0.2|   Sophia Wilson|sophia.wilson@hot...|trx-158496122054|    399.99|1919.9520286095142|\n",
       "|      2022-04-21|      85561|           4.0|      1.0|        30|Electric Kettle|      Appliances|    6|       no|   Credit Card|       Emily Brown|           2020-10-25|       New York|           2017-01-15|           A|    1|        6|                null|         null|             null|          null|     0.2| Alexander Moore|alexander.moore@y...|trx-722817999024|     24.99|119.95200178742408|\n",
       "|      2023-04-28|      85520|           1.0|      1.0|        26| Vacuum Cleaner|      Appliances|    4|       no|          Cash|          John Doe|           2020-06-03|       New York|           2017-01-15|           A|    1|        7|                null|         null|             null|          null|     0.0|Alexander Wilson|alexander.wilson@...|trx-813287633702|    199.99|            799.96|\n",
       "|      2023-03-08|      85488|           6.0|      2.0|        18|          Boots|        Footwear|   10|       no|   Credit Card|       Emma Taylor|           2019-03-28|    Los Angeles|           2016-07-28|           B|    1|        8|                null|         null|             null|          null|     0.0|  Michael Miller|michael.miller@ya...|trx-219568257432|    149.99|            1499.9|\n",
       "|      2023-06-17|      85466|           5.0|      2.0|        16|          Skirt|        Clothing|    8|       no|          Cash|      David Wilson|           2021-04-08|    Los Angeles|           2016-07-28|           B|    1|        9|                null|         null|             null|          null|     0.0|   Michael Brown|michael.brown@yah...|trx-352160720823|     39.99|            319.92|\n",
       "|      2022-08-28|      85559|           6.0|      5.0|        14|         Camera|     Electronics|    6|       no|          Cash|       Emma Taylor|           2019-03-28|        Phoenix|           2017-09-20|           C|    1|       10|                null|         null|             null|          null|     0.0|     John Taylor|john.taylor@yahoo...|trx-895389231641|    399.99|           2399.94|\n",
       "|      2023-11-19|      85527|           7.0|      2.0|        22|   Coffee Maker|      Appliances|    6|       no|   Credit Card|Christopher Miller|           2020-01-11|    Los Angeles|           2016-07-28|           B|    1|       11|                null|         null|             null|          null|     0.0| Alexander Davis|alexander.davis@y...|trx-820309386661|     79.99|479.93999999999994|\n",
       "|      2022-03-22|      85502|           4.0|      5.0|         5|        T-Shirt|        Clothing|   10|       no|          Cash|       Emily Brown|           2020-10-25|        Phoenix|           2017-09-20|           C|    1|       12|                null|         null|             null|          null|    0.05|   Michael Brown|michael.brown@hot...|trx-974983174642|     19.99|189.90499761700627|\n",
       "|      2022-09-27|      85508|           1.0|      3.0|         9|          Boots|        Footwear|    1|       no|   Credit Card|          John Doe|           2020-06-03|        Chicago|           2015-03-10|           A|    1|       13|                null|         null|             null|          null|     0.0|     James Smith|james.smith@yahoo...|trx-119174604031|    129.99|            129.99|\n",
       "|      2022-04-03|      85549|           2.0|      3.0|         2|     Smartphone|     Electronics|    9|       no|   Credit Card|        Jane Smith|           2018-05-13|        Chicago|           2015-03-10|           A|    1|       14|                null|         null|             null|          null|     0.0|    Emma Johnson|emma.johnson@hotm...|trx-474525094645|    699.99|           6299.91|\n",
       "|      2022-12-14|      85483|           9.0|      5.0|        27|           Iron|      Appliances|    9|       no|   Credit Card|   Daniel Martinez|           2018-10-08|        Phoenix|           2017-09-20|           C|    1|       15|                null|         null|             null|          null|     0.1|    John Johnson|john.johnson@yaho...|trx-355633008132|     29.99| 242.9189935648441|\n",
       "|      2023-04-14|      85496|           8.0|      2.0|        19|        Sandals|        Footwear|    2|       no|   Credit Card|      Olivia Davis|           2021-10-24|    Los Angeles|           2016-07-28|           B|    1|       16|                null|         null|             null|          null|     0.1|     James Davis|james.davis@yahoo...|trx-490311940006|     29.99| 53.98199856996536|\n",
       "|      2023-01-19|      85507|           2.0|      2.0|        28|     Hair Dryer|      Appliances|    3|       no|          Cash|        Jane Smith|           2018-05-13|    Los Angeles|           2016-07-28|           B|    1|       17|                null|         null|             null|          null|     0.0|      Ava Miller|ava.miller@outloo...|trx-132205124356|     19.99|             59.97|\n",
       "|      2023-10-14|      85543|          10.0|      5.0|        24|        Blender|      Appliances|   10|       no|          Cash|      Sophia Moore|           2019-05-25|        Phoenix|           2017-09-20|           C|    1|       18|                null|         null|             null|          null|     0.0|    Olivia Brown|olivia.brown@outl...|trx-276319959382|     49.99|499.90000000000003|\n",
       "|      2022-03-24|      85518|           1.0|      4.0|         3|         Tablet|     Electronics|    1|       no|          Cash|          John Doe|           2020-06-03|        Houston|           2016-11-05|           D|    1|       19|                null|         null|             null|          null|    0.15|    Sophia Brown|sophia.brown@gmai...|trx-024853282614|    299.99|254.99150715231897|\n",
       "+----------------+-----------+--------------+---------+----------+---------------+----------------+-----+---------+--------------+------------------+---------------------+---------------+---------------------+------------+-----+---------+--------------------+-------------+-----------------+--------------+--------+----------------+--------------------+----------------+----------+------------------+\n",
       "only showing top 20 rows"
      ]
     },
     "execution_count": 68,
     "metadata": {},
     "output_type": "execute_result"
    }
   ],
   "source": [
    "# Calculate total price\n",
    "all_groups_merged_df = all_groups_merged_df.withColumn(\"total_price\", col(\"units\") * col(\"unit_price\") * (1 - col(\"discount\")))\n",
    "\n",
    "all_groups_merged_df.coalesce(1)"
   ]
  },
  {
   "cell_type": "code",
   "execution_count": 69,
   "id": "c0637cb4-2c35-4aa1-ab10-afea2a1d519f",
   "metadata": {},
   "outputs": [],
   "source": [
    "# Write the merged DataFrame to a single CSV file\n",
    "output_path = \"/Graduation_Project/transformed_data/all_groups_merged_df.csv\"\n",
    "all_groups_merged_df.coalesce(1).write.mode('overwrite').csv(output_path, header=True)"
   ]
  },
  {
   "cell_type": "code",
   "execution_count": null,
   "id": "39ee9dc9-907b-4f23-ac9d-6541b2cbf425",
   "metadata": {},
   "outputs": [],
   "source": []
  },
  {
   "cell_type": "code",
   "execution_count": null,
   "id": "32b08be4-4299-4e82-af88-92f067a773fb",
   "metadata": {},
   "outputs": [],
   "source": []
  },
  {
   "cell_type": "code",
   "execution_count": null,
   "id": "948dda58-d0a4-4454-8b28-2e4530b65bc4",
   "metadata": {},
   "outputs": [],
   "source": []
  },
  {
   "cell_type": "code",
   "execution_count": 70,
   "id": "77bd49e6-09c4-4df4-aee7-d78fbcc4c07e",
   "metadata": {},
   "outputs": [
    {
     "name": "stdout",
     "output_type": "stream",
     "text": [
      "+----------+--------+---+-----------+-----------+------------+-----+-------+----+----------+----------+---------+----------+\n",
      "|      date|date_key|day|day_of_week|day_of_year|week_of_year|month|quarter|year|is_weekend|month_name| day_name|year_month|\n",
      "+----------+--------+---+-----------+-----------+------------+-----+-------+----+----------+----------+---------+----------+\n",
      "|2010-01-01|20100101|  1|          6|          1|          53|    1|      1|2010|         1|   January|   Friday|    201001|\n",
      "|2010-01-02|20100102|  2|          7|          2|          53|    1|      1|2010|         1|   January| Saturday|    201001|\n",
      "|2010-01-03|20100103|  3|          1|          3|          53|    1|      1|2010|         0|   January|   Sunday|    201001|\n",
      "|2010-01-04|20100104|  4|          2|          4|           1|    1|      1|2010|         0|   January|   Monday|    201001|\n",
      "|2010-01-05|20100105|  5|          3|          5|           1|    1|      1|2010|         0|   January|  Tuesday|    201001|\n",
      "|2010-01-06|20100106|  6|          4|          6|           1|    1|      1|2010|         0|   January|Wednesday|    201001|\n",
      "|2010-01-07|20100107|  7|          5|          7|           1|    1|      1|2010|         0|   January| Thursday|    201001|\n",
      "|2010-01-08|20100108|  8|          6|          8|           1|    1|      1|2010|         1|   January|   Friday|    201001|\n",
      "|2010-01-09|20100109|  9|          7|          9|           1|    1|      1|2010|         1|   January| Saturday|    201001|\n",
      "|2010-01-10|20100110| 10|          1|         10|           1|    1|      1|2010|         0|   January|   Sunday|    201001|\n",
      "|2010-01-11|20100111| 11|          2|         11|           2|    1|      1|2010|         0|   January|   Monday|    201001|\n",
      "|2010-01-12|20100112| 12|          3|         12|           2|    1|      1|2010|         0|   January|  Tuesday|    201001|\n",
      "|2010-01-13|20100113| 13|          4|         13|           2|    1|      1|2010|         0|   January|Wednesday|    201001|\n",
      "|2010-01-14|20100114| 14|          5|         14|           2|    1|      1|2010|         0|   January| Thursday|    201001|\n",
      "|2010-01-15|20100115| 15|          6|         15|           2|    1|      1|2010|         1|   January|   Friday|    201001|\n",
      "|2010-01-16|20100116| 16|          7|         16|           2|    1|      1|2010|         1|   January| Saturday|    201001|\n",
      "|2010-01-17|20100117| 17|          1|         17|           2|    1|      1|2010|         0|   January|   Sunday|    201001|\n",
      "|2010-01-18|20100118| 18|          2|         18|           3|    1|      1|2010|         0|   January|   Monday|    201001|\n",
      "|2010-01-19|20100119| 19|          3|         19|           3|    1|      1|2010|         0|   January|  Tuesday|    201001|\n",
      "|2010-01-20|20100120| 20|          4|         20|           3|    1|      1|2010|         0|   January|Wednesday|    201001|\n",
      "+----------+--------+---+-----------+-----------+------------+-----+-------+----+----------+----------+---------+----------+\n",
      "only showing top 20 rows\n",
      "\n"
     ]
    }
   ],
   "source": [
    "from pyspark.sql.functions import col, dayofmonth, dayofweek, dayofyear, month, year, weekofyear, quarter, regexp_replace, date_format\n",
    "from datetime import datetime, timedelta\n",
    "\n",
    "# Generate Date Range (Example: from 2023-01-01 to 2023-01-05)\n",
    "start_date = datetime(2010, 1, 1)\n",
    "end_date = datetime(2030, 12, 31)\n",
    "date_list = [start_date + timedelta(days=x) for x in range((end_date - start_date).days + 1)]\n",
    "\n",
    "# Create DataFrame\n",
    "date_df = spark.createDataFrame([(date,) for date in date_list], [\"date\"])\n",
    "\n",
    "# Convert date column to match transaction_date format (yyyy-MM-dd)\n",
    "date_df = date_df.withColumn(\"date\", date_format(col(\"date\"), \"yyyy-MM-dd\"))\n",
    "\n",
    "# Add Surrogate Key (yyyyMMdd format)\n",
    "date_df = date_df.withColumn(\"date_key\", \n",
    "                             regexp_replace(date_format(col(\"date\"), \"yyyyMMdd\"), \"-\", \"\").cast(\"long\"))\n",
    "\n",
    "# Extract Date Components\n",
    "date_df = date_df.withColumn(\"day\", dayofmonth(col(\"date\"))) \\\n",
    "    .withColumn(\"day_of_week\", dayofweek(col(\"date\"))) \\\n",
    "    .withColumn(\"day_of_year\", dayofyear(col(\"date\"))) \\\n",
    "    .withColumn(\"week_of_year\", weekofyear(col(\"date\"))) \\\n",
    "    .withColumn(\"month\", month(col(\"date\"))) \\\n",
    "    .withColumn(\"quarter\", quarter(col(\"date\"))) \\\n",
    "    .withColumn(\"year\", year(col(\"date\"))) \\\n",
    "    .withColumn(\"is_weekend\", (col(\"day_of_week\") >= 6).cast(\"integer\")) \\\n",
    "    .withColumn(\"month_name\", date_format(col(\"date\"), \"MMMM\")) \\\n",
    "    .withColumn(\"day_name\", date_format(col(\"date\"), \"EEEE\")) \\\n",
    "    .withColumn(\"year_month\", date_format(col(\"date\"), \"yyyyMM\"))\n",
    "\n",
    "# Show the DataFrame\n",
    "date_df.show()\n",
    "\n",
    "output_path = \"/Graduation_Project/transformed_data/schema/date_dim.csv\"\n",
    "date_df.coalesce(1).write.mode('overwrite').csv(output_path, header=True)\n"
   ]
  },
  {
   "cell_type": "code",
   "execution_count": null,
   "id": "45e80cf7-fc1d-45a3-8c89-1bc243b7d1cd",
   "metadata": {},
   "outputs": [],
   "source": []
  },
  {
   "cell_type": "code",
   "execution_count": null,
   "id": "14bbba36-7924-4d90-9c19-50bfccfe639f",
   "metadata": {},
   "outputs": [],
   "source": []
  },
  {
   "cell_type": "code",
   "execution_count": null,
   "id": "78e0c807-f344-47c3-ab23-867498325806",
   "metadata": {},
   "outputs": [],
   "source": []
  },
  {
   "cell_type": "code",
   "execution_count": 71,
   "id": "1c8f24a2-18ec-4792-bd15-0ebdb5c6661b",
   "metadata": {},
   "outputs": [
    {
     "name": "stdout",
     "output_type": "stream",
     "text": [
      "+----------------+----------------+-----------+--------------+---------+----------+-----+----------+--------+--------------+------------------+\n",
      "|  transaction_id|transaction_date|customer_id|sales_agent_id|branch_id|product_id|units|unit_price|discount|payment_method|       total_price|\n",
      "+----------------+----------------+-----------+--------------+---------+----------+-----+----------+--------+--------------+------------------+\n",
      "|trx-878108770002|      2022-07-19|      85513|          10.0|      6.0|        27|    7|     29.99|     0.0|          Cash|209.92999999999998|\n",
      "|trx-349443438637|      2023-08-06|      85510|           2.0|      6.0|        28|   10|     19.99|     0.1|          Cash|179.90999523401257|\n",
      "|trx-045891300294|      2022-12-28|      85553|           6.0|      4.0|        13|    2|    149.99|    0.15|   Credit Card|254.98300715208055|\n",
      "|trx-756996252944|      2023-06-28|      85520|           3.0|      2.0|        12|    6|    299.99|     0.0|   Credit Card|           1799.94|\n",
      "|trx-491216466700|      2023-09-05|      85539|           8.0|      3.0|         5|    1|     19.99|    0.05|   Credit Card| 18.99049976170063|\n",
      "+----------------+----------------+-----------+--------------+---------+----------+-----+----------+--------+--------------+------------------+\n",
      "only showing top 5 rows\n",
      "\n"
     ]
    }
   ],
   "source": [
    "offline_fact_df=offline_merged_df.select(\n",
    "    col(\"transaction_id\"),\n",
    "    col(\"transaction_date\"),\n",
    "    col(\"customer_id\"),\n",
    "    col(\"sales_agent_id\"),\n",
    "    col(\"branch_id\"),\n",
    "    col(\"product_id\"),\n",
    "    col(\"units\"),\n",
    "    col(\"unit_price\"),\n",
    "    col(\"discount\"),\n",
    "    col(\"payment_method\"),\n",
    "    col(\"total_price\"))\n",
    "offline_fact_df.show(5)"
   ]
  },
  {
   "cell_type": "code",
   "execution_count": 72,
   "id": "9afe388f-f94f-4cd0-b05d-42a8f2523b48",
   "metadata": {},
   "outputs": [
    {
     "data": {
      "text/html": [
       "<table border='1'>\n",
       "<tr><th>transaction_id</th><th>transaction_date</th><th>customer_id</th><th>sales_agent_id</th><th>branch_id</th><th>product_id</th><th>units</th><th>unit_price</th><th>discount</th><th>payment_method</th><th>total_price</th><th>date</th><th>date_key</th><th>day</th><th>day_of_week</th><th>day_of_year</th><th>week_of_year</th><th>month</th><th>quarter</th><th>year</th><th>is_weekend</th><th>month_name</th><th>day_name</th><th>year_month</th></tr>\n",
       "<tr><td>trx-407964138068</td><td>2022-10-05</td><td>85479</td><td>4.0</td><td>5.0</td><td>25</td><td>8</td><td>499.99</td><td>0.1</td><td>Cash</td><td>3599.927904634476</td><td>2022-10-05</td><td>20221005</td><td>5</td><td>4</td><td>278</td><td>40</td><td>10</td><td>4</td><td>2022</td><td>0</td><td>October</td><td>Wednesday</td><td>202210</td></tr>\n",
       "<tr><td>trx-843694845999</td><td>2022-10-05</td><td>85506</td><td>11.0</td><td>1.0</td><td>15</td><td>10</td><td>29.99</td><td>0.05</td><td>Credit Card</td><td>284.9049964249134</td><td>2022-10-05</td><td>20221005</td><td>5</td><td>4</td><td>278</td><td>40</td><td>10</td><td>4</td><td>2022</td><td>0</td><td>October</td><td>Wednesday</td><td>202210</td></tr>\n",
       "<tr><td>trx-548311587674</td><td>2022-10-05</td><td>85541</td><td>5.0</td><td>3.0</td><td>19</td><td>10</td><td>29.99</td><td>0.05</td><td>Cash</td><td>284.9049964249134</td><td>2022-10-05</td><td>20221005</td><td>5</td><td>4</td><td>278</td><td>40</td><td>10</td><td>4</td><td>2022</td><td>0</td><td>October</td><td>Wednesday</td><td>202210</td></tr>\n",
       "<tr><td>trx-611821275884</td><td>2022-10-05</td><td>85470</td><td>7.0</td><td>5.0</td><td>25</td><td>1</td><td>499.99</td><td>0.0</td><td>Credit Card</td><td>499.99</td><td>2022-10-05</td><td>20221005</td><td>5</td><td>4</td><td>278</td><td>40</td><td>10</td><td>4</td><td>2022</td><td>0</td><td>October</td><td>Wednesday</td><td>202210</td></tr>\n",
       "<tr><td>trx-527486306638</td><td>2022-10-05</td><td>85544</td><td>10.0</td><td>2.0</td><td>23</td><td>5</td><td>39.99</td><td>0.1</td><td>Cash</td><td>179.95499523282052</td><td>2022-10-05</td><td>20221005</td><td>5</td><td>4</td><td>278</td><td>40</td><td>10</td><td>4</td><td>2022</td><td>0</td><td>October</td><td>Wednesday</td><td>202210</td></tr>\n",
       "<tr><td>trx-012682136132</td><td>2022-10-05</td><td>85480</td><td>1.0</td><td>4.0</td><td>5</td><td>4</td><td>19.99</td><td>0.1</td><td>Cash</td><td>71.96399809360504</td><td>2022-10-05</td><td>20221005</td><td>5</td><td>4</td><td>278</td><td>40</td><td>10</td><td>4</td><td>2022</td><td>0</td><td>October</td><td>Wednesday</td><td>202210</td></tr>\n",
       "<tr><td>trx-167057015608</td><td>2022-10-05</td><td>85519</td><td>8.0</td><td>2.0</td><td>7</td><td>10</td><td>59.99</td><td>0.0</td><td>Cash</td><td>599.9</td><td>2022-10-05</td><td>20221005</td><td>5</td><td>4</td><td>278</td><td>40</td><td>10</td><td>4</td><td>2022</td><td>0</td><td>October</td><td>Wednesday</td><td>202210</td></tr>\n",
       "<tr><td>trx-655869782401</td><td>2022-10-05</td><td>85527</td><td>8.0</td><td>2.0</td><td>28</td><td>10</td><td>19.99</td><td>0.2</td><td>Cash</td><td>159.9200023829937</td><td>2022-10-05</td><td>20221005</td><td>5</td><td>4</td><td>278</td><td>40</td><td>10</td><td>4</td><td>2022</td><td>0</td><td>October</td><td>Wednesday</td><td>202210</td></tr>\n",
       "<tr><td>trx-725477728975</td><td>2022-10-05</td><td>85462</td><td>4.0</td><td>6.0</td><td>18</td><td>6</td><td>149.99</td><td>0.0</td><td>Cash</td><td>899.94</td><td>2022-10-05</td><td>20221005</td><td>5</td><td>4</td><td>278</td><td>40</td><td>10</td><td>4</td><td>2022</td><td>0</td><td>October</td><td>Wednesday</td><td>202210</td></tr>\n",
       "<tr><td>trx-079756546639</td><td>2022-10-05</td><td>85531</td><td>8.0</td><td>2.0</td><td>16</td><td>5</td><td>39.99</td><td>0.0</td><td>Credit Card</td><td>199.95000000000002</td><td>2022-10-05</td><td>20221005</td><td>5</td><td>4</td><td>278</td><td>40</td><td>10</td><td>4</td><td>2022</td><td>0</td><td>October</td><td>Wednesday</td><td>202210</td></tr>\n",
       "<tr><td>trx-535286586168</td><td>2022-10-05</td><td>85510</td><td>7.0</td><td>6.0</td><td>12</td><td>7</td><td>299.99</td><td>0.05</td><td>Credit Card</td><td>1994.933474966884</td><td>2022-10-05</td><td>20221005</td><td>5</td><td>4</td><td>278</td><td>40</td><td>10</td><td>4</td><td>2022</td><td>0</td><td>October</td><td>Wednesday</td><td>202210</td></tr>\n",
       "<tr><td>trx-084210619674</td><td>2022-10-05</td><td>85485</td><td>8.0</td><td>6.0</td><td>7</td><td>10</td><td>59.99</td><td>0.2</td><td>Cash</td><td>479.92000715136527</td><td>2022-10-05</td><td>20221005</td><td>5</td><td>4</td><td>278</td><td>40</td><td>10</td><td>4</td><td>2022</td><td>0</td><td>October</td><td>Wednesday</td><td>202210</td></tr>\n",
       "<tr><td>trx-881038300170</td><td>2022-10-05</td><td>85477</td><td>5.0</td><td>3.0</td><td>5</td><td>8</td><td>19.99</td><td>0.0</td><td>Credit Card</td><td>159.92</td><td>2022-10-05</td><td>20221005</td><td>5</td><td>4</td><td>278</td><td>40</td><td>10</td><td>4</td><td>2022</td><td>0</td><td>October</td><td>Wednesday</td><td>202210</td></tr>\n",
       "<tr><td>trx-266248391098</td><td>2022-10-05</td><td>85502</td><td>4.0</td><td>5.0</td><td>8</td><td>7</td><td>79.99</td><td>0.0</td><td>Credit Card</td><td>559.93</td><td>2022-10-05</td><td>20221005</td><td>5</td><td>4</td><td>278</td><td>40</td><td>10</td><td>4</td><td>2022</td><td>0</td><td>October</td><td>Wednesday</td><td>202210</td></tr>\n",
       "<tr><td>trx-447618449080</td><td>2022-10-05</td><td>85494</td><td>11.0</td><td>5.0</td><td>13</td><td>1</td><td>149.99</td><td>0.0</td><td>Credit Card</td><td>149.99</td><td>2022-10-05</td><td>20221005</td><td>5</td><td>4</td><td>278</td><td>40</td><td>10</td><td>4</td><td>2022</td><td>0</td><td>October</td><td>Wednesday</td><td>202210</td></tr>\n",
       "<tr><td>trx-333773541049</td><td>2022-10-05</td><td>85522</td><td>11.0</td><td>5.0</td><td>24</td><td>10</td><td>49.99</td><td>0.1</td><td>Cash</td><td>449.90998808145525</td><td>2022-10-05</td><td>20221005</td><td>5</td><td>4</td><td>278</td><td>40</td><td>10</td><td>4</td><td>2022</td><td>0</td><td>October</td><td>Wednesday</td><td>202210</td></tr>\n",
       "<tr><td>trx-645813525610</td><td>2022-10-05</td><td>85487</td><td>8.0</td><td>6.0</td><td>26</td><td>5</td><td>199.99</td><td>0.0</td><td>Cash</td><td>999.95</td><td>2022-10-05</td><td>20221005</td><td>5</td><td>4</td><td>278</td><td>40</td><td>10</td><td>4</td><td>2022</td><td>0</td><td>October</td><td>Wednesday</td><td>202210</td></tr>\n",
       "<tr><td>trx-307991756457</td><td>2022-10-05</td><td>85499</td><td>10.0</td><td>3.0</td><td>19</td><td>7</td><td>29.99</td><td>0.0</td><td>Cash</td><td>209.92999999999998</td><td>2022-10-05</td><td>20221005</td><td>5</td><td>4</td><td>278</td><td>40</td><td>10</td><td>4</td><td>2022</td><td>0</td><td>October</td><td>Wednesday</td><td>202210</td></tr>\n",
       "<tr><td>trx-866999434394</td><td>2022-10-05</td><td>85556</td><td>9.0</td><td>4.0</td><td>12</td><td>10</td><td>299.99</td><td>0.0</td><td>Credit Card</td><td>2999.9</td><td>2022-10-05</td><td>20221005</td><td>5</td><td>4</td><td>278</td><td>40</td><td>10</td><td>4</td><td>2022</td><td>0</td><td>October</td><td>Wednesday</td><td>202210</td></tr>\n",
       "<tr><td>trx-452855447162</td><td>2022-10-05</td><td>85501</td><td>8.0</td><td>6.0</td><td>25</td><td>6</td><td>499.99</td><td>0.15</td><td>Cash</td><td>2549.949071524143</td><td>2022-10-05</td><td>20221005</td><td>5</td><td>4</td><td>278</td><td>40</td><td>10</td><td>4</td><td>2022</td><td>0</td><td>October</td><td>Wednesday</td><td>202210</td></tr>\n",
       "</table>\n",
       "only showing top 20 rows\n"
      ],
      "text/plain": [
       "+----------------+----------------+-----------+--------------+---------+----------+-----+----------+--------+--------------+------------------+----------+--------+---+-----------+-----------+------------+-----+-------+----+----------+----------+---------+----------+\n",
       "|  transaction_id|transaction_date|customer_id|sales_agent_id|branch_id|product_id|units|unit_price|discount|payment_method|       total_price|      date|date_key|day|day_of_week|day_of_year|week_of_year|month|quarter|year|is_weekend|month_name| day_name|year_month|\n",
       "+----------------+----------------+-----------+--------------+---------+----------+-----+----------+--------+--------------+------------------+----------+--------+---+-----------+-----------+------------+-----+-------+----+----------+----------+---------+----------+\n",
       "|trx-076399480608|      2022-10-05|      85543|           4.0|      5.0|        29|   10|     39.99|    0.15|          Cash|  339.915009534359|2022-10-05|20221005|  5|          4|        278|          40|   10|      4|2022|         0|   October|Wednesday|    202210|\n",
       "|trx-869094373006|      2022-10-05|      85492|          11.0|      2.0|         8|    4|     79.99|     0.0|          Cash|            319.96|2022-10-05|20221005|  5|          4|        278|          40|   10|      4|2022|         0|   October|Wednesday|    202210|\n",
       "|trx-503367123686|      2022-10-05|      85503|          11.0|      3.0|        16|    8|     39.99|     0.0|   Credit Card|            319.92|2022-10-05|20221005|  5|          4|        278|          40|   10|      4|2022|         0|   October|Wednesday|    202210|\n",
       "|trx-174908107361|      2022-10-05|      85509|           3.0|      1.0|        25|    4|    499.99|     0.2|          Cash|1599.9680238413812|2022-10-05|20221005|  5|          4|        278|          40|   10|      4|2022|         0|   October|Wednesday|    202210|\n",
       "|trx-425712974649|      2022-10-05|      85557|           9.0|      4.0|        18|    3|    149.99|     0.2|   Credit Card| 359.9760053640604|2022-10-05|20221005|  5|          4|        278|          40|   10|      4|2022|         0|   October|Wednesday|    202210|\n",
       "|trx-130879848938|      2022-10-05|      85504|           8.0|      3.0|         2|    3|    699.99|     0.0|   Credit Card|2099.9700000000003|2022-10-05|20221005|  5|          4|        278|          40|   10|      4|2022|         0|   October|Wednesday|    202210|\n",
       "|trx-050608515670|      2022-10-05|      85496|          11.0|      3.0|         5|    9|     19.99|     0.0|          Cash|            179.91|2022-10-05|20221005|  5|          4|        278|          40|   10|      4|2022|         0|   October|Wednesday|    202210|\n",
       "|trx-163780790436|      2022-10-05|      85516|           3.0|      6.0|         5|    9|     19.99|     0.2|          Cash|143.92800214469432|2022-10-05|20221005|  5|          4|        278|          40|   10|      4|2022|         0|   October|Wednesday|    202210|\n",
       "|trx-852403292386|      2022-10-05|      85536|           4.0|      4.0|        11|    5|    899.99|    0.15|          Cash|3824.9576072871682|2022-10-05|20221005|  5|          4|        278|          40|   10|      4|2022|         0|   October|Wednesday|    202210|\n",
       "|trx-058692145076|      2022-10-05|      85561|           5.0|      6.0|        16|    5|     39.99|     0.0|          Cash|199.95000000000002|2022-10-05|20221005|  5|          4|        278|          40|   10|      4|2022|         0|   October|Wednesday|    202210|\n",
       "|trx-593040460969|      2022-10-05|      85499|          11.0|      1.0|        19|    8|     29.99|     0.0|          Cash|            239.92|2022-10-05|20221005|  5|          4|        278|          40|   10|      4|2022|         0|   October|Wednesday|    202210|\n",
       "|trx-406130654199|      2022-10-05|      85547|           7.0|      1.0|         3|    6|    299.99|     0.2|          Cash|1439.9520214569568|2022-10-05|20221005|  5|          4|        278|          40|   10|      4|2022|         0|   October|Wednesday|    202210|\n",
       "|trx-567147510430|      2022-10-05|      85499|           2.0|      5.0|         4|    1|     99.99|     0.0|   Credit Card|             99.99|2022-10-05|20221005|  5|          4|        278|          40|   10|      4|2022|         0|   October|Wednesday|    202210|\n",
       "|trx-049685951276|      2022-10-05|      85516|           9.0|      5.0|        25|    1|    499.99|    0.15|          Cash| 424.9915119206905|2022-10-05|20221005|  5|          4|        278|          40|   10|      4|2022|         0|   October|Wednesday|    202210|\n",
       "|trx-422830483654|      2022-10-05|      85561|           5.0|      2.0|        25|    2|    499.99|    0.05|   Credit Card| 949.9809880793094|2022-10-05|20221005|  5|          4|        278|          40|   10|      4|2022|         0|   October|Wednesday|    202210|\n",
       "|trx-284111951568|      2022-10-05|      85551|          10.0|      1.0|        27|    1|     29.99|     0.0|   Credit Card|             29.99|2022-10-05|20221005|  5|          4|        278|          40|   10|      4|2022|         0|   October|Wednesday|    202210|\n",
       "|trx-596188648857|      2022-10-05|      85498|           7.0|      6.0|        28|    2|     19.99|    0.15|   Credit Card|33.983000953197475|2022-10-05|20221005|  5|          4|        278|          40|   10|      4|2022|         0|   October|Wednesday|    202210|\n",
       "|trx-756852746924|      2022-10-05|      85548|          11.0|      5.0|        12|    9|    299.99|     0.2|   Credit Card|2159.9280321854353|2022-10-05|20221005|  5|          4|        278|          40|   10|      4|2022|         0|   October|Wednesday|    202210|\n",
       "|trx-088886246107|      2022-10-05|      85548|           4.0|      1.0|         8|    2|     79.99|    0.05|   Credit Card|151.98099809288976|2022-10-05|20221005|  5|          4|        278|          40|   10|      4|2022|         0|   October|Wednesday|    202210|\n",
       "|trx-963580033090|      2022-10-05|      85507|           7.0|      2.0|        17|    9|     29.99|     0.0|          Cash|269.90999999999997|2022-10-05|20221005|  5|          4|        278|          40|   10|      4|2022|         0|   October|Wednesday|    202210|\n",
       "+----------------+----------------+-----------+--------------+---------+----------+-----+----------+--------+--------------+------------------+----------+--------+---+-----------+-----------+------------+-----+-------+----+----------+----------+---------+----------+\n",
       "only showing top 20 rows"
      ]
     },
     "execution_count": 72,
     "metadata": {},
     "output_type": "execute_result"
    }
   ],
   "source": [
    "\n",
    "# Convert transaction_date in online_fact_df to match the format yyyy-MM-dd\n",
    "offline_fact_df = offline_fact_df.withColumn(\"transaction_date\", date_format(col(\"transaction_date\"), \"yyyy-MM-dd\"))\n",
    "\n",
    "# Perform an inner join on transaction_date and date\n",
    "joined_df = offline_fact_df.join(date_df, offline_fact_df[\"transaction_date\"] == date_df[\"date\"], \"inner\")\n",
    "\n",
    "joined_df.coalesce(1)\n",
    "\n",
    "\n"
   ]
  },
  {
   "cell_type": "code",
   "execution_count": 73,
   "id": "1b79db45-9cb1-4853-afd3-eb19b9bfebba",
   "metadata": {},
   "outputs": [
    {
     "data": {
      "text/plain": [
       "['transaction_id',\n",
       " 'transaction_date',\n",
       " 'customer_id',\n",
       " 'sales_agent_id',\n",
       " 'branch_id',\n",
       " 'product_id',\n",
       " 'units',\n",
       " 'unit_price',\n",
       " 'discount',\n",
       " 'payment_method',\n",
       " 'total_price',\n",
       " 'date',\n",
       " 'date_key',\n",
       " 'day',\n",
       " 'day_of_week',\n",
       " 'day_of_year',\n",
       " 'week_of_year',\n",
       " 'month',\n",
       " 'quarter',\n",
       " 'year',\n",
       " 'is_weekend',\n",
       " 'month_name',\n",
       " 'day_name',\n",
       " 'year_month']"
      ]
     },
     "execution_count": 73,
     "metadata": {},
     "output_type": "execute_result"
    }
   ],
   "source": [
    "joined_df.columns"
   ]
  },
  {
   "cell_type": "code",
   "execution_count": 74,
   "id": "d9580a48-c843-4fd5-8501-11c6652c37d5",
   "metadata": {},
   "outputs": [
    {
     "data": {
      "text/html": [
       "<table border='1'>\n",
       "<tr><th>transaction_id</th><th>customer_id</th><th>sales_agent_id</th><th>branch_id</th><th>product_id</th><th>units</th><th>unit_price</th><th>discount</th><th>payment_method</th><th>total_price</th><th>date_key</th></tr>\n",
       "<tr><td>trx-407964138068</td><td>85479</td><td>4.0</td><td>5.0</td><td>25</td><td>8</td><td>499.99</td><td>0.1</td><td>Cash</td><td>3599.927904634476</td><td>20221005</td></tr>\n",
       "<tr><td>trx-843694845999</td><td>85506</td><td>11.0</td><td>1.0</td><td>15</td><td>10</td><td>29.99</td><td>0.05</td><td>Credit Card</td><td>284.9049964249134</td><td>20221005</td></tr>\n",
       "<tr><td>trx-548311587674</td><td>85541</td><td>5.0</td><td>3.0</td><td>19</td><td>10</td><td>29.99</td><td>0.05</td><td>Cash</td><td>284.9049964249134</td><td>20221005</td></tr>\n",
       "<tr><td>trx-611821275884</td><td>85470</td><td>7.0</td><td>5.0</td><td>25</td><td>1</td><td>499.99</td><td>0.0</td><td>Credit Card</td><td>499.99</td><td>20221005</td></tr>\n",
       "<tr><td>trx-527486306638</td><td>85544</td><td>10.0</td><td>2.0</td><td>23</td><td>5</td><td>39.99</td><td>0.1</td><td>Cash</td><td>179.95499523282052</td><td>20221005</td></tr>\n",
       "<tr><td>trx-012682136132</td><td>85480</td><td>1.0</td><td>4.0</td><td>5</td><td>4</td><td>19.99</td><td>0.1</td><td>Cash</td><td>71.96399809360504</td><td>20221005</td></tr>\n",
       "<tr><td>trx-167057015608</td><td>85519</td><td>8.0</td><td>2.0</td><td>7</td><td>10</td><td>59.99</td><td>0.0</td><td>Cash</td><td>599.9</td><td>20221005</td></tr>\n",
       "<tr><td>trx-655869782401</td><td>85527</td><td>8.0</td><td>2.0</td><td>28</td><td>10</td><td>19.99</td><td>0.2</td><td>Cash</td><td>159.9200023829937</td><td>20221005</td></tr>\n",
       "<tr><td>trx-725477728975</td><td>85462</td><td>4.0</td><td>6.0</td><td>18</td><td>6</td><td>149.99</td><td>0.0</td><td>Cash</td><td>899.94</td><td>20221005</td></tr>\n",
       "<tr><td>trx-079756546639</td><td>85531</td><td>8.0</td><td>2.0</td><td>16</td><td>5</td><td>39.99</td><td>0.0</td><td>Credit Card</td><td>199.95000000000002</td><td>20221005</td></tr>\n",
       "<tr><td>trx-535286586168</td><td>85510</td><td>7.0</td><td>6.0</td><td>12</td><td>7</td><td>299.99</td><td>0.05</td><td>Credit Card</td><td>1994.933474966884</td><td>20221005</td></tr>\n",
       "<tr><td>trx-084210619674</td><td>85485</td><td>8.0</td><td>6.0</td><td>7</td><td>10</td><td>59.99</td><td>0.2</td><td>Cash</td><td>479.92000715136527</td><td>20221005</td></tr>\n",
       "<tr><td>trx-881038300170</td><td>85477</td><td>5.0</td><td>3.0</td><td>5</td><td>8</td><td>19.99</td><td>0.0</td><td>Credit Card</td><td>159.92</td><td>20221005</td></tr>\n",
       "<tr><td>trx-266248391098</td><td>85502</td><td>4.0</td><td>5.0</td><td>8</td><td>7</td><td>79.99</td><td>0.0</td><td>Credit Card</td><td>559.93</td><td>20221005</td></tr>\n",
       "<tr><td>trx-447618449080</td><td>85494</td><td>11.0</td><td>5.0</td><td>13</td><td>1</td><td>149.99</td><td>0.0</td><td>Credit Card</td><td>149.99</td><td>20221005</td></tr>\n",
       "<tr><td>trx-333773541049</td><td>85522</td><td>11.0</td><td>5.0</td><td>24</td><td>10</td><td>49.99</td><td>0.1</td><td>Cash</td><td>449.90998808145525</td><td>20221005</td></tr>\n",
       "<tr><td>trx-645813525610</td><td>85487</td><td>8.0</td><td>6.0</td><td>26</td><td>5</td><td>199.99</td><td>0.0</td><td>Cash</td><td>999.95</td><td>20221005</td></tr>\n",
       "<tr><td>trx-307991756457</td><td>85499</td><td>10.0</td><td>3.0</td><td>19</td><td>7</td><td>29.99</td><td>0.0</td><td>Cash</td><td>209.92999999999998</td><td>20221005</td></tr>\n",
       "<tr><td>trx-866999434394</td><td>85556</td><td>9.0</td><td>4.0</td><td>12</td><td>10</td><td>299.99</td><td>0.0</td><td>Credit Card</td><td>2999.9</td><td>20221005</td></tr>\n",
       "<tr><td>trx-452855447162</td><td>85501</td><td>8.0</td><td>6.0</td><td>25</td><td>6</td><td>499.99</td><td>0.15</td><td>Cash</td><td>2549.949071524143</td><td>20221005</td></tr>\n",
       "</table>\n",
       "only showing top 20 rows\n"
      ],
      "text/plain": [
       "+----------------+-----------+--------------+---------+----------+-----+----------+--------+--------------+------------------+--------+\n",
       "|  transaction_id|customer_id|sales_agent_id|branch_id|product_id|units|unit_price|discount|payment_method|       total_price|date_key|\n",
       "+----------------+-----------+--------------+---------+----------+-----+----------+--------+--------------+------------------+--------+\n",
       "|trx-407964138068|      85479|           4.0|      5.0|        25|    8|    499.99|     0.1|          Cash| 3599.927904634476|20221005|\n",
       "|trx-843694845999|      85506|          11.0|      1.0|        15|   10|     29.99|    0.05|   Credit Card| 284.9049964249134|20221005|\n",
       "|trx-548311587674|      85541|           5.0|      3.0|        19|   10|     29.99|    0.05|          Cash| 284.9049964249134|20221005|\n",
       "|trx-611821275884|      85470|           7.0|      5.0|        25|    1|    499.99|     0.0|   Credit Card|            499.99|20221005|\n",
       "|trx-527486306638|      85544|          10.0|      2.0|        23|    5|     39.99|     0.1|          Cash|179.95499523282052|20221005|\n",
       "|trx-012682136132|      85480|           1.0|      4.0|         5|    4|     19.99|     0.1|          Cash| 71.96399809360504|20221005|\n",
       "|trx-167057015608|      85519|           8.0|      2.0|         7|   10|     59.99|     0.0|          Cash|             599.9|20221005|\n",
       "|trx-655869782401|      85527|           8.0|      2.0|        28|   10|     19.99|     0.2|          Cash| 159.9200023829937|20221005|\n",
       "|trx-725477728975|      85462|           4.0|      6.0|        18|    6|    149.99|     0.0|          Cash|            899.94|20221005|\n",
       "|trx-079756546639|      85531|           8.0|      2.0|        16|    5|     39.99|     0.0|   Credit Card|199.95000000000002|20221005|\n",
       "|trx-535286586168|      85510|           7.0|      6.0|        12|    7|    299.99|    0.05|   Credit Card| 1994.933474966884|20221005|\n",
       "|trx-084210619674|      85485|           8.0|      6.0|         7|   10|     59.99|     0.2|          Cash|479.92000715136527|20221005|\n",
       "|trx-881038300170|      85477|           5.0|      3.0|         5|    8|     19.99|     0.0|   Credit Card|            159.92|20221005|\n",
       "|trx-266248391098|      85502|           4.0|      5.0|         8|    7|     79.99|     0.0|   Credit Card|            559.93|20221005|\n",
       "|trx-447618449080|      85494|          11.0|      5.0|        13|    1|    149.99|     0.0|   Credit Card|            149.99|20221005|\n",
       "|trx-333773541049|      85522|          11.0|      5.0|        24|   10|     49.99|     0.1|          Cash|449.90998808145525|20221005|\n",
       "|trx-645813525610|      85487|           8.0|      6.0|        26|    5|    199.99|     0.0|          Cash|            999.95|20221005|\n",
       "|trx-307991756457|      85499|          10.0|      3.0|        19|    7|     29.99|     0.0|          Cash|209.92999999999998|20221005|\n",
       "|trx-866999434394|      85556|           9.0|      4.0|        12|   10|    299.99|     0.0|   Credit Card|            2999.9|20221005|\n",
       "|trx-452855447162|      85501|           8.0|      6.0|        25|    6|    499.99|    0.15|          Cash| 2549.949071524143|20221005|\n",
       "+----------------+-----------+--------------+---------+----------+-----+----------+--------+--------------+------------------+--------+\n",
       "only showing top 20 rows"
      ]
     },
     "execution_count": 74,
     "metadata": {},
     "output_type": "execute_result"
    }
   ],
   "source": [
    "offline_fact_df=joined_df.select(\n",
    "    col(\"transaction_id\"),\n",
    "    col(\"customer_id\"),\n",
    "    col(\"sales_agent_id\"),\n",
    "    col(\"branch_id\"),\n",
    "    col(\"product_id\"),\n",
    "    col(\"units\"),\n",
    "    col(\"unit_price\"),\n",
    "    col(\"discount\"),\n",
    "    col(\"payment_method\"),\n",
    "    col(\"total_price\"),\n",
    "    col(\"date_key\")\n",
    ")\n",
    "\n",
    "offline_fact_df.coalesce(1)"
   ]
  },
  {
   "cell_type": "code",
   "execution_count": 75,
   "id": "1f71ea11-bcda-41b7-b89c-7596ead00325",
   "metadata": {},
   "outputs": [
    {
     "data": {
      "text/html": [
       "<table border='1'>\n",
       "<tr><th>transaction_date</th><th>transaction_id</th><th>customer_id</th><th>product_id</th><th>units</th><th>unit_price</th><th>discount</th><th>payment_method</th><th>group</th><th>shipping_street_name</th><th>shipping_city</th><th>shipping_state</th><th>shipping_zip_code</th><th>total_price</th></tr>\n",
       "<tr><td>2023-06-02</td><td>trx-035992640061</td><td>85513</td><td>19</td><td>7</td><td>29.99</td><td>0.0</td><td>Stripe</td><td>6</td><td>700 Towering Oak ...</td><td>Glen Burnie</td><td>Maryland</td><td>21061</td><td>209.92999999999998</td></tr>\n",
       "<tr><td>2022-12-13</td><td>trx-450105704924</td><td>85492</td><td>28</td><td>8</td><td>19.99</td><td>0.0</td><td>Stripe</td><td>6</td><td>4728 Rockland Trail</td><td>Nashville</td><td>Tennessee</td><td>37013</td><td>159.92</td></tr>\n",
       "<tr><td>2023-05-27</td><td>trx-184986835512</td><td>85556</td><td>16</td><td>7</td><td>39.99</td><td>0.0</td><td>Credit Card</td><td>6</td><td>44 Downey Drive</td><td>Manchester</td><td>Connecticut</td><td>06040</td><td>279.93</td></tr>\n",
       "<tr><td>2022-03-23</td><td>trx-934277502808</td><td>85550</td><td>28</td><td>9</td><td>19.99</td><td>0.2</td><td>Credit Card</td><td>6</td><td>3612 Jim Robison ...</td><td>Edmond</td><td>Oklahoma</td><td>73013</td><td>143.92800214469432</td></tr>\n",
       "<tr><td>2022-03-06</td><td>trx-420381525195</td><td>85518</td><td>28</td><td>10</td><td>19.99</td><td>0.05</td><td>PayPal</td><td>6</td><td>622 Elaine Drive</td><td>Nashville</td><td>Tennessee</td><td>37211</td><td>189.90499761700627</td></tr>\n",
       "<tr><td>2022-08-21</td><td>trx-633490862447</td><td>85529</td><td>1</td><td>2</td><td>999.99</td><td>0.2</td><td>PayPal</td><td>6</td><td>129 Glen Street</td><td>West Brattleboro</td><td>Vermont</td><td>05301</td><td>1599.9840238416195</td></tr>\n",
       "<tr><td>2022-01-02</td><td>trx-349483175929</td><td>85538</td><td>22</td><td>9</td><td>79.99</td><td>0.0</td><td>PayPal</td><td>6</td><td>88 Florence Street</td><td>New Bedford</td><td>Massachusetts</td><td>02740</td><td>719.91</td></tr>\n",
       "<tr><td>2023-04-26</td><td>trx-157422050098</td><td>85557</td><td>22</td><td>10</td><td>79.99</td><td>0.1</td><td>PayPal</td><td>6</td><td>8101 Vaughn Road</td><td>Montgomery</td><td>Alabama</td><td>36117</td><td>719.9099809288979</td></tr>\n",
       "<tr><td>2022-09-22</td><td>trx-732921927457</td><td>85560</td><td>9</td><td>10</td><td>129.99</td><td>0.05</td><td>PayPal</td><td>6</td><td>115 Maple Street</td><td>Manchester</td><td>Connecticut</td><td>06040</td><td>1234.9049845039845</td></tr>\n",
       "<tr><td>2022-09-22</td><td>trx-777834732693</td><td>85484</td><td>18</td><td>7</td><td>149.99</td><td>0.0</td><td>Credit Card</td><td>6</td><td>169 Avenida Drive</td><td>Berkeley</td><td>California</td><td>94708</td><td>1049.93</td></tr>\n",
       "<tr><td>2023-07-01</td><td>trx-757967298529</td><td>85549</td><td>24</td><td>7</td><td>49.99</td><td>0.2</td><td>Stripe</td><td>6</td><td>3111 Gentilly Court</td><td>Montgomery</td><td>Alabama</td><td>36116</td><td>279.9440041714907</td></tr>\n",
       "<tr><td>2023-09-13</td><td>trx-929818735761</td><td>85507</td><td>15</td><td>2</td><td>29.99</td><td>0.2</td><td>PayPal</td><td>6</td><td>6622 West Altaden...</td><td>Glendale</td><td>Arizona</td><td>85304</td><td>47.98400071501732</td></tr>\n",
       "<tr><td>2022-06-04</td><td>trx-473845951725</td><td>85562</td><td>4</td><td>10</td><td>99.99</td><td>0.0</td><td>Credit Card</td><td>6</td><td>721 South Jackson...</td><td>Louisville</td><td>Kentucky</td><td>40203</td><td>999.9</td></tr>\n",
       "<tr><td>2023-01-10</td><td>trx-183951121559</td><td>85506</td><td>7</td><td>9</td><td>59.99</td><td>0.2</td><td>Stripe</td><td>6</td><td>8935 Cole Drive</td><td>Arvada</td><td>Colorado</td><td>80004</td><td>431.9280064362287</td></tr>\n",
       "<tr><td>2022-10-28</td><td>trx-144866543087</td><td>85562</td><td>22</td><td>10</td><td>79.99</td><td>0.0</td><td>PayPal</td><td>6</td><td>116 9th Street So...</td><td>Washington</td><td>District of Columbia</td><td>20003</td><td>799.9</td></tr>\n",
       "<tr><td>2022-08-19</td><td>trx-622711375270</td><td>85513</td><td>4</td><td>8</td><td>99.99</td><td>0.0</td><td>PayPal</td><td>6</td><td>5311 Chenoweth Pa...</td><td>Louisville</td><td>Kentucky</td><td>40291</td><td>799.92</td></tr>\n",
       "<tr><td>2022-12-26</td><td>trx-353388663896</td><td>85558</td><td>8</td><td>7</td><td>79.99</td><td>0.0</td><td>PayPal</td><td>6</td><td>1101 Lotus Avenue</td><td>Glen Burnie</td><td>Maryland</td><td>21061</td><td>559.93</td></tr>\n",
       "<tr><td>2023-10-24</td><td>trx-404513631071</td><td>85528</td><td>25</td><td>4</td><td>499.99</td><td>0.15</td><td>Credit Card</td><td>6</td><td>718 Newhall Drive</td><td>Nashville</td><td>Tennessee</td><td>37206</td><td>1699.966047682762</td></tr>\n",
       "<tr><td>2023-03-13</td><td>trx-260309893474</td><td>85485</td><td>22</td><td>4</td><td>79.99</td><td>0.2</td><td>PayPal</td><td>6</td><td>5754 Belleau Drive</td><td>Montgomery</td><td>Alabama</td><td>36117</td><td>255.96800381422042</td></tr>\n",
       "<tr><td>2022-01-12</td><td>trx-045523850063</td><td>85483</td><td>7</td><td>7</td><td>59.99</td><td>0.05</td><td>Credit Card</td><td>6</td><td>22538 6th Street</td><td>Hayward</td><td>California</td><td>94541</td><td>398.93349499404434</td></tr>\n",
       "</table>\n",
       "only showing top 20 rows\n"
      ],
      "text/plain": [
       "+----------------+----------------+-----------+----------+-----+----------+--------+--------------+-----+--------------------+----------------+--------------------+-----------------+------------------+\n",
       "|transaction_date|  transaction_id|customer_id|product_id|units|unit_price|discount|payment_method|group|shipping_street_name|   shipping_city|      shipping_state|shipping_zip_code|       total_price|\n",
       "+----------------+----------------+-----------+----------+-----+----------+--------+--------------+-----+--------------------+----------------+--------------------+-----------------+------------------+\n",
       "|      2023-06-02|trx-035992640061|      85513|        19|    7|     29.99|     0.0|        Stripe|    6|700 Towering Oak ...|     Glen Burnie|            Maryland|            21061|209.92999999999998|\n",
       "|      2022-12-13|trx-450105704924|      85492|        28|    8|     19.99|     0.0|        Stripe|    6| 4728 Rockland Trail|       Nashville|           Tennessee|            37013|            159.92|\n",
       "|      2023-05-27|trx-184986835512|      85556|        16|    7|     39.99|     0.0|   Credit Card|    6|     44 Downey Drive|      Manchester|         Connecticut|            06040|            279.93|\n",
       "|      2022-03-23|trx-934277502808|      85550|        28|    9|     19.99|     0.2|   Credit Card|    6|3612 Jim Robison ...|          Edmond|            Oklahoma|            73013|143.92800214469432|\n",
       "|      2022-03-06|trx-420381525195|      85518|        28|   10|     19.99|    0.05|        PayPal|    6|    622 Elaine Drive|       Nashville|           Tennessee|            37211|189.90499761700627|\n",
       "|      2022-08-21|trx-633490862447|      85529|         1|    2|    999.99|     0.2|        PayPal|    6|     129 Glen Street|West Brattleboro|             Vermont|            05301|1599.9840238416195|\n",
       "|      2022-01-02|trx-349483175929|      85538|        22|    9|     79.99|     0.0|        PayPal|    6|  88 Florence Street|     New Bedford|       Massachusetts|            02740|            719.91|\n",
       "|      2023-04-26|trx-157422050098|      85557|        22|   10|     79.99|     0.1|        PayPal|    6|    8101 Vaughn Road|      Montgomery|             Alabama|            36117| 719.9099809288979|\n",
       "|      2022-09-22|trx-732921927457|      85560|         9|   10|    129.99|    0.05|        PayPal|    6|    115 Maple Street|      Manchester|         Connecticut|            06040|1234.9049845039845|\n",
       "|      2022-09-22|trx-777834732693|      85484|        18|    7|    149.99|     0.0|   Credit Card|    6|   169 Avenida Drive|        Berkeley|          California|            94708|           1049.93|\n",
       "|      2023-07-01|trx-757967298529|      85549|        24|    7|     49.99|     0.2|        Stripe|    6| 3111 Gentilly Court|      Montgomery|             Alabama|            36116| 279.9440041714907|\n",
       "|      2023-09-13|trx-929818735761|      85507|        15|    2|     29.99|     0.2|        PayPal|    6|6622 West Altaden...|        Glendale|             Arizona|            85304| 47.98400071501732|\n",
       "|      2022-06-04|trx-473845951725|      85562|         4|   10|     99.99|     0.0|   Credit Card|    6|721 South Jackson...|      Louisville|            Kentucky|            40203|             999.9|\n",
       "|      2023-01-10|trx-183951121559|      85506|         7|    9|     59.99|     0.2|        Stripe|    6|     8935 Cole Drive|          Arvada|            Colorado|            80004| 431.9280064362287|\n",
       "|      2022-10-28|trx-144866543087|      85562|        22|   10|     79.99|     0.0|        PayPal|    6|116 9th Street So...|      Washington|District of Columbia|            20003|             799.9|\n",
       "|      2022-08-19|trx-622711375270|      85513|         4|    8|     99.99|     0.0|        PayPal|    6|5311 Chenoweth Pa...|      Louisville|            Kentucky|            40291|            799.92|\n",
       "|      2022-12-26|trx-353388663896|      85558|         8|    7|     79.99|     0.0|        PayPal|    6|   1101 Lotus Avenue|     Glen Burnie|            Maryland|            21061|            559.93|\n",
       "|      2023-10-24|trx-404513631071|      85528|        25|    4|    499.99|    0.15|   Credit Card|    6|   718 Newhall Drive|       Nashville|           Tennessee|            37206| 1699.966047682762|\n",
       "|      2023-03-13|trx-260309893474|      85485|        22|    4|     79.99|     0.2|        PayPal|    6|  5754 Belleau Drive|      Montgomery|             Alabama|            36117|255.96800381422042|\n",
       "|      2022-01-12|trx-045523850063|      85483|         7|    7|     59.99|    0.05|   Credit Card|    6|    22538 6th Street|         Hayward|          California|            94541|398.93349499404434|\n",
       "+----------------+----------------+-----------+----------+-----+----------+--------+--------------+-----+--------------------+----------------+--------------------+-----------------+------------------+\n",
       "only showing top 20 rows"
      ]
     },
     "execution_count": 75,
     "metadata": {},
     "output_type": "execute_result"
    }
   ],
   "source": [
    "online_fact_df=online_merged_df.select(\n",
    "    col(\"transaction_date\"),\n",
    "    col(\"transaction_id\"),\n",
    "    col(\"customer_id\"),\n",
    "    col(\"product_id\"),\n",
    "    col(\"units\"),\n",
    "    col(\"unit_price\"),\n",
    "    col(\"discount\"),\n",
    "    col(\"payment_method\"),\n",
    "    col(\"group\"),\n",
    "    col(\"shipping_street_name\"),\n",
    "    col(\"shipping_city\"),\n",
    "    col(\"shipping_state\"),\n",
    "    col(\"shipping_zip_code\"),\n",
    "    col(\"total_price\")\n",
    ")\n",
    "\n",
    "online_fact_df.coalesce(1)"
   ]
  },
  {
   "cell_type": "code",
   "execution_count": 76,
   "id": "b8a312f4-2343-4cf4-a627-7353d90720e0",
   "metadata": {},
   "outputs": [
    {
     "data": {
      "text/html": [
       "<table border='1'>\n",
       "<tr><th>transaction_date</th><th>transaction_id</th><th>customer_id</th><th>product_id</th><th>units</th><th>unit_price</th><th>discount</th><th>payment_method</th><th>group</th><th>shipping_street_name</th><th>shipping_city</th><th>shipping_state</th><th>shipping_zip_code</th><th>total_price</th><th>date</th><th>date_key</th><th>day</th><th>day_of_week</th><th>day_of_year</th><th>week_of_year</th><th>month</th><th>quarter</th><th>year</th><th>is_weekend</th><th>month_name</th><th>day_name</th><th>year_month</th></tr>\n",
       "<tr><td>2022-01-01</td><td>trx-038966531476</td><td>85511</td><td>11</td><td>9</td><td>899.99</td><td>0.0</td><td>PayPal</td><td>2</td><td>1783 Blakely Road</td><td>Colchester</td><td>Vermont</td><td>05446</td><td>8099.91</td><td>2022-01-01</td><td>20220101</td><td>1</td><td>7</td><td>1</td><td>52</td><td>1</td><td>1</td><td>2022</td><td>1</td><td>January</td><td>Saturday</td><td>202201</td></tr>\n",
       "<tr><td>2022-01-01</td><td>trx-196650129641</td><td>85502</td><td>8</td><td>1</td><td>79.99</td><td>0.0</td><td>Stripe</td><td>2</td><td>88 Shute Street</td><td>Everett</td><td>Massachusetts</td><td>02149</td><td>79.99</td><td>2022-01-01</td><td>20220101</td><td>1</td><td>7</td><td>1</td><td>52</td><td>1</td><td>1</td><td>2022</td><td>1</td><td>January</td><td>Saturday</td><td>202201</td></tr>\n",
       "<tr><td>2022-01-01</td><td>trx-961186738199</td><td>85540</td><td>9</td><td>8</td><td>129.99</td><td>0.2</td><td>PayPal</td><td>3</td><td>45 Parsons Avenue</td><td>Saint Albans City</td><td>Vermont</td><td>05478</td><td>831.9360123968125</td><td>2022-01-01</td><td>20220101</td><td>1</td><td>7</td><td>1</td><td>52</td><td>1</td><td>1</td><td>2022</td><td>1</td><td>January</td><td>Saturday</td><td>202201</td></tr>\n",
       "<tr><td>2022-01-01</td><td>trx-961186738199</td><td>85540</td><td>9</td><td>8</td><td>129.99</td><td>0.2</td><td>PayPal</td><td>1</td><td>45 Parsons Avenue</td><td>Saint Albans City</td><td>Vermont</td><td>05478</td><td>831.9360123968125</td><td>2022-01-01</td><td>20220101</td><td>1</td><td>7</td><td>1</td><td>52</td><td>1</td><td>1</td><td>2022</td><td>1</td><td>January</td><td>Saturday</td><td>202201</td></tr>\n",
       "<tr><td>2022-01-01</td><td>trx-807433736285</td><td>85505</td><td>24</td><td>9</td><td>49.99</td><td>0.2</td><td>Stripe</td><td>4</td><td>6460 Vermont 113</td><td>Vershire</td><td>Vermont</td><td>05079</td><td>359.92800536334516</td><td>2022-01-01</td><td>20220101</td><td>1</td><td>7</td><td>1</td><td>52</td><td>1</td><td>1</td><td>2022</td><td>1</td><td>January</td><td>Saturday</td><td>202201</td></tr>\n",
       "<tr><td>2022-01-01</td><td>trx-378573229506</td><td>85552</td><td>7</td><td>1</td><td>59.99</td><td>0.05</td><td>Credit Card</td><td>6</td><td>1265 Xavier Avenue</td><td>Hayward</td><td>California</td><td>94545</td><td>56.990499284863475</td><td>2022-01-01</td><td>20220101</td><td>1</td><td>7</td><td>1</td><td>52</td><td>1</td><td>1</td><td>2022</td><td>1</td><td>January</td><td>Saturday</td><td>202201</td></tr>\n",
       "<tr><td>2022-01-01</td><td>trx-812311767786</td><td>85525</td><td>11</td><td>8</td><td>899.99</td><td>0.2</td><td>Stripe</td><td>6</td><td>129 Glen Street</td><td>West Brattleboro</td><td>Vermont</td><td>05301</td><td>5759.936085829735</td><td>2022-01-01</td><td>20220101</td><td>1</td><td>7</td><td>1</td><td>52</td><td>1</td><td>1</td><td>2022</td><td>1</td><td>January</td><td>Saturday</td><td>202201</td></tr>\n",
       "<tr><td>2022-01-01</td><td>trx-714156427993</td><td>85519</td><td>5</td><td>4</td><td>19.99</td><td>0.0</td><td>PayPal</td><td>6</td><td>52 Linnmore Drive</td><td>Manchester</td><td>Connecticut</td><td>06040</td><td>79.96</td><td>2022-01-01</td><td>20220101</td><td>1</td><td>7</td><td>1</td><td>52</td><td>1</td><td>1</td><td>2022</td><td>1</td><td>January</td><td>Saturday</td><td>202201</td></tr>\n",
       "<tr><td>2022-01-01</td><td>trx-926752978689</td><td>85553</td><td>15</td><td>10</td><td>29.99</td><td>0.0</td><td>PayPal</td><td>6</td><td>1313 North Road</td><td>Hinesburg</td><td>Vermont</td><td>05461</td><td>299.9</td><td>2022-01-01</td><td>20220101</td><td>1</td><td>7</td><td>1</td><td>52</td><td>1</td><td>1</td><td>2022</td><td>1</td><td>January</td><td>Saturday</td><td>202201</td></tr>\n",
       "<tr><td>2022-01-01</td><td>trx-377988149376</td><td>85548</td><td>30</td><td>6</td><td>24.99</td><td>0.0</td><td>Stripe</td><td>6</td><td>3328 Sunny Meadow...</td><td>Birmingham</td><td>Alabama</td><td>35242</td><td>149.94</td><td>2022-01-01</td><td>20220101</td><td>1</td><td>7</td><td>1</td><td>52</td><td>1</td><td>1</td><td>2022</td><td>1</td><td>January</td><td>Saturday</td><td>202201</td></tr>\n",
       "<tr><td>2022-01-01</td><td>trx-578810017511</td><td>85510</td><td>27</td><td>2</td><td>29.99</td><td>0.05</td><td>PayPal</td><td>6</td><td>3578 Galindo Street</td><td>Oakland</td><td>California</td><td>94601</td><td>56.98099928498268</td><td>2022-01-01</td><td>20220101</td><td>1</td><td>7</td><td>1</td><td>52</td><td>1</td><td>1</td><td>2022</td><td>1</td><td>January</td><td>Saturday</td><td>202201</td></tr>\n",
       "<tr><td>2022-01-01</td><td>trx-935354519699</td><td>85468</td><td>10</td><td>9</td><td>39.99</td><td>0.2</td><td>Stripe</td><td>6</td><td>396 Hartford Road</td><td>Manchester</td><td>Connecticut</td><td>06040</td><td>287.92800429046156</td><td>2022-01-01</td><td>20220101</td><td>1</td><td>7</td><td>1</td><td>52</td><td>1</td><td>1</td><td>2022</td><td>1</td><td>January</td><td>Saturday</td><td>202201</td></tr>\n",
       "<tr><td>2022-01-01</td><td>trx-062565092206</td><td>85534</td><td>1</td><td>2</td><td>999.99</td><td>0.2</td><td>Stripe</td><td>6</td><td>1363 Dean Forest ...</td><td>Savannah</td><td>Georgia</td><td>31405</td><td>1599.9840238416195</td><td>2022-01-01</td><td>20220101</td><td>1</td><td>7</td><td>1</td><td>52</td><td>1</td><td>1</td><td>2022</td><td>1</td><td>January</td><td>Saturday</td><td>202201</td></tr>\n",
       "<tr><td>2022-01-01</td><td>trx-291831425853</td><td>85520</td><td>13</td><td>3</td><td>149.99</td><td>0.2</td><td>Stripe</td><td>6</td><td>206 Blue Marlin D...</td><td>Savannah</td><td>Georgia</td><td>31410</td><td>359.9760053640604</td><td>2022-01-01</td><td>20220101</td><td>1</td><td>7</td><td>1</td><td>52</td><td>1</td><td>1</td><td>2022</td><td>1</td><td>January</td><td>Saturday</td><td>202201</td></tr>\n",
       "<tr><td>2022-01-01</td><td>trx-490934091046</td><td>85488</td><td>14</td><td>5</td><td>399.99</td><td>0.0</td><td>PayPal</td><td>6</td><td>95 Claiborne Street</td><td>Nashville</td><td>Tennessee</td><td>37210</td><td>1999.95</td><td>2022-01-01</td><td>20220101</td><td>1</td><td>7</td><td>1</td><td>52</td><td>1</td><td>1</td><td>2022</td><td>1</td><td>January</td><td>Saturday</td><td>202201</td></tr>\n",
       "<tr><td>2022-01-01</td><td>trx-477242925566</td><td>85505</td><td>7</td><td>7</td><td>59.99</td><td>0.0</td><td>PayPal</td><td>6</td><td>23 Columbia Drive</td><td>Manchester</td><td>Connecticut</td><td>06042</td><td>419.93</td><td>2022-01-01</td><td>20220101</td><td>1</td><td>7</td><td>1</td><td>52</td><td>1</td><td>1</td><td>2022</td><td>1</td><td>January</td><td>Saturday</td><td>202201</td></tr>\n",
       "<tr><td>2022-01-01</td><td>trx-657276071144</td><td>85480</td><td>28</td><td>10</td><td>19.99</td><td>0.0</td><td>PayPal</td><td>6</td><td>98 Lincoln Street</td><td>Revere</td><td>Massachusetts</td><td>02151</td><td>199.89999999999998</td><td>2022-01-01</td><td>20220101</td><td>1</td><td>7</td><td>1</td><td>52</td><td>1</td><td>1</td><td>2022</td><td>1</td><td>January</td><td>Saturday</td><td>202201</td></tr>\n",
       "<tr><td>2022-01-01</td><td>trx-521851194970</td><td>85470</td><td>3</td><td>6</td><td>299.99</td><td>0.0</td><td>Credit Card</td><td>6</td><td>1209 Parker Street</td><td>Berkeley</td><td>California</td><td>94702</td><td>1799.94</td><td>2022-01-01</td><td>20220101</td><td>1</td><td>7</td><td>1</td><td>52</td><td>1</td><td>1</td><td>2022</td><td>1</td><td>January</td><td>Saturday</td><td>202201</td></tr>\n",
       "<tr><td>2022-01-01</td><td>trx-835639572082</td><td>85521</td><td>6</td><td>7</td><td>49.99</td><td>0.2</td><td>Credit Card</td><td>6</td><td>11724 Rushmore</td><td>Oklahoma City</td><td>Oklahoma</td><td>73162</td><td>279.9440041714907</td><td>2022-01-01</td><td>20220101</td><td>1</td><td>7</td><td>1</td><td>52</td><td>1</td><td>1</td><td>2022</td><td>1</td><td>January</td><td>Saturday</td><td>202201</td></tr>\n",
       "<tr><td>2022-01-01</td><td>trx-832513610642</td><td>85532</td><td>11</td><td>3</td><td>899.99</td><td>0.0</td><td>Stripe</td><td>6</td><td>6802 North 67th A...</td><td>Glendale</td><td>Arizona</td><td>85301</td><td>2699.9700000000003</td><td>2022-01-01</td><td>20220101</td><td>1</td><td>7</td><td>1</td><td>52</td><td>1</td><td>1</td><td>2022</td><td>1</td><td>January</td><td>Saturday</td><td>202201</td></tr>\n",
       "</table>\n",
       "only showing top 20 rows\n"
      ],
      "text/plain": [
       "+----------------+----------------+-----------+----------+-----+----------+--------+--------------+-----+--------------------+-----------------+--------------+-----------------+------------------+----------+--------+---+-----------+-----------+------------+-----+-------+----+----------+----------+--------+----------+\n",
       "|transaction_date|  transaction_id|customer_id|product_id|units|unit_price|discount|payment_method|group|shipping_street_name|    shipping_city|shipping_state|shipping_zip_code|       total_price|      date|date_key|day|day_of_week|day_of_year|week_of_year|month|quarter|year|is_weekend|month_name|day_name|year_month|\n",
       "+----------------+----------------+-----------+----------+-----+----------+--------+--------------+-----+--------------------+-----------------+--------------+-----------------+------------------+----------+--------+---+-----------+-----------+------------+-----+-------+----+----------+----------+--------+----------+\n",
       "|      2022-01-01|trx-038966531476|      85511|        11|    9|    899.99|     0.0|        PayPal|    2|   1783 Blakely Road|       Colchester|       Vermont|            05446|           8099.91|2022-01-01|20220101|  1|          7|          1|          52|    1|      1|2022|         1|   January|Saturday|    202201|\n",
       "|      2022-01-01|trx-196650129641|      85502|         8|    1|     79.99|     0.0|        Stripe|    2|     88 Shute Street|          Everett| Massachusetts|            02149|             79.99|2022-01-01|20220101|  1|          7|          1|          52|    1|      1|2022|         1|   January|Saturday|    202201|\n",
       "|      2022-01-01|trx-961186738199|      85540|         9|    8|    129.99|     0.2|        PayPal|    3|   45 Parsons Avenue|Saint Albans City|       Vermont|            05478| 831.9360123968125|2022-01-01|20220101|  1|          7|          1|          52|    1|      1|2022|         1|   January|Saturday|    202201|\n",
       "|      2022-01-01|trx-961186738199|      85540|         9|    8|    129.99|     0.2|        PayPal|    1|   45 Parsons Avenue|Saint Albans City|       Vermont|            05478| 831.9360123968125|2022-01-01|20220101|  1|          7|          1|          52|    1|      1|2022|         1|   January|Saturday|    202201|\n",
       "|      2022-01-01|trx-807433736285|      85505|        24|    9|     49.99|     0.2|        Stripe|    4|    6460 Vermont 113|         Vershire|       Vermont|            05079|359.92800536334516|2022-01-01|20220101|  1|          7|          1|          52|    1|      1|2022|         1|   January|Saturday|    202201|\n",
       "|      2022-01-01|trx-378573229506|      85552|         7|    1|     59.99|    0.05|   Credit Card|    6|  1265 Xavier Avenue|          Hayward|    California|            94545|56.990499284863475|2022-01-01|20220101|  1|          7|          1|          52|    1|      1|2022|         1|   January|Saturday|    202201|\n",
       "|      2022-01-01|trx-812311767786|      85525|        11|    8|    899.99|     0.2|        Stripe|    6|     129 Glen Street| West Brattleboro|       Vermont|            05301| 5759.936085829735|2022-01-01|20220101|  1|          7|          1|          52|    1|      1|2022|         1|   January|Saturday|    202201|\n",
       "|      2022-01-01|trx-714156427993|      85519|         5|    4|     19.99|     0.0|        PayPal|    6|   52 Linnmore Drive|       Manchester|   Connecticut|            06040|             79.96|2022-01-01|20220101|  1|          7|          1|          52|    1|      1|2022|         1|   January|Saturday|    202201|\n",
       "|      2022-01-01|trx-926752978689|      85553|        15|   10|     29.99|     0.0|        PayPal|    6|     1313 North Road|        Hinesburg|       Vermont|            05461|             299.9|2022-01-01|20220101|  1|          7|          1|          52|    1|      1|2022|         1|   January|Saturday|    202201|\n",
       "|      2022-01-01|trx-377988149376|      85548|        30|    6|     24.99|     0.0|        Stripe|    6|3328 Sunny Meadow...|       Birmingham|       Alabama|            35242|            149.94|2022-01-01|20220101|  1|          7|          1|          52|    1|      1|2022|         1|   January|Saturday|    202201|\n",
       "|      2022-01-01|trx-578810017511|      85510|        27|    2|     29.99|    0.05|        PayPal|    6| 3578 Galindo Street|          Oakland|    California|            94601| 56.98099928498268|2022-01-01|20220101|  1|          7|          1|          52|    1|      1|2022|         1|   January|Saturday|    202201|\n",
       "|      2022-01-01|trx-935354519699|      85468|        10|    9|     39.99|     0.2|        Stripe|    6|   396 Hartford Road|       Manchester|   Connecticut|            06040|287.92800429046156|2022-01-01|20220101|  1|          7|          1|          52|    1|      1|2022|         1|   January|Saturday|    202201|\n",
       "|      2022-01-01|trx-062565092206|      85534|         1|    2|    999.99|     0.2|        Stripe|    6|1363 Dean Forest ...|         Savannah|       Georgia|            31405|1599.9840238416195|2022-01-01|20220101|  1|          7|          1|          52|    1|      1|2022|         1|   January|Saturday|    202201|\n",
       "|      2022-01-01|trx-291831425853|      85520|        13|    3|    149.99|     0.2|        Stripe|    6|206 Blue Marlin D...|         Savannah|       Georgia|            31410| 359.9760053640604|2022-01-01|20220101|  1|          7|          1|          52|    1|      1|2022|         1|   January|Saturday|    202201|\n",
       "|      2022-01-01|trx-490934091046|      85488|        14|    5|    399.99|     0.0|        PayPal|    6| 95 Claiborne Street|        Nashville|     Tennessee|            37210|           1999.95|2022-01-01|20220101|  1|          7|          1|          52|    1|      1|2022|         1|   January|Saturday|    202201|\n",
       "|      2022-01-01|trx-477242925566|      85505|         7|    7|     59.99|     0.0|        PayPal|    6|   23 Columbia Drive|       Manchester|   Connecticut|            06042|            419.93|2022-01-01|20220101|  1|          7|          1|          52|    1|      1|2022|         1|   January|Saturday|    202201|\n",
       "|      2022-01-01|trx-657276071144|      85480|        28|   10|     19.99|     0.0|        PayPal|    6|   98 Lincoln Street|           Revere| Massachusetts|            02151|199.89999999999998|2022-01-01|20220101|  1|          7|          1|          52|    1|      1|2022|         1|   January|Saturday|    202201|\n",
       "|      2022-01-01|trx-521851194970|      85470|         3|    6|    299.99|     0.0|   Credit Card|    6|  1209 Parker Street|         Berkeley|    California|            94702|           1799.94|2022-01-01|20220101|  1|          7|          1|          52|    1|      1|2022|         1|   January|Saturday|    202201|\n",
       "|      2022-01-01|trx-835639572082|      85521|         6|    7|     49.99|     0.2|   Credit Card|    6|      11724 Rushmore|    Oklahoma City|      Oklahoma|            73162| 279.9440041714907|2022-01-01|20220101|  1|          7|          1|          52|    1|      1|2022|         1|   January|Saturday|    202201|\n",
       "|      2022-01-01|trx-832513610642|      85532|        11|    3|    899.99|     0.0|        Stripe|    6|6802 North 67th A...|         Glendale|       Arizona|            85301|2699.9700000000003|2022-01-01|20220101|  1|          7|          1|          52|    1|      1|2022|         1|   January|Saturday|    202201|\n",
       "+----------------+----------------+-----------+----------+-----+----------+--------+--------------+-----+--------------------+-----------------+--------------+-----------------+------------------+----------+--------+---+-----------+-----------+------------+-----+-------+----+----------+----------+--------+----------+\n",
       "only showing top 20 rows"
      ]
     },
     "execution_count": 76,
     "metadata": {},
     "output_type": "execute_result"
    }
   ],
   "source": [
    "# Convert transaction_date in online_fact_df to match the format yyyy-MM-dd\n",
    "online_fact_df = online_fact_df.withColumn(\"transaction_date\", date_format(col(\"transaction_date\"), \"yyyy-MM-dd\"))\n",
    "\n",
    "# Perform an inner join on transaction_date and date\n",
    "joined_df_2 = online_fact_df.join(date_df, online_fact_df[\"transaction_date\"] == date_df[\"date\"], \"inner\")\n",
    "\n",
    "joined_df_2.coalesce(1)\n",
    "\n"
   ]
  },
  {
   "cell_type": "code",
   "execution_count": 77,
   "id": "f069f07b-c5fe-49cd-a1f0-0b0acc161bc0",
   "metadata": {},
   "outputs": [
    {
     "data": {
      "text/plain": [
       "['transaction_date',\n",
       " 'transaction_id',\n",
       " 'customer_id',\n",
       " 'product_id',\n",
       " 'units',\n",
       " 'unit_price',\n",
       " 'discount',\n",
       " 'payment_method',\n",
       " 'group',\n",
       " 'shipping_street_name',\n",
       " 'shipping_city',\n",
       " 'shipping_state',\n",
       " 'shipping_zip_code',\n",
       " 'total_price',\n",
       " 'date',\n",
       " 'date_key',\n",
       " 'day',\n",
       " 'day_of_week',\n",
       " 'day_of_year',\n",
       " 'week_of_year',\n",
       " 'month',\n",
       " 'quarter',\n",
       " 'year',\n",
       " 'is_weekend',\n",
       " 'month_name',\n",
       " 'day_name',\n",
       " 'year_month']"
      ]
     },
     "execution_count": 77,
     "metadata": {},
     "output_type": "execute_result"
    }
   ],
   "source": [
    "joined_df_2.columns"
   ]
  },
  {
   "cell_type": "code",
   "execution_count": 78,
   "id": "3e32d721-be07-4f15-97b3-3d74c0515a62",
   "metadata": {},
   "outputs": [
    {
     "data": {
      "text/html": [
       "<table border='1'>\n",
       "<tr><th>transaction_id</th><th>customer_id</th><th>product_id</th><th>units</th><th>unit_price</th><th>discount</th><th>payment_method</th><th>group</th><th>total_price</th><th>date_key</th><th>shipping_zip_code</th><th>shipping_state</th><th>shipping_city</th><th>shipping_street_name</th></tr>\n",
       "<tr><td>trx-038966531476</td><td>85511</td><td>11</td><td>9</td><td>899.99</td><td>0.0</td><td>PayPal</td><td>2</td><td>8099.91</td><td>20220101</td><td>05446</td><td>Vermont</td><td>Colchester</td><td>1783 Blakely Road</td></tr>\n",
       "<tr><td>trx-196650129641</td><td>85502</td><td>8</td><td>1</td><td>79.99</td><td>0.0</td><td>Stripe</td><td>2</td><td>79.99</td><td>20220101</td><td>02149</td><td>Massachusetts</td><td>Everett</td><td>88 Shute Street</td></tr>\n",
       "<tr><td>trx-961186738199</td><td>85540</td><td>9</td><td>8</td><td>129.99</td><td>0.2</td><td>PayPal</td><td>3</td><td>831.9360123968125</td><td>20220101</td><td>05478</td><td>Vermont</td><td>Saint Albans City</td><td>45 Parsons Avenue</td></tr>\n",
       "<tr><td>trx-961186738199</td><td>85540</td><td>9</td><td>8</td><td>129.99</td><td>0.2</td><td>PayPal</td><td>1</td><td>831.9360123968125</td><td>20220101</td><td>05478</td><td>Vermont</td><td>Saint Albans City</td><td>45 Parsons Avenue</td></tr>\n",
       "<tr><td>trx-807433736285</td><td>85505</td><td>24</td><td>9</td><td>49.99</td><td>0.2</td><td>Stripe</td><td>4</td><td>359.92800536334516</td><td>20220101</td><td>05079</td><td>Vermont</td><td>Vershire</td><td>6460 Vermont 113</td></tr>\n",
       "<tr><td>trx-378573229506</td><td>85552</td><td>7</td><td>1</td><td>59.99</td><td>0.05</td><td>Credit Card</td><td>6</td><td>56.990499284863475</td><td>20220101</td><td>94545</td><td>California</td><td>Hayward</td><td>1265 Xavier Avenue</td></tr>\n",
       "<tr><td>trx-812311767786</td><td>85525</td><td>11</td><td>8</td><td>899.99</td><td>0.2</td><td>Stripe</td><td>6</td><td>5759.936085829735</td><td>20220101</td><td>05301</td><td>Vermont</td><td>West Brattleboro</td><td>129 Glen Street</td></tr>\n",
       "<tr><td>trx-714156427993</td><td>85519</td><td>5</td><td>4</td><td>19.99</td><td>0.0</td><td>PayPal</td><td>6</td><td>79.96</td><td>20220101</td><td>06040</td><td>Connecticut</td><td>Manchester</td><td>52 Linnmore Drive</td></tr>\n",
       "<tr><td>trx-926752978689</td><td>85553</td><td>15</td><td>10</td><td>29.99</td><td>0.0</td><td>PayPal</td><td>6</td><td>299.9</td><td>20220101</td><td>05461</td><td>Vermont</td><td>Hinesburg</td><td>1313 North Road</td></tr>\n",
       "<tr><td>trx-377988149376</td><td>85548</td><td>30</td><td>6</td><td>24.99</td><td>0.0</td><td>Stripe</td><td>6</td><td>149.94</td><td>20220101</td><td>35242</td><td>Alabama</td><td>Birmingham</td><td>3328 Sunny Meadow...</td></tr>\n",
       "<tr><td>trx-578810017511</td><td>85510</td><td>27</td><td>2</td><td>29.99</td><td>0.05</td><td>PayPal</td><td>6</td><td>56.98099928498268</td><td>20220101</td><td>94601</td><td>California</td><td>Oakland</td><td>3578 Galindo Street</td></tr>\n",
       "<tr><td>trx-935354519699</td><td>85468</td><td>10</td><td>9</td><td>39.99</td><td>0.2</td><td>Stripe</td><td>6</td><td>287.92800429046156</td><td>20220101</td><td>06040</td><td>Connecticut</td><td>Manchester</td><td>396 Hartford Road</td></tr>\n",
       "<tr><td>trx-062565092206</td><td>85534</td><td>1</td><td>2</td><td>999.99</td><td>0.2</td><td>Stripe</td><td>6</td><td>1599.9840238416195</td><td>20220101</td><td>31405</td><td>Georgia</td><td>Savannah</td><td>1363 Dean Forest ...</td></tr>\n",
       "<tr><td>trx-291831425853</td><td>85520</td><td>13</td><td>3</td><td>149.99</td><td>0.2</td><td>Stripe</td><td>6</td><td>359.9760053640604</td><td>20220101</td><td>31410</td><td>Georgia</td><td>Savannah</td><td>206 Blue Marlin D...</td></tr>\n",
       "<tr><td>trx-490934091046</td><td>85488</td><td>14</td><td>5</td><td>399.99</td><td>0.0</td><td>PayPal</td><td>6</td><td>1999.95</td><td>20220101</td><td>37210</td><td>Tennessee</td><td>Nashville</td><td>95 Claiborne Street</td></tr>\n",
       "<tr><td>trx-477242925566</td><td>85505</td><td>7</td><td>7</td><td>59.99</td><td>0.0</td><td>PayPal</td><td>6</td><td>419.93</td><td>20220101</td><td>06042</td><td>Connecticut</td><td>Manchester</td><td>23 Columbia Drive</td></tr>\n",
       "<tr><td>trx-657276071144</td><td>85480</td><td>28</td><td>10</td><td>19.99</td><td>0.0</td><td>PayPal</td><td>6</td><td>199.89999999999998</td><td>20220101</td><td>02151</td><td>Massachusetts</td><td>Revere</td><td>98 Lincoln Street</td></tr>\n",
       "<tr><td>trx-521851194970</td><td>85470</td><td>3</td><td>6</td><td>299.99</td><td>0.0</td><td>Credit Card</td><td>6</td><td>1799.94</td><td>20220101</td><td>94702</td><td>California</td><td>Berkeley</td><td>1209 Parker Street</td></tr>\n",
       "<tr><td>trx-835639572082</td><td>85521</td><td>6</td><td>7</td><td>49.99</td><td>0.2</td><td>Credit Card</td><td>6</td><td>279.9440041714907</td><td>20220101</td><td>73162</td><td>Oklahoma</td><td>Oklahoma City</td><td>11724 Rushmore</td></tr>\n",
       "<tr><td>trx-832513610642</td><td>85532</td><td>11</td><td>3</td><td>899.99</td><td>0.0</td><td>Stripe</td><td>6</td><td>2699.9700000000003</td><td>20220101</td><td>85301</td><td>Arizona</td><td>Glendale</td><td>6802 North 67th A...</td></tr>\n",
       "</table>\n",
       "only showing top 20 rows\n"
      ],
      "text/plain": [
       "+----------------+-----------+----------+-----+----------+--------+--------------+-----+------------------+--------+-----------------+--------------+-----------------+--------------------+\n",
       "|  transaction_id|customer_id|product_id|units|unit_price|discount|payment_method|group|       total_price|date_key|shipping_zip_code|shipping_state|    shipping_city|shipping_street_name|\n",
       "+----------------+-----------+----------+-----+----------+--------+--------------+-----+------------------+--------+-----------------+--------------+-----------------+--------------------+\n",
       "|trx-038966531476|      85511|        11|    9|    899.99|     0.0|        PayPal|    2|           8099.91|20220101|            05446|       Vermont|       Colchester|   1783 Blakely Road|\n",
       "|trx-196650129641|      85502|         8|    1|     79.99|     0.0|        Stripe|    2|             79.99|20220101|            02149| Massachusetts|          Everett|     88 Shute Street|\n",
       "|trx-961186738199|      85540|         9|    8|    129.99|     0.2|        PayPal|    3| 831.9360123968125|20220101|            05478|       Vermont|Saint Albans City|   45 Parsons Avenue|\n",
       "|trx-961186738199|      85540|         9|    8|    129.99|     0.2|        PayPal|    1| 831.9360123968125|20220101|            05478|       Vermont|Saint Albans City|   45 Parsons Avenue|\n",
       "|trx-807433736285|      85505|        24|    9|     49.99|     0.2|        Stripe|    4|359.92800536334516|20220101|            05079|       Vermont|         Vershire|    6460 Vermont 113|\n",
       "|trx-378573229506|      85552|         7|    1|     59.99|    0.05|   Credit Card|    6|56.990499284863475|20220101|            94545|    California|          Hayward|  1265 Xavier Avenue|\n",
       "|trx-812311767786|      85525|        11|    8|    899.99|     0.2|        Stripe|    6| 5759.936085829735|20220101|            05301|       Vermont| West Brattleboro|     129 Glen Street|\n",
       "|trx-714156427993|      85519|         5|    4|     19.99|     0.0|        PayPal|    6|             79.96|20220101|            06040|   Connecticut|       Manchester|   52 Linnmore Drive|\n",
       "|trx-926752978689|      85553|        15|   10|     29.99|     0.0|        PayPal|    6|             299.9|20220101|            05461|       Vermont|        Hinesburg|     1313 North Road|\n",
       "|trx-377988149376|      85548|        30|    6|     24.99|     0.0|        Stripe|    6|            149.94|20220101|            35242|       Alabama|       Birmingham|3328 Sunny Meadow...|\n",
       "|trx-578810017511|      85510|        27|    2|     29.99|    0.05|        PayPal|    6| 56.98099928498268|20220101|            94601|    California|          Oakland| 3578 Galindo Street|\n",
       "|trx-935354519699|      85468|        10|    9|     39.99|     0.2|        Stripe|    6|287.92800429046156|20220101|            06040|   Connecticut|       Manchester|   396 Hartford Road|\n",
       "|trx-062565092206|      85534|         1|    2|    999.99|     0.2|        Stripe|    6|1599.9840238416195|20220101|            31405|       Georgia|         Savannah|1363 Dean Forest ...|\n",
       "|trx-291831425853|      85520|        13|    3|    149.99|     0.2|        Stripe|    6| 359.9760053640604|20220101|            31410|       Georgia|         Savannah|206 Blue Marlin D...|\n",
       "|trx-490934091046|      85488|        14|    5|    399.99|     0.0|        PayPal|    6|           1999.95|20220101|            37210|     Tennessee|        Nashville| 95 Claiborne Street|\n",
       "|trx-477242925566|      85505|         7|    7|     59.99|     0.0|        PayPal|    6|            419.93|20220101|            06042|   Connecticut|       Manchester|   23 Columbia Drive|\n",
       "|trx-657276071144|      85480|        28|   10|     19.99|     0.0|        PayPal|    6|199.89999999999998|20220101|            02151| Massachusetts|           Revere|   98 Lincoln Street|\n",
       "|trx-521851194970|      85470|         3|    6|    299.99|     0.0|   Credit Card|    6|           1799.94|20220101|            94702|    California|         Berkeley|  1209 Parker Street|\n",
       "|trx-835639572082|      85521|         6|    7|     49.99|     0.2|   Credit Card|    6| 279.9440041714907|20220101|            73162|      Oklahoma|    Oklahoma City|      11724 Rushmore|\n",
       "|trx-832513610642|      85532|        11|    3|    899.99|     0.0|        Stripe|    6|2699.9700000000003|20220101|            85301|       Arizona|         Glendale|6802 North 67th A...|\n",
       "+----------------+-----------+----------+-----+----------+--------+--------------+-----+------------------+--------+-----------------+--------------+-----------------+--------------------+\n",
       "only showing top 20 rows"
      ]
     },
     "execution_count": 78,
     "metadata": {},
     "output_type": "execute_result"
    }
   ],
   "source": [
    "online_fact_df=joined_df_2.select(\n",
    "    col(\"transaction_id\"),\n",
    "    col(\"customer_id\"),\n",
    "    col(\"product_id\"),\n",
    "    col(\"units\"),\n",
    "    col(\"unit_price\"),\n",
    "    col(\"discount\"),\n",
    "    col(\"payment_method\"),\n",
    "    col(\"group\"),\n",
    "    col(\"total_price\"),\n",
    "    col(\"date_key\"),\n",
    "    col(\"shipping_zip_code\"),\n",
    "    col(\"shipping_state\"),\n",
    "    col(\"shipping_city\"),\n",
    "    col(\"shipping_street_name\"))\n",
    "\n",
    "online_fact_df.coalesce(1)"
   ]
  },
  {
   "cell_type": "code",
   "execution_count": null,
   "id": "c285e7a8-00b4-4193-89b6-cbd9f93cacf4",
   "metadata": {},
   "outputs": [],
   "source": []
  },
  {
   "cell_type": "code",
   "execution_count": null,
   "id": "5f019d84-e75a-456c-b8ce-6573807b9e49",
   "metadata": {},
   "outputs": [],
   "source": []
  },
  {
   "cell_type": "code",
   "execution_count": null,
   "id": "29d73693-178e-4609-9e7e-6c1d1e849d84",
   "metadata": {},
   "outputs": [],
   "source": []
  },
  {
   "cell_type": "code",
   "execution_count": 79,
   "id": "2f975af4-650b-4d6d-89f6-e3e5fdc20408",
   "metadata": {},
   "outputs": [
    {
     "name": "stdout",
     "output_type": "stream",
     "text": [
      "+----------+-----------------+----------------+----------+\n",
      "|product_id|     product_name|product_category|unit_price|\n",
      "+----------+-----------------+----------------+----------+\n",
      "|        29|Hair Straightener|      Appliances|     39.99|\n",
      "|        19|          Sandals|        Footwear|     29.99|\n",
      "|        12|          Monitor|     Electronics|    299.99|\n",
      "|        17|           Blouse|        Clothing|     29.99|\n",
      "|        18|            Boots|        Footwear|    149.99|\n",
      "|        15|           Hoodie|        Clothing|     29.99|\n",
      "|        10|          Sandals|        Footwear|     39.99|\n",
      "|         1|           Laptop|     Electronics|    999.99|\n",
      "|         6|            Jeans|        Clothing|     49.99|\n",
      "|        16|            Skirt|        Clothing|     39.99|\n",
      "|         7|            Dress|        Clothing|     59.99|\n",
      "|        28|       Hair Dryer|      Appliances|     19.99|\n",
      "|         3|           Tablet|     Electronics|    299.99|\n",
      "|        14|           Camera|     Electronics|    399.99|\n",
      "|        20|            Heels|        Footwear|     59.99|\n",
      "|        25|  Washing Machine|      Appliances|    499.99|\n",
      "|        30|  Electric Kettle|      Appliances|     24.99|\n",
      "|         2|       Smartphone|     Electronics|    699.99|\n",
      "|        22|     Coffee Maker|      Appliances|     79.99|\n",
      "|         9|            Boots|        Footwear|    129.99|\n",
      "+----------+-----------------+----------------+----------+\n",
      "only showing top 20 rows\n",
      "\n"
     ]
    }
   ],
   "source": [
    "product_dim_df=all_groups_merged_df.select(\n",
    "    col(\"product_id\"),\n",
    "    col(\"product_name\"),\n",
    "    col(\"product_category\"),\n",
    "    col(\"unit_price\")).distinct()\n",
    "\n",
    "product_dim_df.show()"
   ]
  },
  {
   "cell_type": "code",
   "execution_count": 80,
   "id": "f7ab343a-1726-43aa-a52e-35a207961662",
   "metadata": {},
   "outputs": [
    {
     "data": {
      "text/html": [
       "<table border='1'>\n",
       "<tr><th>product_id</th><th>product_name</th><th>product_category</th><th>unit_price</th><th>product_key</th></tr>\n",
       "<tr><td>1</td><td>Laptop</td><td>Electronics</td><td>999.99</td><td>1</td></tr>\n",
       "<tr><td>2</td><td>Smartphone</td><td>Electronics</td><td>699.99</td><td>2</td></tr>\n",
       "<tr><td>3</td><td>Tablet</td><td>Electronics</td><td>299.99</td><td>3</td></tr>\n",
       "<tr><td>4</td><td>Headphones</td><td>Electronics</td><td>99.99</td><td>4</td></tr>\n",
       "<tr><td>5</td><td>T-Shirt</td><td>Clothing</td><td>19.99</td><td>5</td></tr>\n",
       "<tr><td>6</td><td>Jeans</td><td>Clothing</td><td>49.99</td><td>6</td></tr>\n",
       "<tr><td>7</td><td>Dress</td><td>Clothing</td><td>59.99</td><td>7</td></tr>\n",
       "<tr><td>8</td><td>Sneakers</td><td>Footwear</td><td>79.99</td><td>8</td></tr>\n",
       "<tr><td>9</td><td>Boots</td><td>Footwear</td><td>129.99</td><td>9</td></tr>\n",
       "<tr><td>10</td><td>Sandals</td><td>Footwear</td><td>39.99</td><td>10</td></tr>\n",
       "<tr><td>11</td><td>TV</td><td>Electronics</td><td>899.99</td><td>11</td></tr>\n",
       "<tr><td>12</td><td>Monitor</td><td>Electronics</td><td>299.99</td><td>12</td></tr>\n",
       "<tr><td>13</td><td>Printer</td><td>Electronics</td><td>149.99</td><td>13</td></tr>\n",
       "<tr><td>14</td><td>Camera</td><td>Electronics</td><td>399.99</td><td>14</td></tr>\n",
       "<tr><td>15</td><td>Hoodie</td><td>Clothing</td><td>29.99</td><td>15</td></tr>\n",
       "<tr><td>16</td><td>Skirt</td><td>Clothing</td><td>39.99</td><td>16</td></tr>\n",
       "<tr><td>17</td><td>Blouse</td><td>Clothing</td><td>29.99</td><td>17</td></tr>\n",
       "<tr><td>18</td><td>Boots</td><td>Footwear</td><td>149.99</td><td>18</td></tr>\n",
       "<tr><td>19</td><td>Sandals</td><td>Footwear</td><td>29.99</td><td>19</td></tr>\n",
       "<tr><td>20</td><td>Heels</td><td>Footwear</td><td>59.99</td><td>20</td></tr>\n",
       "</table>\n",
       "only showing top 20 rows\n"
      ],
      "text/plain": [
       "+----------+------------+----------------+----------+-----------+\n",
       "|product_id|product_name|product_category|unit_price|product_key|\n",
       "+----------+------------+----------------+----------+-----------+\n",
       "|         1|      Laptop|     Electronics|    999.99|          1|\n",
       "|         2|  Smartphone|     Electronics|    699.99|          2|\n",
       "|         3|      Tablet|     Electronics|    299.99|          3|\n",
       "|         4|  Headphones|     Electronics|     99.99|          4|\n",
       "|         5|     T-Shirt|        Clothing|     19.99|          5|\n",
       "|         6|       Jeans|        Clothing|     49.99|          6|\n",
       "|         7|       Dress|        Clothing|     59.99|          7|\n",
       "|         8|    Sneakers|        Footwear|     79.99|          8|\n",
       "|         9|       Boots|        Footwear|    129.99|          9|\n",
       "|        10|     Sandals|        Footwear|     39.99|         10|\n",
       "|        11|          TV|     Electronics|    899.99|         11|\n",
       "|        12|     Monitor|     Electronics|    299.99|         12|\n",
       "|        13|     Printer|     Electronics|    149.99|         13|\n",
       "|        14|      Camera|     Electronics|    399.99|         14|\n",
       "|        15|      Hoodie|        Clothing|     29.99|         15|\n",
       "|        16|       Skirt|        Clothing|     39.99|         16|\n",
       "|        17|      Blouse|        Clothing|     29.99|         17|\n",
       "|        18|       Boots|        Footwear|    149.99|         18|\n",
       "|        19|     Sandals|        Footwear|     29.99|         19|\n",
       "|        20|       Heels|        Footwear|     59.99|         20|\n",
       "+----------+------------+----------------+----------+-----------+\n",
       "only showing top 20 rows"
      ]
     },
     "execution_count": 80,
     "metadata": {},
     "output_type": "execute_result"
    }
   ],
   "source": [
    "# Define a Window specification\n",
    "window_spec = Window.orderBy(\"product_id\")\n",
    "\n",
    "# Add a product_key column using row_number\n",
    "product_dim_df = product_dim_df.withColumn(\"product_key\", row_number().over(window_spec))\n",
    "\n",
    "product_dim_df.coalesce(1)"
   ]
  },
  {
   "cell_type": "code",
   "execution_count": 81,
   "id": "84872ebf-dd98-43bb-811f-0dc9f7ae5baf",
   "metadata": {},
   "outputs": [],
   "source": [
    "# Write the merged DataFrame to a single CSV file\n",
    "output_path = \"/Graduation_Project/transformed_data/schema/products_dim.csv\"\n",
    "product_dim_df.coalesce(1).write.mode('overwrite').csv(output_path, header=True)"
   ]
  },
  {
   "cell_type": "code",
   "execution_count": 82,
   "id": "14fc8556-5379-4ba6-82a0-ab87c3c0b689",
   "metadata": {},
   "outputs": [],
   "source": [
    "# Perform an inner join on transaction_date and date\n",
    "online_fact_df = online_fact_df.join(product_dim_df, online_fact_df[\"product_id\"] == product_dim_df[\"product_id\"], \"inner\")"
   ]
  },
  {
   "cell_type": "code",
   "execution_count": 83,
   "id": "11cd5814-01e0-481b-98ad-0ade586e9068",
   "metadata": {},
   "outputs": [
    {
     "data": {
      "text/html": [
       "<table border='1'>\n",
       "<tr><th>transaction_id</th><th>customer_id</th><th>product_id</th><th>units</th><th>unit_price</th><th>discount</th><th>payment_method</th><th>group</th><th>total_price</th><th>date_key</th><th>shipping_zip_code</th><th>shipping_state</th><th>shipping_city</th><th>shipping_street_name</th><th>product_id</th><th>product_name</th><th>product_category</th><th>unit_price</th><th>product_key</th></tr>\n",
       "<tr><td>trx-549713340293</td><td>85522</td><td>26</td><td>8</td><td>199.99</td><td>0.0</td><td>Stripe</td><td>6</td><td>1599.92</td><td>20220101</td><td>21114</td><td>Maryland</td><td>Crofton</td><td>1630 Eton Way</td><td>26</td><td>Vacuum Cleaner</td><td>Appliances</td><td>199.99</td><td>26</td></tr>\n",
       "<tr><td>trx-120912375499</td><td>85483</td><td>26</td><td>4</td><td>199.99</td><td>0.0</td><td>Credit Card</td><td>6</td><td>799.96</td><td>20220102</td><td>01902</td><td>Massachusetts</td><td>Lynn</td><td>172 Chestnut Street</td><td>26</td><td>Vacuum Cleaner</td><td>Appliances</td><td>199.99</td><td>26</td></tr>\n",
       "<tr><td>trx-500133384271</td><td>85504</td><td>26</td><td>3</td><td>199.99</td><td>0.0</td><td>PayPal</td><td>6</td><td>599.97</td><td>20220102</td><td>01719</td><td>Massachusetts</td><td>Boxborough</td><td>302 Depot Road</td><td>26</td><td>Vacuum Cleaner</td><td>Appliances</td><td>199.99</td><td>26</td></tr>\n",
       "<tr><td>trx-741895782895</td><td>85550</td><td>26</td><td>4</td><td>199.99</td><td>0.0</td><td>Credit Card</td><td>6</td><td>799.96</td><td>20220102</td><td>05075</td><td>Vermont</td><td>Thetford</td><td>398 Gove Hill Road</td><td>26</td><td>Vacuum Cleaner</td><td>Appliances</td><td>199.99</td><td>26</td></tr>\n",
       "<tr><td>trx-830547671067</td><td>85464</td><td>26</td><td>5</td><td>199.99</td><td>0.0</td><td>Stripe</td><td>6</td><td>999.95</td><td>20220103</td><td>99611</td><td>Alaska</td><td>Kenai</td><td>51185 Helmsman St...</td><td>26</td><td>Vacuum Cleaner</td><td>Appliances</td><td>199.99</td><td>26</td></tr>\n",
       "<tr><td>trx-087732089100</td><td>85534</td><td>26</td><td>5</td><td>199.99</td><td>0.15</td><td>PayPal</td><td>6</td><td>849.9575238406659</td><td>20220103</td><td>21122</td><td>Maryland</td><td>Pasadena</td><td>202 Winston Road</td><td>26</td><td>Vacuum Cleaner</td><td>Appliances</td><td>199.99</td><td>26</td></tr>\n",
       "<tr><td>trx-227505126526</td><td>85504</td><td>26</td><td>10</td><td>199.99</td><td>0.15</td><td>Stripe</td><td>6</td><td>1699.9150476813318</td><td>20220103</td><td>06040</td><td>Connecticut</td><td>Manchester</td><td>89 Frances Drive</td><td>26</td><td>Vacuum Cleaner</td><td>Appliances</td><td>199.99</td><td>26</td></tr>\n",
       "<tr><td>trx-512595649334</td><td>85561</td><td>26</td><td>8</td><td>199.99</td><td>0.0</td><td>Credit Card</td><td>6</td><td>1599.92</td><td>20220103</td><td>85304</td><td>Arizona</td><td>Glendale</td><td>13066 North 56th ...</td><td>26</td><td>Vacuum Cleaner</td><td>Appliances</td><td>199.99</td><td>26</td></tr>\n",
       "<tr><td>trx-950565917451</td><td>85512</td><td>26</td><td>5</td><td>199.99</td><td>0.0</td><td>Stripe</td><td>6</td><td>999.95</td><td>20220103</td><td>21060</td><td>Maryland</td><td>Glen Burnie</td><td>140 William Chamb...</td><td>26</td><td>Vacuum Cleaner</td><td>Appliances</td><td>199.99</td><td>26</td></tr>\n",
       "<tr><td>trx-361642366546</td><td>85526</td><td>26</td><td>5</td><td>199.99</td><td>0.2</td><td>Credit Card</td><td>6</td><td>799.9600119203329</td><td>20220104</td><td>36116</td><td>Alabama</td><td>Montgomery</td><td>4560 Hurlston Drive</td><td>26</td><td>Vacuum Cleaner</td><td>Appliances</td><td>199.99</td><td>26</td></tr>\n",
       "<tr><td>trx-427707072114</td><td>85500</td><td>26</td><td>1</td><td>199.99</td><td>0.0</td><td>Credit Card</td><td>6</td><td>199.99</td><td>20220104</td><td>02155</td><td>Massachusetts</td><td>Medford</td><td>190 High Street</td><td>26</td><td>Vacuum Cleaner</td><td>Appliances</td><td>199.99</td><td>26</td></tr>\n",
       "<tr><td>trx-908944532247</td><td>85467</td><td>26</td><td>6</td><td>199.99</td><td>0.2</td><td>Stripe</td><td>6</td><td>959.9520143043995</td><td>20220105</td><td>94538</td><td>California</td><td>Fremont</td><td>40700 Penn Lane</td><td>26</td><td>Vacuum Cleaner</td><td>Appliances</td><td>199.99</td><td>26</td></tr>\n",
       "<tr><td>trx-154432424782</td><td>85549</td><td>26</td><td>7</td><td>199.99</td><td>0.15</td><td>PayPal</td><td>6</td><td>1189.9405333769323</td><td>20220105</td><td>32456</td><td>Florida</td><td>Mexico Beach</td><td>3203 US Highway 98</td><td>26</td><td>Vacuum Cleaner</td><td>Appliances</td><td>199.99</td><td>26</td></tr>\n",
       "<tr><td>trx-121390622491</td><td>85474</td><td>26</td><td>1</td><td>199.99</td><td>0.0</td><td>Stripe</td><td>6</td><td>199.99</td><td>20220106</td><td>01801</td><td>Massachusetts</td><td>Woburn</td><td>78 School Street</td><td>26</td><td>Vacuum Cleaner</td><td>Appliances</td><td>199.99</td><td>26</td></tr>\n",
       "<tr><td>trx-444236770189</td><td>85521</td><td>26</td><td>2</td><td>199.99</td><td>0.1</td><td>Stripe</td><td>6</td><td>359.98199046373367</td><td>20220107</td><td>73120</td><td>Oklahoma</td><td>Oklahoma City</td><td>1537 Northwest 12...</td><td>26</td><td>Vacuum Cleaner</td><td>Appliances</td><td>199.99</td><td>26</td></tr>\n",
       "<tr><td>trx-573555731252</td><td>85502</td><td>26</td><td>9</td><td>199.99</td><td>0.0</td><td>PayPal</td><td>6</td><td>1799.91</td><td>20220107</td><td>32409</td><td>Florida</td><td>Southport</td><td>711 Tashanna Lane</td><td>26</td><td>Vacuum Cleaner</td><td>Appliances</td><td>199.99</td><td>26</td></tr>\n",
       "<tr><td>trx-638667412178</td><td>85523</td><td>26</td><td>4</td><td>199.99</td><td>0.0</td><td>PayPal</td><td>6</td><td>799.96</td><td>20220107</td><td>85355</td><td>Arizona</td><td>Waddell</td><td>10304 North 179th...</td><td>26</td><td>Vacuum Cleaner</td><td>Appliances</td><td>199.99</td><td>26</td></tr>\n",
       "<tr><td>trx-411930500153</td><td>85540</td><td>26</td><td>6</td><td>199.99</td><td>0.2</td><td>PayPal</td><td>6</td><td>959.9520143043995</td><td>20220108</td><td>06040</td><td>Connecticut</td><td>Manchester</td><td>173 Spruce Street</td><td>26</td><td>Vacuum Cleaner</td><td>Appliances</td><td>199.99</td><td>26</td></tr>\n",
       "<tr><td>trx-815454456612</td><td>85466</td><td>26</td><td>6</td><td>199.99</td><td>0.0</td><td>Credit Card</td><td>6</td><td>1199.94</td><td>20220108</td><td>20019</td><td>District of Columbia</td><td>Washington</td><td>4341 Ponds Street...</td><td>26</td><td>Vacuum Cleaner</td><td>Appliances</td><td>199.99</td><td>26</td></tr>\n",
       "<tr><td>trx-058836766984</td><td>85501</td><td>26</td><td>3</td><td>199.99</td><td>0.0</td><td>Credit Card</td><td>4</td><td>599.97</td><td>20220109</td><td>06040</td><td>Connecticut</td><td>Manchester</td><td>115 Waddell Road</td><td>26</td><td>Vacuum Cleaner</td><td>Appliances</td><td>199.99</td><td>26</td></tr>\n",
       "</table>\n",
       "only showing top 20 rows\n"
      ],
      "text/plain": [
       "+----------------+-----------+----------+-----+----------+--------+--------------+-----+------------------+--------+-----------------+--------------------+-------------+--------------------+----------+--------------+----------------+----------+-----------+\n",
       "|  transaction_id|customer_id|product_id|units|unit_price|discount|payment_method|group|       total_price|date_key|shipping_zip_code|      shipping_state|shipping_city|shipping_street_name|product_id|  product_name|product_category|unit_price|product_key|\n",
       "+----------------+-----------+----------+-----+----------+--------+--------------+-----+------------------+--------+-----------------+--------------------+-------------+--------------------+----------+--------------+----------------+----------+-----------+\n",
       "|trx-549713340293|      85522|        26|    8|    199.99|     0.0|        Stripe|    6|           1599.92|20220101|            21114|            Maryland|      Crofton|       1630 Eton Way|        26|Vacuum Cleaner|      Appliances|    199.99|         26|\n",
       "|trx-120912375499|      85483|        26|    4|    199.99|     0.0|   Credit Card|    6|            799.96|20220102|            01902|       Massachusetts|         Lynn| 172 Chestnut Street|        26|Vacuum Cleaner|      Appliances|    199.99|         26|\n",
       "|trx-500133384271|      85504|        26|    3|    199.99|     0.0|        PayPal|    6|            599.97|20220102|            01719|       Massachusetts|   Boxborough|      302 Depot Road|        26|Vacuum Cleaner|      Appliances|    199.99|         26|\n",
       "|trx-741895782895|      85550|        26|    4|    199.99|     0.0|   Credit Card|    6|            799.96|20220102|            05075|             Vermont|     Thetford|  398 Gove Hill Road|        26|Vacuum Cleaner|      Appliances|    199.99|         26|\n",
       "|trx-830547671067|      85464|        26|    5|    199.99|     0.0|        Stripe|    6|            999.95|20220103|            99611|              Alaska|        Kenai|51185 Helmsman St...|        26|Vacuum Cleaner|      Appliances|    199.99|         26|\n",
       "|trx-087732089100|      85534|        26|    5|    199.99|    0.15|        PayPal|    6| 849.9575238406659|20220103|            21122|            Maryland|     Pasadena|    202 Winston Road|        26|Vacuum Cleaner|      Appliances|    199.99|         26|\n",
       "|trx-227505126526|      85504|        26|   10|    199.99|    0.15|        Stripe|    6|1699.9150476813318|20220103|            06040|         Connecticut|   Manchester|    89 Frances Drive|        26|Vacuum Cleaner|      Appliances|    199.99|         26|\n",
       "|trx-512595649334|      85561|        26|    8|    199.99|     0.0|   Credit Card|    6|           1599.92|20220103|            85304|             Arizona|     Glendale|13066 North 56th ...|        26|Vacuum Cleaner|      Appliances|    199.99|         26|\n",
       "|trx-950565917451|      85512|        26|    5|    199.99|     0.0|        Stripe|    6|            999.95|20220103|            21060|            Maryland|  Glen Burnie|140 William Chamb...|        26|Vacuum Cleaner|      Appliances|    199.99|         26|\n",
       "|trx-361642366546|      85526|        26|    5|    199.99|     0.2|   Credit Card|    6| 799.9600119203329|20220104|            36116|             Alabama|   Montgomery| 4560 Hurlston Drive|        26|Vacuum Cleaner|      Appliances|    199.99|         26|\n",
       "|trx-427707072114|      85500|        26|    1|    199.99|     0.0|   Credit Card|    6|            199.99|20220104|            02155|       Massachusetts|      Medford|     190 High Street|        26|Vacuum Cleaner|      Appliances|    199.99|         26|\n",
       "|trx-908944532247|      85467|        26|    6|    199.99|     0.2|        Stripe|    6| 959.9520143043995|20220105|            94538|          California|      Fremont|     40700 Penn Lane|        26|Vacuum Cleaner|      Appliances|    199.99|         26|\n",
       "|trx-154432424782|      85549|        26|    7|    199.99|    0.15|        PayPal|    6|1189.9405333769323|20220105|            32456|             Florida| Mexico Beach|  3203 US Highway 98|        26|Vacuum Cleaner|      Appliances|    199.99|         26|\n",
       "|trx-121390622491|      85474|        26|    1|    199.99|     0.0|        Stripe|    6|            199.99|20220106|            01801|       Massachusetts|       Woburn|    78 School Street|        26|Vacuum Cleaner|      Appliances|    199.99|         26|\n",
       "|trx-444236770189|      85521|        26|    2|    199.99|     0.1|        Stripe|    6|359.98199046373367|20220107|            73120|            Oklahoma|Oklahoma City|1537 Northwest 12...|        26|Vacuum Cleaner|      Appliances|    199.99|         26|\n",
       "|trx-573555731252|      85502|        26|    9|    199.99|     0.0|        PayPal|    6|           1799.91|20220107|            32409|             Florida|    Southport|   711 Tashanna Lane|        26|Vacuum Cleaner|      Appliances|    199.99|         26|\n",
       "|trx-638667412178|      85523|        26|    4|    199.99|     0.0|        PayPal|    6|            799.96|20220107|            85355|             Arizona|      Waddell|10304 North 179th...|        26|Vacuum Cleaner|      Appliances|    199.99|         26|\n",
       "|trx-411930500153|      85540|        26|    6|    199.99|     0.2|        PayPal|    6| 959.9520143043995|20220108|            06040|         Connecticut|   Manchester|   173 Spruce Street|        26|Vacuum Cleaner|      Appliances|    199.99|         26|\n",
       "|trx-815454456612|      85466|        26|    6|    199.99|     0.0|   Credit Card|    6|           1199.94|20220108|            20019|District of Columbia|   Washington|4341 Ponds Street...|        26|Vacuum Cleaner|      Appliances|    199.99|         26|\n",
       "|trx-058836766984|      85501|        26|    3|    199.99|     0.0|   Credit Card|    4|            599.97|20220109|            06040|         Connecticut|   Manchester|    115 Waddell Road|        26|Vacuum Cleaner|      Appliances|    199.99|         26|\n",
       "+----------------+-----------+----------+-----+----------+--------+--------------+-----+------------------+--------+-----------------+--------------------+-------------+--------------------+----------+--------------+----------------+----------+-----------+\n",
       "only showing top 20 rows"
      ]
     },
     "execution_count": 83,
     "metadata": {},
     "output_type": "execute_result"
    }
   ],
   "source": [
    "online_fact_df.coalesce(1)"
   ]
  },
  {
   "cell_type": "code",
   "execution_count": 84,
   "id": "7d573c63-74c7-4842-8733-bf89058fa335",
   "metadata": {},
   "outputs": [
    {
     "data": {
      "text/html": [
       "<table border='1'>\n",
       "<tr><th>transaction_id</th><th>customer_id</th><th>units</th><th>discount</th><th>payment_method</th><th>group</th><th>total_price</th><th>date_key</th><th>shipping_zip_code</th><th>shipping_state</th><th>shipping_city</th><th>shipping_street_name</th><th>product_key</th></tr>\n",
       "<tr><td>trx-038966531476</td><td>85511</td><td>9</td><td>0.0</td><td>PayPal</td><td>2</td><td>8099.91</td><td>20220101</td><td>05446</td><td>Vermont</td><td>Colchester</td><td>1783 Blakely Road</td><td>11</td></tr>\n",
       "<tr><td>trx-196650129641</td><td>85502</td><td>1</td><td>0.0</td><td>Stripe</td><td>2</td><td>79.99</td><td>20220101</td><td>02149</td><td>Massachusetts</td><td>Everett</td><td>88 Shute Street</td><td>8</td></tr>\n",
       "<tr><td>trx-961186738199</td><td>85540</td><td>8</td><td>0.2</td><td>PayPal</td><td>3</td><td>831.9360123968125</td><td>20220101</td><td>05478</td><td>Vermont</td><td>Saint Albans City</td><td>45 Parsons Avenue</td><td>9</td></tr>\n",
       "<tr><td>trx-961186738199</td><td>85540</td><td>8</td><td>0.2</td><td>PayPal</td><td>1</td><td>831.9360123968125</td><td>20220101</td><td>05478</td><td>Vermont</td><td>Saint Albans City</td><td>45 Parsons Avenue</td><td>9</td></tr>\n",
       "<tr><td>trx-807433736285</td><td>85505</td><td>9</td><td>0.2</td><td>Stripe</td><td>4</td><td>359.92800536334516</td><td>20220101</td><td>05079</td><td>Vermont</td><td>Vershire</td><td>6460 Vermont 113</td><td>24</td></tr>\n",
       "<tr><td>trx-378573229506</td><td>85552</td><td>1</td><td>0.05</td><td>Credit Card</td><td>6</td><td>56.990499284863475</td><td>20220101</td><td>94545</td><td>California</td><td>Hayward</td><td>1265 Xavier Avenue</td><td>7</td></tr>\n",
       "<tr><td>trx-812311767786</td><td>85525</td><td>8</td><td>0.2</td><td>Stripe</td><td>6</td><td>5759.936085829735</td><td>20220101</td><td>05301</td><td>Vermont</td><td>West Brattleboro</td><td>129 Glen Street</td><td>11</td></tr>\n",
       "<tr><td>trx-714156427993</td><td>85519</td><td>4</td><td>0.0</td><td>PayPal</td><td>6</td><td>79.96</td><td>20220101</td><td>06040</td><td>Connecticut</td><td>Manchester</td><td>52 Linnmore Drive</td><td>5</td></tr>\n",
       "<tr><td>trx-926752978689</td><td>85553</td><td>10</td><td>0.0</td><td>PayPal</td><td>6</td><td>299.9</td><td>20220101</td><td>05461</td><td>Vermont</td><td>Hinesburg</td><td>1313 North Road</td><td>15</td></tr>\n",
       "<tr><td>trx-377988149376</td><td>85548</td><td>6</td><td>0.0</td><td>Stripe</td><td>6</td><td>149.94</td><td>20220101</td><td>35242</td><td>Alabama</td><td>Birmingham</td><td>3328 Sunny Meadow...</td><td>30</td></tr>\n",
       "<tr><td>trx-578810017511</td><td>85510</td><td>2</td><td>0.05</td><td>PayPal</td><td>6</td><td>56.98099928498268</td><td>20220101</td><td>94601</td><td>California</td><td>Oakland</td><td>3578 Galindo Street</td><td>27</td></tr>\n",
       "<tr><td>trx-935354519699</td><td>85468</td><td>9</td><td>0.2</td><td>Stripe</td><td>6</td><td>287.92800429046156</td><td>20220101</td><td>06040</td><td>Connecticut</td><td>Manchester</td><td>396 Hartford Road</td><td>10</td></tr>\n",
       "<tr><td>trx-062565092206</td><td>85534</td><td>2</td><td>0.2</td><td>Stripe</td><td>6</td><td>1599.9840238416195</td><td>20220101</td><td>31405</td><td>Georgia</td><td>Savannah</td><td>1363 Dean Forest ...</td><td>1</td></tr>\n",
       "<tr><td>trx-291831425853</td><td>85520</td><td>3</td><td>0.2</td><td>Stripe</td><td>6</td><td>359.9760053640604</td><td>20220101</td><td>31410</td><td>Georgia</td><td>Savannah</td><td>206 Blue Marlin D...</td><td>13</td></tr>\n",
       "<tr><td>trx-490934091046</td><td>85488</td><td>5</td><td>0.0</td><td>PayPal</td><td>6</td><td>1999.95</td><td>20220101</td><td>37210</td><td>Tennessee</td><td>Nashville</td><td>95 Claiborne Street</td><td>14</td></tr>\n",
       "<tr><td>trx-477242925566</td><td>85505</td><td>7</td><td>0.0</td><td>PayPal</td><td>6</td><td>419.93</td><td>20220101</td><td>06042</td><td>Connecticut</td><td>Manchester</td><td>23 Columbia Drive</td><td>7</td></tr>\n",
       "<tr><td>trx-657276071144</td><td>85480</td><td>10</td><td>0.0</td><td>PayPal</td><td>6</td><td>199.89999999999998</td><td>20220101</td><td>02151</td><td>Massachusetts</td><td>Revere</td><td>98 Lincoln Street</td><td>28</td></tr>\n",
       "<tr><td>trx-521851194970</td><td>85470</td><td>6</td><td>0.0</td><td>Credit Card</td><td>6</td><td>1799.94</td><td>20220101</td><td>94702</td><td>California</td><td>Berkeley</td><td>1209 Parker Street</td><td>3</td></tr>\n",
       "<tr><td>trx-835639572082</td><td>85521</td><td>7</td><td>0.2</td><td>Credit Card</td><td>6</td><td>279.9440041714907</td><td>20220101</td><td>73162</td><td>Oklahoma</td><td>Oklahoma City</td><td>11724 Rushmore</td><td>6</td></tr>\n",
       "<tr><td>trx-832513610642</td><td>85532</td><td>3</td><td>0.0</td><td>Stripe</td><td>6</td><td>2699.9700000000003</td><td>20220101</td><td>85301</td><td>Arizona</td><td>Glendale</td><td>6802 North 67th A...</td><td>11</td></tr>\n",
       "</table>\n",
       "only showing top 20 rows\n"
      ],
      "text/plain": [
       "+----------------+-----------+-----+--------+--------------+-----+------------------+--------+-----------------+--------------+-----------------+--------------------+-----------+\n",
       "|  transaction_id|customer_id|units|discount|payment_method|group|       total_price|date_key|shipping_zip_code|shipping_state|    shipping_city|shipping_street_name|product_key|\n",
       "+----------------+-----------+-----+--------+--------------+-----+------------------+--------+-----------------+--------------+-----------------+--------------------+-----------+\n",
       "|trx-038966531476|      85511|    9|     0.0|        PayPal|    2|           8099.91|20220101|            05446|       Vermont|       Colchester|   1783 Blakely Road|         11|\n",
       "|trx-196650129641|      85502|    1|     0.0|        Stripe|    2|             79.99|20220101|            02149| Massachusetts|          Everett|     88 Shute Street|          8|\n",
       "|trx-961186738199|      85540|    8|     0.2|        PayPal|    3| 831.9360123968125|20220101|            05478|       Vermont|Saint Albans City|   45 Parsons Avenue|          9|\n",
       "|trx-961186738199|      85540|    8|     0.2|        PayPal|    1| 831.9360123968125|20220101|            05478|       Vermont|Saint Albans City|   45 Parsons Avenue|          9|\n",
       "|trx-807433736285|      85505|    9|     0.2|        Stripe|    4|359.92800536334516|20220101|            05079|       Vermont|         Vershire|    6460 Vermont 113|         24|\n",
       "|trx-378573229506|      85552|    1|    0.05|   Credit Card|    6|56.990499284863475|20220101|            94545|    California|          Hayward|  1265 Xavier Avenue|          7|\n",
       "|trx-812311767786|      85525|    8|     0.2|        Stripe|    6| 5759.936085829735|20220101|            05301|       Vermont| West Brattleboro|     129 Glen Street|         11|\n",
       "|trx-714156427993|      85519|    4|     0.0|        PayPal|    6|             79.96|20220101|            06040|   Connecticut|       Manchester|   52 Linnmore Drive|          5|\n",
       "|trx-926752978689|      85553|   10|     0.0|        PayPal|    6|             299.9|20220101|            05461|       Vermont|        Hinesburg|     1313 North Road|         15|\n",
       "|trx-377988149376|      85548|    6|     0.0|        Stripe|    6|            149.94|20220101|            35242|       Alabama|       Birmingham|3328 Sunny Meadow...|         30|\n",
       "|trx-578810017511|      85510|    2|    0.05|        PayPal|    6| 56.98099928498268|20220101|            94601|    California|          Oakland| 3578 Galindo Street|         27|\n",
       "|trx-935354519699|      85468|    9|     0.2|        Stripe|    6|287.92800429046156|20220101|            06040|   Connecticut|       Manchester|   396 Hartford Road|         10|\n",
       "|trx-062565092206|      85534|    2|     0.2|        Stripe|    6|1599.9840238416195|20220101|            31405|       Georgia|         Savannah|1363 Dean Forest ...|          1|\n",
       "|trx-291831425853|      85520|    3|     0.2|        Stripe|    6| 359.9760053640604|20220101|            31410|       Georgia|         Savannah|206 Blue Marlin D...|         13|\n",
       "|trx-490934091046|      85488|    5|     0.0|        PayPal|    6|           1999.95|20220101|            37210|     Tennessee|        Nashville| 95 Claiborne Street|         14|\n",
       "|trx-477242925566|      85505|    7|     0.0|        PayPal|    6|            419.93|20220101|            06042|   Connecticut|       Manchester|   23 Columbia Drive|          7|\n",
       "|trx-657276071144|      85480|   10|     0.0|        PayPal|    6|199.89999999999998|20220101|            02151| Massachusetts|           Revere|   98 Lincoln Street|         28|\n",
       "|trx-521851194970|      85470|    6|     0.0|   Credit Card|    6|           1799.94|20220101|            94702|    California|         Berkeley|  1209 Parker Street|          3|\n",
       "|trx-835639572082|      85521|    7|     0.2|   Credit Card|    6| 279.9440041714907|20220101|            73162|      Oklahoma|    Oklahoma City|      11724 Rushmore|          6|\n",
       "|trx-832513610642|      85532|    3|     0.0|        Stripe|    6|2699.9700000000003|20220101|            85301|       Arizona|         Glendale|6802 North 67th A...|         11|\n",
       "+----------------+-----------+-----+--------+--------------+-----+------------------+--------+-----------------+--------------+-----------------+--------------------+-----------+\n",
       "only showing top 20 rows"
      ]
     },
     "execution_count": 84,
     "metadata": {},
     "output_type": "execute_result"
    }
   ],
   "source": [
    "online_fact_df=online_fact_df.drop(\"product_id\", \"product_name\", \"product_category\", \"unit_price\")\n",
    "online_fact_df.coalesce(1)"
   ]
  },
  {
   "cell_type": "code",
   "execution_count": null,
   "id": "c883f2b5-917e-43ae-8898-ca38f7d653f9",
   "metadata": {},
   "outputs": [],
   "source": []
  },
  {
   "cell_type": "code",
   "execution_count": 85,
   "id": "6435ab3f-0721-4006-9c9e-7d3c5f701715",
   "metadata": {},
   "outputs": [],
   "source": [
    "# Perform an inner join on transaction_date and date\n",
    "offline_fact_df = offline_fact_df.join(product_dim_df, offline_fact_df[\"product_id\"] == product_dim_df[\"product_id\"], \"inner\")\n"
   ]
  },
  {
   "cell_type": "code",
   "execution_count": 86,
   "id": "a99f32f1-5c5c-41f7-8a4a-7b72b0e5cc9e",
   "metadata": {},
   "outputs": [
    {
     "data": {
      "text/html": [
       "<table border='1'>\n",
       "<tr><th>transaction_id</th><th>customer_id</th><th>sales_agent_id</th><th>branch_id</th><th>units</th><th>discount</th><th>payment_method</th><th>total_price</th><th>date_key</th><th>product_key</th></tr>\n",
       "<tr><td>trx-407964138068</td><td>85479</td><td>4.0</td><td>5.0</td><td>8</td><td>0.1</td><td>Cash</td><td>3599.927904634476</td><td>20221005</td><td>25</td></tr>\n",
       "<tr><td>trx-843694845999</td><td>85506</td><td>11.0</td><td>1.0</td><td>10</td><td>0.05</td><td>Credit Card</td><td>284.9049964249134</td><td>20221005</td><td>15</td></tr>\n",
       "<tr><td>trx-548311587674</td><td>85541</td><td>5.0</td><td>3.0</td><td>10</td><td>0.05</td><td>Cash</td><td>284.9049964249134</td><td>20221005</td><td>19</td></tr>\n",
       "<tr><td>trx-611821275884</td><td>85470</td><td>7.0</td><td>5.0</td><td>1</td><td>0.0</td><td>Credit Card</td><td>499.99</td><td>20221005</td><td>25</td></tr>\n",
       "<tr><td>trx-527486306638</td><td>85544</td><td>10.0</td><td>2.0</td><td>5</td><td>0.1</td><td>Cash</td><td>179.95499523282052</td><td>20221005</td><td>23</td></tr>\n",
       "<tr><td>trx-012682136132</td><td>85480</td><td>1.0</td><td>4.0</td><td>4</td><td>0.1</td><td>Cash</td><td>71.96399809360504</td><td>20221005</td><td>5</td></tr>\n",
       "<tr><td>trx-167057015608</td><td>85519</td><td>8.0</td><td>2.0</td><td>10</td><td>0.0</td><td>Cash</td><td>599.9</td><td>20221005</td><td>7</td></tr>\n",
       "<tr><td>trx-655869782401</td><td>85527</td><td>8.0</td><td>2.0</td><td>10</td><td>0.2</td><td>Cash</td><td>159.9200023829937</td><td>20221005</td><td>28</td></tr>\n",
       "<tr><td>trx-725477728975</td><td>85462</td><td>4.0</td><td>6.0</td><td>6</td><td>0.0</td><td>Cash</td><td>899.94</td><td>20221005</td><td>18</td></tr>\n",
       "<tr><td>trx-079756546639</td><td>85531</td><td>8.0</td><td>2.0</td><td>5</td><td>0.0</td><td>Credit Card</td><td>199.95000000000002</td><td>20221005</td><td>16</td></tr>\n",
       "<tr><td>trx-535286586168</td><td>85510</td><td>7.0</td><td>6.0</td><td>7</td><td>0.05</td><td>Credit Card</td><td>1994.933474966884</td><td>20221005</td><td>12</td></tr>\n",
       "<tr><td>trx-084210619674</td><td>85485</td><td>8.0</td><td>6.0</td><td>10</td><td>0.2</td><td>Cash</td><td>479.92000715136527</td><td>20221005</td><td>7</td></tr>\n",
       "<tr><td>trx-881038300170</td><td>85477</td><td>5.0</td><td>3.0</td><td>8</td><td>0.0</td><td>Credit Card</td><td>159.92</td><td>20221005</td><td>5</td></tr>\n",
       "<tr><td>trx-266248391098</td><td>85502</td><td>4.0</td><td>5.0</td><td>7</td><td>0.0</td><td>Credit Card</td><td>559.93</td><td>20221005</td><td>8</td></tr>\n",
       "<tr><td>trx-447618449080</td><td>85494</td><td>11.0</td><td>5.0</td><td>1</td><td>0.0</td><td>Credit Card</td><td>149.99</td><td>20221005</td><td>13</td></tr>\n",
       "<tr><td>trx-333773541049</td><td>85522</td><td>11.0</td><td>5.0</td><td>10</td><td>0.1</td><td>Cash</td><td>449.90998808145525</td><td>20221005</td><td>24</td></tr>\n",
       "<tr><td>trx-645813525610</td><td>85487</td><td>8.0</td><td>6.0</td><td>5</td><td>0.0</td><td>Cash</td><td>999.95</td><td>20221005</td><td>26</td></tr>\n",
       "<tr><td>trx-307991756457</td><td>85499</td><td>10.0</td><td>3.0</td><td>7</td><td>0.0</td><td>Cash</td><td>209.92999999999998</td><td>20221005</td><td>19</td></tr>\n",
       "<tr><td>trx-866999434394</td><td>85556</td><td>9.0</td><td>4.0</td><td>10</td><td>0.0</td><td>Credit Card</td><td>2999.9</td><td>20221005</td><td>12</td></tr>\n",
       "<tr><td>trx-452855447162</td><td>85501</td><td>8.0</td><td>6.0</td><td>6</td><td>0.15</td><td>Cash</td><td>2549.949071524143</td><td>20221005</td><td>25</td></tr>\n",
       "</table>\n",
       "only showing top 20 rows\n"
      ],
      "text/plain": [
       "+----------------+-----------+--------------+---------+-----+--------+--------------+------------------+--------+-----------+\n",
       "|  transaction_id|customer_id|sales_agent_id|branch_id|units|discount|payment_method|       total_price|date_key|product_key|\n",
       "+----------------+-----------+--------------+---------+-----+--------+--------------+------------------+--------+-----------+\n",
       "|trx-076399480608|      85543|           4.0|      5.0|   10|    0.15|          Cash|  339.915009534359|20221005|         29|\n",
       "|trx-869094373006|      85492|          11.0|      2.0|    4|     0.0|          Cash|            319.96|20221005|          8|\n",
       "|trx-503367123686|      85503|          11.0|      3.0|    8|     0.0|   Credit Card|            319.92|20221005|         16|\n",
       "|trx-174908107361|      85509|           3.0|      1.0|    4|     0.2|          Cash|1599.9680238413812|20221005|         25|\n",
       "|trx-425712974649|      85557|           9.0|      4.0|    3|     0.2|   Credit Card| 359.9760053640604|20221005|         18|\n",
       "|trx-130879848938|      85504|           8.0|      3.0|    3|     0.0|   Credit Card|2099.9700000000003|20221005|          2|\n",
       "|trx-050608515670|      85496|          11.0|      3.0|    9|     0.0|          Cash|            179.91|20221005|          5|\n",
       "|trx-163780790436|      85516|           3.0|      6.0|    9|     0.2|          Cash|143.92800214469432|20221005|          5|\n",
       "|trx-852403292386|      85536|           4.0|      4.0|    5|    0.15|          Cash|3824.9576072871682|20221005|         11|\n",
       "|trx-058692145076|      85561|           5.0|      6.0|    5|     0.0|          Cash|199.95000000000002|20221005|         16|\n",
       "|trx-593040460969|      85499|          11.0|      1.0|    8|     0.0|          Cash|            239.92|20221005|         19|\n",
       "|trx-406130654199|      85547|           7.0|      1.0|    6|     0.2|          Cash|1439.9520214569568|20221005|          3|\n",
       "|trx-567147510430|      85499|           2.0|      5.0|    1|     0.0|   Credit Card|             99.99|20221005|          4|\n",
       "|trx-049685951276|      85516|           9.0|      5.0|    1|    0.15|          Cash| 424.9915119206905|20221005|         25|\n",
       "|trx-422830483654|      85561|           5.0|      2.0|    2|    0.05|   Credit Card| 949.9809880793094|20221005|         25|\n",
       "|trx-284111951568|      85551|          10.0|      1.0|    1|     0.0|   Credit Card|             29.99|20221005|         27|\n",
       "|trx-596188648857|      85498|           7.0|      6.0|    2|    0.15|   Credit Card|33.983000953197475|20221005|         28|\n",
       "|trx-756852746924|      85548|          11.0|      5.0|    9|     0.2|   Credit Card|2159.9280321854353|20221005|         12|\n",
       "|trx-088886246107|      85548|           4.0|      1.0|    2|    0.05|   Credit Card|151.98099809288976|20221005|          8|\n",
       "|trx-963580033090|      85507|           7.0|      2.0|    9|     0.0|          Cash|269.90999999999997|20221005|         17|\n",
       "+----------------+-----------+--------------+---------+-----+--------+--------------+------------------+--------+-----------+\n",
       "only showing top 20 rows"
      ]
     },
     "execution_count": 86,
     "metadata": {},
     "output_type": "execute_result"
    }
   ],
   "source": [
    "offline_fact_df=offline_fact_df.drop(\"product_id\", \"product_name\", \"product_category\", \"unit_price\")\n",
    "offline_fact_df.coalesce(1)"
   ]
  },
  {
   "cell_type": "code",
   "execution_count": null,
   "id": "74b4cdf3-ed45-48a7-a8ae-1fae2c577745",
   "metadata": {},
   "outputs": [],
   "source": []
  },
  {
   "cell_type": "code",
   "execution_count": null,
   "id": "f32d5fec-5ca2-438e-af0c-bca1da3cd6eb",
   "metadata": {},
   "outputs": [],
   "source": []
  },
  {
   "cell_type": "code",
   "execution_count": null,
   "id": "0c33f609-b0f0-48df-a1d0-97aaad59e3a2",
   "metadata": {},
   "outputs": [],
   "source": []
  },
  {
   "cell_type": "code",
   "execution_count": 87,
   "id": "2f727c97-558e-4773-99a4-2c6a07b79c0a",
   "metadata": {},
   "outputs": [
    {
     "name": "stdout",
     "output_type": "stream",
     "text": [
      "+-----------+------------------+--------------------+\n",
      "|customer_id|     customer_name|       cleaned_email|\n",
      "+-----------+------------------+--------------------+\n",
      "|      85525|         Ava Jones| ava.jones@yahoo.com|\n",
      "|      85527|       Emma Miller|emma.miller@outlo...|\n",
      "|      85520|  Alexander Wilson|alexander.wilson@...|\n",
      "|      85541|         Ava Jones|ava.jones@hotmail...|\n",
      "|      85473|     Sophia Miller|sophia.miller@yah...|\n",
      "|      85514|     Michael Smith|michael.smith@out...|\n",
      "|      85547|      James Wilson|james.wilson@outl...|\n",
      "|      85508|      James Miller|james.miller@hotm...|\n",
      "|      85542|      James Miller|james.miller@yaho...|\n",
      "|      85506|      Mia Williams|mia.williams@hotm...|\n",
      "|      85515|    William Wilson|william.wilson@ou...|\n",
      "|      85511|   Alexander Moore|alexander.moore@y...|\n",
      "|      85477|Alexander Williams|alexander.william...|\n",
      "|      85554|        John Brown|john.brown@gmail.com|\n",
      "|      85490|        Mia Taylor|mia.taylor@yahoo.com|\n",
      "|      85516|  Michael Williams|michael.williams@...|\n",
      "|      85529|      Mia Williams|mia.williams@yaho...|\n",
      "|      85556|         Ava Brown| ava.brown@yahoo.com|\n",
      "|      85482|     William Moore|william.moore@yah...|\n",
      "|      85523|        Mia Wilson|mia.wilson@gmail....|\n",
      "+-----------+------------------+--------------------+\n",
      "only showing top 20 rows\n",
      "\n"
     ]
    }
   ],
   "source": [
    "customer_dim_df=all_groups_merged_df.select(\n",
    "    col(\"customer_id\"),\n",
    "    col(\"customer_name\"),\n",
    "    col(\"cleaned_email\")).dropDuplicates([\"customer_id\"])\n",
    "\n",
    "customer_dim_df.show()"
   ]
  },
  {
   "cell_type": "code",
   "execution_count": 88,
   "id": "97e98305-4d07-422b-b746-3e5695ac42b5",
   "metadata": {},
   "outputs": [
    {
     "data": {
      "text/html": [
       "<table border='1'>\n",
       "<tr><th>customer_id</th><th>customer_name</th><th>cleaned_email</th><th>customer_key</th></tr>\n",
       "<tr><td>85462</td><td>Olivia Brown</td><td>olivia.brown@yaho...</td><td>1</td></tr>\n",
       "<tr><td>85463</td><td>Ava Miller</td><td>ava.miller@gmail.com</td><td>2</td></tr>\n",
       "<tr><td>85464</td><td>Alexander Moore</td><td>alexander.moore@o...</td><td>3</td></tr>\n",
       "<tr><td>85465</td><td>James Taylor</td><td>james.taylor@gmai...</td><td>4</td></tr>\n",
       "<tr><td>85466</td><td>Michael Brown</td><td>michael.brown@yah...</td><td>5</td></tr>\n",
       "<tr><td>85467</td><td>Alexander Jones</td><td>alexander.jones@o...</td><td>6</td></tr>\n",
       "<tr><td>85468</td><td>William Davis</td><td>william.davis@yah...</td><td>7</td></tr>\n",
       "<tr><td>85469</td><td>Emma Miller</td><td>emma.miller@outlo...</td><td>8</td></tr>\n",
       "<tr><td>85470</td><td>William Williams</td><td>william.williams@...</td><td>9</td></tr>\n",
       "<tr><td>85471</td><td>Ava Williams</td><td>ava.williams@outl...</td><td>10</td></tr>\n",
       "<tr><td>85472</td><td>Ava Smith</td><td>ava.smith@outlook...</td><td>11</td></tr>\n",
       "<tr><td>85473</td><td>Michael Jones</td><td>michael.jones@out...</td><td>12</td></tr>\n",
       "<tr><td>85474</td><td>Olivia Brown</td><td>olivia.brown@hotm...</td><td>13</td></tr>\n",
       "<tr><td>85475</td><td>Sophia Smith</td><td>sophia.smith@yaho...</td><td>14</td></tr>\n",
       "<tr><td>85476</td><td>James Moore</td><td>james.moore@yahoo...</td><td>15</td></tr>\n",
       "<tr><td>85477</td><td>Alexander Williams</td><td>alexander.william...</td><td>16</td></tr>\n",
       "<tr><td>85478</td><td>James Davis</td><td>james.davis@outlo...</td><td>17</td></tr>\n",
       "<tr><td>85479</td><td>Mia Taylor</td><td>mia.taylor@hotmai...</td><td>18</td></tr>\n",
       "<tr><td>85480</td><td>Alexander Williams</td><td>alexander.william...</td><td>19</td></tr>\n",
       "<tr><td>85481</td><td>Michael Moore</td><td>michael.moore@out...</td><td>20</td></tr>\n",
       "</table>\n",
       "only showing top 20 rows\n"
      ],
      "text/plain": [
       "+-----------+---------------+--------------------+------------+\n",
       "|customer_id|  customer_name|       cleaned_email|customer_key|\n",
       "+-----------+---------------+--------------------+------------+\n",
       "|      85462|   Olivia Brown|olivia.brown@yaho...|           1|\n",
       "|      85463|     Ava Miller|ava.miller@gmail.com|           2|\n",
       "|      85464|  Emma Williams|emma.williams@out...|           3|\n",
       "|      85465|     Emma Smith|emma.smith@gmail.com|           4|\n",
       "|      85466|  Michael Brown|michael.brown@yah...|           5|\n",
       "|      85467|Alexander Jones|alexander.jones@y...|           6|\n",
       "|      85468|Michael Johnson|michael.johnson@g...|           7|\n",
       "|      85469|    Emma Miller|emma.miller@outlo...|           8|\n",
       "|      85470|     Ava Wilson|ava.wilson@hotmai...|           9|\n",
       "|      85471|   Ava Williams|ava.williams@outl...|          10|\n",
       "|      85472|     Emma Brown|emma.brown@yahoo.com|          11|\n",
       "|      85473|  Michael Jones|michael.jones@out...|          12|\n",
       "|      85474|   Olivia Brown|olivia.brown@hotm...|          13|\n",
       "|      85475|   Sophia Smith|sophia.smith@yaho...|          14|\n",
       "|      85476|    James Moore|james.moore@yahoo...|          15|\n",
       "|      85477|     Emma Jones|emma.jones@hotmai...|          16|\n",
       "|      85478|    James Davis|james.davis@outlo...|          17|\n",
       "|      85479|     Mia Taylor|mia.taylor@hotmai...|          18|\n",
       "|      85480|  Sophia Wilson|sophia.wilson@gma...|          19|\n",
       "|      85481|   Emma Johnson|emma.johnson@gmai...|          20|\n",
       "+-----------+---------------+--------------------+------------+\n",
       "only showing top 20 rows"
      ]
     },
     "execution_count": 88,
     "metadata": {},
     "output_type": "execute_result"
    }
   ],
   "source": [
    "# Define a Window specification\n",
    "window_spec = Window.orderBy(\"customer_id\")\n",
    "\n",
    "# Add a product_key column using row_number\n",
    "customer_dim_df = customer_dim_df.withColumn(\"customer_key\", row_number().over(window_spec))\n",
    "\n",
    "customer_dim_df.coalesce(1)"
   ]
  },
  {
   "cell_type": "code",
   "execution_count": 89,
   "id": "a07ae569-16f4-4d29-b300-598788df24cf",
   "metadata": {},
   "outputs": [],
   "source": [
    "# Write the merged DataFrame to a single CSV file\n",
    "output_path = \"/Graduation_Project/transformed_data/schema/customer_dim.csv\"\n",
    "customer_dim_df.coalesce(1).write.mode('overwrite').csv(output_path, header=True)"
   ]
  },
  {
   "cell_type": "code",
   "execution_count": null,
   "id": "b78ff7de-045d-4574-8f9a-6dc9e63aeb4f",
   "metadata": {},
   "outputs": [],
   "source": []
  },
  {
   "cell_type": "code",
   "execution_count": 90,
   "id": "0667c1ff-4998-4a8f-aeea-c8046b802fee",
   "metadata": {},
   "outputs": [
    {
     "data": {
      "text/html": [
       "<table border='1'>\n",
       "<tr><th>transaction_id</th><th>customer_id</th><th>units</th><th>discount</th><th>payment_method</th><th>group</th><th>total_price</th><th>date_key</th><th>shipping_zip_code</th><th>shipping_state</th><th>shipping_city</th><th>shipping_street_name</th><th>product_key</th><th>customer_id</th><th>customer_name</th><th>cleaned_email</th><th>customer_key</th></tr>\n",
       "<tr><td>trx-812311767786</td><td>85525</td><td>8</td><td>0.2</td><td>Stripe</td><td>6</td><td>5759.936085829735</td><td>20220101</td><td>05301</td><td>Vermont</td><td>West Brattleboro</td><td>129 Glen Street</td><td>11</td><td>85525</td><td>Michael Wilson</td><td>michael.wilson@gm...</td><td>64</td></tr>\n",
       "<tr><td>trx-777696509076</td><td>85525</td><td>10</td><td>0.15</td><td>PayPal</td><td>5</td><td>509.9150143027305</td><td>20220103</td><td>06040</td><td>Connecticut</td><td>Manchester</td><td>81 Lyness Street</td><td>7</td><td>85525</td><td>Michael Wilson</td><td>michael.wilson@gm...</td><td>64</td></tr>\n",
       "<tr><td>trx-961752173520</td><td>85525</td><td>5</td><td>0.15</td><td>PayPal</td><td>6</td><td>254.95750715136526</td><td>20220103</td><td>06040</td><td>Connecticut</td><td>Manchester</td><td>117 Adelaide Road</td><td>7</td><td>85525</td><td>Michael Wilson</td><td>michael.wilson@gm...</td><td>64</td></tr>\n",
       "<tr><td>trx-752459780179</td><td>85525</td><td>9</td><td>0.05</td><td>Credit Card</td><td>6</td><td>1111.4144860535862</td><td>20220103</td><td>85310</td><td>Arizona</td><td>Glendale</td><td>23124 North 71st ...</td><td>21</td><td>85525</td><td>Michael Wilson</td><td>michael.wilson@gm...</td><td>64</td></tr>\n",
       "<tr><td>trx-895691945634</td><td>85525</td><td>5</td><td>0.2</td><td>Credit Card</td><td>6</td><td>159.96000238358977</td><td>20220104</td><td>05905</td><td>Vermont</td><td>Maidstone</td><td>3541 North Road</td><td>23</td><td>85525</td><td>Michael Wilson</td><td>michael.wilson@gm...</td><td>64</td></tr>\n",
       "<tr><td>trx-985459269846</td><td>85525</td><td>8</td><td>0.05</td><td>Credit Card</td><td>6</td><td>1139.923985695839</td><td>20220106</td><td>02143</td><td>Massachusetts</td><td>Somerville</td><td>13 Warren Avenue</td><td>18</td><td>85525</td><td>Michael Wilson</td><td>michael.wilson@gm...</td><td>64</td></tr>\n",
       "<tr><td>trx-667598624256</td><td>85525</td><td>10</td><td>0.0</td><td>Stripe</td><td>6</td><td>1299.9</td><td>20220106</td><td>37209</td><td>Tennessee</td><td>Nashville</td><td>410 51st Avenue N...</td><td>21</td><td>85525</td><td>Michael Wilson</td><td>michael.wilson@gm...</td><td>64</td></tr>\n",
       "<tr><td>trx-566935476646</td><td>85525</td><td>9</td><td>0.1</td><td>Credit Card</td><td>6</td><td>404.9189892733097</td><td>20220106</td><td>06040</td><td>Connecticut</td><td>Manchester</td><td>46 Lilac Street</td><td>24</td><td>85525</td><td>Michael Wilson</td><td>michael.wilson@gm...</td><td>64</td></tr>\n",
       "<tr><td>trx-574027283390</td><td>85525</td><td>1</td><td>0.15</td><td>PayPal</td><td>6</td><td>84.99150238394736</td><td>20220107</td><td>20001</td><td>District of Columbia</td><td>Washington</td><td>81 Seaton Place N...</td><td>4</td><td>85525</td><td>Michael Wilson</td><td>michael.wilson@gm...</td><td>64</td></tr>\n",
       "<tr><td>trx-037078085183</td><td>85525</td><td>8</td><td>0.0</td><td>PayPal</td><td>6</td><td>1199.92</td><td>20220107</td><td>80003</td><td>Colorado</td><td>Arvada</td><td>7912 Depew Street</td><td>13</td><td>85525</td><td>Michael Wilson</td><td>michael.wilson@gm...</td><td>64</td></tr>\n",
       "<tr><td>trx-892075794717</td><td>85525</td><td>2</td><td>0.15</td><td>Stripe</td><td>6</td><td>33.983000953197475</td><td>20220108</td><td>37027</td><td>Tennessee</td><td>Brentwood</td><td>123 Villa View Court</td><td>28</td><td>85525</td><td>Michael Wilson</td><td>michael.wilson@gm...</td><td>64</td></tr>\n",
       "<tr><td>trx-535934591770</td><td>85525</td><td>8</td><td>0.2</td><td>Stripe</td><td>6</td><td>319.9360047674179</td><td>20220108</td><td>94566</td><td>California</td><td>Pleasanton</td><td>3027 Badger Drive</td><td>6</td><td>85525</td><td>Michael Wilson</td><td>michael.wilson@gm...</td><td>64</td></tr>\n",
       "<tr><td>trx-962839519707</td><td>85525</td><td>3</td><td>0.0</td><td>PayPal</td><td>6</td><td>89.97</td><td>20220108</td><td>72701</td><td>Arkansas</td><td>Fayetteville</td><td>906 West Berry St...</td><td>17</td><td>85525</td><td>Michael Wilson</td><td>michael.wilson@gm...</td><td>64</td></tr>\n",
       "<tr><td>trx-555561699001</td><td>85525</td><td>9</td><td>0.0</td><td>Credit Card</td><td>6</td><td>179.91</td><td>20220113</td><td>72703</td><td>Arkansas</td><td>Fayetteville</td><td>3729 East Mission...</td><td>28</td><td>85525</td><td>Michael Wilson</td><td>michael.wilson@gm...</td><td>64</td></tr>\n",
       "<tr><td>trx-615813649970</td><td>85525</td><td>1</td><td>0.2</td><td>Credit Card</td><td>6</td><td>31.99200047671795</td><td>20220113</td><td>20776</td><td>Maryland</td><td>Harwood</td><td>4432 Cobalt Drive</td><td>23</td><td>85525</td><td>Michael Wilson</td><td>michael.wilson@gm...</td><td>64</td></tr>\n",
       "<tr><td>trx-003799553460</td><td>85525</td><td>7</td><td>0.2</td><td>Stripe</td><td>6</td><td>167.9440025025606</td><td>20220114</td><td>85308</td><td>Arizona</td><td>Glendale</td><td>6311 West Wagoner...</td><td>17</td><td>85525</td><td>Michael Wilson</td><td>michael.wilson@gm...</td><td>64</td></tr>\n",
       "<tr><td>trx-991521760170</td><td>85525</td><td>5</td><td>0.0</td><td>Stripe</td><td>6</td><td>149.95</td><td>20220115</td><td>32408</td><td>Florida</td><td>Panama City Beach</td><td>409 Snook Lane</td><td>19</td><td>85525</td><td>Michael Wilson</td><td>michael.wilson@gm...</td><td>64</td></tr>\n",
       "<tr><td>trx-332682461625</td><td>85525</td><td>6</td><td>0.0</td><td>Stripe</td><td>6</td><td>179.94</td><td>20220120</td><td>36104</td><td>Alabama</td><td>Montgomery</td><td>204 North Holt St...</td><td>15</td><td>85525</td><td>Michael Wilson</td><td>michael.wilson@gm...</td><td>64</td></tr>\n",
       "<tr><td>trx-883478163591</td><td>85525</td><td>4</td><td>0.0</td><td>Stripe</td><td>6</td><td>519.96</td><td>20220121</td><td>05001</td><td>Vermont</td><td>Hartford</td><td>10 Skyline Way</td><td>9</td><td>85525</td><td>Michael Wilson</td><td>michael.wilson@gm...</td><td>64</td></tr>\n",
       "<tr><td>trx-434628373591</td><td>85525</td><td>2</td><td>0.2</td><td>Stripe</td><td>6</td><td>63.9840009534359</td><td>20220122</td><td>20005</td><td>District of Columbia</td><td>Washington</td><td>1420 12th Street ...</td><td>10</td><td>85525</td><td>Michael Wilson</td><td>michael.wilson@gm...</td><td>64</td></tr>\n",
       "</table>\n",
       "only showing top 20 rows\n"
      ],
      "text/plain": [
       "+----------------+-----------+-----+--------+--------------+-----+------------------+--------+-----------------+--------------------+-----------------+--------------------+-----------+-----------+--------------+--------------------+------------+\n",
       "|  transaction_id|customer_id|units|discount|payment_method|group|       total_price|date_key|shipping_zip_code|      shipping_state|    shipping_city|shipping_street_name|product_key|customer_id| customer_name|       cleaned_email|customer_key|\n",
       "+----------------+-----------+-----+--------+--------------+-----+------------------+--------+-----------------+--------------------+-----------------+--------------------+-----------+-----------+--------------+--------------------+------------+\n",
       "|trx-812311767786|      85525|    8|     0.2|        Stripe|    6| 5759.936085829735|20220101|            05301|             Vermont| West Brattleboro|     129 Glen Street|         11|      85525|Michael Wilson|michael.wilson@gm...|          64|\n",
       "|trx-777696509076|      85525|   10|    0.15|        PayPal|    5| 509.9150143027305|20220103|            06040|         Connecticut|       Manchester|    81 Lyness Street|          7|      85525|Michael Wilson|michael.wilson@gm...|          64|\n",
       "|trx-961752173520|      85525|    5|    0.15|        PayPal|    6|254.95750715136526|20220103|            06040|         Connecticut|       Manchester|   117 Adelaide Road|          7|      85525|Michael Wilson|michael.wilson@gm...|          64|\n",
       "|trx-752459780179|      85525|    9|    0.05|   Credit Card|    6|1111.4144860535862|20220103|            85310|             Arizona|         Glendale|23124 North 71st ...|         21|      85525|Michael Wilson|michael.wilson@gm...|          64|\n",
       "|trx-895691945634|      85525|    5|     0.2|   Credit Card|    6|159.96000238358977|20220104|            05905|             Vermont|        Maidstone|     3541 North Road|         23|      85525|Michael Wilson|michael.wilson@gm...|          64|\n",
       "|trx-985459269846|      85525|    8|    0.05|   Credit Card|    6| 1139.923985695839|20220106|            02143|       Massachusetts|       Somerville|    13 Warren Avenue|         18|      85525|Michael Wilson|michael.wilson@gm...|          64|\n",
       "|trx-667598624256|      85525|   10|     0.0|        Stripe|    6|            1299.9|20220106|            37209|           Tennessee|        Nashville|410 51st Avenue N...|         21|      85525|Michael Wilson|michael.wilson@gm...|          64|\n",
       "|trx-566935476646|      85525|    9|     0.1|   Credit Card|    6| 404.9189892733097|20220106|            06040|         Connecticut|       Manchester|     46 Lilac Street|         24|      85525|Michael Wilson|michael.wilson@gm...|          64|\n",
       "|trx-574027283390|      85525|    1|    0.15|        PayPal|    6| 84.99150238394736|20220107|            20001|District of Columbia|       Washington|81 Seaton Place N...|          4|      85525|Michael Wilson|michael.wilson@gm...|          64|\n",
       "|trx-037078085183|      85525|    8|     0.0|        PayPal|    6|           1199.92|20220107|            80003|            Colorado|           Arvada|   7912 Depew Street|         13|      85525|Michael Wilson|michael.wilson@gm...|          64|\n",
       "|trx-892075794717|      85525|    2|    0.15|        Stripe|    6|33.983000953197475|20220108|            37027|           Tennessee|        Brentwood|123 Villa View Court|         28|      85525|Michael Wilson|michael.wilson@gm...|          64|\n",
       "|trx-535934591770|      85525|    8|     0.2|        Stripe|    6| 319.9360047674179|20220108|            94566|          California|       Pleasanton|   3027 Badger Drive|          6|      85525|Michael Wilson|michael.wilson@gm...|          64|\n",
       "|trx-962839519707|      85525|    3|     0.0|        PayPal|    6|             89.97|20220108|            72701|            Arkansas|     Fayetteville|906 West Berry St...|         17|      85525|Michael Wilson|michael.wilson@gm...|          64|\n",
       "|trx-555561699001|      85525|    9|     0.0|   Credit Card|    6|            179.91|20220113|            72703|            Arkansas|     Fayetteville|3729 East Mission...|         28|      85525|Michael Wilson|michael.wilson@gm...|          64|\n",
       "|trx-615813649970|      85525|    1|     0.2|   Credit Card|    6| 31.99200047671795|20220113|            20776|            Maryland|          Harwood|   4432 Cobalt Drive|         23|      85525|Michael Wilson|michael.wilson@gm...|          64|\n",
       "|trx-003799553460|      85525|    7|     0.2|        Stripe|    6| 167.9440025025606|20220114|            85308|             Arizona|         Glendale|6311 West Wagoner...|         17|      85525|Michael Wilson|michael.wilson@gm...|          64|\n",
       "|trx-991521760170|      85525|    5|     0.0|        Stripe|    6|            149.95|20220115|            32408|             Florida|Panama City Beach|      409 Snook Lane|         19|      85525|Michael Wilson|michael.wilson@gm...|          64|\n",
       "|trx-332682461625|      85525|    6|     0.0|        Stripe|    6|            179.94|20220120|            36104|             Alabama|       Montgomery|204 North Holt St...|         15|      85525|Michael Wilson|michael.wilson@gm...|          64|\n",
       "|trx-883478163591|      85525|    4|     0.0|        Stripe|    6|            519.96|20220121|            05001|             Vermont|         Hartford|      10 Skyline Way|          9|      85525|Michael Wilson|michael.wilson@gm...|          64|\n",
       "|trx-434628373591|      85525|    2|     0.2|        Stripe|    6|  63.9840009534359|20220122|            20005|District of Columbia|       Washington|1420 12th Street ...|         10|      85525|Michael Wilson|michael.wilson@gm...|          64|\n",
       "+----------------+-----------+-----+--------+--------------+-----+------------------+--------+-----------------+--------------------+-----------------+--------------------+-----------+-----------+--------------+--------------------+------------+\n",
       "only showing top 20 rows"
      ]
     },
     "execution_count": 90,
     "metadata": {},
     "output_type": "execute_result"
    }
   ],
   "source": [
    "# Perform an inner join on transaction_date and date\n",
    "online_fact_df = online_fact_df.join(customer_dim_df, online_fact_df[\"customer_id\"] == customer_dim_df[\"customer_id\"], \"inner\")\n",
    "online_fact_df.coalesce(1)"
   ]
  },
  {
   "cell_type": "code",
   "execution_count": 91,
   "id": "e2d2a892-71e4-427e-8b2f-f13892cd1112",
   "metadata": {},
   "outputs": [
    {
     "data": {
      "text/html": [
       "<table border='1'>\n",
       "<tr><th>transaction_id</th><th>units</th><th>discount</th><th>payment_method</th><th>group</th><th>total_price</th><th>date_key</th><th>shipping_zip_code</th><th>shipping_state</th><th>shipping_city</th><th>shipping_street_name</th><th>product_key</th><th>customer_key</th></tr>\n",
       "<tr><td>trx-038966531476</td><td>9</td><td>0.0</td><td>PayPal</td><td>2</td><td>8099.91</td><td>20220101</td><td>05446</td><td>Vermont</td><td>Colchester</td><td>1783 Blakely Road</td><td>11</td><td>50</td></tr>\n",
       "<tr><td>trx-196650129641</td><td>1</td><td>0.0</td><td>Stripe</td><td>2</td><td>79.99</td><td>20220101</td><td>02149</td><td>Massachusetts</td><td>Everett</td><td>88 Shute Street</td><td>8</td><td>41</td></tr>\n",
       "<tr><td>trx-961186738199</td><td>8</td><td>0.2</td><td>PayPal</td><td>3</td><td>831.9360123968125</td><td>20220101</td><td>05478</td><td>Vermont</td><td>Saint Albans City</td><td>45 Parsons Avenue</td><td>9</td><td>79</td></tr>\n",
       "<tr><td>trx-961186738199</td><td>8</td><td>0.2</td><td>PayPal</td><td>1</td><td>831.9360123968125</td><td>20220101</td><td>05478</td><td>Vermont</td><td>Saint Albans City</td><td>45 Parsons Avenue</td><td>9</td><td>79</td></tr>\n",
       "<tr><td>trx-807433736285</td><td>9</td><td>0.2</td><td>Stripe</td><td>4</td><td>359.92800536334516</td><td>20220101</td><td>05079</td><td>Vermont</td><td>Vershire</td><td>6460 Vermont 113</td><td>24</td><td>44</td></tr>\n",
       "<tr><td>trx-378573229506</td><td>1</td><td>0.05</td><td>Credit Card</td><td>6</td><td>56.990499284863475</td><td>20220101</td><td>94545</td><td>California</td><td>Hayward</td><td>1265 Xavier Avenue</td><td>7</td><td>91</td></tr>\n",
       "<tr><td>trx-812311767786</td><td>8</td><td>0.2</td><td>Stripe</td><td>6</td><td>5759.936085829735</td><td>20220101</td><td>05301</td><td>Vermont</td><td>West Brattleboro</td><td>129 Glen Street</td><td>11</td><td>64</td></tr>\n",
       "<tr><td>trx-714156427993</td><td>4</td><td>0.0</td><td>PayPal</td><td>6</td><td>79.96</td><td>20220101</td><td>06040</td><td>Connecticut</td><td>Manchester</td><td>52 Linnmore Drive</td><td>5</td><td>58</td></tr>\n",
       "<tr><td>trx-926752978689</td><td>10</td><td>0.0</td><td>PayPal</td><td>6</td><td>299.9</td><td>20220101</td><td>05461</td><td>Vermont</td><td>Hinesburg</td><td>1313 North Road</td><td>15</td><td>92</td></tr>\n",
       "<tr><td>trx-377988149376</td><td>6</td><td>0.0</td><td>Stripe</td><td>6</td><td>149.94</td><td>20220101</td><td>35242</td><td>Alabama</td><td>Birmingham</td><td>3328 Sunny Meadow...</td><td>30</td><td>87</td></tr>\n",
       "<tr><td>trx-578810017511</td><td>2</td><td>0.05</td><td>PayPal</td><td>6</td><td>56.98099928498268</td><td>20220101</td><td>94601</td><td>California</td><td>Oakland</td><td>3578 Galindo Street</td><td>27</td><td>49</td></tr>\n",
       "<tr><td>trx-935354519699</td><td>9</td><td>0.2</td><td>Stripe</td><td>6</td><td>287.92800429046156</td><td>20220101</td><td>06040</td><td>Connecticut</td><td>Manchester</td><td>396 Hartford Road</td><td>10</td><td>7</td></tr>\n",
       "<tr><td>trx-062565092206</td><td>2</td><td>0.2</td><td>Stripe</td><td>6</td><td>1599.9840238416195</td><td>20220101</td><td>31405</td><td>Georgia</td><td>Savannah</td><td>1363 Dean Forest ...</td><td>1</td><td>73</td></tr>\n",
       "<tr><td>trx-291831425853</td><td>3</td><td>0.2</td><td>Stripe</td><td>6</td><td>359.9760053640604</td><td>20220101</td><td>31410</td><td>Georgia</td><td>Savannah</td><td>206 Blue Marlin D...</td><td>13</td><td>59</td></tr>\n",
       "<tr><td>trx-490934091046</td><td>5</td><td>0.0</td><td>PayPal</td><td>6</td><td>1999.95</td><td>20220101</td><td>37210</td><td>Tennessee</td><td>Nashville</td><td>95 Claiborne Street</td><td>14</td><td>27</td></tr>\n",
       "<tr><td>trx-477242925566</td><td>7</td><td>0.0</td><td>PayPal</td><td>6</td><td>419.93</td><td>20220101</td><td>06042</td><td>Connecticut</td><td>Manchester</td><td>23 Columbia Drive</td><td>7</td><td>44</td></tr>\n",
       "<tr><td>trx-657276071144</td><td>10</td><td>0.0</td><td>PayPal</td><td>6</td><td>199.89999999999998</td><td>20220101</td><td>02151</td><td>Massachusetts</td><td>Revere</td><td>98 Lincoln Street</td><td>28</td><td>19</td></tr>\n",
       "<tr><td>trx-521851194970</td><td>6</td><td>0.0</td><td>Credit Card</td><td>6</td><td>1799.94</td><td>20220101</td><td>94702</td><td>California</td><td>Berkeley</td><td>1209 Parker Street</td><td>3</td><td>9</td></tr>\n",
       "<tr><td>trx-835639572082</td><td>7</td><td>0.2</td><td>Credit Card</td><td>6</td><td>279.9440041714907</td><td>20220101</td><td>73162</td><td>Oklahoma</td><td>Oklahoma City</td><td>11724 Rushmore</td><td>6</td><td>60</td></tr>\n",
       "<tr><td>trx-832513610642</td><td>3</td><td>0.0</td><td>Stripe</td><td>6</td><td>2699.9700000000003</td><td>20220101</td><td>85301</td><td>Arizona</td><td>Glendale</td><td>6802 North 67th A...</td><td>11</td><td>71</td></tr>\n",
       "</table>\n",
       "only showing top 20 rows\n"
      ],
      "text/plain": [
       "+----------------+-----+--------+--------------+-----+------------------+--------+-----------------+--------------+-----------------+--------------------+-----------+------------+\n",
       "|  transaction_id|units|discount|payment_method|group|       total_price|date_key|shipping_zip_code|shipping_state|    shipping_city|shipping_street_name|product_key|customer_key|\n",
       "+----------------+-----+--------+--------------+-----+------------------+--------+-----------------+--------------+-----------------+--------------------+-----------+------------+\n",
       "|trx-038966531476|    9|     0.0|        PayPal|    2|           8099.91|20220101|            05446|       Vermont|       Colchester|   1783 Blakely Road|         11|          50|\n",
       "|trx-196650129641|    1|     0.0|        Stripe|    2|             79.99|20220101|            02149| Massachusetts|          Everett|     88 Shute Street|          8|          41|\n",
       "|trx-961186738199|    8|     0.2|        PayPal|    3| 831.9360123968125|20220101|            05478|       Vermont|Saint Albans City|   45 Parsons Avenue|          9|          79|\n",
       "|trx-961186738199|    8|     0.2|        PayPal|    1| 831.9360123968125|20220101|            05478|       Vermont|Saint Albans City|   45 Parsons Avenue|          9|          79|\n",
       "|trx-807433736285|    9|     0.2|        Stripe|    4|359.92800536334516|20220101|            05079|       Vermont|         Vershire|    6460 Vermont 113|         24|          44|\n",
       "|trx-378573229506|    1|    0.05|   Credit Card|    6|56.990499284863475|20220101|            94545|    California|          Hayward|  1265 Xavier Avenue|          7|          91|\n",
       "|trx-812311767786|    8|     0.2|        Stripe|    6| 5759.936085829735|20220101|            05301|       Vermont| West Brattleboro|     129 Glen Street|         11|          64|\n",
       "|trx-714156427993|    4|     0.0|        PayPal|    6|             79.96|20220101|            06040|   Connecticut|       Manchester|   52 Linnmore Drive|          5|          58|\n",
       "|trx-926752978689|   10|     0.0|        PayPal|    6|             299.9|20220101|            05461|       Vermont|        Hinesburg|     1313 North Road|         15|          92|\n",
       "|trx-377988149376|    6|     0.0|        Stripe|    6|            149.94|20220101|            35242|       Alabama|       Birmingham|3328 Sunny Meadow...|         30|          87|\n",
       "|trx-578810017511|    2|    0.05|        PayPal|    6| 56.98099928498268|20220101|            94601|    California|          Oakland| 3578 Galindo Street|         27|          49|\n",
       "|trx-935354519699|    9|     0.2|        Stripe|    6|287.92800429046156|20220101|            06040|   Connecticut|       Manchester|   396 Hartford Road|         10|           7|\n",
       "|trx-062565092206|    2|     0.2|        Stripe|    6|1599.9840238416195|20220101|            31405|       Georgia|         Savannah|1363 Dean Forest ...|          1|          73|\n",
       "|trx-291831425853|    3|     0.2|        Stripe|    6| 359.9760053640604|20220101|            31410|       Georgia|         Savannah|206 Blue Marlin D...|         13|          59|\n",
       "|trx-490934091046|    5|     0.0|        PayPal|    6|           1999.95|20220101|            37210|     Tennessee|        Nashville| 95 Claiborne Street|         14|          27|\n",
       "|trx-477242925566|    7|     0.0|        PayPal|    6|            419.93|20220101|            06042|   Connecticut|       Manchester|   23 Columbia Drive|          7|          44|\n",
       "|trx-657276071144|   10|     0.0|        PayPal|    6|199.89999999999998|20220101|            02151| Massachusetts|           Revere|   98 Lincoln Street|         28|          19|\n",
       "|trx-521851194970|    6|     0.0|   Credit Card|    6|           1799.94|20220101|            94702|    California|         Berkeley|  1209 Parker Street|          3|           9|\n",
       "|trx-835639572082|    7|     0.2|   Credit Card|    6| 279.9440041714907|20220101|            73162|      Oklahoma|    Oklahoma City|      11724 Rushmore|          6|          60|\n",
       "|trx-832513610642|    3|     0.0|        Stripe|    6|2699.9700000000003|20220101|            85301|       Arizona|         Glendale|6802 North 67th A...|         11|          71|\n",
       "+----------------+-----+--------+--------------+-----+------------------+--------+-----------------+--------------+-----------------+--------------------+-----------+------------+\n",
       "only showing top 20 rows"
      ]
     },
     "execution_count": 91,
     "metadata": {},
     "output_type": "execute_result"
    }
   ],
   "source": [
    "online_fact_df=online_fact_df.drop(\"customer_id\",\"cleaned_email\",\"customer_name\")\n",
    "online_fact_df.coalesce(1)"
   ]
  },
  {
   "cell_type": "code",
   "execution_count": 92,
   "id": "26965fca-48cd-4b91-9e65-d8dcac711954",
   "metadata": {},
   "outputs": [
    {
     "data": {
      "text/html": [
       "<table border='1'>\n",
       "<tr><th>transaction_id</th><th>customer_id</th><th>sales_agent_id</th><th>branch_id</th><th>units</th><th>discount</th><th>payment_method</th><th>total_price</th><th>date_key</th><th>product_key</th><th>customer_id</th><th>customer_name</th><th>cleaned_email</th><th>customer_key</th></tr>\n",
       "<tr><td>trx-170004611332</td><td>85525</td><td>7.0</td><td>5.0</td><td>10</td><td>0.05</td><td>Cash</td><td>237.40499702095983</td><td>20220527</td><td>30</td><td>85525</td><td>Michael Wilson</td><td>michael.wilson@gm...</td><td>64</td></tr>\n",
       "<tr><td>trx-844036209605</td><td>85525</td><td>10.0</td><td>4.0</td><td>7</td><td>0.0</td><td>Credit Card</td><td>1049.93</td><td>20220527</td><td>18</td><td>85525</td><td>Michael Wilson</td><td>michael.wilson@gm...</td><td>64</td></tr>\n",
       "<tr><td>trx-109416203740</td><td>85525</td><td>11.0</td><td>6.0</td><td>1</td><td>0.0</td><td>Credit Card</td><td>39.99</td><td>20220527</td><td>23</td><td>85525</td><td>Michael Wilson</td><td>michael.wilson@gm...</td><td>64</td></tr>\n",
       "<tr><td>trx-106504733120</td><td>85525</td><td>10.0</td><td>6.0</td><td>7</td><td>0.0</td><td>Credit Card</td><td>4899.93</td><td>20220527</td><td>2</td><td>85525</td><td>Michael Wilson</td><td>michael.wilson@gm...</td><td>64</td></tr>\n",
       "<tr><td>trx-745057689089</td><td>85525</td><td>9.0</td><td>6.0</td><td>5</td><td>0.2</td><td>Credit Card</td><td>1199.9600178807975</td><td>20220527</td><td>12</td><td>85525</td><td>Michael Wilson</td><td>michael.wilson@gm...</td><td>64</td></tr>\n",
       "<tr><td>trx-714247080040</td><td>85525</td><td>7.0</td><td>4.0</td><td>8</td><td>0.0</td><td>Cash</td><td>639.92</td><td>20220718</td><td>8</td><td>85525</td><td>Michael Wilson</td><td>michael.wilson@gm...</td><td>64</td></tr>\n",
       "<tr><td>trx-115302227341</td><td>85525</td><td>9.0</td><td>6.0</td><td>8</td><td>0.0</td><td>Cash</td><td>7999.92</td><td>20220718</td><td>1</td><td>85525</td><td>Michael Wilson</td><td>michael.wilson@gm...</td><td>64</td></tr>\n",
       "<tr><td>trx-991057034635</td><td>85525</td><td>5.0</td><td>4.0</td><td>7</td><td>0.1</td><td>Cash</td><td>503.93698665022845</td><td>20220718</td><td>8</td><td>85525</td><td>Michael Wilson</td><td>michael.wilson@gm...</td><td>64</td></tr>\n",
       "<tr><td>trx-815328334349</td><td>85525</td><td>10.0</td><td>5.0</td><td>7</td><td>0.0</td><td>Credit Card</td><td>1049.93</td><td>20220718</td><td>18</td><td>85525</td><td>Michael Wilson</td><td>michael.wilson@gm...</td><td>64</td></tr>\n",
       "<tr><td>trx-197754917684</td><td>85525</td><td>1.0</td><td>3.0</td><td>9</td><td>0.0</td><td>Credit Card</td><td>359.91</td><td>20220718</td><td>10</td><td>85525</td><td>Michael Wilson</td><td>michael.wilson@gm...</td><td>64</td></tr>\n",
       "<tr><td>trx-674368365754</td><td>85525</td><td>8.0</td><td>2.0</td><td>4</td><td>0.1</td><td>Cash</td><td>143.96399618625642</td><td>20220718</td><td>23</td><td>85525</td><td>Michael Wilson</td><td>michael.wilson@gm...</td><td>64</td></tr>\n",
       "<tr><td>trx-262951162363</td><td>85525</td><td>1.0</td><td>5.0</td><td>5</td><td>0.05</td><td>Cash</td><td>189.95249761641028</td><td>20220718</td><td>16</td><td>85525</td><td>Michael Wilson</td><td>michael.wilson@gm...</td><td>64</td></tr>\n",
       "<tr><td>trx-144554026491</td><td>85525</td><td>2.0</td><td>5.0</td><td>6</td><td>0.0</td><td>Credit Card</td><td>239.94</td><td>20220718</td><td>10</td><td>85525</td><td>Michael Wilson</td><td>michael.wilson@gm...</td><td>64</td></tr>\n",
       "<tr><td>trx-861589695084</td><td>85525</td><td>8.0</td><td>1.0</td><td>8</td><td>0.2</td><td>Credit Card</td><td>3199.9360476827624</td><td>20220718</td><td>25</td><td>85525</td><td>Michael Wilson</td><td>michael.wilson@gm...</td><td>64</td></tr>\n",
       "<tr><td>trx-103779930336</td><td>85525</td><td>4.0</td><td>3.0</td><td>10</td><td>0.0</td><td>Cash</td><td>599.9</td><td>20220718</td><td>7</td><td>85525</td><td>Michael Wilson</td><td>michael.wilson@gm...</td><td>64</td></tr>\n",
       "<tr><td>trx-788500456202</td><td>85525</td><td>1.0</td><td>3.0</td><td>7</td><td>0.0</td><td>Credit Card</td><td>209.92999999999998</td><td>20220718</td><td>27</td><td>85525</td><td>Michael Wilson</td><td>michael.wilson@gm...</td><td>64</td></tr>\n",
       "<tr><td>trx-095910527208</td><td>85525</td><td>2.0</td><td>1.0</td><td>3</td><td>0.0</td><td>Cash</td><td>449.97</td><td>20220227</td><td>18</td><td>85525</td><td>Michael Wilson</td><td>michael.wilson@gm...</td><td>64</td></tr>\n",
       "<tr><td>trx-192339575091</td><td>85525</td><td>7.0</td><td>3.0</td><td>7</td><td>0.05</td><td>Cash</td><td>1329.933483311534</td><td>20220227</td><td>26</td><td>85525</td><td>Michael Wilson</td><td>michael.wilson@gm...</td><td>64</td></tr>\n",
       "<tr><td>trx-742353744831</td><td>85525</td><td>1.0</td><td>2.0</td><td>2</td><td>0.2</td><td>Credit Card</td><td>31.984000476598737</td><td>20220227</td><td>5</td><td>85525</td><td>Michael Wilson</td><td>michael.wilson@gm...</td><td>64</td></tr>\n",
       "<tr><td>trx-267841908581</td><td>85525</td><td>5.0</td><td>2.0</td><td>10</td><td>0.2</td><td>Cash</td><td>319.92000476717953</td><td>20220227</td><td>16</td><td>85525</td><td>Michael Wilson</td><td>michael.wilson@gm...</td><td>64</td></tr>\n",
       "</table>\n",
       "only showing top 20 rows\n"
      ],
      "text/plain": [
       "+----------------+-----------+--------------+---------+-----+--------+--------------+------------------+--------+-----------+-----------+-------------+-------------------+------------+\n",
       "|  transaction_id|customer_id|sales_agent_id|branch_id|units|discount|payment_method|       total_price|date_key|product_key|customer_id|customer_name|      cleaned_email|customer_key|\n",
       "+----------------+-----------+--------------+---------+-----+--------+--------------+------------------+--------+-----------+-----------+-------------+-------------------+------------+\n",
       "|trx-209702051200|      85525|          11.0|      1.0|    5|     0.0|          Cash|           1499.95|20221005|         12|      85525|    Ava Jones|ava.jones@yahoo.com|          64|\n",
       "|trx-267818677599|      85525|           3.0|      2.0|    5|     0.0|   Credit Card|            399.95|20221005|         22|      85525|    Ava Jones|ava.jones@yahoo.com|          64|\n",
       "|trx-956064519174|      85525|          11.0|      3.0|    5|     0.0|          Cash|199.95000000000002|20221005|         29|      85525|    Ava Jones|ava.jones@yahoo.com|          64|\n",
       "|trx-480863914129|      85525|          11.0|      1.0|    2|     0.0|   Credit Card|             79.98|20221005|         29|      85525|    Ava Jones|ava.jones@yahoo.com|          64|\n",
       "|trx-288544269912|      85525|           2.0|      2.0|    4|     0.2|   Credit Card|2879.9680429148675|20221005|         11|      85525|    Ava Jones|ava.jones@yahoo.com|          64|\n",
       "|trx-453952256916|      85525|           5.0|      6.0|    2|     0.0|          Cash|             79.98|20221005|         10|      85525|    Ava Jones|ava.jones@yahoo.com|          64|\n",
       "|trx-320018303559|      85525|           7.0|      4.0|   10|     0.2|          Cash|319.92000476717953|20221005|         10|      85525|    Ava Jones|ava.jones@yahoo.com|          64|\n",
       "|trx-024932783521|      85525|           1.0|      3.0|    6|     0.0|          Cash|           2999.94|20221005|         25|      85525|    Ava Jones|ava.jones@yahoo.com|          64|\n",
       "|trx-766570299689|      85525|           5.0|      3.0|    6|    0.05|          Cash| 227.9429971396923|20230121|         16|      85525|    Ava Jones|ava.jones@yahoo.com|          64|\n",
       "|trx-023095954247|      85525|           3.0|      6.0|    4|     0.0|          Cash|             79.96|20230121|         28|      85525|    Ava Jones|ava.jones@yahoo.com|          64|\n",
       "|trx-441661829005|      85525|           9.0|      2.0|    3|     0.0|          Cash|2699.9700000000003|20230121|         11|      85525|    Ava Jones|ava.jones@yahoo.com|          64|\n",
       "|trx-486427858903|      85525|          10.0|      1.0|    9|     0.1|          Cash| 4049.918892713785|20230121|         25|      85525|    Ava Jones|ava.jones@yahoo.com|          64|\n",
       "|trx-112384316514|      85525|           2.0|      2.0|    6|     0.1|   Credit Card|215.94599427938462|20230121|         10|      85525|    Ava Jones|ava.jones@yahoo.com|          64|\n",
       "|trx-274247034282|      85525|           2.0|      6.0|    5|     0.2|          Cash|239.96000357568263|20230501|         20|      85525|    Ava Jones|ava.jones@yahoo.com|          64|\n",
       "|trx-248537789703|      85525|           8.0|      4.0|    4|    0.05|   Credit Card| 3419.961957085133|20230501|         11|      85525|    Ava Jones|ava.jones@yahoo.com|          64|\n",
       "|trx-026524495372|      85525|          11.0|      1.0|    2|     0.0|          Cash|             59.98|20230501|         17|      85525|    Ava Jones|ava.jones@yahoo.com|          64|\n",
       "|trx-769359584658|      85525|          11.0|      2.0|    4|     0.1|   Credit Card|143.96399618625642|20230501|         29|      85525|    Ava Jones|ava.jones@yahoo.com|          64|\n",
       "|trx-363214703408|      85525|           6.0|      2.0|    3|     0.1|          Cash|107.97299713969231|20230501|         29|      85525|    Ava Jones|ava.jones@yahoo.com|          64|\n",
       "|trx-935715853571|      85525|          10.0|      5.0|    3|     0.1|   Credit Card|1079.9729713904858|20230501|         14|      85525|    Ava Jones|ava.jones@yahoo.com|          64|\n",
       "|trx-315529317928|      85525|           2.0|      4.0|    3|     0.0|   Credit Card|            149.97|20230501|         24|      85525|    Ava Jones|ava.jones@yahoo.com|          64|\n",
       "+----------------+-----------+--------------+---------+-----+--------+--------------+------------------+--------+-----------+-----------+-------------+-------------------+------------+\n",
       "only showing top 20 rows"
      ]
     },
     "execution_count": 92,
     "metadata": {},
     "output_type": "execute_result"
    }
   ],
   "source": [
    "# Perform an inner join on transaction_date and date\n",
    "offline_fact_df = offline_fact_df.join(customer_dim_df, offline_fact_df[\"customer_id\"] == customer_dim_df[\"customer_id\"], \"inner\")\n",
    "offline_fact_df.coalesce(1)"
   ]
  },
  {
   "cell_type": "code",
   "execution_count": 93,
   "id": "702fc4c6-453c-4e4e-b220-c2bdf909180f",
   "metadata": {},
   "outputs": [
    {
     "data": {
      "text/html": [
       "<table border='1'>\n",
       "<tr><th>transaction_id</th><th>sales_agent_id</th><th>branch_id</th><th>units</th><th>discount</th><th>payment_method</th><th>total_price</th><th>date_key</th><th>product_key</th><th>customer_name</th><th>cleaned_email</th><th>customer_key</th></tr>\n",
       "<tr><td>trx-823890000599</td><td>8.0</td><td>6.0</td><td>2</td><td>0.0</td><td>Credit Card</td><td>1999.98</td><td>20220312</td><td>1</td><td>Michael Wilson</td><td>michael.wilson@gm...</td><td>64</td></tr>\n",
       "<tr><td>trx-398777947283</td><td>9.0</td><td>4.0</td><td>6</td><td>0.0</td><td>Credit Card</td><td>179.94</td><td>20220312</td><td>27</td><td>Michael Wilson</td><td>michael.wilson@gm...</td><td>64</td></tr>\n",
       "<tr><td>trx-989278595733</td><td>9.0</td><td>6.0</td><td>6</td><td>0.0</td><td>Cash</td><td>779.94</td><td>20220312</td><td>21</td><td>Michael Wilson</td><td>michael.wilson@gm...</td><td>64</td></tr>\n",
       "<tr><td>trx-273180803756</td><td>3.0</td><td>1.0</td><td>1</td><td>0.2</td><td>Credit Card</td><td>63.992000953555106</td><td>20220312</td><td>22</td><td>Michael Wilson</td><td>michael.wilson@gm...</td><td>64</td></tr>\n",
       "<tr><td>trx-717300843037</td><td>5.0</td><td>2.0</td><td>1</td><td>0.2</td><td>Credit Card</td><td>799.9920119208098</td><td>20220312</td><td>1</td><td>Michael Wilson</td><td>michael.wilson@gm...</td><td>64</td></tr>\n",
       "<tr><td>trx-864607890708</td><td>8.0</td><td>2.0</td><td>10</td><td>0.2</td><td>Credit Card</td><td>7199.920107287168</td><td>20220325</td><td>11</td><td>Michael Wilson</td><td>michael.wilson@gm...</td><td>64</td></tr>\n",
       "<tr><td>trx-834287510675</td><td>2.0</td><td>5.0</td><td>6</td><td>0.0</td><td>Credit Card</td><td>359.94</td><td>20220325</td><td>7</td><td>Michael Wilson</td><td>michael.wilson@gm...</td><td>64</td></tr>\n",
       "<tr><td>trx-395878299405</td><td>4.0</td><td>3.0</td><td>6</td><td>0.0</td><td>Cash</td><td>779.94</td><td>20220325</td><td>9</td><td>Michael Wilson</td><td>michael.wilson@gm...</td><td>64</td></tr>\n",
       "<tr><td>trx-505177293904</td><td>11.0</td><td>3.0</td><td>8</td><td>0.0</td><td>Credit Card</td><td>2399.92</td><td>20220325</td><td>3</td><td>Michael Wilson</td><td>michael.wilson@gm...</td><td>64</td></tr>\n",
       "<tr><td>trx-249842381834</td><td>7.0</td><td>5.0</td><td>10</td><td>0.0</td><td>Credit Card</td><td>499.90000000000003</td><td>20220325</td><td>6</td><td>Michael Wilson</td><td>michael.wilson@gm...</td><td>64</td></tr>\n",
       "<tr><td>trx-678706914651</td><td>10.0</td><td>3.0</td><td>4</td><td>0.2</td><td>Cash</td><td>2879.9680429148675</td><td>20220325</td><td>11</td><td>Michael Wilson</td><td>michael.wilson@gm...</td><td>64</td></tr>\n",
       "<tr><td>trx-359942850987</td><td>5.0</td><td>1.0</td><td>1</td><td>0.2</td><td>Cash</td><td>23.99200035750866</td><td>20230508</td><td>19</td><td>Michael Wilson</td><td>michael.wilson@gm...</td><td>64</td></tr>\n",
       "<tr><td>trx-635145663096</td><td>7.0</td><td>3.0</td><td>10</td><td>0.05</td><td>Credit Card</td><td>759.9049904644489</td><td>20230508</td><td>8</td><td>Michael Wilson</td><td>michael.wilson@gm...</td><td>64</td></tr>\n",
       "<tr><td>trx-212435278212</td><td>5.0</td><td>3.0</td><td>10</td><td>0.15</td><td>Credit Card</td><td>212.4150059580803</td><td>20230508</td><td>30</td><td>Michael Wilson</td><td>michael.wilson@gm...</td><td>64</td></tr>\n",
       "<tr><td>trx-888829544567</td><td>2.0</td><td>6.0</td><td>9</td><td>0.05</td><td>Cash</td><td>256.414496782422</td><td>20230508</td><td>27</td><td>Michael Wilson</td><td>michael.wilson@gm...</td><td>64</td></tr>\n",
       "<tr><td>trx-583025341649</td><td>8.0</td><td>6.0</td><td>1</td><td>0.1</td><td>Credit Card</td><td>269.99099284768107</td><td>20230508</td><td>3</td><td>Michael Wilson</td><td>michael.wilson@gm...</td><td>64</td></tr>\n",
       "<tr><td>trx-002844520655</td><td>4.0</td><td>3.0</td><td>6</td><td>0.0</td><td>Credit Card</td><td>5399.9400000000005</td><td>20230508</td><td>11</td><td>Michael Wilson</td><td>michael.wilson@gm...</td><td>64</td></tr>\n",
       "<tr><td>trx-388816997684</td><td>2.0</td><td>4.0</td><td>10</td><td>0.15</td><td>Credit Card</td><td>1104.9150309920312</td><td>20230508</td><td>21</td><td>Michael Wilson</td><td>michael.wilson@gm...</td><td>64</td></tr>\n",
       "<tr><td>trx-196367301588</td><td>11.0</td><td>5.0</td><td>8</td><td>0.1</td><td>Credit Card</td><td>1079.9279713916778</td><td>20230508</td><td>18</td><td>Michael Wilson</td><td>michael.wilson@gm...</td><td>64</td></tr>\n",
       "<tr><td>trx-114489736960</td><td>9.0</td><td>1.0</td><td>9</td><td>0.15</td><td>Credit Card</td><td>229.42350643515584</td><td>20230608</td><td>17</td><td>Michael Wilson</td><td>michael.wilson@gm...</td><td>64</td></tr>\n",
       "</table>\n",
       "only showing top 20 rows\n"
      ],
      "text/plain": [
       "+----------------+--------------+---------+-----+--------+--------------+------------------+--------+-----------+--------------+--------------------+------------+\n",
       "|  transaction_id|sales_agent_id|branch_id|units|discount|payment_method|       total_price|date_key|product_key| customer_name|       cleaned_email|customer_key|\n",
       "+----------------+--------------+---------+-----+--------+--------------+------------------+--------+-----------+--------------+--------------------+------------+\n",
       "|trx-209702051200|          11.0|      1.0|    5|     0.0|          Cash|           1499.95|20221005|         12|Michael Wilson|michael.wilson@gm...|          64|\n",
       "|trx-267818677599|           3.0|      2.0|    5|     0.0|   Credit Card|            399.95|20221005|         22|Michael Wilson|michael.wilson@gm...|          64|\n",
       "|trx-956064519174|          11.0|      3.0|    5|     0.0|          Cash|199.95000000000002|20221005|         29|Michael Wilson|michael.wilson@gm...|          64|\n",
       "|trx-480863914129|          11.0|      1.0|    2|     0.0|   Credit Card|             79.98|20221005|         29|Michael Wilson|michael.wilson@gm...|          64|\n",
       "|trx-288544269912|           2.0|      2.0|    4|     0.2|   Credit Card|2879.9680429148675|20221005|         11|Michael Wilson|michael.wilson@gm...|          64|\n",
       "|trx-453952256916|           5.0|      6.0|    2|     0.0|          Cash|             79.98|20221005|         10|Michael Wilson|michael.wilson@gm...|          64|\n",
       "|trx-320018303559|           7.0|      4.0|   10|     0.2|          Cash|319.92000476717953|20221005|         10|Michael Wilson|michael.wilson@gm...|          64|\n",
       "|trx-024932783521|           1.0|      3.0|    6|     0.0|          Cash|           2999.94|20221005|         25|Michael Wilson|michael.wilson@gm...|          64|\n",
       "|trx-766570299689|           5.0|      3.0|    6|    0.05|          Cash| 227.9429971396923|20230121|         16|Michael Wilson|michael.wilson@gm...|          64|\n",
       "|trx-023095954247|           3.0|      6.0|    4|     0.0|          Cash|             79.96|20230121|         28|Michael Wilson|michael.wilson@gm...|          64|\n",
       "|trx-441661829005|           9.0|      2.0|    3|     0.0|          Cash|2699.9700000000003|20230121|         11|Michael Wilson|michael.wilson@gm...|          64|\n",
       "|trx-486427858903|          10.0|      1.0|    9|     0.1|          Cash| 4049.918892713785|20230121|         25|Michael Wilson|michael.wilson@gm...|          64|\n",
       "|trx-112384316514|           2.0|      2.0|    6|     0.1|   Credit Card|215.94599427938462|20230121|         10|Michael Wilson|michael.wilson@gm...|          64|\n",
       "|trx-274247034282|           2.0|      6.0|    5|     0.2|          Cash|239.96000357568263|20230501|         20|Michael Wilson|michael.wilson@gm...|          64|\n",
       "|trx-248537789703|           8.0|      4.0|    4|    0.05|   Credit Card| 3419.961957085133|20230501|         11|Michael Wilson|michael.wilson@gm...|          64|\n",
       "|trx-026524495372|          11.0|      1.0|    2|     0.0|          Cash|             59.98|20230501|         17|Michael Wilson|michael.wilson@gm...|          64|\n",
       "|trx-769359584658|          11.0|      2.0|    4|     0.1|   Credit Card|143.96399618625642|20230501|         29|Michael Wilson|michael.wilson@gm...|          64|\n",
       "|trx-363214703408|           6.0|      2.0|    3|     0.1|          Cash|107.97299713969231|20230501|         29|Michael Wilson|michael.wilson@gm...|          64|\n",
       "|trx-935715853571|          10.0|      5.0|    3|     0.1|   Credit Card|1079.9729713904858|20230501|         14|Michael Wilson|michael.wilson@gm...|          64|\n",
       "|trx-315529317928|           2.0|      4.0|    3|     0.0|   Credit Card|            149.97|20230501|         24|Michael Wilson|michael.wilson@gm...|          64|\n",
       "+----------------+--------------+---------+-----+--------+--------------+------------------+--------+-----------+--------------+--------------------+------------+\n",
       "only showing top 20 rows"
      ]
     },
     "execution_count": 93,
     "metadata": {},
     "output_type": "execute_result"
    }
   ],
   "source": [
    "offline_fact_df=offline_fact_df.drop( \"customer_id\")\n",
    "offline_fact_df.coalesce(1)"
   ]
  },
  {
   "cell_type": "code",
   "execution_count": null,
   "id": "9f3c662e-7374-4953-9226-05ed51792fd7",
   "metadata": {},
   "outputs": [],
   "source": []
  },
  {
   "cell_type": "code",
   "execution_count": null,
   "id": "96fce259-faf0-45aa-94f2-e824d9ac4668",
   "metadata": {},
   "outputs": [],
   "source": []
  },
  {
   "cell_type": "code",
   "execution_count": null,
   "id": "f17ba608-4a33-4c48-9eaa-031090eb16fa",
   "metadata": {},
   "outputs": [],
   "source": []
  },
  {
   "cell_type": "code",
   "execution_count": 94,
   "id": "04859ea6-2fb8-4ab1-ab3f-d1f5420c9ed0",
   "metadata": {},
   "outputs": [
    {
     "name": "stdout",
     "output_type": "stream",
     "text": [
      "+---------+---------------+---------------------+------------+\n",
      "|branch_id|branch_location|branch_establish_date|branch_class|\n",
      "+---------+---------------+---------------------+------------+\n",
      "|      3.0|        Chicago|           2015-03-10|           A|\n",
      "|      5.0|        Phoenix|           2017-09-20|           C|\n",
      "|      1.0|       New York|           2017-01-15|           A|\n",
      "|      2.0|    Los Angeles|           2016-07-28|           B|\n",
      "|      4.0|        Houston|           2016-11-05|           D|\n",
      "|      6.0|       Oklahoma|           2016-09-20|           A|\n",
      "+---------+---------------+---------------------+------------+\n",
      "\n"
     ]
    }
   ],
   "source": [
    "branches_dim_df=offline_merged_df.select(\n",
    "    col(\"branch_id\"),\n",
    "    col(\"branch_location\"),\n",
    "    col(\"branch_establish_date\"),\n",
    "    col(\"branch_class\")).distinct()\n",
    "\n",
    "branches_dim_df.show()"
   ]
  },
  {
   "cell_type": "code",
   "execution_count": 95,
   "id": "d90d926c-d06a-44c8-aa24-a9f7f1d0b17d",
   "metadata": {},
   "outputs": [
    {
     "data": {
      "text/html": [
       "<table border='1'>\n",
       "<tr><th>branch_id</th><th>branch_location</th><th>branch_establish_date</th><th>branch_class</th><th>branch_key</th></tr>\n",
       "<tr><td>1.0</td><td>New York</td><td>2017-01-15</td><td>A</td><td>1</td></tr>\n",
       "<tr><td>2.0</td><td>Los Angeles</td><td>2016-07-28</td><td>B</td><td>2</td></tr>\n",
       "<tr><td>3.0</td><td>Chicago</td><td>2015-03-10</td><td>A</td><td>3</td></tr>\n",
       "<tr><td>4.0</td><td>Houston</td><td>2016-11-05</td><td>D</td><td>4</td></tr>\n",
       "<tr><td>5.0</td><td>Phoenix</td><td>2017-09-20</td><td>C</td><td>5</td></tr>\n",
       "<tr><td>6.0</td><td>Oklahoma</td><td>2016-09-20</td><td>A</td><td>6</td></tr>\n",
       "</table>\n"
      ],
      "text/plain": [
       "+---------+---------------+---------------------+------------+----------+\n",
       "|branch_id|branch_location|branch_establish_date|branch_class|branch_key|\n",
       "+---------+---------------+---------------------+------------+----------+\n",
       "|      1.0|       New York|           2017-01-15|           A|         1|\n",
       "|      2.0|    Los Angeles|           2016-07-28|           B|         2|\n",
       "|      3.0|        Chicago|           2015-03-10|           A|         3|\n",
       "|      4.0|        Houston|           2016-11-05|           D|         4|\n",
       "|      5.0|        Phoenix|           2017-09-20|           C|         5|\n",
       "|      6.0|       Oklahoma|           2016-09-20|           A|         6|\n",
       "+---------+---------------+---------------------+------------+----------+"
      ]
     },
     "execution_count": 95,
     "metadata": {},
     "output_type": "execute_result"
    }
   ],
   "source": [
    "# Define a Window specification\n",
    "window_spec = Window.orderBy(\"branch_id\")\n",
    "\n",
    "# Add a product_key column using row_number\n",
    "branches_dim_df = branches_dim_df.withColumn(\"branch_key\", row_number().over(window_spec))\n",
    "\n",
    "branches_dim_df.coalesce(1)"
   ]
  },
  {
   "cell_type": "code",
   "execution_count": 96,
   "id": "993a620f-9281-4df9-b21f-506f0975343a",
   "metadata": {},
   "outputs": [],
   "source": [
    "# Write the merged DataFrame to a single CSV file\n",
    "output_path = \"/Graduation_Project/transformed_data/schema/branches_dim.csv\"\n",
    "branches_dim_df.coalesce(1).write.mode('overwrite').csv(output_path, header=True)"
   ]
  },
  {
   "cell_type": "code",
   "execution_count": 97,
   "id": "3065766c-cbca-45b8-8538-2d5c7f307e2f",
   "metadata": {},
   "outputs": [
    {
     "data": {
      "text/html": [
       "<table border='1'>\n",
       "<tr><th>transaction_id</th><th>sales_agent_id</th><th>branch_id</th><th>units</th><th>discount</th><th>payment_method</th><th>total_price</th><th>date_key</th><th>product_key</th><th>customer_name</th><th>cleaned_email</th><th>customer_key</th><th>branch_id</th><th>branch_location</th><th>branch_establish_date</th><th>branch_class</th><th>branch_key</th></tr>\n",
       "<tr><td>trx-752036065952</td><td>5.0</td><td>1.0</td><td>2</td><td>0.0</td><td>Credit Card</td><td>199.98</td><td>20220412</td><td>4</td><td>Michael Wilson</td><td>michael.wilson@gm...</td><td>64</td><td>1.0</td><td>New York</td><td>2017-01-15</td><td>A</td><td>1</td></tr>\n",
       "<tr><td>trx-966555221163</td><td>4.0</td><td>1.0</td><td>1</td><td>0.0</td><td>Credit Card</td><td>149.99</td><td>20221008</td><td>13</td><td>Michael Wilson</td><td>michael.wilson@gm...</td><td>64</td><td>1.0</td><td>New York</td><td>2017-01-15</td><td>A</td><td>1</td></tr>\n",
       "<tr><td>trx-438034122453</td><td>8.0</td><td>1.0</td><td>9</td><td>0.15</td><td>Credit Card</td><td>382.4235107266903</td><td>20221008</td><td>24</td><td>Michael Wilson</td><td>michael.wilson@gm...</td><td>64</td><td>1.0</td><td>New York</td><td>2017-01-15</td><td>A</td><td>1</td></tr>\n",
       "<tr><td>trx-364183758782</td><td>3.0</td><td>1.0</td><td>3</td><td>0.15</td><td>Credit Card</td><td>76.47450214505196</td><td>20221201</td><td>15</td><td>Michael Wilson</td><td>michael.wilson@gm...</td><td>64</td><td>1.0</td><td>New York</td><td>2017-01-15</td><td>A</td><td>1</td></tr>\n",
       "<tr><td>trx-861589695084</td><td>8.0</td><td>1.0</td><td>8</td><td>0.2</td><td>Credit Card</td><td>3199.9360476827624</td><td>20220718</td><td>25</td><td>Michael Wilson</td><td>michael.wilson@gm...</td><td>64</td><td>1.0</td><td>New York</td><td>2017-01-15</td><td>A</td><td>1</td></tr>\n",
       "<tr><td>trx-723526461132</td><td>8.0</td><td>1.0</td><td>8</td><td>0.0</td><td>Credit Card</td><td>159.92</td><td>20220402</td><td>28</td><td>Michael Wilson</td><td>michael.wilson@gm...</td><td>64</td><td>1.0</td><td>New York</td><td>2017-01-15</td><td>A</td><td>1</td></tr>\n",
       "<tr><td>trx-128824540336</td><td>3.0</td><td>1.0</td><td>6</td><td>0.0</td><td>Credit Card</td><td>599.9399999999999</td><td>20220402</td><td>4</td><td>Michael Wilson</td><td>michael.wilson@gm...</td><td>64</td><td>1.0</td><td>New York</td><td>2017-01-15</td><td>A</td><td>1</td></tr>\n",
       "<tr><td>trx-128824540336</td><td>3.0</td><td>1.0</td><td>6</td><td>0.0</td><td>Credit Card</td><td>599.9399999999999</td><td>20220402</td><td>4</td><td>Michael Wilson</td><td>michael.wilson@gm...</td><td>64</td><td>1.0</td><td>New York</td><td>2017-01-15</td><td>A</td><td>1</td></tr>\n",
       "<tr><td>trx-389151782527</td><td>6.0</td><td>1.0</td><td>9</td><td>0.05</td><td>Cash</td><td>1709.914478543401</td><td>20220402</td><td>26</td><td>Michael Wilson</td><td>michael.wilson@gm...</td><td>64</td><td>1.0</td><td>New York</td><td>2017-01-15</td><td>A</td><td>1</td></tr>\n",
       "<tr><td>trx-921810114081</td><td>5.0</td><td>1.0</td><td>6</td><td>0.0</td><td>Credit Card</td><td>179.94</td><td>20220402</td><td>27</td><td>Michael Wilson</td><td>michael.wilson@gm...</td><td>64</td><td>1.0</td><td>New York</td><td>2017-01-15</td><td>A</td><td>1</td></tr>\n",
       "<tr><td>trx-976939297462</td><td>10.0</td><td>1.0</td><td>6</td><td>0.2</td><td>Cash</td><td>143.95200214505195</td><td>20230125</td><td>27</td><td>Michael Wilson</td><td>michael.wilson@gm...</td><td>64</td><td>1.0</td><td>New York</td><td>2017-01-15</td><td>A</td><td>1</td></tr>\n",
       "<tr><td>trx-268740193078</td><td>8.0</td><td>1.0</td><td>9</td><td>0.0</td><td>Credit Card</td><td>1349.91</td><td>20230125</td><td>13</td><td>Michael Wilson</td><td>michael.wilson@gm...</td><td>64</td><td>1.0</td><td>New York</td><td>2017-01-15</td><td>A</td><td>1</td></tr>\n",
       "<tr><td>trx-148240747376</td><td>8.0</td><td>1.0</td><td>4</td><td>0.2</td><td>Credit Card</td><td>127.9680019068718</td><td>20230125</td><td>23</td><td>Michael Wilson</td><td>michael.wilson@gm...</td><td>64</td><td>1.0</td><td>New York</td><td>2017-01-15</td><td>A</td><td>1</td></tr>\n",
       "<tr><td>trx-440008905061</td><td>7.0</td><td>1.0</td><td>10</td><td>0.2</td><td>Credit Card</td><td>319.92000476717953</td><td>20230125</td><td>29</td><td>Michael Wilson</td><td>michael.wilson@gm...</td><td>64</td><td>1.0</td><td>New York</td><td>2017-01-15</td><td>A</td><td>1</td></tr>\n",
       "<tr><td>trx-551142758868</td><td>4.0</td><td>1.0</td><td>9</td><td>0.15</td><td>Credit Card</td><td>229.42350643515584</td><td>20231120</td><td>19</td><td>Michael Wilson</td><td>michael.wilson@gm...</td><td>64</td><td>1.0</td><td>New York</td><td>2017-01-15</td><td>A</td><td>1</td></tr>\n",
       "<tr><td>trx-450969307489</td><td>8.0</td><td>1.0</td><td>4</td><td>0.0</td><td>Cash</td><td>199.96</td><td>20220513</td><td>24</td><td>Michael Wilson</td><td>michael.wilson@gm...</td><td>64</td><td>1.0</td><td>New York</td><td>2017-01-15</td><td>A</td><td>1</td></tr>\n",
       "<tr><td>trx-883317744694</td><td>9.0</td><td>1.0</td><td>3</td><td>0.0</td><td>Credit Card</td><td>59.97</td><td>20221211</td><td>28</td><td>Michael Wilson</td><td>michael.wilson@gm...</td><td>64</td><td>1.0</td><td>New York</td><td>2017-01-15</td><td>A</td><td>1</td></tr>\n",
       "<tr><td>trx-546230269849</td><td>7.0</td><td>1.0</td><td>5</td><td>0.0</td><td>Cash</td><td>4499.95</td><td>20231103</td><td>11</td><td>Michael Wilson</td><td>michael.wilson@gm...</td><td>64</td><td>1.0</td><td>New York</td><td>2017-01-15</td><td>A</td><td>1</td></tr>\n",
       "<tr><td>trx-722109727901</td><td>2.0</td><td>1.0</td><td>5</td><td>0.0</td><td>Cash</td><td>499.95</td><td>20220419</td><td>4</td><td>Michael Wilson</td><td>michael.wilson@gm...</td><td>64</td><td>1.0</td><td>New York</td><td>2017-01-15</td><td>A</td><td>1</td></tr>\n",
       "<tr><td>trx-070689626658</td><td>5.0</td><td>1.0</td><td>8</td><td>0.05</td><td>Credit Card</td><td>987.9239876031876</td><td>20220917</td><td>9</td><td>Michael Wilson</td><td>michael.wilson@gm...</td><td>64</td><td>1.0</td><td>New York</td><td>2017-01-15</td><td>A</td><td>1</td></tr>\n",
       "</table>\n",
       "only showing top 20 rows\n"
      ],
      "text/plain": [
       "+----------------+--------------+---------+-----+--------+--------------+------------------+--------+-----------+-------------+--------------------+------------+---------+---------------+---------------------+------------+----------+\n",
       "|  transaction_id|sales_agent_id|branch_id|units|discount|payment_method|       total_price|date_key|product_key|customer_name|       cleaned_email|customer_key|branch_id|branch_location|branch_establish_date|branch_class|branch_key|\n",
       "+----------------+--------------+---------+-----+--------+--------------+------------------+--------+-----------+-------------+--------------------+------------+---------+---------------+---------------------+------------+----------+\n",
       "|trx-006876824511|           1.0|      1.0|    7|     0.0|          Cash|209.92999999999998|20221005|         27|Olivia Taylor|olivia.taylor@out...|          59|      1.0|       New York|           2017-01-15|           A|         1|\n",
       "|trx-104306490853|           4.0|      1.0|    8|     0.0|          Cash|           2399.92|20230501|          3|Olivia Taylor|olivia.taylor@out...|          59|      1.0|       New York|           2017-01-15|           A|         1|\n",
       "|trx-542192368241|          11.0|      1.0|    3|     0.0|   Credit Card|             74.97|20230518|         30|Olivia Taylor|olivia.taylor@out...|          59|      1.0|       New York|           2017-01-15|           A|         1|\n",
       "|trx-675147347097|           6.0|      1.0|    7|     0.2|          Cash|  839.944012516141|20221007|         13|Olivia Taylor|olivia.taylor@out...|          59|      1.0|       New York|           2017-01-15|           A|         1|\n",
       "|trx-939829444413|          11.0|      1.0|    4|     0.0|   Credit Card|            319.96|20221007|          8|Olivia Taylor|olivia.taylor@out...|          59|      1.0|       New York|           2017-01-15|           A|         1|\n",
       "|trx-509151139191|           7.0|      1.0|    9|    0.05|          Cash|341.91449570953847|20230421|         29|Olivia Taylor|olivia.taylor@out...|          59|      1.0|       New York|           2017-01-15|           A|         1|\n",
       "|trx-889437846402|          10.0|      1.0|    8|     0.2|          Cash| 255.9360038137436|20230428|         29|Olivia Taylor|olivia.taylor@out...|          59|      1.0|       New York|           2017-01-15|           A|         1|\n",
       "|trx-813287633702|           1.0|      1.0|    4|     0.0|          Cash|            799.96|20230428|         26|Olivia Taylor|olivia.taylor@out...|          59|      1.0|       New York|           2017-01-15|           A|         1|\n",
       "|trx-813287633702|           1.0|      1.0|    4|     0.0|          Cash|            799.96|20230428|         26|Olivia Taylor|olivia.taylor@out...|          59|      1.0|       New York|           2017-01-15|           A|         1|\n",
       "|trx-374223256508|           7.0|      1.0|    2|     0.2|          Cash| 39.98400059580803|20220517|         30|Olivia Taylor|olivia.taylor@out...|          59|      1.0|       New York|           2017-01-15|           A|         1|\n",
       "|trx-492464614770|          11.0|      1.0|    4|     0.0|   Credit Card|             79.96|20220517|         28|Olivia Taylor|olivia.taylor@out...|          59|      1.0|       New York|           2017-01-15|           A|         1|\n",
       "|trx-191276409046|          10.0|      1.0|    4|     0.1|          Cash|143.96399618625642|20220517|         29|Olivia Taylor|olivia.taylor@out...|          59|      1.0|       New York|           2017-01-15|           A|         1|\n",
       "|trx-087849869724|           7.0|      1.0|    6|     0.0|          Cash|            299.94|20230210|          6|Olivia Taylor|olivia.taylor@out...|          59|      1.0|       New York|           2017-01-15|           A|         1|\n",
       "|trx-276945950873|           2.0|      1.0|    9|     0.2|   Credit Card|287.92800429046156|20230607|         23|Olivia Taylor|olivia.taylor@out...|          59|      1.0|       New York|           2017-01-15|           A|         1|\n",
       "|trx-354180575365|          11.0|      1.0|    6|    0.05|          Cash| 227.9429971396923|20230310|         10|Olivia Taylor|olivia.taylor@out...|          59|      1.0|       New York|           2017-01-15|           A|         1|\n",
       "|trx-408578467942|          11.0|      1.0|    7|     0.0|   Credit Card| 909.9300000000001|20230310|          9|Olivia Taylor|olivia.taylor@out...|          59|      1.0|       New York|           2017-01-15|           A|         1|\n",
       "|trx-903716220298|           1.0|      1.0|    4|     0.2|   Credit Card| 415.9680061984063|20230310|          9|Olivia Taylor|olivia.taylor@out...|          59|      1.0|       New York|           2017-01-15|           A|         1|\n",
       "|trx-898583933804|           8.0|      1.0|    3|     0.2|          Cash| 95.97600143015384|20230311|         23|Olivia Taylor|olivia.taylor@out...|          59|      1.0|       New York|           2017-01-15|           A|         1|\n",
       "|trx-703389135837|           5.0|      1.0|    6|    0.15|          Cash|152.94900429010391|20230311|         17|Olivia Taylor|olivia.taylor@out...|          59|      1.0|       New York|           2017-01-15|           A|         1|\n",
       "|trx-134419561957|           6.0|      1.0|    5|     0.0|   Credit Card|199.95000000000002|20230311|         23|Olivia Taylor|olivia.taylor@out...|          59|      1.0|       New York|           2017-01-15|           A|         1|\n",
       "+----------------+--------------+---------+-----+--------+--------------+------------------+--------+-----------+-------------+--------------------+------------+---------+---------------+---------------------+------------+----------+\n",
       "only showing top 20 rows"
      ]
     },
     "execution_count": 97,
     "metadata": {},
     "output_type": "execute_result"
    }
   ],
   "source": [
    "# Perform an inner join on transaction_date and date\n",
    "offline_fact_df = offline_fact_df.join(branches_dim_df, offline_fact_df[\"branch_id\"] == branches_dim_df[\"branch_id\"], \"inner\")\n",
    "offline_fact_df.coalesce(1)"
   ]
  },
  {
   "cell_type": "code",
   "execution_count": 98,
   "id": "e6f0d58d-5ae3-418d-8f51-e698b74beb05",
   "metadata": {},
   "outputs": [
    {
     "data": {
      "text/html": [
       "<table border='1'>\n",
       "<tr><th>transaction_id</th><th>sales_agent_id</th><th>units</th><th>discount</th><th>payment_method</th><th>total_price</th><th>date_key</th><th>product_key</th><th>customer_name</th><th>cleaned_email</th><th>customer_key</th><th>branch_key</th></tr>\n",
       "<tr><td>trx-288544269912</td><td>2.0</td><td>4</td><td>0.2</td><td>Credit Card</td><td>2879.9680429148675</td><td>20221005</td><td>11</td><td>Michael Wilson</td><td>michael.wilson@gm...</td><td>64</td><td>2</td></tr>\n",
       "<tr><td>trx-453952256916</td><td>5.0</td><td>2</td><td>0.0</td><td>Cash</td><td>79.98</td><td>20221005</td><td>10</td><td>Michael Wilson</td><td>michael.wilson@gm...</td><td>64</td><td>6</td></tr>\n",
       "<tr><td>trx-320018303559</td><td>7.0</td><td>10</td><td>0.2</td><td>Cash</td><td>319.92000476717953</td><td>20221005</td><td>10</td><td>Michael Wilson</td><td>michael.wilson@gm...</td><td>64</td><td>4</td></tr>\n",
       "<tr><td>trx-024932783521</td><td>1.0</td><td>6</td><td>0.0</td><td>Cash</td><td>2999.94</td><td>20221005</td><td>25</td><td>Michael Wilson</td><td>michael.wilson@gm...</td><td>64</td><td>3</td></tr>\n",
       "<tr><td>trx-209702051200</td><td>11.0</td><td>5</td><td>0.0</td><td>Cash</td><td>1499.95</td><td>20221005</td><td>12</td><td>Michael Wilson</td><td>michael.wilson@gm...</td><td>64</td><td>1</td></tr>\n",
       "<tr><td>trx-267818677599</td><td>3.0</td><td>5</td><td>0.0</td><td>Credit Card</td><td>399.95</td><td>20221005</td><td>22</td><td>Michael Wilson</td><td>michael.wilson@gm...</td><td>64</td><td>2</td></tr>\n",
       "<tr><td>trx-956064519174</td><td>11.0</td><td>5</td><td>0.0</td><td>Cash</td><td>199.95000000000002</td><td>20221005</td><td>29</td><td>Michael Wilson</td><td>michael.wilson@gm...</td><td>64</td><td>3</td></tr>\n",
       "<tr><td>trx-480863914129</td><td>11.0</td><td>2</td><td>0.0</td><td>Credit Card</td><td>79.98</td><td>20221005</td><td>29</td><td>Michael Wilson</td><td>michael.wilson@gm...</td><td>64</td><td>1</td></tr>\n",
       "<tr><td>trx-112384316514</td><td>2.0</td><td>6</td><td>0.1</td><td>Credit Card</td><td>215.94599427938462</td><td>20230121</td><td>10</td><td>Michael Wilson</td><td>michael.wilson@gm...</td><td>64</td><td>2</td></tr>\n",
       "<tr><td>trx-766570299689</td><td>5.0</td><td>6</td><td>0.05</td><td>Cash</td><td>227.9429971396923</td><td>20230121</td><td>16</td><td>Michael Wilson</td><td>michael.wilson@gm...</td><td>64</td><td>3</td></tr>\n",
       "<tr><td>trx-023095954247</td><td>3.0</td><td>4</td><td>0.0</td><td>Cash</td><td>79.96</td><td>20230121</td><td>28</td><td>Michael Wilson</td><td>michael.wilson@gm...</td><td>64</td><td>6</td></tr>\n",
       "<tr><td>trx-441661829005</td><td>9.0</td><td>3</td><td>0.0</td><td>Cash</td><td>2699.9700000000003</td><td>20230121</td><td>11</td><td>Michael Wilson</td><td>michael.wilson@gm...</td><td>64</td><td>2</td></tr>\n",
       "<tr><td>trx-486427858903</td><td>10.0</td><td>9</td><td>0.1</td><td>Cash</td><td>4049.918892713785</td><td>20230121</td><td>25</td><td>Michael Wilson</td><td>michael.wilson@gm...</td><td>64</td><td>1</td></tr>\n",
       "<tr><td>trx-457213934101</td><td>5.0</td><td>1</td><td>0.15</td><td>Credit Card</td><td>127.49150357604027</td><td>20230501</td><td>18</td><td>Michael Wilson</td><td>michael.wilson@gm...</td><td>64</td><td>2</td></tr>\n",
       "<tr><td>trx-399915651459</td><td>1.0</td><td>6</td><td>0.2</td><td>Cash</td><td>959.9520143043995</td><td>20230501</td><td>26</td><td>Michael Wilson</td><td>michael.wilson@gm...</td><td>64</td><td>3</td></tr>\n",
       "<tr><td>trx-639468939079</td><td>2.0</td><td>5</td><td>0.0</td><td>Cash</td><td>399.95</td><td>20230501</td><td>8</td><td>Michael Wilson</td><td>michael.wilson@gm...</td><td>64</td><td>5</td></tr>\n",
       "<tr><td>trx-274247034282</td><td>2.0</td><td>5</td><td>0.2</td><td>Cash</td><td>239.96000357568263</td><td>20230501</td><td>20</td><td>Michael Wilson</td><td>michael.wilson@gm...</td><td>64</td><td>6</td></tr>\n",
       "<tr><td>trx-248537789703</td><td>8.0</td><td>4</td><td>0.05</td><td>Credit Card</td><td>3419.961957085133</td><td>20230501</td><td>11</td><td>Michael Wilson</td><td>michael.wilson@gm...</td><td>64</td><td>4</td></tr>\n",
       "<tr><td>trx-026524495372</td><td>11.0</td><td>2</td><td>0.0</td><td>Cash</td><td>59.98</td><td>20230501</td><td>17</td><td>Michael Wilson</td><td>michael.wilson@gm...</td><td>64</td><td>1</td></tr>\n",
       "<tr><td>trx-769359584658</td><td>11.0</td><td>4</td><td>0.1</td><td>Credit Card</td><td>143.96399618625642</td><td>20230501</td><td>29</td><td>Michael Wilson</td><td>michael.wilson@gm...</td><td>64</td><td>2</td></tr>\n",
       "</table>\n",
       "only showing top 20 rows\n"
      ],
      "text/plain": [
       "+----------------+--------------+-----+--------+--------------+------------------+--------+-----------+--------------+--------------------+------------+----------+\n",
       "|  transaction_id|sales_agent_id|units|discount|payment_method|       total_price|date_key|product_key| customer_name|       cleaned_email|customer_key|branch_key|\n",
       "+----------------+--------------+-----+--------+--------------+------------------+--------+-----------+--------------+--------------------+------------+----------+\n",
       "|trx-529404741041|           4.0|    2|     0.0|          Cash|            259.98|20220417|         21|Michael Wilson|michael.wilson@gm...|          64|         1|\n",
       "|trx-851352592156|           1.0|    3|     0.1|          Cash|107.97299713969231|20220417|         16|Michael Wilson|michael.wilson@gm...|          64|         5|\n",
       "|trx-056857976731|           6.0|    1|    0.05|          Cash| 379.9904952317476|20220417|         14|Michael Wilson|michael.wilson@gm...|          64|         2|\n",
       "|trx-689950066124|           8.0|    4|    0.15|          Cash|2379.9660667562484|20220417|          2|Michael Wilson|michael.wilson@gm...|          64|         3|\n",
       "|trx-997480538575|          10.0|    5|     0.0|          Cash|            649.95|20220417|         21|Michael Wilson|michael.wilson@gm...|          64|         4|\n",
       "|trx-785956713142|           3.0|    7|     0.2|   Credit Card|  727.944010847211|20220417|         21|Michael Wilson|michael.wilson@gm...|          64|         1|\n",
       "|trx-249207337423|           4.0|    8|     0.0|          Cash|            479.92|20220417|          7|Michael Wilson|michael.wilson@gm...|          64|         5|\n",
       "|trx-730939790801|           4.0|    3|     0.2|   Credit Card|479.97600715219977|20220611|         26|Michael Wilson|michael.wilson@gm...|          64|         4|\n",
       "|trx-031075541928|           7.0|    1|     0.0|          Cash|             79.99|20220611|         22|Michael Wilson|michael.wilson@gm...|          64|         3|\n",
       "|trx-854054872535|           7.0|    6|     0.0|   Credit Card|5399.9400000000005|20220611|         11|Michael Wilson|michael.wilson@gm...|          64|         3|\n",
       "|trx-113821332294|           8.0|    6|     0.0|   Credit Card| 599.9399999999999|20220611|          4|Michael Wilson|michael.wilson@gm...|          64|         3|\n",
       "|trx-689026840018|           6.0|    1|     0.0|   Credit Card|            499.99|20220611|         25|Michael Wilson|michael.wilson@gm...|          64|         3|\n",
       "|trx-234454794766|           9.0|    6|     0.0|          Cash|           2399.94|20220611|         14|Michael Wilson|michael.wilson@gm...|          64|         5|\n",
       "|trx-549750025827|           6.0|    6|     0.0|          Cash|            179.94|20230405|         27|Michael Wilson|michael.wilson@gm...|          64|         1|\n",
       "|trx-836435734184|           3.0|    8|     0.0|          Cash|            239.92|20230405|         19|Michael Wilson|michael.wilson@gm...|          64|         2|\n",
       "|trx-898716294389|           1.0|    5|     0.1|          Cash|179.95499523282052|20230405|         23|Michael Wilson|michael.wilson@gm...|          64|         4|\n",
       "|trx-364228058787|           5.0|    7|     0.2|          Cash| 559.9440083438158|20230405|          4|Michael Wilson|michael.wilson@gm...|          64|         5|\n",
       "|trx-254809886548|           5.0|    1|     0.0|          Cash|             39.99|20230405|         29|Michael Wilson|michael.wilson@gm...|          64|         1|\n",
       "|trx-055421518782|           4.0|    2|     0.0|          Cash|             79.98|20230405|         16|Michael Wilson|michael.wilson@gm...|          64|         6|\n",
       "|trx-134581743940|           6.0|    1|    0.05|          Cash|142.49049821197988|20230405|         13|Michael Wilson|michael.wilson@gm...|          64|         3|\n",
       "+----------------+--------------+-----+--------+--------------+------------------+--------+-----------+--------------+--------------------+------------+----------+\n",
       "only showing top 20 rows"
      ]
     },
     "execution_count": 98,
     "metadata": {},
     "output_type": "execute_result"
    }
   ],
   "source": [
    "offline_fact_df=offline_fact_df.drop(\"branch_class\", \"branch_establish_date\", \"branch_location\",\"branch_id\")\n",
    "offline_fact_df.coalesce(1)"
   ]
  },
  {
   "cell_type": "code",
   "execution_count": null,
   "id": "5ed158bb-7707-4c5e-92ce-55bfb0fb1452",
   "metadata": {},
   "outputs": [],
   "source": []
  },
  {
   "cell_type": "code",
   "execution_count": null,
   "id": "7095dbbd-8146-49b1-a052-f4f414195dd0",
   "metadata": {},
   "outputs": [],
   "source": []
  },
  {
   "cell_type": "code",
   "execution_count": null,
   "id": "3cc7b55e-66e1-47d0-9d05-495cdbe909e4",
   "metadata": {},
   "outputs": [],
   "source": []
  },
  {
   "cell_type": "code",
   "execution_count": 99,
   "id": "9e83689b-0540-4da4-98b4-fba89ff1d049",
   "metadata": {},
   "outputs": [
    {
     "name": "stdout",
     "output_type": "stream",
     "text": [
      "+--------------+---------------------+------------------+\n",
      "|sales_agent_id|sales_agent_hire_date|  sales_agent_name|\n",
      "+--------------+---------------------+------------------+\n",
      "|           1.0|           2020-06-10|          John Doe|\n",
      "|           9.0|           2019-07-19|   Daniel Martinez|\n",
      "|          10.0|           2019-11-10|      Sophia Moore|\n",
      "|           5.0|           2020-06-23|      David Wilson|\n",
      "|           6.0|           2018-08-09|       Emma Taylor|\n",
      "|           4.0|           2018-11-12|       Emily Brown|\n",
      "|           7.0|           2018-07-05|Christopher Miller|\n",
      "|          11.0|           2018-07-10|         john wick|\n",
      "|           2.0|           2021-06-08|        Jane Smith|\n",
      "|           8.0|           2019-12-08|      Olivia Davis|\n",
      "|           3.0|           2019-07-22|   Michael Johnson|\n",
      "+--------------+---------------------+------------------+\n",
      "\n"
     ]
    }
   ],
   "source": [
    "sales_agent_dim_df=offline_merged_df.select(\n",
    "    col(\"sales_agent_id\"),\n",
    "    col(\"sales_agent_hire_date\"),\n",
    "    col(\"sales_agent_name\")).dropDuplicates([\"sales_agent_id\"])\n",
    "\n",
    "sales_agent_dim_df.show()"
   ]
  },
  {
   "cell_type": "code",
   "execution_count": 100,
   "id": "6cbd0c75-b1ee-41f3-8b52-b5b00efb2c8b",
   "metadata": {},
   "outputs": [
    {
     "data": {
      "text/html": [
       "<table border='1'>\n",
       "<tr><th>sales_agent_id</th><th>sales_agent_hire_date</th><th>sales_agent_name</th><th>sales_agent_key</th></tr>\n",
       "<tr><td>1.0</td><td>2020-06-10</td><td>John Doe</td><td>1</td></tr>\n",
       "<tr><td>10.0</td><td>2019-11-10</td><td>Sophia Moore</td><td>2</td></tr>\n",
       "<tr><td>11.0</td><td>2018-07-10</td><td>john wick</td><td>3</td></tr>\n",
       "<tr><td>2.0</td><td>2021-06-08</td><td>Jane Smith</td><td>4</td></tr>\n",
       "<tr><td>3.0</td><td>2019-07-22</td><td>Michael Johnson</td><td>5</td></tr>\n",
       "<tr><td>4.0</td><td>2018-11-12</td><td>Emily Brown</td><td>6</td></tr>\n",
       "<tr><td>5.0</td><td>2020-06-23</td><td>David Wilson</td><td>7</td></tr>\n",
       "<tr><td>6.0</td><td>2018-08-09</td><td>Emma Taylor</td><td>8</td></tr>\n",
       "<tr><td>7.0</td><td>2018-07-05</td><td>Christopher Miller</td><td>9</td></tr>\n",
       "<tr><td>8.0</td><td>2019-12-08</td><td>Olivia Davis</td><td>10</td></tr>\n",
       "<tr><td>9.0</td><td>2019-07-19</td><td>Daniel Martinez</td><td>11</td></tr>\n",
       "</table>\n"
      ],
      "text/plain": [
       "+--------------+---------------------+------------------+---------------+\n",
       "|sales_agent_id|sales_agent_hire_date|  sales_agent_name|sales_agent_key|\n",
       "+--------------+---------------------+------------------+---------------+\n",
       "|           1.0|           2020-06-10|          John Doe|              1|\n",
       "|          10.0|           2019-11-10|      Sophia Moore|              2|\n",
       "|          11.0|           2018-07-10|         john wick|              3|\n",
       "|           2.0|           2021-06-08|        Jane Smith|              4|\n",
       "|           3.0|           2019-07-22|   Michael Johnson|              5|\n",
       "|           4.0|           2018-11-12|       Emily Brown|              6|\n",
       "|           5.0|           2020-06-23|      David Wilson|              7|\n",
       "|           6.0|           2018-08-09|       Emma Taylor|              8|\n",
       "|           7.0|           2018-07-05|Christopher Miller|              9|\n",
       "|           8.0|           2019-12-08|      Olivia Davis|             10|\n",
       "|           9.0|           2019-07-19|   Daniel Martinez|             11|\n",
       "+--------------+---------------------+------------------+---------------+"
      ]
     },
     "execution_count": 100,
     "metadata": {},
     "output_type": "execute_result"
    }
   ],
   "source": [
    "# Define a Window specification\n",
    "window_spec = Window.orderBy(\"sales_agent_id\")\n",
    "\n",
    "# Add a product_key column using row_number\n",
    "sales_agent_dim_df = sales_agent_dim_df.withColumn(\"sales_agent_key\", row_number().over(window_spec))\n",
    "\n",
    "sales_agent_dim_df.coalesce(1)"
   ]
  },
  {
   "cell_type": "code",
   "execution_count": 101,
   "id": "742cf06a-7b02-4f0f-9b87-5398c6ca76af",
   "metadata": {},
   "outputs": [],
   "source": [
    "# Write the merged DataFrame to a single CSV file\n",
    "output_path = \"/Graduation_Project/transformed_data/schema/sales_agent_dim.csv\"\n",
    "sales_agent_dim_df.coalesce(1).write.mode('overwrite').csv(output_path, header=True)"
   ]
  },
  {
   "cell_type": "code",
   "execution_count": 102,
   "id": "c2ee49c9-04b1-458f-9f76-821f90c48b15",
   "metadata": {},
   "outputs": [
    {
     "data": {
      "text/html": [
       "<table border='1'>\n",
       "<tr><th>transaction_id</th><th>sales_agent_id</th><th>units</th><th>discount</th><th>payment_method</th><th>total_price</th><th>date_key</th><th>product_key</th><th>customer_name</th><th>cleaned_email</th><th>customer_key</th><th>branch_key</th><th>sales_agent_id</th><th>sales_agent_hire_date</th><th>sales_agent_name</th><th>sales_agent_key</th></tr>\n",
       "<tr><td>trx-448099421943</td><td>1.0</td><td>5</td><td>0.15</td><td>Credit Card</td><td>339.9575095355511</td><td>20230417</td><td>22</td><td>Olivia Taylor</td><td>olivia.taylor@out...</td><td>59</td><td>2</td><td>1.0</td><td>2020-06-10</td><td>John Doe</td><td>1</td></tr>\n",
       "<tr><td>trx-406663335952</td><td>1.0</td><td>4</td><td>0.0</td><td>Credit Card</td><td>519.96</td><td>20230421</td><td>9</td><td>Olivia Taylor</td><td>olivia.taylor@out...</td><td>59</td><td>5</td><td>1.0</td><td>2020-06-10</td><td>John Doe</td><td>1</td></tr>\n",
       "<tr><td>trx-813287633702</td><td>1.0</td><td>4</td><td>0.0</td><td>Cash</td><td>799.96</td><td>20230428</td><td>26</td><td>Olivia Taylor</td><td>olivia.taylor@out...</td><td>59</td><td>1</td><td>1.0</td><td>2020-06-10</td><td>John Doe</td><td>1</td></tr>\n",
       "<tr><td>trx-813287633702</td><td>1.0</td><td>4</td><td>0.0</td><td>Cash</td><td>799.96</td><td>20230428</td><td>26</td><td>Olivia Taylor</td><td>olivia.taylor@out...</td><td>59</td><td>1</td><td>1.0</td><td>2020-06-10</td><td>John Doe</td><td>1</td></tr>\n",
       "<tr><td>trx-228542307923</td><td>1.0</td><td>7</td><td>0.0</td><td>Credit Card</td><td>209.92999999999998</td><td>20230607</td><td>15</td><td>Olivia Taylor</td><td>olivia.taylor@out...</td><td>59</td><td>5</td><td>1.0</td><td>2020-06-10</td><td>John Doe</td><td>1</td></tr>\n",
       "<tr><td>trx-903716220298</td><td>1.0</td><td>4</td><td>0.2</td><td>Credit Card</td><td>415.9680061984063</td><td>20230310</td><td>9</td><td>Olivia Taylor</td><td>olivia.taylor@out...</td><td>59</td><td>1</td><td>1.0</td><td>2020-06-10</td><td>John Doe</td><td>1</td></tr>\n",
       "<tr><td>trx-440880859229</td><td>1.0</td><td>7</td><td>0.0</td><td>Credit Card</td><td>279.93</td><td>20230721</td><td>16</td><td>Olivia Taylor</td><td>olivia.taylor@out...</td><td>59</td><td>2</td><td>1.0</td><td>2020-06-10</td><td>John Doe</td><td>1</td></tr>\n",
       "<tr><td>trx-461132132500</td><td>1.0</td><td>1</td><td>0.05</td><td>Credit Card</td><td>47.490499404072764</td><td>20220321</td><td>24</td><td>Olivia Taylor</td><td>olivia.taylor@out...</td><td>59</td><td>4</td><td>1.0</td><td>2020-06-10</td><td>John Doe</td><td>1</td></tr>\n",
       "<tr><td>trx-037068981368</td><td>1.0</td><td>3</td><td>0.0</td><td>Cash</td><td>2999.9700000000003</td><td>20220321</td><td>1</td><td>Olivia Taylor</td><td>olivia.taylor@out...</td><td>59</td><td>3</td><td>1.0</td><td>2020-06-10</td><td>John Doe</td><td>1</td></tr>\n",
       "<tr><td>trx-382553805112</td><td>1.0</td><td>4</td><td>0.05</td><td>Cash</td><td>303.9619961857795</td><td>20220723</td><td>8</td><td>Olivia Taylor</td><td>olivia.taylor@out...</td><td>59</td><td>5</td><td>1.0</td><td>2020-06-10</td><td>John Doe</td><td>1</td></tr>\n",
       "<tr><td>trx-680007875409</td><td>1.0</td><td>6</td><td>0.15</td><td>Cash</td><td>407.94901144266123</td><td>20220723</td><td>8</td><td>Olivia Taylor</td><td>olivia.taylor@out...</td><td>59</td><td>6</td><td>1.0</td><td>2020-06-10</td><td>John Doe</td><td>1</td></tr>\n",
       "<tr><td>trx-349999313726</td><td>1.0</td><td>8</td><td>0.0</td><td>Credit Card</td><td>3199.92</td><td>20221024</td><td>14</td><td>Olivia Taylor</td><td>olivia.taylor@out...</td><td>59</td><td>1</td><td>1.0</td><td>2020-06-10</td><td>John Doe</td><td>1</td></tr>\n",
       "<tr><td>trx-421247712910</td><td>1.0</td><td>9</td><td>0.0</td><td>Cash</td><td>2699.91</td><td>20221024</td><td>3</td><td>Olivia Taylor</td><td>olivia.taylor@out...</td><td>59</td><td>6</td><td>1.0</td><td>2020-06-10</td><td>John Doe</td><td>1</td></tr>\n",
       "<tr><td>trx-549556147501</td><td>1.0</td><td>8</td><td>0.0</td><td>Credit Card</td><td>1199.92</td><td>20221024</td><td>13</td><td>Olivia Taylor</td><td>olivia.taylor@out...</td><td>59</td><td>5</td><td>1.0</td><td>2020-06-10</td><td>John Doe</td><td>1</td></tr>\n",
       "<tr><td>trx-710894619087</td><td>1.0</td><td>8</td><td>0.1</td><td>Cash</td><td>575.9279847431183</td><td>20230514</td><td>8</td><td>Olivia Taylor</td><td>olivia.taylor@out...</td><td>59</td><td>5</td><td>1.0</td><td>2020-06-10</td><td>John Doe</td><td>1</td></tr>\n",
       "<tr><td>trx-078521076541</td><td>1.0</td><td>1</td><td>0.05</td><td>Cash</td><td>18.99049976170063</td><td>20231107</td><td>28</td><td>Olivia Taylor</td><td>olivia.taylor@out...</td><td>59</td><td>6</td><td>1.0</td><td>2020-06-10</td><td>John Doe</td><td>1</td></tr>\n",
       "<tr><td>trx-581858005781</td><td>1.0</td><td>4</td><td>0.0</td><td>Credit Card</td><td>799.96</td><td>20221109</td><td>26</td><td>Olivia Taylor</td><td>olivia.taylor@out...</td><td>59</td><td>4</td><td>1.0</td><td>2020-06-10</td><td>John Doe</td><td>1</td></tr>\n",
       "<tr><td>trx-317270276467</td><td>1.0</td><td>6</td><td>0.0</td><td>Cash</td><td>899.94</td><td>20221214</td><td>18</td><td>Olivia Taylor</td><td>olivia.taylor@out...</td><td>59</td><td>3</td><td>1.0</td><td>2020-06-10</td><td>John Doe</td><td>1</td></tr>\n",
       "<tr><td>trx-104380311276</td><td>1.0</td><td>2</td><td>0.0</td><td>Cash</td><td>259.98</td><td>20221214</td><td>21</td><td>Olivia Taylor</td><td>olivia.taylor@out...</td><td>59</td><td>3</td><td>1.0</td><td>2020-06-10</td><td>John Doe</td><td>1</td></tr>\n",
       "<tr><td>trx-894848660672</td><td>1.0</td><td>4</td><td>0.0</td><td>Credit Card</td><td>99.96</td><td>20221214</td><td>30</td><td>Olivia Taylor</td><td>olivia.taylor@out...</td><td>59</td><td>4</td><td>1.0</td><td>2020-06-10</td><td>John Doe</td><td>1</td></tr>\n",
       "</table>\n",
       "only showing top 20 rows\n"
      ],
      "text/plain": [
       "+----------------+--------------+-----+--------+--------------+------------------+--------+-----------+--------------+--------------------+------------+----------+--------------+---------------------+----------------+---------------+\n",
       "|  transaction_id|sales_agent_id|units|discount|payment_method|       total_price|date_key|product_key| customer_name|       cleaned_email|customer_key|branch_key|sales_agent_id|sales_agent_hire_date|sales_agent_name|sales_agent_key|\n",
       "+----------------+--------------+-----+--------+--------------+------------------+--------+-----------+--------------+--------------------+------------+----------+--------------+---------------------+----------------+---------------+\n",
       "|trx-289127765128|           1.0|    5|    0.15|   Credit Card| 212.4575059592724|20231023|         24|Michael Wilson|michael.wilson@gm...|          64|         4|           1.0|           2020-06-10|        John Doe|              1|\n",
       "|trx-056802898526|           1.0|    4|     0.2|          Cash| 959.9680143046379|20231023|          3|Michael Wilson|michael.wilson@gm...|          64|         2|           1.0|           2020-06-10|        John Doe|              1|\n",
       "|trx-196446387014|           1.0|    9|    0.15|          Cash|229.42350643515584|20220909|         17|Michael Wilson|michael.wilson@gm...|          64|         4|           1.0|           2020-06-10|        John Doe|              1|\n",
       "|trx-289381747639|           1.0|    2|     0.0|   Credit Card|             99.98|20220328|         24|Michael Wilson|michael.wilson@gm...|          64|         3|           1.0|           2020-06-10|        John Doe|              1|\n",
       "|trx-035406685771|           1.0|    2|     0.2|   Credit Card|479.98400715231895|20220328|          3|Michael Wilson|michael.wilson@gm...|          64|         1|           1.0|           2020-06-10|        John Doe|              1|\n",
       "|trx-381882922314|           1.0|    8|     0.1|   Credit Card| 575.9279847431183|20220326|         22|Michael Wilson|michael.wilson@gm...|          64|         2|           1.0|           2020-06-10|        John Doe|              1|\n",
       "|trx-684949260409|           1.0|    1|     0.1|          Cash|35.990999046564106|20220616|         29|Michael Wilson|michael.wilson@gm...|          64|         4|           1.0|           2020-06-10|        John Doe|              1|\n",
       "|trx-569371592421|           1.0|    7|     0.0|   Credit Card|            699.93|20230724|          4|Michael Wilson|michael.wilson@gm...|          64|         4|           1.0|           2020-06-10|        John Doe|              1|\n",
       "|trx-428985307459|           1.0|    2|     0.0|   Credit Card|           1999.98|20220226|          1|Michael Wilson|michael.wilson@gm...|          64|         3|           1.0|           2020-06-10|        John Doe|              1|\n",
       "|trx-252148186648|           1.0|    6|     0.0|          Cash|            239.94|20230108|         29|Michael Wilson|michael.wilson@gm...|          64|         2|           1.0|           2020-06-10|        John Doe|              1|\n",
       "|trx-201157300267|           1.0|    3|     0.2|   Credit Card| 719.9760107284784|20230108|         12|Michael Wilson|michael.wilson@gm...|          64|         2|           1.0|           2020-06-10|        John Doe|              1|\n",
       "|trx-887993269666|           1.0|    4|     0.0|   Credit Card|            519.96|20230118|         21|Michael Wilson|michael.wilson@gm...|          64|         5|           1.0|           2020-06-10|        John Doe|              1|\n",
       "|trx-472297038843|           1.0|    8|     0.0|          Cash|           2399.92|20221021|         12|Michael Wilson|michael.wilson@gm...|          64|         4|           1.0|           2020-06-10|        John Doe|              1|\n",
       "|trx-400492522998|           1.0|   10|     0.0|   Credit Card|            1499.9|20221204|         18|Michael Wilson|michael.wilson@gm...|          64|         1|           1.0|           2020-06-10|        John Doe|              1|\n",
       "|trx-375454375172|           1.0|   10|     0.0|   Credit Card|             299.9|20230226|         15|Michael Wilson|michael.wilson@gm...|          64|         3|           1.0|           2020-06-10|        John Doe|              1|\n",
       "|trx-641369541127|           1.0|    8|     0.0|          Cash|            479.92|20220622|          7|Michael Wilson|michael.wilson@gm...|          64|         6|           1.0|           2020-06-10|        John Doe|              1|\n",
       "|trx-483537571528|           1.0|    9|     0.2|   Credit Card|  935.928013946414|20220622|         21|Michael Wilson|michael.wilson@gm...|          64|         6|           1.0|           2020-06-10|        John Doe|              1|\n",
       "|trx-203465158812|           1.0|    4|    0.05|   Credit Card|1519.9619809269905|20230819|         14|Michael Wilson|michael.wilson@gm...|          64|         3|           1.0|           2020-06-10|        John Doe|              1|\n",
       "|trx-203465158812|           1.0|    4|    0.05|   Credit Card|1519.9619809269905|20230819|         14|Michael Wilson|michael.wilson@gm...|          64|         3|           1.0|           2020-06-10|        John Doe|              1|\n",
       "|trx-700321934046|           1.0|    5|     0.0|          Cash|124.94999999999999|20230224|         30|Michael Wilson|michael.wilson@gm...|          64|         1|           1.0|           2020-06-10|        John Doe|              1|\n",
       "+----------------+--------------+-----+--------+--------------+------------------+--------+-----------+--------------+--------------------+------------+----------+--------------+---------------------+----------------+---------------+\n",
       "only showing top 20 rows"
      ]
     },
     "execution_count": 102,
     "metadata": {},
     "output_type": "execute_result"
    }
   ],
   "source": [
    "# Perform an inner join on transaction_date and date\n",
    "offline_fact_df = offline_fact_df.join(sales_agent_dim_df, offline_fact_df[\"sales_agent_id\"] == sales_agent_dim_df[\"sales_agent_id\"], \"inner\")\n",
    "offline_fact_df.coalesce(1)"
   ]
  },
  {
   "cell_type": "code",
   "execution_count": 103,
   "id": "b3847753-40b0-4a2f-a890-25f2c4bb6b93",
   "metadata": {},
   "outputs": [
    {
     "data": {
      "text/html": [
       "<table border='1'>\n",
       "<tr><th>transaction_id</th><th>units</th><th>discount</th><th>payment_method</th><th>total_price</th><th>date_key</th><th>product_key</th><th>customer_name</th><th>cleaned_email</th><th>customer_key</th><th>branch_key</th><th>sales_agent_key</th></tr>\n",
       "<tr><td>trx-444160413883</td><td>3</td><td>0.15</td><td>Cash</td><td>50.97450142979622</td><td>20221007</td><td>28</td><td>Ava Jones</td><td>ava.jones@yahoo.com</td><td>64</td><td>4</td><td>11</td></tr>\n",
       "<tr><td>trx-165719496429</td><td>8</td><td>0.0</td><td>Credit Card</td><td>799.92</td><td>20221007</td><td>4</td><td>Ava Jones</td><td>ava.jones@yahoo.com</td><td>64</td><td>6</td><td>2</td></tr>\n",
       "<tr><td>trx-214614885507</td><td>3</td><td>0.0</td><td>Credit Card</td><td>389.97</td><td>20221007</td><td>9</td><td>Ava Jones</td><td>ava.jones@yahoo.com</td><td>64</td><td>3</td><td>8</td></tr>\n",
       "<tr><td>trx-207212358314</td><td>7</td><td>0.0</td><td>Credit Card</td><td>1049.93</td><td>20221007</td><td>13</td><td>Ava Jones</td><td>ava.jones@yahoo.com</td><td>64</td><td>5</td><td>7</td></tr>\n",
       "<tr><td>trx-792804914907</td><td>4</td><td>0.2</td><td>Cash</td><td>639.9680095362663</td><td>20221007</td><td>26</td><td>Ava Jones</td><td>ava.jones@yahoo.com</td><td>64</td><td>2</td><td>7</td></tr>\n",
       "<tr><td>trx-272573559115</td><td>3</td><td>0.1</td><td>Cash</td><td>269.97299284815784</td><td>20221007</td><td>4</td><td>Ava Jones</td><td>ava.jones@yahoo.com</td><td>64</td><td>1</td><td>8</td></tr>\n",
       "<tr><td>trx-998492206833</td><td>9</td><td>0.0</td><td>Cash</td><td>269.90999999999997</td><td>20221007</td><td>19</td><td>Ava Jones</td><td>ava.jones@yahoo.com</td><td>64</td><td>4</td><td>10</td></tr>\n",
       "<tr><td>trx-459173050315</td><td>6</td><td>0.0</td><td>Cash</td><td>1799.94</td><td>20221007</td><td>12</td><td>Ava Jones</td><td>ava.jones@yahoo.com</td><td>64</td><td>2</td><td>6</td></tr>\n",
       "<tr><td>trx-375078371845</td><td>10</td><td>0.0</td><td>Credit Card</td><td>399.90000000000003</td><td>20221007</td><td>16</td><td>Ava Jones</td><td>ava.jones@yahoo.com</td><td>64</td><td>5</td><td>7</td></tr>\n",
       "<tr><td>trx-836483831918</td><td>6</td><td>0.0</td><td>Credit Card</td><td>899.94</td><td>20230417</td><td>13</td><td>Ava Jones</td><td>ava.jones@yahoo.com</td><td>64</td><td>6</td><td>11</td></tr>\n",
       "<tr><td>trx-994279943048</td><td>8</td><td>0.05</td><td>Cash</td><td>227.92399713993072</td><td>20230417</td><td>19</td><td>Ava Jones</td><td>ava.jones@yahoo.com</td><td>64</td><td>1</td><td>8</td></tr>\n",
       "<tr><td>trx-279101495530</td><td>9</td><td>0.1</td><td>Cash</td><td>202.41899463772774</td><td>20230417</td><td>30</td><td>Ava Jones</td><td>ava.jones@yahoo.com</td><td>64</td><td>6</td><td>6</td></tr>\n",
       "<tr><td>trx-108602900119</td><td>5</td><td>0.0</td><td>Cash</td><td>649.95</td><td>20230417</td><td>21</td><td>Ava Jones</td><td>ava.jones@yahoo.com</td><td>64</td><td>5</td><td>9</td></tr>\n",
       "<tr><td>trx-626635727281</td><td>3</td><td>0.0</td><td>Cash</td><td>449.97</td><td>20230417</td><td>13</td><td>Ava Jones</td><td>ava.jones@yahoo.com</td><td>64</td><td>6</td><td>9</td></tr>\n",
       "<tr><td>trx-469453917875</td><td>5</td><td>0.05</td><td>Credit Card</td><td>189.95249761641028</td><td>20230417</td><td>23</td><td>Ava Jones</td><td>ava.jones@yahoo.com</td><td>64</td><td>3</td><td>1</td></tr>\n",
       "<tr><td>trx-426484211014</td><td>8</td><td>0.0</td><td>Cash</td><td>7199.92</td><td>20230421</td><td>11</td><td>Ava Jones</td><td>ava.jones@yahoo.com</td><td>64</td><td>4</td><td>8</td></tr>\n",
       "<tr><td>trx-862321314733</td><td>10</td><td>0.0</td><td>Credit Card</td><td>1499.9</td><td>20230421</td><td>18</td><td>Ava Jones</td><td>ava.jones@yahoo.com</td><td>64</td><td>6</td><td>7</td></tr>\n",
       "<tr><td>trx-133342023801</td><td>10</td><td>0.2</td><td>Credit Card</td><td>639.920009535551</td><td>20230421</td><td>8</td><td>Ava Jones</td><td>ava.jones@yahoo.com</td><td>64</td><td>2</td><td>2</td></tr>\n",
       "<tr><td>trx-540910215085</td><td>6</td><td>0.1</td><td>Cash</td><td>539.9459856963157</td><td>20230421</td><td>4</td><td>Ava Jones</td><td>ava.jones@yahoo.com</td><td>64</td><td>4</td><td>2</td></tr>\n",
       "<tr><td>trx-270304162576</td><td>6</td><td>0.15</td><td>Credit Card</td><td>254.94900715112686</td><td>20230421</td><td>24</td><td>Ava Jones</td><td>ava.jones@yahoo.com</td><td>64</td><td>6</td><td>11</td></tr>\n",
       "</table>\n",
       "only showing top 20 rows\n"
      ],
      "text/plain": [
       "+----------------+-----+--------+--------------+------------------+--------+-----------+--------------+--------------------+------------+----------+---------------+\n",
       "|  transaction_id|units|discount|payment_method|       total_price|date_key|product_key| customer_name|       cleaned_email|customer_key|branch_key|sales_agent_key|\n",
       "+----------------+-----+--------+--------------+------------------+--------+-----------+--------------+--------------------+------------+----------+---------------+\n",
       "|trx-209702051200|    5|     0.0|          Cash|           1499.95|20221005|         12|Michael Wilson|michael.wilson@gm...|          64|         1|              3|\n",
       "|trx-267818677599|    5|     0.0|   Credit Card|            399.95|20221005|         22|Michael Wilson|michael.wilson@gm...|          64|         2|              5|\n",
       "|trx-956064519174|    5|     0.0|          Cash|199.95000000000002|20221005|         29|Michael Wilson|michael.wilson@gm...|          64|         3|              3|\n",
       "|trx-480863914129|    2|     0.0|   Credit Card|             79.98|20221005|         29|Michael Wilson|michael.wilson@gm...|          64|         1|              3|\n",
       "|trx-288544269912|    4|     0.2|   Credit Card|2879.9680429148675|20221005|         11|Michael Wilson|michael.wilson@gm...|          64|         2|              4|\n",
       "|trx-453952256916|    2|     0.0|          Cash|             79.98|20221005|         10|Michael Wilson|michael.wilson@gm...|          64|         6|              7|\n",
       "|trx-320018303559|   10|     0.2|          Cash|319.92000476717953|20221005|         10|Michael Wilson|michael.wilson@gm...|          64|         4|              9|\n",
       "|trx-024932783521|    6|     0.0|          Cash|           2999.94|20221005|         25|Michael Wilson|michael.wilson@gm...|          64|         3|              1|\n",
       "|trx-766570299689|    6|    0.05|          Cash| 227.9429971396923|20230121|         16|Michael Wilson|michael.wilson@gm...|          64|         3|              7|\n",
       "|trx-023095954247|    4|     0.0|          Cash|             79.96|20230121|         28|Michael Wilson|michael.wilson@gm...|          64|         6|              5|\n",
       "|trx-441661829005|    3|     0.0|          Cash|2699.9700000000003|20230121|         11|Michael Wilson|michael.wilson@gm...|          64|         2|             11|\n",
       "|trx-486427858903|    9|     0.1|          Cash| 4049.918892713785|20230121|         25|Michael Wilson|michael.wilson@gm...|          64|         1|              2|\n",
       "|trx-112384316514|    6|     0.1|   Credit Card|215.94599427938462|20230121|         10|Michael Wilson|michael.wilson@gm...|          64|         2|              4|\n",
       "|trx-274247034282|    5|     0.2|          Cash|239.96000357568263|20230501|         20|Michael Wilson|michael.wilson@gm...|          64|         6|              4|\n",
       "|trx-248537789703|    4|    0.05|   Credit Card| 3419.961957085133|20230501|         11|Michael Wilson|michael.wilson@gm...|          64|         4|             10|\n",
       "|trx-026524495372|    2|     0.0|          Cash|             59.98|20230501|         17|Michael Wilson|michael.wilson@gm...|          64|         1|              3|\n",
       "|trx-769359584658|    4|     0.1|   Credit Card|143.96399618625642|20230501|         29|Michael Wilson|michael.wilson@gm...|          64|         2|              3|\n",
       "|trx-363214703408|    3|     0.1|          Cash|107.97299713969231|20230501|         29|Michael Wilson|michael.wilson@gm...|          64|         2|              8|\n",
       "|trx-935715853571|    3|     0.1|   Credit Card|1079.9729713904858|20230501|         14|Michael Wilson|michael.wilson@gm...|          64|         5|              2|\n",
       "|trx-315529317928|    3|     0.0|   Credit Card|            149.97|20230501|         24|Michael Wilson|michael.wilson@gm...|          64|         4|              4|\n",
       "+----------------+-----+--------+--------------+------------------+--------+-----------+--------------+--------------------+------------+----------+---------------+\n",
       "only showing top 20 rows"
      ]
     },
     "execution_count": 103,
     "metadata": {},
     "output_type": "execute_result"
    }
   ],
   "source": [
    "offline_fact_df=offline_fact_df.drop(\"sales_agent_id\",\"sales_agent_name\",\"sales_agent_hire_date\")\n",
    "offline_fact_df.coalesce(1)"
   ]
  },
  {
   "cell_type": "code",
   "execution_count": null,
   "id": "bb8f3e76-b637-415e-88c8-a24ece4af3fe",
   "metadata": {},
   "outputs": [],
   "source": []
  },
  {
   "cell_type": "code",
   "execution_count": null,
   "id": "4f21ef82-5799-431b-96f0-f6a8ae810649",
   "metadata": {},
   "outputs": [],
   "source": []
  },
  {
   "cell_type": "code",
   "execution_count": null,
   "id": "e3a084e5-4085-4979-9de2-df856f9a8902",
   "metadata": {},
   "outputs": [],
   "source": []
  },
  {
   "cell_type": "code",
   "execution_count": 104,
   "id": "daac4eb7-514b-499e-bab6-47ee711eb27f",
   "metadata": {},
   "outputs": [],
   "source": [
    "# Write the merged DataFrame to a single CSV file\n",
    "output_path = \"/Graduation_Project/transformed_data/schema/offline_transactions_fact.csv\"\n",
    "offline_fact_df.coalesce(1).write.mode('overwrite').csv(output_path, header=True)"
   ]
  },
  {
   "cell_type": "code",
   "execution_count": 105,
   "id": "bcc3419c-ca23-4b2d-9eed-049b24e266e4",
   "metadata": {},
   "outputs": [],
   "source": [
    "# Write the merged DataFrame to a single CSV file\n",
    "output_path = \"/Graduation_Project/transformed_data/schema/online_transactions_fact.csv\"\n",
    "online_fact_df.coalesce(1).write.mode('overwrite').csv(output_path, header=True)"
   ]
  },
  {
   "cell_type": "code",
   "execution_count": 106,
   "id": "befd26ca-575e-4b57-b13a-436c85ce36e2",
   "metadata": {},
   "outputs": [
    {
     "data": {
      "text/plain": [
       "52500"
      ]
     },
     "execution_count": 106,
     "metadata": {},
     "output_type": "execute_result"
    }
   ],
   "source": [
    "online_fact_df.count()"
   ]
  },
  {
   "cell_type": "code",
   "execution_count": 107,
   "id": "9a5e5bae-d95b-4d79-809a-5306c4fa4504",
   "metadata": {
    "collapsed": true,
    "jupyter": {
     "outputs_hidden": true
    },
    "tags": []
   },
   "outputs": [
    {
     "data": {
      "text/plain": [
       "505000"
      ]
     },
     "execution_count": 107,
     "metadata": {},
     "output_type": "execute_result"
    }
   ],
   "source": [
    "offline_fact_df.count()"
   ]
  },
  {
   "cell_type": "code",
   "execution_count": null,
   "id": "3910562d-7c5b-4ad0-9c8b-a985ecb0b927",
   "metadata": {},
   "outputs": [],
   "source": []
  },
  {
   "cell_type": "code",
   "execution_count": 108,
   "id": "47f39aaa-9807-4631-b433-528c866e8dde",
   "metadata": {},
   "outputs": [],
   "source": [
    "spark.stop()"
   ]
  },
  {
   "cell_type": "code",
   "execution_count": null,
   "id": "c1f818fd-1805-4dda-ae8a-4787e402d8dc",
   "metadata": {},
   "outputs": [],
   "source": []
  }
 ],
 "metadata": {
  "kernelspec": {
   "display_name": "Pyspark 2",
   "language": "python",
   "name": "pyspark2"
  },
  "language_info": {
   "codemirror_mode": {
    "name": "ipython",
    "version": 3
   },
   "file_extension": ".py",
   "mimetype": "text/x-python",
   "name": "python",
   "nbconvert_exporter": "python",
   "pygments_lexer": "ipython3",
   "version": "3.6.9"
  }
 },
 "nbformat": 4,
 "nbformat_minor": 5
}
