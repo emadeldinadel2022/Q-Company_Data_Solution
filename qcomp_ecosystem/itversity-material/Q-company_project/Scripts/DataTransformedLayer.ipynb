{
 "cells": [
  {
   "cell_type": "code",
   "execution_count": 1,
   "id": "dc98cb24-2383-45ea-a2a7-0978c991108d",
   "metadata": {
    "tags": []
   },
   "outputs": [],
   "source": [
    "from pyspark.sql import SparkSession, DataFrame\n",
    "from pyspark.sql.types import *\n",
    "from pyspark.sql.window import Window\n",
    "from itertools import chain \n",
    "from typing import Dict\n",
    "from pyspark.sql.functions import col, lit, when, coalesce, split, concat, udf, concat_ws, row_number, \\\n",
    "                                    regexp_replace, lower, monotonically_increasing_id, regexp_extract, create_map\n",
    "import re \n",
    "from datetime import datetime \n",
    "import os"
   ]
  },
  {
   "cell_type": "code",
   "execution_count": 2,
   "id": "0c86e493-a366-4646-a56f-479eda050813",
   "metadata": {},
   "outputs": [],
   "source": [
    "from pyspark.sql import SparkSession, DataFrame\n",
    "from pyspark.sql.types import *\n",
    "from datetime import datetime\n",
    "\n",
    "# Configuration\n",
    "class Config:\n",
    "    RAW_BASE_PATH = \"/user/itversity/q-company_raw_layer\"\n",
    "    STANDARDIZED_BASE_PATH = \"/user/itversity/q-company_standardized_layer\"\n",
    "    CONFORMED_NORMALIZED_BASE_PATH = \"/user/itversity/q-company_conformed_layer/normalized_model\"\n",
    "    CONFORMED_DENORMALIZED_BASE_PATH = \"/user/itversity/q-company_conformed_layer/denormalized_model\"\n",
    "    \n",
    "class Schemas:\n",
    "    sales_transcation_schema = StructType([\n",
    "            StructField(\"transaction_date\", DateType(), nullable=False),\n",
    "            StructField(\"transaction_id\", StringType(), nullable=False),\n",
    "            StructField(\"customer_id\", LongType(), nullable=False),\n",
    "            StructField(\"customer_fname\", StringType(), nullable=False),\n",
    "            StructField(\"customer_lname\", StringType(), nullable=False),\n",
    "            StructField(\"customer_email\", StringType(), nullable=False),\n",
    "            StructField(\"sales_agent_id\", LongType(), nullable=True),\n",
    "            StructField(\"branch_id\", LongType(), nullable=True),\n",
    "            StructField(\"product_id\", LongType(), nullable=False),\n",
    "            StructField(\"product_name\", StringType(), nullable=False),\n",
    "            StructField(\"product_category\", StringType(), nullable=False),\n",
    "            StructField(\"offer_1\", StringType(), nullable=True),\n",
    "            StructField(\"offer_2\", StringType(), nullable=True),\n",
    "            StructField(\"offer_3\", StringType(), nullable=True),\n",
    "            StructField(\"offer_4\", StringType(), nullable=True),\n",
    "            StructField(\"offer_5\", StringType(), nullable=True),\n",
    "            StructField(\"units\", LongType(), nullable=False),\n",
    "            StructField(\"unit_price\", DoubleType(), nullable=False),\n",
    "            StructField(\"is_online\", StringType(), nullable=False),\n",
    "            StructField(\"payment_method\", StringType(), nullable=False),\n",
    "            StructField(\"shipping_address\", StringType(), nullable=True),\n",
    "            StructField(\"name\", StringType(), nullable=True),\n",
    "            StructField(\"hire_date\", DateType(), nullable=True),\n",
    "            StructField(\"location\", StringType(), nullable=True),\n",
    "            StructField(\"establish_date\", DateType(), nullable=True),\n",
    "            StructField(\"class\", StringType(), nullable=True),\n",
    "            StructField(\"group\", StringType(), nullable=False)\n",
    "        ])\n",
    "\n",
    "    offline_sales_transcation_schema = StructType([\n",
    "            StructField(\"transaction_date\", DateType(), nullable=False),\n",
    "            StructField(\"transaction_id\", StringType(), nullable=False),\n",
    "            StructField(\"customer_id\", LongType(), nullable=False),\n",
    "            StructField(\"customer_name\", StringType(), nullable=False),\n",
    "            StructField(\"customer_email\", StringType(), nullable=False),\n",
    "            StructField(\"sales_agent_id\", LongType(), nullable=False),\n",
    "            StructField(\"branch_id\", LongType(), nullable=False),\n",
    "            StructField(\"product_id\", LongType(), nullable=False),\n",
    "            StructField(\"product_name\", StringType(), nullable=False),\n",
    "            StructField(\"product_category\", StringType(), nullable=False),\n",
    "            StructField(\"units\", IntegerType(), nullable=False),\n",
    "            StructField(\"unit_price\", DoubleType(), nullable=False),\n",
    "            StructField(\"discount\", FloatType(), nullable=False),\n",
    "            StructField(\"total_price\", DoubleType(), nullable=False),\n",
    "            StructField(\"payment_method\", StringType(), nullable=False),\n",
    "            StructField(\"sales_agent_name\", StringType(), nullable=False),\n",
    "            StructField(\"sales_agent_hire_date\", DateType(), nullable=False),\n",
    "            StructField(\"branch_location\", StringType(), nullable=False),\n",
    "            StructField(\"branch_establish_date\", DateType(), nullable=False),\n",
    "            StructField(\"branch_class\", StringType(), nullable=False),\n",
    "            StructField(\"group\", StringType(), nullable=False)\n",
    "        ])\n",
    "\n",
    "    online_sales_transcation_schema = StructType([\n",
    "        StructField(\"transaction_date\", DateType(), nullable=False),\n",
    "        StructField(\"transaction_id\", StringType(), nullable=False),\n",
    "        StructField(\"customer_id\", LongType(), nullable=False),\n",
    "        StructField(\"customer_name\", StringType(), nullable=False),\n",
    "        StructField(\"customer_email\", StringType(), nullable=False),\n",
    "        StructField(\"product_id\", LongType(), nullable=False),\n",
    "        StructField(\"product_name\", StringType(), nullable=False),\n",
    "        StructField(\"product_category\", StringType(), nullable=False),\n",
    "        StructField(\"units\", IntegerType(), nullable=False),\n",
    "        StructField(\"unit_price\", DoubleType(), nullable=False),\n",
    "        StructField(\"discount\", FloatType(), nullable=False),\n",
    "        StructField(\"total_price\", DoubleType(), nullable=False),\n",
    "        StructField(\"payment_method\", StringType(), nullable=False),\n",
    "        StructField(\"shipping_street_name\",  StringType(), nullable=False), \n",
    "        StructField(\"shipping_city\",  StringType(), nullable=False),\n",
    "        StructField(\"shipping_state\",  StringType(), nullable=False),\n",
    "        StructField(\"shipping_zip_code\",  StringType(), nullable=False),\n",
    "        StructField(\"group\", StringType(), nullable=False)\n",
    "    ])\n",
    "    \n",
    "# Utility functions\n",
    "class HDFSUtils:\n",
    "    @staticmethod\n",
    "    def get_latest_file(spark: SparkSession, hdfs_path: str) -> str:\n",
    "        files = spark._jvm.org.apache.hadoop.fs.FileSystem.get(spark._jsc.hadoopConfiguration()) \\\n",
    "            .listStatus(spark._jvm.org.apache.hadoop.fs.Path(hdfs_path))\n",
    "        sorted_files = sorted(files, key=lambda f: f.getModificationTime(), reverse=True)\n",
    "        return sorted_files[0].getPath().toString() if sorted_files else None\n",
    "    "
   ]
  },
  {
   "cell_type": "code",
   "execution_count": 3,
   "id": "54493d95-e21b-4177-b122-db0256a24584",
   "metadata": {},
   "outputs": [],
   "source": [
    "spark = SparkSession\\\n",
    "    .builder\\\n",
    "    .appName(\"DataTransformedLayer\")\\\n",
    "    .getOrCreate()\n"
   ]
  },
  {
   "cell_type": "code",
   "execution_count": 4,
   "id": "b1670484-e63f-4f9d-80b5-6ecfa54d9300",
   "metadata": {},
   "outputs": [],
   "source": [
    "def align_schemas(df1, df2):\n",
    "    columns1 = set(df1.columns)\n",
    "    columns2 = set(df2.columns)\n",
    "    \n",
    "    # Columns present in df1 but not in df2\n",
    "    for col_name in columns1 - columns2:\n",
    "        df2 = df2.withColumn(col_name, lit(None))\n",
    "    \n",
    "    # Columns present in df2 but not in df1\n",
    "    for col_name in columns2 - columns1:\n",
    "        df1 = df1.withColumn(col_name, lit(None))\n",
    "    \n",
    "    # Ensure both DataFrames have the same column order\n",
    "    all_columns = sorted(list(columns1.union(columns2)))\n",
    "    df1 = df1.select(all_columns)\n",
    "    df2 = df2.select(all_columns)\n",
    "    \n",
    "    return df1, df2\n"
   ]
  },
  {
   "cell_type": "code",
   "execution_count": 5,
   "id": "239e7389-8da1-4d39-9a3a-ab3a9d2d6885",
   "metadata": {},
   "outputs": [],
   "source": [
    "def read_parquet_with_schema(spark: SparkSession, path: str) -> DataFrame:\n",
    "    schema_path = os.path.join(path, \"_schema\")\n",
    "    schema_df = spark.read.parquet(schema_path)\n",
    "    schema = schema_df.schema\n",
    "    print(schema)\n",
    "    \n",
    "    df = spark.read.schema(schema).parquet(path)\n",
    "    \n",
    "    return df"
   ]
  },
  {
   "cell_type": "code",
   "execution_count": 8,
   "id": "a917f9ec-40af-48f9-8a56-f6c601ed01b3",
   "metadata": {},
   "outputs": [],
   "source": [
    "def process_denormalized_model(spark: SparkSession) -> None:\n",
    "    current_day = datetime.now().strftime(\"%Y-%m-%d\")\n",
    "    \n",
    "    hdfs_path = Config.STANDARDIZED_BASE_PATH\n",
    "    \n",
    "    input_base_path = hdfs_path + '/standardized_sales_transaction_' + current_day\n",
    "        \n",
    "    online_df = read_parquet_with_schema(spark, f\"{input_base_path}/online_transactions*\")\n",
    "    online_df_a = online_df.withColumn(\"transaction_type\", lit(\"online\"))\n",
    "    \n",
    "    offline_df = read_parquet_with_schema(spark, f\"{input_base_path}/offline_transactions*\")\n",
    "    offline_df_a = offline_df.withColumn(\"transaction_type\", lit(\"offline\"))\n",
    "    \n",
    "    online_df_a, offline_df_a = align_schemas(offline_df_a, online_df_a)\n",
    "    \n",
    "    all_df = online_df_a.union(offline_df_a)\n",
    "    \n",
    "    new_order = [\n",
    "            'transaction_id', 'transaction_date', 'transaction_type', 'customer_id', 'customer_name', 'customer_email',\n",
    "            'product_id', 'product_name', 'product_category', 'units', 'unit_price', 'discount',\n",
    "            'payment_method', 'group', 'sales_agent_id', 'sales_agent_name',\n",
    "            'sales_agent_hire_date', 'branch_id', 'branch_location', 'branch_class',\n",
    "            'shipping_street_name', 'shipping_city', 'shipping_state', 'shipping_zip_code'\n",
    "        ]\n",
    "        \n",
    "\n",
    "    return online_df, offline_df, all_df.select(new_order)\n"
   ]
  },
  {
   "cell_type": "code",
   "execution_count": 9,
   "id": "deb91f12-c389-4a02-a945-26deb7287837",
   "metadata": {
    "tags": []
   },
   "outputs": [
    {
     "name": "stdout",
     "output_type": "stream",
     "text": [
      "StructType(List(StructField(transaction_date,DateType,true),StructField(transaction_id,StringType,true),StructField(customer_id,LongType,true),StructField(customer_name,StringType,true),StructField(customer_email,StringType,true),StructField(product_id,LongType,true),StructField(product_name,StringType,true),StructField(product_category,StringType,true),StructField(units,LongType,true),StructField(unit_price,DoubleType,true),StructField(discount,FloatType,true),StructField(total_price,DoubleType,true),StructField(payment_method,StringType,true),StructField(shipping_street_name,StringType,true),StructField(shipping_city,StringType,true),StructField(shipping_state,StringType,true),StructField(shipping_zip_code,StringType,true),StructField(group,StringType,true)))\n",
      "StructType(List(StructField(transaction_date,DateType,true),StructField(transaction_id,StringType,true),StructField(customer_id,LongType,true),StructField(customer_name,StringType,true),StructField(customer_email,StringType,true),StructField(sales_agent_id,LongType,true),StructField(branch_id,LongType,true),StructField(product_id,LongType,true),StructField(product_name,StringType,true),StructField(product_category,StringType,true),StructField(units,LongType,true),StructField(unit_price,DoubleType,true),StructField(discount,FloatType,true),StructField(total_price,DoubleType,true),StructField(payment_method,StringType,true),StructField(sales_agent_name,StringType,true),StructField(sales_agent_hire_date,DateType,true),StructField(branch_location,StringType,true),StructField(branch_establish_date,DateType,true),StructField(branch_class,StringType,true),StructField(group,StringType,true)))\n"
     ]
    }
   ],
   "source": [
    "online_df, offline_df, all_df = process_denormalized_model(spark)"
   ]
  },
  {
   "cell_type": "code",
   "execution_count": 24,
   "id": "213f49b3-e184-492a-924f-6dbd824711b1",
   "metadata": {},
   "outputs": [],
   "source": [
    "def denorm_modeling(df: DataFrame, transaction_type: str) -> None:\n",
    "    spark = SparkSession.builder.getOrCreate()\n",
    "    \n",
    "    denorm_path = Config.CONFORMED_DENORMALIZED_BASE_PATH\n",
    "    file_path = None\n",
    "    \n",
    "    if transaction_type == 'online':\n",
    "        file_path = denorm_path + \"/online_fact_table/online_merged\"\n",
    "    elif transaction_type == 'offline':\n",
    "        file_path = denorm_path + \"/offline_fact_table/offline_merged\"\n",
    "    else:\n",
    "        file_path = denorm_path + \"/all_sales_fact_table/sales_merged\"\n",
    "    \n",
    "    fs = spark._jvm.org.apache.hadoop.fs.FileSystem.get(spark._jsc.hadoopConfiguration())\n",
    "    path = spark._jvm.org.apache.hadoop.fs.Path(file_path)\n",
    "    merged_file_exists = fs.exists(path)\n",
    "\n",
    "    schema = df.schema\n",
    "    \n",
    "    if merged_file_exists:\n",
    "        existing_df = spark.read.parquet(file_path)\n",
    "        \n",
    "        existing_df.cache()\n",
    "        \n",
    "        merged_df = existing_df.unionByName(df).dropDuplicates()\n",
    "        \n",
    "        existing_df.unpersist()\n",
    "    else:\n",
    "        merged_df = df\n",
    "    \n",
    "    merged_df.write.option(\"schema\", schema.json()).mode(\"overwrite\").parquet(file_path)\n",
    "\n",
    "    print(f\"Appended {df.count()} rows to {file_path}\")\n"
   ]
  },
  {
   "cell_type": "code",
   "execution_count": 23,
   "id": "60d47293-88bb-4cf2-a290-3d4212e5bccc",
   "metadata": {
    "tags": []
   },
   "outputs": [
    {
     "name": "stdout",
     "output_type": "stream",
     "text": [
      "Appended 500 rows to /user/itversity/q-company_conformed_layer/denormalized_model/online_fact_table/online_merged\n"
     ]
    }
   ],
   "source": [
    "denorm_modeling(online_df, 'online')"
   ]
  },
  {
   "cell_type": "code",
   "execution_count": 47,
   "id": "ed2d67a8-121a-4b58-8247-8e790e800588",
   "metadata": {},
   "outputs": [
    {
     "name": "stdout",
     "output_type": "stream",
     "text": [
      "Appended 1000 rows to /user/itversity/q-company_conformed_layer/denormalized_model/offline_fact_table/offline_merged\n"
     ]
    }
   ],
   "source": [
    "denorm_modeling(offline_df, 'offline')"
   ]
  },
  {
   "cell_type": "code",
   "execution_count": 48,
   "id": "81eda634-3e6b-4629-b3ed-165e2cf7d37e",
   "metadata": {},
   "outputs": [
    {
     "name": "stdout",
     "output_type": "stream",
     "text": [
      "Appended 1500 rows to /user/itversity/q-company_conformed_layer/denormalized_model/all_sales_fact_table/sales_merged\n"
     ]
    }
   ],
   "source": [
    "denorm_modeling(all_df, 'all')"
   ]
  },
  {
   "cell_type": "code",
   "execution_count": null,
   "id": "2b968afe-b026-4329-af4b-cbce998af7ff",
   "metadata": {},
   "outputs": [],
   "source": []
  },
  {
   "cell_type": "code",
   "execution_count": 25,
   "id": "28b8474c-f00c-4028-a487-de376ff1a6d8",
   "metadata": {},
   "outputs": [],
   "source": [
    "path = Config.CONFORMED_DENORMALIZED_BASE_PATH + \"/online_fact_table/online_merged\"\n",
    "\n",
    "online = spark.read.parquet(path)"
   ]
  },
  {
   "cell_type": "code",
   "execution_count": 27,
   "id": "ce14a9da-baf9-4566-94fe-82a900f2da97",
   "metadata": {},
   "outputs": [],
   "source": [
    "online2 = spark.read.parquet(path)"
   ]
  },
  {
   "cell_type": "code",
   "execution_count": null,
   "id": "5bfa480e-4dab-4889-a133-7a57c31c3720",
   "metadata": {},
   "outputs": [],
   "source": []
  },
  {
   "cell_type": "code",
   "execution_count": 32,
   "id": "77bd49e6-09c4-4df4-aee7-d78fbcc4c07e",
   "metadata": {
    "tags": []
   },
   "outputs": [],
   "source": [
    "from pyspark.sql.functions import col, dayofmonth, dayofweek, dayofyear, month, year, weekofyear, quarter, regexp_replace, date_format\n",
    "from datetime import datetime, timedelta\n",
    "\n",
    "# Generate Date Range (Example: from 2023-01-01 to 2023-01-05)\n",
    "start_date = datetime(2020, 1, 1)\n",
    "end_date = datetime(2025, 12, 31)\n",
    "date_list = [start_date + timedelta(days=x) for x in range((end_date - start_date).days + 1)]\n",
    "\n",
    "# Create DataFrame\n",
    "date_df = spark.createDataFrame([(date,) for date in date_list], [\"date\"])\n",
    "\n",
    "# Convert date column to match transaction_date format (yyyy-MM-dd)\n",
    "date_df = date_df.withColumn(\"date\", date_format(col(\"date\"), \"yyyy-MM-dd\"))\n",
    "\n",
    "# Add Surrogate Key (yyyyMMdd format)\n",
    "date_df = date_df.withColumn(\"date_key\", \n",
    "                             regexp_replace(date_format(col(\"date\"), \"yyyyMMdd\"), \"-\", \"\").cast(\"long\"))\n",
    "\n",
    "# Extract Date Components\n",
    "date_df = date_df.withColumn(\"day\", dayofmonth(col(\"date\"))) \\\n",
    "    .withColumn(\"day_of_week\", dayofweek(col(\"date\"))) \\\n",
    "    .withColumn(\"day_of_year\", dayofyear(col(\"date\"))) \\\n",
    "    .withColumn(\"week_of_year\", weekofyear(col(\"date\"))) \\\n",
    "    .withColumn(\"month\", month(col(\"date\"))) \\\n",
    "    .withColumn(\"quarter\", quarter(col(\"date\"))) \\\n",
    "    .withColumn(\"year\", year(col(\"date\"))) \\\n",
    "    .withColumn(\"is_weekend\", (col(\"day_of_week\") >= 6).cast(\"integer\")) \\\n",
    "    .withColumn(\"month_name\", date_format(col(\"date\"), \"MMMM\")) \\\n",
    "    .withColumn(\"day_name\", date_format(col(\"date\"), \"EEEE\")) \\\n",
    "    .withColumn(\"year_month\", date_format(col(\"date\"), \"yyyyMM\"))\n",
    "\n",
    "output_path = Config.CONFORMED_NORMALIZED_BASE_PATH + \"/date_dim/\" + \"date_dim_table\"\n",
    "date_df.write.mode('overwrite').parquet(output_path)\n"
   ]
  },
  {
   "cell_type": "code",
   "execution_count": 42,
   "id": "afe2d9f2-3fd2-40a5-9b4c-9e35c197585a",
   "metadata": {
    "tags": []
   },
   "outputs": [],
   "source": [
    "offline_fact_df = offline_df.select(\n",
    "    col(\"transaction_id\"),\n",
    "    col(\"transaction_date\"),\n",
    "    col(\"customer_id\"),\n",
    "    col(\"sales_agent_id\"),\n",
    "    col(\"branch_id\"),\n",
    "    col(\"product_id\"),\n",
    "    col(\"units\"),\n",
    "    col(\"unit_price\"),\n",
    "    col(\"discount\"),\n",
    "    col(\"payment_method\"),\n",
    "    col(\"total_price\"))"
   ]
  },
  {
   "cell_type": "code",
   "execution_count": 43,
   "id": "9afe388f-f94f-4cd0-b05d-42a8f2523b48",
   "metadata": {
    "collapsed": true,
    "jupyter": {
     "outputs_hidden": true
    },
    "tags": []
   },
   "outputs": [
    {
     "name": "stdout",
     "output_type": "stream",
     "text": [
      "-RECORD 0----------------------------\n",
      " transaction_id   | trx-930670956039 \n",
      " transaction_date | 2022-01-01       \n",
      " customer_id      | 85462            \n",
      " sales_agent_id   | 6                \n",
      " branch_id        | 2                \n",
      " product_id       | 3                \n",
      " units            | 7                \n",
      " unit_price       | 299.99           \n",
      " discount         | 0.0              \n",
      " payment_method   | Credit Card      \n",
      " total_price      | 2099.93          \n",
      " date             | 2022-01-01       \n",
      " date_key         | 20220101         \n",
      " day              | 1                \n",
      " day_of_week      | 7                \n",
      " day_of_year      | 1                \n",
      " week_of_year     | 52               \n",
      " month            | 1                \n",
      " quarter          | 1                \n",
      " year             | 2022             \n",
      " is_weekend       | 1                \n",
      " month_name       | January          \n",
      " day_name         | Saturday         \n",
      " year_month       | 202201           \n",
      "-RECORD 1----------------------------\n",
      " transaction_id   | trx-184315170972 \n",
      " transaction_date | 2022-01-01       \n",
      " customer_id      | 85553            \n",
      " sales_agent_id   | 7                \n",
      " branch_id        | 3                \n",
      " product_id       | 23               \n",
      " units            | 8                \n",
      " unit_price       | 39.99            \n",
      " discount         | 0.0              \n",
      " payment_method   | Credit Card      \n",
      " total_price      | 319.92           \n",
      " date             | 2022-01-01       \n",
      " date_key         | 20220101         \n",
      " day              | 1                \n",
      " day_of_week      | 7                \n",
      " day_of_year      | 1                \n",
      " week_of_year     | 52               \n",
      " month            | 1                \n",
      " quarter          | 1                \n",
      " year             | 2022             \n",
      " is_weekend       | 1                \n",
      " month_name       | January          \n",
      " day_name         | Saturday         \n",
      " year_month       | 202201           \n",
      "-RECORD 2----------------------------\n",
      " transaction_id   | trx-783039674351 \n",
      " transaction_date | 2022-01-03       \n",
      " customer_id      | 85487            \n",
      " sales_agent_id   | 1                \n",
      " branch_id        | 1                \n",
      " product_id       | 12               \n",
      " units            | 3                \n",
      " unit_price       | 299.99           \n",
      " discount         | 0.1              \n",
      " payment_method   | Cash             \n",
      " total_price      | 809.973          \n",
      " date             | 2022-01-03       \n",
      " date_key         | 20220103         \n",
      " day              | 3                \n",
      " day_of_week      | 2                \n",
      " day_of_year      | 3                \n",
      " week_of_year     | 1                \n",
      " month            | 1                \n",
      " quarter          | 1                \n",
      " year             | 2022             \n",
      " is_weekend       | 0                \n",
      " month_name       | January          \n",
      " day_name         | Monday           \n",
      " year_month       | 202201           \n",
      "-RECORD 3----------------------------\n",
      " transaction_id   | trx-565773985019 \n",
      " transaction_date | 2022-01-03       \n",
      " customer_id      | 85544            \n",
      " sales_agent_id   | 5                \n",
      " branch_id        | 1                \n",
      " product_id       | 3                \n",
      " units            | 2                \n",
      " unit_price       | 299.99           \n",
      " discount         | 0.0              \n",
      " payment_method   | Cash             \n",
      " total_price      | 599.98           \n",
      " date             | 2022-01-03       \n",
      " date_key         | 20220103         \n",
      " day              | 3                \n",
      " day_of_week      | 2                \n",
      " day_of_year      | 3                \n",
      " week_of_year     | 1                \n",
      " month            | 1                \n",
      " quarter          | 1                \n",
      " year             | 2022             \n",
      " is_weekend       | 0                \n",
      " month_name       | January          \n",
      " day_name         | Monday           \n",
      " year_month       | 202201           \n",
      "-RECORD 4----------------------------\n",
      " transaction_id   | trx-462079913238 \n",
      " transaction_date | 2022-01-03       \n",
      " customer_id      | 85549            \n",
      " sales_agent_id   | 8                \n",
      " branch_id        | 4                \n",
      " product_id       | 7                \n",
      " units            | 8                \n",
      " unit_price       | 59.99            \n",
      " discount         | 0.15             \n",
      " payment_method   | Cash             \n",
      " total_price      | 407.932          \n",
      " date             | 2022-01-03       \n",
      " date_key         | 20220103         \n",
      " day              | 3                \n",
      " day_of_week      | 2                \n",
      " day_of_year      | 3                \n",
      " week_of_year     | 1                \n",
      " month            | 1                \n",
      " quarter          | 1                \n",
      " year             | 2022             \n",
      " is_weekend       | 0                \n",
      " month_name       | January          \n",
      " day_name         | Monday           \n",
      " year_month       | 202201           \n",
      "only showing top 5 rows\n",
      "\n"
     ]
    }
   ],
   "source": [
    "\n",
    "# Convert transaction_date in online_fact_df to match the format yyyy-MM-dd\n",
    "offline_fact_df = offline_fact_df.withColumn(\"transaction_date\", date_format(col(\"transaction_date\"), \"yyyy-MM-dd\"))\n",
    "\n",
    "# Perform an inner join on transaction_date and date\n",
    "joined_df = offline_fact_df.join(date_df, offline_fact_df[\"transaction_date\"] == date_df[\"date\"], \"inner\")\n",
    "\n",
    "joined_df.show(5, False, True)\n"
   ]
  },
  {
   "cell_type": "code",
   "execution_count": 44,
   "id": "d9580a48-c843-4fd5-8501-11c6652c37d5",
   "metadata": {
    "collapsed": true,
    "jupyter": {
     "outputs_hidden": true
    },
    "tags": []
   },
   "outputs": [
    {
     "data": {
      "text/plain": [
       "['transaction_id',\n",
       " 'customer_id',\n",
       " 'sales_agent_id',\n",
       " 'branch_id',\n",
       " 'product_id',\n",
       " 'units',\n",
       " 'unit_price',\n",
       " 'discount',\n",
       " 'payment_method',\n",
       " 'total_price',\n",
       " 'date_key']"
      ]
     },
     "execution_count": 44,
     "metadata": {},
     "output_type": "execute_result"
    }
   ],
   "source": [
    "offline_fact_df=joined_df.select(\n",
    "    col(\"transaction_id\"),\n",
    "    col(\"customer_id\"),\n",
    "    col(\"sales_agent_id\"),\n",
    "    col(\"branch_id\"),\n",
    "    col(\"product_id\"),\n",
    "    col(\"units\"),\n",
    "    col(\"unit_price\"),\n",
    "    col(\"discount\"),\n",
    "    col(\"payment_method\"),\n",
    "    col(\"total_price\"),\n",
    "    col(\"date_key\")\n",
    ")\n",
    "\n",
    "offline_fact_df.columns"
   ]
  },
  {
   "cell_type": "code",
   "execution_count": 46,
   "id": "1f71ea11-bcda-41b7-b89c-7596ead00325",
   "metadata": {
    "collapsed": true,
    "jupyter": {
     "outputs_hidden": true
    },
    "tags": []
   },
   "outputs": [
    {
     "name": "stdout",
     "output_type": "stream",
     "text": [
      "-RECORD 0-----------------------------------------------\n",
      " transaction_date     | 2022-06-07                      \n",
      " transaction_id       | trx-620490661140                \n",
      " customer_id          | 85489                           \n",
      " product_id           | 25                              \n",
      " units                | 2                               \n",
      " unit_price           | 499.99                          \n",
      " discount             | 0.0                             \n",
      " payment_method       | Stripe                          \n",
      " group                | group1                          \n",
      " shipping_street_name | 3373 Runnymede Place Northwest  \n",
      " shipping_city        | Washington                      \n",
      " shipping_state       | District of Columbia            \n",
      " shipping_zip_code    | 20015                           \n",
      " total_price          | 999.98                          \n",
      "-RECORD 1-----------------------------------------------\n",
      " transaction_date     | 2022-02-04                      \n",
      " transaction_id       | trx-895867959806                \n",
      " customer_id          | 85536                           \n",
      " product_id           | 25                              \n",
      " units                | 8                               \n",
      " unit_price           | 499.99                          \n",
      " discount             | 0.05                            \n",
      " payment_method       | Credit Card                     \n",
      " group                | group1                          \n",
      " shipping_street_name | 2850 Davenport Street Northwest \n",
      " shipping_city        | Washington                      \n",
      " shipping_state       | District of Columbia            \n",
      " shipping_zip_code    | 20008                           \n",
      " total_price          | 3799.924                        \n",
      "only showing top 2 rows\n",
      "\n"
     ]
    }
   ],
   "source": [
    "online_fact_df=online_df.select(\n",
    "    col(\"transaction_date\"),\n",
    "    col(\"transaction_id\"),\n",
    "    col(\"customer_id\"),\n",
    "    col(\"product_id\"),\n",
    "    col(\"units\"),\n",
    "    col(\"unit_price\"),\n",
    "    col(\"discount\"),\n",
    "    col(\"payment_method\"),\n",
    "    col(\"group\"),\n",
    "    col(\"shipping_street_name\"),\n",
    "    col(\"shipping_city\"),\n",
    "    col(\"shipping_state\"),\n",
    "    col(\"shipping_zip_code\"),\n",
    "    col(\"total_price\")\n",
    ")\n",
    "\n",
    "online_fact_df.show(2, False, True)"
   ]
  },
  {
   "cell_type": "code",
   "execution_count": 76,
   "id": "b8a312f4-2343-4cf4-a627-7353d90720e0",
   "metadata": {
    "collapsed": true,
    "jupyter": {
     "outputs_hidden": true
    },
    "tags": []
   },
   "outputs": [
    {
     "data": {
      "text/html": [
       "<table border='1'>\n",
       "<tr><th>transaction_date</th><th>transaction_id</th><th>customer_id</th><th>product_id</th><th>units</th><th>unit_price</th><th>discount</th><th>payment_method</th><th>group</th><th>shipping_street_name</th><th>shipping_city</th><th>shipping_state</th><th>shipping_zip_code</th><th>total_price</th><th>date</th><th>date_key</th><th>day</th><th>day_of_week</th><th>day_of_year</th><th>week_of_year</th><th>month</th><th>quarter</th><th>year</th><th>is_weekend</th><th>month_name</th><th>day_name</th><th>year_month</th></tr>\n",
       "<tr><td>2022-01-01</td><td>trx-038966531476</td><td>85511</td><td>11</td><td>9</td><td>899.99</td><td>0.0</td><td>PayPal</td><td>2</td><td>1783 Blakely Road</td><td>Colchester</td><td>Vermont</td><td>05446</td><td>8099.91</td><td>2022-01-01</td><td>20220101</td><td>1</td><td>7</td><td>1</td><td>52</td><td>1</td><td>1</td><td>2022</td><td>1</td><td>January</td><td>Saturday</td><td>202201</td></tr>\n",
       "<tr><td>2022-01-01</td><td>trx-196650129641</td><td>85502</td><td>8</td><td>1</td><td>79.99</td><td>0.0</td><td>Stripe</td><td>2</td><td>88 Shute Street</td><td>Everett</td><td>Massachusetts</td><td>02149</td><td>79.99</td><td>2022-01-01</td><td>20220101</td><td>1</td><td>7</td><td>1</td><td>52</td><td>1</td><td>1</td><td>2022</td><td>1</td><td>January</td><td>Saturday</td><td>202201</td></tr>\n",
       "<tr><td>2022-01-01</td><td>trx-961186738199</td><td>85540</td><td>9</td><td>8</td><td>129.99</td><td>0.2</td><td>PayPal</td><td>3</td><td>45 Parsons Avenue</td><td>Saint Albans City</td><td>Vermont</td><td>05478</td><td>831.9360123968125</td><td>2022-01-01</td><td>20220101</td><td>1</td><td>7</td><td>1</td><td>52</td><td>1</td><td>1</td><td>2022</td><td>1</td><td>January</td><td>Saturday</td><td>202201</td></tr>\n",
       "<tr><td>2022-01-01</td><td>trx-961186738199</td><td>85540</td><td>9</td><td>8</td><td>129.99</td><td>0.2</td><td>PayPal</td><td>1</td><td>45 Parsons Avenue</td><td>Saint Albans City</td><td>Vermont</td><td>05478</td><td>831.9360123968125</td><td>2022-01-01</td><td>20220101</td><td>1</td><td>7</td><td>1</td><td>52</td><td>1</td><td>1</td><td>2022</td><td>1</td><td>January</td><td>Saturday</td><td>202201</td></tr>\n",
       "<tr><td>2022-01-01</td><td>trx-807433736285</td><td>85505</td><td>24</td><td>9</td><td>49.99</td><td>0.2</td><td>Stripe</td><td>4</td><td>6460 Vermont 113</td><td>Vershire</td><td>Vermont</td><td>05079</td><td>359.92800536334516</td><td>2022-01-01</td><td>20220101</td><td>1</td><td>7</td><td>1</td><td>52</td><td>1</td><td>1</td><td>2022</td><td>1</td><td>January</td><td>Saturday</td><td>202201</td></tr>\n",
       "<tr><td>2022-01-01</td><td>trx-378573229506</td><td>85552</td><td>7</td><td>1</td><td>59.99</td><td>0.05</td><td>Credit Card</td><td>6</td><td>1265 Xavier Avenue</td><td>Hayward</td><td>California</td><td>94545</td><td>56.990499284863475</td><td>2022-01-01</td><td>20220101</td><td>1</td><td>7</td><td>1</td><td>52</td><td>1</td><td>1</td><td>2022</td><td>1</td><td>January</td><td>Saturday</td><td>202201</td></tr>\n",
       "<tr><td>2022-01-01</td><td>trx-812311767786</td><td>85525</td><td>11</td><td>8</td><td>899.99</td><td>0.2</td><td>Stripe</td><td>6</td><td>129 Glen Street</td><td>West Brattleboro</td><td>Vermont</td><td>05301</td><td>5759.936085829735</td><td>2022-01-01</td><td>20220101</td><td>1</td><td>7</td><td>1</td><td>52</td><td>1</td><td>1</td><td>2022</td><td>1</td><td>January</td><td>Saturday</td><td>202201</td></tr>\n",
       "<tr><td>2022-01-01</td><td>trx-714156427993</td><td>85519</td><td>5</td><td>4</td><td>19.99</td><td>0.0</td><td>PayPal</td><td>6</td><td>52 Linnmore Drive</td><td>Manchester</td><td>Connecticut</td><td>06040</td><td>79.96</td><td>2022-01-01</td><td>20220101</td><td>1</td><td>7</td><td>1</td><td>52</td><td>1</td><td>1</td><td>2022</td><td>1</td><td>January</td><td>Saturday</td><td>202201</td></tr>\n",
       "<tr><td>2022-01-01</td><td>trx-926752978689</td><td>85553</td><td>15</td><td>10</td><td>29.99</td><td>0.0</td><td>PayPal</td><td>6</td><td>1313 North Road</td><td>Hinesburg</td><td>Vermont</td><td>05461</td><td>299.9</td><td>2022-01-01</td><td>20220101</td><td>1</td><td>7</td><td>1</td><td>52</td><td>1</td><td>1</td><td>2022</td><td>1</td><td>January</td><td>Saturday</td><td>202201</td></tr>\n",
       "<tr><td>2022-01-01</td><td>trx-377988149376</td><td>85548</td><td>30</td><td>6</td><td>24.99</td><td>0.0</td><td>Stripe</td><td>6</td><td>3328 Sunny Meadow...</td><td>Birmingham</td><td>Alabama</td><td>35242</td><td>149.94</td><td>2022-01-01</td><td>20220101</td><td>1</td><td>7</td><td>1</td><td>52</td><td>1</td><td>1</td><td>2022</td><td>1</td><td>January</td><td>Saturday</td><td>202201</td></tr>\n",
       "<tr><td>2022-01-01</td><td>trx-578810017511</td><td>85510</td><td>27</td><td>2</td><td>29.99</td><td>0.05</td><td>PayPal</td><td>6</td><td>3578 Galindo Street</td><td>Oakland</td><td>California</td><td>94601</td><td>56.98099928498268</td><td>2022-01-01</td><td>20220101</td><td>1</td><td>7</td><td>1</td><td>52</td><td>1</td><td>1</td><td>2022</td><td>1</td><td>January</td><td>Saturday</td><td>202201</td></tr>\n",
       "<tr><td>2022-01-01</td><td>trx-935354519699</td><td>85468</td><td>10</td><td>9</td><td>39.99</td><td>0.2</td><td>Stripe</td><td>6</td><td>396 Hartford Road</td><td>Manchester</td><td>Connecticut</td><td>06040</td><td>287.92800429046156</td><td>2022-01-01</td><td>20220101</td><td>1</td><td>7</td><td>1</td><td>52</td><td>1</td><td>1</td><td>2022</td><td>1</td><td>January</td><td>Saturday</td><td>202201</td></tr>\n",
       "<tr><td>2022-01-01</td><td>trx-062565092206</td><td>85534</td><td>1</td><td>2</td><td>999.99</td><td>0.2</td><td>Stripe</td><td>6</td><td>1363 Dean Forest ...</td><td>Savannah</td><td>Georgia</td><td>31405</td><td>1599.9840238416195</td><td>2022-01-01</td><td>20220101</td><td>1</td><td>7</td><td>1</td><td>52</td><td>1</td><td>1</td><td>2022</td><td>1</td><td>January</td><td>Saturday</td><td>202201</td></tr>\n",
       "<tr><td>2022-01-01</td><td>trx-291831425853</td><td>85520</td><td>13</td><td>3</td><td>149.99</td><td>0.2</td><td>Stripe</td><td>6</td><td>206 Blue Marlin D...</td><td>Savannah</td><td>Georgia</td><td>31410</td><td>359.9760053640604</td><td>2022-01-01</td><td>20220101</td><td>1</td><td>7</td><td>1</td><td>52</td><td>1</td><td>1</td><td>2022</td><td>1</td><td>January</td><td>Saturday</td><td>202201</td></tr>\n",
       "<tr><td>2022-01-01</td><td>trx-490934091046</td><td>85488</td><td>14</td><td>5</td><td>399.99</td><td>0.0</td><td>PayPal</td><td>6</td><td>95 Claiborne Street</td><td>Nashville</td><td>Tennessee</td><td>37210</td><td>1999.95</td><td>2022-01-01</td><td>20220101</td><td>1</td><td>7</td><td>1</td><td>52</td><td>1</td><td>1</td><td>2022</td><td>1</td><td>January</td><td>Saturday</td><td>202201</td></tr>\n",
       "<tr><td>2022-01-01</td><td>trx-477242925566</td><td>85505</td><td>7</td><td>7</td><td>59.99</td><td>0.0</td><td>PayPal</td><td>6</td><td>23 Columbia Drive</td><td>Manchester</td><td>Connecticut</td><td>06042</td><td>419.93</td><td>2022-01-01</td><td>20220101</td><td>1</td><td>7</td><td>1</td><td>52</td><td>1</td><td>1</td><td>2022</td><td>1</td><td>January</td><td>Saturday</td><td>202201</td></tr>\n",
       "<tr><td>2022-01-01</td><td>trx-657276071144</td><td>85480</td><td>28</td><td>10</td><td>19.99</td><td>0.0</td><td>PayPal</td><td>6</td><td>98 Lincoln Street</td><td>Revere</td><td>Massachusetts</td><td>02151</td><td>199.89999999999998</td><td>2022-01-01</td><td>20220101</td><td>1</td><td>7</td><td>1</td><td>52</td><td>1</td><td>1</td><td>2022</td><td>1</td><td>January</td><td>Saturday</td><td>202201</td></tr>\n",
       "<tr><td>2022-01-01</td><td>trx-521851194970</td><td>85470</td><td>3</td><td>6</td><td>299.99</td><td>0.0</td><td>Credit Card</td><td>6</td><td>1209 Parker Street</td><td>Berkeley</td><td>California</td><td>94702</td><td>1799.94</td><td>2022-01-01</td><td>20220101</td><td>1</td><td>7</td><td>1</td><td>52</td><td>1</td><td>1</td><td>2022</td><td>1</td><td>January</td><td>Saturday</td><td>202201</td></tr>\n",
       "<tr><td>2022-01-01</td><td>trx-835639572082</td><td>85521</td><td>6</td><td>7</td><td>49.99</td><td>0.2</td><td>Credit Card</td><td>6</td><td>11724 Rushmore</td><td>Oklahoma City</td><td>Oklahoma</td><td>73162</td><td>279.9440041714907</td><td>2022-01-01</td><td>20220101</td><td>1</td><td>7</td><td>1</td><td>52</td><td>1</td><td>1</td><td>2022</td><td>1</td><td>January</td><td>Saturday</td><td>202201</td></tr>\n",
       "<tr><td>2022-01-01</td><td>trx-832513610642</td><td>85532</td><td>11</td><td>3</td><td>899.99</td><td>0.0</td><td>Stripe</td><td>6</td><td>6802 North 67th A...</td><td>Glendale</td><td>Arizona</td><td>85301</td><td>2699.9700000000003</td><td>2022-01-01</td><td>20220101</td><td>1</td><td>7</td><td>1</td><td>52</td><td>1</td><td>1</td><td>2022</td><td>1</td><td>January</td><td>Saturday</td><td>202201</td></tr>\n",
       "</table>\n",
       "only showing top 20 rows\n"
      ],
      "text/plain": [
       "+----------------+----------------+-----------+----------+-----+----------+--------+--------------+-----+--------------------+-----------------+--------------+-----------------+------------------+----------+--------+---+-----------+-----------+------------+-----+-------+----+----------+----------+--------+----------+\n",
       "|transaction_date|  transaction_id|customer_id|product_id|units|unit_price|discount|payment_method|group|shipping_street_name|    shipping_city|shipping_state|shipping_zip_code|       total_price|      date|date_key|day|day_of_week|day_of_year|week_of_year|month|quarter|year|is_weekend|month_name|day_name|year_month|\n",
       "+----------------+----------------+-----------+----------+-----+----------+--------+--------------+-----+--------------------+-----------------+--------------+-----------------+------------------+----------+--------+---+-----------+-----------+------------+-----+-------+----+----------+----------+--------+----------+\n",
       "|      2022-01-01|trx-038966531476|      85511|        11|    9|    899.99|     0.0|        PayPal|    2|   1783 Blakely Road|       Colchester|       Vermont|            05446|           8099.91|2022-01-01|20220101|  1|          7|          1|          52|    1|      1|2022|         1|   January|Saturday|    202201|\n",
       "|      2022-01-01|trx-196650129641|      85502|         8|    1|     79.99|     0.0|        Stripe|    2|     88 Shute Street|          Everett| Massachusetts|            02149|             79.99|2022-01-01|20220101|  1|          7|          1|          52|    1|      1|2022|         1|   January|Saturday|    202201|\n",
       "|      2022-01-01|trx-961186738199|      85540|         9|    8|    129.99|     0.2|        PayPal|    3|   45 Parsons Avenue|Saint Albans City|       Vermont|            05478| 831.9360123968125|2022-01-01|20220101|  1|          7|          1|          52|    1|      1|2022|         1|   January|Saturday|    202201|\n",
       "|      2022-01-01|trx-961186738199|      85540|         9|    8|    129.99|     0.2|        PayPal|    1|   45 Parsons Avenue|Saint Albans City|       Vermont|            05478| 831.9360123968125|2022-01-01|20220101|  1|          7|          1|          52|    1|      1|2022|         1|   January|Saturday|    202201|\n",
       "|      2022-01-01|trx-807433736285|      85505|        24|    9|     49.99|     0.2|        Stripe|    4|    6460 Vermont 113|         Vershire|       Vermont|            05079|359.92800536334516|2022-01-01|20220101|  1|          7|          1|          52|    1|      1|2022|         1|   January|Saturday|    202201|\n",
       "|      2022-01-01|trx-378573229506|      85552|         7|    1|     59.99|    0.05|   Credit Card|    6|  1265 Xavier Avenue|          Hayward|    California|            94545|56.990499284863475|2022-01-01|20220101|  1|          7|          1|          52|    1|      1|2022|         1|   January|Saturday|    202201|\n",
       "|      2022-01-01|trx-812311767786|      85525|        11|    8|    899.99|     0.2|        Stripe|    6|     129 Glen Street| West Brattleboro|       Vermont|            05301| 5759.936085829735|2022-01-01|20220101|  1|          7|          1|          52|    1|      1|2022|         1|   January|Saturday|    202201|\n",
       "|      2022-01-01|trx-714156427993|      85519|         5|    4|     19.99|     0.0|        PayPal|    6|   52 Linnmore Drive|       Manchester|   Connecticut|            06040|             79.96|2022-01-01|20220101|  1|          7|          1|          52|    1|      1|2022|         1|   January|Saturday|    202201|\n",
       "|      2022-01-01|trx-926752978689|      85553|        15|   10|     29.99|     0.0|        PayPal|    6|     1313 North Road|        Hinesburg|       Vermont|            05461|             299.9|2022-01-01|20220101|  1|          7|          1|          52|    1|      1|2022|         1|   January|Saturday|    202201|\n",
       "|      2022-01-01|trx-377988149376|      85548|        30|    6|     24.99|     0.0|        Stripe|    6|3328 Sunny Meadow...|       Birmingham|       Alabama|            35242|            149.94|2022-01-01|20220101|  1|          7|          1|          52|    1|      1|2022|         1|   January|Saturday|    202201|\n",
       "|      2022-01-01|trx-578810017511|      85510|        27|    2|     29.99|    0.05|        PayPal|    6| 3578 Galindo Street|          Oakland|    California|            94601| 56.98099928498268|2022-01-01|20220101|  1|          7|          1|          52|    1|      1|2022|         1|   January|Saturday|    202201|\n",
       "|      2022-01-01|trx-935354519699|      85468|        10|    9|     39.99|     0.2|        Stripe|    6|   396 Hartford Road|       Manchester|   Connecticut|            06040|287.92800429046156|2022-01-01|20220101|  1|          7|          1|          52|    1|      1|2022|         1|   January|Saturday|    202201|\n",
       "|      2022-01-01|trx-062565092206|      85534|         1|    2|    999.99|     0.2|        Stripe|    6|1363 Dean Forest ...|         Savannah|       Georgia|            31405|1599.9840238416195|2022-01-01|20220101|  1|          7|          1|          52|    1|      1|2022|         1|   January|Saturday|    202201|\n",
       "|      2022-01-01|trx-291831425853|      85520|        13|    3|    149.99|     0.2|        Stripe|    6|206 Blue Marlin D...|         Savannah|       Georgia|            31410| 359.9760053640604|2022-01-01|20220101|  1|          7|          1|          52|    1|      1|2022|         1|   January|Saturday|    202201|\n",
       "|      2022-01-01|trx-490934091046|      85488|        14|    5|    399.99|     0.0|        PayPal|    6| 95 Claiborne Street|        Nashville|     Tennessee|            37210|           1999.95|2022-01-01|20220101|  1|          7|          1|          52|    1|      1|2022|         1|   January|Saturday|    202201|\n",
       "|      2022-01-01|trx-477242925566|      85505|         7|    7|     59.99|     0.0|        PayPal|    6|   23 Columbia Drive|       Manchester|   Connecticut|            06042|            419.93|2022-01-01|20220101|  1|          7|          1|          52|    1|      1|2022|         1|   January|Saturday|    202201|\n",
       "|      2022-01-01|trx-657276071144|      85480|        28|   10|     19.99|     0.0|        PayPal|    6|   98 Lincoln Street|           Revere| Massachusetts|            02151|199.89999999999998|2022-01-01|20220101|  1|          7|          1|          52|    1|      1|2022|         1|   January|Saturday|    202201|\n",
       "|      2022-01-01|trx-521851194970|      85470|         3|    6|    299.99|     0.0|   Credit Card|    6|  1209 Parker Street|         Berkeley|    California|            94702|           1799.94|2022-01-01|20220101|  1|          7|          1|          52|    1|      1|2022|         1|   January|Saturday|    202201|\n",
       "|      2022-01-01|trx-835639572082|      85521|         6|    7|     49.99|     0.2|   Credit Card|    6|      11724 Rushmore|    Oklahoma City|      Oklahoma|            73162| 279.9440041714907|2022-01-01|20220101|  1|          7|          1|          52|    1|      1|2022|         1|   January|Saturday|    202201|\n",
       "|      2022-01-01|trx-832513610642|      85532|        11|    3|    899.99|     0.0|        Stripe|    6|6802 North 67th A...|         Glendale|       Arizona|            85301|2699.9700000000003|2022-01-01|20220101|  1|          7|          1|          52|    1|      1|2022|         1|   January|Saturday|    202201|\n",
       "+----------------+----------------+-----------+----------+-----+----------+--------+--------------+-----+--------------------+-----------------+--------------+-----------------+------------------+----------+--------+---+-----------+-----------+------------+-----+-------+----+----------+----------+--------+----------+\n",
       "only showing top 20 rows"
      ]
     },
     "execution_count": 76,
     "metadata": {},
     "output_type": "execute_result"
    }
   ],
   "source": [
    "# Convert transaction_date in online_fact_df to match the format yyyy-MM-dd\n",
    "online_fact_df = online_fact_df.withColumn(\"transaction_date\", date_format(col(\"transaction_date\"), \"yyyy-MM-dd\"))\n",
    "\n",
    "# Perform an inner join on transaction_date and date\n",
    "joined_df_2 = online_fact_df.join(date_df, online_fact_df[\"transaction_date\"] == date_df[\"date\"], \"inner\")\n",
    "\n",
    "joined_df_2.coalesce(1)\n",
    "\n"
   ]
  },
  {
   "cell_type": "code",
   "execution_count": 77,
   "id": "f069f07b-c5fe-49cd-a1f0-0b0acc161bc0",
   "metadata": {
    "collapsed": true,
    "jupyter": {
     "outputs_hidden": true
    },
    "tags": []
   },
   "outputs": [
    {
     "data": {
      "text/plain": [
       "['transaction_date',\n",
       " 'transaction_id',\n",
       " 'customer_id',\n",
       " 'product_id',\n",
       " 'units',\n",
       " 'unit_price',\n",
       " 'discount',\n",
       " 'payment_method',\n",
       " 'group',\n",
       " 'shipping_street_name',\n",
       " 'shipping_city',\n",
       " 'shipping_state',\n",
       " 'shipping_zip_code',\n",
       " 'total_price',\n",
       " 'date',\n",
       " 'date_key',\n",
       " 'day',\n",
       " 'day_of_week',\n",
       " 'day_of_year',\n",
       " 'week_of_year',\n",
       " 'month',\n",
       " 'quarter',\n",
       " 'year',\n",
       " 'is_weekend',\n",
       " 'month_name',\n",
       " 'day_name',\n",
       " 'year_month']"
      ]
     },
     "execution_count": 77,
     "metadata": {},
     "output_type": "execute_result"
    }
   ],
   "source": [
    "joined_df_2.columns"
   ]
  },
  {
   "cell_type": "code",
   "execution_count": 78,
   "id": "3e32d721-be07-4f15-97b3-3d74c0515a62",
   "metadata": {
    "collapsed": true,
    "jupyter": {
     "outputs_hidden": true
    },
    "tags": []
   },
   "outputs": [
    {
     "data": {
      "text/html": [
       "<table border='1'>\n",
       "<tr><th>transaction_id</th><th>customer_id</th><th>product_id</th><th>units</th><th>unit_price</th><th>discount</th><th>payment_method</th><th>group</th><th>total_price</th><th>date_key</th><th>shipping_zip_code</th><th>shipping_state</th><th>shipping_city</th><th>shipping_street_name</th></tr>\n",
       "<tr><td>trx-038966531476</td><td>85511</td><td>11</td><td>9</td><td>899.99</td><td>0.0</td><td>PayPal</td><td>2</td><td>8099.91</td><td>20220101</td><td>05446</td><td>Vermont</td><td>Colchester</td><td>1783 Blakely Road</td></tr>\n",
       "<tr><td>trx-196650129641</td><td>85502</td><td>8</td><td>1</td><td>79.99</td><td>0.0</td><td>Stripe</td><td>2</td><td>79.99</td><td>20220101</td><td>02149</td><td>Massachusetts</td><td>Everett</td><td>88 Shute Street</td></tr>\n",
       "<tr><td>trx-961186738199</td><td>85540</td><td>9</td><td>8</td><td>129.99</td><td>0.2</td><td>PayPal</td><td>3</td><td>831.9360123968125</td><td>20220101</td><td>05478</td><td>Vermont</td><td>Saint Albans City</td><td>45 Parsons Avenue</td></tr>\n",
       "<tr><td>trx-961186738199</td><td>85540</td><td>9</td><td>8</td><td>129.99</td><td>0.2</td><td>PayPal</td><td>1</td><td>831.9360123968125</td><td>20220101</td><td>05478</td><td>Vermont</td><td>Saint Albans City</td><td>45 Parsons Avenue</td></tr>\n",
       "<tr><td>trx-807433736285</td><td>85505</td><td>24</td><td>9</td><td>49.99</td><td>0.2</td><td>Stripe</td><td>4</td><td>359.92800536334516</td><td>20220101</td><td>05079</td><td>Vermont</td><td>Vershire</td><td>6460 Vermont 113</td></tr>\n",
       "<tr><td>trx-378573229506</td><td>85552</td><td>7</td><td>1</td><td>59.99</td><td>0.05</td><td>Credit Card</td><td>6</td><td>56.990499284863475</td><td>20220101</td><td>94545</td><td>California</td><td>Hayward</td><td>1265 Xavier Avenue</td></tr>\n",
       "<tr><td>trx-812311767786</td><td>85525</td><td>11</td><td>8</td><td>899.99</td><td>0.2</td><td>Stripe</td><td>6</td><td>5759.936085829735</td><td>20220101</td><td>05301</td><td>Vermont</td><td>West Brattleboro</td><td>129 Glen Street</td></tr>\n",
       "<tr><td>trx-714156427993</td><td>85519</td><td>5</td><td>4</td><td>19.99</td><td>0.0</td><td>PayPal</td><td>6</td><td>79.96</td><td>20220101</td><td>06040</td><td>Connecticut</td><td>Manchester</td><td>52 Linnmore Drive</td></tr>\n",
       "<tr><td>trx-926752978689</td><td>85553</td><td>15</td><td>10</td><td>29.99</td><td>0.0</td><td>PayPal</td><td>6</td><td>299.9</td><td>20220101</td><td>05461</td><td>Vermont</td><td>Hinesburg</td><td>1313 North Road</td></tr>\n",
       "<tr><td>trx-377988149376</td><td>85548</td><td>30</td><td>6</td><td>24.99</td><td>0.0</td><td>Stripe</td><td>6</td><td>149.94</td><td>20220101</td><td>35242</td><td>Alabama</td><td>Birmingham</td><td>3328 Sunny Meadow...</td></tr>\n",
       "<tr><td>trx-578810017511</td><td>85510</td><td>27</td><td>2</td><td>29.99</td><td>0.05</td><td>PayPal</td><td>6</td><td>56.98099928498268</td><td>20220101</td><td>94601</td><td>California</td><td>Oakland</td><td>3578 Galindo Street</td></tr>\n",
       "<tr><td>trx-935354519699</td><td>85468</td><td>10</td><td>9</td><td>39.99</td><td>0.2</td><td>Stripe</td><td>6</td><td>287.92800429046156</td><td>20220101</td><td>06040</td><td>Connecticut</td><td>Manchester</td><td>396 Hartford Road</td></tr>\n",
       "<tr><td>trx-062565092206</td><td>85534</td><td>1</td><td>2</td><td>999.99</td><td>0.2</td><td>Stripe</td><td>6</td><td>1599.9840238416195</td><td>20220101</td><td>31405</td><td>Georgia</td><td>Savannah</td><td>1363 Dean Forest ...</td></tr>\n",
       "<tr><td>trx-291831425853</td><td>85520</td><td>13</td><td>3</td><td>149.99</td><td>0.2</td><td>Stripe</td><td>6</td><td>359.9760053640604</td><td>20220101</td><td>31410</td><td>Georgia</td><td>Savannah</td><td>206 Blue Marlin D...</td></tr>\n",
       "<tr><td>trx-490934091046</td><td>85488</td><td>14</td><td>5</td><td>399.99</td><td>0.0</td><td>PayPal</td><td>6</td><td>1999.95</td><td>20220101</td><td>37210</td><td>Tennessee</td><td>Nashville</td><td>95 Claiborne Street</td></tr>\n",
       "<tr><td>trx-477242925566</td><td>85505</td><td>7</td><td>7</td><td>59.99</td><td>0.0</td><td>PayPal</td><td>6</td><td>419.93</td><td>20220101</td><td>06042</td><td>Connecticut</td><td>Manchester</td><td>23 Columbia Drive</td></tr>\n",
       "<tr><td>trx-657276071144</td><td>85480</td><td>28</td><td>10</td><td>19.99</td><td>0.0</td><td>PayPal</td><td>6</td><td>199.89999999999998</td><td>20220101</td><td>02151</td><td>Massachusetts</td><td>Revere</td><td>98 Lincoln Street</td></tr>\n",
       "<tr><td>trx-521851194970</td><td>85470</td><td>3</td><td>6</td><td>299.99</td><td>0.0</td><td>Credit Card</td><td>6</td><td>1799.94</td><td>20220101</td><td>94702</td><td>California</td><td>Berkeley</td><td>1209 Parker Street</td></tr>\n",
       "<tr><td>trx-835639572082</td><td>85521</td><td>6</td><td>7</td><td>49.99</td><td>0.2</td><td>Credit Card</td><td>6</td><td>279.9440041714907</td><td>20220101</td><td>73162</td><td>Oklahoma</td><td>Oklahoma City</td><td>11724 Rushmore</td></tr>\n",
       "<tr><td>trx-832513610642</td><td>85532</td><td>11</td><td>3</td><td>899.99</td><td>0.0</td><td>Stripe</td><td>6</td><td>2699.9700000000003</td><td>20220101</td><td>85301</td><td>Arizona</td><td>Glendale</td><td>6802 North 67th A...</td></tr>\n",
       "</table>\n",
       "only showing top 20 rows\n"
      ],
      "text/plain": [
       "+----------------+-----------+----------+-----+----------+--------+--------------+-----+------------------+--------+-----------------+--------------+-----------------+--------------------+\n",
       "|  transaction_id|customer_id|product_id|units|unit_price|discount|payment_method|group|       total_price|date_key|shipping_zip_code|shipping_state|    shipping_city|shipping_street_name|\n",
       "+----------------+-----------+----------+-----+----------+--------+--------------+-----+------------------+--------+-----------------+--------------+-----------------+--------------------+\n",
       "|trx-038966531476|      85511|        11|    9|    899.99|     0.0|        PayPal|    2|           8099.91|20220101|            05446|       Vermont|       Colchester|   1783 Blakely Road|\n",
       "|trx-196650129641|      85502|         8|    1|     79.99|     0.0|        Stripe|    2|             79.99|20220101|            02149| Massachusetts|          Everett|     88 Shute Street|\n",
       "|trx-961186738199|      85540|         9|    8|    129.99|     0.2|        PayPal|    3| 831.9360123968125|20220101|            05478|       Vermont|Saint Albans City|   45 Parsons Avenue|\n",
       "|trx-961186738199|      85540|         9|    8|    129.99|     0.2|        PayPal|    1| 831.9360123968125|20220101|            05478|       Vermont|Saint Albans City|   45 Parsons Avenue|\n",
       "|trx-807433736285|      85505|        24|    9|     49.99|     0.2|        Stripe|    4|359.92800536334516|20220101|            05079|       Vermont|         Vershire|    6460 Vermont 113|\n",
       "|trx-378573229506|      85552|         7|    1|     59.99|    0.05|   Credit Card|    6|56.990499284863475|20220101|            94545|    California|          Hayward|  1265 Xavier Avenue|\n",
       "|trx-812311767786|      85525|        11|    8|    899.99|     0.2|        Stripe|    6| 5759.936085829735|20220101|            05301|       Vermont| West Brattleboro|     129 Glen Street|\n",
       "|trx-714156427993|      85519|         5|    4|     19.99|     0.0|        PayPal|    6|             79.96|20220101|            06040|   Connecticut|       Manchester|   52 Linnmore Drive|\n",
       "|trx-926752978689|      85553|        15|   10|     29.99|     0.0|        PayPal|    6|             299.9|20220101|            05461|       Vermont|        Hinesburg|     1313 North Road|\n",
       "|trx-377988149376|      85548|        30|    6|     24.99|     0.0|        Stripe|    6|            149.94|20220101|            35242|       Alabama|       Birmingham|3328 Sunny Meadow...|\n",
       "|trx-578810017511|      85510|        27|    2|     29.99|    0.05|        PayPal|    6| 56.98099928498268|20220101|            94601|    California|          Oakland| 3578 Galindo Street|\n",
       "|trx-935354519699|      85468|        10|    9|     39.99|     0.2|        Stripe|    6|287.92800429046156|20220101|            06040|   Connecticut|       Manchester|   396 Hartford Road|\n",
       "|trx-062565092206|      85534|         1|    2|    999.99|     0.2|        Stripe|    6|1599.9840238416195|20220101|            31405|       Georgia|         Savannah|1363 Dean Forest ...|\n",
       "|trx-291831425853|      85520|        13|    3|    149.99|     0.2|        Stripe|    6| 359.9760053640604|20220101|            31410|       Georgia|         Savannah|206 Blue Marlin D...|\n",
       "|trx-490934091046|      85488|        14|    5|    399.99|     0.0|        PayPal|    6|           1999.95|20220101|            37210|     Tennessee|        Nashville| 95 Claiborne Street|\n",
       "|trx-477242925566|      85505|         7|    7|     59.99|     0.0|        PayPal|    6|            419.93|20220101|            06042|   Connecticut|       Manchester|   23 Columbia Drive|\n",
       "|trx-657276071144|      85480|        28|   10|     19.99|     0.0|        PayPal|    6|199.89999999999998|20220101|            02151| Massachusetts|           Revere|   98 Lincoln Street|\n",
       "|trx-521851194970|      85470|         3|    6|    299.99|     0.0|   Credit Card|    6|           1799.94|20220101|            94702|    California|         Berkeley|  1209 Parker Street|\n",
       "|trx-835639572082|      85521|         6|    7|     49.99|     0.2|   Credit Card|    6| 279.9440041714907|20220101|            73162|      Oklahoma|    Oklahoma City|      11724 Rushmore|\n",
       "|trx-832513610642|      85532|        11|    3|    899.99|     0.0|        Stripe|    6|2699.9700000000003|20220101|            85301|       Arizona|         Glendale|6802 North 67th A...|\n",
       "+----------------+-----------+----------+-----+----------+--------+--------------+-----+------------------+--------+-----------------+--------------+-----------------+--------------------+\n",
       "only showing top 20 rows"
      ]
     },
     "execution_count": 78,
     "metadata": {},
     "output_type": "execute_result"
    }
   ],
   "source": [
    "online_fact_df=joined_df_2.select(\n",
    "    col(\"transaction_id\"),\n",
    "    col(\"customer_id\"),\n",
    "    col(\"product_id\"),\n",
    "    col(\"units\"),\n",
    "    col(\"unit_price\"),\n",
    "    col(\"discount\"),\n",
    "    col(\"payment_method\"),\n",
    "    col(\"group\"),\n",
    "    col(\"total_price\"),\n",
    "    col(\"date_key\"),\n",
    "    col(\"shipping_zip_code\"),\n",
    "    col(\"shipping_state\"),\n",
    "    col(\"shipping_city\"),\n",
    "    col(\"shipping_street_name\"))\n",
    "\n",
    "online_fact_df.coalesce(1)"
   ]
  },
  {
   "cell_type": "code",
   "execution_count": 79,
   "id": "2f975af4-650b-4d6d-89f6-e3e5fdc20408",
   "metadata": {
    "collapsed": true,
    "jupyter": {
     "outputs_hidden": true
    },
    "tags": []
   },
   "outputs": [
    {
     "name": "stdout",
     "output_type": "stream",
     "text": [
      "+----------+-----------------+----------------+----------+\n",
      "|product_id|     product_name|product_category|unit_price|\n",
      "+----------+-----------------+----------------+----------+\n",
      "|        29|Hair Straightener|      Appliances|     39.99|\n",
      "|        19|          Sandals|        Footwear|     29.99|\n",
      "|        12|          Monitor|     Electronics|    299.99|\n",
      "|        17|           Blouse|        Clothing|     29.99|\n",
      "|        18|            Boots|        Footwear|    149.99|\n",
      "|        15|           Hoodie|        Clothing|     29.99|\n",
      "|        10|          Sandals|        Footwear|     39.99|\n",
      "|         1|           Laptop|     Electronics|    999.99|\n",
      "|         6|            Jeans|        Clothing|     49.99|\n",
      "|        16|            Skirt|        Clothing|     39.99|\n",
      "|         7|            Dress|        Clothing|     59.99|\n",
      "|        28|       Hair Dryer|      Appliances|     19.99|\n",
      "|         3|           Tablet|     Electronics|    299.99|\n",
      "|        14|           Camera|     Electronics|    399.99|\n",
      "|        20|            Heels|        Footwear|     59.99|\n",
      "|        25|  Washing Machine|      Appliances|    499.99|\n",
      "|        30|  Electric Kettle|      Appliances|     24.99|\n",
      "|         2|       Smartphone|     Electronics|    699.99|\n",
      "|        22|     Coffee Maker|      Appliances|     79.99|\n",
      "|         9|            Boots|        Footwear|    129.99|\n",
      "+----------+-----------------+----------------+----------+\n",
      "only showing top 20 rows\n",
      "\n"
     ]
    }
   ],
   "source": [
    "product_dim_df=all_groups_merged_df.select(\n",
    "    col(\"product_id\"),\n",
    "    col(\"product_name\"),\n",
    "    col(\"product_category\"),\n",
    "    col(\"unit_price\")).distinct()\n",
    "\n",
    "product_dim_df.show()"
   ]
  },
  {
   "cell_type": "code",
   "execution_count": 80,
   "id": "f7ab343a-1726-43aa-a52e-35a207961662",
   "metadata": {
    "collapsed": true,
    "jupyter": {
     "outputs_hidden": true
    },
    "tags": []
   },
   "outputs": [
    {
     "data": {
      "text/html": [
       "<table border='1'>\n",
       "<tr><th>product_id</th><th>product_name</th><th>product_category</th><th>unit_price</th><th>product_key</th></tr>\n",
       "<tr><td>1</td><td>Laptop</td><td>Electronics</td><td>999.99</td><td>1</td></tr>\n",
       "<tr><td>2</td><td>Smartphone</td><td>Electronics</td><td>699.99</td><td>2</td></tr>\n",
       "<tr><td>3</td><td>Tablet</td><td>Electronics</td><td>299.99</td><td>3</td></tr>\n",
       "<tr><td>4</td><td>Headphones</td><td>Electronics</td><td>99.99</td><td>4</td></tr>\n",
       "<tr><td>5</td><td>T-Shirt</td><td>Clothing</td><td>19.99</td><td>5</td></tr>\n",
       "<tr><td>6</td><td>Jeans</td><td>Clothing</td><td>49.99</td><td>6</td></tr>\n",
       "<tr><td>7</td><td>Dress</td><td>Clothing</td><td>59.99</td><td>7</td></tr>\n",
       "<tr><td>8</td><td>Sneakers</td><td>Footwear</td><td>79.99</td><td>8</td></tr>\n",
       "<tr><td>9</td><td>Boots</td><td>Footwear</td><td>129.99</td><td>9</td></tr>\n",
       "<tr><td>10</td><td>Sandals</td><td>Footwear</td><td>39.99</td><td>10</td></tr>\n",
       "<tr><td>11</td><td>TV</td><td>Electronics</td><td>899.99</td><td>11</td></tr>\n",
       "<tr><td>12</td><td>Monitor</td><td>Electronics</td><td>299.99</td><td>12</td></tr>\n",
       "<tr><td>13</td><td>Printer</td><td>Electronics</td><td>149.99</td><td>13</td></tr>\n",
       "<tr><td>14</td><td>Camera</td><td>Electronics</td><td>399.99</td><td>14</td></tr>\n",
       "<tr><td>15</td><td>Hoodie</td><td>Clothing</td><td>29.99</td><td>15</td></tr>\n",
       "<tr><td>16</td><td>Skirt</td><td>Clothing</td><td>39.99</td><td>16</td></tr>\n",
       "<tr><td>17</td><td>Blouse</td><td>Clothing</td><td>29.99</td><td>17</td></tr>\n",
       "<tr><td>18</td><td>Boots</td><td>Footwear</td><td>149.99</td><td>18</td></tr>\n",
       "<tr><td>19</td><td>Sandals</td><td>Footwear</td><td>29.99</td><td>19</td></tr>\n",
       "<tr><td>20</td><td>Heels</td><td>Footwear</td><td>59.99</td><td>20</td></tr>\n",
       "</table>\n",
       "only showing top 20 rows\n"
      ],
      "text/plain": [
       "+----------+------------+----------------+----------+-----------+\n",
       "|product_id|product_name|product_category|unit_price|product_key|\n",
       "+----------+------------+----------------+----------+-----------+\n",
       "|         1|      Laptop|     Electronics|    999.99|          1|\n",
       "|         2|  Smartphone|     Electronics|    699.99|          2|\n",
       "|         3|      Tablet|     Electronics|    299.99|          3|\n",
       "|         4|  Headphones|     Electronics|     99.99|          4|\n",
       "|         5|     T-Shirt|        Clothing|     19.99|          5|\n",
       "|         6|       Jeans|        Clothing|     49.99|          6|\n",
       "|         7|       Dress|        Clothing|     59.99|          7|\n",
       "|         8|    Sneakers|        Footwear|     79.99|          8|\n",
       "|         9|       Boots|        Footwear|    129.99|          9|\n",
       "|        10|     Sandals|        Footwear|     39.99|         10|\n",
       "|        11|          TV|     Electronics|    899.99|         11|\n",
       "|        12|     Monitor|     Electronics|    299.99|         12|\n",
       "|        13|     Printer|     Electronics|    149.99|         13|\n",
       "|        14|      Camera|     Electronics|    399.99|         14|\n",
       "|        15|      Hoodie|        Clothing|     29.99|         15|\n",
       "|        16|       Skirt|        Clothing|     39.99|         16|\n",
       "|        17|      Blouse|        Clothing|     29.99|         17|\n",
       "|        18|       Boots|        Footwear|    149.99|         18|\n",
       "|        19|     Sandals|        Footwear|     29.99|         19|\n",
       "|        20|       Heels|        Footwear|     59.99|         20|\n",
       "+----------+------------+----------------+----------+-----------+\n",
       "only showing top 20 rows"
      ]
     },
     "execution_count": 80,
     "metadata": {},
     "output_type": "execute_result"
    }
   ],
   "source": [
    "# Define a Window specification\n",
    "window_spec = Window.orderBy(\"product_id\")\n",
    "\n",
    "# Add a product_key column using row_number\n",
    "product_dim_df = product_dim_df.withColumn(\"product_key\", row_number().over(window_spec))\n",
    "\n",
    "product_dim_df.coalesce(1)"
   ]
  },
  {
   "cell_type": "code",
   "execution_count": 81,
   "id": "84872ebf-dd98-43bb-811f-0dc9f7ae5baf",
   "metadata": {},
   "outputs": [],
   "source": [
    "# Write the merged DataFrame to a single CSV file\n",
    "output_path = \"/Graduation_Project/transformed_data/schema/products_dim.csv\"\n",
    "product_dim_df.coalesce(1).write.mode('overwrite').csv(output_path, header=True)"
   ]
  },
  {
   "cell_type": "code",
   "execution_count": 82,
   "id": "14fc8556-5379-4ba6-82a0-ab87c3c0b689",
   "metadata": {},
   "outputs": [],
   "source": [
    "# Perform an inner join on transaction_date and date\n",
    "online_fact_df = online_fact_df.join(product_dim_df, online_fact_df[\"product_id\"] == product_dim_df[\"product_id\"], \"inner\")"
   ]
  },
  {
   "cell_type": "code",
   "execution_count": 83,
   "id": "11cd5814-01e0-481b-98ad-0ade586e9068",
   "metadata": {
    "collapsed": true,
    "jupyter": {
     "outputs_hidden": true
    },
    "tags": []
   },
   "outputs": [
    {
     "data": {
      "text/html": [
       "<table border='1'>\n",
       "<tr><th>transaction_id</th><th>customer_id</th><th>product_id</th><th>units</th><th>unit_price</th><th>discount</th><th>payment_method</th><th>group</th><th>total_price</th><th>date_key</th><th>shipping_zip_code</th><th>shipping_state</th><th>shipping_city</th><th>shipping_street_name</th><th>product_id</th><th>product_name</th><th>product_category</th><th>unit_price</th><th>product_key</th></tr>\n",
       "<tr><td>trx-549713340293</td><td>85522</td><td>26</td><td>8</td><td>199.99</td><td>0.0</td><td>Stripe</td><td>6</td><td>1599.92</td><td>20220101</td><td>21114</td><td>Maryland</td><td>Crofton</td><td>1630 Eton Way</td><td>26</td><td>Vacuum Cleaner</td><td>Appliances</td><td>199.99</td><td>26</td></tr>\n",
       "<tr><td>trx-120912375499</td><td>85483</td><td>26</td><td>4</td><td>199.99</td><td>0.0</td><td>Credit Card</td><td>6</td><td>799.96</td><td>20220102</td><td>01902</td><td>Massachusetts</td><td>Lynn</td><td>172 Chestnut Street</td><td>26</td><td>Vacuum Cleaner</td><td>Appliances</td><td>199.99</td><td>26</td></tr>\n",
       "<tr><td>trx-500133384271</td><td>85504</td><td>26</td><td>3</td><td>199.99</td><td>0.0</td><td>PayPal</td><td>6</td><td>599.97</td><td>20220102</td><td>01719</td><td>Massachusetts</td><td>Boxborough</td><td>302 Depot Road</td><td>26</td><td>Vacuum Cleaner</td><td>Appliances</td><td>199.99</td><td>26</td></tr>\n",
       "<tr><td>trx-741895782895</td><td>85550</td><td>26</td><td>4</td><td>199.99</td><td>0.0</td><td>Credit Card</td><td>6</td><td>799.96</td><td>20220102</td><td>05075</td><td>Vermont</td><td>Thetford</td><td>398 Gove Hill Road</td><td>26</td><td>Vacuum Cleaner</td><td>Appliances</td><td>199.99</td><td>26</td></tr>\n",
       "<tr><td>trx-830547671067</td><td>85464</td><td>26</td><td>5</td><td>199.99</td><td>0.0</td><td>Stripe</td><td>6</td><td>999.95</td><td>20220103</td><td>99611</td><td>Alaska</td><td>Kenai</td><td>51185 Helmsman St...</td><td>26</td><td>Vacuum Cleaner</td><td>Appliances</td><td>199.99</td><td>26</td></tr>\n",
       "<tr><td>trx-087732089100</td><td>85534</td><td>26</td><td>5</td><td>199.99</td><td>0.15</td><td>PayPal</td><td>6</td><td>849.9575238406659</td><td>20220103</td><td>21122</td><td>Maryland</td><td>Pasadena</td><td>202 Winston Road</td><td>26</td><td>Vacuum Cleaner</td><td>Appliances</td><td>199.99</td><td>26</td></tr>\n",
       "<tr><td>trx-227505126526</td><td>85504</td><td>26</td><td>10</td><td>199.99</td><td>0.15</td><td>Stripe</td><td>6</td><td>1699.9150476813318</td><td>20220103</td><td>06040</td><td>Connecticut</td><td>Manchester</td><td>89 Frances Drive</td><td>26</td><td>Vacuum Cleaner</td><td>Appliances</td><td>199.99</td><td>26</td></tr>\n",
       "<tr><td>trx-512595649334</td><td>85561</td><td>26</td><td>8</td><td>199.99</td><td>0.0</td><td>Credit Card</td><td>6</td><td>1599.92</td><td>20220103</td><td>85304</td><td>Arizona</td><td>Glendale</td><td>13066 North 56th ...</td><td>26</td><td>Vacuum Cleaner</td><td>Appliances</td><td>199.99</td><td>26</td></tr>\n",
       "<tr><td>trx-950565917451</td><td>85512</td><td>26</td><td>5</td><td>199.99</td><td>0.0</td><td>Stripe</td><td>6</td><td>999.95</td><td>20220103</td><td>21060</td><td>Maryland</td><td>Glen Burnie</td><td>140 William Chamb...</td><td>26</td><td>Vacuum Cleaner</td><td>Appliances</td><td>199.99</td><td>26</td></tr>\n",
       "<tr><td>trx-361642366546</td><td>85526</td><td>26</td><td>5</td><td>199.99</td><td>0.2</td><td>Credit Card</td><td>6</td><td>799.9600119203329</td><td>20220104</td><td>36116</td><td>Alabama</td><td>Montgomery</td><td>4560 Hurlston Drive</td><td>26</td><td>Vacuum Cleaner</td><td>Appliances</td><td>199.99</td><td>26</td></tr>\n",
       "<tr><td>trx-427707072114</td><td>85500</td><td>26</td><td>1</td><td>199.99</td><td>0.0</td><td>Credit Card</td><td>6</td><td>199.99</td><td>20220104</td><td>02155</td><td>Massachusetts</td><td>Medford</td><td>190 High Street</td><td>26</td><td>Vacuum Cleaner</td><td>Appliances</td><td>199.99</td><td>26</td></tr>\n",
       "<tr><td>trx-908944532247</td><td>85467</td><td>26</td><td>6</td><td>199.99</td><td>0.2</td><td>Stripe</td><td>6</td><td>959.9520143043995</td><td>20220105</td><td>94538</td><td>California</td><td>Fremont</td><td>40700 Penn Lane</td><td>26</td><td>Vacuum Cleaner</td><td>Appliances</td><td>199.99</td><td>26</td></tr>\n",
       "<tr><td>trx-154432424782</td><td>85549</td><td>26</td><td>7</td><td>199.99</td><td>0.15</td><td>PayPal</td><td>6</td><td>1189.9405333769323</td><td>20220105</td><td>32456</td><td>Florida</td><td>Mexico Beach</td><td>3203 US Highway 98</td><td>26</td><td>Vacuum Cleaner</td><td>Appliances</td><td>199.99</td><td>26</td></tr>\n",
       "<tr><td>trx-121390622491</td><td>85474</td><td>26</td><td>1</td><td>199.99</td><td>0.0</td><td>Stripe</td><td>6</td><td>199.99</td><td>20220106</td><td>01801</td><td>Massachusetts</td><td>Woburn</td><td>78 School Street</td><td>26</td><td>Vacuum Cleaner</td><td>Appliances</td><td>199.99</td><td>26</td></tr>\n",
       "<tr><td>trx-444236770189</td><td>85521</td><td>26</td><td>2</td><td>199.99</td><td>0.1</td><td>Stripe</td><td>6</td><td>359.98199046373367</td><td>20220107</td><td>73120</td><td>Oklahoma</td><td>Oklahoma City</td><td>1537 Northwest 12...</td><td>26</td><td>Vacuum Cleaner</td><td>Appliances</td><td>199.99</td><td>26</td></tr>\n",
       "<tr><td>trx-573555731252</td><td>85502</td><td>26</td><td>9</td><td>199.99</td><td>0.0</td><td>PayPal</td><td>6</td><td>1799.91</td><td>20220107</td><td>32409</td><td>Florida</td><td>Southport</td><td>711 Tashanna Lane</td><td>26</td><td>Vacuum Cleaner</td><td>Appliances</td><td>199.99</td><td>26</td></tr>\n",
       "<tr><td>trx-638667412178</td><td>85523</td><td>26</td><td>4</td><td>199.99</td><td>0.0</td><td>PayPal</td><td>6</td><td>799.96</td><td>20220107</td><td>85355</td><td>Arizona</td><td>Waddell</td><td>10304 North 179th...</td><td>26</td><td>Vacuum Cleaner</td><td>Appliances</td><td>199.99</td><td>26</td></tr>\n",
       "<tr><td>trx-411930500153</td><td>85540</td><td>26</td><td>6</td><td>199.99</td><td>0.2</td><td>PayPal</td><td>6</td><td>959.9520143043995</td><td>20220108</td><td>06040</td><td>Connecticut</td><td>Manchester</td><td>173 Spruce Street</td><td>26</td><td>Vacuum Cleaner</td><td>Appliances</td><td>199.99</td><td>26</td></tr>\n",
       "<tr><td>trx-815454456612</td><td>85466</td><td>26</td><td>6</td><td>199.99</td><td>0.0</td><td>Credit Card</td><td>6</td><td>1199.94</td><td>20220108</td><td>20019</td><td>District of Columbia</td><td>Washington</td><td>4341 Ponds Street...</td><td>26</td><td>Vacuum Cleaner</td><td>Appliances</td><td>199.99</td><td>26</td></tr>\n",
       "<tr><td>trx-058836766984</td><td>85501</td><td>26</td><td>3</td><td>199.99</td><td>0.0</td><td>Credit Card</td><td>4</td><td>599.97</td><td>20220109</td><td>06040</td><td>Connecticut</td><td>Manchester</td><td>115 Waddell Road</td><td>26</td><td>Vacuum Cleaner</td><td>Appliances</td><td>199.99</td><td>26</td></tr>\n",
       "</table>\n",
       "only showing top 20 rows\n"
      ],
      "text/plain": [
       "+----------------+-----------+----------+-----+----------+--------+--------------+-----+------------------+--------+-----------------+--------------------+-------------+--------------------+----------+--------------+----------------+----------+-----------+\n",
       "|  transaction_id|customer_id|product_id|units|unit_price|discount|payment_method|group|       total_price|date_key|shipping_zip_code|      shipping_state|shipping_city|shipping_street_name|product_id|  product_name|product_category|unit_price|product_key|\n",
       "+----------------+-----------+----------+-----+----------+--------+--------------+-----+------------------+--------+-----------------+--------------------+-------------+--------------------+----------+--------------+----------------+----------+-----------+\n",
       "|trx-549713340293|      85522|        26|    8|    199.99|     0.0|        Stripe|    6|           1599.92|20220101|            21114|            Maryland|      Crofton|       1630 Eton Way|        26|Vacuum Cleaner|      Appliances|    199.99|         26|\n",
       "|trx-120912375499|      85483|        26|    4|    199.99|     0.0|   Credit Card|    6|            799.96|20220102|            01902|       Massachusetts|         Lynn| 172 Chestnut Street|        26|Vacuum Cleaner|      Appliances|    199.99|         26|\n",
       "|trx-500133384271|      85504|        26|    3|    199.99|     0.0|        PayPal|    6|            599.97|20220102|            01719|       Massachusetts|   Boxborough|      302 Depot Road|        26|Vacuum Cleaner|      Appliances|    199.99|         26|\n",
       "|trx-741895782895|      85550|        26|    4|    199.99|     0.0|   Credit Card|    6|            799.96|20220102|            05075|             Vermont|     Thetford|  398 Gove Hill Road|        26|Vacuum Cleaner|      Appliances|    199.99|         26|\n",
       "|trx-830547671067|      85464|        26|    5|    199.99|     0.0|        Stripe|    6|            999.95|20220103|            99611|              Alaska|        Kenai|51185 Helmsman St...|        26|Vacuum Cleaner|      Appliances|    199.99|         26|\n",
       "|trx-087732089100|      85534|        26|    5|    199.99|    0.15|        PayPal|    6| 849.9575238406659|20220103|            21122|            Maryland|     Pasadena|    202 Winston Road|        26|Vacuum Cleaner|      Appliances|    199.99|         26|\n",
       "|trx-227505126526|      85504|        26|   10|    199.99|    0.15|        Stripe|    6|1699.9150476813318|20220103|            06040|         Connecticut|   Manchester|    89 Frances Drive|        26|Vacuum Cleaner|      Appliances|    199.99|         26|\n",
       "|trx-512595649334|      85561|        26|    8|    199.99|     0.0|   Credit Card|    6|           1599.92|20220103|            85304|             Arizona|     Glendale|13066 North 56th ...|        26|Vacuum Cleaner|      Appliances|    199.99|         26|\n",
       "|trx-950565917451|      85512|        26|    5|    199.99|     0.0|        Stripe|    6|            999.95|20220103|            21060|            Maryland|  Glen Burnie|140 William Chamb...|        26|Vacuum Cleaner|      Appliances|    199.99|         26|\n",
       "|trx-361642366546|      85526|        26|    5|    199.99|     0.2|   Credit Card|    6| 799.9600119203329|20220104|            36116|             Alabama|   Montgomery| 4560 Hurlston Drive|        26|Vacuum Cleaner|      Appliances|    199.99|         26|\n",
       "|trx-427707072114|      85500|        26|    1|    199.99|     0.0|   Credit Card|    6|            199.99|20220104|            02155|       Massachusetts|      Medford|     190 High Street|        26|Vacuum Cleaner|      Appliances|    199.99|         26|\n",
       "|trx-908944532247|      85467|        26|    6|    199.99|     0.2|        Stripe|    6| 959.9520143043995|20220105|            94538|          California|      Fremont|     40700 Penn Lane|        26|Vacuum Cleaner|      Appliances|    199.99|         26|\n",
       "|trx-154432424782|      85549|        26|    7|    199.99|    0.15|        PayPal|    6|1189.9405333769323|20220105|            32456|             Florida| Mexico Beach|  3203 US Highway 98|        26|Vacuum Cleaner|      Appliances|    199.99|         26|\n",
       "|trx-121390622491|      85474|        26|    1|    199.99|     0.0|        Stripe|    6|            199.99|20220106|            01801|       Massachusetts|       Woburn|    78 School Street|        26|Vacuum Cleaner|      Appliances|    199.99|         26|\n",
       "|trx-444236770189|      85521|        26|    2|    199.99|     0.1|        Stripe|    6|359.98199046373367|20220107|            73120|            Oklahoma|Oklahoma City|1537 Northwest 12...|        26|Vacuum Cleaner|      Appliances|    199.99|         26|\n",
       "|trx-573555731252|      85502|        26|    9|    199.99|     0.0|        PayPal|    6|           1799.91|20220107|            32409|             Florida|    Southport|   711 Tashanna Lane|        26|Vacuum Cleaner|      Appliances|    199.99|         26|\n",
       "|trx-638667412178|      85523|        26|    4|    199.99|     0.0|        PayPal|    6|            799.96|20220107|            85355|             Arizona|      Waddell|10304 North 179th...|        26|Vacuum Cleaner|      Appliances|    199.99|         26|\n",
       "|trx-411930500153|      85540|        26|    6|    199.99|     0.2|        PayPal|    6| 959.9520143043995|20220108|            06040|         Connecticut|   Manchester|   173 Spruce Street|        26|Vacuum Cleaner|      Appliances|    199.99|         26|\n",
       "|trx-815454456612|      85466|        26|    6|    199.99|     0.0|   Credit Card|    6|           1199.94|20220108|            20019|District of Columbia|   Washington|4341 Ponds Street...|        26|Vacuum Cleaner|      Appliances|    199.99|         26|\n",
       "|trx-058836766984|      85501|        26|    3|    199.99|     0.0|   Credit Card|    4|            599.97|20220109|            06040|         Connecticut|   Manchester|    115 Waddell Road|        26|Vacuum Cleaner|      Appliances|    199.99|         26|\n",
       "+----------------+-----------+----------+-----+----------+--------+--------------+-----+------------------+--------+-----------------+--------------------+-------------+--------------------+----------+--------------+----------------+----------+-----------+\n",
       "only showing top 20 rows"
      ]
     },
     "execution_count": 83,
     "metadata": {},
     "output_type": "execute_result"
    }
   ],
   "source": [
    "online_fact_df.coalesce(1)"
   ]
  },
  {
   "cell_type": "code",
   "execution_count": 84,
   "id": "7d573c63-74c7-4842-8733-bf89058fa335",
   "metadata": {
    "collapsed": true,
    "jupyter": {
     "outputs_hidden": true
    },
    "tags": []
   },
   "outputs": [
    {
     "data": {
      "text/html": [
       "<table border='1'>\n",
       "<tr><th>transaction_id</th><th>customer_id</th><th>units</th><th>discount</th><th>payment_method</th><th>group</th><th>total_price</th><th>date_key</th><th>shipping_zip_code</th><th>shipping_state</th><th>shipping_city</th><th>shipping_street_name</th><th>product_key</th></tr>\n",
       "<tr><td>trx-038966531476</td><td>85511</td><td>9</td><td>0.0</td><td>PayPal</td><td>2</td><td>8099.91</td><td>20220101</td><td>05446</td><td>Vermont</td><td>Colchester</td><td>1783 Blakely Road</td><td>11</td></tr>\n",
       "<tr><td>trx-196650129641</td><td>85502</td><td>1</td><td>0.0</td><td>Stripe</td><td>2</td><td>79.99</td><td>20220101</td><td>02149</td><td>Massachusetts</td><td>Everett</td><td>88 Shute Street</td><td>8</td></tr>\n",
       "<tr><td>trx-961186738199</td><td>85540</td><td>8</td><td>0.2</td><td>PayPal</td><td>3</td><td>831.9360123968125</td><td>20220101</td><td>05478</td><td>Vermont</td><td>Saint Albans City</td><td>45 Parsons Avenue</td><td>9</td></tr>\n",
       "<tr><td>trx-961186738199</td><td>85540</td><td>8</td><td>0.2</td><td>PayPal</td><td>1</td><td>831.9360123968125</td><td>20220101</td><td>05478</td><td>Vermont</td><td>Saint Albans City</td><td>45 Parsons Avenue</td><td>9</td></tr>\n",
       "<tr><td>trx-807433736285</td><td>85505</td><td>9</td><td>0.2</td><td>Stripe</td><td>4</td><td>359.92800536334516</td><td>20220101</td><td>05079</td><td>Vermont</td><td>Vershire</td><td>6460 Vermont 113</td><td>24</td></tr>\n",
       "<tr><td>trx-378573229506</td><td>85552</td><td>1</td><td>0.05</td><td>Credit Card</td><td>6</td><td>56.990499284863475</td><td>20220101</td><td>94545</td><td>California</td><td>Hayward</td><td>1265 Xavier Avenue</td><td>7</td></tr>\n",
       "<tr><td>trx-812311767786</td><td>85525</td><td>8</td><td>0.2</td><td>Stripe</td><td>6</td><td>5759.936085829735</td><td>20220101</td><td>05301</td><td>Vermont</td><td>West Brattleboro</td><td>129 Glen Street</td><td>11</td></tr>\n",
       "<tr><td>trx-714156427993</td><td>85519</td><td>4</td><td>0.0</td><td>PayPal</td><td>6</td><td>79.96</td><td>20220101</td><td>06040</td><td>Connecticut</td><td>Manchester</td><td>52 Linnmore Drive</td><td>5</td></tr>\n",
       "<tr><td>trx-926752978689</td><td>85553</td><td>10</td><td>0.0</td><td>PayPal</td><td>6</td><td>299.9</td><td>20220101</td><td>05461</td><td>Vermont</td><td>Hinesburg</td><td>1313 North Road</td><td>15</td></tr>\n",
       "<tr><td>trx-377988149376</td><td>85548</td><td>6</td><td>0.0</td><td>Stripe</td><td>6</td><td>149.94</td><td>20220101</td><td>35242</td><td>Alabama</td><td>Birmingham</td><td>3328 Sunny Meadow...</td><td>30</td></tr>\n",
       "<tr><td>trx-578810017511</td><td>85510</td><td>2</td><td>0.05</td><td>PayPal</td><td>6</td><td>56.98099928498268</td><td>20220101</td><td>94601</td><td>California</td><td>Oakland</td><td>3578 Galindo Street</td><td>27</td></tr>\n",
       "<tr><td>trx-935354519699</td><td>85468</td><td>9</td><td>0.2</td><td>Stripe</td><td>6</td><td>287.92800429046156</td><td>20220101</td><td>06040</td><td>Connecticut</td><td>Manchester</td><td>396 Hartford Road</td><td>10</td></tr>\n",
       "<tr><td>trx-062565092206</td><td>85534</td><td>2</td><td>0.2</td><td>Stripe</td><td>6</td><td>1599.9840238416195</td><td>20220101</td><td>31405</td><td>Georgia</td><td>Savannah</td><td>1363 Dean Forest ...</td><td>1</td></tr>\n",
       "<tr><td>trx-291831425853</td><td>85520</td><td>3</td><td>0.2</td><td>Stripe</td><td>6</td><td>359.9760053640604</td><td>20220101</td><td>31410</td><td>Georgia</td><td>Savannah</td><td>206 Blue Marlin D...</td><td>13</td></tr>\n",
       "<tr><td>trx-490934091046</td><td>85488</td><td>5</td><td>0.0</td><td>PayPal</td><td>6</td><td>1999.95</td><td>20220101</td><td>37210</td><td>Tennessee</td><td>Nashville</td><td>95 Claiborne Street</td><td>14</td></tr>\n",
       "<tr><td>trx-477242925566</td><td>85505</td><td>7</td><td>0.0</td><td>PayPal</td><td>6</td><td>419.93</td><td>20220101</td><td>06042</td><td>Connecticut</td><td>Manchester</td><td>23 Columbia Drive</td><td>7</td></tr>\n",
       "<tr><td>trx-657276071144</td><td>85480</td><td>10</td><td>0.0</td><td>PayPal</td><td>6</td><td>199.89999999999998</td><td>20220101</td><td>02151</td><td>Massachusetts</td><td>Revere</td><td>98 Lincoln Street</td><td>28</td></tr>\n",
       "<tr><td>trx-521851194970</td><td>85470</td><td>6</td><td>0.0</td><td>Credit Card</td><td>6</td><td>1799.94</td><td>20220101</td><td>94702</td><td>California</td><td>Berkeley</td><td>1209 Parker Street</td><td>3</td></tr>\n",
       "<tr><td>trx-835639572082</td><td>85521</td><td>7</td><td>0.2</td><td>Credit Card</td><td>6</td><td>279.9440041714907</td><td>20220101</td><td>73162</td><td>Oklahoma</td><td>Oklahoma City</td><td>11724 Rushmore</td><td>6</td></tr>\n",
       "<tr><td>trx-832513610642</td><td>85532</td><td>3</td><td>0.0</td><td>Stripe</td><td>6</td><td>2699.9700000000003</td><td>20220101</td><td>85301</td><td>Arizona</td><td>Glendale</td><td>6802 North 67th A...</td><td>11</td></tr>\n",
       "</table>\n",
       "only showing top 20 rows\n"
      ],
      "text/plain": [
       "+----------------+-----------+-----+--------+--------------+-----+------------------+--------+-----------------+--------------+-----------------+--------------------+-----------+\n",
       "|  transaction_id|customer_id|units|discount|payment_method|group|       total_price|date_key|shipping_zip_code|shipping_state|    shipping_city|shipping_street_name|product_key|\n",
       "+----------------+-----------+-----+--------+--------------+-----+------------------+--------+-----------------+--------------+-----------------+--------------------+-----------+\n",
       "|trx-038966531476|      85511|    9|     0.0|        PayPal|    2|           8099.91|20220101|            05446|       Vermont|       Colchester|   1783 Blakely Road|         11|\n",
       "|trx-196650129641|      85502|    1|     0.0|        Stripe|    2|             79.99|20220101|            02149| Massachusetts|          Everett|     88 Shute Street|          8|\n",
       "|trx-961186738199|      85540|    8|     0.2|        PayPal|    3| 831.9360123968125|20220101|            05478|       Vermont|Saint Albans City|   45 Parsons Avenue|          9|\n",
       "|trx-961186738199|      85540|    8|     0.2|        PayPal|    1| 831.9360123968125|20220101|            05478|       Vermont|Saint Albans City|   45 Parsons Avenue|          9|\n",
       "|trx-807433736285|      85505|    9|     0.2|        Stripe|    4|359.92800536334516|20220101|            05079|       Vermont|         Vershire|    6460 Vermont 113|         24|\n",
       "|trx-378573229506|      85552|    1|    0.05|   Credit Card|    6|56.990499284863475|20220101|            94545|    California|          Hayward|  1265 Xavier Avenue|          7|\n",
       "|trx-812311767786|      85525|    8|     0.2|        Stripe|    6| 5759.936085829735|20220101|            05301|       Vermont| West Brattleboro|     129 Glen Street|         11|\n",
       "|trx-714156427993|      85519|    4|     0.0|        PayPal|    6|             79.96|20220101|            06040|   Connecticut|       Manchester|   52 Linnmore Drive|          5|\n",
       "|trx-926752978689|      85553|   10|     0.0|        PayPal|    6|             299.9|20220101|            05461|       Vermont|        Hinesburg|     1313 North Road|         15|\n",
       "|trx-377988149376|      85548|    6|     0.0|        Stripe|    6|            149.94|20220101|            35242|       Alabama|       Birmingham|3328 Sunny Meadow...|         30|\n",
       "|trx-578810017511|      85510|    2|    0.05|        PayPal|    6| 56.98099928498268|20220101|            94601|    California|          Oakland| 3578 Galindo Street|         27|\n",
       "|trx-935354519699|      85468|    9|     0.2|        Stripe|    6|287.92800429046156|20220101|            06040|   Connecticut|       Manchester|   396 Hartford Road|         10|\n",
       "|trx-062565092206|      85534|    2|     0.2|        Stripe|    6|1599.9840238416195|20220101|            31405|       Georgia|         Savannah|1363 Dean Forest ...|          1|\n",
       "|trx-291831425853|      85520|    3|     0.2|        Stripe|    6| 359.9760053640604|20220101|            31410|       Georgia|         Savannah|206 Blue Marlin D...|         13|\n",
       "|trx-490934091046|      85488|    5|     0.0|        PayPal|    6|           1999.95|20220101|            37210|     Tennessee|        Nashville| 95 Claiborne Street|         14|\n",
       "|trx-477242925566|      85505|    7|     0.0|        PayPal|    6|            419.93|20220101|            06042|   Connecticut|       Manchester|   23 Columbia Drive|          7|\n",
       "|trx-657276071144|      85480|   10|     0.0|        PayPal|    6|199.89999999999998|20220101|            02151| Massachusetts|           Revere|   98 Lincoln Street|         28|\n",
       "|trx-521851194970|      85470|    6|     0.0|   Credit Card|    6|           1799.94|20220101|            94702|    California|         Berkeley|  1209 Parker Street|          3|\n",
       "|trx-835639572082|      85521|    7|     0.2|   Credit Card|    6| 279.9440041714907|20220101|            73162|      Oklahoma|    Oklahoma City|      11724 Rushmore|          6|\n",
       "|trx-832513610642|      85532|    3|     0.0|        Stripe|    6|2699.9700000000003|20220101|            85301|       Arizona|         Glendale|6802 North 67th A...|         11|\n",
       "+----------------+-----------+-----+--------+--------------+-----+------------------+--------+-----------------+--------------+-----------------+--------------------+-----------+\n",
       "only showing top 20 rows"
      ]
     },
     "execution_count": 84,
     "metadata": {},
     "output_type": "execute_result"
    }
   ],
   "source": [
    "online_fact_df=online_fact_df.drop(\"product_id\", \"product_name\", \"product_category\", \"unit_price\")\n",
    "online_fact_df.coalesce(1)"
   ]
  },
  {
   "cell_type": "code",
   "execution_count": 85,
   "id": "6435ab3f-0721-4006-9c9e-7d3c5f701715",
   "metadata": {},
   "outputs": [],
   "source": [
    "# Perform an inner join on transaction_date and date\n",
    "offline_fact_df = offline_fact_df.join(product_dim_df, offline_fact_df[\"product_id\"] == product_dim_df[\"product_id\"], \"inner\")\n"
   ]
  },
  {
   "cell_type": "code",
   "execution_count": 86,
   "id": "a99f32f1-5c5c-41f7-8a4a-7b72b0e5cc9e",
   "metadata": {
    "collapsed": true,
    "jupyter": {
     "outputs_hidden": true
    },
    "tags": []
   },
   "outputs": [
    {
     "data": {
      "text/html": [
       "<table border='1'>\n",
       "<tr><th>transaction_id</th><th>customer_id</th><th>sales_agent_id</th><th>branch_id</th><th>units</th><th>discount</th><th>payment_method</th><th>total_price</th><th>date_key</th><th>product_key</th></tr>\n",
       "<tr><td>trx-407964138068</td><td>85479</td><td>4.0</td><td>5.0</td><td>8</td><td>0.1</td><td>Cash</td><td>3599.927904634476</td><td>20221005</td><td>25</td></tr>\n",
       "<tr><td>trx-843694845999</td><td>85506</td><td>11.0</td><td>1.0</td><td>10</td><td>0.05</td><td>Credit Card</td><td>284.9049964249134</td><td>20221005</td><td>15</td></tr>\n",
       "<tr><td>trx-548311587674</td><td>85541</td><td>5.0</td><td>3.0</td><td>10</td><td>0.05</td><td>Cash</td><td>284.9049964249134</td><td>20221005</td><td>19</td></tr>\n",
       "<tr><td>trx-611821275884</td><td>85470</td><td>7.0</td><td>5.0</td><td>1</td><td>0.0</td><td>Credit Card</td><td>499.99</td><td>20221005</td><td>25</td></tr>\n",
       "<tr><td>trx-527486306638</td><td>85544</td><td>10.0</td><td>2.0</td><td>5</td><td>0.1</td><td>Cash</td><td>179.95499523282052</td><td>20221005</td><td>23</td></tr>\n",
       "<tr><td>trx-012682136132</td><td>85480</td><td>1.0</td><td>4.0</td><td>4</td><td>0.1</td><td>Cash</td><td>71.96399809360504</td><td>20221005</td><td>5</td></tr>\n",
       "<tr><td>trx-167057015608</td><td>85519</td><td>8.0</td><td>2.0</td><td>10</td><td>0.0</td><td>Cash</td><td>599.9</td><td>20221005</td><td>7</td></tr>\n",
       "<tr><td>trx-655869782401</td><td>85527</td><td>8.0</td><td>2.0</td><td>10</td><td>0.2</td><td>Cash</td><td>159.9200023829937</td><td>20221005</td><td>28</td></tr>\n",
       "<tr><td>trx-725477728975</td><td>85462</td><td>4.0</td><td>6.0</td><td>6</td><td>0.0</td><td>Cash</td><td>899.94</td><td>20221005</td><td>18</td></tr>\n",
       "<tr><td>trx-079756546639</td><td>85531</td><td>8.0</td><td>2.0</td><td>5</td><td>0.0</td><td>Credit Card</td><td>199.95000000000002</td><td>20221005</td><td>16</td></tr>\n",
       "<tr><td>trx-535286586168</td><td>85510</td><td>7.0</td><td>6.0</td><td>7</td><td>0.05</td><td>Credit Card</td><td>1994.933474966884</td><td>20221005</td><td>12</td></tr>\n",
       "<tr><td>trx-084210619674</td><td>85485</td><td>8.0</td><td>6.0</td><td>10</td><td>0.2</td><td>Cash</td><td>479.92000715136527</td><td>20221005</td><td>7</td></tr>\n",
       "<tr><td>trx-881038300170</td><td>85477</td><td>5.0</td><td>3.0</td><td>8</td><td>0.0</td><td>Credit Card</td><td>159.92</td><td>20221005</td><td>5</td></tr>\n",
       "<tr><td>trx-266248391098</td><td>85502</td><td>4.0</td><td>5.0</td><td>7</td><td>0.0</td><td>Credit Card</td><td>559.93</td><td>20221005</td><td>8</td></tr>\n",
       "<tr><td>trx-447618449080</td><td>85494</td><td>11.0</td><td>5.0</td><td>1</td><td>0.0</td><td>Credit Card</td><td>149.99</td><td>20221005</td><td>13</td></tr>\n",
       "<tr><td>trx-333773541049</td><td>85522</td><td>11.0</td><td>5.0</td><td>10</td><td>0.1</td><td>Cash</td><td>449.90998808145525</td><td>20221005</td><td>24</td></tr>\n",
       "<tr><td>trx-645813525610</td><td>85487</td><td>8.0</td><td>6.0</td><td>5</td><td>0.0</td><td>Cash</td><td>999.95</td><td>20221005</td><td>26</td></tr>\n",
       "<tr><td>trx-307991756457</td><td>85499</td><td>10.0</td><td>3.0</td><td>7</td><td>0.0</td><td>Cash</td><td>209.92999999999998</td><td>20221005</td><td>19</td></tr>\n",
       "<tr><td>trx-866999434394</td><td>85556</td><td>9.0</td><td>4.0</td><td>10</td><td>0.0</td><td>Credit Card</td><td>2999.9</td><td>20221005</td><td>12</td></tr>\n",
       "<tr><td>trx-452855447162</td><td>85501</td><td>8.0</td><td>6.0</td><td>6</td><td>0.15</td><td>Cash</td><td>2549.949071524143</td><td>20221005</td><td>25</td></tr>\n",
       "</table>\n",
       "only showing top 20 rows\n"
      ],
      "text/plain": [
       "+----------------+-----------+--------------+---------+-----+--------+--------------+------------------+--------+-----------+\n",
       "|  transaction_id|customer_id|sales_agent_id|branch_id|units|discount|payment_method|       total_price|date_key|product_key|\n",
       "+----------------+-----------+--------------+---------+-----+--------+--------------+------------------+--------+-----------+\n",
       "|trx-076399480608|      85543|           4.0|      5.0|   10|    0.15|          Cash|  339.915009534359|20221005|         29|\n",
       "|trx-869094373006|      85492|          11.0|      2.0|    4|     0.0|          Cash|            319.96|20221005|          8|\n",
       "|trx-503367123686|      85503|          11.0|      3.0|    8|     0.0|   Credit Card|            319.92|20221005|         16|\n",
       "|trx-174908107361|      85509|           3.0|      1.0|    4|     0.2|          Cash|1599.9680238413812|20221005|         25|\n",
       "|trx-425712974649|      85557|           9.0|      4.0|    3|     0.2|   Credit Card| 359.9760053640604|20221005|         18|\n",
       "|trx-130879848938|      85504|           8.0|      3.0|    3|     0.0|   Credit Card|2099.9700000000003|20221005|          2|\n",
       "|trx-050608515670|      85496|          11.0|      3.0|    9|     0.0|          Cash|            179.91|20221005|          5|\n",
       "|trx-163780790436|      85516|           3.0|      6.0|    9|     0.2|          Cash|143.92800214469432|20221005|          5|\n",
       "|trx-852403292386|      85536|           4.0|      4.0|    5|    0.15|          Cash|3824.9576072871682|20221005|         11|\n",
       "|trx-058692145076|      85561|           5.0|      6.0|    5|     0.0|          Cash|199.95000000000002|20221005|         16|\n",
       "|trx-593040460969|      85499|          11.0|      1.0|    8|     0.0|          Cash|            239.92|20221005|         19|\n",
       "|trx-406130654199|      85547|           7.0|      1.0|    6|     0.2|          Cash|1439.9520214569568|20221005|          3|\n",
       "|trx-567147510430|      85499|           2.0|      5.0|    1|     0.0|   Credit Card|             99.99|20221005|          4|\n",
       "|trx-049685951276|      85516|           9.0|      5.0|    1|    0.15|          Cash| 424.9915119206905|20221005|         25|\n",
       "|trx-422830483654|      85561|           5.0|      2.0|    2|    0.05|   Credit Card| 949.9809880793094|20221005|         25|\n",
       "|trx-284111951568|      85551|          10.0|      1.0|    1|     0.0|   Credit Card|             29.99|20221005|         27|\n",
       "|trx-596188648857|      85498|           7.0|      6.0|    2|    0.15|   Credit Card|33.983000953197475|20221005|         28|\n",
       "|trx-756852746924|      85548|          11.0|      5.0|    9|     0.2|   Credit Card|2159.9280321854353|20221005|         12|\n",
       "|trx-088886246107|      85548|           4.0|      1.0|    2|    0.05|   Credit Card|151.98099809288976|20221005|          8|\n",
       "|trx-963580033090|      85507|           7.0|      2.0|    9|     0.0|          Cash|269.90999999999997|20221005|         17|\n",
       "+----------------+-----------+--------------+---------+-----+--------+--------------+------------------+--------+-----------+\n",
       "only showing top 20 rows"
      ]
     },
     "execution_count": 86,
     "metadata": {},
     "output_type": "execute_result"
    }
   ],
   "source": [
    "offline_fact_df=offline_fact_df.drop(\"product_id\", \"product_name\", \"product_category\", \"unit_price\")\n",
    "offline_fact_df.coalesce(1)"
   ]
  },
  {
   "cell_type": "code",
   "execution_count": 87,
   "id": "2f727c97-558e-4773-99a4-2c6a07b79c0a",
   "metadata": {
    "collapsed": true,
    "jupyter": {
     "outputs_hidden": true
    },
    "tags": []
   },
   "outputs": [
    {
     "name": "stdout",
     "output_type": "stream",
     "text": [
      "+-----------+------------------+--------------------+\n",
      "|customer_id|     customer_name|       cleaned_email|\n",
      "+-----------+------------------+--------------------+\n",
      "|      85525|         Ava Jones| ava.jones@yahoo.com|\n",
      "|      85527|       Emma Miller|emma.miller@outlo...|\n",
      "|      85520|  Alexander Wilson|alexander.wilson@...|\n",
      "|      85541|         Ava Jones|ava.jones@hotmail...|\n",
      "|      85473|     Sophia Miller|sophia.miller@yah...|\n",
      "|      85514|     Michael Smith|michael.smith@out...|\n",
      "|      85547|      James Wilson|james.wilson@outl...|\n",
      "|      85508|      James Miller|james.miller@hotm...|\n",
      "|      85542|      James Miller|james.miller@yaho...|\n",
      "|      85506|      Mia Williams|mia.williams@hotm...|\n",
      "|      85515|    William Wilson|william.wilson@ou...|\n",
      "|      85511|   Alexander Moore|alexander.moore@y...|\n",
      "|      85477|Alexander Williams|alexander.william...|\n",
      "|      85554|        John Brown|john.brown@gmail.com|\n",
      "|      85490|        Mia Taylor|mia.taylor@yahoo.com|\n",
      "|      85516|  Michael Williams|michael.williams@...|\n",
      "|      85529|      Mia Williams|mia.williams@yaho...|\n",
      "|      85556|         Ava Brown| ava.brown@yahoo.com|\n",
      "|      85482|     William Moore|william.moore@yah...|\n",
      "|      85523|        Mia Wilson|mia.wilson@gmail....|\n",
      "+-----------+------------------+--------------------+\n",
      "only showing top 20 rows\n",
      "\n"
     ]
    }
   ],
   "source": [
    "customer_dim_df=all_groups_merged_df.select(\n",
    "    col(\"customer_id\"),\n",
    "    col(\"customer_name\"),\n",
    "    col(\"cleaned_email\")).dropDuplicates([\"customer_id\"])\n",
    "\n",
    "customer_dim_df.show()"
   ]
  },
  {
   "cell_type": "code",
   "execution_count": 88,
   "id": "97e98305-4d07-422b-b746-3e5695ac42b5",
   "metadata": {
    "collapsed": true,
    "jupyter": {
     "outputs_hidden": true
    },
    "tags": []
   },
   "outputs": [
    {
     "data": {
      "text/html": [
       "<table border='1'>\n",
       "<tr><th>customer_id</th><th>customer_name</th><th>cleaned_email</th><th>customer_key</th></tr>\n",
       "<tr><td>85462</td><td>Olivia Brown</td><td>olivia.brown@yaho...</td><td>1</td></tr>\n",
       "<tr><td>85463</td><td>Ava Miller</td><td>ava.miller@gmail.com</td><td>2</td></tr>\n",
       "<tr><td>85464</td><td>Alexander Moore</td><td>alexander.moore@o...</td><td>3</td></tr>\n",
       "<tr><td>85465</td><td>James Taylor</td><td>james.taylor@gmai...</td><td>4</td></tr>\n",
       "<tr><td>85466</td><td>Michael Brown</td><td>michael.brown@yah...</td><td>5</td></tr>\n",
       "<tr><td>85467</td><td>Alexander Jones</td><td>alexander.jones@o...</td><td>6</td></tr>\n",
       "<tr><td>85468</td><td>William Davis</td><td>william.davis@yah...</td><td>7</td></tr>\n",
       "<tr><td>85469</td><td>Emma Miller</td><td>emma.miller@outlo...</td><td>8</td></tr>\n",
       "<tr><td>85470</td><td>William Williams</td><td>william.williams@...</td><td>9</td></tr>\n",
       "<tr><td>85471</td><td>Ava Williams</td><td>ava.williams@outl...</td><td>10</td></tr>\n",
       "<tr><td>85472</td><td>Ava Smith</td><td>ava.smith@outlook...</td><td>11</td></tr>\n",
       "<tr><td>85473</td><td>Michael Jones</td><td>michael.jones@out...</td><td>12</td></tr>\n",
       "<tr><td>85474</td><td>Olivia Brown</td><td>olivia.brown@hotm...</td><td>13</td></tr>\n",
       "<tr><td>85475</td><td>Sophia Smith</td><td>sophia.smith@yaho...</td><td>14</td></tr>\n",
       "<tr><td>85476</td><td>James Moore</td><td>james.moore@yahoo...</td><td>15</td></tr>\n",
       "<tr><td>85477</td><td>Alexander Williams</td><td>alexander.william...</td><td>16</td></tr>\n",
       "<tr><td>85478</td><td>James Davis</td><td>james.davis@outlo...</td><td>17</td></tr>\n",
       "<tr><td>85479</td><td>Mia Taylor</td><td>mia.taylor@hotmai...</td><td>18</td></tr>\n",
       "<tr><td>85480</td><td>Alexander Williams</td><td>alexander.william...</td><td>19</td></tr>\n",
       "<tr><td>85481</td><td>Michael Moore</td><td>michael.moore@out...</td><td>20</td></tr>\n",
       "</table>\n",
       "only showing top 20 rows\n"
      ],
      "text/plain": [
       "+-----------+---------------+--------------------+------------+\n",
       "|customer_id|  customer_name|       cleaned_email|customer_key|\n",
       "+-----------+---------------+--------------------+------------+\n",
       "|      85462|   Olivia Brown|olivia.brown@yaho...|           1|\n",
       "|      85463|     Ava Miller|ava.miller@gmail.com|           2|\n",
       "|      85464|  Emma Williams|emma.williams@out...|           3|\n",
       "|      85465|     Emma Smith|emma.smith@gmail.com|           4|\n",
       "|      85466|  Michael Brown|michael.brown@yah...|           5|\n",
       "|      85467|Alexander Jones|alexander.jones@y...|           6|\n",
       "|      85468|Michael Johnson|michael.johnson@g...|           7|\n",
       "|      85469|    Emma Miller|emma.miller@outlo...|           8|\n",
       "|      85470|     Ava Wilson|ava.wilson@hotmai...|           9|\n",
       "|      85471|   Ava Williams|ava.williams@outl...|          10|\n",
       "|      85472|     Emma Brown|emma.brown@yahoo.com|          11|\n",
       "|      85473|  Michael Jones|michael.jones@out...|          12|\n",
       "|      85474|   Olivia Brown|olivia.brown@hotm...|          13|\n",
       "|      85475|   Sophia Smith|sophia.smith@yaho...|          14|\n",
       "|      85476|    James Moore|james.moore@yahoo...|          15|\n",
       "|      85477|     Emma Jones|emma.jones@hotmai...|          16|\n",
       "|      85478|    James Davis|james.davis@outlo...|          17|\n",
       "|      85479|     Mia Taylor|mia.taylor@hotmai...|          18|\n",
       "|      85480|  Sophia Wilson|sophia.wilson@gma...|          19|\n",
       "|      85481|   Emma Johnson|emma.johnson@gmai...|          20|\n",
       "+-----------+---------------+--------------------+------------+\n",
       "only showing top 20 rows"
      ]
     },
     "execution_count": 88,
     "metadata": {},
     "output_type": "execute_result"
    }
   ],
   "source": [
    "# Define a Window specification\n",
    "window_spec = Window.orderBy(\"customer_id\")\n",
    "\n",
    "# Add a product_key column using row_number\n",
    "customer_dim_df = customer_dim_df.withColumn(\"customer_key\", row_number().over(window_spec))\n",
    "\n",
    "customer_dim_df.coalesce(1)"
   ]
  },
  {
   "cell_type": "code",
   "execution_count": 89,
   "id": "a07ae569-16f4-4d29-b300-598788df24cf",
   "metadata": {},
   "outputs": [],
   "source": [
    "# Write the merged DataFrame to a single CSV file\n",
    "output_path = \"/Graduation_Project/transformed_data/schema/customer_dim.csv\"\n",
    "customer_dim_df.coalesce(1).write.mode('overwrite').csv(output_path, header=True)"
   ]
  },
  {
   "cell_type": "code",
   "execution_count": 90,
   "id": "0667c1ff-4998-4a8f-aeea-c8046b802fee",
   "metadata": {
    "collapsed": true,
    "jupyter": {
     "outputs_hidden": true
    },
    "tags": []
   },
   "outputs": [
    {
     "data": {
      "text/html": [
       "<table border='1'>\n",
       "<tr><th>transaction_id</th><th>customer_id</th><th>units</th><th>discount</th><th>payment_method</th><th>group</th><th>total_price</th><th>date_key</th><th>shipping_zip_code</th><th>shipping_state</th><th>shipping_city</th><th>shipping_street_name</th><th>product_key</th><th>customer_id</th><th>customer_name</th><th>cleaned_email</th><th>customer_key</th></tr>\n",
       "<tr><td>trx-812311767786</td><td>85525</td><td>8</td><td>0.2</td><td>Stripe</td><td>6</td><td>5759.936085829735</td><td>20220101</td><td>05301</td><td>Vermont</td><td>West Brattleboro</td><td>129 Glen Street</td><td>11</td><td>85525</td><td>Michael Wilson</td><td>michael.wilson@gm...</td><td>64</td></tr>\n",
       "<tr><td>trx-777696509076</td><td>85525</td><td>10</td><td>0.15</td><td>PayPal</td><td>5</td><td>509.9150143027305</td><td>20220103</td><td>06040</td><td>Connecticut</td><td>Manchester</td><td>81 Lyness Street</td><td>7</td><td>85525</td><td>Michael Wilson</td><td>michael.wilson@gm...</td><td>64</td></tr>\n",
       "<tr><td>trx-961752173520</td><td>85525</td><td>5</td><td>0.15</td><td>PayPal</td><td>6</td><td>254.95750715136526</td><td>20220103</td><td>06040</td><td>Connecticut</td><td>Manchester</td><td>117 Adelaide Road</td><td>7</td><td>85525</td><td>Michael Wilson</td><td>michael.wilson@gm...</td><td>64</td></tr>\n",
       "<tr><td>trx-752459780179</td><td>85525</td><td>9</td><td>0.05</td><td>Credit Card</td><td>6</td><td>1111.4144860535862</td><td>20220103</td><td>85310</td><td>Arizona</td><td>Glendale</td><td>23124 North 71st ...</td><td>21</td><td>85525</td><td>Michael Wilson</td><td>michael.wilson@gm...</td><td>64</td></tr>\n",
       "<tr><td>trx-895691945634</td><td>85525</td><td>5</td><td>0.2</td><td>Credit Card</td><td>6</td><td>159.96000238358977</td><td>20220104</td><td>05905</td><td>Vermont</td><td>Maidstone</td><td>3541 North Road</td><td>23</td><td>85525</td><td>Michael Wilson</td><td>michael.wilson@gm...</td><td>64</td></tr>\n",
       "<tr><td>trx-985459269846</td><td>85525</td><td>8</td><td>0.05</td><td>Credit Card</td><td>6</td><td>1139.923985695839</td><td>20220106</td><td>02143</td><td>Massachusetts</td><td>Somerville</td><td>13 Warren Avenue</td><td>18</td><td>85525</td><td>Michael Wilson</td><td>michael.wilson@gm...</td><td>64</td></tr>\n",
       "<tr><td>trx-667598624256</td><td>85525</td><td>10</td><td>0.0</td><td>Stripe</td><td>6</td><td>1299.9</td><td>20220106</td><td>37209</td><td>Tennessee</td><td>Nashville</td><td>410 51st Avenue N...</td><td>21</td><td>85525</td><td>Michael Wilson</td><td>michael.wilson@gm...</td><td>64</td></tr>\n",
       "<tr><td>trx-566935476646</td><td>85525</td><td>9</td><td>0.1</td><td>Credit Card</td><td>6</td><td>404.9189892733097</td><td>20220106</td><td>06040</td><td>Connecticut</td><td>Manchester</td><td>46 Lilac Street</td><td>24</td><td>85525</td><td>Michael Wilson</td><td>michael.wilson@gm...</td><td>64</td></tr>\n",
       "<tr><td>trx-574027283390</td><td>85525</td><td>1</td><td>0.15</td><td>PayPal</td><td>6</td><td>84.99150238394736</td><td>20220107</td><td>20001</td><td>District of Columbia</td><td>Washington</td><td>81 Seaton Place N...</td><td>4</td><td>85525</td><td>Michael Wilson</td><td>michael.wilson@gm...</td><td>64</td></tr>\n",
       "<tr><td>trx-037078085183</td><td>85525</td><td>8</td><td>0.0</td><td>PayPal</td><td>6</td><td>1199.92</td><td>20220107</td><td>80003</td><td>Colorado</td><td>Arvada</td><td>7912 Depew Street</td><td>13</td><td>85525</td><td>Michael Wilson</td><td>michael.wilson@gm...</td><td>64</td></tr>\n",
       "<tr><td>trx-892075794717</td><td>85525</td><td>2</td><td>0.15</td><td>Stripe</td><td>6</td><td>33.983000953197475</td><td>20220108</td><td>37027</td><td>Tennessee</td><td>Brentwood</td><td>123 Villa View Court</td><td>28</td><td>85525</td><td>Michael Wilson</td><td>michael.wilson@gm...</td><td>64</td></tr>\n",
       "<tr><td>trx-535934591770</td><td>85525</td><td>8</td><td>0.2</td><td>Stripe</td><td>6</td><td>319.9360047674179</td><td>20220108</td><td>94566</td><td>California</td><td>Pleasanton</td><td>3027 Badger Drive</td><td>6</td><td>85525</td><td>Michael Wilson</td><td>michael.wilson@gm...</td><td>64</td></tr>\n",
       "<tr><td>trx-962839519707</td><td>85525</td><td>3</td><td>0.0</td><td>PayPal</td><td>6</td><td>89.97</td><td>20220108</td><td>72701</td><td>Arkansas</td><td>Fayetteville</td><td>906 West Berry St...</td><td>17</td><td>85525</td><td>Michael Wilson</td><td>michael.wilson@gm...</td><td>64</td></tr>\n",
       "<tr><td>trx-555561699001</td><td>85525</td><td>9</td><td>0.0</td><td>Credit Card</td><td>6</td><td>179.91</td><td>20220113</td><td>72703</td><td>Arkansas</td><td>Fayetteville</td><td>3729 East Mission...</td><td>28</td><td>85525</td><td>Michael Wilson</td><td>michael.wilson@gm...</td><td>64</td></tr>\n",
       "<tr><td>trx-615813649970</td><td>85525</td><td>1</td><td>0.2</td><td>Credit Card</td><td>6</td><td>31.99200047671795</td><td>20220113</td><td>20776</td><td>Maryland</td><td>Harwood</td><td>4432 Cobalt Drive</td><td>23</td><td>85525</td><td>Michael Wilson</td><td>michael.wilson@gm...</td><td>64</td></tr>\n",
       "<tr><td>trx-003799553460</td><td>85525</td><td>7</td><td>0.2</td><td>Stripe</td><td>6</td><td>167.9440025025606</td><td>20220114</td><td>85308</td><td>Arizona</td><td>Glendale</td><td>6311 West Wagoner...</td><td>17</td><td>85525</td><td>Michael Wilson</td><td>michael.wilson@gm...</td><td>64</td></tr>\n",
       "<tr><td>trx-991521760170</td><td>85525</td><td>5</td><td>0.0</td><td>Stripe</td><td>6</td><td>149.95</td><td>20220115</td><td>32408</td><td>Florida</td><td>Panama City Beach</td><td>409 Snook Lane</td><td>19</td><td>85525</td><td>Michael Wilson</td><td>michael.wilson@gm...</td><td>64</td></tr>\n",
       "<tr><td>trx-332682461625</td><td>85525</td><td>6</td><td>0.0</td><td>Stripe</td><td>6</td><td>179.94</td><td>20220120</td><td>36104</td><td>Alabama</td><td>Montgomery</td><td>204 North Holt St...</td><td>15</td><td>85525</td><td>Michael Wilson</td><td>michael.wilson@gm...</td><td>64</td></tr>\n",
       "<tr><td>trx-883478163591</td><td>85525</td><td>4</td><td>0.0</td><td>Stripe</td><td>6</td><td>519.96</td><td>20220121</td><td>05001</td><td>Vermont</td><td>Hartford</td><td>10 Skyline Way</td><td>9</td><td>85525</td><td>Michael Wilson</td><td>michael.wilson@gm...</td><td>64</td></tr>\n",
       "<tr><td>trx-434628373591</td><td>85525</td><td>2</td><td>0.2</td><td>Stripe</td><td>6</td><td>63.9840009534359</td><td>20220122</td><td>20005</td><td>District of Columbia</td><td>Washington</td><td>1420 12th Street ...</td><td>10</td><td>85525</td><td>Michael Wilson</td><td>michael.wilson@gm...</td><td>64</td></tr>\n",
       "</table>\n",
       "only showing top 20 rows\n"
      ],
      "text/plain": [
       "+----------------+-----------+-----+--------+--------------+-----+------------------+--------+-----------------+--------------------+-----------------+--------------------+-----------+-----------+--------------+--------------------+------------+\n",
       "|  transaction_id|customer_id|units|discount|payment_method|group|       total_price|date_key|shipping_zip_code|      shipping_state|    shipping_city|shipping_street_name|product_key|customer_id| customer_name|       cleaned_email|customer_key|\n",
       "+----------------+-----------+-----+--------+--------------+-----+------------------+--------+-----------------+--------------------+-----------------+--------------------+-----------+-----------+--------------+--------------------+------------+\n",
       "|trx-812311767786|      85525|    8|     0.2|        Stripe|    6| 5759.936085829735|20220101|            05301|             Vermont| West Brattleboro|     129 Glen Street|         11|      85525|Michael Wilson|michael.wilson@gm...|          64|\n",
       "|trx-777696509076|      85525|   10|    0.15|        PayPal|    5| 509.9150143027305|20220103|            06040|         Connecticut|       Manchester|    81 Lyness Street|          7|      85525|Michael Wilson|michael.wilson@gm...|          64|\n",
       "|trx-961752173520|      85525|    5|    0.15|        PayPal|    6|254.95750715136526|20220103|            06040|         Connecticut|       Manchester|   117 Adelaide Road|          7|      85525|Michael Wilson|michael.wilson@gm...|          64|\n",
       "|trx-752459780179|      85525|    9|    0.05|   Credit Card|    6|1111.4144860535862|20220103|            85310|             Arizona|         Glendale|23124 North 71st ...|         21|      85525|Michael Wilson|michael.wilson@gm...|          64|\n",
       "|trx-895691945634|      85525|    5|     0.2|   Credit Card|    6|159.96000238358977|20220104|            05905|             Vermont|        Maidstone|     3541 North Road|         23|      85525|Michael Wilson|michael.wilson@gm...|          64|\n",
       "|trx-985459269846|      85525|    8|    0.05|   Credit Card|    6| 1139.923985695839|20220106|            02143|       Massachusetts|       Somerville|    13 Warren Avenue|         18|      85525|Michael Wilson|michael.wilson@gm...|          64|\n",
       "|trx-667598624256|      85525|   10|     0.0|        Stripe|    6|            1299.9|20220106|            37209|           Tennessee|        Nashville|410 51st Avenue N...|         21|      85525|Michael Wilson|michael.wilson@gm...|          64|\n",
       "|trx-566935476646|      85525|    9|     0.1|   Credit Card|    6| 404.9189892733097|20220106|            06040|         Connecticut|       Manchester|     46 Lilac Street|         24|      85525|Michael Wilson|michael.wilson@gm...|          64|\n",
       "|trx-574027283390|      85525|    1|    0.15|        PayPal|    6| 84.99150238394736|20220107|            20001|District of Columbia|       Washington|81 Seaton Place N...|          4|      85525|Michael Wilson|michael.wilson@gm...|          64|\n",
       "|trx-037078085183|      85525|    8|     0.0|        PayPal|    6|           1199.92|20220107|            80003|            Colorado|           Arvada|   7912 Depew Street|         13|      85525|Michael Wilson|michael.wilson@gm...|          64|\n",
       "|trx-892075794717|      85525|    2|    0.15|        Stripe|    6|33.983000953197475|20220108|            37027|           Tennessee|        Brentwood|123 Villa View Court|         28|      85525|Michael Wilson|michael.wilson@gm...|          64|\n",
       "|trx-535934591770|      85525|    8|     0.2|        Stripe|    6| 319.9360047674179|20220108|            94566|          California|       Pleasanton|   3027 Badger Drive|          6|      85525|Michael Wilson|michael.wilson@gm...|          64|\n",
       "|trx-962839519707|      85525|    3|     0.0|        PayPal|    6|             89.97|20220108|            72701|            Arkansas|     Fayetteville|906 West Berry St...|         17|      85525|Michael Wilson|michael.wilson@gm...|          64|\n",
       "|trx-555561699001|      85525|    9|     0.0|   Credit Card|    6|            179.91|20220113|            72703|            Arkansas|     Fayetteville|3729 East Mission...|         28|      85525|Michael Wilson|michael.wilson@gm...|          64|\n",
       "|trx-615813649970|      85525|    1|     0.2|   Credit Card|    6| 31.99200047671795|20220113|            20776|            Maryland|          Harwood|   4432 Cobalt Drive|         23|      85525|Michael Wilson|michael.wilson@gm...|          64|\n",
       "|trx-003799553460|      85525|    7|     0.2|        Stripe|    6| 167.9440025025606|20220114|            85308|             Arizona|         Glendale|6311 West Wagoner...|         17|      85525|Michael Wilson|michael.wilson@gm...|          64|\n",
       "|trx-991521760170|      85525|    5|     0.0|        Stripe|    6|            149.95|20220115|            32408|             Florida|Panama City Beach|      409 Snook Lane|         19|      85525|Michael Wilson|michael.wilson@gm...|          64|\n",
       "|trx-332682461625|      85525|    6|     0.0|        Stripe|    6|            179.94|20220120|            36104|             Alabama|       Montgomery|204 North Holt St...|         15|      85525|Michael Wilson|michael.wilson@gm...|          64|\n",
       "|trx-883478163591|      85525|    4|     0.0|        Stripe|    6|            519.96|20220121|            05001|             Vermont|         Hartford|      10 Skyline Way|          9|      85525|Michael Wilson|michael.wilson@gm...|          64|\n",
       "|trx-434628373591|      85525|    2|     0.2|        Stripe|    6|  63.9840009534359|20220122|            20005|District of Columbia|       Washington|1420 12th Street ...|         10|      85525|Michael Wilson|michael.wilson@gm...|          64|\n",
       "+----------------+-----------+-----+--------+--------------+-----+------------------+--------+-----------------+--------------------+-----------------+--------------------+-----------+-----------+--------------+--------------------+------------+\n",
       "only showing top 20 rows"
      ]
     },
     "execution_count": 90,
     "metadata": {},
     "output_type": "execute_result"
    }
   ],
   "source": [
    "# Perform an inner join on transaction_date and date\n",
    "online_fact_df = online_fact_df.join(customer_dim_df, online_fact_df[\"customer_id\"] == customer_dim_df[\"customer_id\"], \"inner\")\n",
    "online_fact_df.coalesce(1)"
   ]
  },
  {
   "cell_type": "code",
   "execution_count": 91,
   "id": "e2d2a892-71e4-427e-8b2f-f13892cd1112",
   "metadata": {
    "collapsed": true,
    "jupyter": {
     "outputs_hidden": true
    },
    "tags": []
   },
   "outputs": [
    {
     "data": {
      "text/html": [
       "<table border='1'>\n",
       "<tr><th>transaction_id</th><th>units</th><th>discount</th><th>payment_method</th><th>group</th><th>total_price</th><th>date_key</th><th>shipping_zip_code</th><th>shipping_state</th><th>shipping_city</th><th>shipping_street_name</th><th>product_key</th><th>customer_key</th></tr>\n",
       "<tr><td>trx-038966531476</td><td>9</td><td>0.0</td><td>PayPal</td><td>2</td><td>8099.91</td><td>20220101</td><td>05446</td><td>Vermont</td><td>Colchester</td><td>1783 Blakely Road</td><td>11</td><td>50</td></tr>\n",
       "<tr><td>trx-196650129641</td><td>1</td><td>0.0</td><td>Stripe</td><td>2</td><td>79.99</td><td>20220101</td><td>02149</td><td>Massachusetts</td><td>Everett</td><td>88 Shute Street</td><td>8</td><td>41</td></tr>\n",
       "<tr><td>trx-961186738199</td><td>8</td><td>0.2</td><td>PayPal</td><td>3</td><td>831.9360123968125</td><td>20220101</td><td>05478</td><td>Vermont</td><td>Saint Albans City</td><td>45 Parsons Avenue</td><td>9</td><td>79</td></tr>\n",
       "<tr><td>trx-961186738199</td><td>8</td><td>0.2</td><td>PayPal</td><td>1</td><td>831.9360123968125</td><td>20220101</td><td>05478</td><td>Vermont</td><td>Saint Albans City</td><td>45 Parsons Avenue</td><td>9</td><td>79</td></tr>\n",
       "<tr><td>trx-807433736285</td><td>9</td><td>0.2</td><td>Stripe</td><td>4</td><td>359.92800536334516</td><td>20220101</td><td>05079</td><td>Vermont</td><td>Vershire</td><td>6460 Vermont 113</td><td>24</td><td>44</td></tr>\n",
       "<tr><td>trx-378573229506</td><td>1</td><td>0.05</td><td>Credit Card</td><td>6</td><td>56.990499284863475</td><td>20220101</td><td>94545</td><td>California</td><td>Hayward</td><td>1265 Xavier Avenue</td><td>7</td><td>91</td></tr>\n",
       "<tr><td>trx-812311767786</td><td>8</td><td>0.2</td><td>Stripe</td><td>6</td><td>5759.936085829735</td><td>20220101</td><td>05301</td><td>Vermont</td><td>West Brattleboro</td><td>129 Glen Street</td><td>11</td><td>64</td></tr>\n",
       "<tr><td>trx-714156427993</td><td>4</td><td>0.0</td><td>PayPal</td><td>6</td><td>79.96</td><td>20220101</td><td>06040</td><td>Connecticut</td><td>Manchester</td><td>52 Linnmore Drive</td><td>5</td><td>58</td></tr>\n",
       "<tr><td>trx-926752978689</td><td>10</td><td>0.0</td><td>PayPal</td><td>6</td><td>299.9</td><td>20220101</td><td>05461</td><td>Vermont</td><td>Hinesburg</td><td>1313 North Road</td><td>15</td><td>92</td></tr>\n",
       "<tr><td>trx-377988149376</td><td>6</td><td>0.0</td><td>Stripe</td><td>6</td><td>149.94</td><td>20220101</td><td>35242</td><td>Alabama</td><td>Birmingham</td><td>3328 Sunny Meadow...</td><td>30</td><td>87</td></tr>\n",
       "<tr><td>trx-578810017511</td><td>2</td><td>0.05</td><td>PayPal</td><td>6</td><td>56.98099928498268</td><td>20220101</td><td>94601</td><td>California</td><td>Oakland</td><td>3578 Galindo Street</td><td>27</td><td>49</td></tr>\n",
       "<tr><td>trx-935354519699</td><td>9</td><td>0.2</td><td>Stripe</td><td>6</td><td>287.92800429046156</td><td>20220101</td><td>06040</td><td>Connecticut</td><td>Manchester</td><td>396 Hartford Road</td><td>10</td><td>7</td></tr>\n",
       "<tr><td>trx-062565092206</td><td>2</td><td>0.2</td><td>Stripe</td><td>6</td><td>1599.9840238416195</td><td>20220101</td><td>31405</td><td>Georgia</td><td>Savannah</td><td>1363 Dean Forest ...</td><td>1</td><td>73</td></tr>\n",
       "<tr><td>trx-291831425853</td><td>3</td><td>0.2</td><td>Stripe</td><td>6</td><td>359.9760053640604</td><td>20220101</td><td>31410</td><td>Georgia</td><td>Savannah</td><td>206 Blue Marlin D...</td><td>13</td><td>59</td></tr>\n",
       "<tr><td>trx-490934091046</td><td>5</td><td>0.0</td><td>PayPal</td><td>6</td><td>1999.95</td><td>20220101</td><td>37210</td><td>Tennessee</td><td>Nashville</td><td>95 Claiborne Street</td><td>14</td><td>27</td></tr>\n",
       "<tr><td>trx-477242925566</td><td>7</td><td>0.0</td><td>PayPal</td><td>6</td><td>419.93</td><td>20220101</td><td>06042</td><td>Connecticut</td><td>Manchester</td><td>23 Columbia Drive</td><td>7</td><td>44</td></tr>\n",
       "<tr><td>trx-657276071144</td><td>10</td><td>0.0</td><td>PayPal</td><td>6</td><td>199.89999999999998</td><td>20220101</td><td>02151</td><td>Massachusetts</td><td>Revere</td><td>98 Lincoln Street</td><td>28</td><td>19</td></tr>\n",
       "<tr><td>trx-521851194970</td><td>6</td><td>0.0</td><td>Credit Card</td><td>6</td><td>1799.94</td><td>20220101</td><td>94702</td><td>California</td><td>Berkeley</td><td>1209 Parker Street</td><td>3</td><td>9</td></tr>\n",
       "<tr><td>trx-835639572082</td><td>7</td><td>0.2</td><td>Credit Card</td><td>6</td><td>279.9440041714907</td><td>20220101</td><td>73162</td><td>Oklahoma</td><td>Oklahoma City</td><td>11724 Rushmore</td><td>6</td><td>60</td></tr>\n",
       "<tr><td>trx-832513610642</td><td>3</td><td>0.0</td><td>Stripe</td><td>6</td><td>2699.9700000000003</td><td>20220101</td><td>85301</td><td>Arizona</td><td>Glendale</td><td>6802 North 67th A...</td><td>11</td><td>71</td></tr>\n",
       "</table>\n",
       "only showing top 20 rows\n"
      ],
      "text/plain": [
       "+----------------+-----+--------+--------------+-----+------------------+--------+-----------------+--------------+-----------------+--------------------+-----------+------------+\n",
       "|  transaction_id|units|discount|payment_method|group|       total_price|date_key|shipping_zip_code|shipping_state|    shipping_city|shipping_street_name|product_key|customer_key|\n",
       "+----------------+-----+--------+--------------+-----+------------------+--------+-----------------+--------------+-----------------+--------------------+-----------+------------+\n",
       "|trx-038966531476|    9|     0.0|        PayPal|    2|           8099.91|20220101|            05446|       Vermont|       Colchester|   1783 Blakely Road|         11|          50|\n",
       "|trx-196650129641|    1|     0.0|        Stripe|    2|             79.99|20220101|            02149| Massachusetts|          Everett|     88 Shute Street|          8|          41|\n",
       "|trx-961186738199|    8|     0.2|        PayPal|    3| 831.9360123968125|20220101|            05478|       Vermont|Saint Albans City|   45 Parsons Avenue|          9|          79|\n",
       "|trx-961186738199|    8|     0.2|        PayPal|    1| 831.9360123968125|20220101|            05478|       Vermont|Saint Albans City|   45 Parsons Avenue|          9|          79|\n",
       "|trx-807433736285|    9|     0.2|        Stripe|    4|359.92800536334516|20220101|            05079|       Vermont|         Vershire|    6460 Vermont 113|         24|          44|\n",
       "|trx-378573229506|    1|    0.05|   Credit Card|    6|56.990499284863475|20220101|            94545|    California|          Hayward|  1265 Xavier Avenue|          7|          91|\n",
       "|trx-812311767786|    8|     0.2|        Stripe|    6| 5759.936085829735|20220101|            05301|       Vermont| West Brattleboro|     129 Glen Street|         11|          64|\n",
       "|trx-714156427993|    4|     0.0|        PayPal|    6|             79.96|20220101|            06040|   Connecticut|       Manchester|   52 Linnmore Drive|          5|          58|\n",
       "|trx-926752978689|   10|     0.0|        PayPal|    6|             299.9|20220101|            05461|       Vermont|        Hinesburg|     1313 North Road|         15|          92|\n",
       "|trx-377988149376|    6|     0.0|        Stripe|    6|            149.94|20220101|            35242|       Alabama|       Birmingham|3328 Sunny Meadow...|         30|          87|\n",
       "|trx-578810017511|    2|    0.05|        PayPal|    6| 56.98099928498268|20220101|            94601|    California|          Oakland| 3578 Galindo Street|         27|          49|\n",
       "|trx-935354519699|    9|     0.2|        Stripe|    6|287.92800429046156|20220101|            06040|   Connecticut|       Manchester|   396 Hartford Road|         10|           7|\n",
       "|trx-062565092206|    2|     0.2|        Stripe|    6|1599.9840238416195|20220101|            31405|       Georgia|         Savannah|1363 Dean Forest ...|          1|          73|\n",
       "|trx-291831425853|    3|     0.2|        Stripe|    6| 359.9760053640604|20220101|            31410|       Georgia|         Savannah|206 Blue Marlin D...|         13|          59|\n",
       "|trx-490934091046|    5|     0.0|        PayPal|    6|           1999.95|20220101|            37210|     Tennessee|        Nashville| 95 Claiborne Street|         14|          27|\n",
       "|trx-477242925566|    7|     0.0|        PayPal|    6|            419.93|20220101|            06042|   Connecticut|       Manchester|   23 Columbia Drive|          7|          44|\n",
       "|trx-657276071144|   10|     0.0|        PayPal|    6|199.89999999999998|20220101|            02151| Massachusetts|           Revere|   98 Lincoln Street|         28|          19|\n",
       "|trx-521851194970|    6|     0.0|   Credit Card|    6|           1799.94|20220101|            94702|    California|         Berkeley|  1209 Parker Street|          3|           9|\n",
       "|trx-835639572082|    7|     0.2|   Credit Card|    6| 279.9440041714907|20220101|            73162|      Oklahoma|    Oklahoma City|      11724 Rushmore|          6|          60|\n",
       "|trx-832513610642|    3|     0.0|        Stripe|    6|2699.9700000000003|20220101|            85301|       Arizona|         Glendale|6802 North 67th A...|         11|          71|\n",
       "+----------------+-----+--------+--------------+-----+------------------+--------+-----------------+--------------+-----------------+--------------------+-----------+------------+\n",
       "only showing top 20 rows"
      ]
     },
     "execution_count": 91,
     "metadata": {},
     "output_type": "execute_result"
    }
   ],
   "source": [
    "online_fact_df=online_fact_df.drop(\"customer_id\",\"cleaned_email\",\"customer_name\")\n",
    "online_fact_df.coalesce(1)"
   ]
  },
  {
   "cell_type": "code",
   "execution_count": 92,
   "id": "26965fca-48cd-4b91-9e65-d8dcac711954",
   "metadata": {
    "collapsed": true,
    "jupyter": {
     "outputs_hidden": true
    },
    "tags": []
   },
   "outputs": [
    {
     "data": {
      "text/html": [
       "<table border='1'>\n",
       "<tr><th>transaction_id</th><th>customer_id</th><th>sales_agent_id</th><th>branch_id</th><th>units</th><th>discount</th><th>payment_method</th><th>total_price</th><th>date_key</th><th>product_key</th><th>customer_id</th><th>customer_name</th><th>cleaned_email</th><th>customer_key</th></tr>\n",
       "<tr><td>trx-170004611332</td><td>85525</td><td>7.0</td><td>5.0</td><td>10</td><td>0.05</td><td>Cash</td><td>237.40499702095983</td><td>20220527</td><td>30</td><td>85525</td><td>Michael Wilson</td><td>michael.wilson@gm...</td><td>64</td></tr>\n",
       "<tr><td>trx-844036209605</td><td>85525</td><td>10.0</td><td>4.0</td><td>7</td><td>0.0</td><td>Credit Card</td><td>1049.93</td><td>20220527</td><td>18</td><td>85525</td><td>Michael Wilson</td><td>michael.wilson@gm...</td><td>64</td></tr>\n",
       "<tr><td>trx-109416203740</td><td>85525</td><td>11.0</td><td>6.0</td><td>1</td><td>0.0</td><td>Credit Card</td><td>39.99</td><td>20220527</td><td>23</td><td>85525</td><td>Michael Wilson</td><td>michael.wilson@gm...</td><td>64</td></tr>\n",
       "<tr><td>trx-106504733120</td><td>85525</td><td>10.0</td><td>6.0</td><td>7</td><td>0.0</td><td>Credit Card</td><td>4899.93</td><td>20220527</td><td>2</td><td>85525</td><td>Michael Wilson</td><td>michael.wilson@gm...</td><td>64</td></tr>\n",
       "<tr><td>trx-745057689089</td><td>85525</td><td>9.0</td><td>6.0</td><td>5</td><td>0.2</td><td>Credit Card</td><td>1199.9600178807975</td><td>20220527</td><td>12</td><td>85525</td><td>Michael Wilson</td><td>michael.wilson@gm...</td><td>64</td></tr>\n",
       "<tr><td>trx-714247080040</td><td>85525</td><td>7.0</td><td>4.0</td><td>8</td><td>0.0</td><td>Cash</td><td>639.92</td><td>20220718</td><td>8</td><td>85525</td><td>Michael Wilson</td><td>michael.wilson@gm...</td><td>64</td></tr>\n",
       "<tr><td>trx-115302227341</td><td>85525</td><td>9.0</td><td>6.0</td><td>8</td><td>0.0</td><td>Cash</td><td>7999.92</td><td>20220718</td><td>1</td><td>85525</td><td>Michael Wilson</td><td>michael.wilson@gm...</td><td>64</td></tr>\n",
       "<tr><td>trx-991057034635</td><td>85525</td><td>5.0</td><td>4.0</td><td>7</td><td>0.1</td><td>Cash</td><td>503.93698665022845</td><td>20220718</td><td>8</td><td>85525</td><td>Michael Wilson</td><td>michael.wilson@gm...</td><td>64</td></tr>\n",
       "<tr><td>trx-815328334349</td><td>85525</td><td>10.0</td><td>5.0</td><td>7</td><td>0.0</td><td>Credit Card</td><td>1049.93</td><td>20220718</td><td>18</td><td>85525</td><td>Michael Wilson</td><td>michael.wilson@gm...</td><td>64</td></tr>\n",
       "<tr><td>trx-197754917684</td><td>85525</td><td>1.0</td><td>3.0</td><td>9</td><td>0.0</td><td>Credit Card</td><td>359.91</td><td>20220718</td><td>10</td><td>85525</td><td>Michael Wilson</td><td>michael.wilson@gm...</td><td>64</td></tr>\n",
       "<tr><td>trx-674368365754</td><td>85525</td><td>8.0</td><td>2.0</td><td>4</td><td>0.1</td><td>Cash</td><td>143.96399618625642</td><td>20220718</td><td>23</td><td>85525</td><td>Michael Wilson</td><td>michael.wilson@gm...</td><td>64</td></tr>\n",
       "<tr><td>trx-262951162363</td><td>85525</td><td>1.0</td><td>5.0</td><td>5</td><td>0.05</td><td>Cash</td><td>189.95249761641028</td><td>20220718</td><td>16</td><td>85525</td><td>Michael Wilson</td><td>michael.wilson@gm...</td><td>64</td></tr>\n",
       "<tr><td>trx-144554026491</td><td>85525</td><td>2.0</td><td>5.0</td><td>6</td><td>0.0</td><td>Credit Card</td><td>239.94</td><td>20220718</td><td>10</td><td>85525</td><td>Michael Wilson</td><td>michael.wilson@gm...</td><td>64</td></tr>\n",
       "<tr><td>trx-861589695084</td><td>85525</td><td>8.0</td><td>1.0</td><td>8</td><td>0.2</td><td>Credit Card</td><td>3199.9360476827624</td><td>20220718</td><td>25</td><td>85525</td><td>Michael Wilson</td><td>michael.wilson@gm...</td><td>64</td></tr>\n",
       "<tr><td>trx-103779930336</td><td>85525</td><td>4.0</td><td>3.0</td><td>10</td><td>0.0</td><td>Cash</td><td>599.9</td><td>20220718</td><td>7</td><td>85525</td><td>Michael Wilson</td><td>michael.wilson@gm...</td><td>64</td></tr>\n",
       "<tr><td>trx-788500456202</td><td>85525</td><td>1.0</td><td>3.0</td><td>7</td><td>0.0</td><td>Credit Card</td><td>209.92999999999998</td><td>20220718</td><td>27</td><td>85525</td><td>Michael Wilson</td><td>michael.wilson@gm...</td><td>64</td></tr>\n",
       "<tr><td>trx-095910527208</td><td>85525</td><td>2.0</td><td>1.0</td><td>3</td><td>0.0</td><td>Cash</td><td>449.97</td><td>20220227</td><td>18</td><td>85525</td><td>Michael Wilson</td><td>michael.wilson@gm...</td><td>64</td></tr>\n",
       "<tr><td>trx-192339575091</td><td>85525</td><td>7.0</td><td>3.0</td><td>7</td><td>0.05</td><td>Cash</td><td>1329.933483311534</td><td>20220227</td><td>26</td><td>85525</td><td>Michael Wilson</td><td>michael.wilson@gm...</td><td>64</td></tr>\n",
       "<tr><td>trx-742353744831</td><td>85525</td><td>1.0</td><td>2.0</td><td>2</td><td>0.2</td><td>Credit Card</td><td>31.984000476598737</td><td>20220227</td><td>5</td><td>85525</td><td>Michael Wilson</td><td>michael.wilson@gm...</td><td>64</td></tr>\n",
       "<tr><td>trx-267841908581</td><td>85525</td><td>5.0</td><td>2.0</td><td>10</td><td>0.2</td><td>Cash</td><td>319.92000476717953</td><td>20220227</td><td>16</td><td>85525</td><td>Michael Wilson</td><td>michael.wilson@gm...</td><td>64</td></tr>\n",
       "</table>\n",
       "only showing top 20 rows\n"
      ],
      "text/plain": [
       "+----------------+-----------+--------------+---------+-----+--------+--------------+------------------+--------+-----------+-----------+-------------+-------------------+------------+\n",
       "|  transaction_id|customer_id|sales_agent_id|branch_id|units|discount|payment_method|       total_price|date_key|product_key|customer_id|customer_name|      cleaned_email|customer_key|\n",
       "+----------------+-----------+--------------+---------+-----+--------+--------------+------------------+--------+-----------+-----------+-------------+-------------------+------------+\n",
       "|trx-209702051200|      85525|          11.0|      1.0|    5|     0.0|          Cash|           1499.95|20221005|         12|      85525|    Ava Jones|ava.jones@yahoo.com|          64|\n",
       "|trx-267818677599|      85525|           3.0|      2.0|    5|     0.0|   Credit Card|            399.95|20221005|         22|      85525|    Ava Jones|ava.jones@yahoo.com|          64|\n",
       "|trx-956064519174|      85525|          11.0|      3.0|    5|     0.0|          Cash|199.95000000000002|20221005|         29|      85525|    Ava Jones|ava.jones@yahoo.com|          64|\n",
       "|trx-480863914129|      85525|          11.0|      1.0|    2|     0.0|   Credit Card|             79.98|20221005|         29|      85525|    Ava Jones|ava.jones@yahoo.com|          64|\n",
       "|trx-288544269912|      85525|           2.0|      2.0|    4|     0.2|   Credit Card|2879.9680429148675|20221005|         11|      85525|    Ava Jones|ava.jones@yahoo.com|          64|\n",
       "|trx-453952256916|      85525|           5.0|      6.0|    2|     0.0|          Cash|             79.98|20221005|         10|      85525|    Ava Jones|ava.jones@yahoo.com|          64|\n",
       "|trx-320018303559|      85525|           7.0|      4.0|   10|     0.2|          Cash|319.92000476717953|20221005|         10|      85525|    Ava Jones|ava.jones@yahoo.com|          64|\n",
       "|trx-024932783521|      85525|           1.0|      3.0|    6|     0.0|          Cash|           2999.94|20221005|         25|      85525|    Ava Jones|ava.jones@yahoo.com|          64|\n",
       "|trx-766570299689|      85525|           5.0|      3.0|    6|    0.05|          Cash| 227.9429971396923|20230121|         16|      85525|    Ava Jones|ava.jones@yahoo.com|          64|\n",
       "|trx-023095954247|      85525|           3.0|      6.0|    4|     0.0|          Cash|             79.96|20230121|         28|      85525|    Ava Jones|ava.jones@yahoo.com|          64|\n",
       "|trx-441661829005|      85525|           9.0|      2.0|    3|     0.0|          Cash|2699.9700000000003|20230121|         11|      85525|    Ava Jones|ava.jones@yahoo.com|          64|\n",
       "|trx-486427858903|      85525|          10.0|      1.0|    9|     0.1|          Cash| 4049.918892713785|20230121|         25|      85525|    Ava Jones|ava.jones@yahoo.com|          64|\n",
       "|trx-112384316514|      85525|           2.0|      2.0|    6|     0.1|   Credit Card|215.94599427938462|20230121|         10|      85525|    Ava Jones|ava.jones@yahoo.com|          64|\n",
       "|trx-274247034282|      85525|           2.0|      6.0|    5|     0.2|          Cash|239.96000357568263|20230501|         20|      85525|    Ava Jones|ava.jones@yahoo.com|          64|\n",
       "|trx-248537789703|      85525|           8.0|      4.0|    4|    0.05|   Credit Card| 3419.961957085133|20230501|         11|      85525|    Ava Jones|ava.jones@yahoo.com|          64|\n",
       "|trx-026524495372|      85525|          11.0|      1.0|    2|     0.0|          Cash|             59.98|20230501|         17|      85525|    Ava Jones|ava.jones@yahoo.com|          64|\n",
       "|trx-769359584658|      85525|          11.0|      2.0|    4|     0.1|   Credit Card|143.96399618625642|20230501|         29|      85525|    Ava Jones|ava.jones@yahoo.com|          64|\n",
       "|trx-363214703408|      85525|           6.0|      2.0|    3|     0.1|          Cash|107.97299713969231|20230501|         29|      85525|    Ava Jones|ava.jones@yahoo.com|          64|\n",
       "|trx-935715853571|      85525|          10.0|      5.0|    3|     0.1|   Credit Card|1079.9729713904858|20230501|         14|      85525|    Ava Jones|ava.jones@yahoo.com|          64|\n",
       "|trx-315529317928|      85525|           2.0|      4.0|    3|     0.0|   Credit Card|            149.97|20230501|         24|      85525|    Ava Jones|ava.jones@yahoo.com|          64|\n",
       "+----------------+-----------+--------------+---------+-----+--------+--------------+------------------+--------+-----------+-----------+-------------+-------------------+------------+\n",
       "only showing top 20 rows"
      ]
     },
     "execution_count": 92,
     "metadata": {},
     "output_type": "execute_result"
    }
   ],
   "source": [
    "# Perform an inner join on transaction_date and date\n",
    "offline_fact_df = offline_fact_df.join(customer_dim_df, offline_fact_df[\"customer_id\"] == customer_dim_df[\"customer_id\"], \"inner\")\n",
    "offline_fact_df.coalesce(1)"
   ]
  },
  {
   "cell_type": "code",
   "execution_count": 93,
   "id": "702fc4c6-453c-4e4e-b220-c2bdf909180f",
   "metadata": {
    "collapsed": true,
    "jupyter": {
     "outputs_hidden": true
    },
    "tags": []
   },
   "outputs": [
    {
     "data": {
      "text/html": [
       "<table border='1'>\n",
       "<tr><th>transaction_id</th><th>sales_agent_id</th><th>branch_id</th><th>units</th><th>discount</th><th>payment_method</th><th>total_price</th><th>date_key</th><th>product_key</th><th>customer_name</th><th>cleaned_email</th><th>customer_key</th></tr>\n",
       "<tr><td>trx-823890000599</td><td>8.0</td><td>6.0</td><td>2</td><td>0.0</td><td>Credit Card</td><td>1999.98</td><td>20220312</td><td>1</td><td>Michael Wilson</td><td>michael.wilson@gm...</td><td>64</td></tr>\n",
       "<tr><td>trx-398777947283</td><td>9.0</td><td>4.0</td><td>6</td><td>0.0</td><td>Credit Card</td><td>179.94</td><td>20220312</td><td>27</td><td>Michael Wilson</td><td>michael.wilson@gm...</td><td>64</td></tr>\n",
       "<tr><td>trx-989278595733</td><td>9.0</td><td>6.0</td><td>6</td><td>0.0</td><td>Cash</td><td>779.94</td><td>20220312</td><td>21</td><td>Michael Wilson</td><td>michael.wilson@gm...</td><td>64</td></tr>\n",
       "<tr><td>trx-273180803756</td><td>3.0</td><td>1.0</td><td>1</td><td>0.2</td><td>Credit Card</td><td>63.992000953555106</td><td>20220312</td><td>22</td><td>Michael Wilson</td><td>michael.wilson@gm...</td><td>64</td></tr>\n",
       "<tr><td>trx-717300843037</td><td>5.0</td><td>2.0</td><td>1</td><td>0.2</td><td>Credit Card</td><td>799.9920119208098</td><td>20220312</td><td>1</td><td>Michael Wilson</td><td>michael.wilson@gm...</td><td>64</td></tr>\n",
       "<tr><td>trx-864607890708</td><td>8.0</td><td>2.0</td><td>10</td><td>0.2</td><td>Credit Card</td><td>7199.920107287168</td><td>20220325</td><td>11</td><td>Michael Wilson</td><td>michael.wilson@gm...</td><td>64</td></tr>\n",
       "<tr><td>trx-834287510675</td><td>2.0</td><td>5.0</td><td>6</td><td>0.0</td><td>Credit Card</td><td>359.94</td><td>20220325</td><td>7</td><td>Michael Wilson</td><td>michael.wilson@gm...</td><td>64</td></tr>\n",
       "<tr><td>trx-395878299405</td><td>4.0</td><td>3.0</td><td>6</td><td>0.0</td><td>Cash</td><td>779.94</td><td>20220325</td><td>9</td><td>Michael Wilson</td><td>michael.wilson@gm...</td><td>64</td></tr>\n",
       "<tr><td>trx-505177293904</td><td>11.0</td><td>3.0</td><td>8</td><td>0.0</td><td>Credit Card</td><td>2399.92</td><td>20220325</td><td>3</td><td>Michael Wilson</td><td>michael.wilson@gm...</td><td>64</td></tr>\n",
       "<tr><td>trx-249842381834</td><td>7.0</td><td>5.0</td><td>10</td><td>0.0</td><td>Credit Card</td><td>499.90000000000003</td><td>20220325</td><td>6</td><td>Michael Wilson</td><td>michael.wilson@gm...</td><td>64</td></tr>\n",
       "<tr><td>trx-678706914651</td><td>10.0</td><td>3.0</td><td>4</td><td>0.2</td><td>Cash</td><td>2879.9680429148675</td><td>20220325</td><td>11</td><td>Michael Wilson</td><td>michael.wilson@gm...</td><td>64</td></tr>\n",
       "<tr><td>trx-359942850987</td><td>5.0</td><td>1.0</td><td>1</td><td>0.2</td><td>Cash</td><td>23.99200035750866</td><td>20230508</td><td>19</td><td>Michael Wilson</td><td>michael.wilson@gm...</td><td>64</td></tr>\n",
       "<tr><td>trx-635145663096</td><td>7.0</td><td>3.0</td><td>10</td><td>0.05</td><td>Credit Card</td><td>759.9049904644489</td><td>20230508</td><td>8</td><td>Michael Wilson</td><td>michael.wilson@gm...</td><td>64</td></tr>\n",
       "<tr><td>trx-212435278212</td><td>5.0</td><td>3.0</td><td>10</td><td>0.15</td><td>Credit Card</td><td>212.4150059580803</td><td>20230508</td><td>30</td><td>Michael Wilson</td><td>michael.wilson@gm...</td><td>64</td></tr>\n",
       "<tr><td>trx-888829544567</td><td>2.0</td><td>6.0</td><td>9</td><td>0.05</td><td>Cash</td><td>256.414496782422</td><td>20230508</td><td>27</td><td>Michael Wilson</td><td>michael.wilson@gm...</td><td>64</td></tr>\n",
       "<tr><td>trx-583025341649</td><td>8.0</td><td>6.0</td><td>1</td><td>0.1</td><td>Credit Card</td><td>269.99099284768107</td><td>20230508</td><td>3</td><td>Michael Wilson</td><td>michael.wilson@gm...</td><td>64</td></tr>\n",
       "<tr><td>trx-002844520655</td><td>4.0</td><td>3.0</td><td>6</td><td>0.0</td><td>Credit Card</td><td>5399.9400000000005</td><td>20230508</td><td>11</td><td>Michael Wilson</td><td>michael.wilson@gm...</td><td>64</td></tr>\n",
       "<tr><td>trx-388816997684</td><td>2.0</td><td>4.0</td><td>10</td><td>0.15</td><td>Credit Card</td><td>1104.9150309920312</td><td>20230508</td><td>21</td><td>Michael Wilson</td><td>michael.wilson@gm...</td><td>64</td></tr>\n",
       "<tr><td>trx-196367301588</td><td>11.0</td><td>5.0</td><td>8</td><td>0.1</td><td>Credit Card</td><td>1079.9279713916778</td><td>20230508</td><td>18</td><td>Michael Wilson</td><td>michael.wilson@gm...</td><td>64</td></tr>\n",
       "<tr><td>trx-114489736960</td><td>9.0</td><td>1.0</td><td>9</td><td>0.15</td><td>Credit Card</td><td>229.42350643515584</td><td>20230608</td><td>17</td><td>Michael Wilson</td><td>michael.wilson@gm...</td><td>64</td></tr>\n",
       "</table>\n",
       "only showing top 20 rows\n"
      ],
      "text/plain": [
       "+----------------+--------------+---------+-----+--------+--------------+------------------+--------+-----------+--------------+--------------------+------------+\n",
       "|  transaction_id|sales_agent_id|branch_id|units|discount|payment_method|       total_price|date_key|product_key| customer_name|       cleaned_email|customer_key|\n",
       "+----------------+--------------+---------+-----+--------+--------------+------------------+--------+-----------+--------------+--------------------+------------+\n",
       "|trx-209702051200|          11.0|      1.0|    5|     0.0|          Cash|           1499.95|20221005|         12|Michael Wilson|michael.wilson@gm...|          64|\n",
       "|trx-267818677599|           3.0|      2.0|    5|     0.0|   Credit Card|            399.95|20221005|         22|Michael Wilson|michael.wilson@gm...|          64|\n",
       "|trx-956064519174|          11.0|      3.0|    5|     0.0|          Cash|199.95000000000002|20221005|         29|Michael Wilson|michael.wilson@gm...|          64|\n",
       "|trx-480863914129|          11.0|      1.0|    2|     0.0|   Credit Card|             79.98|20221005|         29|Michael Wilson|michael.wilson@gm...|          64|\n",
       "|trx-288544269912|           2.0|      2.0|    4|     0.2|   Credit Card|2879.9680429148675|20221005|         11|Michael Wilson|michael.wilson@gm...|          64|\n",
       "|trx-453952256916|           5.0|      6.0|    2|     0.0|          Cash|             79.98|20221005|         10|Michael Wilson|michael.wilson@gm...|          64|\n",
       "|trx-320018303559|           7.0|      4.0|   10|     0.2|          Cash|319.92000476717953|20221005|         10|Michael Wilson|michael.wilson@gm...|          64|\n",
       "|trx-024932783521|           1.0|      3.0|    6|     0.0|          Cash|           2999.94|20221005|         25|Michael Wilson|michael.wilson@gm...|          64|\n",
       "|trx-766570299689|           5.0|      3.0|    6|    0.05|          Cash| 227.9429971396923|20230121|         16|Michael Wilson|michael.wilson@gm...|          64|\n",
       "|trx-023095954247|           3.0|      6.0|    4|     0.0|          Cash|             79.96|20230121|         28|Michael Wilson|michael.wilson@gm...|          64|\n",
       "|trx-441661829005|           9.0|      2.0|    3|     0.0|          Cash|2699.9700000000003|20230121|         11|Michael Wilson|michael.wilson@gm...|          64|\n",
       "|trx-486427858903|          10.0|      1.0|    9|     0.1|          Cash| 4049.918892713785|20230121|         25|Michael Wilson|michael.wilson@gm...|          64|\n",
       "|trx-112384316514|           2.0|      2.0|    6|     0.1|   Credit Card|215.94599427938462|20230121|         10|Michael Wilson|michael.wilson@gm...|          64|\n",
       "|trx-274247034282|           2.0|      6.0|    5|     0.2|          Cash|239.96000357568263|20230501|         20|Michael Wilson|michael.wilson@gm...|          64|\n",
       "|trx-248537789703|           8.0|      4.0|    4|    0.05|   Credit Card| 3419.961957085133|20230501|         11|Michael Wilson|michael.wilson@gm...|          64|\n",
       "|trx-026524495372|          11.0|      1.0|    2|     0.0|          Cash|             59.98|20230501|         17|Michael Wilson|michael.wilson@gm...|          64|\n",
       "|trx-769359584658|          11.0|      2.0|    4|     0.1|   Credit Card|143.96399618625642|20230501|         29|Michael Wilson|michael.wilson@gm...|          64|\n",
       "|trx-363214703408|           6.0|      2.0|    3|     0.1|          Cash|107.97299713969231|20230501|         29|Michael Wilson|michael.wilson@gm...|          64|\n",
       "|trx-935715853571|          10.0|      5.0|    3|     0.1|   Credit Card|1079.9729713904858|20230501|         14|Michael Wilson|michael.wilson@gm...|          64|\n",
       "|trx-315529317928|           2.0|      4.0|    3|     0.0|   Credit Card|            149.97|20230501|         24|Michael Wilson|michael.wilson@gm...|          64|\n",
       "+----------------+--------------+---------+-----+--------+--------------+------------------+--------+-----------+--------------+--------------------+------------+\n",
       "only showing top 20 rows"
      ]
     },
     "execution_count": 93,
     "metadata": {},
     "output_type": "execute_result"
    }
   ],
   "source": [
    "offline_fact_df=offline_fact_df.drop( \"customer_id\")\n",
    "offline_fact_df.coalesce(1)"
   ]
  },
  {
   "cell_type": "code",
   "execution_count": 63,
   "id": "b835e587-2182-4af6-a881-0d878a3246a3",
   "metadata": {
    "collapsed": true,
    "jupyter": {
     "outputs_hidden": true
    },
    "tags": []
   },
   "outputs": [
    {
     "ename": "KeyboardInterrupt",
     "evalue": "",
     "output_type": "error",
     "traceback": [
      "\u001b[0;31m---------------------------------------------------------------------------\u001b[0m",
      "\u001b[0;31mKeyboardInterrupt\u001b[0m                         Traceback (most recent call last)",
      "\u001b[0;32m<ipython-input-63-6813d2e6c679>\u001b[0m in \u001b[0;36m<module>\u001b[0;34m\u001b[0m\n\u001b[0;32m----> 1\u001b[0;31m \u001b[0moffline_df\u001b[0m\u001b[0;34m.\u001b[0m\u001b[0mcache\u001b[0m\u001b[0;34m(\u001b[0m\u001b[0;34m)\u001b[0m\u001b[0;34m\u001b[0m\u001b[0;34m\u001b[0m\u001b[0m\n\u001b[0m",
      "\u001b[0;32m~/.local/lib/python3.6/site-packages/IPython/core/displayhook.py\u001b[0m in \u001b[0;36m__call__\u001b[0;34m(self, result)\u001b[0m\n\u001b[1;32m    260\u001b[0m             \u001b[0mself\u001b[0m\u001b[0;34m.\u001b[0m\u001b[0mstart_displayhook\u001b[0m\u001b[0;34m(\u001b[0m\u001b[0;34m)\u001b[0m\u001b[0;34m\u001b[0m\u001b[0;34m\u001b[0m\u001b[0m\n\u001b[1;32m    261\u001b[0m             \u001b[0mself\u001b[0m\u001b[0;34m.\u001b[0m\u001b[0mwrite_output_prompt\u001b[0m\u001b[0;34m(\u001b[0m\u001b[0;34m)\u001b[0m\u001b[0;34m\u001b[0m\u001b[0;34m\u001b[0m\u001b[0m\n\u001b[0;32m--> 262\u001b[0;31m             \u001b[0mformat_dict\u001b[0m\u001b[0;34m,\u001b[0m \u001b[0mmd_dict\u001b[0m \u001b[0;34m=\u001b[0m \u001b[0mself\u001b[0m\u001b[0;34m.\u001b[0m\u001b[0mcompute_format_data\u001b[0m\u001b[0;34m(\u001b[0m\u001b[0mresult\u001b[0m\u001b[0;34m)\u001b[0m\u001b[0;34m\u001b[0m\u001b[0;34m\u001b[0m\u001b[0m\n\u001b[0m\u001b[1;32m    263\u001b[0m             \u001b[0mself\u001b[0m\u001b[0;34m.\u001b[0m\u001b[0mupdate_user_ns\u001b[0m\u001b[0;34m(\u001b[0m\u001b[0mresult\u001b[0m\u001b[0;34m)\u001b[0m\u001b[0;34m\u001b[0m\u001b[0;34m\u001b[0m\u001b[0m\n\u001b[1;32m    264\u001b[0m             \u001b[0mself\u001b[0m\u001b[0;34m.\u001b[0m\u001b[0mfill_exec_result\u001b[0m\u001b[0;34m(\u001b[0m\u001b[0mresult\u001b[0m\u001b[0;34m)\u001b[0m\u001b[0;34m\u001b[0m\u001b[0;34m\u001b[0m\u001b[0m\n",
      "\u001b[0;32m~/.local/lib/python3.6/site-packages/IPython/core/displayhook.py\u001b[0m in \u001b[0;36mcompute_format_data\u001b[0;34m(self, result)\u001b[0m\n\u001b[1;32m    149\u001b[0m \u001b[0;34m\u001b[0m\u001b[0m\n\u001b[1;32m    150\u001b[0m         \"\"\"\n\u001b[0;32m--> 151\u001b[0;31m         \u001b[0;32mreturn\u001b[0m \u001b[0mself\u001b[0m\u001b[0;34m.\u001b[0m\u001b[0mshell\u001b[0m\u001b[0;34m.\u001b[0m\u001b[0mdisplay_formatter\u001b[0m\u001b[0;34m.\u001b[0m\u001b[0mformat\u001b[0m\u001b[0;34m(\u001b[0m\u001b[0mresult\u001b[0m\u001b[0;34m)\u001b[0m\u001b[0;34m\u001b[0m\u001b[0;34m\u001b[0m\u001b[0m\n\u001b[0m\u001b[1;32m    152\u001b[0m \u001b[0;34m\u001b[0m\u001b[0m\n\u001b[1;32m    153\u001b[0m     \u001b[0;31m# This can be set to True by the write_output_prompt method in a subclass\u001b[0m\u001b[0;34m\u001b[0m\u001b[0;34m\u001b[0m\u001b[0;34m\u001b[0m\u001b[0m\n",
      "\u001b[0;32m~/.local/lib/python3.6/site-packages/IPython/core/formatters.py\u001b[0m in \u001b[0;36mformat\u001b[0;34m(self, obj, include, exclude)\u001b[0m\n\u001b[1;32m    178\u001b[0m             \u001b[0mmd\u001b[0m \u001b[0;34m=\u001b[0m \u001b[0;32mNone\u001b[0m\u001b[0;34m\u001b[0m\u001b[0;34m\u001b[0m\u001b[0m\n\u001b[1;32m    179\u001b[0m             \u001b[0;32mtry\u001b[0m\u001b[0;34m:\u001b[0m\u001b[0;34m\u001b[0m\u001b[0;34m\u001b[0m\u001b[0m\n\u001b[0;32m--> 180\u001b[0;31m                 \u001b[0mdata\u001b[0m \u001b[0;34m=\u001b[0m \u001b[0mformatter\u001b[0m\u001b[0;34m(\u001b[0m\u001b[0mobj\u001b[0m\u001b[0;34m)\u001b[0m\u001b[0;34m\u001b[0m\u001b[0;34m\u001b[0m\u001b[0m\n\u001b[0m\u001b[1;32m    181\u001b[0m             \u001b[0;32mexcept\u001b[0m\u001b[0;34m:\u001b[0m\u001b[0;34m\u001b[0m\u001b[0;34m\u001b[0m\u001b[0m\n\u001b[1;32m    182\u001b[0m                 \u001b[0;31m# FIXME: log the exception\u001b[0m\u001b[0;34m\u001b[0m\u001b[0;34m\u001b[0m\u001b[0;34m\u001b[0m\u001b[0m\n",
      "\u001b[0;32m~/.local/lib/python3.6/site-packages/decorator.py\u001b[0m in \u001b[0;36mfun\u001b[0;34m(*args, **kw)\u001b[0m\n\u001b[1;32m    230\u001b[0m             \u001b[0;32mif\u001b[0m \u001b[0;32mnot\u001b[0m \u001b[0mkwsyntax\u001b[0m\u001b[0;34m:\u001b[0m\u001b[0;34m\u001b[0m\u001b[0;34m\u001b[0m\u001b[0m\n\u001b[1;32m    231\u001b[0m                 \u001b[0margs\u001b[0m\u001b[0;34m,\u001b[0m \u001b[0mkw\u001b[0m \u001b[0;34m=\u001b[0m \u001b[0mfix\u001b[0m\u001b[0;34m(\u001b[0m\u001b[0margs\u001b[0m\u001b[0;34m,\u001b[0m \u001b[0mkw\u001b[0m\u001b[0;34m,\u001b[0m \u001b[0msig\u001b[0m\u001b[0;34m)\u001b[0m\u001b[0;34m\u001b[0m\u001b[0;34m\u001b[0m\u001b[0m\n\u001b[0;32m--> 232\u001b[0;31m             \u001b[0;32mreturn\u001b[0m \u001b[0mcaller\u001b[0m\u001b[0;34m(\u001b[0m\u001b[0mfunc\u001b[0m\u001b[0;34m,\u001b[0m \u001b[0;34m*\u001b[0m\u001b[0;34m(\u001b[0m\u001b[0mextras\u001b[0m \u001b[0;34m+\u001b[0m \u001b[0margs\u001b[0m\u001b[0;34m)\u001b[0m\u001b[0;34m,\u001b[0m \u001b[0;34m**\u001b[0m\u001b[0mkw\u001b[0m\u001b[0;34m)\u001b[0m\u001b[0;34m\u001b[0m\u001b[0;34m\u001b[0m\u001b[0m\n\u001b[0m\u001b[1;32m    233\u001b[0m     \u001b[0mfun\u001b[0m\u001b[0;34m.\u001b[0m\u001b[0m__name__\u001b[0m \u001b[0;34m=\u001b[0m \u001b[0mfunc\u001b[0m\u001b[0;34m.\u001b[0m\u001b[0m__name__\u001b[0m\u001b[0;34m\u001b[0m\u001b[0;34m\u001b[0m\u001b[0m\n\u001b[1;32m    234\u001b[0m     \u001b[0mfun\u001b[0m\u001b[0;34m.\u001b[0m\u001b[0m__doc__\u001b[0m \u001b[0;34m=\u001b[0m \u001b[0mfunc\u001b[0m\u001b[0;34m.\u001b[0m\u001b[0m__doc__\u001b[0m\u001b[0;34m\u001b[0m\u001b[0;34m\u001b[0m\u001b[0m\n",
      "\u001b[0;32m~/.local/lib/python3.6/site-packages/IPython/core/formatters.py\u001b[0m in \u001b[0;36mcatch_format_error\u001b[0;34m(method, self, *args, **kwargs)\u001b[0m\n\u001b[1;32m    222\u001b[0m     \u001b[0;34m\"\"\"show traceback on failed format call\"\"\"\u001b[0m\u001b[0;34m\u001b[0m\u001b[0;34m\u001b[0m\u001b[0m\n\u001b[1;32m    223\u001b[0m     \u001b[0;32mtry\u001b[0m\u001b[0;34m:\u001b[0m\u001b[0;34m\u001b[0m\u001b[0;34m\u001b[0m\u001b[0m\n\u001b[0;32m--> 224\u001b[0;31m         \u001b[0mr\u001b[0m \u001b[0;34m=\u001b[0m \u001b[0mmethod\u001b[0m\u001b[0;34m(\u001b[0m\u001b[0mself\u001b[0m\u001b[0;34m,\u001b[0m \u001b[0;34m*\u001b[0m\u001b[0margs\u001b[0m\u001b[0;34m,\u001b[0m \u001b[0;34m**\u001b[0m\u001b[0mkwargs\u001b[0m\u001b[0;34m)\u001b[0m\u001b[0;34m\u001b[0m\u001b[0;34m\u001b[0m\u001b[0m\n\u001b[0m\u001b[1;32m    225\u001b[0m     \u001b[0;32mexcept\u001b[0m \u001b[0mNotImplementedError\u001b[0m\u001b[0;34m:\u001b[0m\u001b[0;34m\u001b[0m\u001b[0;34m\u001b[0m\u001b[0m\n\u001b[1;32m    226\u001b[0m         \u001b[0;31m# don't warn on NotImplementedErrors\u001b[0m\u001b[0;34m\u001b[0m\u001b[0;34m\u001b[0m\u001b[0;34m\u001b[0m\u001b[0m\n",
      "\u001b[0;32m~/.local/lib/python3.6/site-packages/IPython/core/formatters.py\u001b[0m in \u001b[0;36m__call__\u001b[0;34m(self, obj)\u001b[0m\n\u001b[1;32m    343\u001b[0m             \u001b[0mmethod\u001b[0m \u001b[0;34m=\u001b[0m \u001b[0mget_real_method\u001b[0m\u001b[0;34m(\u001b[0m\u001b[0mobj\u001b[0m\u001b[0;34m,\u001b[0m \u001b[0mself\u001b[0m\u001b[0;34m.\u001b[0m\u001b[0mprint_method\u001b[0m\u001b[0;34m)\u001b[0m\u001b[0;34m\u001b[0m\u001b[0;34m\u001b[0m\u001b[0m\n\u001b[1;32m    344\u001b[0m             \u001b[0;32mif\u001b[0m \u001b[0mmethod\u001b[0m \u001b[0;32mis\u001b[0m \u001b[0;32mnot\u001b[0m \u001b[0;32mNone\u001b[0m\u001b[0;34m:\u001b[0m\u001b[0;34m\u001b[0m\u001b[0;34m\u001b[0m\u001b[0m\n\u001b[0;32m--> 345\u001b[0;31m                 \u001b[0;32mreturn\u001b[0m \u001b[0mmethod\u001b[0m\u001b[0;34m(\u001b[0m\u001b[0;34m)\u001b[0m\u001b[0;34m\u001b[0m\u001b[0;34m\u001b[0m\u001b[0m\n\u001b[0m\u001b[1;32m    346\u001b[0m             \u001b[0;32mreturn\u001b[0m \u001b[0;32mNone\u001b[0m\u001b[0;34m\u001b[0m\u001b[0;34m\u001b[0m\u001b[0m\n\u001b[1;32m    347\u001b[0m         \u001b[0;32melse\u001b[0m\u001b[0;34m:\u001b[0m\u001b[0;34m\u001b[0m\u001b[0;34m\u001b[0m\u001b[0m\n",
      "\u001b[0;32m/opt/spark2/python/pyspark/sql/dataframe.py\u001b[0m in \u001b[0;36m_repr_html_\u001b[0;34m(self)\u001b[0m\n\u001b[1;32m    402\u001b[0m             \u001b[0mmax_num_rows\u001b[0m \u001b[0;34m=\u001b[0m \u001b[0mmax\u001b[0m\u001b[0;34m(\u001b[0m\u001b[0mself\u001b[0m\u001b[0;34m.\u001b[0m\u001b[0msql_ctx\u001b[0m\u001b[0;34m.\u001b[0m\u001b[0m_conf\u001b[0m\u001b[0;34m.\u001b[0m\u001b[0mreplEagerEvalMaxNumRows\u001b[0m\u001b[0;34m(\u001b[0m\u001b[0;34m)\u001b[0m\u001b[0;34m,\u001b[0m \u001b[0;36m0\u001b[0m\u001b[0;34m)\u001b[0m\u001b[0;34m\u001b[0m\u001b[0;34m\u001b[0m\u001b[0m\n\u001b[1;32m    403\u001b[0m             sock_info = self._jdf.getRowsToPython(\n\u001b[0;32m--> 404\u001b[0;31m                 max_num_rows, self.sql_ctx._conf.replEagerEvalTruncate())\n\u001b[0m\u001b[1;32m    405\u001b[0m             \u001b[0mrows\u001b[0m \u001b[0;34m=\u001b[0m \u001b[0mlist\u001b[0m\u001b[0;34m(\u001b[0m\u001b[0m_load_from_socket\u001b[0m\u001b[0;34m(\u001b[0m\u001b[0msock_info\u001b[0m\u001b[0;34m,\u001b[0m \u001b[0mBatchedSerializer\u001b[0m\u001b[0;34m(\u001b[0m\u001b[0mPickleSerializer\u001b[0m\u001b[0;34m(\u001b[0m\u001b[0;34m)\u001b[0m\u001b[0;34m)\u001b[0m\u001b[0;34m)\u001b[0m\u001b[0;34m)\u001b[0m\u001b[0;34m\u001b[0m\u001b[0;34m\u001b[0m\u001b[0m\n\u001b[1;32m    406\u001b[0m             \u001b[0mhead\u001b[0m \u001b[0;34m=\u001b[0m \u001b[0mrows\u001b[0m\u001b[0;34m[\u001b[0m\u001b[0;36m0\u001b[0m\u001b[0;34m]\u001b[0m\u001b[0;34m\u001b[0m\u001b[0;34m\u001b[0m\u001b[0m\n",
      "\u001b[0;32m/opt/spark2/python/lib/py4j-0.10.7-src.zip/py4j/java_gateway.py\u001b[0m in \u001b[0;36m__call__\u001b[0;34m(self, *args)\u001b[0m\n\u001b[1;32m   1253\u001b[0m             \u001b[0mproto\u001b[0m\u001b[0;34m.\u001b[0m\u001b[0mEND_COMMAND_PART\u001b[0m\u001b[0;34m\u001b[0m\u001b[0;34m\u001b[0m\u001b[0m\n\u001b[1;32m   1254\u001b[0m \u001b[0;34m\u001b[0m\u001b[0m\n\u001b[0;32m-> 1255\u001b[0;31m         \u001b[0manswer\u001b[0m \u001b[0;34m=\u001b[0m \u001b[0mself\u001b[0m\u001b[0;34m.\u001b[0m\u001b[0mgateway_client\u001b[0m\u001b[0;34m.\u001b[0m\u001b[0msend_command\u001b[0m\u001b[0;34m(\u001b[0m\u001b[0mcommand\u001b[0m\u001b[0;34m)\u001b[0m\u001b[0;34m\u001b[0m\u001b[0;34m\u001b[0m\u001b[0m\n\u001b[0m\u001b[1;32m   1256\u001b[0m         return_value = get_return_value(\n\u001b[1;32m   1257\u001b[0m             answer, self.gateway_client, self.target_id, self.name)\n",
      "\u001b[0;32m/opt/spark2/python/lib/py4j-0.10.7-src.zip/py4j/java_gateway.py\u001b[0m in \u001b[0;36msend_command\u001b[0;34m(self, command, retry, binary)\u001b[0m\n\u001b[1;32m    983\u001b[0m         \u001b[0mconnection\u001b[0m \u001b[0;34m=\u001b[0m \u001b[0mself\u001b[0m\u001b[0;34m.\u001b[0m\u001b[0m_get_connection\u001b[0m\u001b[0;34m(\u001b[0m\u001b[0;34m)\u001b[0m\u001b[0;34m\u001b[0m\u001b[0;34m\u001b[0m\u001b[0m\n\u001b[1;32m    984\u001b[0m         \u001b[0;32mtry\u001b[0m\u001b[0;34m:\u001b[0m\u001b[0;34m\u001b[0m\u001b[0;34m\u001b[0m\u001b[0m\n\u001b[0;32m--> 985\u001b[0;31m             \u001b[0mresponse\u001b[0m \u001b[0;34m=\u001b[0m \u001b[0mconnection\u001b[0m\u001b[0;34m.\u001b[0m\u001b[0msend_command\u001b[0m\u001b[0;34m(\u001b[0m\u001b[0mcommand\u001b[0m\u001b[0;34m)\u001b[0m\u001b[0;34m\u001b[0m\u001b[0;34m\u001b[0m\u001b[0m\n\u001b[0m\u001b[1;32m    986\u001b[0m             \u001b[0;32mif\u001b[0m \u001b[0mbinary\u001b[0m\u001b[0;34m:\u001b[0m\u001b[0;34m\u001b[0m\u001b[0;34m\u001b[0m\u001b[0m\n\u001b[1;32m    987\u001b[0m                 \u001b[0;32mreturn\u001b[0m \u001b[0mresponse\u001b[0m\u001b[0;34m,\u001b[0m \u001b[0mself\u001b[0m\u001b[0;34m.\u001b[0m\u001b[0m_create_connection_guard\u001b[0m\u001b[0;34m(\u001b[0m\u001b[0mconnection\u001b[0m\u001b[0;34m)\u001b[0m\u001b[0;34m\u001b[0m\u001b[0;34m\u001b[0m\u001b[0m\n",
      "\u001b[0;32m/opt/spark2/python/lib/py4j-0.10.7-src.zip/py4j/java_gateway.py\u001b[0m in \u001b[0;36msend_command\u001b[0;34m(self, command)\u001b[0m\n\u001b[1;32m   1150\u001b[0m \u001b[0;34m\u001b[0m\u001b[0m\n\u001b[1;32m   1151\u001b[0m         \u001b[0;32mtry\u001b[0m\u001b[0;34m:\u001b[0m\u001b[0;34m\u001b[0m\u001b[0;34m\u001b[0m\u001b[0m\n\u001b[0;32m-> 1152\u001b[0;31m             \u001b[0manswer\u001b[0m \u001b[0;34m=\u001b[0m \u001b[0msmart_decode\u001b[0m\u001b[0;34m(\u001b[0m\u001b[0mself\u001b[0m\u001b[0;34m.\u001b[0m\u001b[0mstream\u001b[0m\u001b[0;34m.\u001b[0m\u001b[0mreadline\u001b[0m\u001b[0;34m(\u001b[0m\u001b[0;34m)\u001b[0m\u001b[0;34m[\u001b[0m\u001b[0;34m:\u001b[0m\u001b[0;34m-\u001b[0m\u001b[0;36m1\u001b[0m\u001b[0;34m]\u001b[0m\u001b[0;34m)\u001b[0m\u001b[0;34m\u001b[0m\u001b[0;34m\u001b[0m\u001b[0m\n\u001b[0m\u001b[1;32m   1153\u001b[0m             \u001b[0mlogger\u001b[0m\u001b[0;34m.\u001b[0m\u001b[0mdebug\u001b[0m\u001b[0;34m(\u001b[0m\u001b[0;34m\"Answer received: {0}\"\u001b[0m\u001b[0;34m.\u001b[0m\u001b[0mformat\u001b[0m\u001b[0;34m(\u001b[0m\u001b[0manswer\u001b[0m\u001b[0;34m)\u001b[0m\u001b[0;34m)\u001b[0m\u001b[0;34m\u001b[0m\u001b[0;34m\u001b[0m\u001b[0m\n\u001b[1;32m   1154\u001b[0m             \u001b[0;32mif\u001b[0m \u001b[0manswer\u001b[0m\u001b[0;34m.\u001b[0m\u001b[0mstartswith\u001b[0m\u001b[0;34m(\u001b[0m\u001b[0mproto\u001b[0m\u001b[0;34m.\u001b[0m\u001b[0mRETURN_MESSAGE\u001b[0m\u001b[0;34m)\u001b[0m\u001b[0;34m:\u001b[0m\u001b[0;34m\u001b[0m\u001b[0;34m\u001b[0m\u001b[0m\n",
      "\u001b[0;32m/usr/lib/python3.6/socket.py\u001b[0m in \u001b[0;36mreadinto\u001b[0;34m(self, b)\u001b[0m\n\u001b[1;32m    584\u001b[0m         \u001b[0;32mwhile\u001b[0m \u001b[0;32mTrue\u001b[0m\u001b[0;34m:\u001b[0m\u001b[0;34m\u001b[0m\u001b[0;34m\u001b[0m\u001b[0m\n\u001b[1;32m    585\u001b[0m             \u001b[0;32mtry\u001b[0m\u001b[0;34m:\u001b[0m\u001b[0;34m\u001b[0m\u001b[0;34m\u001b[0m\u001b[0m\n\u001b[0;32m--> 586\u001b[0;31m                 \u001b[0;32mreturn\u001b[0m \u001b[0mself\u001b[0m\u001b[0;34m.\u001b[0m\u001b[0m_sock\u001b[0m\u001b[0;34m.\u001b[0m\u001b[0mrecv_into\u001b[0m\u001b[0;34m(\u001b[0m\u001b[0mb\u001b[0m\u001b[0;34m)\u001b[0m\u001b[0;34m\u001b[0m\u001b[0;34m\u001b[0m\u001b[0m\n\u001b[0m\u001b[1;32m    587\u001b[0m             \u001b[0;32mexcept\u001b[0m \u001b[0mtimeout\u001b[0m\u001b[0;34m:\u001b[0m\u001b[0;34m\u001b[0m\u001b[0;34m\u001b[0m\u001b[0m\n\u001b[1;32m    588\u001b[0m                 \u001b[0mself\u001b[0m\u001b[0;34m.\u001b[0m\u001b[0m_timeout_occurred\u001b[0m \u001b[0;34m=\u001b[0m \u001b[0;32mTrue\u001b[0m\u001b[0;34m\u001b[0m\u001b[0;34m\u001b[0m\u001b[0m\n",
      "\u001b[0;31mKeyboardInterrupt\u001b[0m: "
     ]
    }
   ],
   "source": [
    "offline_df.cache()"
   ]
  },
  {
   "cell_type": "code",
   "execution_count": 60,
   "id": "04859ea6-2fb8-4ab1-ab3f-d1f5420c9ed0",
   "metadata": {
    "collapsed": true,
    "jupyter": {
     "outputs_hidden": true
    },
    "tags": []
   },
   "outputs": [
    {
     "ename": "KeyboardInterrupt",
     "evalue": "",
     "output_type": "error",
     "traceback": [
      "\u001b[0;31m---------------------------------------------------------------------------\u001b[0m",
      "\u001b[0;31mKeyboardInterrupt\u001b[0m                         Traceback (most recent call last)",
      "\u001b[0;32m<ipython-input-60-e011b5839935>\u001b[0m in \u001b[0;36m<module>\u001b[0;34m\u001b[0m\n\u001b[1;32m      7\u001b[0m     col(\"branch_class\")).distinct()\n\u001b[1;32m      8\u001b[0m \u001b[0;34m\u001b[0m\u001b[0m\n\u001b[0;32m----> 9\u001b[0;31m \u001b[0mbranches_dim_df\u001b[0m\u001b[0;34m.\u001b[0m\u001b[0mshow\u001b[0m\u001b[0;34m(\u001b[0m\u001b[0;34m)\u001b[0m\u001b[0;34m\u001b[0m\u001b[0;34m\u001b[0m\u001b[0m\n\u001b[0m",
      "\u001b[0;32m/opt/spark2/python/pyspark/sql/dataframe.py\u001b[0m in \u001b[0;36mshow\u001b[0;34m(self, n, truncate, vertical)\u001b[0m\n\u001b[1;32m    379\u001b[0m         \"\"\"\n\u001b[1;32m    380\u001b[0m         \u001b[0;32mif\u001b[0m \u001b[0misinstance\u001b[0m\u001b[0;34m(\u001b[0m\u001b[0mtruncate\u001b[0m\u001b[0;34m,\u001b[0m \u001b[0mbool\u001b[0m\u001b[0;34m)\u001b[0m \u001b[0;32mand\u001b[0m \u001b[0mtruncate\u001b[0m\u001b[0;34m:\u001b[0m\u001b[0;34m\u001b[0m\u001b[0;34m\u001b[0m\u001b[0m\n\u001b[0;32m--> 381\u001b[0;31m             \u001b[0mprint\u001b[0m\u001b[0;34m(\u001b[0m\u001b[0mself\u001b[0m\u001b[0;34m.\u001b[0m\u001b[0m_jdf\u001b[0m\u001b[0;34m.\u001b[0m\u001b[0mshowString\u001b[0m\u001b[0;34m(\u001b[0m\u001b[0mn\u001b[0m\u001b[0;34m,\u001b[0m \u001b[0;36m20\u001b[0m\u001b[0;34m,\u001b[0m \u001b[0mvertical\u001b[0m\u001b[0;34m)\u001b[0m\u001b[0;34m)\u001b[0m\u001b[0;34m\u001b[0m\u001b[0;34m\u001b[0m\u001b[0m\n\u001b[0m\u001b[1;32m    382\u001b[0m         \u001b[0;32melse\u001b[0m\u001b[0;34m:\u001b[0m\u001b[0;34m\u001b[0m\u001b[0;34m\u001b[0m\u001b[0m\n\u001b[1;32m    383\u001b[0m             \u001b[0mprint\u001b[0m\u001b[0;34m(\u001b[0m\u001b[0mself\u001b[0m\u001b[0;34m.\u001b[0m\u001b[0m_jdf\u001b[0m\u001b[0;34m.\u001b[0m\u001b[0mshowString\u001b[0m\u001b[0;34m(\u001b[0m\u001b[0mn\u001b[0m\u001b[0;34m,\u001b[0m \u001b[0mint\u001b[0m\u001b[0;34m(\u001b[0m\u001b[0mtruncate\u001b[0m\u001b[0;34m)\u001b[0m\u001b[0;34m,\u001b[0m \u001b[0mvertical\u001b[0m\u001b[0;34m)\u001b[0m\u001b[0;34m)\u001b[0m\u001b[0;34m\u001b[0m\u001b[0;34m\u001b[0m\u001b[0m\n",
      "\u001b[0;32m/opt/spark2/python/lib/py4j-0.10.7-src.zip/py4j/java_gateway.py\u001b[0m in \u001b[0;36m__call__\u001b[0;34m(self, *args)\u001b[0m\n\u001b[1;32m   1253\u001b[0m             \u001b[0mproto\u001b[0m\u001b[0;34m.\u001b[0m\u001b[0mEND_COMMAND_PART\u001b[0m\u001b[0;34m\u001b[0m\u001b[0;34m\u001b[0m\u001b[0m\n\u001b[1;32m   1254\u001b[0m \u001b[0;34m\u001b[0m\u001b[0m\n\u001b[0;32m-> 1255\u001b[0;31m         \u001b[0manswer\u001b[0m \u001b[0;34m=\u001b[0m \u001b[0mself\u001b[0m\u001b[0;34m.\u001b[0m\u001b[0mgateway_client\u001b[0m\u001b[0;34m.\u001b[0m\u001b[0msend_command\u001b[0m\u001b[0;34m(\u001b[0m\u001b[0mcommand\u001b[0m\u001b[0;34m)\u001b[0m\u001b[0;34m\u001b[0m\u001b[0;34m\u001b[0m\u001b[0m\n\u001b[0m\u001b[1;32m   1256\u001b[0m         return_value = get_return_value(\n\u001b[1;32m   1257\u001b[0m             answer, self.gateway_client, self.target_id, self.name)\n",
      "\u001b[0;32m/opt/spark2/python/lib/py4j-0.10.7-src.zip/py4j/java_gateway.py\u001b[0m in \u001b[0;36msend_command\u001b[0;34m(self, command, retry, binary)\u001b[0m\n\u001b[1;32m    983\u001b[0m         \u001b[0mconnection\u001b[0m \u001b[0;34m=\u001b[0m \u001b[0mself\u001b[0m\u001b[0;34m.\u001b[0m\u001b[0m_get_connection\u001b[0m\u001b[0;34m(\u001b[0m\u001b[0;34m)\u001b[0m\u001b[0;34m\u001b[0m\u001b[0;34m\u001b[0m\u001b[0m\n\u001b[1;32m    984\u001b[0m         \u001b[0;32mtry\u001b[0m\u001b[0;34m:\u001b[0m\u001b[0;34m\u001b[0m\u001b[0;34m\u001b[0m\u001b[0m\n\u001b[0;32m--> 985\u001b[0;31m             \u001b[0mresponse\u001b[0m \u001b[0;34m=\u001b[0m \u001b[0mconnection\u001b[0m\u001b[0;34m.\u001b[0m\u001b[0msend_command\u001b[0m\u001b[0;34m(\u001b[0m\u001b[0mcommand\u001b[0m\u001b[0;34m)\u001b[0m\u001b[0;34m\u001b[0m\u001b[0;34m\u001b[0m\u001b[0m\n\u001b[0m\u001b[1;32m    986\u001b[0m             \u001b[0;32mif\u001b[0m \u001b[0mbinary\u001b[0m\u001b[0;34m:\u001b[0m\u001b[0;34m\u001b[0m\u001b[0;34m\u001b[0m\u001b[0m\n\u001b[1;32m    987\u001b[0m                 \u001b[0;32mreturn\u001b[0m \u001b[0mresponse\u001b[0m\u001b[0;34m,\u001b[0m \u001b[0mself\u001b[0m\u001b[0;34m.\u001b[0m\u001b[0m_create_connection_guard\u001b[0m\u001b[0;34m(\u001b[0m\u001b[0mconnection\u001b[0m\u001b[0;34m)\u001b[0m\u001b[0;34m\u001b[0m\u001b[0;34m\u001b[0m\u001b[0m\n",
      "\u001b[0;32m/opt/spark2/python/lib/py4j-0.10.7-src.zip/py4j/java_gateway.py\u001b[0m in \u001b[0;36msend_command\u001b[0;34m(self, command)\u001b[0m\n\u001b[1;32m   1150\u001b[0m \u001b[0;34m\u001b[0m\u001b[0m\n\u001b[1;32m   1151\u001b[0m         \u001b[0;32mtry\u001b[0m\u001b[0;34m:\u001b[0m\u001b[0;34m\u001b[0m\u001b[0;34m\u001b[0m\u001b[0m\n\u001b[0;32m-> 1152\u001b[0;31m             \u001b[0manswer\u001b[0m \u001b[0;34m=\u001b[0m \u001b[0msmart_decode\u001b[0m\u001b[0;34m(\u001b[0m\u001b[0mself\u001b[0m\u001b[0;34m.\u001b[0m\u001b[0mstream\u001b[0m\u001b[0;34m.\u001b[0m\u001b[0mreadline\u001b[0m\u001b[0;34m(\u001b[0m\u001b[0;34m)\u001b[0m\u001b[0;34m[\u001b[0m\u001b[0;34m:\u001b[0m\u001b[0;34m-\u001b[0m\u001b[0;36m1\u001b[0m\u001b[0;34m]\u001b[0m\u001b[0;34m)\u001b[0m\u001b[0;34m\u001b[0m\u001b[0;34m\u001b[0m\u001b[0m\n\u001b[0m\u001b[1;32m   1153\u001b[0m             \u001b[0mlogger\u001b[0m\u001b[0;34m.\u001b[0m\u001b[0mdebug\u001b[0m\u001b[0;34m(\u001b[0m\u001b[0;34m\"Answer received: {0}\"\u001b[0m\u001b[0;34m.\u001b[0m\u001b[0mformat\u001b[0m\u001b[0;34m(\u001b[0m\u001b[0manswer\u001b[0m\u001b[0;34m)\u001b[0m\u001b[0;34m)\u001b[0m\u001b[0;34m\u001b[0m\u001b[0;34m\u001b[0m\u001b[0m\n\u001b[1;32m   1154\u001b[0m             \u001b[0;32mif\u001b[0m \u001b[0manswer\u001b[0m\u001b[0;34m.\u001b[0m\u001b[0mstartswith\u001b[0m\u001b[0;34m(\u001b[0m\u001b[0mproto\u001b[0m\u001b[0;34m.\u001b[0m\u001b[0mRETURN_MESSAGE\u001b[0m\u001b[0;34m)\u001b[0m\u001b[0;34m:\u001b[0m\u001b[0;34m\u001b[0m\u001b[0;34m\u001b[0m\u001b[0m\n",
      "\u001b[0;32m/usr/lib/python3.6/socket.py\u001b[0m in \u001b[0;36mreadinto\u001b[0;34m(self, b)\u001b[0m\n\u001b[1;32m    584\u001b[0m         \u001b[0;32mwhile\u001b[0m \u001b[0;32mTrue\u001b[0m\u001b[0;34m:\u001b[0m\u001b[0;34m\u001b[0m\u001b[0;34m\u001b[0m\u001b[0m\n\u001b[1;32m    585\u001b[0m             \u001b[0;32mtry\u001b[0m\u001b[0;34m:\u001b[0m\u001b[0;34m\u001b[0m\u001b[0;34m\u001b[0m\u001b[0m\n\u001b[0;32m--> 586\u001b[0;31m                 \u001b[0;32mreturn\u001b[0m \u001b[0mself\u001b[0m\u001b[0;34m.\u001b[0m\u001b[0m_sock\u001b[0m\u001b[0;34m.\u001b[0m\u001b[0mrecv_into\u001b[0m\u001b[0;34m(\u001b[0m\u001b[0mb\u001b[0m\u001b[0;34m)\u001b[0m\u001b[0;34m\u001b[0m\u001b[0;34m\u001b[0m\u001b[0m\n\u001b[0m\u001b[1;32m    587\u001b[0m             \u001b[0;32mexcept\u001b[0m \u001b[0mtimeout\u001b[0m\u001b[0;34m:\u001b[0m\u001b[0;34m\u001b[0m\u001b[0;34m\u001b[0m\u001b[0m\n\u001b[1;32m    588\u001b[0m                 \u001b[0mself\u001b[0m\u001b[0;34m.\u001b[0m\u001b[0m_timeout_occurred\u001b[0m \u001b[0;34m=\u001b[0m \u001b[0;32mTrue\u001b[0m\u001b[0;34m\u001b[0m\u001b[0;34m\u001b[0m\u001b[0m\n",
      "\u001b[0;31mKeyboardInterrupt\u001b[0m: "
     ]
    }
   ],
   "source": [
    "#store branch dim\n",
    "\n",
    "branches_dim_df=offline_df.select(\n",
    "    col(\"branch_id\"),\n",
    "    col(\"branch_location\"),\n",
    "    col(\"branch_establish_date\"),\n",
    "    col(\"branch_class\")).distinct()\n",
    "\n",
    "branches_dim_df.show()"
   ]
  },
  {
   "cell_type": "code",
   "execution_count": 95,
   "id": "d90d926c-d06a-44c8-aa24-a9f7f1d0b17d",
   "metadata": {
    "collapsed": true,
    "jupyter": {
     "outputs_hidden": true
    },
    "tags": []
   },
   "outputs": [
    {
     "data": {
      "text/html": [
       "<table border='1'>\n",
       "<tr><th>branch_id</th><th>branch_location</th><th>branch_establish_date</th><th>branch_class</th><th>branch_key</th></tr>\n",
       "<tr><td>1.0</td><td>New York</td><td>2017-01-15</td><td>A</td><td>1</td></tr>\n",
       "<tr><td>2.0</td><td>Los Angeles</td><td>2016-07-28</td><td>B</td><td>2</td></tr>\n",
       "<tr><td>3.0</td><td>Chicago</td><td>2015-03-10</td><td>A</td><td>3</td></tr>\n",
       "<tr><td>4.0</td><td>Houston</td><td>2016-11-05</td><td>D</td><td>4</td></tr>\n",
       "<tr><td>5.0</td><td>Phoenix</td><td>2017-09-20</td><td>C</td><td>5</td></tr>\n",
       "<tr><td>6.0</td><td>Oklahoma</td><td>2016-09-20</td><td>A</td><td>6</td></tr>\n",
       "</table>\n"
      ],
      "text/plain": [
       "+---------+---------------+---------------------+------------+----------+\n",
       "|branch_id|branch_location|branch_establish_date|branch_class|branch_key|\n",
       "+---------+---------------+---------------------+------------+----------+\n",
       "|      1.0|       New York|           2017-01-15|           A|         1|\n",
       "|      2.0|    Los Angeles|           2016-07-28|           B|         2|\n",
       "|      3.0|        Chicago|           2015-03-10|           A|         3|\n",
       "|      4.0|        Houston|           2016-11-05|           D|         4|\n",
       "|      5.0|        Phoenix|           2017-09-20|           C|         5|\n",
       "|      6.0|       Oklahoma|           2016-09-20|           A|         6|\n",
       "+---------+---------------+---------------------+------------+----------+"
      ]
     },
     "execution_count": 95,
     "metadata": {},
     "output_type": "execute_result"
    }
   ],
   "source": [
    "# Define a Window specification\n",
    "window_spec = Window.orderBy(\"branch_id\")\n",
    "\n",
    "# Add a product_key column using row_number\n",
    "branches_dim_df = branches_dim_df.withColumn(\"branch_key\", row_number().over(window_spec))\n",
    "\n",
    "branches_dim_df.coalesce(1)"
   ]
  },
  {
   "cell_type": "code",
   "execution_count": 96,
   "id": "993a620f-9281-4df9-b21f-506f0975343a",
   "metadata": {},
   "outputs": [],
   "source": [
    "# Write the merged DataFrame to a single CSV file\n",
    "output_path = \"/Graduation_Project/transformed_data/schema/branches_dim.csv\"\n",
    "branches_dim_df.coalesce(1).write.mode('overwrite').csv(output_path, header=True)"
   ]
  },
  {
   "cell_type": "code",
   "execution_count": 97,
   "id": "3065766c-cbca-45b8-8538-2d5c7f307e2f",
   "metadata": {
    "collapsed": true,
    "jupyter": {
     "outputs_hidden": true
    },
    "tags": []
   },
   "outputs": [
    {
     "data": {
      "text/html": [
       "<table border='1'>\n",
       "<tr><th>transaction_id</th><th>sales_agent_id</th><th>branch_id</th><th>units</th><th>discount</th><th>payment_method</th><th>total_price</th><th>date_key</th><th>product_key</th><th>customer_name</th><th>cleaned_email</th><th>customer_key</th><th>branch_id</th><th>branch_location</th><th>branch_establish_date</th><th>branch_class</th><th>branch_key</th></tr>\n",
       "<tr><td>trx-752036065952</td><td>5.0</td><td>1.0</td><td>2</td><td>0.0</td><td>Credit Card</td><td>199.98</td><td>20220412</td><td>4</td><td>Michael Wilson</td><td>michael.wilson@gm...</td><td>64</td><td>1.0</td><td>New York</td><td>2017-01-15</td><td>A</td><td>1</td></tr>\n",
       "<tr><td>trx-966555221163</td><td>4.0</td><td>1.0</td><td>1</td><td>0.0</td><td>Credit Card</td><td>149.99</td><td>20221008</td><td>13</td><td>Michael Wilson</td><td>michael.wilson@gm...</td><td>64</td><td>1.0</td><td>New York</td><td>2017-01-15</td><td>A</td><td>1</td></tr>\n",
       "<tr><td>trx-438034122453</td><td>8.0</td><td>1.0</td><td>9</td><td>0.15</td><td>Credit Card</td><td>382.4235107266903</td><td>20221008</td><td>24</td><td>Michael Wilson</td><td>michael.wilson@gm...</td><td>64</td><td>1.0</td><td>New York</td><td>2017-01-15</td><td>A</td><td>1</td></tr>\n",
       "<tr><td>trx-364183758782</td><td>3.0</td><td>1.0</td><td>3</td><td>0.15</td><td>Credit Card</td><td>76.47450214505196</td><td>20221201</td><td>15</td><td>Michael Wilson</td><td>michael.wilson@gm...</td><td>64</td><td>1.0</td><td>New York</td><td>2017-01-15</td><td>A</td><td>1</td></tr>\n",
       "<tr><td>trx-861589695084</td><td>8.0</td><td>1.0</td><td>8</td><td>0.2</td><td>Credit Card</td><td>3199.9360476827624</td><td>20220718</td><td>25</td><td>Michael Wilson</td><td>michael.wilson@gm...</td><td>64</td><td>1.0</td><td>New York</td><td>2017-01-15</td><td>A</td><td>1</td></tr>\n",
       "<tr><td>trx-723526461132</td><td>8.0</td><td>1.0</td><td>8</td><td>0.0</td><td>Credit Card</td><td>159.92</td><td>20220402</td><td>28</td><td>Michael Wilson</td><td>michael.wilson@gm...</td><td>64</td><td>1.0</td><td>New York</td><td>2017-01-15</td><td>A</td><td>1</td></tr>\n",
       "<tr><td>trx-128824540336</td><td>3.0</td><td>1.0</td><td>6</td><td>0.0</td><td>Credit Card</td><td>599.9399999999999</td><td>20220402</td><td>4</td><td>Michael Wilson</td><td>michael.wilson@gm...</td><td>64</td><td>1.0</td><td>New York</td><td>2017-01-15</td><td>A</td><td>1</td></tr>\n",
       "<tr><td>trx-128824540336</td><td>3.0</td><td>1.0</td><td>6</td><td>0.0</td><td>Credit Card</td><td>599.9399999999999</td><td>20220402</td><td>4</td><td>Michael Wilson</td><td>michael.wilson@gm...</td><td>64</td><td>1.0</td><td>New York</td><td>2017-01-15</td><td>A</td><td>1</td></tr>\n",
       "<tr><td>trx-389151782527</td><td>6.0</td><td>1.0</td><td>9</td><td>0.05</td><td>Cash</td><td>1709.914478543401</td><td>20220402</td><td>26</td><td>Michael Wilson</td><td>michael.wilson@gm...</td><td>64</td><td>1.0</td><td>New York</td><td>2017-01-15</td><td>A</td><td>1</td></tr>\n",
       "<tr><td>trx-921810114081</td><td>5.0</td><td>1.0</td><td>6</td><td>0.0</td><td>Credit Card</td><td>179.94</td><td>20220402</td><td>27</td><td>Michael Wilson</td><td>michael.wilson@gm...</td><td>64</td><td>1.0</td><td>New York</td><td>2017-01-15</td><td>A</td><td>1</td></tr>\n",
       "<tr><td>trx-976939297462</td><td>10.0</td><td>1.0</td><td>6</td><td>0.2</td><td>Cash</td><td>143.95200214505195</td><td>20230125</td><td>27</td><td>Michael Wilson</td><td>michael.wilson@gm...</td><td>64</td><td>1.0</td><td>New York</td><td>2017-01-15</td><td>A</td><td>1</td></tr>\n",
       "<tr><td>trx-268740193078</td><td>8.0</td><td>1.0</td><td>9</td><td>0.0</td><td>Credit Card</td><td>1349.91</td><td>20230125</td><td>13</td><td>Michael Wilson</td><td>michael.wilson@gm...</td><td>64</td><td>1.0</td><td>New York</td><td>2017-01-15</td><td>A</td><td>1</td></tr>\n",
       "<tr><td>trx-148240747376</td><td>8.0</td><td>1.0</td><td>4</td><td>0.2</td><td>Credit Card</td><td>127.9680019068718</td><td>20230125</td><td>23</td><td>Michael Wilson</td><td>michael.wilson@gm...</td><td>64</td><td>1.0</td><td>New York</td><td>2017-01-15</td><td>A</td><td>1</td></tr>\n",
       "<tr><td>trx-440008905061</td><td>7.0</td><td>1.0</td><td>10</td><td>0.2</td><td>Credit Card</td><td>319.92000476717953</td><td>20230125</td><td>29</td><td>Michael Wilson</td><td>michael.wilson@gm...</td><td>64</td><td>1.0</td><td>New York</td><td>2017-01-15</td><td>A</td><td>1</td></tr>\n",
       "<tr><td>trx-551142758868</td><td>4.0</td><td>1.0</td><td>9</td><td>0.15</td><td>Credit Card</td><td>229.42350643515584</td><td>20231120</td><td>19</td><td>Michael Wilson</td><td>michael.wilson@gm...</td><td>64</td><td>1.0</td><td>New York</td><td>2017-01-15</td><td>A</td><td>1</td></tr>\n",
       "<tr><td>trx-450969307489</td><td>8.0</td><td>1.0</td><td>4</td><td>0.0</td><td>Cash</td><td>199.96</td><td>20220513</td><td>24</td><td>Michael Wilson</td><td>michael.wilson@gm...</td><td>64</td><td>1.0</td><td>New York</td><td>2017-01-15</td><td>A</td><td>1</td></tr>\n",
       "<tr><td>trx-883317744694</td><td>9.0</td><td>1.0</td><td>3</td><td>0.0</td><td>Credit Card</td><td>59.97</td><td>20221211</td><td>28</td><td>Michael Wilson</td><td>michael.wilson@gm...</td><td>64</td><td>1.0</td><td>New York</td><td>2017-01-15</td><td>A</td><td>1</td></tr>\n",
       "<tr><td>trx-546230269849</td><td>7.0</td><td>1.0</td><td>5</td><td>0.0</td><td>Cash</td><td>4499.95</td><td>20231103</td><td>11</td><td>Michael Wilson</td><td>michael.wilson@gm...</td><td>64</td><td>1.0</td><td>New York</td><td>2017-01-15</td><td>A</td><td>1</td></tr>\n",
       "<tr><td>trx-722109727901</td><td>2.0</td><td>1.0</td><td>5</td><td>0.0</td><td>Cash</td><td>499.95</td><td>20220419</td><td>4</td><td>Michael Wilson</td><td>michael.wilson@gm...</td><td>64</td><td>1.0</td><td>New York</td><td>2017-01-15</td><td>A</td><td>1</td></tr>\n",
       "<tr><td>trx-070689626658</td><td>5.0</td><td>1.0</td><td>8</td><td>0.05</td><td>Credit Card</td><td>987.9239876031876</td><td>20220917</td><td>9</td><td>Michael Wilson</td><td>michael.wilson@gm...</td><td>64</td><td>1.0</td><td>New York</td><td>2017-01-15</td><td>A</td><td>1</td></tr>\n",
       "</table>\n",
       "only showing top 20 rows\n"
      ],
      "text/plain": [
       "+----------------+--------------+---------+-----+--------+--------------+------------------+--------+-----------+-------------+--------------------+------------+---------+---------------+---------------------+------------+----------+\n",
       "|  transaction_id|sales_agent_id|branch_id|units|discount|payment_method|       total_price|date_key|product_key|customer_name|       cleaned_email|customer_key|branch_id|branch_location|branch_establish_date|branch_class|branch_key|\n",
       "+----------------+--------------+---------+-----+--------+--------------+------------------+--------+-----------+-------------+--------------------+------------+---------+---------------+---------------------+------------+----------+\n",
       "|trx-006876824511|           1.0|      1.0|    7|     0.0|          Cash|209.92999999999998|20221005|         27|Olivia Taylor|olivia.taylor@out...|          59|      1.0|       New York|           2017-01-15|           A|         1|\n",
       "|trx-104306490853|           4.0|      1.0|    8|     0.0|          Cash|           2399.92|20230501|          3|Olivia Taylor|olivia.taylor@out...|          59|      1.0|       New York|           2017-01-15|           A|         1|\n",
       "|trx-542192368241|          11.0|      1.0|    3|     0.0|   Credit Card|             74.97|20230518|         30|Olivia Taylor|olivia.taylor@out...|          59|      1.0|       New York|           2017-01-15|           A|         1|\n",
       "|trx-675147347097|           6.0|      1.0|    7|     0.2|          Cash|  839.944012516141|20221007|         13|Olivia Taylor|olivia.taylor@out...|          59|      1.0|       New York|           2017-01-15|           A|         1|\n",
       "|trx-939829444413|          11.0|      1.0|    4|     0.0|   Credit Card|            319.96|20221007|          8|Olivia Taylor|olivia.taylor@out...|          59|      1.0|       New York|           2017-01-15|           A|         1|\n",
       "|trx-509151139191|           7.0|      1.0|    9|    0.05|          Cash|341.91449570953847|20230421|         29|Olivia Taylor|olivia.taylor@out...|          59|      1.0|       New York|           2017-01-15|           A|         1|\n",
       "|trx-889437846402|          10.0|      1.0|    8|     0.2|          Cash| 255.9360038137436|20230428|         29|Olivia Taylor|olivia.taylor@out...|          59|      1.0|       New York|           2017-01-15|           A|         1|\n",
       "|trx-813287633702|           1.0|      1.0|    4|     0.0|          Cash|            799.96|20230428|         26|Olivia Taylor|olivia.taylor@out...|          59|      1.0|       New York|           2017-01-15|           A|         1|\n",
       "|trx-813287633702|           1.0|      1.0|    4|     0.0|          Cash|            799.96|20230428|         26|Olivia Taylor|olivia.taylor@out...|          59|      1.0|       New York|           2017-01-15|           A|         1|\n",
       "|trx-374223256508|           7.0|      1.0|    2|     0.2|          Cash| 39.98400059580803|20220517|         30|Olivia Taylor|olivia.taylor@out...|          59|      1.0|       New York|           2017-01-15|           A|         1|\n",
       "|trx-492464614770|          11.0|      1.0|    4|     0.0|   Credit Card|             79.96|20220517|         28|Olivia Taylor|olivia.taylor@out...|          59|      1.0|       New York|           2017-01-15|           A|         1|\n",
       "|trx-191276409046|          10.0|      1.0|    4|     0.1|          Cash|143.96399618625642|20220517|         29|Olivia Taylor|olivia.taylor@out...|          59|      1.0|       New York|           2017-01-15|           A|         1|\n",
       "|trx-087849869724|           7.0|      1.0|    6|     0.0|          Cash|            299.94|20230210|          6|Olivia Taylor|olivia.taylor@out...|          59|      1.0|       New York|           2017-01-15|           A|         1|\n",
       "|trx-276945950873|           2.0|      1.0|    9|     0.2|   Credit Card|287.92800429046156|20230607|         23|Olivia Taylor|olivia.taylor@out...|          59|      1.0|       New York|           2017-01-15|           A|         1|\n",
       "|trx-354180575365|          11.0|      1.0|    6|    0.05|          Cash| 227.9429971396923|20230310|         10|Olivia Taylor|olivia.taylor@out...|          59|      1.0|       New York|           2017-01-15|           A|         1|\n",
       "|trx-408578467942|          11.0|      1.0|    7|     0.0|   Credit Card| 909.9300000000001|20230310|          9|Olivia Taylor|olivia.taylor@out...|          59|      1.0|       New York|           2017-01-15|           A|         1|\n",
       "|trx-903716220298|           1.0|      1.0|    4|     0.2|   Credit Card| 415.9680061984063|20230310|          9|Olivia Taylor|olivia.taylor@out...|          59|      1.0|       New York|           2017-01-15|           A|         1|\n",
       "|trx-898583933804|           8.0|      1.0|    3|     0.2|          Cash| 95.97600143015384|20230311|         23|Olivia Taylor|olivia.taylor@out...|          59|      1.0|       New York|           2017-01-15|           A|         1|\n",
       "|trx-703389135837|           5.0|      1.0|    6|    0.15|          Cash|152.94900429010391|20230311|         17|Olivia Taylor|olivia.taylor@out...|          59|      1.0|       New York|           2017-01-15|           A|         1|\n",
       "|trx-134419561957|           6.0|      1.0|    5|     0.0|   Credit Card|199.95000000000002|20230311|         23|Olivia Taylor|olivia.taylor@out...|          59|      1.0|       New York|           2017-01-15|           A|         1|\n",
       "+----------------+--------------+---------+-----+--------+--------------+------------------+--------+-----------+-------------+--------------------+------------+---------+---------------+---------------------+------------+----------+\n",
       "only showing top 20 rows"
      ]
     },
     "execution_count": 97,
     "metadata": {},
     "output_type": "execute_result"
    }
   ],
   "source": [
    "# Perform an inner join on transaction_date and date\n",
    "offline_fact_df = offline_fact_df.join(branches_dim_df, offline_fact_df[\"branch_id\"] == branches_dim_df[\"branch_id\"], \"inner\")\n",
    "offline_fact_df.coalesce(1)"
   ]
  },
  {
   "cell_type": "code",
   "execution_count": 98,
   "id": "e6f0d58d-5ae3-418d-8f51-e698b74beb05",
   "metadata": {
    "collapsed": true,
    "jupyter": {
     "outputs_hidden": true
    },
    "tags": []
   },
   "outputs": [
    {
     "data": {
      "text/html": [
       "<table border='1'>\n",
       "<tr><th>transaction_id</th><th>sales_agent_id</th><th>units</th><th>discount</th><th>payment_method</th><th>total_price</th><th>date_key</th><th>product_key</th><th>customer_name</th><th>cleaned_email</th><th>customer_key</th><th>branch_key</th></tr>\n",
       "<tr><td>trx-288544269912</td><td>2.0</td><td>4</td><td>0.2</td><td>Credit Card</td><td>2879.9680429148675</td><td>20221005</td><td>11</td><td>Michael Wilson</td><td>michael.wilson@gm...</td><td>64</td><td>2</td></tr>\n",
       "<tr><td>trx-453952256916</td><td>5.0</td><td>2</td><td>0.0</td><td>Cash</td><td>79.98</td><td>20221005</td><td>10</td><td>Michael Wilson</td><td>michael.wilson@gm...</td><td>64</td><td>6</td></tr>\n",
       "<tr><td>trx-320018303559</td><td>7.0</td><td>10</td><td>0.2</td><td>Cash</td><td>319.92000476717953</td><td>20221005</td><td>10</td><td>Michael Wilson</td><td>michael.wilson@gm...</td><td>64</td><td>4</td></tr>\n",
       "<tr><td>trx-024932783521</td><td>1.0</td><td>6</td><td>0.0</td><td>Cash</td><td>2999.94</td><td>20221005</td><td>25</td><td>Michael Wilson</td><td>michael.wilson@gm...</td><td>64</td><td>3</td></tr>\n",
       "<tr><td>trx-209702051200</td><td>11.0</td><td>5</td><td>0.0</td><td>Cash</td><td>1499.95</td><td>20221005</td><td>12</td><td>Michael Wilson</td><td>michael.wilson@gm...</td><td>64</td><td>1</td></tr>\n",
       "<tr><td>trx-267818677599</td><td>3.0</td><td>5</td><td>0.0</td><td>Credit Card</td><td>399.95</td><td>20221005</td><td>22</td><td>Michael Wilson</td><td>michael.wilson@gm...</td><td>64</td><td>2</td></tr>\n",
       "<tr><td>trx-956064519174</td><td>11.0</td><td>5</td><td>0.0</td><td>Cash</td><td>199.95000000000002</td><td>20221005</td><td>29</td><td>Michael Wilson</td><td>michael.wilson@gm...</td><td>64</td><td>3</td></tr>\n",
       "<tr><td>trx-480863914129</td><td>11.0</td><td>2</td><td>0.0</td><td>Credit Card</td><td>79.98</td><td>20221005</td><td>29</td><td>Michael Wilson</td><td>michael.wilson@gm...</td><td>64</td><td>1</td></tr>\n",
       "<tr><td>trx-112384316514</td><td>2.0</td><td>6</td><td>0.1</td><td>Credit Card</td><td>215.94599427938462</td><td>20230121</td><td>10</td><td>Michael Wilson</td><td>michael.wilson@gm...</td><td>64</td><td>2</td></tr>\n",
       "<tr><td>trx-766570299689</td><td>5.0</td><td>6</td><td>0.05</td><td>Cash</td><td>227.9429971396923</td><td>20230121</td><td>16</td><td>Michael Wilson</td><td>michael.wilson@gm...</td><td>64</td><td>3</td></tr>\n",
       "<tr><td>trx-023095954247</td><td>3.0</td><td>4</td><td>0.0</td><td>Cash</td><td>79.96</td><td>20230121</td><td>28</td><td>Michael Wilson</td><td>michael.wilson@gm...</td><td>64</td><td>6</td></tr>\n",
       "<tr><td>trx-441661829005</td><td>9.0</td><td>3</td><td>0.0</td><td>Cash</td><td>2699.9700000000003</td><td>20230121</td><td>11</td><td>Michael Wilson</td><td>michael.wilson@gm...</td><td>64</td><td>2</td></tr>\n",
       "<tr><td>trx-486427858903</td><td>10.0</td><td>9</td><td>0.1</td><td>Cash</td><td>4049.918892713785</td><td>20230121</td><td>25</td><td>Michael Wilson</td><td>michael.wilson@gm...</td><td>64</td><td>1</td></tr>\n",
       "<tr><td>trx-457213934101</td><td>5.0</td><td>1</td><td>0.15</td><td>Credit Card</td><td>127.49150357604027</td><td>20230501</td><td>18</td><td>Michael Wilson</td><td>michael.wilson@gm...</td><td>64</td><td>2</td></tr>\n",
       "<tr><td>trx-399915651459</td><td>1.0</td><td>6</td><td>0.2</td><td>Cash</td><td>959.9520143043995</td><td>20230501</td><td>26</td><td>Michael Wilson</td><td>michael.wilson@gm...</td><td>64</td><td>3</td></tr>\n",
       "<tr><td>trx-639468939079</td><td>2.0</td><td>5</td><td>0.0</td><td>Cash</td><td>399.95</td><td>20230501</td><td>8</td><td>Michael Wilson</td><td>michael.wilson@gm...</td><td>64</td><td>5</td></tr>\n",
       "<tr><td>trx-274247034282</td><td>2.0</td><td>5</td><td>0.2</td><td>Cash</td><td>239.96000357568263</td><td>20230501</td><td>20</td><td>Michael Wilson</td><td>michael.wilson@gm...</td><td>64</td><td>6</td></tr>\n",
       "<tr><td>trx-248537789703</td><td>8.0</td><td>4</td><td>0.05</td><td>Credit Card</td><td>3419.961957085133</td><td>20230501</td><td>11</td><td>Michael Wilson</td><td>michael.wilson@gm...</td><td>64</td><td>4</td></tr>\n",
       "<tr><td>trx-026524495372</td><td>11.0</td><td>2</td><td>0.0</td><td>Cash</td><td>59.98</td><td>20230501</td><td>17</td><td>Michael Wilson</td><td>michael.wilson@gm...</td><td>64</td><td>1</td></tr>\n",
       "<tr><td>trx-769359584658</td><td>11.0</td><td>4</td><td>0.1</td><td>Credit Card</td><td>143.96399618625642</td><td>20230501</td><td>29</td><td>Michael Wilson</td><td>michael.wilson@gm...</td><td>64</td><td>2</td></tr>\n",
       "</table>\n",
       "only showing top 20 rows\n"
      ],
      "text/plain": [
       "+----------------+--------------+-----+--------+--------------+------------------+--------+-----------+--------------+--------------------+------------+----------+\n",
       "|  transaction_id|sales_agent_id|units|discount|payment_method|       total_price|date_key|product_key| customer_name|       cleaned_email|customer_key|branch_key|\n",
       "+----------------+--------------+-----+--------+--------------+------------------+--------+-----------+--------------+--------------------+------------+----------+\n",
       "|trx-529404741041|           4.0|    2|     0.0|          Cash|            259.98|20220417|         21|Michael Wilson|michael.wilson@gm...|          64|         1|\n",
       "|trx-851352592156|           1.0|    3|     0.1|          Cash|107.97299713969231|20220417|         16|Michael Wilson|michael.wilson@gm...|          64|         5|\n",
       "|trx-056857976731|           6.0|    1|    0.05|          Cash| 379.9904952317476|20220417|         14|Michael Wilson|michael.wilson@gm...|          64|         2|\n",
       "|trx-689950066124|           8.0|    4|    0.15|          Cash|2379.9660667562484|20220417|          2|Michael Wilson|michael.wilson@gm...|          64|         3|\n",
       "|trx-997480538575|          10.0|    5|     0.0|          Cash|            649.95|20220417|         21|Michael Wilson|michael.wilson@gm...|          64|         4|\n",
       "|trx-785956713142|           3.0|    7|     0.2|   Credit Card|  727.944010847211|20220417|         21|Michael Wilson|michael.wilson@gm...|          64|         1|\n",
       "|trx-249207337423|           4.0|    8|     0.0|          Cash|            479.92|20220417|          7|Michael Wilson|michael.wilson@gm...|          64|         5|\n",
       "|trx-730939790801|           4.0|    3|     0.2|   Credit Card|479.97600715219977|20220611|         26|Michael Wilson|michael.wilson@gm...|          64|         4|\n",
       "|trx-031075541928|           7.0|    1|     0.0|          Cash|             79.99|20220611|         22|Michael Wilson|michael.wilson@gm...|          64|         3|\n",
       "|trx-854054872535|           7.0|    6|     0.0|   Credit Card|5399.9400000000005|20220611|         11|Michael Wilson|michael.wilson@gm...|          64|         3|\n",
       "|trx-113821332294|           8.0|    6|     0.0|   Credit Card| 599.9399999999999|20220611|          4|Michael Wilson|michael.wilson@gm...|          64|         3|\n",
       "|trx-689026840018|           6.0|    1|     0.0|   Credit Card|            499.99|20220611|         25|Michael Wilson|michael.wilson@gm...|          64|         3|\n",
       "|trx-234454794766|           9.0|    6|     0.0|          Cash|           2399.94|20220611|         14|Michael Wilson|michael.wilson@gm...|          64|         5|\n",
       "|trx-549750025827|           6.0|    6|     0.0|          Cash|            179.94|20230405|         27|Michael Wilson|michael.wilson@gm...|          64|         1|\n",
       "|trx-836435734184|           3.0|    8|     0.0|          Cash|            239.92|20230405|         19|Michael Wilson|michael.wilson@gm...|          64|         2|\n",
       "|trx-898716294389|           1.0|    5|     0.1|          Cash|179.95499523282052|20230405|         23|Michael Wilson|michael.wilson@gm...|          64|         4|\n",
       "|trx-364228058787|           5.0|    7|     0.2|          Cash| 559.9440083438158|20230405|          4|Michael Wilson|michael.wilson@gm...|          64|         5|\n",
       "|trx-254809886548|           5.0|    1|     0.0|          Cash|             39.99|20230405|         29|Michael Wilson|michael.wilson@gm...|          64|         1|\n",
       "|trx-055421518782|           4.0|    2|     0.0|          Cash|             79.98|20230405|         16|Michael Wilson|michael.wilson@gm...|          64|         6|\n",
       "|trx-134581743940|           6.0|    1|    0.05|          Cash|142.49049821197988|20230405|         13|Michael Wilson|michael.wilson@gm...|          64|         3|\n",
       "+----------------+--------------+-----+--------+--------------+------------------+--------+-----------+--------------+--------------------+------------+----------+\n",
       "only showing top 20 rows"
      ]
     },
     "execution_count": 98,
     "metadata": {},
     "output_type": "execute_result"
    }
   ],
   "source": [
    "offline_fact_df=offline_fact_df.drop(\"branch_class\", \"branch_establish_date\", \"branch_location\",\"branch_id\")\n",
    "offline_fact_df.coalesce(1)"
   ]
  },
  {
   "cell_type": "code",
   "execution_count": 99,
   "id": "9e83689b-0540-4da4-98b4-fba89ff1d049",
   "metadata": {
    "collapsed": true,
    "jupyter": {
     "outputs_hidden": true
    },
    "tags": []
   },
   "outputs": [
    {
     "name": "stdout",
     "output_type": "stream",
     "text": [
      "+--------------+---------------------+------------------+\n",
      "|sales_agent_id|sales_agent_hire_date|  sales_agent_name|\n",
      "+--------------+---------------------+------------------+\n",
      "|           1.0|           2020-06-10|          John Doe|\n",
      "|           9.0|           2019-07-19|   Daniel Martinez|\n",
      "|          10.0|           2019-11-10|      Sophia Moore|\n",
      "|           5.0|           2020-06-23|      David Wilson|\n",
      "|           6.0|           2018-08-09|       Emma Taylor|\n",
      "|           4.0|           2018-11-12|       Emily Brown|\n",
      "|           7.0|           2018-07-05|Christopher Miller|\n",
      "|          11.0|           2018-07-10|         john wick|\n",
      "|           2.0|           2021-06-08|        Jane Smith|\n",
      "|           8.0|           2019-12-08|      Olivia Davis|\n",
      "|           3.0|           2019-07-22|   Michael Johnson|\n",
      "+--------------+---------------------+------------------+\n",
      "\n"
     ]
    }
   ],
   "source": [
    "sales_agent_dim_df=offline_merged_df.select(\n",
    "    col(\"sales_agent_id\"),\n",
    "    col(\"sales_agent_hire_date\"),\n",
    "    col(\"sales_agent_name\")).dropDuplicates([\"sales_agent_id\"])\n",
    "\n",
    "sales_agent_dim_df.show()"
   ]
  },
  {
   "cell_type": "code",
   "execution_count": 100,
   "id": "6cbd0c75-b1ee-41f3-8b52-b5b00efb2c8b",
   "metadata": {
    "collapsed": true,
    "jupyter": {
     "outputs_hidden": true
    },
    "tags": []
   },
   "outputs": [
    {
     "data": {
      "text/html": [
       "<table border='1'>\n",
       "<tr><th>sales_agent_id</th><th>sales_agent_hire_date</th><th>sales_agent_name</th><th>sales_agent_key</th></tr>\n",
       "<tr><td>1.0</td><td>2020-06-10</td><td>John Doe</td><td>1</td></tr>\n",
       "<tr><td>10.0</td><td>2019-11-10</td><td>Sophia Moore</td><td>2</td></tr>\n",
       "<tr><td>11.0</td><td>2018-07-10</td><td>john wick</td><td>3</td></tr>\n",
       "<tr><td>2.0</td><td>2021-06-08</td><td>Jane Smith</td><td>4</td></tr>\n",
       "<tr><td>3.0</td><td>2019-07-22</td><td>Michael Johnson</td><td>5</td></tr>\n",
       "<tr><td>4.0</td><td>2018-11-12</td><td>Emily Brown</td><td>6</td></tr>\n",
       "<tr><td>5.0</td><td>2020-06-23</td><td>David Wilson</td><td>7</td></tr>\n",
       "<tr><td>6.0</td><td>2018-08-09</td><td>Emma Taylor</td><td>8</td></tr>\n",
       "<tr><td>7.0</td><td>2018-07-05</td><td>Christopher Miller</td><td>9</td></tr>\n",
       "<tr><td>8.0</td><td>2019-12-08</td><td>Olivia Davis</td><td>10</td></tr>\n",
       "<tr><td>9.0</td><td>2019-07-19</td><td>Daniel Martinez</td><td>11</td></tr>\n",
       "</table>\n"
      ],
      "text/plain": [
       "+--------------+---------------------+------------------+---------------+\n",
       "|sales_agent_id|sales_agent_hire_date|  sales_agent_name|sales_agent_key|\n",
       "+--------------+---------------------+------------------+---------------+\n",
       "|           1.0|           2020-06-10|          John Doe|              1|\n",
       "|          10.0|           2019-11-10|      Sophia Moore|              2|\n",
       "|          11.0|           2018-07-10|         john wick|              3|\n",
       "|           2.0|           2021-06-08|        Jane Smith|              4|\n",
       "|           3.0|           2019-07-22|   Michael Johnson|              5|\n",
       "|           4.0|           2018-11-12|       Emily Brown|              6|\n",
       "|           5.0|           2020-06-23|      David Wilson|              7|\n",
       "|           6.0|           2018-08-09|       Emma Taylor|              8|\n",
       "|           7.0|           2018-07-05|Christopher Miller|              9|\n",
       "|           8.0|           2019-12-08|      Olivia Davis|             10|\n",
       "|           9.0|           2019-07-19|   Daniel Martinez|             11|\n",
       "+--------------+---------------------+------------------+---------------+"
      ]
     },
     "execution_count": 100,
     "metadata": {},
     "output_type": "execute_result"
    }
   ],
   "source": [
    "# Define a Window specification\n",
    "window_spec = Window.orderBy(\"sales_agent_id\")\n",
    "\n",
    "# Add a product_key column using row_number\n",
    "sales_agent_dim_df = sales_agent_dim_df.withColumn(\"sales_agent_key\", row_number().over(window_spec))\n",
    "\n",
    "sales_agent_dim_df.coalesce(1)"
   ]
  },
  {
   "cell_type": "code",
   "execution_count": 101,
   "id": "742cf06a-7b02-4f0f-9b87-5398c6ca76af",
   "metadata": {},
   "outputs": [],
   "source": [
    "# Write the merged DataFrame to a single CSV file\n",
    "output_path = \"/Graduation_Project/transformed_data/schema/sales_agent_dim.csv\"\n",
    "sales_agent_dim_df.coalesce(1).write.mode('overwrite').csv(output_path, header=True)"
   ]
  },
  {
   "cell_type": "code",
   "execution_count": 102,
   "id": "c2ee49c9-04b1-458f-9f76-821f90c48b15",
   "metadata": {
    "collapsed": true,
    "jupyter": {
     "outputs_hidden": true
    },
    "tags": []
   },
   "outputs": [
    {
     "data": {
      "text/html": [
       "<table border='1'>\n",
       "<tr><th>transaction_id</th><th>sales_agent_id</th><th>units</th><th>discount</th><th>payment_method</th><th>total_price</th><th>date_key</th><th>product_key</th><th>customer_name</th><th>cleaned_email</th><th>customer_key</th><th>branch_key</th><th>sales_agent_id</th><th>sales_agent_hire_date</th><th>sales_agent_name</th><th>sales_agent_key</th></tr>\n",
       "<tr><td>trx-448099421943</td><td>1.0</td><td>5</td><td>0.15</td><td>Credit Card</td><td>339.9575095355511</td><td>20230417</td><td>22</td><td>Olivia Taylor</td><td>olivia.taylor@out...</td><td>59</td><td>2</td><td>1.0</td><td>2020-06-10</td><td>John Doe</td><td>1</td></tr>\n",
       "<tr><td>trx-406663335952</td><td>1.0</td><td>4</td><td>0.0</td><td>Credit Card</td><td>519.96</td><td>20230421</td><td>9</td><td>Olivia Taylor</td><td>olivia.taylor@out...</td><td>59</td><td>5</td><td>1.0</td><td>2020-06-10</td><td>John Doe</td><td>1</td></tr>\n",
       "<tr><td>trx-813287633702</td><td>1.0</td><td>4</td><td>0.0</td><td>Cash</td><td>799.96</td><td>20230428</td><td>26</td><td>Olivia Taylor</td><td>olivia.taylor@out...</td><td>59</td><td>1</td><td>1.0</td><td>2020-06-10</td><td>John Doe</td><td>1</td></tr>\n",
       "<tr><td>trx-813287633702</td><td>1.0</td><td>4</td><td>0.0</td><td>Cash</td><td>799.96</td><td>20230428</td><td>26</td><td>Olivia Taylor</td><td>olivia.taylor@out...</td><td>59</td><td>1</td><td>1.0</td><td>2020-06-10</td><td>John Doe</td><td>1</td></tr>\n",
       "<tr><td>trx-228542307923</td><td>1.0</td><td>7</td><td>0.0</td><td>Credit Card</td><td>209.92999999999998</td><td>20230607</td><td>15</td><td>Olivia Taylor</td><td>olivia.taylor@out...</td><td>59</td><td>5</td><td>1.0</td><td>2020-06-10</td><td>John Doe</td><td>1</td></tr>\n",
       "<tr><td>trx-903716220298</td><td>1.0</td><td>4</td><td>0.2</td><td>Credit Card</td><td>415.9680061984063</td><td>20230310</td><td>9</td><td>Olivia Taylor</td><td>olivia.taylor@out...</td><td>59</td><td>1</td><td>1.0</td><td>2020-06-10</td><td>John Doe</td><td>1</td></tr>\n",
       "<tr><td>trx-440880859229</td><td>1.0</td><td>7</td><td>0.0</td><td>Credit Card</td><td>279.93</td><td>20230721</td><td>16</td><td>Olivia Taylor</td><td>olivia.taylor@out...</td><td>59</td><td>2</td><td>1.0</td><td>2020-06-10</td><td>John Doe</td><td>1</td></tr>\n",
       "<tr><td>trx-461132132500</td><td>1.0</td><td>1</td><td>0.05</td><td>Credit Card</td><td>47.490499404072764</td><td>20220321</td><td>24</td><td>Olivia Taylor</td><td>olivia.taylor@out...</td><td>59</td><td>4</td><td>1.0</td><td>2020-06-10</td><td>John Doe</td><td>1</td></tr>\n",
       "<tr><td>trx-037068981368</td><td>1.0</td><td>3</td><td>0.0</td><td>Cash</td><td>2999.9700000000003</td><td>20220321</td><td>1</td><td>Olivia Taylor</td><td>olivia.taylor@out...</td><td>59</td><td>3</td><td>1.0</td><td>2020-06-10</td><td>John Doe</td><td>1</td></tr>\n",
       "<tr><td>trx-382553805112</td><td>1.0</td><td>4</td><td>0.05</td><td>Cash</td><td>303.9619961857795</td><td>20220723</td><td>8</td><td>Olivia Taylor</td><td>olivia.taylor@out...</td><td>59</td><td>5</td><td>1.0</td><td>2020-06-10</td><td>John Doe</td><td>1</td></tr>\n",
       "<tr><td>trx-680007875409</td><td>1.0</td><td>6</td><td>0.15</td><td>Cash</td><td>407.94901144266123</td><td>20220723</td><td>8</td><td>Olivia Taylor</td><td>olivia.taylor@out...</td><td>59</td><td>6</td><td>1.0</td><td>2020-06-10</td><td>John Doe</td><td>1</td></tr>\n",
       "<tr><td>trx-349999313726</td><td>1.0</td><td>8</td><td>0.0</td><td>Credit Card</td><td>3199.92</td><td>20221024</td><td>14</td><td>Olivia Taylor</td><td>olivia.taylor@out...</td><td>59</td><td>1</td><td>1.0</td><td>2020-06-10</td><td>John Doe</td><td>1</td></tr>\n",
       "<tr><td>trx-421247712910</td><td>1.0</td><td>9</td><td>0.0</td><td>Cash</td><td>2699.91</td><td>20221024</td><td>3</td><td>Olivia Taylor</td><td>olivia.taylor@out...</td><td>59</td><td>6</td><td>1.0</td><td>2020-06-10</td><td>John Doe</td><td>1</td></tr>\n",
       "<tr><td>trx-549556147501</td><td>1.0</td><td>8</td><td>0.0</td><td>Credit Card</td><td>1199.92</td><td>20221024</td><td>13</td><td>Olivia Taylor</td><td>olivia.taylor@out...</td><td>59</td><td>5</td><td>1.0</td><td>2020-06-10</td><td>John Doe</td><td>1</td></tr>\n",
       "<tr><td>trx-710894619087</td><td>1.0</td><td>8</td><td>0.1</td><td>Cash</td><td>575.9279847431183</td><td>20230514</td><td>8</td><td>Olivia Taylor</td><td>olivia.taylor@out...</td><td>59</td><td>5</td><td>1.0</td><td>2020-06-10</td><td>John Doe</td><td>1</td></tr>\n",
       "<tr><td>trx-078521076541</td><td>1.0</td><td>1</td><td>0.05</td><td>Cash</td><td>18.99049976170063</td><td>20231107</td><td>28</td><td>Olivia Taylor</td><td>olivia.taylor@out...</td><td>59</td><td>6</td><td>1.0</td><td>2020-06-10</td><td>John Doe</td><td>1</td></tr>\n",
       "<tr><td>trx-581858005781</td><td>1.0</td><td>4</td><td>0.0</td><td>Credit Card</td><td>799.96</td><td>20221109</td><td>26</td><td>Olivia Taylor</td><td>olivia.taylor@out...</td><td>59</td><td>4</td><td>1.0</td><td>2020-06-10</td><td>John Doe</td><td>1</td></tr>\n",
       "<tr><td>trx-317270276467</td><td>1.0</td><td>6</td><td>0.0</td><td>Cash</td><td>899.94</td><td>20221214</td><td>18</td><td>Olivia Taylor</td><td>olivia.taylor@out...</td><td>59</td><td>3</td><td>1.0</td><td>2020-06-10</td><td>John Doe</td><td>1</td></tr>\n",
       "<tr><td>trx-104380311276</td><td>1.0</td><td>2</td><td>0.0</td><td>Cash</td><td>259.98</td><td>20221214</td><td>21</td><td>Olivia Taylor</td><td>olivia.taylor@out...</td><td>59</td><td>3</td><td>1.0</td><td>2020-06-10</td><td>John Doe</td><td>1</td></tr>\n",
       "<tr><td>trx-894848660672</td><td>1.0</td><td>4</td><td>0.0</td><td>Credit Card</td><td>99.96</td><td>20221214</td><td>30</td><td>Olivia Taylor</td><td>olivia.taylor@out...</td><td>59</td><td>4</td><td>1.0</td><td>2020-06-10</td><td>John Doe</td><td>1</td></tr>\n",
       "</table>\n",
       "only showing top 20 rows\n"
      ],
      "text/plain": [
       "+----------------+--------------+-----+--------+--------------+------------------+--------+-----------+--------------+--------------------+------------+----------+--------------+---------------------+----------------+---------------+\n",
       "|  transaction_id|sales_agent_id|units|discount|payment_method|       total_price|date_key|product_key| customer_name|       cleaned_email|customer_key|branch_key|sales_agent_id|sales_agent_hire_date|sales_agent_name|sales_agent_key|\n",
       "+----------------+--------------+-----+--------+--------------+------------------+--------+-----------+--------------+--------------------+------------+----------+--------------+---------------------+----------------+---------------+\n",
       "|trx-289127765128|           1.0|    5|    0.15|   Credit Card| 212.4575059592724|20231023|         24|Michael Wilson|michael.wilson@gm...|          64|         4|           1.0|           2020-06-10|        John Doe|              1|\n",
       "|trx-056802898526|           1.0|    4|     0.2|          Cash| 959.9680143046379|20231023|          3|Michael Wilson|michael.wilson@gm...|          64|         2|           1.0|           2020-06-10|        John Doe|              1|\n",
       "|trx-196446387014|           1.0|    9|    0.15|          Cash|229.42350643515584|20220909|         17|Michael Wilson|michael.wilson@gm...|          64|         4|           1.0|           2020-06-10|        John Doe|              1|\n",
       "|trx-289381747639|           1.0|    2|     0.0|   Credit Card|             99.98|20220328|         24|Michael Wilson|michael.wilson@gm...|          64|         3|           1.0|           2020-06-10|        John Doe|              1|\n",
       "|trx-035406685771|           1.0|    2|     0.2|   Credit Card|479.98400715231895|20220328|          3|Michael Wilson|michael.wilson@gm...|          64|         1|           1.0|           2020-06-10|        John Doe|              1|\n",
       "|trx-381882922314|           1.0|    8|     0.1|   Credit Card| 575.9279847431183|20220326|         22|Michael Wilson|michael.wilson@gm...|          64|         2|           1.0|           2020-06-10|        John Doe|              1|\n",
       "|trx-684949260409|           1.0|    1|     0.1|          Cash|35.990999046564106|20220616|         29|Michael Wilson|michael.wilson@gm...|          64|         4|           1.0|           2020-06-10|        John Doe|              1|\n",
       "|trx-569371592421|           1.0|    7|     0.0|   Credit Card|            699.93|20230724|          4|Michael Wilson|michael.wilson@gm...|          64|         4|           1.0|           2020-06-10|        John Doe|              1|\n",
       "|trx-428985307459|           1.0|    2|     0.0|   Credit Card|           1999.98|20220226|          1|Michael Wilson|michael.wilson@gm...|          64|         3|           1.0|           2020-06-10|        John Doe|              1|\n",
       "|trx-252148186648|           1.0|    6|     0.0|          Cash|            239.94|20230108|         29|Michael Wilson|michael.wilson@gm...|          64|         2|           1.0|           2020-06-10|        John Doe|              1|\n",
       "|trx-201157300267|           1.0|    3|     0.2|   Credit Card| 719.9760107284784|20230108|         12|Michael Wilson|michael.wilson@gm...|          64|         2|           1.0|           2020-06-10|        John Doe|              1|\n",
       "|trx-887993269666|           1.0|    4|     0.0|   Credit Card|            519.96|20230118|         21|Michael Wilson|michael.wilson@gm...|          64|         5|           1.0|           2020-06-10|        John Doe|              1|\n",
       "|trx-472297038843|           1.0|    8|     0.0|          Cash|           2399.92|20221021|         12|Michael Wilson|michael.wilson@gm...|          64|         4|           1.0|           2020-06-10|        John Doe|              1|\n",
       "|trx-400492522998|           1.0|   10|     0.0|   Credit Card|            1499.9|20221204|         18|Michael Wilson|michael.wilson@gm...|          64|         1|           1.0|           2020-06-10|        John Doe|              1|\n",
       "|trx-375454375172|           1.0|   10|     0.0|   Credit Card|             299.9|20230226|         15|Michael Wilson|michael.wilson@gm...|          64|         3|           1.0|           2020-06-10|        John Doe|              1|\n",
       "|trx-641369541127|           1.0|    8|     0.0|          Cash|            479.92|20220622|          7|Michael Wilson|michael.wilson@gm...|          64|         6|           1.0|           2020-06-10|        John Doe|              1|\n",
       "|trx-483537571528|           1.0|    9|     0.2|   Credit Card|  935.928013946414|20220622|         21|Michael Wilson|michael.wilson@gm...|          64|         6|           1.0|           2020-06-10|        John Doe|              1|\n",
       "|trx-203465158812|           1.0|    4|    0.05|   Credit Card|1519.9619809269905|20230819|         14|Michael Wilson|michael.wilson@gm...|          64|         3|           1.0|           2020-06-10|        John Doe|              1|\n",
       "|trx-203465158812|           1.0|    4|    0.05|   Credit Card|1519.9619809269905|20230819|         14|Michael Wilson|michael.wilson@gm...|          64|         3|           1.0|           2020-06-10|        John Doe|              1|\n",
       "|trx-700321934046|           1.0|    5|     0.0|          Cash|124.94999999999999|20230224|         30|Michael Wilson|michael.wilson@gm...|          64|         1|           1.0|           2020-06-10|        John Doe|              1|\n",
       "+----------------+--------------+-----+--------+--------------+------------------+--------+-----------+--------------+--------------------+------------+----------+--------------+---------------------+----------------+---------------+\n",
       "only showing top 20 rows"
      ]
     },
     "execution_count": 102,
     "metadata": {},
     "output_type": "execute_result"
    }
   ],
   "source": [
    "# Perform an inner join on transaction_date and date\n",
    "offline_fact_df = offline_fact_df.join(sales_agent_dim_df, offline_fact_df[\"sales_agent_id\"] == sales_agent_dim_df[\"sales_agent_id\"], \"inner\")\n",
    "offline_fact_df.coalesce(1)"
   ]
  },
  {
   "cell_type": "code",
   "execution_count": 103,
   "id": "b3847753-40b0-4a2f-a890-25f2c4bb6b93",
   "metadata": {
    "collapsed": true,
    "jupyter": {
     "outputs_hidden": true
    },
    "tags": []
   },
   "outputs": [
    {
     "data": {
      "text/html": [
       "<table border='1'>\n",
       "<tr><th>transaction_id</th><th>units</th><th>discount</th><th>payment_method</th><th>total_price</th><th>date_key</th><th>product_key</th><th>customer_name</th><th>cleaned_email</th><th>customer_key</th><th>branch_key</th><th>sales_agent_key</th></tr>\n",
       "<tr><td>trx-444160413883</td><td>3</td><td>0.15</td><td>Cash</td><td>50.97450142979622</td><td>20221007</td><td>28</td><td>Ava Jones</td><td>ava.jones@yahoo.com</td><td>64</td><td>4</td><td>11</td></tr>\n",
       "<tr><td>trx-165719496429</td><td>8</td><td>0.0</td><td>Credit Card</td><td>799.92</td><td>20221007</td><td>4</td><td>Ava Jones</td><td>ava.jones@yahoo.com</td><td>64</td><td>6</td><td>2</td></tr>\n",
       "<tr><td>trx-214614885507</td><td>3</td><td>0.0</td><td>Credit Card</td><td>389.97</td><td>20221007</td><td>9</td><td>Ava Jones</td><td>ava.jones@yahoo.com</td><td>64</td><td>3</td><td>8</td></tr>\n",
       "<tr><td>trx-207212358314</td><td>7</td><td>0.0</td><td>Credit Card</td><td>1049.93</td><td>20221007</td><td>13</td><td>Ava Jones</td><td>ava.jones@yahoo.com</td><td>64</td><td>5</td><td>7</td></tr>\n",
       "<tr><td>trx-792804914907</td><td>4</td><td>0.2</td><td>Cash</td><td>639.9680095362663</td><td>20221007</td><td>26</td><td>Ava Jones</td><td>ava.jones@yahoo.com</td><td>64</td><td>2</td><td>7</td></tr>\n",
       "<tr><td>trx-272573559115</td><td>3</td><td>0.1</td><td>Cash</td><td>269.97299284815784</td><td>20221007</td><td>4</td><td>Ava Jones</td><td>ava.jones@yahoo.com</td><td>64</td><td>1</td><td>8</td></tr>\n",
       "<tr><td>trx-998492206833</td><td>9</td><td>0.0</td><td>Cash</td><td>269.90999999999997</td><td>20221007</td><td>19</td><td>Ava Jones</td><td>ava.jones@yahoo.com</td><td>64</td><td>4</td><td>10</td></tr>\n",
       "<tr><td>trx-459173050315</td><td>6</td><td>0.0</td><td>Cash</td><td>1799.94</td><td>20221007</td><td>12</td><td>Ava Jones</td><td>ava.jones@yahoo.com</td><td>64</td><td>2</td><td>6</td></tr>\n",
       "<tr><td>trx-375078371845</td><td>10</td><td>0.0</td><td>Credit Card</td><td>399.90000000000003</td><td>20221007</td><td>16</td><td>Ava Jones</td><td>ava.jones@yahoo.com</td><td>64</td><td>5</td><td>7</td></tr>\n",
       "<tr><td>trx-836483831918</td><td>6</td><td>0.0</td><td>Credit Card</td><td>899.94</td><td>20230417</td><td>13</td><td>Ava Jones</td><td>ava.jones@yahoo.com</td><td>64</td><td>6</td><td>11</td></tr>\n",
       "<tr><td>trx-994279943048</td><td>8</td><td>0.05</td><td>Cash</td><td>227.92399713993072</td><td>20230417</td><td>19</td><td>Ava Jones</td><td>ava.jones@yahoo.com</td><td>64</td><td>1</td><td>8</td></tr>\n",
       "<tr><td>trx-279101495530</td><td>9</td><td>0.1</td><td>Cash</td><td>202.41899463772774</td><td>20230417</td><td>30</td><td>Ava Jones</td><td>ava.jones@yahoo.com</td><td>64</td><td>6</td><td>6</td></tr>\n",
       "<tr><td>trx-108602900119</td><td>5</td><td>0.0</td><td>Cash</td><td>649.95</td><td>20230417</td><td>21</td><td>Ava Jones</td><td>ava.jones@yahoo.com</td><td>64</td><td>5</td><td>9</td></tr>\n",
       "<tr><td>trx-626635727281</td><td>3</td><td>0.0</td><td>Cash</td><td>449.97</td><td>20230417</td><td>13</td><td>Ava Jones</td><td>ava.jones@yahoo.com</td><td>64</td><td>6</td><td>9</td></tr>\n",
       "<tr><td>trx-469453917875</td><td>5</td><td>0.05</td><td>Credit Card</td><td>189.95249761641028</td><td>20230417</td><td>23</td><td>Ava Jones</td><td>ava.jones@yahoo.com</td><td>64</td><td>3</td><td>1</td></tr>\n",
       "<tr><td>trx-426484211014</td><td>8</td><td>0.0</td><td>Cash</td><td>7199.92</td><td>20230421</td><td>11</td><td>Ava Jones</td><td>ava.jones@yahoo.com</td><td>64</td><td>4</td><td>8</td></tr>\n",
       "<tr><td>trx-862321314733</td><td>10</td><td>0.0</td><td>Credit Card</td><td>1499.9</td><td>20230421</td><td>18</td><td>Ava Jones</td><td>ava.jones@yahoo.com</td><td>64</td><td>6</td><td>7</td></tr>\n",
       "<tr><td>trx-133342023801</td><td>10</td><td>0.2</td><td>Credit Card</td><td>639.920009535551</td><td>20230421</td><td>8</td><td>Ava Jones</td><td>ava.jones@yahoo.com</td><td>64</td><td>2</td><td>2</td></tr>\n",
       "<tr><td>trx-540910215085</td><td>6</td><td>0.1</td><td>Cash</td><td>539.9459856963157</td><td>20230421</td><td>4</td><td>Ava Jones</td><td>ava.jones@yahoo.com</td><td>64</td><td>4</td><td>2</td></tr>\n",
       "<tr><td>trx-270304162576</td><td>6</td><td>0.15</td><td>Credit Card</td><td>254.94900715112686</td><td>20230421</td><td>24</td><td>Ava Jones</td><td>ava.jones@yahoo.com</td><td>64</td><td>6</td><td>11</td></tr>\n",
       "</table>\n",
       "only showing top 20 rows\n"
      ],
      "text/plain": [
       "+----------------+-----+--------+--------------+------------------+--------+-----------+--------------+--------------------+------------+----------+---------------+\n",
       "|  transaction_id|units|discount|payment_method|       total_price|date_key|product_key| customer_name|       cleaned_email|customer_key|branch_key|sales_agent_key|\n",
       "+----------------+-----+--------+--------------+------------------+--------+-----------+--------------+--------------------+------------+----------+---------------+\n",
       "|trx-209702051200|    5|     0.0|          Cash|           1499.95|20221005|         12|Michael Wilson|michael.wilson@gm...|          64|         1|              3|\n",
       "|trx-267818677599|    5|     0.0|   Credit Card|            399.95|20221005|         22|Michael Wilson|michael.wilson@gm...|          64|         2|              5|\n",
       "|trx-956064519174|    5|     0.0|          Cash|199.95000000000002|20221005|         29|Michael Wilson|michael.wilson@gm...|          64|         3|              3|\n",
       "|trx-480863914129|    2|     0.0|   Credit Card|             79.98|20221005|         29|Michael Wilson|michael.wilson@gm...|          64|         1|              3|\n",
       "|trx-288544269912|    4|     0.2|   Credit Card|2879.9680429148675|20221005|         11|Michael Wilson|michael.wilson@gm...|          64|         2|              4|\n",
       "|trx-453952256916|    2|     0.0|          Cash|             79.98|20221005|         10|Michael Wilson|michael.wilson@gm...|          64|         6|              7|\n",
       "|trx-320018303559|   10|     0.2|          Cash|319.92000476717953|20221005|         10|Michael Wilson|michael.wilson@gm...|          64|         4|              9|\n",
       "|trx-024932783521|    6|     0.0|          Cash|           2999.94|20221005|         25|Michael Wilson|michael.wilson@gm...|          64|         3|              1|\n",
       "|trx-766570299689|    6|    0.05|          Cash| 227.9429971396923|20230121|         16|Michael Wilson|michael.wilson@gm...|          64|         3|              7|\n",
       "|trx-023095954247|    4|     0.0|          Cash|             79.96|20230121|         28|Michael Wilson|michael.wilson@gm...|          64|         6|              5|\n",
       "|trx-441661829005|    3|     0.0|          Cash|2699.9700000000003|20230121|         11|Michael Wilson|michael.wilson@gm...|          64|         2|             11|\n",
       "|trx-486427858903|    9|     0.1|          Cash| 4049.918892713785|20230121|         25|Michael Wilson|michael.wilson@gm...|          64|         1|              2|\n",
       "|trx-112384316514|    6|     0.1|   Credit Card|215.94599427938462|20230121|         10|Michael Wilson|michael.wilson@gm...|          64|         2|              4|\n",
       "|trx-274247034282|    5|     0.2|          Cash|239.96000357568263|20230501|         20|Michael Wilson|michael.wilson@gm...|          64|         6|              4|\n",
       "|trx-248537789703|    4|    0.05|   Credit Card| 3419.961957085133|20230501|         11|Michael Wilson|michael.wilson@gm...|          64|         4|             10|\n",
       "|trx-026524495372|    2|     0.0|          Cash|             59.98|20230501|         17|Michael Wilson|michael.wilson@gm...|          64|         1|              3|\n",
       "|trx-769359584658|    4|     0.1|   Credit Card|143.96399618625642|20230501|         29|Michael Wilson|michael.wilson@gm...|          64|         2|              3|\n",
       "|trx-363214703408|    3|     0.1|          Cash|107.97299713969231|20230501|         29|Michael Wilson|michael.wilson@gm...|          64|         2|              8|\n",
       "|trx-935715853571|    3|     0.1|   Credit Card|1079.9729713904858|20230501|         14|Michael Wilson|michael.wilson@gm...|          64|         5|              2|\n",
       "|trx-315529317928|    3|     0.0|   Credit Card|            149.97|20230501|         24|Michael Wilson|michael.wilson@gm...|          64|         4|              4|\n",
       "+----------------+-----+--------+--------------+------------------+--------+-----------+--------------+--------------------+------------+----------+---------------+\n",
       "only showing top 20 rows"
      ]
     },
     "execution_count": 103,
     "metadata": {},
     "output_type": "execute_result"
    }
   ],
   "source": [
    "offline_fact_df=offline_fact_df.drop(\"sales_agent_id\",\"sales_agent_name\",\"sales_agent_hire_date\")\n",
    "offline_fact_df.coalesce(1)"
   ]
  },
  {
   "cell_type": "code",
   "execution_count": 104,
   "id": "daac4eb7-514b-499e-bab6-47ee711eb27f",
   "metadata": {},
   "outputs": [],
   "source": [
    "# Write the merged DataFrame to a single CSV file\n",
    "output_path = \"/Graduation_Project/transformed_data/schema/offline_transactions_fact.csv\"\n",
    "offline_fact_df.coalesce(1).write.mode('overwrite').csv(output_path, header=True)"
   ]
  },
  {
   "cell_type": "code",
   "execution_count": 105,
   "id": "bcc3419c-ca23-4b2d-9eed-049b24e266e4",
   "metadata": {},
   "outputs": [],
   "source": [
    "# Write the merged DataFrame to a single CSV file\n",
    "output_path = \"/Graduation_Project/transformed_data/schema/online_transactions_fact.csv\"\n",
    "online_fact_df.coalesce(1).write.mode('overwrite').csv(output_path, header=True)"
   ]
  },
  {
   "cell_type": "code",
   "execution_count": 106,
   "id": "befd26ca-575e-4b57-b13a-436c85ce36e2",
   "metadata": {},
   "outputs": [
    {
     "data": {
      "text/plain": [
       "52500"
      ]
     },
     "execution_count": 106,
     "metadata": {},
     "output_type": "execute_result"
    }
   ],
   "source": [
    "online_fact_df.count()"
   ]
  },
  {
   "cell_type": "code",
   "execution_count": 107,
   "id": "9a5e5bae-d95b-4d79-809a-5306c4fa4504",
   "metadata": {
    "collapsed": true,
    "jupyter": {
     "outputs_hidden": true
    },
    "tags": []
   },
   "outputs": [
    {
     "data": {
      "text/plain": [
       "505000"
      ]
     },
     "execution_count": 107,
     "metadata": {},
     "output_type": "execute_result"
    }
   ],
   "source": [
    "offline_fact_df.count()"
   ]
  },
  {
   "cell_type": "code",
   "execution_count": 59,
   "id": "768fb0b8-32a9-4241-a048-56ab65b0b4d5",
   "metadata": {},
   "outputs": [
    {
     "name": "stdout",
     "output_type": "stream",
     "text": [
      "Normalized model processing completed successfully.\n"
     ]
    }
   ],
   "source": [
    "from pyspark.sql import SparkSession, DataFrame\n",
    "from pyspark.sql.functions import col, date_format, row_number\n",
    "from pyspark.sql.window import Window\n",
    "from functools import reduce\n",
    "from typing import List, Tuple\n",
    "from utils import Config\n",
    "import os\n",
    "\n",
    "def read_parquet(spark: SparkSession, path: str) -> DataFrame:\n",
    "    return spark.read.parquet(path)\n",
    "\n",
    "def write_parquet(df: DataFrame, path: str) -> None:\n",
    "    df.write.mode('overwrite').parquet(path)\n",
    "\n",
    "def add_surrogate_key(df: DataFrame, key_name: str, order_by: str) -> DataFrame:\n",
    "    window_spec = Window.orderBy(order_by)\n",
    "    return df.withColumn(key_name, row_number().over(window_spec))\n",
    "\n",
    "def process_date_dimension(spark: SparkSession) -> DataFrame:\n",
    "       return read_parquet(spark, \"/user/itversity/q-company_conformed_layer/normalized_model/date_dim/date_dim_table\")\n",
    "\n",
    "def process_product_dimension(df: DataFrame) -> DataFrame:\n",
    "    product_dim = df.select(\"product_id\", \"product_name\", \"product_category\", \"unit_price\").distinct()\n",
    "    return add_surrogate_key(product_dim, \"product_key\", \"product_id\")\n",
    "\n",
    "def process_customer_dimension(df: DataFrame) -> DataFrame:\n",
    "    customer_dim = df.select(\"customer_id\", \"customer_name\", \"customer_email\").distinct()\n",
    "    return add_surrogate_key(customer_dim, \"customer_key\", \"customer_id\")\n",
    "\n",
    "def process_branch_dimension(df: DataFrame) -> DataFrame:\n",
    "    branch_dim = df.select(\"branch_id\", \"branch_location\", \"branch_establish_date\", \"branch_class\").distinct()\n",
    "    return add_surrogate_key(branch_dim, \"branch_key\", \"branch_id\")\n",
    "\n",
    "def process_sales_agent_dimension(df: DataFrame) -> DataFrame:\n",
    "    sales_agent_dim = df.select(\"sales_agent_id\", \"sales_agent_hire_date\", \"sales_agent_name\").distinct()\n",
    "    return add_surrogate_key(sales_agent_dim, \"sales_agent_key\", \"sales_agent_id\")\n",
    "\n",
    "def process_online_fact(online_df: DataFrame, date_df: DataFrame, product_df: DataFrame, customer_df: DataFrame) -> DataFrame:\n",
    "    online_fact = online_df.select(\n",
    "        \"transaction_id\", \"customer_id\", \"product_id\", \"units\", \"unit_price\", \"discount\",\n",
    "        \"payment_method\", \"group\", \"total_price\", \"shipping_zip_code\", \"shipping_state\",\n",
    "        \"shipping_city\", \"shipping_street_name\", date_format(\"transaction_date\", \"yyyy-MM-dd\").alias(\"transaction_date\")\n",
    "    )\n",
    "    \n",
    "    # Join with dimension tables\n",
    "    online_fact = online_fact.join(date_df.select('date_key', 'date'), online_fact[\"transaction_date\"] == date_df[\"date\"], \"inner\") \\\n",
    "                             .join(product_df.select('product_key', 'product_id'), \"product_id\") \\\n",
    "                             .join(customer_df.select('customer_key', 'customer_id'), \"customer_id\")\n",
    "        \n",
    "    # Select final columns\n",
    "    return online_fact.select(\n",
    "        \"transaction_id\", \"customer_key\", \"product_key\", \"date_key\", \"units\", \"unit_price\", \"discount\",\n",
    "        \"payment_method\", \"group\", \"total_price\", \"shipping_zip_code\", \"shipping_state\",\n",
    "        \"shipping_city\", \"shipping_street_name\"\n",
    "    )\n",
    "\n",
    "def process_offline_fact(offline_df: DataFrame, date_df: DataFrame, product_df: DataFrame, customer_df: DataFrame, branch_df: DataFrame, sales_agent_df: DataFrame) -> DataFrame:\n",
    "    offline_fact = offline_df.select(\n",
    "        \"transaction_id\", \"customer_id\", \"sales_agent_id\", \"branch_id\", \"product_id\",\n",
    "        \"units\", \"unit_price\", \"discount\", \"payment_method\", \"total_price\",\n",
    "        date_format(\"transaction_date\", \"yyyy-MM-dd\").alias(\"transaction_date\")\n",
    "    )\n",
    "    \n",
    "    # Join with dimension tables\n",
    "    offline_fact = offline_fact.join(date_df.select('date_key', 'date'), offline_fact[\"transaction_date\"] == date_df[\"date\"], \"inner\") \\\n",
    "                               .join(product_df.select('product_key', 'product_id'), \"product_id\") \\\n",
    "                               .join(customer_df.select('customer_key', 'customer_id'), \"customer_id\") \\\n",
    "                               .join(branch_df.select('branch_key', 'branch_id'), \"branch_id\") \\\n",
    "                               .join(sales_agent_df.select('sales_agent_key', 'sales_agent_id'), \"sales_agent_id\")\n",
    "    \n",
    "    # Select final columns\n",
    "    return offline_fact.select(\n",
    "        \"transaction_id\", \"customer_key\", \"sales_agent_key\", \"branch_key\", \"product_key\", \"date_key\",\n",
    "        \"units\", \"unit_price\", \"discount\", \"payment_method\", \"total_price\", date_format(\"transaction_date\", \"yyyy-MM-dd\").alias(\"transaction_date\")\n",
    "    )\n",
    "\n",
    "def process_dimensions(all_df: DataFrame, offline_df: DataFrame) -> Tuple[DataFrame, DataFrame, DataFrame, DataFrame, DataFrame]:\n",
    "    date_df = process_date_dimension(spark)\n",
    "    product_df = process_product_dimension(all_df)\n",
    "    customer_df = process_customer_dimension(all_df)\n",
    "    branch_df = process_branch_dimension(offline_df)\n",
    "    sales_agent_df = process_sales_agent_dimension(offline_df)\n",
    "    \n",
    "    return date_df, product_df, customer_df, branch_df, sales_agent_df\n",
    "\n",
    "def save_dimensions(dimensions: List[Tuple[str, DataFrame]]) -> None:\n",
    "    for name, df in dimensions:\n",
    "        write_parquet(df, f\"{Config.CONFORMED_NORMALIZED_BASE_PATH}/{name}/{name}\")\n",
    "\n",
    "def main():\n",
    "    spark = create_spark_session()\n",
    "    \n",
    "    try:\n",
    "        # Read denormalized data\n",
    "        online_df = read_parquet(spark, f\"{Config.CONFORMED_DENORMALIZED_BASE_PATH}/online_fact_table/online_merged\")\n",
    "        offline_df = read_parquet(spark, f\"{Config.CONFORMED_DENORMALIZED_BASE_PATH}/offline_fact_table/offline_merged\")\n",
    "        all_df = read_parquet(spark, f\"{Config.CONFORMED_DENORMALIZED_BASE_PATH}/all_sales_fact_table/sales_merged\")\n",
    "        \n",
    "        # Process dimensions\n",
    "        date_df, product_df, customer_df, branch_df, sales_agent_df = process_dimensions(all_df, offline_df)\n",
    "        \n",
    "        # Save dimensions\n",
    "        dimensions = [\n",
    "            (\"product_dim\", product_df),\n",
    "            (\"customer_dim\", customer_df),\n",
    "            (\"branch_dim\", branch_df),\n",
    "            (\"sales_agent_dim\", sales_agent_df)\n",
    "        ]\n",
    "        save_dimensions(dimensions)\n",
    "        \n",
    "        # Process and save fact tables\n",
    "        online_fact = process_online_fact(online_df, date_df, product_df, customer_df)\n",
    "        offline_fact = process_offline_fact(offline_df, date_df, product_df, customer_df, branch_df, sales_agent_df)\n",
    "        \n",
    "        write_parquet(online_fact, f\"{Config.CONFORMED_NORMALIZED_BASE_PATH}/online_sales_fact/online_fact\")\n",
    "        write_parquet(offline_fact, f\"{Config.CONFORMED_NORMALIZED_BASE_PATH}/offline_sales_fact/offline_fact\")\n",
    "        \n",
    "        print(\"Normalized model processing completed successfully.\")\n",
    "    \n",
    "    except Exception as e:\n",
    "        print(f\"An error occurred: {str(e)}\")\n",
    "    finally:\n",
    "        spark.stop()\n",
    "\n",
    "if __name__ == \"__main__\":\n",
    "    main()\n",
    "\n"
   ]
  },
  {
   "cell_type": "code",
   "execution_count": 49,
   "id": "47f39aaa-9807-4631-b433-528c866e8dde",
   "metadata": {},
   "outputs": [],
   "source": [
    "spark.stop()"
   ]
  },
  {
   "cell_type": "code",
   "execution_count": 56,
   "id": "54af1541-9a8c-4256-b3fd-1606d82d97f0",
   "metadata": {},
   "outputs": [],
   "source": [
    "def read_parquet(spark: SparkSession, path: str) -> DataFrame:\n",
    "    return spark.read.parquet(path)\n",
    "\n",
    "def write_parquet(df: DataFrame, path: str) -> None:\n",
    "    df.write.mode('overwrite').parquet(path)\n",
    "\n",
    "def add_surrogate_key(df: DataFrame, key_name: str, order_by: str) -> DataFrame:\n",
    "    window_spec = Window.orderBy(order_by)\n",
    "    return df.withColumn(key_name, row_number().over(window_spec))\n",
    "\n",
    "def process_date_dimension(spark: SparkSession) -> DataFrame:\n",
    "       return read_parquet(spark, \"/user/itversity/q-company_conformed_layer/normalized_model/date_dim/date_dim_table\")\n",
    "\n",
    "def process_product_dimension(df: DataFrame) -> DataFrame:\n",
    "    product_dim = df.select(\"product_id\", \"product_name\", \"product_category\", \"unit_price\").distinct()\n",
    "    return add_surrogate_key(product_dim, \"product_key\", \"product_id\")\n",
    "\n",
    "def process_customer_dimension(df: DataFrame) -> DataFrame:\n",
    "    customer_dim = df.select(\"customer_id\", \"customer_name\", \"customer_email\").distinct()\n",
    "    return add_surrogate_key(customer_dim, \"customer_key\", \"customer_id\")\n",
    "\n",
    "def process_branch_dimension(df: DataFrame) -> DataFrame:\n",
    "    branch_dim = df.select(\"branch_id\", \"branch_location\", \"branch_establish_date\", \"branch_class\").distinct()\n",
    "    return add_surrogate_key(branch_dim, \"branch_key\", \"branch_id\")\n",
    "\n",
    "def process_sales_agent_dimension(df: DataFrame) -> DataFrame:\n",
    "    sales_agent_dim = df.select(\"sales_agent_id\", \"sales_agent_hire_date\", \"sales_agent_name\").distinct()\n",
    "    return add_surrogate_key(sales_agent_dim, \"sales_agent_key\", \"sales_agent_id\")\n",
    "\n",
    "def process_online_fact(online_df: DataFrame, date_df: DataFrame, product_df: DataFrame, customer_df: DataFrame) -> DataFrame:\n",
    "    online_fact = online_df.select(\n",
    "        \"transaction_id\", \"customer_id\", \"product_id\", \"units\", \"unit_price\", \"discount\",\n",
    "        \"payment_method\", \"group\", \"total_price\", \"shipping_zip_code\", \"shipping_state\",\n",
    "        \"shipping_city\", \"shipping_street_name\", date_format(\"transaction_date\", \"yyyy-MM-dd\").alias(\"transaction_date\")\n",
    "    )\n",
    "    \n",
    "    # Join with dimension tables\n",
    "    online_fact = online_fact.join(date_df.select('date_key', 'date'), online_fact[\"transaction_date\"] == date_df[\"date\"], \"inner\") \\\n",
    "                             .join(product_df.select('product_key', 'product_id'), \"product_id\") \\\n",
    "                             .join(customer_df.select('customer_key', 'customer_id'), \"customer_id\")\n",
    "        \n",
    "    # Select final columns\n",
    "    return online_fact.select(\n",
    "        \"transaction_id\", \"customer_key\", \"product_key\", \"date_key\", \"units\", \"unit_price\", \"discount\",\n",
    "        \"payment_method\", \"group\", \"total_price\", \"shipping_zip_code\", \"shipping_state\",\n",
    "        \"shipping_city\", \"shipping_street_name\"\n",
    "    )\n",
    "\n",
    "def process_offline_fact(offline_df: DataFrame, date_df: DataFrame, product_df: DataFrame, customer_df: DataFrame, branch_df: DataFrame, sales_agent_df: DataFrame) -> DataFrame:\n",
    "    offline_fact = offline_df.select(\n",
    "        \"transaction_id\", \"customer_id\", \"sales_agent_id\", \"branch_id\", \"product_id\",\n",
    "        \"units\", \"unit_price\", \"discount\", \"payment_method\", \"total_price\",\n",
    "        date_format(\"transaction_date\", \"yyyy-MM-dd\").alias(\"transaction_date\")\n",
    "    )\n",
    "    \n",
    "    # Join with dimension tables\n",
    "    offline_fact = offline_fact.join(date_df.select('date_key', 'date'), offline_fact[\"transaction_date\"] == date_df[\"date\"], \"inner\") \\\n",
    "                               .join(product_df.select('product_key', 'product_id'), \"product_id\") \\\n",
    "                               .join(customer_df.select('customer_key', 'customer_id'), \"customer_id\") \\\n",
    "                               .join(branch_df.select('branch_key', 'branch_id'), \"branch_id\") \\\n",
    "                               .join(sales_agent_df.select('sales_agent_key', 'sales_agent_id'), \"sales_agent_id\")\n",
    "    \n",
    "    # Select final columns\n",
    "    return offline_fact.select(\n",
    "        \"transaction_id\", \"customer_key\", \"sales_agent_key\", \"branch_key\", \"product_key\", \"date_key\",\n",
    "        \"units\", \"unit_price\", \"discount\", \"payment_method\", \"total_price\", date_format(\"transaction_date\", \"yyyy-MM-dd\").alias(\"transaction_date\")\n",
    "    )\n",
    "\n",
    "def process_dimensions(all_df: DataFrame, offline_df: DataFrame) -> Tuple[DataFrame, DataFrame, DataFrame, DataFrame, DataFrame]:\n",
    "    date_df = process_date_dimension(spark)\n",
    "    product_df = process_product_dimension(all_df)\n",
    "    customer_df = process_customer_dimension(all_df)\n",
    "    branch_df = process_branch_dimension(offline_df)\n",
    "    sales_agent_df = process_sales_agent_dimension(offline_df)\n",
    "    \n",
    "    return date_df, product_df, customer_df, branch_df, sales_agent_df\n",
    "\n",
    "def save_dimensions(dimensions: List[Tuple[str, DataFrame]]) -> None:\n",
    "    for name, df in dimensions:\n",
    "        write_parquet(df, f\"{Config.CONFORMED_NORMALIZED_BASE_PATH}/{name}/{name}\")\n",
    "\n"
   ]
  },
  {
   "cell_type": "code",
   "execution_count": 19,
   "id": "6f756690-a9b5-409c-84df-205cc22bbd58",
   "metadata": {},
   "outputs": [],
   "source": [
    "from pyspark.sql import SparkSession, DataFrame\n",
    "from pyspark.sql.functions import col, date_format, row_number\n",
    "from pyspark.sql.window import Window\n",
    "from functools import reduce\n",
    "from typing import List, Tuple\n",
    "from utils import Config\n",
    "import os"
   ]
  },
  {
   "cell_type": "code",
   "execution_count": 4,
   "id": "97850029-4ba5-48bf-955c-7a113b0f398f",
   "metadata": {},
   "outputs": [],
   "source": [
    "\n",
    "def create_spark_session() -> SparkSession:\n",
    "    return SparkSession.builder \\\n",
    "        .appName(\"Normalized_Model\") \\\n",
    "        .config(\"spark.sql.adaptive.enabled\", \"true\") \\\n",
    "        .config(\"spark.sql.adaptive.coalescePartitions.enabled\", \"true\") \\\n",
    "        .getOrCreate()\n"
   ]
  },
  {
   "cell_type": "code",
   "execution_count": 6,
   "id": "226ea384-332d-4110-9bd2-5114a9a95212",
   "metadata": {},
   "outputs": [],
   "source": [
    "spark = create_spark_session()\n",
    "    "
   ]
  },
  {
   "cell_type": "code",
   "execution_count": 8,
   "id": "91b3c727-ecc1-483f-a863-3cc832725ea2",
   "metadata": {},
   "outputs": [],
   "source": [
    "online_df = read_parquet(spark, f\"{Config.CONFORMED_DENORMALIZED_BASE_PATH}/online_fact_table/online_merged\")\n",
    "offline_df = read_parquet(spark, f\"{Config.CONFORMED_DENORMALIZED_BASE_PATH}/offline_fact_table/offline_merged\")\n",
    "all_df = read_parquet(spark, f\"{Config.CONFORMED_DENORMALIZED_BASE_PATH}/all_sales_fact_table/sales_merged\")"
   ]
  },
  {
   "cell_type": "code",
   "execution_count": 20,
   "id": "64f1c8dd-9798-4271-85c7-ef96932d0056",
   "metadata": {
    "tags": []
   },
   "outputs": [],
   "source": [
    "date_df = process_date_dimension(spark)"
   ]
  },
  {
   "cell_type": "code",
   "execution_count": 25,
   "id": "f004f097-7b42-4b51-bb3d-82a16ac84bec",
   "metadata": {},
   "outputs": [],
   "source": [
    "date_df, product_df, customer_df, branch_df, sales_agent_df = process_dimensions(all_df, offline_df)\n"
   ]
  },
  {
   "cell_type": "code",
   "execution_count": 26,
   "id": "3319df90-9768-4c99-aee1-86045297daea",
   "metadata": {
    "collapsed": true,
    "jupyter": {
     "outputs_hidden": true
    },
    "tags": []
   },
   "outputs": [
    {
     "data": {
      "text/html": [
       "<table border='1'>\n",
       "<tr><th>branch_id</th><th>branch_location</th><th>branch_establish_date</th><th>branch_class</th><th>branch_key</th></tr>\n",
       "<tr><td>1</td><td>New York</td><td>2017-01-15</td><td>A</td><td>1</td></tr>\n",
       "<tr><td>2</td><td>Los Angeles</td><td>2016-07-28</td><td>B</td><td>2</td></tr>\n",
       "<tr><td>3</td><td>Chicago</td><td>2015-03-10</td><td>A</td><td>3</td></tr>\n",
       "<tr><td>4</td><td>Houston</td><td>2016-11-05</td><td>D</td><td>4</td></tr>\n",
       "<tr><td>5</td><td>Phoenix</td><td>2017-09-20</td><td>C</td><td>5</td></tr>\n",
       "</table>\n"
      ],
      "text/plain": [
       "+---------+---------------+---------------------+------------+----------+\n",
       "|branch_id|branch_location|branch_establish_date|branch_class|branch_key|\n",
       "+---------+---------------+---------------------+------------+----------+\n",
       "|        1|       New York|           2017-01-15|           A|         1|\n",
       "|        2|    Los Angeles|           2016-07-28|           B|         2|\n",
       "|        3|        Chicago|           2015-03-10|           A|         3|\n",
       "|        4|        Houston|           2016-11-05|           D|         4|\n",
       "|        5|        Phoenix|           2017-09-20|           C|         5|\n",
       "+---------+---------------+---------------------+------------+----------+"
      ]
     },
     "execution_count": 26,
     "metadata": {},
     "output_type": "execute_result"
    }
   ],
   "source": [
    "branch_df"
   ]
  },
  {
   "cell_type": "code",
   "execution_count": 28,
   "id": "cba2d836-6351-4d39-bc0c-e3b2e37531f6",
   "metadata": {},
   "outputs": [
    {
     "data": {
      "text/plain": [
       "101"
      ]
     },
     "execution_count": 28,
     "metadata": {},
     "output_type": "execute_result"
    }
   ],
   "source": [
    "customer_df.count()"
   ]
  },
  {
   "cell_type": "code",
   "execution_count": 32,
   "id": "6fd120cf-4c0c-4a2d-b127-f1ba88e09ad3",
   "metadata": {
    "collapsed": true,
    "jupyter": {
     "outputs_hidden": true
    },
    "tags": []
   },
   "outputs": [
    {
     "data": {
      "text/html": [
       "<table border='1'>\n",
       "<tr><th>product_id</th><th>product_name</th><th>product_category</th><th>unit_price</th><th>product_key</th></tr>\n",
       "<tr><td>1</td><td>Laptop</td><td>Electronics</td><td>999.99</td><td>1</td></tr>\n",
       "<tr><td>2</td><td>Smartphone</td><td>Electronics</td><td>699.99</td><td>2</td></tr>\n",
       "<tr><td>3</td><td>Tablet</td><td>Electronics</td><td>299.99</td><td>3</td></tr>\n",
       "<tr><td>4</td><td>Headphones</td><td>Electronics</td><td>99.99</td><td>4</td></tr>\n",
       "<tr><td>5</td><td>T-Shirt</td><td>Clothing</td><td>19.99</td><td>5</td></tr>\n",
       "<tr><td>6</td><td>Jeans</td><td>Clothing</td><td>49.99</td><td>6</td></tr>\n",
       "<tr><td>7</td><td>Dress</td><td>Clothing</td><td>59.99</td><td>7</td></tr>\n",
       "<tr><td>8</td><td>Sneakers</td><td>Footwear</td><td>79.99</td><td>8</td></tr>\n",
       "<tr><td>9</td><td>Boots</td><td>Footwear</td><td>129.99</td><td>9</td></tr>\n",
       "<tr><td>10</td><td>Sandals</td><td>Footwear</td><td>39.99</td><td>10</td></tr>\n",
       "<tr><td>11</td><td>TV</td><td>Electronics</td><td>899.99</td><td>11</td></tr>\n",
       "<tr><td>12</td><td>Monitor</td><td>Electronics</td><td>299.99</td><td>12</td></tr>\n",
       "<tr><td>13</td><td>Printer</td><td>Electronics</td><td>149.99</td><td>13</td></tr>\n",
       "<tr><td>14</td><td>Camera</td><td>Electronics</td><td>399.99</td><td>14</td></tr>\n",
       "<tr><td>15</td><td>Hoodie</td><td>Clothing</td><td>29.99</td><td>15</td></tr>\n",
       "<tr><td>16</td><td>Skirt</td><td>Clothing</td><td>39.99</td><td>16</td></tr>\n",
       "<tr><td>17</td><td>Blouse</td><td>Clothing</td><td>29.99</td><td>17</td></tr>\n",
       "<tr><td>18</td><td>Boots</td><td>Footwear</td><td>149.99</td><td>18</td></tr>\n",
       "<tr><td>19</td><td>Sandals</td><td>Footwear</td><td>29.99</td><td>19</td></tr>\n",
       "<tr><td>20</td><td>Heels</td><td>Footwear</td><td>59.99</td><td>20</td></tr>\n",
       "</table>\n",
       "only showing top 20 rows\n"
      ],
      "text/plain": [
       "DataFrame[product_id: bigint, product_name: string, product_category: string, unit_price: double, product_key: int]"
      ]
     },
     "execution_count": 32,
     "metadata": {},
     "output_type": "execute_result"
    }
   ],
   "source": [
    "product_df"
   ]
  },
  {
   "cell_type": "code",
   "execution_count": 36,
   "id": "5aa05c63-a1d2-4604-a818-30ea9f7b6358",
   "metadata": {},
   "outputs": [],
   "source": [
    "dimensions = [\n",
    "            (\"product_dim\", product_df),\n",
    "            (\"customer_dim\", customer_df),\n",
    "            (\"branch_dim\", branch_df),\n",
    "            (\"sales_agent_dim\", sales_agent_df)\n",
    "        ]\n",
    "save_dimensions(dimensions)"
   ]
  },
  {
   "cell_type": "code",
   "execution_count": 57,
   "id": "6ea0150f-9e49-41ca-b833-2f7d04845ce4",
   "metadata": {
    "tags": []
   },
   "outputs": [],
   "source": [
    "online_fact = process_online_fact(online_df, date_df, product_df, customer_df)\n",
    "offline_fact = process_offline_fact(offline_df, date_df, product_df, customer_df, branch_df, sales_agent_df)\n",
    "        "
   ]
  },
  {
   "cell_type": "code",
   "execution_count": 48,
   "id": "5135726c-acc2-454c-9367-17cc3bd4d34a",
   "metadata": {},
   "outputs": [],
   "source": [
    "online_fact = online_df.select(\n",
    "        \"transaction_id\", \"customer_id\", \"product_id\", \"units\", \"unit_price\", \"discount\",\n",
    "        \"payment_method\", \"group\", \"total_price\", \"shipping_zip_code\", \"shipping_state\",\n",
    "        \"shipping_city\", \"shipping_street_name\", date_format(\"transaction_date\", \"yyyy-MM-dd\").alias(\"transaction_date\")\n",
    "    )\n",
    "    \n",
    "    "
   ]
  },
  {
   "cell_type": "code",
   "execution_count": 40,
   "id": "86fabab8-2a7a-4d78-ac72-c1c6b527d473",
   "metadata": {
    "collapsed": true,
    "jupyter": {
     "outputs_hidden": true
    },
    "tags": []
   },
   "outputs": [
    {
     "data": {
      "text/html": [
       "<table border='1'>\n",
       "<tr><th>transaction_id</th><th>customer_id</th><th>product_id</th><th>units</th><th>unit_price</th><th>discount</th><th>payment_method</th><th>group</th><th>total_price</th><th>shipping_zip_code</th><th>shipping_state</th><th>shipping_city</th><th>shipping_street_name</th><th>transaction_date</th></tr>\n",
       "<tr><td>trx-566523295049</td><td>85504</td><td>2</td><td>6</td><td>699.99</td><td>0.25</td><td>Credit Card</td><td>group1</td><td>3149.955</td><td>80005</td><td>Colorado</td><td>Arvada</td><td>12039 West 85th D...</td><td>2022-02-24</td></tr>\n",
       "<tr><td>trx-340311249068</td><td>85489</td><td>5</td><td>5</td><td>19.99</td><td>0.0</td><td>Stripe</td><td>group1</td><td>99.95</td><td>73135</td><td>Oklahoma</td><td>Oklahoma City</td><td>4725 Royal Oak Drive</td><td>2022-10-20</td></tr>\n",
       "<tr><td>trx-132026662696</td><td>85546</td><td>6</td><td>7</td><td>49.99</td><td>0.2</td><td>Credit Card</td><td>group1</td><td>279.944</td><td>05408</td><td>Vermont</td><td>Burlington</td><td>185 Woodlawn Road</td><td>2023-07-12</td></tr>\n",
       "<tr><td>trx-933247844102</td><td>85510</td><td>28</td><td>2</td><td>19.99</td><td>0.15</td><td>Stripe</td><td>group1</td><td>33.983</td><td>06040</td><td>Connecticut</td><td>Manchester</td><td>40 Highwood Drive</td><td>2023-07-12</td></tr>\n",
       "<tr><td>trx-889317927482</td><td>85476</td><td>29</td><td>4</td><td>39.99</td><td>0.15</td><td>PayPal</td><td>group1</td><td>135.966</td><td>40206</td><td>Kentucky</td><td>Louisville</td><td>2721 Lindsay Avenue</td><td>2023-03-08</td></tr>\n",
       "<tr><td>trx-912726017128</td><td>85560</td><td>9</td><td>5</td><td>129.99</td><td>0.0</td><td>Credit Card</td><td>group1</td><td>649.95</td><td>72701</td><td>Arkansas</td><td>Fayetteville</td><td>112 West Center S...</td><td>2022-06-09</td></tr>\n",
       "<tr><td>trx-481243773278</td><td>85513</td><td>28</td><td>7</td><td>19.99</td><td>0.0</td><td>Credit Card</td><td>group1</td><td>139.93</td><td>01331</td><td>Massachusetts</td><td>Athol</td><td>7 Oliver Street</td><td>2023-04-14</td></tr>\n",
       "<tr><td>trx-667583933070</td><td>85492</td><td>30</td><td>6</td><td>24.99</td><td>0.1</td><td>PayPal</td><td>group1</td><td>134.946</td><td>37013</td><td>Tennessee</td><td>Nashville</td><td>1124 Bluewillow C...</td><td>2023-04-14</td></tr>\n",
       "<tr><td>trx-644749125609</td><td>85513</td><td>17</td><td>9</td><td>29.99</td><td>0.0</td><td>Credit Card</td><td>group1</td><td>269.91</td><td>06040</td><td>Connecticut</td><td>Manchester</td><td>86 Highland Street</td><td>2022-12-08</td></tr>\n",
       "<tr><td>trx-269534893579</td><td>85498</td><td>25</td><td>9</td><td>499.99</td><td>0.1</td><td>PayPal</td><td>group1</td><td>4049.919</td><td>01721</td><td>Massachusetts</td><td>Ashland</td><td>9 Thomas Street</td><td>2022-07-21</td></tr>\n",
       "<tr><td>trx-832653287412</td><td>85562</td><td>26</td><td>1</td><td>199.99</td><td>0.0</td><td>PayPal</td><td>group1</td><td>199.99</td><td>93546</td><td>California</td><td>Mammoth Lakes</td><td>61 Callahan Way</td><td>2022-09-26</td></tr>\n",
       "<tr><td>trx-971429689183</td><td>85549</td><td>29</td><td>2</td><td>39.99</td><td>0.05</td><td>Stripe</td><td>group1</td><td>75.981</td><td>36108</td><td>Alabama</td><td>Montgomery</td><td>4328 Brewer Road</td><td>2023-12-06</td></tr>\n",
       "<tr><td>trx-989391385792</td><td>85535</td><td>12</td><td>8</td><td>299.99</td><td>0.0</td><td>PayPal</td><td>group1</td><td>2399.92</td><td>72701</td><td>Arkansas</td><td>Fayetteville</td><td>1653 Brooks Avenue</td><td>2023-08-02</td></tr>\n",
       "<tr><td>trx-322304849280</td><td>85493</td><td>12</td><td>8</td><td>299.99</td><td>0.0</td><td>PayPal</td><td>group1</td><td>2399.92</td><td>37218</td><td>Tennessee</td><td>Nashville</td><td>3714 John Mallett...</td><td>2023-08-07</td></tr>\n",
       "<tr><td>trx-637336061119</td><td>85539</td><td>22</td><td>5</td><td>79.99</td><td>0.0</td><td>Credit Card</td><td>group1</td><td>399.95</td><td>21060</td><td>Maryland</td><td>Glen Burnie</td><td>1011 Bell Avenue</td><td>2023-01-23</td></tr>\n",
       "<tr><td>trx-678424403739</td><td>85551</td><td>10</td><td>3</td><td>39.99</td><td>0.0</td><td>Credit Card</td><td>group1</td><td>119.97</td><td>36117</td><td>Alabama</td><td>Montgomery</td><td>521 McGregor Court</td><td>2022-04-06</td></tr>\n",
       "<tr><td>trx-777397336194</td><td>85514</td><td>13</td><td>4</td><td>149.99</td><td>0.2</td><td>PayPal</td><td>group1</td><td>479.968</td><td>32413</td><td>Florida</td><td>Panama City Beach</td><td>122 Coral Drive</td><td>2023-12-18</td></tr>\n",
       "<tr><td>trx-648087834917</td><td>85512</td><td>4</td><td>8</td><td>99.99</td><td>0.1</td><td>Stripe</td><td>group1</td><td>719.928</td><td>37205</td><td>Tennessee</td><td>Nashville</td><td>733 Georgetown Drive</td><td>2022-12-13</td></tr>\n",
       "<tr><td>trx-097507054570</td><td>85491</td><td>22</td><td>3</td><td>79.99</td><td>0.1</td><td>PayPal</td><td>group1</td><td>215.973</td><td>05446</td><td>Vermont</td><td>Colchester</td><td>29 East Avenue</td><td>2022-02-08</td></tr>\n",
       "<tr><td>trx-936616849836</td><td>85471</td><td>26</td><td>5</td><td>199.99</td><td>0.15</td><td>Stripe</td><td>group1</td><td>849.958</td><td>99507</td><td>Alaska</td><td>Anchorage</td><td>7851 Snow View Drive</td><td>2023-06-20</td></tr>\n",
       "</table>\n",
       "only showing top 20 rows\n"
      ],
      "text/plain": [
       "+----------------+-----------+----------+-----+----------+--------+--------------+------+-----------+-----------------+--------------+-----------------+--------------------+----------------+\n",
       "|  transaction_id|customer_id|product_id|units|unit_price|discount|payment_method| group|total_price|shipping_zip_code|shipping_state|    shipping_city|shipping_street_name|transaction_date|\n",
       "+----------------+-----------+----------+-----+----------+--------+--------------+------+-----------+-----------------+--------------+-----------------+--------------------+----------------+\n",
       "|trx-566523295049|      85504|         2|    6|    699.99|    0.25|   Credit Card|group1|   3149.955|            80005|      Colorado|           Arvada|12039 West 85th D...|      2022-02-24|\n",
       "|trx-340311249068|      85489|         5|    5|     19.99|     0.0|        Stripe|group1|      99.95|            73135|      Oklahoma|    Oklahoma City|4725 Royal Oak Drive|      2022-10-20|\n",
       "|trx-132026662696|      85546|         6|    7|     49.99|     0.2|   Credit Card|group1|    279.944|            05408|       Vermont|       Burlington|   185 Woodlawn Road|      2023-07-12|\n",
       "|trx-933247844102|      85510|        28|    2|     19.99|    0.15|        Stripe|group1|     33.983|            06040|   Connecticut|       Manchester|   40 Highwood Drive|      2023-07-12|\n",
       "|trx-889317927482|      85476|        29|    4|     39.99|    0.15|        PayPal|group1|    135.966|            40206|      Kentucky|       Louisville| 2721 Lindsay Avenue|      2023-03-08|\n",
       "|trx-912726017128|      85560|         9|    5|    129.99|     0.0|   Credit Card|group1|     649.95|            72701|      Arkansas|     Fayetteville|112 West Center S...|      2022-06-09|\n",
       "|trx-481243773278|      85513|        28|    7|     19.99|     0.0|   Credit Card|group1|     139.93|            01331| Massachusetts|            Athol|     7 Oliver Street|      2023-04-14|\n",
       "|trx-667583933070|      85492|        30|    6|     24.99|     0.1|        PayPal|group1|    134.946|            37013|     Tennessee|        Nashville|1124 Bluewillow C...|      2023-04-14|\n",
       "|trx-644749125609|      85513|        17|    9|     29.99|     0.0|   Credit Card|group1|     269.91|            06040|   Connecticut|       Manchester|  86 Highland Street|      2022-12-08|\n",
       "|trx-269534893579|      85498|        25|    9|    499.99|     0.1|        PayPal|group1|   4049.919|            01721| Massachusetts|          Ashland|     9 Thomas Street|      2022-07-21|\n",
       "|trx-832653287412|      85562|        26|    1|    199.99|     0.0|        PayPal|group1|     199.99|            93546|    California|    Mammoth Lakes|     61 Callahan Way|      2022-09-26|\n",
       "|trx-971429689183|      85549|        29|    2|     39.99|    0.05|        Stripe|group1|     75.981|            36108|       Alabama|       Montgomery|    4328 Brewer Road|      2023-12-06|\n",
       "|trx-989391385792|      85535|        12|    8|    299.99|     0.0|        PayPal|group1|    2399.92|            72701|      Arkansas|     Fayetteville|  1653 Brooks Avenue|      2023-08-02|\n",
       "|trx-322304849280|      85493|        12|    8|    299.99|     0.0|        PayPal|group1|    2399.92|            37218|     Tennessee|        Nashville|3714 John Mallett...|      2023-08-07|\n",
       "|trx-637336061119|      85539|        22|    5|     79.99|     0.0|   Credit Card|group1|     399.95|            21060|      Maryland|      Glen Burnie|    1011 Bell Avenue|      2023-01-23|\n",
       "|trx-678424403739|      85551|        10|    3|     39.99|     0.0|   Credit Card|group1|     119.97|            36117|       Alabama|       Montgomery|  521 McGregor Court|      2022-04-06|\n",
       "|trx-777397336194|      85514|        13|    4|    149.99|     0.2|        PayPal|group1|    479.968|            32413|       Florida|Panama City Beach|     122 Coral Drive|      2023-12-18|\n",
       "|trx-648087834917|      85512|         4|    8|     99.99|     0.1|        Stripe|group1|    719.928|            37205|     Tennessee|        Nashville|733 Georgetown Drive|      2022-12-13|\n",
       "|trx-097507054570|      85491|        22|    3|     79.99|     0.1|        PayPal|group1|    215.973|            05446|       Vermont|       Colchester|      29 East Avenue|      2022-02-08|\n",
       "|trx-936616849836|      85471|        26|    5|    199.99|    0.15|        Stripe|group1|    849.958|            99507|        Alaska|        Anchorage|7851 Snow View Drive|      2023-06-20|\n",
       "+----------------+-----------+----------+-----+----------+--------+--------------+------+-----------+-----------------+--------------+-----------------+--------------------+----------------+\n",
       "only showing top 20 rows"
      ]
     },
     "execution_count": 40,
     "metadata": {},
     "output_type": "execute_result"
    }
   ],
   "source": [
    "online_fact"
   ]
  },
  {
   "cell_type": "code",
   "execution_count": 49,
   "id": "4de49c1d-45b9-4e77-9900-5fb8de041dea",
   "metadata": {},
   "outputs": [],
   "source": []
  },
  {
   "cell_type": "code",
   "execution_count": 50,
   "id": "39a3591d-8939-4010-aa78-89836e0669fc",
   "metadata": {
    "collapsed": true,
    "jupyter": {
     "outputs_hidden": true
    },
    "tags": []
   },
   "outputs": [
    {
     "data": {
      "text/html": [
       "<table border='1'>\n",
       "<tr><th>customer_id</th><th>product_id</th><th>transaction_id</th><th>units</th><th>unit_price</th><th>discount</th><th>payment_method</th><th>group</th><th>total_price</th><th>shipping_zip_code</th><th>shipping_state</th><th>shipping_city</th><th>shipping_street_name</th><th>transaction_date</th><th>date_key</th><th>date</th><th>product_key</th><th>customer_key</th></tr>\n",
       "<tr><td>85504</td><td>2</td><td>trx-566523295049</td><td>6</td><td>699.99</td><td>0.25</td><td>Credit Card</td><td>group1</td><td>3149.955</td><td>80005</td><td>Colorado</td><td>Arvada</td><td>12039 West 85th D...</td><td>2022-02-24</td><td>20220224</td><td>2022-02-24</td><td>2</td><td>43</td></tr>\n",
       "<tr><td>85489</td><td>5</td><td>trx-340311249068</td><td>5</td><td>19.99</td><td>0.0</td><td>Stripe</td><td>group1</td><td>99.95</td><td>73135</td><td>Oklahoma</td><td>Oklahoma City</td><td>4725 Royal Oak Drive</td><td>2022-10-20</td><td>20221020</td><td>2022-10-20</td><td>5</td><td>28</td></tr>\n",
       "<tr><td>85546</td><td>6</td><td>trx-132026662696</td><td>7</td><td>49.99</td><td>0.2</td><td>Credit Card</td><td>group1</td><td>279.944</td><td>05408</td><td>Vermont</td><td>Burlington</td><td>185 Woodlawn Road</td><td>2023-07-12</td><td>20230712</td><td>2023-07-12</td><td>6</td><td>85</td></tr>\n",
       "<tr><td>85510</td><td>28</td><td>trx-933247844102</td><td>2</td><td>19.99</td><td>0.15</td><td>Stripe</td><td>group1</td><td>33.983</td><td>06040</td><td>Connecticut</td><td>Manchester</td><td>40 Highwood Drive</td><td>2023-07-12</td><td>20230712</td><td>2023-07-12</td><td>28</td><td>49</td></tr>\n",
       "<tr><td>85476</td><td>29</td><td>trx-889317927482</td><td>4</td><td>39.99</td><td>0.15</td><td>PayPal</td><td>group1</td><td>135.966</td><td>40206</td><td>Kentucky</td><td>Louisville</td><td>2721 Lindsay Avenue</td><td>2023-03-08</td><td>20230308</td><td>2023-03-08</td><td>29</td><td>15</td></tr>\n",
       "<tr><td>85560</td><td>9</td><td>trx-912726017128</td><td>5</td><td>129.99</td><td>0.0</td><td>Credit Card</td><td>group1</td><td>649.95</td><td>72701</td><td>Arkansas</td><td>Fayetteville</td><td>112 West Center S...</td><td>2022-06-09</td><td>20220609</td><td>2022-06-09</td><td>9</td><td>99</td></tr>\n",
       "<tr><td>85513</td><td>28</td><td>trx-481243773278</td><td>7</td><td>19.99</td><td>0.0</td><td>Credit Card</td><td>group1</td><td>139.93</td><td>01331</td><td>Massachusetts</td><td>Athol</td><td>7 Oliver Street</td><td>2023-04-14</td><td>20230414</td><td>2023-04-14</td><td>28</td><td>52</td></tr>\n",
       "<tr><td>85492</td><td>30</td><td>trx-667583933070</td><td>6</td><td>24.99</td><td>0.1</td><td>PayPal</td><td>group1</td><td>134.946</td><td>37013</td><td>Tennessee</td><td>Nashville</td><td>1124 Bluewillow C...</td><td>2023-04-14</td><td>20230414</td><td>2023-04-14</td><td>30</td><td>31</td></tr>\n",
       "<tr><td>85513</td><td>17</td><td>trx-644749125609</td><td>9</td><td>29.99</td><td>0.0</td><td>Credit Card</td><td>group1</td><td>269.91</td><td>06040</td><td>Connecticut</td><td>Manchester</td><td>86 Highland Street</td><td>2022-12-08</td><td>20221208</td><td>2022-12-08</td><td>17</td><td>52</td></tr>\n",
       "<tr><td>85498</td><td>25</td><td>trx-269534893579</td><td>9</td><td>499.99</td><td>0.1</td><td>PayPal</td><td>group1</td><td>4049.919</td><td>01721</td><td>Massachusetts</td><td>Ashland</td><td>9 Thomas Street</td><td>2022-07-21</td><td>20220721</td><td>2022-07-21</td><td>25</td><td>37</td></tr>\n",
       "<tr><td>85562</td><td>26</td><td>trx-832653287412</td><td>1</td><td>199.99</td><td>0.0</td><td>PayPal</td><td>group1</td><td>199.99</td><td>93546</td><td>California</td><td>Mammoth Lakes</td><td>61 Callahan Way</td><td>2022-09-26</td><td>20220926</td><td>2022-09-26</td><td>26</td><td>101</td></tr>\n",
       "<tr><td>85549</td><td>29</td><td>trx-971429689183</td><td>2</td><td>39.99</td><td>0.05</td><td>Stripe</td><td>group1</td><td>75.981</td><td>36108</td><td>Alabama</td><td>Montgomery</td><td>4328 Brewer Road</td><td>2023-12-06</td><td>20231206</td><td>2023-12-06</td><td>29</td><td>88</td></tr>\n",
       "<tr><td>85535</td><td>12</td><td>trx-989391385792</td><td>8</td><td>299.99</td><td>0.0</td><td>PayPal</td><td>group1</td><td>2399.92</td><td>72701</td><td>Arkansas</td><td>Fayetteville</td><td>1653 Brooks Avenue</td><td>2023-08-02</td><td>20230802</td><td>2023-08-02</td><td>12</td><td>74</td></tr>\n",
       "<tr><td>85493</td><td>12</td><td>trx-322304849280</td><td>8</td><td>299.99</td><td>0.0</td><td>PayPal</td><td>group1</td><td>2399.92</td><td>37218</td><td>Tennessee</td><td>Nashville</td><td>3714 John Mallett...</td><td>2023-08-07</td><td>20230807</td><td>2023-08-07</td><td>12</td><td>32</td></tr>\n",
       "<tr><td>85539</td><td>22</td><td>trx-637336061119</td><td>5</td><td>79.99</td><td>0.0</td><td>Credit Card</td><td>group1</td><td>399.95</td><td>21060</td><td>Maryland</td><td>Glen Burnie</td><td>1011 Bell Avenue</td><td>2023-01-23</td><td>20230123</td><td>2023-01-23</td><td>22</td><td>78</td></tr>\n",
       "<tr><td>85551</td><td>10</td><td>trx-678424403739</td><td>3</td><td>39.99</td><td>0.0</td><td>Credit Card</td><td>group1</td><td>119.97</td><td>36117</td><td>Alabama</td><td>Montgomery</td><td>521 McGregor Court</td><td>2022-04-06</td><td>20220406</td><td>2022-04-06</td><td>10</td><td>90</td></tr>\n",
       "<tr><td>85514</td><td>13</td><td>trx-777397336194</td><td>4</td><td>149.99</td><td>0.2</td><td>PayPal</td><td>group1</td><td>479.968</td><td>32413</td><td>Florida</td><td>Panama City Beach</td><td>122 Coral Drive</td><td>2023-12-18</td><td>20231218</td><td>2023-12-18</td><td>13</td><td>53</td></tr>\n",
       "<tr><td>85512</td><td>4</td><td>trx-648087834917</td><td>8</td><td>99.99</td><td>0.1</td><td>Stripe</td><td>group1</td><td>719.928</td><td>37205</td><td>Tennessee</td><td>Nashville</td><td>733 Georgetown Drive</td><td>2022-12-13</td><td>20221213</td><td>2022-12-13</td><td>4</td><td>51</td></tr>\n",
       "<tr><td>85491</td><td>22</td><td>trx-097507054570</td><td>3</td><td>79.99</td><td>0.1</td><td>PayPal</td><td>group1</td><td>215.973</td><td>05446</td><td>Vermont</td><td>Colchester</td><td>29 East Avenue</td><td>2022-02-08</td><td>20220208</td><td>2022-02-08</td><td>22</td><td>30</td></tr>\n",
       "<tr><td>85471</td><td>26</td><td>trx-936616849836</td><td>5</td><td>199.99</td><td>0.15</td><td>Stripe</td><td>group1</td><td>849.958</td><td>99507</td><td>Alaska</td><td>Anchorage</td><td>7851 Snow View Drive</td><td>2023-06-20</td><td>20230620</td><td>2023-06-20</td><td>26</td><td>10</td></tr>\n",
       "</table>\n",
       "only showing top 20 rows\n"
      ],
      "text/plain": [
       "+-----------+----------+----------------+-----+----------+--------+--------------+------+-----------+-----------------+--------------+-----------------+--------------------+----------------+--------+----------+-----------+------------+\n",
       "|customer_id|product_id|  transaction_id|units|unit_price|discount|payment_method| group|total_price|shipping_zip_code|shipping_state|    shipping_city|shipping_street_name|transaction_date|date_key|      date|product_key|customer_key|\n",
       "+-----------+----------+----------------+-----+----------+--------+--------------+------+-----------+-----------------+--------------+-----------------+--------------------+----------------+--------+----------+-----------+------------+\n",
       "|      85504|         2|trx-566523295049|    6|    699.99|    0.25|   Credit Card|group1|   3149.955|            80005|      Colorado|           Arvada|12039 West 85th D...|      2022-02-24|20220224|2022-02-24|          2|          43|\n",
       "|      85489|         5|trx-340311249068|    5|     19.99|     0.0|        Stripe|group1|      99.95|            73135|      Oklahoma|    Oklahoma City|4725 Royal Oak Drive|      2022-10-20|20221020|2022-10-20|          5|          28|\n",
       "|      85546|         6|trx-132026662696|    7|     49.99|     0.2|   Credit Card|group1|    279.944|            05408|       Vermont|       Burlington|   185 Woodlawn Road|      2023-07-12|20230712|2023-07-12|          6|          85|\n",
       "|      85510|        28|trx-933247844102|    2|     19.99|    0.15|        Stripe|group1|     33.983|            06040|   Connecticut|       Manchester|   40 Highwood Drive|      2023-07-12|20230712|2023-07-12|         28|          49|\n",
       "|      85476|        29|trx-889317927482|    4|     39.99|    0.15|        PayPal|group1|    135.966|            40206|      Kentucky|       Louisville| 2721 Lindsay Avenue|      2023-03-08|20230308|2023-03-08|         29|          15|\n",
       "|      85560|         9|trx-912726017128|    5|    129.99|     0.0|   Credit Card|group1|     649.95|            72701|      Arkansas|     Fayetteville|112 West Center S...|      2022-06-09|20220609|2022-06-09|          9|          99|\n",
       "|      85513|        28|trx-481243773278|    7|     19.99|     0.0|   Credit Card|group1|     139.93|            01331| Massachusetts|            Athol|     7 Oliver Street|      2023-04-14|20230414|2023-04-14|         28|          52|\n",
       "|      85492|        30|trx-667583933070|    6|     24.99|     0.1|        PayPal|group1|    134.946|            37013|     Tennessee|        Nashville|1124 Bluewillow C...|      2023-04-14|20230414|2023-04-14|         30|          31|\n",
       "|      85513|        17|trx-644749125609|    9|     29.99|     0.0|   Credit Card|group1|     269.91|            06040|   Connecticut|       Manchester|  86 Highland Street|      2022-12-08|20221208|2022-12-08|         17|          52|\n",
       "|      85498|        25|trx-269534893579|    9|    499.99|     0.1|        PayPal|group1|   4049.919|            01721| Massachusetts|          Ashland|     9 Thomas Street|      2022-07-21|20220721|2022-07-21|         25|          37|\n",
       "|      85562|        26|trx-832653287412|    1|    199.99|     0.0|        PayPal|group1|     199.99|            93546|    California|    Mammoth Lakes|     61 Callahan Way|      2022-09-26|20220926|2022-09-26|         26|         101|\n",
       "|      85549|        29|trx-971429689183|    2|     39.99|    0.05|        Stripe|group1|     75.981|            36108|       Alabama|       Montgomery|    4328 Brewer Road|      2023-12-06|20231206|2023-12-06|         29|          88|\n",
       "|      85535|        12|trx-989391385792|    8|    299.99|     0.0|        PayPal|group1|    2399.92|            72701|      Arkansas|     Fayetteville|  1653 Brooks Avenue|      2023-08-02|20230802|2023-08-02|         12|          74|\n",
       "|      85493|        12|trx-322304849280|    8|    299.99|     0.0|        PayPal|group1|    2399.92|            37218|     Tennessee|        Nashville|3714 John Mallett...|      2023-08-07|20230807|2023-08-07|         12|          32|\n",
       "|      85539|        22|trx-637336061119|    5|     79.99|     0.0|   Credit Card|group1|     399.95|            21060|      Maryland|      Glen Burnie|    1011 Bell Avenue|      2023-01-23|20230123|2023-01-23|         22|          78|\n",
       "|      85551|        10|trx-678424403739|    3|     39.99|     0.0|   Credit Card|group1|     119.97|            36117|       Alabama|       Montgomery|  521 McGregor Court|      2022-04-06|20220406|2022-04-06|         10|          90|\n",
       "|      85514|        13|trx-777397336194|    4|    149.99|     0.2|        PayPal|group1|    479.968|            32413|       Florida|Panama City Beach|     122 Coral Drive|      2023-12-18|20231218|2023-12-18|         13|          53|\n",
       "|      85512|         4|trx-648087834917|    8|     99.99|     0.1|        Stripe|group1|    719.928|            37205|     Tennessee|        Nashville|733 Georgetown Drive|      2022-12-13|20221213|2022-12-13|          4|          51|\n",
       "|      85491|        22|trx-097507054570|    3|     79.99|     0.1|        PayPal|group1|    215.973|            05446|       Vermont|       Colchester|      29 East Avenue|      2022-02-08|20220208|2022-02-08|         22|          30|\n",
       "|      85471|        26|trx-936616849836|    5|    199.99|    0.15|        Stripe|group1|    849.958|            99507|        Alaska|        Anchorage|7851 Snow View Drive|      2023-06-20|20230620|2023-06-20|         26|          10|\n",
       "+-----------+----------+----------------+-----+----------+--------+--------------+------+-----------+-----------------+--------------+-----------------+--------------------+----------------+--------+----------+-----------+------------+\n",
       "only showing top 20 rows"
      ]
     },
     "execution_count": 50,
     "metadata": {},
     "output_type": "execute_result"
    }
   ],
   "source": [
    "online_fact"
   ]
  },
  {
   "cell_type": "code",
   "execution_count": 53,
   "id": "34edc9f2-ba77-4670-bf25-9677907cff87",
   "metadata": {},
   "outputs": [],
   "source": [
    "offline_fact = offline_df.select(\n",
    "        \"transaction_id\", \"customer_id\", \"sales_agent_id\", \"branch_id\", \"product_id\",\n",
    "        \"units\", \"unit_price\", \"discount\", \"payment_method\", \"total_price\",\n",
    "        date_format(\"transaction_date\", \"yyyy-MM-dd\").alias(\"transaction_date\")\n",
    "    )\n",
    "    "
   ]
  },
  {
   "cell_type": "code",
   "execution_count": 54,
   "id": "dfa04200-4549-47b2-a01d-32a9aa7dea04",
   "metadata": {},
   "outputs": [],
   "source": [
    "offline_fact = offline_fact.join(date_df.select('date_key', 'date'), offline_fact[\"transaction_date\"] == date_df[\"date\"], \"inner\") \\\n",
    "                               .join(product_df.select('product_key', 'product_id'), \"product_id\") \\\n",
    "                               .join(customer_df.select('customer_key', 'customer_id'), \"customer_id\") \\\n",
    "                               .join(branch_df.select('branch_key', 'branch_id'), \"branch_id\") \\\n",
    "                               .join(sales_agent_df.select('sales_agent_key', 'sales_agent_id'), \"sales_agent_id\")\n",
    "    "
   ]
  },
  {
   "cell_type": "code",
   "execution_count": 58,
   "id": "e86fc8cd-f8ba-4773-8314-077bb561a723",
   "metadata": {},
   "outputs": [],
   "source": [
    "write_parquet(online_fact, f\"{Config.CONFORMED_NORMALIZED_BASE_PATH}/online_sales_fact/online_fact\")\n",
    "write_parquet(offline_fact, f\"{Config.CONFORMED_NORMALIZED_BASE_PATH}/offline_sales_fact/offline_fact\")\n"
   ]
  },
  {
   "cell_type": "code",
   "execution_count": null,
   "id": "bb4355fc-6de7-4058-8ddc-1b53f5903030",
   "metadata": {},
   "outputs": [],
   "source": []
  }
 ],
 "metadata": {
  "kernelspec": {
   "display_name": "Pyspark 2",
   "language": "python",
   "name": "pyspark2"
  },
  "language_info": {
   "codemirror_mode": {
    "name": "ipython",
    "version": 3
   },
   "file_extension": ".py",
   "mimetype": "text/x-python",
   "name": "python",
   "nbconvert_exporter": "python",
   "pygments_lexer": "ipython3",
   "version": "3.6.9"
  }
 },
 "nbformat": 4,
 "nbformat_minor": 5
}
