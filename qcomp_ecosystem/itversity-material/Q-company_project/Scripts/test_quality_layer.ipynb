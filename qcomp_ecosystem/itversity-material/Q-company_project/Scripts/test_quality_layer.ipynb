{
 "cells": [
  {
   "cell_type": "code",
   "execution_count": 195,
   "id": "29d2a20a-5ea8-411a-ac01-56d8b27c2195",
   "metadata": {},
   "outputs": [],
   "source": [
    "from pyspark.sql import SparkSession, DataFrame\n",
    "from pyspark.sql.types import *\n",
    "from datetime import datetime\n",
    "\n",
    "# Configuration\n",
    "class Config:\n",
    "    RAW_BASE_PATH = \"/user/itversity/q-company_raw_layer\"\n",
    "    STANDARDIZED_BASE_PATH = \"/user/itversity/q-company_standardized_layer\"\n",
    "    \n",
    "class Schemas:\n",
    "    offline_transactions = StructType([\n",
    "        StructField(\"transaction_date\", DateType(), nullable=False),\n",
    "        StructField(\"transaction_id\", StringType(), nullable=False),\n",
    "        StructField(\"customer_id\", LongType(), nullable=False),\n",
    "        StructField(\"customer_name\", StringType(), nullable=False),\n",
    "        StructField(\"customer_email\", StringType(), nullable=False),\n",
    "        StructField(\"sales_agent_id\", LongType(), nullable=False),\n",
    "        StructField(\"branch_id\", LongType(), nullable=False),\n",
    "        StructField(\"product_id\", LongType(), nullable=False),\n",
    "        StructField(\"product_name\", StringType(), nullable=False),\n",
    "        StructField(\"product_category\", StringType(), nullable=False),\n",
    "        StructField(\"units\", IntegerType(), nullable=False),\n",
    "        StructField(\"unit_price\", DoubleType(), nullable=False),\n",
    "        StructField(\"discount\", FloatType(), nullable=False),\n",
    "        StructField(\"total_price\", DoubleType(), nullable=False),\n",
    "        StructField(\"payment_method\", StringType(), nullable=False),\n",
    "        StructField(\"sales_agent_name\", StringType(), nullable=False),\n",
    "        StructField(\"sales_agent_hire_date\", DateType(), nullable=False),\n",
    "        StructField(\"branch_location\", StringType(), nullable=False),\n",
    "        StructField(\"branch_establish_date\", DateType(), nullable=False),\n",
    "        StructField(\"branch_class\", StringType(), nullable=False),\n",
    "        StructField(\"group\", StringType(), nullable=False)\n",
    "    ])\n",
    "\n",
    "    online_transactions = StructType([\n",
    "        StructField(\"transaction_date\", DateType(), nullable=False),\n",
    "        StructField(\"transaction_id\", StringType(), nullable=False),\n",
    "        StructField(\"customer_id\", LongType(), nullable=False),\n",
    "        StructField(\"customer_name\", StringType(), nullable=False),\n",
    "        StructField(\"customer_email\", StringType(), nullable=False),\n",
    "        StructField(\"product_id\", LongType(), nullable=False),\n",
    "        StructField(\"product_name\", StringType(), nullable=False),\n",
    "        StructField(\"product_category\", StringType(), nullable=False),\n",
    "        StructField(\"units\", IntegerType(), nullable=False),\n",
    "        StructField(\"unit_price\", DoubleType(), nullable=False),\n",
    "        StructField(\"discount\", FloatType(), nullable=False),\n",
    "        StructField(\"total_price\", DoubleType(), nullable=False),\n",
    "        StructField(\"payment_method\", StringType(), nullable=False),\n",
    "        StructField(\"shipping_street_name\",  StringType(), nullable=False), \n",
    "        StructField(\"shipping_city\",  StringType(), nullable=False),\n",
    "        StructField(\"shipping_state\",  StringType(), nullable=False),\n",
    "        StructField(\"shipping_zip_code\",  StringType(), nullable=False),\n",
    "        StructField(\"group\", StringType(), nullable=False)\n",
    "    ])\n",
    "    \n",
    "# Utility functions\n",
    "class HDFSUtils:\n",
    "    @staticmethod\n",
    "    def get_latest_file(spark: SparkSession, hdfs_path: str) -> str:\n",
    "        files = spark._jvm.org.apache.hadoop.fs.FileSystem.get(spark._jsc.hadoopConfiguration()) \\\n",
    "            .listStatus(spark._jvm.org.apache.hadoop.fs.Path(hdfs_path))\n",
    "        sorted_files = sorted(files, key=lambda f: f.getModificationTime(), reverse=True)\n",
    "        return sorted_files[0].getPath().toString() if sorted_files else None\n",
    "    "
   ]
  },
  {
   "cell_type": "code",
   "execution_count": 218,
   "id": "0e0618d1-6b6e-4644-a977-e5605750be03",
   "metadata": {},
   "outputs": [],
   "source": [
    "from pyspark.sql import SparkSession, DataFrame\n",
    "from typing import Dict, List, Callable\n",
    "from datetime import datetime\n",
    "from utils import HDFSUtils\n",
    "import os\n",
    "\n",
    "# Data reading\n",
    "class DataReader:\n",
    "    @staticmethod\n",
    "    def read_latest_csv(spark: SparkSession, base_path: str, num_partitions: int = 200) -> DataFrame:\n",
    "        current_date = datetime.now().strftime(\"%Y-%m-%d\")\n",
    "        hdfs_path = f\"{base_path}/raw_sales_transactions_{current_date}\"\n",
    "        latest_file = HDFSUtils.get_latest_file(spark, hdfs_path)\n",
    "        max_retries = 5\n",
    "        initial_wait_time = 5\n",
    "        \n",
    "        if latest_file:\n",
    "            print(f\"Processing file: {latest_file}\")\n",
    "            for attempt in range(max_retries):\n",
    "                try:\n",
    "                    # Read the CSV file with header and repartition\n",
    "                    df = spark.read.option(\"header\", \"true\").csv(latest_file)\n",
    "                    repartitioned_df = df.repartition(num_partitions)\n",
    "                    print(f\"Successfully read CSV and partitioned to {num_partitions}\")\n",
    "                    return repartitioned_df\n",
    "                except Exception as e:\n",
    "                    wait_time = initial_wait_time * (2 ** attempt)\n",
    "                    print(f\"Attempt {attempt + 1} failed with error: {str(e)}\")\n",
    "                    print(\"Full stack trace:\")\n",
    "                    traceback.print_exc()\n",
    "                    if attempt + 1 < max_retries:\n",
    "                        print(f\"Retrying in {wait_time} seconds...\")\n",
    "                        time.sleep(wait_time)\n",
    "                    else:\n",
    "                        print(\"Max retries reached. Could not read the CSV file.\")\n",
    "                        return None\n",
    "        else:\n",
    "            print(f\"No files found in {hdfs_path}\")\n",
    "            return None\n",
    "        \n",
    "# Data Writer\n",
    "class DataWriter:\n",
    "    @staticmethod\n",
    "    def write_parquet(spark: SparkSession, df: DataFrame, base_path: str, transaction_type: str, partition_cols: List[str]) -> None:\n",
    "        current_date = datetime.now().strftime(\"%Y-%m-%d\")\n",
    "        standardized_dir = f\"standardized_sales_transaction_{current_date}\"\n",
    "        full_path = os.path.join(base_path, standardized_dir)\n",
    "\n",
    "        # Check if the standardized directory for the current day exists, create it if not\n",
    "        fs = spark._jvm.org.apache.hadoop.fs.FileSystem.get(spark._jsc.hadoopConfiguration())\n",
    "        if not fs.exists(spark._jvm.org.apache.hadoop.fs.Path(full_path)):\n",
    "            fs.mkdirs(spark._jvm.org.apache.hadoop.fs.Path(full_path))\n",
    "            print(f\"Created directory: {full_path}\")\n",
    "        else:\n",
    "            print(f\"Directory already exists: {full_path}\")\n",
    "\n",
    "        # Generate timestamp\n",
    "        timestamp = datetime.now().strftime(\"%Y%m%d%H%M%S\")\n",
    "\n",
    "        result_string = ''\n",
    "        try:\n",
    "            first_group = split_dfs['online'].select(\"group\").filter(\"group is not null\").first()[0]\n",
    "            result_string = str(first_group)\n",
    "        except Exception as e:\n",
    "            print(f\"An error occurred: {str(e)}\")\n",
    "            result_string = None            \n",
    "        \n",
    "        file_name = f\"{transaction_type}_transactions_{result_string}_{timestamp}\"\n",
    "        group_path = os.path.join(full_path, file_name)\n",
    "\n",
    "        df.write \\\n",
    "            .partitionBy(partition_cols) \\\n",
    "            .mode(\"overwrite\") \\\n",
    "            .parquet(group_path)\n",
    "\n",
    "        print(f\"Written {transaction_type} transactions for group {result_string} to {group_path}\")"
   ]
  },
  {
   "cell_type": "code",
   "execution_count": 205,
   "id": "0f0f1a4d-0ed8-4fa7-9297-0ea835c3ab19",
   "metadata": {},
   "outputs": [],
   "source": [
    "from pyspark.sql import SparkSession, DataFrame\n",
    "from pyspark.sql.types import *\n",
    "from pyspark.sql.functions import *\n",
    "from typing import Dict, List, Callable\n",
    "from datetime import datetime\n",
    "import re\n",
    "\n",
    "# Data transformation functions\n",
    "class DataTransformer:\n",
    "    @staticmethod\n",
    "    def rename_columns(df: DataFrame) -> DataFrame:\n",
    "        return df.withColumnRenamed(\"name\", \"sales_agent_name\") \\\n",
    "                 .withColumnRenamed(\"hire_date\", \"sales_agent_hire_date\") \\\n",
    "                 .withColumnRenamed(\"location\", \"branch_location\") \\\n",
    "                 .withColumnRenamed(\"establish_date\", \"branch_establish_date\") \\\n",
    "                 .withColumnRenamed(\"class\", \"branch_class\") \\\n",
    "                 .withColumnRenamed(\"cusomter_email\", \"customer_email\") \\\n",
    "                 .withColumnRenamed(\"cusomter_lname\", \"customer_lname\")\n",
    "\n",
    "    @staticmethod\n",
    "    def remove_blank_columns(df: DataFrame) -> DataFrame:\n",
    "        return df.select([c for c in df.columns if df.filter(col(c).isNotNull()).count() > 0])\n",
    "\n",
    "    @staticmethod\n",
    "    def map_offers_to_discount(spark: SparkSession, df: DataFrame, offers_dict: Dict[str, float]) -> DataFrame:\n",
    "        broadcast_offers = spark.sparkContext.broadcast(offers_dict)\n",
    "        offer_columns = [\"offer_1\", \"offer_2\", \"offer_3\", \"offer_4\", \"offer_5\"]\n",
    "        \n",
    "        def create_offer_column(offer_col: str):\n",
    "            return when(col(offer_col) == lit(True), lit(broadcast_offers.value[offer_col]))\n",
    "        \n",
    "        offer_discount_columns = [create_offer_column(offer_col).alias(f\"{offer_col}_discount\") for offer_col in offer_columns]\n",
    "        df_with_offer_discounts = df.select(\"*\", *offer_discount_columns)\n",
    "        discount_column = coalesce(*[col(f\"{offer_col}_discount\") for offer_col in offer_columns], lit(broadcast_offers.value[\"null\"]))\n",
    "        \n",
    "        return df_with_offer_discounts.withColumn(\"discount\", discount_column.cast(FloatType())) \\\n",
    "                                      .drop(*[f\"{offer_col}_discount\" for offer_col in offer_columns]) \\\n",
    "                                      .drop(*offer_columns)\n",
    "\n",
    "    @staticmethod\n",
    "    def merge_customer_name(df: DataFrame) -> DataFrame:\n",
    "        return df.withColumn(\"customer_name\", concat(col(\"customer_fname\"), lit(\" \"), col(\"customer_lname\"))) \\\n",
    "                 .drop(\"customer_fname\", \"customer_lname\")\n",
    "\n",
    "    @staticmethod\n",
    "    @udf(returnType=StringType())\n",
    "    def clean_email(email: str) -> str:\n",
    "        if email is None:\n",
    "            return None\n",
    "        email = email.strip()\n",
    "        com = email.rfind('.')\n",
    "        email = email[:com+1] + \"com\"\n",
    "        email = re.sub(r'([a-zA-Z0-9._%+-]+@[a-zA-Z0-9.-]+\\.[a-zA-Z]{2,}).*', r'\\1', email)\n",
    "        return email if re.match(r'^[a-zA-Z0-9._%+-]+@[a-zA-Z0-9.-]+\\.[a-zA-Z]{2,}$', email) else None\n",
    "\n",
    "    @staticmethod\n",
    "    @udf(returnType=StringType())\n",
    "    def validate_transaction_id(trx_id: str) -> str:\n",
    "        if trx_id is None:\n",
    "            return None\n",
    "        trx_id = trx_id.strip()\n",
    "        numeric_part = re.sub(r'\\D', '', trx_id)\n",
    "        return f\"trx-{numeric_part}\" if numeric_part else None\n",
    "\n",
    "    @staticmethod\n",
    "    @udf(returnType=DoubleType())\n",
    "    def validate_unit_price(price):\n",
    "        return price if price >= 0 else (-1 * price)\n",
    "    \n",
    "    @staticmethod    \n",
    "    def rearrange_columns(df: DataFrame) -> DataFrame:\n",
    "        new_order = [\n",
    "            'transaction_id', 'transaction_date', 'customer_id', 'customer_name', 'customer_email',\n",
    "            'product_id', 'product_name', 'product_category', 'units', 'unit_price', 'discount',\n",
    "            'payment_method', 'group', 'is_online', 'sales_agent_id', 'sales_agent_name',\n",
    "            'sales_agent_hire_date', 'branch_id', 'branch_location', 'branch_class',\n",
    "            'shipping_street_name', 'shipping_city', 'shipping_state', 'shipping_zip_code'\n",
    "        ]\n",
    "        return df.select(new_order)\n",
    "\n",
    "    @staticmethod\n",
    "    def convert_dates_to_date_type(df: DataFrame) -> DataFrame:\n",
    "        return df.withColumn('transaction_date', to_date(col('transaction_date'))) \\\n",
    "                 .withColumn('branch_establish_date', to_date(col('branch_establish_date'))) \\\n",
    "                 .withColumn('sales_agent_hire_date', to_date(col('sales_agent_hire_date')))\n",
    "\n",
    "    @staticmethod\n",
    "    def convert_ids_to_long_type(df: DataFrame) -> DataFrame:\n",
    "        return df.withColumn('sales_agent_id', col('sales_agent_id').cast(LongType())) \\\n",
    "                 .withColumn('branch_id', col('branch_id').cast(LongType()))\n",
    "\n",
    "    @staticmethod\n",
    "    def split_shipping_address(df: DataFrame) -> DataFrame:\n",
    "        return df.withColumn(\"shipping_address_split\", split(col(\"shipping_address\"), \"/\")) \\\n",
    "                 .withColumn(\"shipping_street_name\", col(\"shipping_address_split\")[0]) \\\n",
    "                 .withColumn(\"shipping_city\", col(\"shipping_address_split\")[1]) \\\n",
    "                 .withColumn(\"shipping_state\", col(\"shipping_address_split\")[2]) \\\n",
    "                 .withColumn(\"shipping_zip_code\", col(\"shipping_address_split\")[3]) \\\n",
    "                 .drop(\"shipping_address\", \"shipping_address_split\")\n",
    "    \n",
    "    @staticmethod\n",
    "    def calculate_total_price(df: DataFrame) -> DataFrame:\n",
    "        return df.withColumn(\"total_price\", round(col(\"units\") * col(\"unit_price\") * (1 - col(\"discount\")), 3))\n",
    "\n",
    "    @staticmethod\n",
    "    def map_shipping_state(spark: SparkSession, df: DataFrame, state_dict: Dict[str, str]) -> DataFrame:\n",
    "        broadcast_dict = spark.sparkContext.broadcast(state_dict)\n",
    "        conditions = coalesce(*[when(col(\"shipping_state\") == key, lit(value)) for key, value in broadcast_dict.value.items()])\n",
    "        return df.withColumn(\"shipping_state_mapped\", when(conditions.isNotNull(), conditions).otherwise(col(\"shipping_state\"))) \\\n",
    "                 .drop(\"shipping_state\") \\\n",
    "                 .withColumnRenamed(\"shipping_state_mapped\", \"shipping_state\")"
   ]
  },
  {
   "cell_type": "code",
   "execution_count": 198,
   "id": "7f2f7a5f-1209-48ee-b4fc-f3825817b98b",
   "metadata": {},
   "outputs": [],
   "source": [
    "from pyspark.sql import SparkSession, DataFrame\n",
    "from pyspark.sql.types import *\n",
    "from pyspark.sql.functions import *\n",
    "from typing import Dict, List, Callable\n",
    "from datetime import datetime\n",
    "from transformation import DataTransformer\n",
    "import re\n",
    "\n",
    "# Data Quality Layer\n",
    "class DataQualityLayer:\n",
    "    def __init__(self, spark: SparkSession):\n",
    "        self.spark = spark\n",
    "        self.state_dict = {\n",
    "            'AZ': 'Arizona', 'DC': 'District of Columbia', 'KY': 'Kentucky',\n",
    "            'CA': 'California', 'CT': 'Connecticut', 'VT': 'Vermont',\n",
    "            'MD': 'Maryland', 'AL': 'Alabama', 'TN': 'Tennessee',\n",
    "            'GA': 'Georgia', 'MA': 'Massachusetts', 'FL': 'Florida',\n",
    "            'CO': 'Colorado', 'AK': 'Alaska', 'AR': 'Arkansas',\n",
    "            'OK': 'Oklahoma', 'Washington': 'Washington'\n",
    "        }\n",
    "        self.offers_dict = {\n",
    "            \"null\": 0.0, \"offer_1\": 0.05, \"offer_2\": 0.1,\n",
    "            \"offer_3\": 0.15, \"offer_4\": 0.20, \"offer_5\": 0.25\n",
    "        }\n",
    "\n",
    "    def split_online_offline(self, df: DataFrame) -> Dict[str, DataFrame]:\n",
    "        return {\n",
    "            \"online\": df.filter(col(\"is_online\") == \"yes\").drop(\"is_online\"),\n",
    "            \"offline\": df.filter(col(\"is_online\") == \"no\").drop(\"is_online\")\n",
    "        }\n",
    "\n",
    "    def apply_common_transformations(self, df: DataFrame) -> DataFrame:\n",
    "        transformations = [\n",
    "            DataTransformer.rename_columns,\n",
    "            DataTransformer.remove_blank_columns,\n",
    "            lambda df: DataTransformer.map_offers_to_discount(self.spark, df, self.offers_dict),\n",
    "            DataTransformer.merge_customer_name,\n",
    "            lambda df: df.withColumn(\"customer_email\", DataTransformer.clean_email(col(\"customer_email\"))),\n",
    "            lambda df: df.withColumn(\"transaction_id\", DataTransformer.validate_transaction_id(col(\"transaction_id\"))),\n",
    "            DataTransformer.calculate_total_price\n",
    "        ]\n",
    "\n",
    "        for transform in transformations:\n",
    "            df = transform(df)\n",
    "        return df\n",
    "\n",
    "    def apply_offline_transformations(self, df: DataFrame) -> DataFrame:\n",
    "        transformations = [\n",
    "            DataTransformer.convert_dates_to_date_type,\n",
    "            DataTransformer.convert_ids_to_long_type,\n",
    "        ]\n",
    "\n",
    "        for transform in transformations:\n",
    "            df = transform(df)\n",
    "        return df\n",
    "\n",
    "    def apply_online_transformations(self, df: DataFrame) -> DataFrame:\n",
    "        transformations = [\n",
    "            lambda df: df.withColumn('transaction_date', to_date(col('transaction_date'))),\n",
    "            DataTransformer.split_shipping_address,\n",
    "            lambda df: DataTransformer.map_shipping_state(self.spark, df, self.state_dict),\n",
    "        ]\n",
    "\n",
    "        for transform in transformations:\n",
    "            df = transform(df)\n",
    "        return df\n",
    "\n",
    "    def add_row_index(self, df: DataFrame) -> DataFrame:\n",
    "        return df.withColumn(\"row_index\", monotonically_increasing_id())"
   ]
  },
  {
   "cell_type": "code",
   "execution_count": 199,
   "id": "2a556415-22f0-4c8c-8a11-361d741f8400",
   "metadata": {},
   "outputs": [],
   "source": [
    "spark = SparkSession.builder.appName(\"DataQualityLayer\").getOrCreate()"
   ]
  },
  {
   "cell_type": "code",
   "execution_count": 200,
   "id": "fb270235-b3f2-463f-a568-59294b2bc63e",
   "metadata": {
    "tags": []
   },
   "outputs": [
    {
     "name": "stdout",
     "output_type": "stream",
     "text": [
      "Processing file: hdfs://localhost:9000/user/itversity/q-company_raw_layer/raw_sales_transactions_2024-07-10/group2_merged_sales_transactions_20240711_000534.csv\n",
      "Successfully read CSV and partitioned to 50\n"
     ]
    }
   ],
   "source": [
    "raw_df = DataReader.read_latest_csv(spark, Config.RAW_BASE_PATH, 50)"
   ]
  },
  {
   "cell_type": "code",
   "execution_count": 92,
   "id": "7ef1f543-bdd1-44fe-9826-7d62857fb9ae",
   "metadata": {},
   "outputs": [
    {
     "data": {
      "text/plain": [
       "1500"
      ]
     },
     "execution_count": 92,
     "metadata": {},
     "output_type": "execute_result"
    }
   ],
   "source": [
    "raw_df.count()"
   ]
  },
  {
   "cell_type": "code",
   "execution_count": 153,
   "id": "ebb10aa8-ea08-4dd0-bb44-2ec17c37bc25",
   "metadata": {
    "tags": []
   },
   "outputs": [],
   "source": [
    "df = DataTransformer.rename_columns(raw_df)"
   ]
  },
  {
   "cell_type": "code",
   "execution_count": 154,
   "id": "abba02c1-b738-47bc-b342-e5993d89c3cc",
   "metadata": {
    "tags": []
   },
   "outputs": [],
   "source": [
    "df = DataTransformer.remove_blank_columns(df)"
   ]
  },
  {
   "cell_type": "code",
   "execution_count": 202,
   "id": "58148ad7-dfeb-4696-95c7-337851335f99",
   "metadata": {
    "tags": []
   },
   "outputs": [],
   "source": [
    "df = DataTransformer.map_offers_to_discount(spark, raw_df, dq_layer.offers_dict)"
   ]
  },
  {
   "cell_type": "code",
   "execution_count": 156,
   "id": "67a5aadb-cc00-4de2-a16c-9439a0603f65",
   "metadata": {
    "tags": []
   },
   "outputs": [],
   "source": [
    "df = DataTransformer.merge_customer_name(df)"
   ]
  },
  {
   "cell_type": "code",
   "execution_count": 203,
   "id": "11950dc2-2712-4a13-a2dd-6b49cac0e89c",
   "metadata": {
    "collapsed": true,
    "jupyter": {
     "outputs_hidden": true
    },
    "tags": []
   },
   "outputs": [
    {
     "data": {
      "text/html": [
       "<table border='1'>\n",
       "<tr><th>transaction_date</th><th>transaction_id</th><th>customer_id</th><th>customer_fname</th><th>customer_lname</th><th>customer_email</th><th>sales_agent_id</th><th>branch_id</th><th>product_id</th><th>product_name</th><th>product_category</th><th>units</th><th>unit_price</th><th>is_online</th><th>payment_method</th><th>shipping_address</th><th>name</th><th>hire_date</th><th>location</th><th>establish_date</th><th>class</th><th>group</th><th>discount</th></tr>\n",
       "<tr><td>2022-2-26</td><td>trx-100226527334</td><td>85523</td><td>Michael</td><td>Smith</td><td>michael.smith@yah...</td><td>null</td><td>null</td><td>9</td><td>Boots</td><td>Footwear</td><td>4</td><td>129.99</td><td>yes</td><td>PayPal</td><td>6717 North 59th A...</td><td>null</td><td>null</td><td>null</td><td>null</td><td>null</td><td>group2</td><td>0.25</td></tr>\n",
       "<tr><td>2023-4-7</td><td>trx-366002476938</td><td>85487</td><td>Olivia</td><td>Smith</td><td>olivia.smith@hotm...</td><td>5.0</td><td>3.0</td><td>16</td><td>Skirt</td><td>Clothing</td><td>2</td><td>39.99</td><td>no</td><td>Cash</td><td>null</td><td>David Wilson</td><td>2021-4-8</td><td>Chicago</td><td>2015-03-10</td><td>A</td><td>group2</td><td>0.25</td></tr>\n",
       "<tr><td>2023-11-24</td><td>trx-343713769120</td><td>85537</td><td>Michael</td><td>Brown</td><td>michael.brown@yah...</td><td>6.0</td><td>3.0</td><td>18</td><td>Boots</td><td>Footwear</td><td>5</td><td>149.99</td><td>no</td><td>Credit Card</td><td>null</td><td>Emma Taylor</td><td>2019-3-28</td><td>Chicago</td><td>2015-03-10</td><td>A</td><td>group2</td><td>0.0</td></tr>\n",
       "<tr><td>2023-12-11</td><td>trx-922965728140</td><td>85508</td><td>Ava</td><td>Brown</td><td>ava.brown@gmail.c...</td><td>null</td><td>null</td><td>22</td><td>Coffee Maker</td><td>Appliances</td><td>3</td><td>79.99</td><td>yes</td><td>Stripe</td><td>22219 Panama City...</td><td>null</td><td>null</td><td>null</td><td>null</td><td>null</td><td>group2</td><td>0.0</td></tr>\n",
       "<tr><td>2022-8-23</td><td>trx-438006840866</td><td>85475</td><td>William</td><td>Taylor</td><td>william.taylor@gm...</td><td>null</td><td>null</td><td>26</td><td>Vacuum Cleaner</td><td>Appliances</td><td>5</td><td>199.99</td><td>yes</td><td>Stripe</td><td>1801 Dodge Trail/...</td><td>null</td><td>null</td><td>null</td><td>null</td><td>null</td><td>group2</td><td>0.15</td></tr>\n",
       "<tr><td>2022-3-20</td><td>trx-825468820862</td><td>85521</td><td>Mia</td><td>Wilson</td><td>mia.wilson@yahoo....</td><td>2.0</td><td>2.0</td><td>11</td><td>TV</td><td>Electronics</td><td>1</td><td>899.99</td><td>no</td><td>Credit Card</td><td>null</td><td>Jane Smith</td><td>2018-5-13</td><td>Los Angeles</td><td>2016-07-28</td><td>B</td><td>group2</td><td>0.05</td></tr>\n",
       "<tr><td>2022-5-3</td><td>trx-484141713642</td><td>85482</td><td>John</td><td>Taylor</td><td>john.taylor@hotma...</td><td>null</td><td>null</td><td>27</td><td>Iron</td><td>Appliances</td><td>8</td><td>29.99</td><td>yes</td><td>Stripe</td><td>64 Roseberry Circ...</td><td>null</td><td>null</td><td>null</td><td>null</td><td>null</td><td>group2</td><td>0.25</td></tr>\n",
       "<tr><td>2022-3-13</td><td>trx-087113777656</td><td>85510</td><td>Alexander</td><td>Brown</td><td>alexander.brown@y...</td><td>9.0</td><td>5.0</td><td>5</td><td>T-Shirt</td><td>Clothing</td><td>10</td><td>19.99</td><td>no</td><td>Credit Card</td><td>null</td><td>Daniel Martinez</td><td>2018-10-8</td><td>Phoenix</td><td>2017-09-20</td><td>C</td><td>group2</td><td>0.0</td></tr>\n",
       "<tr><td>2023-3-25</td><td>trx-339433590271</td><td>85549</td><td>William</td><td>Johnson</td><td>william.johnson@y...</td><td>null</td><td>null</td><td>18</td><td>Boots</td><td>Footwear</td><td>7</td><td>149.99</td><td>yes</td><td>Stripe</td><td>215 9th Street No...</td><td>null</td><td>null</td><td>null</td><td>null</td><td>null</td><td>group2</td><td>0.2</td></tr>\n",
       "<tr><td>2022-8-8</td><td>trx-896156002421</td><td>85464</td><td>Michael</td><td>Miller</td><td>michael.miller@ou...</td><td>7.0</td><td>2.0</td><td>27</td><td>Iron</td><td>Appliances</td><td>5</td><td>29.99</td><td>no</td><td>Credit Card</td><td>null</td><td>Christopher Miller</td><td>2020-1-11</td><td>Los Angeles</td><td>2016-07-28</td><td>B</td><td>group2</td><td>0.2</td></tr>\n",
       "<tr><td>2022-11-19</td><td>trx-583066125671</td><td>85496</td><td>Sophia</td><td>Wilson</td><td>sophia.wilson@gma...</td><td>null</td><td>null</td><td>27</td><td>Iron</td><td>Appliances</td><td>9</td><td>29.99</td><td>yes</td><td>Credit Card</td><td>247 Summit Street...</td><td>null</td><td>null</td><td>null</td><td>null</td><td>null</td><td>group2</td><td>0.25</td></tr>\n",
       "<tr><td>2022-9-20</td><td>trx-816087624880</td><td>85546</td><td>Michael</td><td>Davis</td><td>michael.davis@out...</td><td>null</td><td>null</td><td>6</td><td>Jeans</td><td>Clothing</td><td>5</td><td>49.99</td><td>yes</td><td>Credit Card</td><td>10277 West 52nd P...</td><td>null</td><td>null</td><td>null</td><td>null</td><td>null</td><td>group2</td><td>0.0</td></tr>\n",
       "<tr><td>2023-7-27</td><td>trx-164857857697</td><td>85476</td><td>Emma</td><td>Taylor</td><td>emma.taylor@outlo...</td><td>1.0</td><td>5.0</td><td>30</td><td>Electric Kettle</td><td>Appliances</td><td>4</td><td>24.99</td><td>no</td><td>Credit Card</td><td>null</td><td>John Doe</td><td>2020-6-3</td><td>Phoenix</td><td>2017-09-20</td><td>C</td><td>group2</td><td>0.05</td></tr>\n",
       "<tr><td>2023-1-4</td><td>trx-762717934325</td><td>85511</td><td>Ava</td><td>Jones</td><td>ava.jones@outlook...</td><td>9.0</td><td>5.0</td><td>4</td><td>Headphones</td><td>Electronics</td><td>8</td><td>99.99</td><td>no</td><td>Cash</td><td>null</td><td>Daniel Martinez</td><td>2018-10-8</td><td>Phoenix</td><td>2017-09-20</td><td>C</td><td>group2</td><td>0.0</td></tr>\n",
       "<tr><td>2023-1-7</td><td>trx-274951797070</td><td>85542</td><td>Ava</td><td>Davis</td><td>ava.davis@yahoo.com\\</td><td>2.0</td><td>2.0</td><td>21</td><td>Microwave</td><td>Appliances</td><td>6</td><td>129.99</td><td>no</td><td>Credit Card</td><td>null</td><td>Jane Smith</td><td>2018-5-13</td><td>Los Angeles</td><td>2016-07-28</td><td>B</td><td>group2</td><td>0.15</td></tr>\n",
       "<tr><td>2023-10-23</td><td>trx-841638216345</td><td>85511</td><td>Ava</td><td>Jones</td><td>ava.jones@outlook...</td><td>4.0</td><td>2.0</td><td>21</td><td>Microwave</td><td>Appliances</td><td>4</td><td>129.99</td><td>no</td><td>Credit Card</td><td>null</td><td>Emily Brown</td><td>2020-10-25</td><td>Los Angeles</td><td>2016-07-28</td><td>B</td><td>group2</td><td>0.05</td></tr>\n",
       "<tr><td>2023-7-25</td><td>trx-737158100069</td><td>85508</td><td>Ava</td><td>Brown</td><td>ava.brown@gmail.com&gt;</td><td>9.0</td><td>3.0</td><td>9</td><td>Boots</td><td>Footwear</td><td>8</td><td>129.99</td><td>no</td><td>Cash</td><td>null</td><td>Daniel Martinez</td><td>2018-10-8</td><td>Chicago</td><td>2015-03-10</td><td>A</td><td>group2</td><td>0.0</td></tr>\n",
       "<tr><td>2023-4-22</td><td>trx-442452929646</td><td>85525</td><td>Olivia</td><td>Miller</td><td>olivia.miller@gma...</td><td>null</td><td>null</td><td>15</td><td>Hoodie</td><td>Clothing</td><td>9</td><td>29.99</td><td>yes</td><td>Credit Card</td><td>58 North U.S.A Dr...</td><td>null</td><td>null</td><td>null</td><td>null</td><td>null</td><td>group2</td><td>0.25</td></tr>\n",
       "<tr><td>2023-5-10</td><td>trx-080584995267</td><td>85485</td><td>Olivia</td><td>Smith</td><td>olivia.smith@hotm...</td><td>7.0</td><td>1.0</td><td>9</td><td>Boots</td><td>Footwear</td><td>2</td><td>129.99</td><td>no</td><td>Credit Card</td><td>null</td><td>Christopher Miller</td><td>2020-1-11</td><td>New York</td><td>2017-01-15</td><td>A</td><td>group2</td><td>0.1</td></tr>\n",
       "<tr><td>2023-6-27</td><td>trx-054956679843</td><td>85536</td><td>Sophia</td><td>Jones</td><td>sophia.jones@hotm...</td><td>3.0</td><td>4.0</td><td>23</td><td>Toaster</td><td>Appliances</td><td>1</td><td>39.99</td><td>no</td><td>Credit Card</td><td>null</td><td>Michael Johnson</td><td>2021-10-3</td><td>Houston</td><td>2016-11-05</td><td>D</td><td>group2</td><td>0.25</td></tr>\n",
       "</table>\n",
       "only showing top 20 rows\n"
      ],
      "text/plain": [
       "+----------------+----------------+-----------+--------------+--------------+--------------------+--------------+---------+----------+---------------+----------------+-----+----------+---------+--------------+--------------------+------------------+----------+-----------+--------------+-----+------+--------+\n",
       "|transaction_date|  transaction_id|customer_id|customer_fname|customer_lname|      customer_email|sales_agent_id|branch_id|product_id|   product_name|product_category|units|unit_price|is_online|payment_method|    shipping_address|              name| hire_date|   location|establish_date|class| group|discount|\n",
       "+----------------+----------------+-----------+--------------+--------------+--------------------+--------------+---------+----------+---------------+----------------+-----+----------+---------+--------------+--------------------+------------------+----------+-----------+--------------+-----+------+--------+\n",
       "|       2022-2-26|trx-100226527334|      85523|       Michael|         Smith|michael.smith@yah...|          null|     null|         9|          Boots|        Footwear|    4|    129.99|      yes|        PayPal|6717 North 59th A...|              null|      null|       null|          null| null|group2|    0.25|\n",
       "|        2023-4-7|trx-366002476938|      85487|        Olivia|         Smith|olivia.smith@hotm...|           5.0|      3.0|        16|          Skirt|        Clothing|    2|     39.99|       no|          Cash|                null|      David Wilson|  2021-4-8|    Chicago|    2015-03-10|    A|group2|    0.25|\n",
       "|      2023-11-24|trx-343713769120|      85537|       Michael|         Brown|michael.brown@yah...|           6.0|      3.0|        18|          Boots|        Footwear|    5|    149.99|       no|   Credit Card|                null|       Emma Taylor| 2019-3-28|    Chicago|    2015-03-10|    A|group2|     0.0|\n",
       "|      2023-12-11|trx-922965728140|      85508|           Ava|         Brown|ava.brown@gmail.c...|          null|     null|        22|   Coffee Maker|      Appliances|    3|     79.99|      yes|        Stripe|22219 Panama City...|              null|      null|       null|          null| null|group2|     0.0|\n",
       "|       2022-8-23|trx-438006840866|      85475|       William|        Taylor|william.taylor@gm...|          null|     null|        26| Vacuum Cleaner|      Appliances|    5|    199.99|      yes|        Stripe|1801 Dodge Trail/...|              null|      null|       null|          null| null|group2|    0.15|\n",
       "|       2022-3-20|trx-825468820862|      85521|           Mia|        Wilson|mia.wilson@yahoo....|           2.0|      2.0|        11|             TV|     Electronics|    1|    899.99|       no|   Credit Card|                null|        Jane Smith| 2018-5-13|Los Angeles|    2016-07-28|    B|group2|    0.05|\n",
       "|        2022-5-3|trx-484141713642|      85482|          John|        Taylor|john.taylor@hotma...|          null|     null|        27|           Iron|      Appliances|    8|     29.99|      yes|        Stripe|64 Roseberry Circ...|              null|      null|       null|          null| null|group2|    0.25|\n",
       "|       2022-3-13|trx-087113777656|      85510|     Alexander|         Brown|alexander.brown@y...|           9.0|      5.0|         5|        T-Shirt|        Clothing|   10|     19.99|       no|   Credit Card|                null|   Daniel Martinez| 2018-10-8|    Phoenix|    2017-09-20|    C|group2|     0.0|\n",
       "|       2023-3-25|trx-339433590271|      85549|       William|       Johnson|william.johnson@y...|          null|     null|        18|          Boots|        Footwear|    7|    149.99|      yes|        Stripe|215 9th Street No...|              null|      null|       null|          null| null|group2|     0.2|\n",
       "|        2022-8-8|trx-896156002421|      85464|       Michael|        Miller|michael.miller@ou...|           7.0|      2.0|        27|           Iron|      Appliances|    5|     29.99|       no|   Credit Card|                null|Christopher Miller| 2020-1-11|Los Angeles|    2016-07-28|    B|group2|     0.2|\n",
       "|      2022-11-19|trx-583066125671|      85496|        Sophia|        Wilson|sophia.wilson@gma...|          null|     null|        27|           Iron|      Appliances|    9|     29.99|      yes|   Credit Card|247 Summit Street...|              null|      null|       null|          null| null|group2|    0.25|\n",
       "|       2022-9-20|trx-816087624880|      85546|       Michael|         Davis|michael.davis@out...|          null|     null|         6|          Jeans|        Clothing|    5|     49.99|      yes|   Credit Card|10277 West 52nd P...|              null|      null|       null|          null| null|group2|     0.0|\n",
       "|       2023-7-27|trx-164857857697|      85476|          Emma|        Taylor|emma.taylor@outlo...|           1.0|      5.0|        30|Electric Kettle|      Appliances|    4|     24.99|       no|   Credit Card|                null|          John Doe|  2020-6-3|    Phoenix|    2017-09-20|    C|group2|    0.05|\n",
       "|        2023-1-4|trx-762717934325|      85511|           Ava|         Jones|ava.jones@outlook...|           9.0|      5.0|         4|     Headphones|     Electronics|    8|     99.99|       no|          Cash|                null|   Daniel Martinez| 2018-10-8|    Phoenix|    2017-09-20|    C|group2|     0.0|\n",
       "|        2023-1-7|trx-274951797070|      85542|           Ava|         Davis|ava.davis@yahoo.com\\|           2.0|      2.0|        21|      Microwave|      Appliances|    6|    129.99|       no|   Credit Card|                null|        Jane Smith| 2018-5-13|Los Angeles|    2016-07-28|    B|group2|    0.15|\n",
       "|      2023-10-23|trx-841638216345|      85511|           Ava|         Jones|ava.jones@outlook...|           4.0|      2.0|        21|      Microwave|      Appliances|    4|    129.99|       no|   Credit Card|                null|       Emily Brown|2020-10-25|Los Angeles|    2016-07-28|    B|group2|    0.05|\n",
       "|       2023-7-25|trx-737158100069|      85508|           Ava|         Brown|ava.brown@gmail.com>|           9.0|      3.0|         9|          Boots|        Footwear|    8|    129.99|       no|          Cash|                null|   Daniel Martinez| 2018-10-8|    Chicago|    2015-03-10|    A|group2|     0.0|\n",
       "|       2023-4-22|trx-442452929646|      85525|        Olivia|        Miller|olivia.miller@gma...|          null|     null|        15|         Hoodie|        Clothing|    9|     29.99|      yes|   Credit Card|58 North U.S.A Dr...|              null|      null|       null|          null| null|group2|    0.25|\n",
       "|       2023-5-10|trx-080584995267|      85485|        Olivia|         Smith|olivia.smith@hotm...|           7.0|      1.0|         9|          Boots|        Footwear|    2|    129.99|       no|   Credit Card|                null|Christopher Miller| 2020-1-11|   New York|    2017-01-15|    A|group2|     0.1|\n",
       "|       2023-6-27|trx-054956679843|      85536|        Sophia|         Jones|sophia.jones@hotm...|           3.0|      4.0|        23|        Toaster|      Appliances|    1|     39.99|       no|   Credit Card|                null|   Michael Johnson| 2021-10-3|    Houston|    2016-11-05|    D|group2|    0.25|\n",
       "+----------------+----------------+-----------+--------------+--------------+--------------------+--------------+---------+----------+---------------+----------------+-----+----------+---------+--------------+--------------------+------------------+----------+-----------+--------------+-----+------+--------+\n",
       "only showing top 20 rows"
      ]
     },
     "execution_count": 203,
     "metadata": {},
     "output_type": "execute_result"
    }
   ],
   "source": [
    "df"
   ]
  },
  {
   "cell_type": "code",
   "execution_count": 157,
   "id": "17fc125f-2ecf-4ef4-a91a-c3f27b20628f",
   "metadata": {},
   "outputs": [],
   "source": [
    "df = df.withColumn(\"customer_email\", DataTransformer.clean_email(col(\"customer_email\")))"
   ]
  },
  {
   "cell_type": "code",
   "execution_count": 158,
   "id": "80e30b2d-7e20-4a5e-bf2c-b6c3112e4d4b",
   "metadata": {
    "tags": []
   },
   "outputs": [],
   "source": [
    "df = df.withColumn(\"transaction_id\", DataTransformer.validate_transaction_id(col(\"transaction_id\")))"
   ]
  },
  {
   "cell_type": "code",
   "execution_count": 206,
   "id": "e973761e-88c0-44f8-99ff-bf1be34e20a3",
   "metadata": {
    "collapsed": true,
    "jupyter": {
     "outputs_hidden": true
    },
    "tags": []
   },
   "outputs": [
    {
     "data": {
      "text/html": [
       "<table border='1'>\n",
       "<tr><th>transaction_date</th><th>transaction_id</th><th>customer_id</th><th>customer_fname</th><th>customer_lname</th><th>customer_email</th><th>sales_agent_id</th><th>branch_id</th><th>product_id</th><th>product_name</th><th>product_category</th><th>units</th><th>unit_price</th><th>is_online</th><th>payment_method</th><th>shipping_address</th><th>name</th><th>hire_date</th><th>location</th><th>establish_date</th><th>class</th><th>group</th><th>discount</th><th>total_price</th></tr>\n",
       "<tr><td>2022-2-26</td><td>trx-100226527334</td><td>85523</td><td>Michael</td><td>Smith</td><td>michael.smith@yah...</td><td>null</td><td>null</td><td>9</td><td>Boots</td><td>Footwear</td><td>4</td><td>129.99</td><td>yes</td><td>PayPal</td><td>6717 North 59th A...</td><td>null</td><td>null</td><td>null</td><td>null</td><td>null</td><td>group2</td><td>0.25</td><td>389.97</td></tr>\n",
       "<tr><td>2023-4-7</td><td>trx-366002476938</td><td>85487</td><td>Olivia</td><td>Smith</td><td>olivia.smith@hotm...</td><td>5.0</td><td>3.0</td><td>16</td><td>Skirt</td><td>Clothing</td><td>2</td><td>39.99</td><td>no</td><td>Cash</td><td>null</td><td>David Wilson</td><td>2021-4-8</td><td>Chicago</td><td>2015-03-10</td><td>A</td><td>group2</td><td>0.25</td><td>59.985</td></tr>\n",
       "<tr><td>2023-11-24</td><td>trx-343713769120</td><td>85537</td><td>Michael</td><td>Brown</td><td>michael.brown@yah...</td><td>6.0</td><td>3.0</td><td>18</td><td>Boots</td><td>Footwear</td><td>5</td><td>149.99</td><td>no</td><td>Credit Card</td><td>null</td><td>Emma Taylor</td><td>2019-3-28</td><td>Chicago</td><td>2015-03-10</td><td>A</td><td>group2</td><td>0.0</td><td>749.95</td></tr>\n",
       "<tr><td>2023-12-11</td><td>trx-922965728140</td><td>85508</td><td>Ava</td><td>Brown</td><td>ava.brown@gmail.c...</td><td>null</td><td>null</td><td>22</td><td>Coffee Maker</td><td>Appliances</td><td>3</td><td>79.99</td><td>yes</td><td>Stripe</td><td>22219 Panama City...</td><td>null</td><td>null</td><td>null</td><td>null</td><td>null</td><td>group2</td><td>0.0</td><td>239.97</td></tr>\n",
       "<tr><td>2022-8-23</td><td>trx-438006840866</td><td>85475</td><td>William</td><td>Taylor</td><td>william.taylor@gm...</td><td>null</td><td>null</td><td>26</td><td>Vacuum Cleaner</td><td>Appliances</td><td>5</td><td>199.99</td><td>yes</td><td>Stripe</td><td>1801 Dodge Trail/...</td><td>null</td><td>null</td><td>null</td><td>null</td><td>null</td><td>group2</td><td>0.15</td><td>849.958</td></tr>\n",
       "<tr><td>2022-3-20</td><td>trx-825468820862</td><td>85521</td><td>Mia</td><td>Wilson</td><td>mia.wilson@yahoo....</td><td>2.0</td><td>2.0</td><td>11</td><td>TV</td><td>Electronics</td><td>1</td><td>899.99</td><td>no</td><td>Credit Card</td><td>null</td><td>Jane Smith</td><td>2018-5-13</td><td>Los Angeles</td><td>2016-07-28</td><td>B</td><td>group2</td><td>0.05</td><td>854.99</td></tr>\n",
       "<tr><td>2022-5-3</td><td>trx-484141713642</td><td>85482</td><td>John</td><td>Taylor</td><td>john.taylor@hotma...</td><td>null</td><td>null</td><td>27</td><td>Iron</td><td>Appliances</td><td>8</td><td>29.99</td><td>yes</td><td>Stripe</td><td>64 Roseberry Circ...</td><td>null</td><td>null</td><td>null</td><td>null</td><td>null</td><td>group2</td><td>0.25</td><td>179.94</td></tr>\n",
       "<tr><td>2022-3-13</td><td>trx-087113777656</td><td>85510</td><td>Alexander</td><td>Brown</td><td>alexander.brown@y...</td><td>9.0</td><td>5.0</td><td>5</td><td>T-Shirt</td><td>Clothing</td><td>10</td><td>19.99</td><td>no</td><td>Credit Card</td><td>null</td><td>Daniel Martinez</td><td>2018-10-8</td><td>Phoenix</td><td>2017-09-20</td><td>C</td><td>group2</td><td>0.0</td><td>199.9</td></tr>\n",
       "<tr><td>2023-3-25</td><td>trx-339433590271</td><td>85549</td><td>William</td><td>Johnson</td><td>william.johnson@y...</td><td>null</td><td>null</td><td>18</td><td>Boots</td><td>Footwear</td><td>7</td><td>149.99</td><td>yes</td><td>Stripe</td><td>215 9th Street No...</td><td>null</td><td>null</td><td>null</td><td>null</td><td>null</td><td>group2</td><td>0.2</td><td>839.944</td></tr>\n",
       "<tr><td>2022-8-8</td><td>trx-896156002421</td><td>85464</td><td>Michael</td><td>Miller</td><td>michael.miller@ou...</td><td>7.0</td><td>2.0</td><td>27</td><td>Iron</td><td>Appliances</td><td>5</td><td>29.99</td><td>no</td><td>Credit Card</td><td>null</td><td>Christopher Miller</td><td>2020-1-11</td><td>Los Angeles</td><td>2016-07-28</td><td>B</td><td>group2</td><td>0.2</td><td>119.96</td></tr>\n",
       "<tr><td>2022-11-19</td><td>trx-583066125671</td><td>85496</td><td>Sophia</td><td>Wilson</td><td>sophia.wilson@gma...</td><td>null</td><td>null</td><td>27</td><td>Iron</td><td>Appliances</td><td>9</td><td>29.99</td><td>yes</td><td>Credit Card</td><td>247 Summit Street...</td><td>null</td><td>null</td><td>null</td><td>null</td><td>null</td><td>group2</td><td>0.25</td><td>202.432</td></tr>\n",
       "<tr><td>2022-9-20</td><td>trx-816087624880</td><td>85546</td><td>Michael</td><td>Davis</td><td>michael.davis@out...</td><td>null</td><td>null</td><td>6</td><td>Jeans</td><td>Clothing</td><td>5</td><td>49.99</td><td>yes</td><td>Credit Card</td><td>10277 West 52nd P...</td><td>null</td><td>null</td><td>null</td><td>null</td><td>null</td><td>group2</td><td>0.0</td><td>249.95</td></tr>\n",
       "<tr><td>2023-7-27</td><td>trx-164857857697</td><td>85476</td><td>Emma</td><td>Taylor</td><td>emma.taylor@outlo...</td><td>1.0</td><td>5.0</td><td>30</td><td>Electric Kettle</td><td>Appliances</td><td>4</td><td>24.99</td><td>no</td><td>Credit Card</td><td>null</td><td>John Doe</td><td>2020-6-3</td><td>Phoenix</td><td>2017-09-20</td><td>C</td><td>group2</td><td>0.05</td><td>94.962</td></tr>\n",
       "<tr><td>2023-1-4</td><td>trx-762717934325</td><td>85511</td><td>Ava</td><td>Jones</td><td>ava.jones@outlook...</td><td>9.0</td><td>5.0</td><td>4</td><td>Headphones</td><td>Electronics</td><td>8</td><td>99.99</td><td>no</td><td>Cash</td><td>null</td><td>Daniel Martinez</td><td>2018-10-8</td><td>Phoenix</td><td>2017-09-20</td><td>C</td><td>group2</td><td>0.0</td><td>799.92</td></tr>\n",
       "<tr><td>2023-1-7</td><td>trx-274951797070</td><td>85542</td><td>Ava</td><td>Davis</td><td>ava.davis@yahoo.com\\</td><td>2.0</td><td>2.0</td><td>21</td><td>Microwave</td><td>Appliances</td><td>6</td><td>129.99</td><td>no</td><td>Credit Card</td><td>null</td><td>Jane Smith</td><td>2018-5-13</td><td>Los Angeles</td><td>2016-07-28</td><td>B</td><td>group2</td><td>0.15</td><td>662.949</td></tr>\n",
       "<tr><td>2023-10-23</td><td>trx-841638216345</td><td>85511</td><td>Ava</td><td>Jones</td><td>ava.jones@outlook...</td><td>4.0</td><td>2.0</td><td>21</td><td>Microwave</td><td>Appliances</td><td>4</td><td>129.99</td><td>no</td><td>Credit Card</td><td>null</td><td>Emily Brown</td><td>2020-10-25</td><td>Los Angeles</td><td>2016-07-28</td><td>B</td><td>group2</td><td>0.05</td><td>493.962</td></tr>\n",
       "<tr><td>2023-7-25</td><td>trx-737158100069</td><td>85508</td><td>Ava</td><td>Brown</td><td>ava.brown@gmail.com&gt;</td><td>9.0</td><td>3.0</td><td>9</td><td>Boots</td><td>Footwear</td><td>8</td><td>129.99</td><td>no</td><td>Cash</td><td>null</td><td>Daniel Martinez</td><td>2018-10-8</td><td>Chicago</td><td>2015-03-10</td><td>A</td><td>group2</td><td>0.0</td><td>1039.92</td></tr>\n",
       "<tr><td>2023-4-22</td><td>trx-442452929646</td><td>85525</td><td>Olivia</td><td>Miller</td><td>olivia.miller@gma...</td><td>null</td><td>null</td><td>15</td><td>Hoodie</td><td>Clothing</td><td>9</td><td>29.99</td><td>yes</td><td>Credit Card</td><td>58 North U.S.A Dr...</td><td>null</td><td>null</td><td>null</td><td>null</td><td>null</td><td>group2</td><td>0.25</td><td>202.432</td></tr>\n",
       "<tr><td>2023-5-10</td><td>trx-080584995267</td><td>85485</td><td>Olivia</td><td>Smith</td><td>olivia.smith@hotm...</td><td>7.0</td><td>1.0</td><td>9</td><td>Boots</td><td>Footwear</td><td>2</td><td>129.99</td><td>no</td><td>Credit Card</td><td>null</td><td>Christopher Miller</td><td>2020-1-11</td><td>New York</td><td>2017-01-15</td><td>A</td><td>group2</td><td>0.1</td><td>233.982</td></tr>\n",
       "<tr><td>2023-6-27</td><td>trx-054956679843</td><td>85536</td><td>Sophia</td><td>Jones</td><td>sophia.jones@hotm...</td><td>3.0</td><td>4.0</td><td>23</td><td>Toaster</td><td>Appliances</td><td>1</td><td>39.99</td><td>no</td><td>Credit Card</td><td>null</td><td>Michael Johnson</td><td>2021-10-3</td><td>Houston</td><td>2016-11-05</td><td>D</td><td>group2</td><td>0.25</td><td>29.993</td></tr>\n",
       "</table>\n",
       "only showing top 20 rows\n"
      ],
      "text/plain": [
       "+----------------+----------------+-----------+--------------+--------------+--------------------+--------------+---------+----------+---------------+----------------+-----+----------+---------+--------------+--------------------+------------------+----------+-----------+--------------+-----+------+--------+-----------+\n",
       "|transaction_date|  transaction_id|customer_id|customer_fname|customer_lname|      customer_email|sales_agent_id|branch_id|product_id|   product_name|product_category|units|unit_price|is_online|payment_method|    shipping_address|              name| hire_date|   location|establish_date|class| group|discount|total_price|\n",
       "+----------------+----------------+-----------+--------------+--------------+--------------------+--------------+---------+----------+---------------+----------------+-----+----------+---------+--------------+--------------------+------------------+----------+-----------+--------------+-----+------+--------+-----------+\n",
       "|       2022-2-26|trx-100226527334|      85523|       Michael|         Smith|michael.smith@yah...|          null|     null|         9|          Boots|        Footwear|    4|    129.99|      yes|        PayPal|6717 North 59th A...|              null|      null|       null|          null| null|group2|    0.25|     389.97|\n",
       "|        2023-4-7|trx-366002476938|      85487|        Olivia|         Smith|olivia.smith@hotm...|           5.0|      3.0|        16|          Skirt|        Clothing|    2|     39.99|       no|          Cash|                null|      David Wilson|  2021-4-8|    Chicago|    2015-03-10|    A|group2|    0.25|     59.985|\n",
       "|      2023-11-24|trx-343713769120|      85537|       Michael|         Brown|michael.brown@yah...|           6.0|      3.0|        18|          Boots|        Footwear|    5|    149.99|       no|   Credit Card|                null|       Emma Taylor| 2019-3-28|    Chicago|    2015-03-10|    A|group2|     0.0|     749.95|\n",
       "|      2023-12-11|trx-922965728140|      85508|           Ava|         Brown|ava.brown@gmail.c...|          null|     null|        22|   Coffee Maker|      Appliances|    3|     79.99|      yes|        Stripe|22219 Panama City...|              null|      null|       null|          null| null|group2|     0.0|     239.97|\n",
       "|       2022-8-23|trx-438006840866|      85475|       William|        Taylor|william.taylor@gm...|          null|     null|        26| Vacuum Cleaner|      Appliances|    5|    199.99|      yes|        Stripe|1801 Dodge Trail/...|              null|      null|       null|          null| null|group2|    0.15|    849.958|\n",
       "|       2022-3-20|trx-825468820862|      85521|           Mia|        Wilson|mia.wilson@yahoo....|           2.0|      2.0|        11|             TV|     Electronics|    1|    899.99|       no|   Credit Card|                null|        Jane Smith| 2018-5-13|Los Angeles|    2016-07-28|    B|group2|    0.05|     854.99|\n",
       "|        2022-5-3|trx-484141713642|      85482|          John|        Taylor|john.taylor@hotma...|          null|     null|        27|           Iron|      Appliances|    8|     29.99|      yes|        Stripe|64 Roseberry Circ...|              null|      null|       null|          null| null|group2|    0.25|     179.94|\n",
       "|       2022-3-13|trx-087113777656|      85510|     Alexander|         Brown|alexander.brown@y...|           9.0|      5.0|         5|        T-Shirt|        Clothing|   10|     19.99|       no|   Credit Card|                null|   Daniel Martinez| 2018-10-8|    Phoenix|    2017-09-20|    C|group2|     0.0|      199.9|\n",
       "|       2023-3-25|trx-339433590271|      85549|       William|       Johnson|william.johnson@y...|          null|     null|        18|          Boots|        Footwear|    7|    149.99|      yes|        Stripe|215 9th Street No...|              null|      null|       null|          null| null|group2|     0.2|    839.944|\n",
       "|        2022-8-8|trx-896156002421|      85464|       Michael|        Miller|michael.miller@ou...|           7.0|      2.0|        27|           Iron|      Appliances|    5|     29.99|       no|   Credit Card|                null|Christopher Miller| 2020-1-11|Los Angeles|    2016-07-28|    B|group2|     0.2|     119.96|\n",
       "|      2022-11-19|trx-583066125671|      85496|        Sophia|        Wilson|sophia.wilson@gma...|          null|     null|        27|           Iron|      Appliances|    9|     29.99|      yes|   Credit Card|247 Summit Street...|              null|      null|       null|          null| null|group2|    0.25|    202.432|\n",
       "|       2022-9-20|trx-816087624880|      85546|       Michael|         Davis|michael.davis@out...|          null|     null|         6|          Jeans|        Clothing|    5|     49.99|      yes|   Credit Card|10277 West 52nd P...|              null|      null|       null|          null| null|group2|     0.0|     249.95|\n",
       "|       2023-7-27|trx-164857857697|      85476|          Emma|        Taylor|emma.taylor@outlo...|           1.0|      5.0|        30|Electric Kettle|      Appliances|    4|     24.99|       no|   Credit Card|                null|          John Doe|  2020-6-3|    Phoenix|    2017-09-20|    C|group2|    0.05|     94.962|\n",
       "|        2023-1-4|trx-762717934325|      85511|           Ava|         Jones|ava.jones@outlook...|           9.0|      5.0|         4|     Headphones|     Electronics|    8|     99.99|       no|          Cash|                null|   Daniel Martinez| 2018-10-8|    Phoenix|    2017-09-20|    C|group2|     0.0|     799.92|\n",
       "|        2023-1-7|trx-274951797070|      85542|           Ava|         Davis|ava.davis@yahoo.com\\|           2.0|      2.0|        21|      Microwave|      Appliances|    6|    129.99|       no|   Credit Card|                null|        Jane Smith| 2018-5-13|Los Angeles|    2016-07-28|    B|group2|    0.15|    662.949|\n",
       "|      2023-10-23|trx-841638216345|      85511|           Ava|         Jones|ava.jones@outlook...|           4.0|      2.0|        21|      Microwave|      Appliances|    4|    129.99|       no|   Credit Card|                null|       Emily Brown|2020-10-25|Los Angeles|    2016-07-28|    B|group2|    0.05|    493.962|\n",
       "|       2023-7-25|trx-737158100069|      85508|           Ava|         Brown|ava.brown@gmail.com>|           9.0|      3.0|         9|          Boots|        Footwear|    8|    129.99|       no|          Cash|                null|   Daniel Martinez| 2018-10-8|    Chicago|    2015-03-10|    A|group2|     0.0|    1039.92|\n",
       "|       2023-4-22|trx-442452929646|      85525|        Olivia|        Miller|olivia.miller@gma...|          null|     null|        15|         Hoodie|        Clothing|    9|     29.99|      yes|   Credit Card|58 North U.S.A Dr...|              null|      null|       null|          null| null|group2|    0.25|    202.432|\n",
       "|       2023-5-10|trx-080584995267|      85485|        Olivia|         Smith|olivia.smith@hotm...|           7.0|      1.0|         9|          Boots|        Footwear|    2|    129.99|       no|   Credit Card|                null|Christopher Miller| 2020-1-11|   New York|    2017-01-15|    A|group2|     0.1|    233.982|\n",
       "|       2023-6-27|trx-054956679843|      85536|        Sophia|         Jones|sophia.jones@hotm...|           3.0|      4.0|        23|        Toaster|      Appliances|    1|     39.99|       no|   Credit Card|                null|   Michael Johnson| 2021-10-3|    Houston|    2016-11-05|    D|group2|    0.25|     29.993|\n",
       "+----------------+----------------+-----------+--------------+--------------+--------------------+--------------+---------+----------+---------------+----------------+-----+----------+---------+--------------+--------------------+------------------+----------+-----------+--------------+-----+------+--------+-----------+\n",
       "only showing top 20 rows"
      ]
     },
     "execution_count": 206,
     "metadata": {},
     "output_type": "execute_result"
    }
   ],
   "source": [
    "DataTransformer.calculate_total_price(df)"
   ]
  },
  {
   "cell_type": "code",
   "execution_count": 165,
   "id": "b0695057-2439-4e76-bc9c-d83d92561aa0",
   "metadata": {
    "collapsed": true,
    "jupyter": {
     "outputs_hidden": true
    },
    "tags": []
   },
   "outputs": [
    {
     "data": {
      "text/html": [
       "<table border='1'>\n",
       "<tr><th>transaction_date</th><th>transaction_id</th><th>customer_id</th><th>customer_email</th><th>sales_agent_id</th><th>branch_id</th><th>product_id</th><th>product_name</th><th>product_category</th><th>units</th><th>unit_price</th><th>is_online</th><th>payment_method</th><th>shipping_address</th><th>sales_agent_name</th><th>sales_agent_hire_date</th><th>branch_location</th><th>branch_establish_date</th><th>branch_class</th><th>group</th><th>discount</th><th>customer_name</th><th>total_price</th></tr>\n",
       "<tr><td>2022-2-26</td><td>trx-100226527334</td><td>85523</td><td>michael.smith@yah...</td><td>null</td><td>null</td><td>9</td><td>Boots</td><td>Footwear</td><td>4</td><td>129.99</td><td>yes</td><td>PayPal</td><td>6717 North 59th A...</td><td>null</td><td>null</td><td>null</td><td>null</td><td>null</td><td>group2</td><td>0.25</td><td>Michael Smith</td><td>389.97</td></tr>\n",
       "<tr><td>2023-4-7</td><td>trx-366002476938</td><td>85487</td><td>olivia.smith@hotm...</td><td>5.0</td><td>3.0</td><td>16</td><td>Skirt</td><td>Clothing</td><td>2</td><td>39.99</td><td>no</td><td>Cash</td><td>null</td><td>David Wilson</td><td>2021-4-8</td><td>Chicago</td><td>2015-03-10</td><td>A</td><td>group2</td><td>0.25</td><td>Olivia Smith</td><td>59.985</td></tr>\n",
       "<tr><td>2023-11-24</td><td>trx-343713769120</td><td>85537</td><td>michael.brown@yah...</td><td>6.0</td><td>3.0</td><td>18</td><td>Boots</td><td>Footwear</td><td>5</td><td>149.99</td><td>no</td><td>Credit Card</td><td>null</td><td>Emma Taylor</td><td>2019-3-28</td><td>Chicago</td><td>2015-03-10</td><td>A</td><td>group2</td><td>0.0</td><td>Michael Brown</td><td>749.95</td></tr>\n",
       "<tr><td>2023-12-11</td><td>trx-922965728140</td><td>85508</td><td>ava.brown@gmail.com</td><td>null</td><td>null</td><td>22</td><td>Coffee Maker</td><td>Appliances</td><td>3</td><td>79.99</td><td>yes</td><td>Stripe</td><td>22219 Panama City...</td><td>null</td><td>null</td><td>null</td><td>null</td><td>null</td><td>group2</td><td>0.0</td><td>Ava Brown</td><td>239.97</td></tr>\n",
       "<tr><td>2022-8-23</td><td>trx-438006840866</td><td>85475</td><td>william.taylor@gm...</td><td>null</td><td>null</td><td>26</td><td>Vacuum Cleaner</td><td>Appliances</td><td>5</td><td>199.99</td><td>yes</td><td>Stripe</td><td>1801 Dodge Trail/...</td><td>null</td><td>null</td><td>null</td><td>null</td><td>null</td><td>group2</td><td>0.15</td><td>William Taylor</td><td>849.958</td></tr>\n",
       "<tr><td>2022-3-20</td><td>trx-825468820862</td><td>85521</td><td>mia.wilson@yahoo.com</td><td>2.0</td><td>2.0</td><td>11</td><td>TV</td><td>Electronics</td><td>1</td><td>899.99</td><td>no</td><td>Credit Card</td><td>null</td><td>Jane Smith</td><td>2018-5-13</td><td>Los Angeles</td><td>2016-07-28</td><td>B</td><td>group2</td><td>0.05</td><td>Mia Wilson</td><td>854.99</td></tr>\n",
       "<tr><td>2022-5-3</td><td>trx-484141713642</td><td>85482</td><td>john.taylor@hotma...</td><td>null</td><td>null</td><td>27</td><td>Iron</td><td>Appliances</td><td>8</td><td>29.99</td><td>yes</td><td>Stripe</td><td>64 Roseberry Circ...</td><td>null</td><td>null</td><td>null</td><td>null</td><td>null</td><td>group2</td><td>0.25</td><td>John Taylor</td><td>179.94</td></tr>\n",
       "<tr><td>2022-3-13</td><td>trx-087113777656</td><td>85510</td><td>alexander.brown@y...</td><td>9.0</td><td>5.0</td><td>5</td><td>T-Shirt</td><td>Clothing</td><td>10</td><td>19.99</td><td>no</td><td>Credit Card</td><td>null</td><td>Daniel Martinez</td><td>2018-10-8</td><td>Phoenix</td><td>2017-09-20</td><td>C</td><td>group2</td><td>0.0</td><td>Alexander Brown</td><td>199.9</td></tr>\n",
       "<tr><td>2023-3-25</td><td>trx-339433590271</td><td>85549</td><td>william.johnson@y...</td><td>null</td><td>null</td><td>18</td><td>Boots</td><td>Footwear</td><td>7</td><td>149.99</td><td>yes</td><td>Stripe</td><td>215 9th Street No...</td><td>null</td><td>null</td><td>null</td><td>null</td><td>null</td><td>group2</td><td>0.2</td><td>William Johnson</td><td>839.944</td></tr>\n",
       "<tr><td>2022-8-8</td><td>trx-896156002421</td><td>85464</td><td>michael.miller@ou...</td><td>7.0</td><td>2.0</td><td>27</td><td>Iron</td><td>Appliances</td><td>5</td><td>29.99</td><td>no</td><td>Credit Card</td><td>null</td><td>Christopher Miller</td><td>2020-1-11</td><td>Los Angeles</td><td>2016-07-28</td><td>B</td><td>group2</td><td>0.2</td><td>Michael Miller</td><td>119.96</td></tr>\n",
       "<tr><td>2022-11-19</td><td>trx-583066125671</td><td>85496</td><td>sophia.wilson@gma...</td><td>null</td><td>null</td><td>27</td><td>Iron</td><td>Appliances</td><td>9</td><td>29.99</td><td>yes</td><td>Credit Card</td><td>247 Summit Street...</td><td>null</td><td>null</td><td>null</td><td>null</td><td>null</td><td>group2</td><td>0.25</td><td>Sophia Wilson</td><td>202.432</td></tr>\n",
       "<tr><td>2022-9-20</td><td>trx-816087624880</td><td>85546</td><td>michael.davis@out...</td><td>null</td><td>null</td><td>6</td><td>Jeans</td><td>Clothing</td><td>5</td><td>49.99</td><td>yes</td><td>Credit Card</td><td>10277 West 52nd P...</td><td>null</td><td>null</td><td>null</td><td>null</td><td>null</td><td>group2</td><td>0.0</td><td>Michael Davis</td><td>249.95</td></tr>\n",
       "<tr><td>2023-7-27</td><td>trx-164857857697</td><td>85476</td><td>emma.taylor@outlo...</td><td>1.0</td><td>5.0</td><td>30</td><td>Electric Kettle</td><td>Appliances</td><td>4</td><td>24.99</td><td>no</td><td>Credit Card</td><td>null</td><td>John Doe</td><td>2020-6-3</td><td>Phoenix</td><td>2017-09-20</td><td>C</td><td>group2</td><td>0.05</td><td>Emma Taylor</td><td>94.962</td></tr>\n",
       "<tr><td>2023-1-4</td><td>trx-762717934325</td><td>85511</td><td>ava.jones@outlook...</td><td>9.0</td><td>5.0</td><td>4</td><td>Headphones</td><td>Electronics</td><td>8</td><td>99.99</td><td>no</td><td>Cash</td><td>null</td><td>Daniel Martinez</td><td>2018-10-8</td><td>Phoenix</td><td>2017-09-20</td><td>C</td><td>group2</td><td>0.0</td><td>Ava Jones</td><td>799.92</td></tr>\n",
       "<tr><td>2023-1-7</td><td>trx-274951797070</td><td>85542</td><td>ava.davis@yahoo.com</td><td>2.0</td><td>2.0</td><td>21</td><td>Microwave</td><td>Appliances</td><td>6</td><td>129.99</td><td>no</td><td>Credit Card</td><td>null</td><td>Jane Smith</td><td>2018-5-13</td><td>Los Angeles</td><td>2016-07-28</td><td>B</td><td>group2</td><td>0.15</td><td>Ava Davis</td><td>662.949</td></tr>\n",
       "<tr><td>2023-10-23</td><td>trx-841638216345</td><td>85511</td><td>ava.jones@outlook...</td><td>4.0</td><td>2.0</td><td>21</td><td>Microwave</td><td>Appliances</td><td>4</td><td>129.99</td><td>no</td><td>Credit Card</td><td>null</td><td>Emily Brown</td><td>2020-10-25</td><td>Los Angeles</td><td>2016-07-28</td><td>B</td><td>group2</td><td>0.05</td><td>Ava Jones</td><td>493.962</td></tr>\n",
       "<tr><td>2023-7-25</td><td>trx-737158100069</td><td>85508</td><td>ava.brown@gmail.com</td><td>9.0</td><td>3.0</td><td>9</td><td>Boots</td><td>Footwear</td><td>8</td><td>129.99</td><td>no</td><td>Cash</td><td>null</td><td>Daniel Martinez</td><td>2018-10-8</td><td>Chicago</td><td>2015-03-10</td><td>A</td><td>group2</td><td>0.0</td><td>Ava Brown</td><td>1039.92</td></tr>\n",
       "<tr><td>2023-4-22</td><td>trx-442452929646</td><td>85525</td><td>olivia.miller@gma...</td><td>null</td><td>null</td><td>15</td><td>Hoodie</td><td>Clothing</td><td>9</td><td>29.99</td><td>yes</td><td>Credit Card</td><td>58 North U.S.A Dr...</td><td>null</td><td>null</td><td>null</td><td>null</td><td>null</td><td>group2</td><td>0.25</td><td>Olivia Miller</td><td>202.432</td></tr>\n",
       "<tr><td>2023-5-10</td><td>trx-080584995267</td><td>85485</td><td>olivia.smith@hotm...</td><td>7.0</td><td>1.0</td><td>9</td><td>Boots</td><td>Footwear</td><td>2</td><td>129.99</td><td>no</td><td>Credit Card</td><td>null</td><td>Christopher Miller</td><td>2020-1-11</td><td>New York</td><td>2017-01-15</td><td>A</td><td>group2</td><td>0.1</td><td>Olivia Smith</td><td>233.982</td></tr>\n",
       "<tr><td>2023-6-27</td><td>trx-054956679843</td><td>85536</td><td>sophia.jones@hotm...</td><td>3.0</td><td>4.0</td><td>23</td><td>Toaster</td><td>Appliances</td><td>1</td><td>39.99</td><td>no</td><td>Credit Card</td><td>null</td><td>Michael Johnson</td><td>2021-10-3</td><td>Houston</td><td>2016-11-05</td><td>D</td><td>group2</td><td>0.25</td><td>Sophia Jones</td><td>29.993</td></tr>\n",
       "</table>\n",
       "only showing top 20 rows\n"
      ],
      "text/plain": [
       "+----------------+----------------+-----------+--------------------+--------------+---------+----------+---------------+----------------+-----+----------+---------+--------------+--------------------+------------------+---------------------+---------------+---------------------+------------+------+--------+---------------+-----------+\n",
       "|transaction_date|  transaction_id|customer_id|      customer_email|sales_agent_id|branch_id|product_id|   product_name|product_category|units|unit_price|is_online|payment_method|    shipping_address|  sales_agent_name|sales_agent_hire_date|branch_location|branch_establish_date|branch_class| group|discount|  customer_name|total_price|\n",
       "+----------------+----------------+-----------+--------------------+--------------+---------+----------+---------------+----------------+-----+----------+---------+--------------+--------------------+------------------+---------------------+---------------+---------------------+------------+------+--------+---------------+-----------+\n",
       "|       2022-2-26|trx-100226527334|      85523|michael.smith@yah...|          null|     null|         9|          Boots|        Footwear|    4|    129.99|      yes|        PayPal|6717 North 59th A...|              null|                 null|           null|                 null|        null|group2|    0.25|  Michael Smith|     389.97|\n",
       "|        2023-4-7|trx-366002476938|      85487|olivia.smith@hotm...|           5.0|      3.0|        16|          Skirt|        Clothing|    2|     39.99|       no|          Cash|                null|      David Wilson|             2021-4-8|        Chicago|           2015-03-10|           A|group2|    0.25|   Olivia Smith|     59.985|\n",
       "|      2023-11-24|trx-343713769120|      85537|michael.brown@yah...|           6.0|      3.0|        18|          Boots|        Footwear|    5|    149.99|       no|   Credit Card|                null|       Emma Taylor|            2019-3-28|        Chicago|           2015-03-10|           A|group2|     0.0|  Michael Brown|     749.95|\n",
       "|      2023-12-11|trx-922965728140|      85508| ava.brown@gmail.com|          null|     null|        22|   Coffee Maker|      Appliances|    3|     79.99|      yes|        Stripe|22219 Panama City...|              null|                 null|           null|                 null|        null|group2|     0.0|      Ava Brown|     239.97|\n",
       "|       2022-8-23|trx-438006840866|      85475|william.taylor@gm...|          null|     null|        26| Vacuum Cleaner|      Appliances|    5|    199.99|      yes|        Stripe|1801 Dodge Trail/...|              null|                 null|           null|                 null|        null|group2|    0.15| William Taylor|    849.958|\n",
       "|       2022-3-20|trx-825468820862|      85521|mia.wilson@yahoo.com|           2.0|      2.0|        11|             TV|     Electronics|    1|    899.99|       no|   Credit Card|                null|        Jane Smith|            2018-5-13|    Los Angeles|           2016-07-28|           B|group2|    0.05|     Mia Wilson|     854.99|\n",
       "|        2022-5-3|trx-484141713642|      85482|john.taylor@hotma...|          null|     null|        27|           Iron|      Appliances|    8|     29.99|      yes|        Stripe|64 Roseberry Circ...|              null|                 null|           null|                 null|        null|group2|    0.25|    John Taylor|     179.94|\n",
       "|       2022-3-13|trx-087113777656|      85510|alexander.brown@y...|           9.0|      5.0|         5|        T-Shirt|        Clothing|   10|     19.99|       no|   Credit Card|                null|   Daniel Martinez|            2018-10-8|        Phoenix|           2017-09-20|           C|group2|     0.0|Alexander Brown|      199.9|\n",
       "|       2023-3-25|trx-339433590271|      85549|william.johnson@y...|          null|     null|        18|          Boots|        Footwear|    7|    149.99|      yes|        Stripe|215 9th Street No...|              null|                 null|           null|                 null|        null|group2|     0.2|William Johnson|    839.944|\n",
       "|        2022-8-8|trx-896156002421|      85464|michael.miller@ou...|           7.0|      2.0|        27|           Iron|      Appliances|    5|     29.99|       no|   Credit Card|                null|Christopher Miller|            2020-1-11|    Los Angeles|           2016-07-28|           B|group2|     0.2| Michael Miller|     119.96|\n",
       "|      2022-11-19|trx-583066125671|      85496|sophia.wilson@gma...|          null|     null|        27|           Iron|      Appliances|    9|     29.99|      yes|   Credit Card|247 Summit Street...|              null|                 null|           null|                 null|        null|group2|    0.25|  Sophia Wilson|    202.432|\n",
       "|       2022-9-20|trx-816087624880|      85546|michael.davis@out...|          null|     null|         6|          Jeans|        Clothing|    5|     49.99|      yes|   Credit Card|10277 West 52nd P...|              null|                 null|           null|                 null|        null|group2|     0.0|  Michael Davis|     249.95|\n",
       "|       2023-7-27|trx-164857857697|      85476|emma.taylor@outlo...|           1.0|      5.0|        30|Electric Kettle|      Appliances|    4|     24.99|       no|   Credit Card|                null|          John Doe|             2020-6-3|        Phoenix|           2017-09-20|           C|group2|    0.05|    Emma Taylor|     94.962|\n",
       "|        2023-1-4|trx-762717934325|      85511|ava.jones@outlook...|           9.0|      5.0|         4|     Headphones|     Electronics|    8|     99.99|       no|          Cash|                null|   Daniel Martinez|            2018-10-8|        Phoenix|           2017-09-20|           C|group2|     0.0|      Ava Jones|     799.92|\n",
       "|        2023-1-7|trx-274951797070|      85542| ava.davis@yahoo.com|           2.0|      2.0|        21|      Microwave|      Appliances|    6|    129.99|       no|   Credit Card|                null|        Jane Smith|            2018-5-13|    Los Angeles|           2016-07-28|           B|group2|    0.15|      Ava Davis|    662.949|\n",
       "|      2023-10-23|trx-841638216345|      85511|ava.jones@outlook...|           4.0|      2.0|        21|      Microwave|      Appliances|    4|    129.99|       no|   Credit Card|                null|       Emily Brown|           2020-10-25|    Los Angeles|           2016-07-28|           B|group2|    0.05|      Ava Jones|    493.962|\n",
       "|       2023-7-25|trx-737158100069|      85508| ava.brown@gmail.com|           9.0|      3.0|         9|          Boots|        Footwear|    8|    129.99|       no|          Cash|                null|   Daniel Martinez|            2018-10-8|        Chicago|           2015-03-10|           A|group2|     0.0|      Ava Brown|    1039.92|\n",
       "|       2023-4-22|trx-442452929646|      85525|olivia.miller@gma...|          null|     null|        15|         Hoodie|        Clothing|    9|     29.99|      yes|   Credit Card|58 North U.S.A Dr...|              null|                 null|           null|                 null|        null|group2|    0.25|  Olivia Miller|    202.432|\n",
       "|       2023-5-10|trx-080584995267|      85485|olivia.smith@hotm...|           7.0|      1.0|         9|          Boots|        Footwear|    2|    129.99|       no|   Credit Card|                null|Christopher Miller|            2020-1-11|       New York|           2017-01-15|           A|group2|     0.1|   Olivia Smith|    233.982|\n",
       "|       2023-6-27|trx-054956679843|      85536|sophia.jones@hotm...|           3.0|      4.0|        23|        Toaster|      Appliances|    1|     39.99|       no|   Credit Card|                null|   Michael Johnson|            2021-10-3|        Houston|           2016-11-05|           D|group2|    0.25|   Sophia Jones|     29.993|\n",
       "+----------------+----------------+-----------+--------------------+--------------+---------+----------+---------------+----------------+-----+----------+---------+--------------+--------------------+------------------+---------------------+---------------+---------------------+------------+------+--------+---------------+-----------+\n",
       "only showing top 20 rows"
      ]
     },
     "execution_count": 165,
     "metadata": {},
     "output_type": "execute_result"
    }
   ],
   "source": [
    "df"
   ]
  },
  {
   "cell_type": "code",
   "execution_count": 166,
   "id": "5cd97a46-500b-4190-86ec-ad3c56efd022",
   "metadata": {},
   "outputs": [],
   "source": [
    "df_splits = dq_layer.split_online_offline(df)"
   ]
  },
  {
   "cell_type": "code",
   "execution_count": 167,
   "id": "ad70e29d-0443-42a7-b45a-0843e13f87eb",
   "metadata": {
    "collapsed": true,
    "jupyter": {
     "outputs_hidden": true
    },
    "tags": []
   },
   "outputs": [
    {
     "data": {
      "text/html": [
       "<table border='1'>\n",
       "<tr><th>transaction_date</th><th>transaction_id</th><th>customer_id</th><th>customer_email</th><th>sales_agent_id</th><th>branch_id</th><th>product_id</th><th>product_name</th><th>product_category</th><th>units</th><th>unit_price</th><th>payment_method</th><th>shipping_address</th><th>sales_agent_name</th><th>sales_agent_hire_date</th><th>branch_location</th><th>branch_establish_date</th><th>branch_class</th><th>group</th><th>discount</th><th>customer_name</th><th>total_price</th></tr>\n",
       "<tr><td>2022-12-10</td><td>trx-514265914599</td><td>85536</td><td>sophia.jones@hotm...</td><td>null</td><td>null</td><td>23</td><td>Toaster</td><td>Appliances</td><td>2</td><td>39.99</td><td>PayPal</td><td>435 Benita Drive/...</td><td>null</td><td>null</td><td>null</td><td>null</td><td>null</td><td>group2</td><td>0.05</td><td>Sophia Jones</td><td>75.981</td></tr>\n",
       "<tr><td>2022-03-22</td><td>trx-462457335449</td><td>85498</td><td>olivia.brown@outl...</td><td>null</td><td>null</td><td>22</td><td>Coffee Maker</td><td>Appliances</td><td>4</td><td>79.99</td><td>Credit Card</td><td>7785 Montgomery M...</td><td>null</td><td>null</td><td>null</td><td>null</td><td>null</td><td>group2</td><td>0.2</td><td>Olivia Brown</td><td>255.968</td></tr>\n",
       "<tr><td>2023-07-23</td><td>trx-834189400703</td><td>85532</td><td>james.smith@yahoo...</td><td>null</td><td>null</td><td>13</td><td>Printer</td><td>Electronics</td><td>6</td><td>149.99</td><td>Credit Card</td><td>8376 Albacore Dri...</td><td>null</td><td>null</td><td>null</td><td>null</td><td>null</td><td>group2</td><td>0.2</td><td>James Smith</td><td>719.952</td></tr>\n",
       "<tr><td>2023-02-27</td><td>trx-520346742720</td><td>85476</td><td>emma.taylor@outlo...</td><td>null</td><td>null</td><td>17</td><td>Blouse</td><td>Clothing</td><td>10</td><td>29.99</td><td>Stripe</td><td>7419 West Hill La...</td><td>null</td><td>null</td><td>null</td><td>null</td><td>null</td><td>group2</td><td>0.15</td><td>Emma Taylor</td><td>254.915</td></tr>\n",
       "<tr><td>2022-08-10</td><td>trx-778091208972</td><td>85539</td><td>emma.davis@hotmai...</td><td>null</td><td>null</td><td>19</td><td>Sandals</td><td>Footwear</td><td>4</td><td>29.99</td><td>PayPal</td><td>90 Peabody Street...</td><td>null</td><td>null</td><td>null</td><td>null</td><td>null</td><td>group2</td><td>0.1</td><td>Emma Davis</td><td>107.964</td></tr>\n",
       "<tr><td>2022-08-13</td><td>trx-004528494647</td><td>85489</td><td>william.moore@yah...</td><td>null</td><td>null</td><td>6</td><td>Jeans</td><td>Clothing</td><td>3</td><td>49.99</td><td>Stripe</td><td>10841 Sutter Circ...</td><td>null</td><td>null</td><td>null</td><td>null</td><td>null</td><td>group2</td><td>0.25</td><td>William Moore</td><td>112.477</td></tr>\n",
       "<tr><td>2022-09-17</td><td>trx-142661381200</td><td>85484</td><td>olivia.brown@hotm...</td><td>null</td><td>null</td><td>16</td><td>Skirt</td><td>Clothing</td><td>2</td><td>39.99</td><td>Credit Card</td><td>683 North Wilson ...</td><td>null</td><td>null</td><td>null</td><td>null</td><td>null</td><td>group2</td><td>0.2</td><td>Olivia Brown</td><td>63.984</td></tr>\n",
       "<tr><td>2023-03-01</td><td>trx-706232987460</td><td>85545</td><td>john.wilson@gmail...</td><td>null</td><td>null</td><td>6</td><td>Jeans</td><td>Clothing</td><td>4</td><td>49.99</td><td>Stripe</td><td>6057 Griffith Ave...</td><td>null</td><td>null</td><td>null</td><td>null</td><td>null</td><td>group2</td><td>0.0</td><td>John Wilson</td><td>199.96</td></tr>\n",
       "<tr><td>2023-07-23</td><td>trx-424269763934</td><td>85513</td><td>james.davis@outlo...</td><td>null</td><td>null</td><td>17</td><td>Blouse</td><td>Clothing</td><td>3</td><td>29.99</td><td>Credit Card</td><td>32 Royal Drive/Lo...</td><td>null</td><td>null</td><td>null</td><td>null</td><td>null</td><td>group2</td><td>0.25</td><td>James Davis</td><td>67.477</td></tr>\n",
       "<tr><td>2023-07-01</td><td>trx-505504358640</td><td>85485</td><td>olivia.smith@hotm...</td><td>null</td><td>null</td><td>13</td><td>Printer</td><td>Electronics</td><td>9</td><td>149.99</td><td>Stripe</td><td>4216 Lorraine Str...</td><td>null</td><td>null</td><td>null</td><td>null</td><td>null</td><td>group2</td><td>0.0</td><td>Olivia Smith</td><td>1349.91</td></tr>\n",
       "<tr><td>2022-06-06</td><td>trx-698613696948</td><td>85539</td><td>emma.davis@hotmai...</td><td>null</td><td>null</td><td>13</td><td>Printer</td><td>Electronics</td><td>5</td><td>149.99</td><td>Stripe</td><td>42 West Louise St...</td><td>null</td><td>null</td><td>null</td><td>null</td><td>null</td><td>group2</td><td>0.1</td><td>Emma Davis</td><td>674.955</td></tr>\n",
       "<tr><td>2022-11-16</td><td>trx-526783695511</td><td>85497</td><td>emma.wilson@hotma...</td><td>null</td><td>null</td><td>14</td><td>Camera</td><td>Electronics</td><td>2</td><td>399.99</td><td>Credit Card</td><td>1109 East Glenn L...</td><td>null</td><td>null</td><td>null</td><td>null</td><td>null</td><td>group2</td><td>0.0</td><td>Emma Wilson</td><td>799.98</td></tr>\n",
       "<tr><td>2023-05-20</td><td>trx-174820673708</td><td>85551</td><td>sophia.wilson@yah...</td><td>null</td><td>null</td><td>5</td><td>T-Shirt</td><td>Clothing</td><td>10</td><td>19.99</td><td>Credit Card</td><td>1908 Newton Stree...</td><td>null</td><td>null</td><td>null</td><td>null</td><td>null</td><td>group2</td><td>0.0</td><td>Sophia Wilson</td><td>199.9</td></tr>\n",
       "<tr><td>2022-10-04</td><td>trx-021092172739</td><td>85560</td><td>ava.wilson@outloo...</td><td>null</td><td>null</td><td>10</td><td>Sandals</td><td>Footwear</td><td>1</td><td>39.99</td><td>Credit Card</td><td>102 Old Depot Roa...</td><td>null</td><td>null</td><td>null</td><td>null</td><td>null</td><td>group2</td><td>0.0</td><td>Ava Wilson</td><td>39.99</td></tr>\n",
       "<tr><td>2022-06-24</td><td>trx-439717373133</td><td>85473</td><td>mia.williams@yaho...</td><td>null</td><td>null</td><td>23</td><td>Toaster</td><td>Appliances</td><td>2</td><td>39.99</td><td>PayPal</td><td>112 Joyner Avenue...</td><td>null</td><td>null</td><td>null</td><td>null</td><td>null</td><td>group2</td><td>0.25</td><td>Mia Williams</td><td>59.985</td></tr>\n",
       "<tr><td>2023-01-04</td><td>trx-613296097801</td><td>85536</td><td>sophia.jones@hotm...</td><td>null</td><td>null</td><td>27</td><td>Iron</td><td>Appliances</td><td>1</td><td>29.99</td><td>Stripe</td><td>615 Florida Avenu...</td><td>null</td><td>null</td><td>null</td><td>null</td><td>null</td><td>group2</td><td>0.05</td><td>Sophia Jones</td><td>28.49</td></tr>\n",
       "<tr><td>2023-05-26</td><td>trx-694701856893</td><td>85472</td><td>olivia.miller@yah...</td><td>null</td><td>null</td><td>7</td><td>Dress</td><td>Clothing</td><td>3</td><td>59.99</td><td>Stripe</td><td>6862 North 44th A...</td><td>null</td><td>null</td><td>null</td><td>null</td><td>null</td><td>group2</td><td>0.15</td><td>Olivia Miller</td><td>152.975</td></tr>\n",
       "<tr><td>2022-10-23</td><td>trx-217921092485</td><td>85475</td><td>william.taylor@gm...</td><td>null</td><td>null</td><td>24</td><td>Blender</td><td>Appliances</td><td>5</td><td>49.99</td><td>PayPal</td><td>1320 Dunbarton Ro...</td><td>null</td><td>null</td><td>null</td><td>null</td><td>null</td><td>group2</td><td>0.0</td><td>William Taylor</td><td>249.95</td></tr>\n",
       "<tr><td>2023-11-03</td><td>trx-150591951050</td><td>85539</td><td>emma.davis@hotmai...</td><td>null</td><td>null</td><td>30</td><td>Electric Kettle</td><td>Appliances</td><td>9</td><td>24.99</td><td>Credit Card</td><td>6985 Woodstock Ro...</td><td>null</td><td>null</td><td>null</td><td>null</td><td>null</td><td>group2</td><td>0.2</td><td>Emma Davis</td><td>179.928</td></tr>\n",
       "<tr><td>2023-05-02</td><td>trx-523800078539</td><td>85474</td><td>emma.wilson@gmail...</td><td>null</td><td>null</td><td>2</td><td>Smartphone</td><td>Electronics</td><td>7</td><td>699.99</td><td>PayPal</td><td>13583 West 68th A...</td><td>null</td><td>null</td><td>null</td><td>null</td><td>null</td><td>group2</td><td>0.1</td><td>Emma Wilson</td><td>4409.937</td></tr>\n",
       "</table>\n",
       "only showing top 20 rows\n"
      ],
      "text/plain": [
       "+----------------+----------------+-----------+--------------------+--------------+---------+----------+---------------+----------------+-----+----------+--------------+--------------------+----------------+---------------------+---------------+---------------------+------------+------+--------+--------------+-----------+\n",
       "|transaction_date|  transaction_id|customer_id|      customer_email|sales_agent_id|branch_id|product_id|   product_name|product_category|units|unit_price|payment_method|    shipping_address|sales_agent_name|sales_agent_hire_date|branch_location|branch_establish_date|branch_class| group|discount| customer_name|total_price|\n",
       "+----------------+----------------+-----------+--------------------+--------------+---------+----------+---------------+----------------+-----+----------+--------------+--------------------+----------------+---------------------+---------------+---------------------+------------+------+--------+--------------+-----------+\n",
       "|      2022-12-10|trx-514265914599|      85536|sophia.jones@hotm...|          null|     null|        23|        Toaster|      Appliances|    2|     39.99|        PayPal|435 Benita Drive/...|            null|                 null|           null|                 null|        null|group2|    0.05|  Sophia Jones|     75.981|\n",
       "|      2022-03-22|trx-462457335449|      85498|olivia.brown@outl...|          null|     null|        22|   Coffee Maker|      Appliances|    4|     79.99|   Credit Card|7785 Montgomery M...|            null|                 null|           null|                 null|        null|group2|     0.2|  Olivia Brown|    255.968|\n",
       "|      2023-07-23|trx-834189400703|      85532|james.smith@yahoo...|          null|     null|        13|        Printer|     Electronics|    6|    149.99|   Credit Card|8376 Albacore Dri...|            null|                 null|           null|                 null|        null|group2|     0.2|   James Smith|    719.952|\n",
       "|      2023-02-27|trx-520346742720|      85476|emma.taylor@outlo...|          null|     null|        17|         Blouse|        Clothing|   10|     29.99|        Stripe|7419 West Hill La...|            null|                 null|           null|                 null|        null|group2|    0.15|   Emma Taylor|    254.915|\n",
       "|      2022-08-10|trx-778091208972|      85539|emma.davis@hotmai...|          null|     null|        19|        Sandals|        Footwear|    4|     29.99|        PayPal|90 Peabody Street...|            null|                 null|           null|                 null|        null|group2|     0.1|    Emma Davis|    107.964|\n",
       "|      2022-08-13|trx-004528494647|      85489|william.moore@yah...|          null|     null|         6|          Jeans|        Clothing|    3|     49.99|        Stripe|10841 Sutter Circ...|            null|                 null|           null|                 null|        null|group2|    0.25| William Moore|    112.477|\n",
       "|      2022-09-17|trx-142661381200|      85484|olivia.brown@hotm...|          null|     null|        16|          Skirt|        Clothing|    2|     39.99|   Credit Card|683 North Wilson ...|            null|                 null|           null|                 null|        null|group2|     0.2|  Olivia Brown|     63.984|\n",
       "|      2023-03-01|trx-706232987460|      85545|john.wilson@gmail...|          null|     null|         6|          Jeans|        Clothing|    4|     49.99|        Stripe|6057 Griffith Ave...|            null|                 null|           null|                 null|        null|group2|     0.0|   John Wilson|     199.96|\n",
       "|      2023-07-23|trx-424269763934|      85513|james.davis@outlo...|          null|     null|        17|         Blouse|        Clothing|    3|     29.99|   Credit Card|32 Royal Drive/Lo...|            null|                 null|           null|                 null|        null|group2|    0.25|   James Davis|     67.477|\n",
       "|      2023-07-01|trx-505504358640|      85485|olivia.smith@hotm...|          null|     null|        13|        Printer|     Electronics|    9|    149.99|        Stripe|4216 Lorraine Str...|            null|                 null|           null|                 null|        null|group2|     0.0|  Olivia Smith|    1349.91|\n",
       "|      2022-06-06|trx-698613696948|      85539|emma.davis@hotmai...|          null|     null|        13|        Printer|     Electronics|    5|    149.99|        Stripe|42 West Louise St...|            null|                 null|           null|                 null|        null|group2|     0.1|    Emma Davis|    674.955|\n",
       "|      2022-11-16|trx-526783695511|      85497|emma.wilson@hotma...|          null|     null|        14|         Camera|     Electronics|    2|    399.99|   Credit Card|1109 East Glenn L...|            null|                 null|           null|                 null|        null|group2|     0.0|   Emma Wilson|     799.98|\n",
       "|      2023-05-20|trx-174820673708|      85551|sophia.wilson@yah...|          null|     null|         5|        T-Shirt|        Clothing|   10|     19.99|   Credit Card|1908 Newton Stree...|            null|                 null|           null|                 null|        null|group2|     0.0| Sophia Wilson|      199.9|\n",
       "|      2022-10-04|trx-021092172739|      85560|ava.wilson@outloo...|          null|     null|        10|        Sandals|        Footwear|    1|     39.99|   Credit Card|102 Old Depot Roa...|            null|                 null|           null|                 null|        null|group2|     0.0|    Ava Wilson|      39.99|\n",
       "|      2022-06-24|trx-439717373133|      85473|mia.williams@yaho...|          null|     null|        23|        Toaster|      Appliances|    2|     39.99|        PayPal|112 Joyner Avenue...|            null|                 null|           null|                 null|        null|group2|    0.25|  Mia Williams|     59.985|\n",
       "|      2023-01-04|trx-613296097801|      85536|sophia.jones@hotm...|          null|     null|        27|           Iron|      Appliances|    1|     29.99|        Stripe|615 Florida Avenu...|            null|                 null|           null|                 null|        null|group2|    0.05|  Sophia Jones|      28.49|\n",
       "|      2023-05-26|trx-694701856893|      85472|olivia.miller@yah...|          null|     null|         7|          Dress|        Clothing|    3|     59.99|        Stripe|6862 North 44th A...|            null|                 null|           null|                 null|        null|group2|    0.15| Olivia Miller|    152.975|\n",
       "|      2022-10-23|trx-217921092485|      85475|william.taylor@gm...|          null|     null|        24|        Blender|      Appliances|    5|     49.99|        PayPal|1320 Dunbarton Ro...|            null|                 null|           null|                 null|        null|group2|     0.0|William Taylor|     249.95|\n",
       "|      2023-11-03|trx-150591951050|      85539|emma.davis@hotmai...|          null|     null|        30|Electric Kettle|      Appliances|    9|     24.99|   Credit Card|6985 Woodstock Ro...|            null|                 null|           null|                 null|        null|group2|     0.2|    Emma Davis|    179.928|\n",
       "|      2023-05-02|trx-523800078539|      85474|emma.wilson@gmail...|          null|     null|         2|     Smartphone|     Electronics|    7|    699.99|        PayPal|13583 West 68th A...|            null|                 null|           null|                 null|        null|group2|     0.1|   Emma Wilson|   4409.937|\n",
       "+----------------+----------------+-----------+--------------------+--------------+---------+----------+---------------+----------------+-----+----------+--------------+--------------------+----------------+---------------------+---------------+---------------------+------------+------+--------+--------------+-----------+\n",
       "only showing top 20 rows"
      ]
     },
     "execution_count": 167,
     "metadata": {},
     "output_type": "execute_result"
    }
   ],
   "source": [
    "DataTransformer.convert_dates_to_date_type(df_splits['online'])"
   ]
  },
  {
   "cell_type": "code",
   "execution_count": null,
   "id": "1ebe5662-765a-49ef-923c-f85bd4008769",
   "metadata": {},
   "outputs": [],
   "source": []
  },
  {
   "cell_type": "code",
   "execution_count": 168,
   "id": "0ef074b2-3b40-44f5-8401-b912ca783850",
   "metadata": {
    "collapsed": true,
    "jupyter": {
     "outputs_hidden": true
    },
    "tags": []
   },
   "outputs": [
    {
     "data": {
      "text/html": [
       "<table border='1'>\n",
       "<tr><th>transaction_date</th><th>transaction_id</th><th>customer_id</th><th>customer_email</th><th>sales_agent_id</th><th>branch_id</th><th>product_id</th><th>product_name</th><th>product_category</th><th>units</th><th>unit_price</th><th>payment_method</th><th>shipping_address</th><th>sales_agent_name</th><th>sales_agent_hire_date</th><th>branch_location</th><th>branch_establish_date</th><th>branch_class</th><th>group</th><th>discount</th><th>customer_name</th><th>total_price</th></tr>\n",
       "<tr><td>2022-12-10</td><td>trx-514265914599</td><td>85536</td><td>sophia.jones@hotm...</td><td>null</td><td>null</td><td>23</td><td>Toaster</td><td>Appliances</td><td>2</td><td>39.99</td><td>PayPal</td><td>435 Benita Drive/...</td><td>null</td><td>null</td><td>null</td><td>null</td><td>null</td><td>group2</td><td>0.05</td><td>Sophia Jones</td><td>75.981</td></tr>\n",
       "<tr><td>2022-3-22</td><td>trx-462457335449</td><td>85498</td><td>olivia.brown@outl...</td><td>null</td><td>null</td><td>22</td><td>Coffee Maker</td><td>Appliances</td><td>4</td><td>79.99</td><td>Credit Card</td><td>7785 Montgomery M...</td><td>null</td><td>null</td><td>null</td><td>null</td><td>null</td><td>group2</td><td>0.2</td><td>Olivia Brown</td><td>255.968</td></tr>\n",
       "<tr><td>2023-7-23</td><td>trx-834189400703</td><td>85532</td><td>james.smith@yahoo...</td><td>null</td><td>null</td><td>13</td><td>Printer</td><td>Electronics</td><td>6</td><td>149.99</td><td>Credit Card</td><td>8376 Albacore Dri...</td><td>null</td><td>null</td><td>null</td><td>null</td><td>null</td><td>group2</td><td>0.2</td><td>James Smith</td><td>719.952</td></tr>\n",
       "<tr><td>2023-2-27</td><td>trx-520346742720</td><td>85476</td><td>emma.taylor@outlo...</td><td>null</td><td>null</td><td>17</td><td>Blouse</td><td>Clothing</td><td>10</td><td>29.99</td><td>Stripe</td><td>7419 West Hill La...</td><td>null</td><td>null</td><td>null</td><td>null</td><td>null</td><td>group2</td><td>0.15</td><td>Emma Taylor</td><td>254.915</td></tr>\n",
       "<tr><td>2022-8-10</td><td>trx-778091208972</td><td>85539</td><td>emma.davis@hotmai...</td><td>null</td><td>null</td><td>19</td><td>Sandals</td><td>Footwear</td><td>4</td><td>29.99</td><td>PayPal</td><td>90 Peabody Street...</td><td>null</td><td>null</td><td>null</td><td>null</td><td>null</td><td>group2</td><td>0.1</td><td>Emma Davis</td><td>107.964</td></tr>\n",
       "<tr><td>2022-8-13</td><td>trx-004528494647</td><td>85489</td><td>william.moore@yah...</td><td>null</td><td>null</td><td>6</td><td>Jeans</td><td>Clothing</td><td>3</td><td>49.99</td><td>Stripe</td><td>10841 Sutter Circ...</td><td>null</td><td>null</td><td>null</td><td>null</td><td>null</td><td>group2</td><td>0.25</td><td>William Moore</td><td>112.477</td></tr>\n",
       "<tr><td>2022-9-17</td><td>trx-142661381200</td><td>85484</td><td>olivia.brown@hotm...</td><td>null</td><td>null</td><td>16</td><td>Skirt</td><td>Clothing</td><td>2</td><td>39.99</td><td>Credit Card</td><td>683 North Wilson ...</td><td>null</td><td>null</td><td>null</td><td>null</td><td>null</td><td>group2</td><td>0.2</td><td>Olivia Brown</td><td>63.984</td></tr>\n",
       "<tr><td>2023-3-1</td><td>trx-706232987460</td><td>85545</td><td>john.wilson@gmail...</td><td>null</td><td>null</td><td>6</td><td>Jeans</td><td>Clothing</td><td>4</td><td>49.99</td><td>Stripe</td><td>6057 Griffith Ave...</td><td>null</td><td>null</td><td>null</td><td>null</td><td>null</td><td>group2</td><td>0.0</td><td>John Wilson</td><td>199.96</td></tr>\n",
       "<tr><td>2023-7-23</td><td>trx-424269763934</td><td>85513</td><td>james.davis@outlo...</td><td>null</td><td>null</td><td>17</td><td>Blouse</td><td>Clothing</td><td>3</td><td>29.99</td><td>Credit Card</td><td>32 Royal Drive/Lo...</td><td>null</td><td>null</td><td>null</td><td>null</td><td>null</td><td>group2</td><td>0.25</td><td>James Davis</td><td>67.477</td></tr>\n",
       "<tr><td>2023-7-1</td><td>trx-505504358640</td><td>85485</td><td>olivia.smith@hotm...</td><td>null</td><td>null</td><td>13</td><td>Printer</td><td>Electronics</td><td>9</td><td>149.99</td><td>Stripe</td><td>4216 Lorraine Str...</td><td>null</td><td>null</td><td>null</td><td>null</td><td>null</td><td>group2</td><td>0.0</td><td>Olivia Smith</td><td>1349.91</td></tr>\n",
       "<tr><td>2022-6-6</td><td>trx-698613696948</td><td>85539</td><td>emma.davis@hotmai...</td><td>null</td><td>null</td><td>13</td><td>Printer</td><td>Electronics</td><td>5</td><td>149.99</td><td>Stripe</td><td>42 West Louise St...</td><td>null</td><td>null</td><td>null</td><td>null</td><td>null</td><td>group2</td><td>0.1</td><td>Emma Davis</td><td>674.955</td></tr>\n",
       "<tr><td>2022-11-16</td><td>trx-526783695511</td><td>85497</td><td>emma.wilson@hotma...</td><td>null</td><td>null</td><td>14</td><td>Camera</td><td>Electronics</td><td>2</td><td>399.99</td><td>Credit Card</td><td>1109 East Glenn L...</td><td>null</td><td>null</td><td>null</td><td>null</td><td>null</td><td>group2</td><td>0.0</td><td>Emma Wilson</td><td>799.98</td></tr>\n",
       "<tr><td>2023-5-20</td><td>trx-174820673708</td><td>85551</td><td>sophia.wilson@yah...</td><td>null</td><td>null</td><td>5</td><td>T-Shirt</td><td>Clothing</td><td>10</td><td>19.99</td><td>Credit Card</td><td>1908 Newton Stree...</td><td>null</td><td>null</td><td>null</td><td>null</td><td>null</td><td>group2</td><td>0.0</td><td>Sophia Wilson</td><td>199.9</td></tr>\n",
       "<tr><td>2022-10-4</td><td>trx-021092172739</td><td>85560</td><td>ava.wilson@outloo...</td><td>null</td><td>null</td><td>10</td><td>Sandals</td><td>Footwear</td><td>1</td><td>39.99</td><td>Credit Card</td><td>102 Old Depot Roa...</td><td>null</td><td>null</td><td>null</td><td>null</td><td>null</td><td>group2</td><td>0.0</td><td>Ava Wilson</td><td>39.99</td></tr>\n",
       "<tr><td>2022-6-24</td><td>trx-439717373133</td><td>85473</td><td>mia.williams@yaho...</td><td>null</td><td>null</td><td>23</td><td>Toaster</td><td>Appliances</td><td>2</td><td>39.99</td><td>PayPal</td><td>112 Joyner Avenue...</td><td>null</td><td>null</td><td>null</td><td>null</td><td>null</td><td>group2</td><td>0.25</td><td>Mia Williams</td><td>59.985</td></tr>\n",
       "<tr><td>2023-1-4</td><td>trx-613296097801</td><td>85536</td><td>sophia.jones@hotm...</td><td>null</td><td>null</td><td>27</td><td>Iron</td><td>Appliances</td><td>1</td><td>29.99</td><td>Stripe</td><td>615 Florida Avenu...</td><td>null</td><td>null</td><td>null</td><td>null</td><td>null</td><td>group2</td><td>0.05</td><td>Sophia Jones</td><td>28.49</td></tr>\n",
       "<tr><td>2023-5-26</td><td>trx-694701856893</td><td>85472</td><td>olivia.miller@yah...</td><td>null</td><td>null</td><td>7</td><td>Dress</td><td>Clothing</td><td>3</td><td>59.99</td><td>Stripe</td><td>6862 North 44th A...</td><td>null</td><td>null</td><td>null</td><td>null</td><td>null</td><td>group2</td><td>0.15</td><td>Olivia Miller</td><td>152.975</td></tr>\n",
       "<tr><td>2022-10-23</td><td>trx-217921092485</td><td>85475</td><td>william.taylor@gm...</td><td>null</td><td>null</td><td>24</td><td>Blender</td><td>Appliances</td><td>5</td><td>49.99</td><td>PayPal</td><td>1320 Dunbarton Ro...</td><td>null</td><td>null</td><td>null</td><td>null</td><td>null</td><td>group2</td><td>0.0</td><td>William Taylor</td><td>249.95</td></tr>\n",
       "<tr><td>2023-11-3</td><td>trx-150591951050</td><td>85539</td><td>emma.davis@hotmai...</td><td>null</td><td>null</td><td>30</td><td>Electric Kettle</td><td>Appliances</td><td>9</td><td>24.99</td><td>Credit Card</td><td>6985 Woodstock Ro...</td><td>null</td><td>null</td><td>null</td><td>null</td><td>null</td><td>group2</td><td>0.2</td><td>Emma Davis</td><td>179.928</td></tr>\n",
       "<tr><td>2023-5-2</td><td>trx-523800078539</td><td>85474</td><td>emma.wilson@gmail...</td><td>null</td><td>null</td><td>2</td><td>Smartphone</td><td>Electronics</td><td>7</td><td>699.99</td><td>PayPal</td><td>13583 West 68th A...</td><td>null</td><td>null</td><td>null</td><td>null</td><td>null</td><td>group2</td><td>0.1</td><td>Emma Wilson</td><td>4409.937</td></tr>\n",
       "</table>\n",
       "only showing top 20 rows\n"
      ],
      "text/plain": [
       "+----------------+----------------+-----------+--------------------+--------------+---------+----------+---------------+----------------+-----+----------+--------------+--------------------+----------------+---------------------+---------------+---------------------+------------+------+--------+--------------+-----------+\n",
       "|transaction_date|  transaction_id|customer_id|      customer_email|sales_agent_id|branch_id|product_id|   product_name|product_category|units|unit_price|payment_method|    shipping_address|sales_agent_name|sales_agent_hire_date|branch_location|branch_establish_date|branch_class| group|discount| customer_name|total_price|\n",
       "+----------------+----------------+-----------+--------------------+--------------+---------+----------+---------------+----------------+-----+----------+--------------+--------------------+----------------+---------------------+---------------+---------------------+------------+------+--------+--------------+-----------+\n",
       "|      2022-12-10|trx-514265914599|      85536|sophia.jones@hotm...|          null|     null|        23|        Toaster|      Appliances|    2|     39.99|        PayPal|435 Benita Drive/...|            null|                 null|           null|                 null|        null|group2|    0.05|  Sophia Jones|     75.981|\n",
       "|       2022-3-22|trx-462457335449|      85498|olivia.brown@outl...|          null|     null|        22|   Coffee Maker|      Appliances|    4|     79.99|   Credit Card|7785 Montgomery M...|            null|                 null|           null|                 null|        null|group2|     0.2|  Olivia Brown|    255.968|\n",
       "|       2023-7-23|trx-834189400703|      85532|james.smith@yahoo...|          null|     null|        13|        Printer|     Electronics|    6|    149.99|   Credit Card|8376 Albacore Dri...|            null|                 null|           null|                 null|        null|group2|     0.2|   James Smith|    719.952|\n",
       "|       2023-2-27|trx-520346742720|      85476|emma.taylor@outlo...|          null|     null|        17|         Blouse|        Clothing|   10|     29.99|        Stripe|7419 West Hill La...|            null|                 null|           null|                 null|        null|group2|    0.15|   Emma Taylor|    254.915|\n",
       "|       2022-8-10|trx-778091208972|      85539|emma.davis@hotmai...|          null|     null|        19|        Sandals|        Footwear|    4|     29.99|        PayPal|90 Peabody Street...|            null|                 null|           null|                 null|        null|group2|     0.1|    Emma Davis|    107.964|\n",
       "|       2022-8-13|trx-004528494647|      85489|william.moore@yah...|          null|     null|         6|          Jeans|        Clothing|    3|     49.99|        Stripe|10841 Sutter Circ...|            null|                 null|           null|                 null|        null|group2|    0.25| William Moore|    112.477|\n",
       "|       2022-9-17|trx-142661381200|      85484|olivia.brown@hotm...|          null|     null|        16|          Skirt|        Clothing|    2|     39.99|   Credit Card|683 North Wilson ...|            null|                 null|           null|                 null|        null|group2|     0.2|  Olivia Brown|     63.984|\n",
       "|        2023-3-1|trx-706232987460|      85545|john.wilson@gmail...|          null|     null|         6|          Jeans|        Clothing|    4|     49.99|        Stripe|6057 Griffith Ave...|            null|                 null|           null|                 null|        null|group2|     0.0|   John Wilson|     199.96|\n",
       "|       2023-7-23|trx-424269763934|      85513|james.davis@outlo...|          null|     null|        17|         Blouse|        Clothing|    3|     29.99|   Credit Card|32 Royal Drive/Lo...|            null|                 null|           null|                 null|        null|group2|    0.25|   James Davis|     67.477|\n",
       "|        2023-7-1|trx-505504358640|      85485|olivia.smith@hotm...|          null|     null|        13|        Printer|     Electronics|    9|    149.99|        Stripe|4216 Lorraine Str...|            null|                 null|           null|                 null|        null|group2|     0.0|  Olivia Smith|    1349.91|\n",
       "|        2022-6-6|trx-698613696948|      85539|emma.davis@hotmai...|          null|     null|        13|        Printer|     Electronics|    5|    149.99|        Stripe|42 West Louise St...|            null|                 null|           null|                 null|        null|group2|     0.1|    Emma Davis|    674.955|\n",
       "|      2022-11-16|trx-526783695511|      85497|emma.wilson@hotma...|          null|     null|        14|         Camera|     Electronics|    2|    399.99|   Credit Card|1109 East Glenn L...|            null|                 null|           null|                 null|        null|group2|     0.0|   Emma Wilson|     799.98|\n",
       "|       2023-5-20|trx-174820673708|      85551|sophia.wilson@yah...|          null|     null|         5|        T-Shirt|        Clothing|   10|     19.99|   Credit Card|1908 Newton Stree...|            null|                 null|           null|                 null|        null|group2|     0.0| Sophia Wilson|      199.9|\n",
       "|       2022-10-4|trx-021092172739|      85560|ava.wilson@outloo...|          null|     null|        10|        Sandals|        Footwear|    1|     39.99|   Credit Card|102 Old Depot Roa...|            null|                 null|           null|                 null|        null|group2|     0.0|    Ava Wilson|      39.99|\n",
       "|       2022-6-24|trx-439717373133|      85473|mia.williams@yaho...|          null|     null|        23|        Toaster|      Appliances|    2|     39.99|        PayPal|112 Joyner Avenue...|            null|                 null|           null|                 null|        null|group2|    0.25|  Mia Williams|     59.985|\n",
       "|        2023-1-4|trx-613296097801|      85536|sophia.jones@hotm...|          null|     null|        27|           Iron|      Appliances|    1|     29.99|        Stripe|615 Florida Avenu...|            null|                 null|           null|                 null|        null|group2|    0.05|  Sophia Jones|      28.49|\n",
       "|       2023-5-26|trx-694701856893|      85472|olivia.miller@yah...|          null|     null|         7|          Dress|        Clothing|    3|     59.99|        Stripe|6862 North 44th A...|            null|                 null|           null|                 null|        null|group2|    0.15| Olivia Miller|    152.975|\n",
       "|      2022-10-23|trx-217921092485|      85475|william.taylor@gm...|          null|     null|        24|        Blender|      Appliances|    5|     49.99|        PayPal|1320 Dunbarton Ro...|            null|                 null|           null|                 null|        null|group2|     0.0|William Taylor|     249.95|\n",
       "|       2023-11-3|trx-150591951050|      85539|emma.davis@hotmai...|          null|     null|        30|Electric Kettle|      Appliances|    9|     24.99|   Credit Card|6985 Woodstock Ro...|            null|                 null|           null|                 null|        null|group2|     0.2|    Emma Davis|    179.928|\n",
       "|        2023-5-2|trx-523800078539|      85474|emma.wilson@gmail...|          null|     null|         2|     Smartphone|     Electronics|    7|    699.99|        PayPal|13583 West 68th A...|            null|                 null|           null|                 null|        null|group2|     0.1|   Emma Wilson|   4409.937|\n",
       "+----------------+----------------+-----------+--------------------+--------------+---------+----------+---------------+----------------+-----+----------+--------------+--------------------+----------------+---------------------+---------------+---------------------+------------+------+--------+--------------+-----------+\n",
       "only showing top 20 rows"
      ]
     },
     "execution_count": 168,
     "metadata": {},
     "output_type": "execute_result"
    }
   ],
   "source": [
    "DataTransformer.convert_ids_to_long_type(df_splits['online'])"
   ]
  },
  {
   "cell_type": "code",
   "execution_count": 171,
   "id": "90ca60b2-1841-47c1-ad48-79566da01958",
   "metadata": {
    "tags": []
   },
   "outputs": [],
   "source": [
    "df_splits['online'] = dq_layer.apply_online_transformations(df_splits['online'])"
   ]
  },
  {
   "cell_type": "code",
   "execution_count": 172,
   "id": "ec51eee6-db9f-49d0-9793-a87a525ce28d",
   "metadata": {
    "collapsed": true,
    "jupyter": {
     "outputs_hidden": true
    },
    "tags": []
   },
   "outputs": [
    {
     "name": "stdout",
     "output_type": "stream",
     "text": [
      "root\n",
      " |-- transaction_date: date (nullable = true)\n",
      " |-- transaction_id: string (nullable = true)\n",
      " |-- customer_id: string (nullable = true)\n",
      " |-- customer_email: string (nullable = true)\n",
      " |-- sales_agent_id: string (nullable = true)\n",
      " |-- branch_id: string (nullable = true)\n",
      " |-- product_id: string (nullable = true)\n",
      " |-- product_name: string (nullable = true)\n",
      " |-- product_category: string (nullable = true)\n",
      " |-- units: string (nullable = true)\n",
      " |-- unit_price: string (nullable = true)\n",
      " |-- payment_method: string (nullable = true)\n",
      " |-- sales_agent_name: string (nullable = true)\n",
      " |-- sales_agent_hire_date: string (nullable = true)\n",
      " |-- branch_location: string (nullable = true)\n",
      " |-- branch_establish_date: string (nullable = true)\n",
      " |-- branch_class: string (nullable = true)\n",
      " |-- group: string (nullable = true)\n",
      " |-- discount: float (nullable = false)\n",
      " |-- customer_name: string (nullable = true)\n",
      " |-- total_price: double (nullable = true)\n",
      " |-- shipping_street_name: string (nullable = true)\n",
      " |-- shipping_city: string (nullable = true)\n",
      " |-- shipping_zip_code: string (nullable = true)\n",
      " |-- shipping_state: string (nullable = true)\n",
      "\n"
     ]
    }
   ],
   "source": [
    "df_splits['online'].printSchema()"
   ]
  },
  {
   "cell_type": "code",
   "execution_count": 202,
   "id": "a4c76b38-8bef-4c8d-a02b-c1a6f4a0e96f",
   "metadata": {
    "collapsed": true,
    "jupyter": {
     "outputs_hidden": true
    },
    "tags": []
   },
   "outputs": [
    {
     "name": "stdout",
     "output_type": "stream",
     "text": [
      "-RECORD 0-----------------------------------------\n",
      " transaction_date      | 2023-01-01               \n",
      " transaction_id        | trx-332766751554         \n",
      " customer_id           | 85469                    \n",
      " customer_email        | john.taylor@yahoo..com   \n",
      " sales_agent_id        | null                     \n",
      " branch_id             | null                     \n",
      " product_id            | 17                       \n",
      " product_name          | Blouse                   \n",
      " product_category      | Clothing                 \n",
      " units                 | 8                        \n",
      " unit_price            | 29.99                    \n",
      " payment_method        | Credit Card              \n",
      " sales_agent_name      | null                     \n",
      " sales_agent_hire_date | null                     \n",
      " branch_location       | null                     \n",
      " branch_establish_date | null                     \n",
      " branch_class          | null                     \n",
      " group                 | group4                   \n",
      " discount              | 0.1                      \n",
      " customer_name         | John Taylor              \n",
      " shipping_street_name  | 1983 Reidsville Street   \n",
      " shipping_city         | Annapolis                \n",
      " shipping_zip_code     | 21401                    \n",
      " shipping_state        | Maryland                 \n",
      "-RECORD 1-----------------------------------------\n",
      " transaction_date      | 2022-06-06               \n",
      " transaction_id        | trx-602377989729         \n",
      " customer_id           | 85517                    \n",
      " customer_email        | michael.smith@yahoo..com \n",
      " sales_agent_id        | null                     \n",
      " branch_id             | null                     \n",
      " product_id            | 18                       \n",
      " product_name          | Boots                    \n",
      " product_category      | Footwear                 \n",
      " units                 | 5                        \n",
      " unit_price            | 149.99                   \n",
      " payment_method        | Stripe                   \n",
      " sales_agent_name      | null                     \n",
      " sales_agent_hire_date | null                     \n",
      " branch_location       | null                     \n",
      " branch_establish_date | null                     \n",
      " branch_class          | null                     \n",
      " group                 | group4                   \n",
      " discount              | 0.0                      \n",
      " customer_name         | Michael Smith            \n",
      " shipping_street_name  | 3521 Stargate Circle     \n",
      " shipping_city         | Anchorage                \n",
      " shipping_zip_code     | 99517                    \n",
      " shipping_state        | Alaska                   \n",
      "only showing top 2 rows\n",
      "\n"
     ]
    }
   ],
   "source": [
    "df_splits['online'].show(2, False, True)"
   ]
  },
  {
   "cell_type": "code",
   "execution_count": 173,
   "id": "338aab3c-29f9-4a31-88a2-a57db7d184f5",
   "metadata": {
    "collapsed": true,
    "jupyter": {
     "outputs_hidden": true
    },
    "tags": []
   },
   "outputs": [
    {
     "data": {
      "text/html": [
       "<table border='1'>\n",
       "<tr><th>transaction_date</th><th>transaction_id</th><th>customer_id</th><th>customer_name</th><th>customer_email</th><th>product_id</th><th>product_name</th><th>product_category</th><th>units</th><th>unit_price</th><th>discount</th><th>total_price</th><th>payment_method</th><th>shipping_street_name</th><th>shipping_city</th><th>shipping_state</th><th>shipping_zip_code</th><th>group</th></tr>\n",
       "<tr><td>2023-11-16</td><td>trx-747520842146</td><td>85491</td><td>Olivia Taylor</td><td>olivia.taylor@yah...</td><td>23</td><td>Toaster</td><td>Appliances</td><td>8</td><td>39.99</td><td>0.0</td><td>319.92</td><td>PayPal</td><td>8852 Broderick St...</td><td>Montgomery</td><td>Alabama</td><td>36117</td><td>group2</td></tr>\n",
       "<tr><td>2023-03-20</td><td>trx-398386249338</td><td>85533</td><td>John Williams</td><td>john.williams@gma...</td><td>18</td><td>Boots</td><td>Footwear</td><td>1</td><td>149.99</td><td>0.0</td><td>149.99</td><td>Stripe</td><td>2502 Adrienne Way</td><td>Louisville</td><td>Kentucky</td><td>40216</td><td>group2</td></tr>\n",
       "<tr><td>2023-12-05</td><td>trx-760463132741</td><td>85554</td><td>William Wilson</td><td>william.wilson@ya...</td><td>28</td><td>Hair Dryer</td><td>Appliances</td><td>2</td><td>19.99</td><td>0.0</td><td>39.98</td><td>Stripe</td><td>63 Dorchester Street</td><td>Worcester</td><td>Massachusetts</td><td>01604</td><td>group2</td></tr>\n",
       "<tr><td>2023-11-16</td><td>trx-343079605633</td><td>85524</td><td>Alexander Miller</td><td>alexander.miller@...</td><td>25</td><td>Washing Machine</td><td>Appliances</td><td>2</td><td>499.99</td><td>0.05</td><td>949.981</td><td>PayPal</td><td>4516 Old Seward H...</td><td>Anchorage</td><td>Alaska</td><td>99503</td><td>group2</td></tr>\n",
       "<tr><td>2022-04-04</td><td>trx-666714316389</td><td>85519</td><td>Ava Williams</td><td>ava.williams@yaho...</td><td>16</td><td>Skirt</td><td>Clothing</td><td>4</td><td>39.99</td><td>0.05</td><td>151.962</td><td>Credit Card</td><td>4444 Central Avenue</td><td>Fremont</td><td>California</td><td>94536</td><td>group2</td></tr>\n",
       "<tr><td>2023-11-05</td><td>trx-388436866471</td><td>85510</td><td>Alexander Brown</td><td>alexander.brown@y...</td><td>16</td><td>Skirt</td><td>Clothing</td><td>5</td><td>39.99</td><td>0.0</td><td>199.95</td><td>Credit Card</td><td>185 Woodlawn Road</td><td>Burlington</td><td>Vermont</td><td>05408</td><td>group2</td></tr>\n",
       "<tr><td>2023-02-25</td><td>trx-109095192203</td><td>85514</td><td>Sophia Johnson</td><td>sophia.johnson@gm...</td><td>12</td><td>Monitor</td><td>Electronics</td><td>10</td><td>299.99</td><td>0.1</td><td>2699.91</td><td>Stripe</td><td>53 Greenwood Avenue</td><td>Wakefield</td><td>Massachusetts</td><td>01880</td><td>group2</td></tr>\n",
       "<tr><td>2022-09-16</td><td>trx-642436826706</td><td>85500</td><td>Sophia Miller</td><td>sophia.miller@hot...</td><td>23</td><td>Toaster</td><td>Appliances</td><td>6</td><td>39.99</td><td>0.15</td><td>203.949</td><td>Credit Card</td><td>140 South Hill Av...</td><td>Fayetteville</td><td>Arkansas</td><td>72701</td><td>group2</td></tr>\n",
       "<tr><td>2023-01-16</td><td>trx-884788991461</td><td>85469</td><td>Michael Williams</td><td>michael.williams@...</td><td>15</td><td>Hoodie</td><td>Clothing</td><td>6</td><td>29.99</td><td>0.0</td><td>179.94</td><td>Stripe</td><td>3784 Milky Way Drive</td><td>Anchorage</td><td>Alaska</td><td>99517</td><td>group2</td></tr>\n",
       "<tr><td>2023-07-03</td><td>trx-903740554657</td><td>85503</td><td>Olivia Johnson</td><td>olivia.johnson@ou...</td><td>10</td><td>Sandals</td><td>Footwear</td><td>5</td><td>39.99</td><td>0.0</td><td>199.95</td><td>Stripe</td><td>109 High Street</td><td>Manchester</td><td>Connecticut</td><td>06040</td><td>group2</td></tr>\n",
       "<tr><td>2022-03-12</td><td>trx-562757424620</td><td>85519</td><td>Ava Williams</td><td>ava.williams@yaho...</td><td>16</td><td>Skirt</td><td>Clothing</td><td>6</td><td>39.99</td><td>0.0</td><td>239.94</td><td>Stripe</td><td>328 17th Street</td><td>Paso Robles</td><td>California</td><td>93446</td><td>group2</td></tr>\n",
       "<tr><td>2023-03-22</td><td>trx-294628249529</td><td>85470</td><td>John Taylor</td><td>john.taylor@yahoo...</td><td>10</td><td>Sandals</td><td>Footwear</td><td>2</td><td>39.99</td><td>0.2</td><td>63.984</td><td>Credit Card</td><td>2314 Marian Bay C...</td><td>Anchorage</td><td>Alaska</td><td>99515</td><td>group2</td></tr>\n",
       "<tr><td>2023-04-20</td><td>trx-165901259487</td><td>85500</td><td>Sophia Miller</td><td>sophia.miller@hot...</td><td>13</td><td>Printer</td><td>Electronics</td><td>4</td><td>149.99</td><td>0.0</td><td>599.96</td><td>Stripe</td><td>61 Plymouth Lane</td><td>Manchester</td><td>Connecticut</td><td>06040</td><td>group2</td></tr>\n",
       "<tr><td>2022-08-12</td><td>trx-116368055210</td><td>85553</td><td>Mia Williams</td><td>mia.williams@hotm...</td><td>5</td><td>T-Shirt</td><td>Clothing</td><td>2</td><td>19.99</td><td>0.1</td><td>35.982</td><td>PayPal</td><td>3302 Woodland Par...</td><td>Anchorage</td><td>Alaska</td><td>99517</td><td>group2</td></tr>\n",
       "<tr><td>2023-02-15</td><td>trx-761035055580</td><td>85544</td><td>Alexander Miller</td><td>alexander.miller@...</td><td>29</td><td>Hair Straightener</td><td>Appliances</td><td>6</td><td>39.99</td><td>0.0</td><td>239.94</td><td>Credit Card</td><td>7256 West 84th Way</td><td>Arvada</td><td>Colorado</td><td>80003</td><td>group2</td></tr>\n",
       "<tr><td>2023-10-23</td><td>trx-283913319639</td><td>85541</td><td>Olivia Wilson</td><td>olivia.wilson@out...</td><td>6</td><td>Jeans</td><td>Clothing</td><td>9</td><td>49.99</td><td>0.25</td><td>337.433</td><td>Credit Card</td><td>2409 Park Street</td><td>Selma</td><td>California</td><td>93662</td><td>group2</td></tr>\n",
       "<tr><td>2022-02-04</td><td>trx-889308407430</td><td>85547</td><td>Ava Taylor</td><td>ava.taylor@gmail.com</td><td>23</td><td>Toaster</td><td>Appliances</td><td>4</td><td>39.99</td><td>0.0</td><td>159.96</td><td>PayPal</td><td>1302 Cherry Street</td><td>Panama City</td><td>Florida</td><td>32401</td><td>group2</td></tr>\n",
       "<tr><td>2023-12-25</td><td>trx-323913267246</td><td>85562</td><td>John Moore</td><td>john.moore@outloo...</td><td>29</td><td>Hair Straightener</td><td>Appliances</td><td>4</td><td>39.99</td><td>0.15</td><td>135.966</td><td>Credit Card</td><td>7027 West Phelps ...</td><td>Peoria</td><td>Arizona</td><td>85382</td><td>group2</td></tr>\n",
       "<tr><td>2023-09-12</td><td>trx-165354048139</td><td>85463</td><td>Olivia Smith</td><td>olivia.smith@outl...</td><td>19</td><td>Sandals</td><td>Footwear</td><td>3</td><td>29.99</td><td>0.25</td><td>67.477</td><td>PayPal</td><td>150 Meadowview St...</td><td>Marshfield</td><td>Massachusetts</td><td>02050</td><td>group2</td></tr>\n",
       "<tr><td>2023-02-27</td><td>trx-520346742720</td><td>85476</td><td>Emma Taylor</td><td>emma.taylor@outlo...</td><td>17</td><td>Blouse</td><td>Clothing</td><td>10</td><td>29.99</td><td>0.15</td><td>254.915</td><td>Stripe</td><td>7419 West Hill Lane</td><td>Glendale</td><td>Arizona</td><td>85310</td><td>group2</td></tr>\n",
       "</table>\n",
       "only showing top 20 rows\n"
      ],
      "text/plain": [
       "+----------------+----------------+-----------+----------------+--------------------+----------+-----------------+----------------+-----+----------+--------+-----------+--------------+--------------------+-------------+--------------+-----------------+------+\n",
       "|transaction_date|  transaction_id|customer_id|   customer_name|      customer_email|product_id|     product_name|product_category|units|unit_price|discount|total_price|payment_method|shipping_street_name|shipping_city|shipping_state|shipping_zip_code| group|\n",
       "+----------------+----------------+-----------+----------------+--------------------+----------+-----------------+----------------+-----+----------+--------+-----------+--------------+--------------------+-------------+--------------+-----------------+------+\n",
       "|      2023-11-16|trx-747520842146|      85491|   Olivia Taylor|olivia.taylor@yah...|        23|          Toaster|      Appliances|    8|     39.99|     0.0|     319.92|        PayPal|8852 Broderick St...|   Montgomery|       Alabama|            36117|group2|\n",
       "|      2023-03-20|trx-398386249338|      85533|   John Williams|john.williams@gma...|        18|            Boots|        Footwear|    1|    149.99|     0.0|     149.99|        Stripe|   2502 Adrienne Way|   Louisville|      Kentucky|            40216|group2|\n",
       "|      2023-12-05|trx-760463132741|      85554|  William Wilson|william.wilson@ya...|        28|       Hair Dryer|      Appliances|    2|     19.99|     0.0|      39.98|        Stripe|63 Dorchester Street|    Worcester| Massachusetts|            01604|group2|\n",
       "|      2023-11-16|trx-343079605633|      85524|Alexander Miller|alexander.miller@...|        25|  Washing Machine|      Appliances|    2|    499.99|    0.05|    949.981|        PayPal|4516 Old Seward H...|    Anchorage|        Alaska|            99503|group2|\n",
       "|      2022-04-04|trx-666714316389|      85519|    Ava Williams|ava.williams@yaho...|        16|            Skirt|        Clothing|    4|     39.99|    0.05|    151.962|   Credit Card| 4444 Central Avenue|      Fremont|    California|            94536|group2|\n",
       "|      2023-11-05|trx-388436866471|      85510| Alexander Brown|alexander.brown@y...|        16|            Skirt|        Clothing|    5|     39.99|     0.0|     199.95|   Credit Card|   185 Woodlawn Road|   Burlington|       Vermont|            05408|group2|\n",
       "|      2023-02-25|trx-109095192203|      85514|  Sophia Johnson|sophia.johnson@gm...|        12|          Monitor|     Electronics|   10|    299.99|     0.1|    2699.91|        Stripe| 53 Greenwood Avenue|    Wakefield| Massachusetts|            01880|group2|\n",
       "|      2022-09-16|trx-642436826706|      85500|   Sophia Miller|sophia.miller@hot...|        23|          Toaster|      Appliances|    6|     39.99|    0.15|    203.949|   Credit Card|140 South Hill Av...| Fayetteville|      Arkansas|            72701|group2|\n",
       "|      2023-01-16|trx-884788991461|      85469|Michael Williams|michael.williams@...|        15|           Hoodie|        Clothing|    6|     29.99|     0.0|     179.94|        Stripe|3784 Milky Way Drive|    Anchorage|        Alaska|            99517|group2|\n",
       "|      2023-07-03|trx-903740554657|      85503|  Olivia Johnson|olivia.johnson@ou...|        10|          Sandals|        Footwear|    5|     39.99|     0.0|     199.95|        Stripe|     109 High Street|   Manchester|   Connecticut|            06040|group2|\n",
       "|      2022-03-12|trx-562757424620|      85519|    Ava Williams|ava.williams@yaho...|        16|            Skirt|        Clothing|    6|     39.99|     0.0|     239.94|        Stripe|     328 17th Street|  Paso Robles|    California|            93446|group2|\n",
       "|      2023-03-22|trx-294628249529|      85470|     John Taylor|john.taylor@yahoo...|        10|          Sandals|        Footwear|    2|     39.99|     0.2|     63.984|   Credit Card|2314 Marian Bay C...|    Anchorage|        Alaska|            99515|group2|\n",
       "|      2023-04-20|trx-165901259487|      85500|   Sophia Miller|sophia.miller@hot...|        13|          Printer|     Electronics|    4|    149.99|     0.0|     599.96|        Stripe|    61 Plymouth Lane|   Manchester|   Connecticut|            06040|group2|\n",
       "|      2022-08-12|trx-116368055210|      85553|    Mia Williams|mia.williams@hotm...|         5|          T-Shirt|        Clothing|    2|     19.99|     0.1|     35.982|        PayPal|3302 Woodland Par...|    Anchorage|        Alaska|            99517|group2|\n",
       "|      2023-02-15|trx-761035055580|      85544|Alexander Miller|alexander.miller@...|        29|Hair Straightener|      Appliances|    6|     39.99|     0.0|     239.94|   Credit Card|  7256 West 84th Way|       Arvada|      Colorado|            80003|group2|\n",
       "|      2023-10-23|trx-283913319639|      85541|   Olivia Wilson|olivia.wilson@out...|         6|            Jeans|        Clothing|    9|     49.99|    0.25|    337.433|   Credit Card|    2409 Park Street|        Selma|    California|            93662|group2|\n",
       "|      2022-02-04|trx-889308407430|      85547|      Ava Taylor|ava.taylor@gmail.com|        23|          Toaster|      Appliances|    4|     39.99|     0.0|     159.96|        PayPal|  1302 Cherry Street|  Panama City|       Florida|            32401|group2|\n",
       "|      2023-12-25|trx-323913267246|      85562|      John Moore|john.moore@outloo...|        29|Hair Straightener|      Appliances|    4|     39.99|    0.15|    135.966|   Credit Card|7027 West Phelps ...|       Peoria|       Arizona|            85382|group2|\n",
       "|      2023-09-12|trx-165354048139|      85463|    Olivia Smith|olivia.smith@outl...|        19|          Sandals|        Footwear|    3|     29.99|    0.25|     67.477|        PayPal|150 Meadowview St...|   Marshfield| Massachusetts|            02050|group2|\n",
       "|      2023-02-27|trx-520346742720|      85476|     Emma Taylor|emma.taylor@outlo...|        17|           Blouse|        Clothing|   10|     29.99|    0.15|    254.915|        Stripe| 7419 West Hill Lane|     Glendale|       Arizona|            85310|group2|\n",
       "+----------------+----------------+-----------+----------------+--------------------+----------+-----------------+----------------+-----+----------+--------+-----------+--------------+--------------------+-------------+--------------+-----------------+------+\n",
       "only showing top 20 rows"
      ]
     },
     "execution_count": 173,
     "metadata": {},
     "output_type": "execute_result"
    }
   ],
   "source": [
    "df_splits['online'].select(Schemas.online_transactions.fieldNames())"
   ]
  },
  {
   "cell_type": "code",
   "execution_count": 174,
   "id": "2f37f5f4-f4b5-4fec-b12c-9fb41963e788",
   "metadata": {},
   "outputs": [],
   "source": [
    "df_splits['offline'] = dq_layer.apply_offline_transformations(df_splits['offline'])"
   ]
  },
  {
   "cell_type": "code",
   "execution_count": 175,
   "id": "e6968d17-0285-44f6-bcbf-1f7a25f414e2",
   "metadata": {
    "collapsed": true,
    "jupyter": {
     "outputs_hidden": true
    },
    "tags": []
   },
   "outputs": [
    {
     "data": {
      "text/html": [
       "<table border='1'>\n",
       "<tr><th>transaction_date</th><th>transaction_id</th><th>customer_id</th><th>customer_name</th><th>customer_email</th><th>sales_agent_id</th><th>branch_id</th><th>product_id</th><th>product_name</th><th>product_category</th><th>units</th><th>unit_price</th><th>discount</th><th>total_price</th><th>payment_method</th><th>sales_agent_name</th><th>sales_agent_hire_date</th><th>branch_location</th><th>branch_establish_date</th><th>branch_class</th><th>group</th></tr>\n",
       "<tr><td>2023-04-18</td><td>trx-301997428444</td><td>85480</td><td>Olivia Davis</td><td>olivia.davis@hotm...</td><td>6</td><td>4</td><td>25</td><td>Washing Machine</td><td>Appliances</td><td>8</td><td>499.99</td><td>0.15</td><td>3399.932</td><td>Credit Card</td><td>Emma Taylor</td><td>2019-03-28</td><td>Houston</td><td>2016-11-05</td><td>D</td><td>group2</td></tr>\n",
       "<tr><td>2023-10-24</td><td>trx-661774073579</td><td>85550</td><td>Emma Wilson</td><td>emma.wilson@outlo...</td><td>6</td><td>4</td><td>2</td><td>Smartphone</td><td>Electronics</td><td>4</td><td>699.99</td><td>0.0</td><td>2799.96</td><td>Credit Card</td><td>Emma Taylor</td><td>2019-03-28</td><td>Houston</td><td>2016-11-05</td><td>D</td><td>group2</td></tr>\n",
       "<tr><td>2023-08-15</td><td>trx-182895486748</td><td>85559</td><td>Alexander Moore</td><td>alexander.moore@h...</td><td>5</td><td>2</td><td>10</td><td>Sandals</td><td>Footwear</td><td>2</td><td>39.99</td><td>0.2</td><td>63.984</td><td>Credit Card</td><td>David Wilson</td><td>2021-04-08</td><td>Los Angeles</td><td>2016-07-28</td><td>B</td><td>group2</td></tr>\n",
       "<tr><td>2023-01-10</td><td>trx-799242150112</td><td>85522</td><td>Sophia Williams</td><td>sophia.williams@o...</td><td>8</td><td>5</td><td>7</td><td>Dress</td><td>Clothing</td><td>4</td><td>59.99</td><td>0.1</td><td>215.964</td><td>Credit Card</td><td>Olivia Davis</td><td>2021-10-24</td><td>Phoenix</td><td>2017-09-20</td><td>C</td><td>group2</td></tr>\n",
       "<tr><td>2023-03-22</td><td>trx-707989318319</td><td>85518</td><td>Ava Taylor</td><td>ava.taylor@gmail.com</td><td>4</td><td>5</td><td>8</td><td>Sneakers</td><td>Footwear</td><td>8</td><td>79.99</td><td>0.0</td><td>639.92</td><td>Credit Card</td><td>Emily Brown</td><td>2020-10-25</td><td>Phoenix</td><td>2017-09-20</td><td>C</td><td>group2</td></tr>\n",
       "<tr><td>2023-07-19</td><td>trx-098609734580</td><td>85553</td><td>Mia Williams</td><td>mia.williams@hotm...</td><td>1</td><td>5</td><td>15</td><td>Hoodie</td><td>Clothing</td><td>1</td><td>29.99</td><td>0.05</td><td>28.49</td><td>Credit Card</td><td>John Doe</td><td>2020-06-03</td><td>Phoenix</td><td>2017-09-20</td><td>C</td><td>group2</td></tr>\n",
       "<tr><td>2023-06-18</td><td>trx-620712256942</td><td>85487</td><td>Olivia Smith</td><td>olivia.smith@hotm...</td><td>2</td><td>5</td><td>9</td><td>Boots</td><td>Footwear</td><td>8</td><td>129.99</td><td>0.05</td><td>987.924</td><td>Cash</td><td>Jane Smith</td><td>2018-05-13</td><td>Phoenix</td><td>2017-09-20</td><td>C</td><td>group2</td></tr>\n",
       "<tr><td>2022-12-12</td><td>trx-997075080204</td><td>85484</td><td>Olivia Brown</td><td>olivia.brown@hotm...</td><td>5</td><td>3</td><td>3</td><td>Tablet</td><td>Electronics</td><td>1</td><td>299.99</td><td>0.0</td><td>299.99</td><td>Credit Card</td><td>David Wilson</td><td>2021-04-08</td><td>Chicago</td><td>2015-03-10</td><td>A</td><td>group2</td></tr>\n",
       "<tr><td>2022-07-11</td><td>trx-776170009574</td><td>85542</td><td>Ava Davis</td><td>ava.davis@yahoo.com</td><td>1</td><td>4</td><td>10</td><td>Sandals</td><td>Footwear</td><td>6</td><td>39.99</td><td>0.0</td><td>239.94</td><td>Cash</td><td>John Doe</td><td>2020-06-03</td><td>Houston</td><td>2016-11-05</td><td>D</td><td>group2</td></tr>\n",
       "<tr><td>2022-06-28</td><td>trx-176960504329</td><td>85526</td><td>Sophia Smith</td><td>sophia.smith@hotm...</td><td>7</td><td>2</td><td>1</td><td>Laptop</td><td>Electronics</td><td>1</td><td>999.99</td><td>0.2</td><td>799.992</td><td>Cash</td><td>Christopher Miller</td><td>2020-01-11</td><td>Los Angeles</td><td>2016-07-28</td><td>B</td><td>group2</td></tr>\n",
       "<tr><td>2022-05-23</td><td>trx-636477377180</td><td>85523</td><td>Michael Smith</td><td>michael.smith@yah...</td><td>5</td><td>5</td><td>19</td><td>Sandals</td><td>Footwear</td><td>8</td><td>29.99</td><td>0.05</td><td>227.924</td><td>Credit Card</td><td>David Wilson</td><td>2021-04-08</td><td>Phoenix</td><td>2017-09-20</td><td>C</td><td>group2</td></tr>\n",
       "<tr><td>2022-02-27</td><td>trx-014495037269</td><td>85471</td><td>Alexander Miller</td><td>alexander.miller@...</td><td>2</td><td>4</td><td>19</td><td>Sandals</td><td>Footwear</td><td>2</td><td>29.99</td><td>0.0</td><td>59.98</td><td>Credit Card</td><td>Jane Smith</td><td>2018-05-13</td><td>Houston</td><td>2016-11-05</td><td>D</td><td>group2</td></tr>\n",
       "<tr><td>2022-07-26</td><td>trx-417116121593</td><td>85547</td><td>Ava Taylor</td><td>ava.taylor@gmail.com</td><td>2</td><td>4</td><td>9</td><td>Boots</td><td>Footwear</td><td>10</td><td>129.99</td><td>0.25</td><td>974.925</td><td>Cash</td><td>Jane Smith</td><td>2018-05-13</td><td>Houston</td><td>2016-11-05</td><td>D</td><td>group2</td></tr>\n",
       "<tr><td>2022-09-08</td><td>trx-929466364078</td><td>85470</td><td>John Taylor</td><td>john.taylor@yahoo...</td><td>6</td><td>2</td><td>26</td><td>Vacuum Cleaner</td><td>Appliances</td><td>2</td><td>199.99</td><td>0.0</td><td>399.98</td><td>Cash</td><td>Emma Taylor</td><td>2019-03-28</td><td>Los Angeles</td><td>2016-07-28</td><td>B</td><td>group2</td></tr>\n",
       "<tr><td>2022-05-15</td><td>trx-836284722829</td><td>85523</td><td>Michael Smith</td><td>michael.smith@yah...</td><td>6</td><td>4</td><td>30</td><td>Electric Kettle</td><td>Appliances</td><td>2</td><td>24.99</td><td>0.1</td><td>44.982</td><td>Credit Card</td><td>Emma Taylor</td><td>2019-03-28</td><td>Houston</td><td>2016-11-05</td><td>D</td><td>group2</td></tr>\n",
       "<tr><td>2022-01-22</td><td>trx-629944850747</td><td>85505</td><td>James Williams</td><td>james.williams@ou...</td><td>7</td><td>5</td><td>7</td><td>Dress</td><td>Clothing</td><td>9</td><td>59.99</td><td>0.0</td><td>539.91</td><td>Credit Card</td><td>Christopher Miller</td><td>2020-01-11</td><td>Phoenix</td><td>2017-09-20</td><td>C</td><td>group2</td></tr>\n",
       "<tr><td>2022-11-04</td><td>trx-822288112723</td><td>85495</td><td>Mia Miller</td><td>mia.miller@gmail.com</td><td>7</td><td>4</td><td>12</td><td>Monitor</td><td>Electronics</td><td>9</td><td>299.99</td><td>0.0</td><td>2699.91</td><td>Credit Card</td><td>Christopher Miller</td><td>2020-01-11</td><td>Houston</td><td>2016-11-05</td><td>D</td><td>group2</td></tr>\n",
       "<tr><td>2022-01-02</td><td>trx-393548426433</td><td>85501</td><td>Sophia Smith</td><td>sophia.smith@yaho...</td><td>8</td><td>3</td><td>24</td><td>Blender</td><td>Appliances</td><td>2</td><td>49.99</td><td>0.25</td><td>74.985</td><td>Cash</td><td>Olivia Davis</td><td>2021-10-24</td><td>Chicago</td><td>2015-03-10</td><td>A</td><td>group2</td></tr>\n",
       "<tr><td>2023-04-23</td><td>trx-530508933482</td><td>85536</td><td>Sophia Jones</td><td>sophia.jones@hotm...</td><td>8</td><td>3</td><td>12</td><td>Monitor</td><td>Electronics</td><td>1</td><td>299.99</td><td>0.2</td><td>239.992</td><td>Cash</td><td>Olivia Davis</td><td>2021-10-24</td><td>Chicago</td><td>2015-03-10</td><td>A</td><td>group2</td></tr>\n",
       "<tr><td>2022-12-09</td><td>trx-676792172747</td><td>85550</td><td>Emma Wilson</td><td>emma.wilson@outlo...</td><td>6</td><td>3</td><td>5</td><td>T-Shirt</td><td>Clothing</td><td>7</td><td>19.99</td><td>0.0</td><td>139.93</td><td>Cash</td><td>Emma Taylor</td><td>2019-03-28</td><td>Chicago</td><td>2015-03-10</td><td>A</td><td>group2</td></tr>\n",
       "</table>\n",
       "only showing top 20 rows\n"
      ],
      "text/plain": [
       "+----------------+----------------+-----------+----------------+--------------------+--------------+---------+----------+---------------+----------------+-----+----------+--------+-----------+--------------+------------------+---------------------+---------------+---------------------+------------+------+\n",
       "|transaction_date|  transaction_id|customer_id|   customer_name|      customer_email|sales_agent_id|branch_id|product_id|   product_name|product_category|units|unit_price|discount|total_price|payment_method|  sales_agent_name|sales_agent_hire_date|branch_location|branch_establish_date|branch_class| group|\n",
       "+----------------+----------------+-----------+----------------+--------------------+--------------+---------+----------+---------------+----------------+-----+----------+--------+-----------+--------------+------------------+---------------------+---------------+---------------------+------------+------+\n",
       "|      2023-04-18|trx-301997428444|      85480|    Olivia Davis|olivia.davis@hotm...|             6|        4|        25|Washing Machine|      Appliances|    8|    499.99|    0.15|   3399.932|   Credit Card|       Emma Taylor|           2019-03-28|        Houston|           2016-11-05|           D|group2|\n",
       "|      2023-10-24|trx-661774073579|      85550|     Emma Wilson|emma.wilson@outlo...|             6|        4|         2|     Smartphone|     Electronics|    4|    699.99|     0.0|    2799.96|   Credit Card|       Emma Taylor|           2019-03-28|        Houston|           2016-11-05|           D|group2|\n",
       "|      2023-08-15|trx-182895486748|      85559| Alexander Moore|alexander.moore@h...|             5|        2|        10|        Sandals|        Footwear|    2|     39.99|     0.2|     63.984|   Credit Card|      David Wilson|           2021-04-08|    Los Angeles|           2016-07-28|           B|group2|\n",
       "|      2023-01-10|trx-799242150112|      85522| Sophia Williams|sophia.williams@o...|             8|        5|         7|          Dress|        Clothing|    4|     59.99|     0.1|    215.964|   Credit Card|      Olivia Davis|           2021-10-24|        Phoenix|           2017-09-20|           C|group2|\n",
       "|      2023-03-22|trx-707989318319|      85518|      Ava Taylor|ava.taylor@gmail.com|             4|        5|         8|       Sneakers|        Footwear|    8|     79.99|     0.0|     639.92|   Credit Card|       Emily Brown|           2020-10-25|        Phoenix|           2017-09-20|           C|group2|\n",
       "|      2023-07-19|trx-098609734580|      85553|    Mia Williams|mia.williams@hotm...|             1|        5|        15|         Hoodie|        Clothing|    1|     29.99|    0.05|      28.49|   Credit Card|          John Doe|           2020-06-03|        Phoenix|           2017-09-20|           C|group2|\n",
       "|      2023-06-18|trx-620712256942|      85487|    Olivia Smith|olivia.smith@hotm...|             2|        5|         9|          Boots|        Footwear|    8|    129.99|    0.05|    987.924|          Cash|        Jane Smith|           2018-05-13|        Phoenix|           2017-09-20|           C|group2|\n",
       "|      2022-12-12|trx-997075080204|      85484|    Olivia Brown|olivia.brown@hotm...|             5|        3|         3|         Tablet|     Electronics|    1|    299.99|     0.0|     299.99|   Credit Card|      David Wilson|           2021-04-08|        Chicago|           2015-03-10|           A|group2|\n",
       "|      2022-07-11|trx-776170009574|      85542|       Ava Davis| ava.davis@yahoo.com|             1|        4|        10|        Sandals|        Footwear|    6|     39.99|     0.0|     239.94|          Cash|          John Doe|           2020-06-03|        Houston|           2016-11-05|           D|group2|\n",
       "|      2022-06-28|trx-176960504329|      85526|    Sophia Smith|sophia.smith@hotm...|             7|        2|         1|         Laptop|     Electronics|    1|    999.99|     0.2|    799.992|          Cash|Christopher Miller|           2020-01-11|    Los Angeles|           2016-07-28|           B|group2|\n",
       "|      2022-05-23|trx-636477377180|      85523|   Michael Smith|michael.smith@yah...|             5|        5|        19|        Sandals|        Footwear|    8|     29.99|    0.05|    227.924|   Credit Card|      David Wilson|           2021-04-08|        Phoenix|           2017-09-20|           C|group2|\n",
       "|      2022-02-27|trx-014495037269|      85471|Alexander Miller|alexander.miller@...|             2|        4|        19|        Sandals|        Footwear|    2|     29.99|     0.0|      59.98|   Credit Card|        Jane Smith|           2018-05-13|        Houston|           2016-11-05|           D|group2|\n",
       "|      2022-07-26|trx-417116121593|      85547|      Ava Taylor|ava.taylor@gmail.com|             2|        4|         9|          Boots|        Footwear|   10|    129.99|    0.25|    974.925|          Cash|        Jane Smith|           2018-05-13|        Houston|           2016-11-05|           D|group2|\n",
       "|      2022-09-08|trx-929466364078|      85470|     John Taylor|john.taylor@yahoo...|             6|        2|        26| Vacuum Cleaner|      Appliances|    2|    199.99|     0.0|     399.98|          Cash|       Emma Taylor|           2019-03-28|    Los Angeles|           2016-07-28|           B|group2|\n",
       "|      2022-05-15|trx-836284722829|      85523|   Michael Smith|michael.smith@yah...|             6|        4|        30|Electric Kettle|      Appliances|    2|     24.99|     0.1|     44.982|   Credit Card|       Emma Taylor|           2019-03-28|        Houston|           2016-11-05|           D|group2|\n",
       "|      2022-01-22|trx-629944850747|      85505|  James Williams|james.williams@ou...|             7|        5|         7|          Dress|        Clothing|    9|     59.99|     0.0|     539.91|   Credit Card|Christopher Miller|           2020-01-11|        Phoenix|           2017-09-20|           C|group2|\n",
       "|      2022-11-04|trx-822288112723|      85495|      Mia Miller|mia.miller@gmail.com|             7|        4|        12|        Monitor|     Electronics|    9|    299.99|     0.0|    2699.91|   Credit Card|Christopher Miller|           2020-01-11|        Houston|           2016-11-05|           D|group2|\n",
       "|      2022-01-02|trx-393548426433|      85501|    Sophia Smith|sophia.smith@yaho...|             8|        3|        24|        Blender|      Appliances|    2|     49.99|    0.25|     74.985|          Cash|      Olivia Davis|           2021-10-24|        Chicago|           2015-03-10|           A|group2|\n",
       "|      2023-04-23|trx-530508933482|      85536|    Sophia Jones|sophia.jones@hotm...|             8|        3|        12|        Monitor|     Electronics|    1|    299.99|     0.2|    239.992|          Cash|      Olivia Davis|           2021-10-24|        Chicago|           2015-03-10|           A|group2|\n",
       "|      2022-12-09|trx-676792172747|      85550|     Emma Wilson|emma.wilson@outlo...|             6|        3|         5|        T-Shirt|        Clothing|    7|     19.99|     0.0|     139.93|          Cash|       Emma Taylor|           2019-03-28|        Chicago|           2015-03-10|           A|group2|\n",
       "+----------------+----------------+-----------+----------------+--------------------+--------------+---------+----------+---------------+----------------+-----+----------+--------+-----------+--------------+------------------+---------------------+---------------+---------------------+------------+------+\n",
       "only showing top 20 rows"
      ]
     },
     "execution_count": 175,
     "metadata": {},
     "output_type": "execute_result"
    }
   ],
   "source": [
    "df_splits['offline'].select(Schemas.offline_transactions.fieldNames())"
   ]
  },
  {
   "cell_type": "code",
   "execution_count": 207,
   "id": "1a303fe2-38af-4dfd-b551-6edb75813026",
   "metadata": {},
   "outputs": [],
   "source": [
    "dq_layer = DataQualityLayer(spark)"
   ]
  },
  {
   "cell_type": "code",
   "execution_count": 208,
   "id": "0f30a1fd-2bc4-4f1d-91b8-823542332dce",
   "metadata": {
    "tags": []
   },
   "outputs": [],
   "source": [
    "transformed_df = dq_layer.apply_common_transformations(raw_df)"
   ]
  },
  {
   "cell_type": "code",
   "execution_count": 209,
   "id": "956e1f13-c9a4-4940-885e-72800fa0cd43",
   "metadata": {
    "collapsed": true,
    "jupyter": {
     "outputs_hidden": true
    },
    "tags": []
   },
   "outputs": [
    {
     "name": "stdout",
     "output_type": "stream",
     "text": [
      "-RECORD 0---------------------------------------------------------\n",
      " transaction_date      | 2022-2-26                                \n",
      " transaction_id        | trx-100226527334                         \n",
      " customer_id           | 85523                                    \n",
      " customer_email        | michael.smith@yahoo.com                  \n",
      " sales_agent_id        | null                                     \n",
      " branch_id             | null                                     \n",
      " product_id            | 9                                        \n",
      " product_name          | Boots                                    \n",
      " product_category      | Footwear                                 \n",
      " units                 | 4                                        \n",
      " unit_price            | 129.99                                   \n",
      " is_online             | yes                                      \n",
      " payment_method        | PayPal                                   \n",
      " shipping_address      | 6717 North 59th Avenue/Glendale/AZ/85301 \n",
      " sales_agent_name      | null                                     \n",
      " sales_agent_hire_date | null                                     \n",
      " branch_location       | null                                     \n",
      " branch_establish_date | null                                     \n",
      " branch_class          | null                                     \n",
      " group                 | group2                                   \n",
      " discount              | 0.25                                     \n",
      " customer_name         | Michael Smith                            \n",
      " total_price           | 389.97                                   \n",
      "-RECORD 1---------------------------------------------------------\n",
      " transaction_date      | 2023-4-7                                 \n",
      " transaction_id        | trx-366002476938                         \n",
      " customer_id           | 85487                                    \n",
      " customer_email        | olivia.smith@hotmail.com                 \n",
      " sales_agent_id        | 5.0                                      \n",
      " branch_id             | 3.0                                      \n",
      " product_id            | 16                                       \n",
      " product_name          | Skirt                                    \n",
      " product_category      | Clothing                                 \n",
      " units                 | 2                                        \n",
      " unit_price            | 39.99                                    \n",
      " is_online             | no                                       \n",
      " payment_method        | Cash                                     \n",
      " shipping_address      | null                                     \n",
      " sales_agent_name      | David Wilson                             \n",
      " sales_agent_hire_date | 2021-4-8                                 \n",
      " branch_location       | Chicago                                  \n",
      " branch_establish_date | 2015-03-10                               \n",
      " branch_class          | A                                        \n",
      " group                 | group2                                   \n",
      " discount              | 0.25                                     \n",
      " customer_name         | Olivia Smith                             \n",
      " total_price           | 59.985                                   \n",
      "-RECORD 2---------------------------------------------------------\n",
      " transaction_date      | 2023-11-24                               \n",
      " transaction_id        | trx-343713769120                         \n",
      " customer_id           | 85537                                    \n",
      " customer_email        | michael.brown@yahoo.com                  \n",
      " sales_agent_id        | 6.0                                      \n",
      " branch_id             | 3.0                                      \n",
      " product_id            | 18                                       \n",
      " product_name          | Boots                                    \n",
      " product_category      | Footwear                                 \n",
      " units                 | 5                                        \n",
      " unit_price            | 149.99                                   \n",
      " is_online             | no                                       \n",
      " payment_method        | Credit Card                              \n",
      " shipping_address      | null                                     \n",
      " sales_agent_name      | Emma Taylor                              \n",
      " sales_agent_hire_date | 2019-3-28                                \n",
      " branch_location       | Chicago                                  \n",
      " branch_establish_date | 2015-03-10                               \n",
      " branch_class          | A                                        \n",
      " group                 | group2                                   \n",
      " discount              | 0.0                                      \n",
      " customer_name         | Michael Brown                            \n",
      " total_price           | 749.95                                   \n",
      "only showing top 3 rows\n",
      "\n"
     ]
    }
   ],
   "source": [
    "transformed_df.show(3, False, True)"
   ]
  },
  {
   "cell_type": "code",
   "execution_count": 96,
   "id": "5db7e949-e1c8-443c-8abf-5b7dbdc8785a",
   "metadata": {
    "collapsed": true,
    "jupyter": {
     "outputs_hidden": true
    },
    "tags": []
   },
   "outputs": [
    {
     "name": "stdout",
     "output_type": "stream",
     "text": [
      "root\n",
      " |-- transaction_date: string (nullable = true)\n",
      " |-- transaction_id: string (nullable = true)\n",
      " |-- customer_id: string (nullable = true)\n",
      " |-- customer_email: string (nullable = true)\n",
      " |-- sales_agent_id: string (nullable = true)\n",
      " |-- branch_id: string (nullable = true)\n",
      " |-- product_id: string (nullable = true)\n",
      " |-- product_name: string (nullable = true)\n",
      " |-- product_category: string (nullable = true)\n",
      " |-- units: string (nullable = true)\n",
      " |-- unit_price: string (nullable = true)\n",
      " |-- is_online: string (nullable = true)\n",
      " |-- payment_method: string (nullable = true)\n",
      " |-- shipping_address: string (nullable = true)\n",
      " |-- sales_agent_name: string (nullable = true)\n",
      " |-- sales_agent_hire_date: string (nullable = true)\n",
      " |-- branch_location: string (nullable = true)\n",
      " |-- branch_establish_date: string (nullable = true)\n",
      " |-- branch_class: string (nullable = true)\n",
      " |-- group: string (nullable = true)\n",
      " |-- discount: float (nullable = false)\n",
      " |-- customer_name: string (nullable = true)\n",
      "\n"
     ]
    }
   ],
   "source": [
    "transformed_df.printSchema()"
   ]
  },
  {
   "cell_type": "code",
   "execution_count": 219,
   "id": "88fdee59-0931-4a1d-8dee-5029f1692179",
   "metadata": {},
   "outputs": [],
   "source": [
    "split_dfs = dq_layer.split_online_offline(transformed_df)"
   ]
  },
  {
   "cell_type": "code",
   "execution_count": 220,
   "id": "1749d35e-73be-4aa8-8e35-4227cdd3419b",
   "metadata": {
    "collapsed": true,
    "jupyter": {
     "outputs_hidden": true
    },
    "tags": []
   },
   "outputs": [
    {
     "name": "stdout",
     "output_type": "stream",
     "text": [
      "-RECORD 0-----------------------------------------------------------\n",
      " transaction_date      | 2022-12-10                                 \n",
      " transaction_id        | trx-514265914599                           \n",
      " customer_id           | 85536                                      \n",
      " customer_email        | sophia.jones@hotmail.com                   \n",
      " sales_agent_id        | null                                       \n",
      " branch_id             | null                                       \n",
      " product_id            | 23                                         \n",
      " product_name          | Toaster                                    \n",
      " product_category      | Appliances                                 \n",
      " units                 | 2                                          \n",
      " unit_price            | 39.99                                      \n",
      " payment_method        | PayPal                                     \n",
      " shipping_address      | 435 Benita Drive/Nashville/TN/37211        \n",
      " sales_agent_name      | null                                       \n",
      " sales_agent_hire_date | null                                       \n",
      " branch_location       | null                                       \n",
      " branch_establish_date | null                                       \n",
      " branch_class          | null                                       \n",
      " group                 | group2                                     \n",
      " discount              | 0.05                                       \n",
      " customer_name         | Sophia Jones                               \n",
      " total_price           | 75.981                                     \n",
      "-RECORD 1-----------------------------------------------------------\n",
      " transaction_date      | 2022-3-22                                  \n",
      " transaction_id        | trx-462457335449                           \n",
      " customer_id           | 85498                                      \n",
      " customer_email        | olivia.brown@outlook.com                   \n",
      " sales_agent_id        | null                                       \n",
      " branch_id             | null                                       \n",
      " product_id            | 22                                         \n",
      " product_name          | Coffee Maker                               \n",
      " product_category      | Appliances                                 \n",
      " units                 | 4                                          \n",
      " unit_price            | 79.99                                      \n",
      " payment_method        | Credit Card                                \n",
      " shipping_address      | 7785 Montgomery Mews Court/Severn/MD/21144 \n",
      " sales_agent_name      | null                                       \n",
      " sales_agent_hire_date | null                                       \n",
      " branch_location       | null                                       \n",
      " branch_establish_date | null                                       \n",
      " branch_class          | null                                       \n",
      " group                 | group2                                     \n",
      " discount              | 0.2                                        \n",
      " customer_name         | Olivia Brown                               \n",
      " total_price           | 255.968                                    \n",
      "only showing top 2 rows\n",
      "\n"
     ]
    }
   ],
   "source": [
    "split_dfs['online'].show(2, False, True)"
   ]
  },
  {
   "cell_type": "code",
   "execution_count": 212,
   "id": "39bf03cd-fe1b-48d3-a045-5c46a0a6341b",
   "metadata": {
    "collapsed": true,
    "jupyter": {
     "outputs_hidden": true
    },
    "tags": []
   },
   "outputs": [
    {
     "name": "stdout",
     "output_type": "stream",
     "text": [
      "-RECORD 0--------------------------------------\n",
      " transaction_date      | 2023-10-14            \n",
      " transaction_id        | trx-818345757550      \n",
      " customer_id           | 85467                 \n",
      " customer_email        | emma.miller@yahoo.com \n",
      " sales_agent_id        | 10.0                  \n",
      " branch_id             | 2.0                   \n",
      " product_id            | 14                    \n",
      " product_name          | Camera                \n",
      " product_category      | Electronics           \n",
      " units                 | 5                     \n",
      " unit_price            | 399.99                \n",
      " payment_method        | Credit Card           \n",
      " shipping_address      | null                  \n",
      " sales_agent_name      | Sophia Moore          \n",
      " sales_agent_hire_date | 2019-5-25             \n",
      " branch_location       | Los Angeles           \n",
      " branch_establish_date | 2016-07-28            \n",
      " branch_class          | B                     \n",
      " group                 | group2                \n",
      " discount              | 0.2                   \n",
      " customer_name         | Emma Miller           \n",
      " total_price           | 1599.96               \n",
      "-RECORD 1--------------------------------------\n",
      " transaction_date      | 2023-9-27             \n",
      " transaction_id        | trx-167765930126      \n",
      " customer_id           | 85474                 \n",
      " customer_email        | emma.wilson@gmail.com \n",
      " sales_agent_id        | 4.0                   \n",
      " branch_id             | 4.0                   \n",
      " product_id            | 16                    \n",
      " product_name          | Skirt                 \n",
      " product_category      | Clothing              \n",
      " units                 | 2                     \n",
      " unit_price            | 39.99                 \n",
      " payment_method        | Credit Card           \n",
      " shipping_address      | null                  \n",
      " sales_agent_name      | Emily Brown           \n",
      " sales_agent_hire_date | 2020-10-25            \n",
      " branch_location       | Houston               \n",
      " branch_establish_date | 2016-11-05            \n",
      " branch_class          | D                     \n",
      " group                 | group2                \n",
      " discount              | 0.0                   \n",
      " customer_name         | Emma Wilson           \n",
      " total_price           | 79.98                 \n",
      "only showing top 2 rows\n",
      "\n"
     ]
    }
   ],
   "source": [
    "split_dfs['offline'].show(2, False, True)"
   ]
  },
  {
   "cell_type": "code",
   "execution_count": 80,
   "id": "21783147-4208-4890-8a66-013cad279e12",
   "metadata": {},
   "outputs": [
    {
     "name": "stdout",
     "output_type": "stream",
     "text": [
      "group6\n"
     ]
    }
   ],
   "source": [
    "try:\n",
    "    first_group = split_dfs['online'].select(\"group\").filter(\"group is not null\").first()[0]\n",
    "    result_string = str(first_group)\n",
    "    print(result_string)\n",
    "except Exception as e:\n",
    "    print(f\"An error occurred: {str(e)}\")\n",
    "    result_string = None"
   ]
  },
  {
   "cell_type": "code",
   "execution_count": 221,
   "id": "7f9f8b04-f7ed-41f4-a039-3e3b32cdba0f",
   "metadata": {
    "collapsed": true,
    "jupyter": {
     "outputs_hidden": true
    },
    "tags": []
   },
   "outputs": [
    {
     "name": "stdout",
     "output_type": "stream",
     "text": [
      "Created directory: /user/itversity/q-company_standardized_layer/standardized_sales_transaction_2024-07-10\n",
      "Written online transactions for group group2 to /user/itversity/q-company_standardized_layer/standardized_sales_transaction_2024-07-10/online_transactions_group2_20240710214406\n",
      "Directory already exists: /user/itversity/q-company_standardized_layer/standardized_sales_transaction_2024-07-10\n",
      "Written offline transactions for group group2 to /user/itversity/q-company_standardized_layer/standardized_sales_transaction_2024-07-10/offline_transactions_group2_20240710214459\n"
     ]
    }
   ],
   "source": [
    "for df_type, df in split_dfs.items():\n",
    "        if df_type == \"offline\":\n",
    "            df = dq_layer.apply_offline_transformations(df)\n",
    "            df = df.select(Schemas.offline_transactions.fieldNames())\n",
    "        else:  # online\n",
    "            df = dq_layer.apply_online_transformations(df)\n",
    "            df = df.select(Schemas.online_transactions.fieldNames())\n",
    "        \n",
    "        \n",
    "        DataWriter.write_parquet(spark, df, Config.STANDARDIZED_BASE_PATH, df_type, [\"transaction_date\"])\n",
    "        "
   ]
  },
  {
   "cell_type": "code",
   "execution_count": 214,
   "id": "a52a3216-3273-478a-bf4c-f03a60aed7b7",
   "metadata": {
    "collapsed": true,
    "jupyter": {
     "outputs_hidden": true
    },
    "tags": []
   },
   "outputs": [
    {
     "name": "stdout",
     "output_type": "stream",
     "text": [
      "-RECORD 0--------------------------------------\n",
      " transaction_date      | 2023-10-14            \n",
      " transaction_id        | trx-818345757550      \n",
      " customer_id           | 85467                 \n",
      " customer_email        | emma.miller@yahoo.com \n",
      " sales_agent_id        | 10.0                  \n",
      " branch_id             | 2.0                   \n",
      " product_id            | 14                    \n",
      " product_name          | Camera                \n",
      " product_category      | Electronics           \n",
      " units                 | 5                     \n",
      " unit_price            | 399.99                \n",
      " payment_method        | Credit Card           \n",
      " shipping_address      | null                  \n",
      " sales_agent_name      | Sophia Moore          \n",
      " sales_agent_hire_date | 2019-5-25             \n",
      " branch_location       | Los Angeles           \n",
      " branch_establish_date | 2016-07-28            \n",
      " branch_class          | B                     \n",
      " group                 | group2                \n",
      " discount              | 0.2                   \n",
      " customer_name         | Emma Miller           \n",
      " total_price           | 1599.96               \n",
      "-RECORD 1--------------------------------------\n",
      " transaction_date      | 2023-9-27             \n",
      " transaction_id        | trx-167765930126      \n",
      " customer_id           | 85474                 \n",
      " customer_email        | emma.wilson@gmail.com \n",
      " sales_agent_id        | 4.0                   \n",
      " branch_id             | 4.0                   \n",
      " product_id            | 16                    \n",
      " product_name          | Skirt                 \n",
      " product_category      | Clothing              \n",
      " units                 | 2                     \n",
      " unit_price            | 39.99                 \n",
      " payment_method        | Credit Card           \n",
      " shipping_address      | null                  \n",
      " sales_agent_name      | Emily Brown           \n",
      " sales_agent_hire_date | 2020-10-25            \n",
      " branch_location       | Houston               \n",
      " branch_establish_date | 2016-11-05            \n",
      " branch_class          | D                     \n",
      " group                 | group2                \n",
      " discount              | 0.0                   \n",
      " customer_name         | Emma Wilson           \n",
      " total_price           | 79.98                 \n",
      "only showing top 2 rows\n",
      "\n"
     ]
    }
   ],
   "source": [
    "split_dfs['offline'].show(2, False, True)"
   ]
  },
  {
   "cell_type": "code",
   "execution_count": 215,
   "id": "e597b310-b60e-4a55-bdba-21d18f9b316c",
   "metadata": {
    "collapsed": true,
    "jupyter": {
     "outputs_hidden": true
    },
    "tags": []
   },
   "outputs": [
    {
     "name": "stdout",
     "output_type": "stream",
     "text": [
      "-RECORD 0-----------------------------------------------------------\n",
      " transaction_date      | 2022-12-10                                 \n",
      " transaction_id        | trx-514265914599                           \n",
      " customer_id           | 85536                                      \n",
      " customer_email        | sophia.jones@hotmail.com                   \n",
      " sales_agent_id        | null                                       \n",
      " branch_id             | null                                       \n",
      " product_id            | 23                                         \n",
      " product_name          | Toaster                                    \n",
      " product_category      | Appliances                                 \n",
      " units                 | 2                                          \n",
      " unit_price            | 39.99                                      \n",
      " payment_method        | PayPal                                     \n",
      " shipping_address      | 435 Benita Drive/Nashville/TN/37211        \n",
      " sales_agent_name      | null                                       \n",
      " sales_agent_hire_date | null                                       \n",
      " branch_location       | null                                       \n",
      " branch_establish_date | null                                       \n",
      " branch_class          | null                                       \n",
      " group                 | group2                                     \n",
      " discount              | 0.05                                       \n",
      " customer_name         | Sophia Jones                               \n",
      " total_price           | 75.981                                     \n",
      "-RECORD 1-----------------------------------------------------------\n",
      " transaction_date      | 2022-3-22                                  \n",
      " transaction_id        | trx-462457335449                           \n",
      " customer_id           | 85498                                      \n",
      " customer_email        | olivia.brown@outlook.com                   \n",
      " sales_agent_id        | null                                       \n",
      " branch_id             | null                                       \n",
      " product_id            | 22                                         \n",
      " product_name          | Coffee Maker                               \n",
      " product_category      | Appliances                                 \n",
      " units                 | 4                                          \n",
      " unit_price            | 79.99                                      \n",
      " payment_method        | Credit Card                                \n",
      " shipping_address      | 7785 Montgomery Mews Court/Severn/MD/21144 \n",
      " sales_agent_name      | null                                       \n",
      " sales_agent_hire_date | null                                       \n",
      " branch_location       | null                                       \n",
      " branch_establish_date | null                                       \n",
      " branch_class          | null                                       \n",
      " group                 | group2                                     \n",
      " discount              | 0.2                                        \n",
      " customer_name         | Olivia Brown                               \n",
      " total_price           | 255.968                                    \n",
      "only showing top 2 rows\n",
      "\n"
     ]
    }
   ],
   "source": [
    "split_dfs['online'].show(2, False, True)"
   ]
  },
  {
   "cell_type": "code",
   "execution_count": 222,
   "id": "2767d615-efae-41f2-92b4-fc9d338d1762",
   "metadata": {},
   "outputs": [],
   "source": [
    "spark.stop()"
   ]
  },
  {
   "cell_type": "code",
   "execution_count": null,
   "id": "f239a4cb-25d8-44b5-b76a-e9571306c6d8",
   "metadata": {},
   "outputs": [],
   "source": []
  }
 ],
 "metadata": {
  "kernelspec": {
   "display_name": "Pyspark 2",
   "language": "python",
   "name": "pyspark2"
  },
  "language_info": {
   "codemirror_mode": {
    "name": "ipython",
    "version": 3
   },
   "file_extension": ".py",
   "mimetype": "text/x-python",
   "name": "python",
   "nbconvert_exporter": "python",
   "pygments_lexer": "ipython3",
   "version": "3.6.9"
  }
 },
 "nbformat": 4,
 "nbformat_minor": 5
}
